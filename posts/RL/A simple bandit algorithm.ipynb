{
 "cells": [
  {
   "cell_type": "raw",
   "metadata": {},
   "source": [
    "---\n",
    "title: \"Untitled\"\n",
    "format: html\n",
    "---"
   ]
  },
  {
   "cell_type": "code",
   "execution_count": 308,
   "metadata": {},
   "outputs": [],
   "source": [
    "import numpy as np\n",
    "from scipy.stats import bernoulli,norm\n",
    "import random"
   ]
  },
  {
   "cell_type": "code",
   "execution_count": 309,
   "metadata": {},
   "outputs": [],
   "source": [
    "def argmax(q_func):\n",
    "    q_max = max(q_func.values())\n",
    "    max_actions = []\n",
    "    for action in q_func.keys():\n",
    "        if q_func[action] == q_max:\n",
    "            max_actions.append(action)\n",
    "    argmax_q = random.sample(max_actions,1)\n",
    "    return argmax_q[0]"
   ]
  },
  {
   "cell_type": "code",
   "execution_count": 310,
   "metadata": {},
   "outputs": [],
   "source": [
    "def bandit(q_star):\n",
    "    #각 bandit에 해당하는 정규분포에서 샘플하나 가져오기\n",
    "    sampled_reward = norm.rvs(loc=q_star,scale=1,size=1)\n",
    "    return sampled_reward[0]"
   ]
  },
  {
   "cell_type": "code",
   "execution_count": 311,
   "metadata": {},
   "outputs": [],
   "source": [
    "def simple_bandit(num_actions, #action의 갯수\n",
    "                  epsilon,     #greedy하게 안 움직일 확률\n",
    "                  q_stars, #각 action(k개의 bandit)에 대한 reward의 (정규)분포의 mean\n",
    "                  terminate_cond\n",
    "                  ):\n",
    "    if num_actions != len(q_stars):\n",
    "        print(\"action의 갯수와 bandit_mean의 갯수는 같아야 함\")\n",
    "        return \n",
    "    Q = {}\n",
    "    n = {}\n",
    "\n",
    "    #Initialize,for a=1 to k\n",
    "    for i in range(1,num_actions+1):\n",
    "        Q[i] = 0\n",
    "        n[i] = 0\n",
    "    \n",
    "    #set probability,reward distribution(bandit)\n",
    "    max_prob = 1-epsilon\n",
    "\n",
    "    #epsilon-greedy action\n",
    "    while True:\n",
    "\n",
    "        #epsilon-greedy action\n",
    "        #1.greedy action? or random action?\n",
    "        greedy_or_random = bernoulli.rvs(p=max_prob,size=1)\n",
    "        #2.select action\n",
    "        if greedy_or_random == 1: \n",
    "            action = argmax(Q)\n",
    "        else:\n",
    "            action = random.sample(Q.keys(),1)[0]\n",
    "\n",
    "        #sampling reward from gaussian(mean = q_star,variance = 1)\n",
    "        q_star = q_stars[action-1]\n",
    "        reward = bandit(q_star) #sampling\n",
    "\n",
    "        #incremental Q-update\n",
    "        n[action] +=1\n",
    "        Q[action] = Q[action] + (1/n[action]) * (reward - Q[action])\n",
    "\n",
    "        #Terminating\n",
    "        if np.max(q_stars - np.array(list(Q.values()))) <= terminate_cond:\n",
    "            break\n",
    "    return n,Q"
   ]
  },
  {
   "cell_type": "code",
   "execution_count": 312,
   "metadata": {},
   "outputs": [
    {
     "name": "stderr",
     "output_type": "stream",
     "text": [
      "C:\\Users\\22668\\AppData\\Local\\Temp\\ipykernel_5296\\2459308436.py:30: DeprecationWarning: Sampling from a set deprecated\n",
      "since Python 3.9 and will be removed in a subsequent version.\n",
      "  action = random.sample(Q.keys(),1)[0]\n"
     ]
    },
    {
     "name": "stdout",
     "output_type": "stream",
     "text": [
      "action : 1\n",
      "taken_num 7710\n",
      "q_star : 1.0622402967553395\n",
      "Q_estimated 1.0780006731009761\n",
      "=============================================\n",
      "action : 2\n",
      "taken_num 7750\n",
      "q_star : -0.04393405775378968\n",
      "Q_estimated -0.0464016778867334\n",
      "=============================================\n",
      "action : 3\n",
      "taken_num 7688\n",
      "q_star : -0.2977471187595547\n",
      "Q_estimated -0.28941229886239545\n",
      "=============================================\n",
      "action : 4\n",
      "taken_num 7766\n",
      "q_star : -0.6942140347822109\n",
      "Q_estimated -0.6957038264269383\n",
      "=============================================\n",
      "action : 5\n",
      "taken_num 702767\n",
      "q_star : 1.114864011478195\n",
      "Q_estimated 1.1163009140188438\n",
      "=============================================\n",
      "action : 6\n",
      "taken_num 7695\n",
      "q_star : -2.0791842661153535\n",
      "Q_estimated -2.0891168451782134\n",
      "=============================================\n",
      "action : 7\n",
      "taken_num 7704\n",
      "q_star : -1.204190113360393\n",
      "Q_estimated -1.2086679112146015\n",
      "=============================================\n",
      "action : 8\n",
      "taken_num 7754\n",
      "q_star : 0.9093721477182354\n",
      "Q_estimated 0.908951189305117\n",
      "=============================================\n",
      "action : 9\n",
      "taken_num 7658\n",
      "q_star : 0.0790709385366291\n",
      "Q_estimated 0.08704136534792037\n",
      "=============================================\n",
      "action : 10\n",
      "taken_num 7736\n",
      "q_star : -0.06424396205536466\n",
      "Q_estimated -0.05355515687875377\n",
      "=============================================\n"
     ]
    }
   ],
   "source": [
    "num_actions=10\n",
    "q_stars = norm.rvs(loc=0,scale=1,size=num_actions)\n",
    "num_action,Q_estimated = simple_bandit(num_actions=num_actions,epsilon=0.1,q_stars=q_stars,terminate_cond=0.01)\n",
    "for i in range(1,num_actions+1):\n",
    "    print(\"action :\",i)    \n",
    "    print(\"taken_num\",num_action[i])\n",
    "    print(\"q_star :\",q_stars[i-1])\n",
    "    print(\"Q_estimated\",Q_estimated[i]) \n",
    "    print(\"=============================================\")"
   ]
  }
 ],
 "metadata": {
  "kernelspec": {
   "display_name": "base",
   "language": "python",
   "name": "python3"
  },
  "language_info": {
   "codemirror_mode": {
    "name": "ipython",
    "version": 3
   },
   "file_extension": ".py",
   "mimetype": "text/x-python",
   "name": "python",
   "nbconvert_exporter": "python",
   "pygments_lexer": "ipython3",
   "version": "3.9.13"
  },
  "orig_nbformat": 4
 },
 "nbformat": 4,
 "nbformat_minor": 2
}
