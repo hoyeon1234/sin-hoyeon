{
 "cells": [
  {
   "cell_type": "code",
   "execution_count": 5,
   "id": "fc4b5a0d",
   "metadata": {},
   "outputs": [
    {
     "name": "stderr",
     "output_type": "stream",
     "text": [
      "  1%|▉                                                                                 | 6/500 [00:00<00:09, 52.07it/s]"
     ]
    },
    {
     "name": "stdout",
     "output_type": "stream",
     "text": [
      "info :  {}\n",
      "info :  {}\n",
      "info :  {}\n",
      "info :  {}\n",
      "info :  {}\n",
      "info :  {}\n",
      "info :  {}\n",
      "info :  {}\n",
      "info :  {}\n"
     ]
    },
    {
     "name": "stderr",
     "output_type": "stream",
     "text": [
      "  3%|██▊                                                                              | 17/500 [00:00<00:10, 46.44it/s]"
     ]
    },
    {
     "name": "stdout",
     "output_type": "stream",
     "text": [
      "info :  {}\n",
      "info :  {}\n",
      "info :  {}\n",
      "info :  {}\n",
      "info :  {}\n",
      "info :  {}\n",
      "info :  {}\n",
      "info :  {}\n",
      "info :  {}\n"
     ]
    },
    {
     "name": "stderr",
     "output_type": "stream",
     "text": [
      "  5%|████▎                                                                            | 27/500 [00:00<00:10, 44.66it/s]"
     ]
    },
    {
     "name": "stdout",
     "output_type": "stream",
     "text": [
      "info :  {}\n",
      "info :  {}\n",
      "info :  {}\n",
      "info :  {}\n",
      "info :  {}\n",
      "info :  {}\n",
      "info :  {}\n",
      "info :  {}\n",
      "info :  {}\n"
     ]
    },
    {
     "name": "stderr",
     "output_type": "stream",
     "text": [
      "\r",
      "  7%|█████▎                                                                           | 33/500 [00:00<00:10, 46.48it/s]"
     ]
    },
    {
     "name": "stdout",
     "output_type": "stream",
     "text": [
      "info :  {}\n",
      "info :  {}\n",
      "info :  {}\n",
      "info :  {}\n",
      "info :  {}\n",
      "info :  {}\n",
      "info :  {}\n",
      "info :  {}\n",
      "info :  {}\n"
     ]
    },
    {
     "name": "stderr",
     "output_type": "stream",
     "text": [
      "  9%|██████▉                                                                          | 43/500 [00:00<00:10, 44.90it/s]"
     ]
    },
    {
     "name": "stdout",
     "output_type": "stream",
     "text": [
      "info :  {}\n",
      "info :  {}\n",
      "info :  {}\n",
      "info :  {}\n",
      "info :  {}\n",
      "info :  {}\n",
      "info :  {}\n",
      "info :  {}\n",
      "info :  {}\n"
     ]
    },
    {
     "name": "stderr",
     "output_type": "stream",
     "text": [
      " 11%|████████▌                                                                        | 53/500 [00:01<00:10, 44.08it/s]"
     ]
    },
    {
     "name": "stdout",
     "output_type": "stream",
     "text": [
      "info :  {}\n",
      "info :  {}\n",
      "info :  {}\n",
      "info :  {}\n",
      "info :  {}\n",
      "info :  {}\n",
      "info :  {}\n",
      "info :  {}\n",
      "info :  {}\n"
     ]
    },
    {
     "name": "stderr",
     "output_type": "stream",
     "text": [
      " 13%|██████████▏                                                                      | 63/500 [00:01<00:09, 46.25it/s]"
     ]
    },
    {
     "name": "stdout",
     "output_type": "stream",
     "text": [
      "info :  {}\n",
      "info :  {}\n",
      "info :  {}\n",
      "info :  {}\n",
      "info :  {}\n",
      "info :  {}\n",
      "info :  {}\n",
      "info :  {}\n",
      "info :  {}\n",
      "info :  {}\n"
     ]
    },
    {
     "name": "stderr",
     "output_type": "stream",
     "text": [
      " 15%|███████████▊                                                                     | 73/500 [00:01<00:08, 47.73it/s]"
     ]
    },
    {
     "name": "stdout",
     "output_type": "stream",
     "text": [
      "info :  {}\n",
      "info :  {}\n",
      "info :  {}\n",
      "info :  {}\n",
      "info :  {}\n",
      "info :  {}\n",
      "info :  {}\n",
      "info :  {}\n",
      "info :  {}\n",
      "info :  {}\n",
      "info :  {}\n"
     ]
    },
    {
     "name": "stderr",
     "output_type": "stream",
     "text": [
      " 17%|█████████████▍                                                                   | 83/500 [00:01<00:08, 48.28it/s]"
     ]
    },
    {
     "name": "stdout",
     "output_type": "stream",
     "text": [
      "info :  {}\n",
      "info :  {}\n",
      "info :  {}\n",
      "info :  {}\n",
      "info :  {}\n",
      "info :  {}\n",
      "info :  {}\n",
      "info :  {}\n",
      "info :  {}\n",
      "info :  {}\n"
     ]
    },
    {
     "name": "stderr",
     "output_type": "stream",
     "text": [
      " 19%|███████████████                                                                  | 93/500 [00:02<00:08, 46.59it/s]"
     ]
    },
    {
     "name": "stdout",
     "output_type": "stream",
     "text": [
      "info :  {}\n",
      "info :  {}\n",
      "info :  {}\n",
      "info :  {}\n",
      "info :  {}\n",
      "info :  {}\n",
      "info :  {}\n",
      "info :  {}\n",
      "info :  {}\n",
      "info :  {}\n"
     ]
    },
    {
     "name": "stderr",
     "output_type": "stream",
     "text": [
      " 21%|████████████████▍                                                               | 103/500 [00:02<00:08, 47.71it/s]"
     ]
    },
    {
     "name": "stdout",
     "output_type": "stream",
     "text": [
      "info :  {}\n",
      "info :  {}\n",
      "info :  {}\n",
      "info :  {}\n",
      "info :  {}\n",
      "info :  {}\n",
      "info :  {}\n",
      "info :  {}\n",
      "info :  {}\n",
      "info :  {}\n"
     ]
    },
    {
     "name": "stderr",
     "output_type": "stream",
     "text": [
      " 23%|██████████████████                                                              | 113/500 [00:02<00:08, 44.73it/s]"
     ]
    },
    {
     "name": "stdout",
     "output_type": "stream",
     "text": [
      "info :  {}\n",
      "info :  {}\n",
      "info :  {}\n",
      "info :  {}\n",
      "info :  {}\n",
      "info :  {}\n",
      "info :  {}\n",
      "info :  {}\n",
      "info :  {}\n"
     ]
    },
    {
     "name": "stderr",
     "output_type": "stream",
     "text": [
      " 25%|███████████████████▋                                                            | 123/500 [00:02<00:08, 46.51it/s]"
     ]
    },
    {
     "name": "stdout",
     "output_type": "stream",
     "text": [
      "info :  {}\n",
      "info :  {}\n",
      "info :  {}\n",
      "info :  {}\n",
      "info :  {}\n",
      "info :  {}\n",
      "info :  {}\n",
      "info :  {}\n",
      "info :  {}\n",
      "info :  {}\n"
     ]
    },
    {
     "name": "stderr",
     "output_type": "stream",
     "text": [
      " 27%|█████████████████████▎                                                          | 133/500 [00:02<00:08, 45.12it/s]"
     ]
    },
    {
     "name": "stdout",
     "output_type": "stream",
     "text": [
      "info :  {}\n",
      "info :  {}\n",
      "info :  {}\n",
      "info :  {}\n",
      "info :  {}\n",
      "info :  {}\n",
      "info :  {}\n",
      "info :  {}\n",
      "info :  {}\n"
     ]
    },
    {
     "name": "stderr",
     "output_type": "stream",
     "text": [
      "\r",
      " 28%|██████████████████████                                                          | 138/500 [00:02<00:07, 46.12it/s]"
     ]
    },
    {
     "name": "stdout",
     "output_type": "stream",
     "text": [
      "info :  {}\n",
      "info :  {}\n",
      "info :  {}\n",
      "info :  {}\n",
      "info :  {}\n",
      "info :  {}\n",
      "info :  {}\n",
      "info :  {}\n",
      "info :  {}\n"
     ]
    },
    {
     "name": "stderr",
     "output_type": "stream",
     "text": [
      " 31%|████████████████████████▍                                                       | 153/500 [00:03<00:07, 46.35it/s]"
     ]
    },
    {
     "name": "stdout",
     "output_type": "stream",
     "text": [
      "info :  {}\n",
      "info :  {}\n",
      "info :  {}\n",
      "info :  {}\n",
      "info :  {}\n",
      "info :  {}\n",
      "info :  {}\n",
      "info :  {}\n",
      "info :  {}\n",
      "info :  {}\n",
      "info :  {}\n"
     ]
    },
    {
     "name": "stderr",
     "output_type": "stream",
     "text": [
      " 33%|██████████████████████████                                                      | 163/500 [00:03<00:07, 47.30it/s]"
     ]
    },
    {
     "name": "stdout",
     "output_type": "stream",
     "text": [
      "info :  {}\n",
      "info :  {}\n",
      "info :  {}\n",
      "info :  {}\n",
      "info :  {}\n",
      "info :  {}\n",
      "info :  {}\n",
      "info :  {}\n",
      "info :  {}\n",
      "info :  {}\n"
     ]
    },
    {
     "name": "stderr",
     "output_type": "stream",
     "text": [
      " 35%|███████████████████████████▋                                                    | 173/500 [00:03<00:06, 48.34it/s]"
     ]
    },
    {
     "name": "stdout",
     "output_type": "stream",
     "text": [
      "info :  {}\n",
      "info :  {}\n",
      "info :  {}\n",
      "info :  {}\n",
      "info :  {}\n",
      "info :  {}\n",
      "info :  {}\n",
      "info :  {}\n",
      "info :  {}\n",
      "info :  {}\n"
     ]
    },
    {
     "name": "stderr",
     "output_type": "stream",
     "text": [
      " 37%|█████████████████████████████▎                                                  | 183/500 [00:03<00:06, 48.55it/s]"
     ]
    },
    {
     "name": "stdout",
     "output_type": "stream",
     "text": [
      "info :  {}\n",
      "info :  {}\n",
      "info :  {}\n",
      "info :  {}\n",
      "info :  {}\n",
      "info :  {}\n",
      "info :  {}\n",
      "info :  {}\n",
      "info :  {}\n",
      "info :  {}\n"
     ]
    },
    {
     "name": "stderr",
     "output_type": "stream",
     "text": [
      "\r",
      " 38%|██████████████████████████████                                                  | 188/500 [00:04<00:06, 45.94it/s]"
     ]
    },
    {
     "name": "stdout",
     "output_type": "stream",
     "text": [
      "info :  {}\n",
      "info :  {}\n",
      "info :  {}\n",
      "info :  {}\n",
      "info :  {}\n",
      "info :  {}\n",
      "info :  {}\n",
      "info :  {}\n"
     ]
    },
    {
     "name": "stderr",
     "output_type": "stream",
     "text": [
      " 40%|███████████████████████████████▋                                                | 198/500 [00:04<00:06, 44.88it/s]"
     ]
    },
    {
     "name": "stdout",
     "output_type": "stream",
     "text": [
      "info :  {}\n",
      "info :  {}\n",
      "info :  {}\n",
      "info :  {}\n",
      "info :  {}\n",
      "info :  {}\n",
      "info :  {}\n",
      "info :  {}\n",
      "info :  {}\n"
     ]
    },
    {
     "name": "stderr",
     "output_type": "stream",
     "text": [
      " 42%|█████████████████████████████████▎                                              | 208/500 [00:04<00:06, 46.48it/s]"
     ]
    },
    {
     "name": "stdout",
     "output_type": "stream",
     "text": [
      "info :  {}\n",
      "info :  {}\n",
      "info :  {}\n",
      "info :  {}\n",
      "info :  {}\n",
      "info :  {}\n",
      "info :  {}\n",
      "info :  {}\n",
      "info :  {}\n",
      "info :  {}\n"
     ]
    },
    {
     "name": "stderr",
     "output_type": "stream",
     "text": [
      " 44%|██████████████████████████████████▉                                             | 218/500 [00:04<00:06, 46.94it/s]"
     ]
    },
    {
     "name": "stdout",
     "output_type": "stream",
     "text": [
      "info :  {}\n",
      "info :  {}\n",
      "info :  {}\n",
      "info :  {}\n",
      "info :  {}\n",
      "info :  {}\n",
      "info :  {}\n",
      "info :  {}\n",
      "info :  {}\n",
      "info :  {}\n"
     ]
    },
    {
     "name": "stderr",
     "output_type": "stream",
     "text": [
      " 46%|████████████████████████████████████▍                                           | 228/500 [00:04<00:05, 45.50it/s]"
     ]
    },
    {
     "name": "stdout",
     "output_type": "stream",
     "text": [
      "info :  {}\n",
      "info :  {}\n",
      "info :  {}\n",
      "info :  {}\n",
      "info :  {}\n",
      "info :  {}\n",
      "info :  {}\n",
      "info :  {}\n",
      "info :  {}\n"
     ]
    },
    {
     "name": "stderr",
     "output_type": "stream",
     "text": [
      " 48%|██████████████████████████████████████                                          | 238/500 [00:05<00:05, 46.91it/s]"
     ]
    },
    {
     "name": "stdout",
     "output_type": "stream",
     "text": [
      "info :  {}\n",
      "info :  {}\n",
      "info :  {}\n",
      "info :  {}\n",
      "info :  {}\n",
      "info :  {}\n",
      "info :  {}\n",
      "info :  {}\n",
      "info :  {}\n",
      "info :  {}\n"
     ]
    },
    {
     "name": "stderr",
     "output_type": "stream",
     "text": [
      " 50%|███████████████████████████████████████▋                                        | 248/500 [00:05<00:05, 47.51it/s]"
     ]
    },
    {
     "name": "stdout",
     "output_type": "stream",
     "text": [
      "info :  {}\n",
      "info :  {}\n",
      "info :  {}\n",
      "info :  {}\n",
      "info :  {}\n",
      "info :  {}\n",
      "info :  {}\n",
      "info :  {}\n",
      "info :  {}\n",
      "info :  {}\n",
      "info :  {}\n"
     ]
    },
    {
     "name": "stderr",
     "output_type": "stream",
     "text": [
      " 52%|█████████████████████████████████████████▎                                      | 258/500 [00:05<00:05, 48.24it/s]"
     ]
    },
    {
     "name": "stdout",
     "output_type": "stream",
     "text": [
      "info :  {}\n",
      "info :  {}\n",
      "info :  {}\n",
      "info :  {}\n",
      "info :  {}\n",
      "info :  {}\n",
      "info :  {}\n",
      "info :  {}\n",
      "info :  {}\n",
      "info :  {}\n"
     ]
    },
    {
     "name": "stderr",
     "output_type": "stream",
     "text": [
      " 54%|██████████████████████████████████████████▉                                     | 268/500 [00:05<00:05, 45.72it/s]"
     ]
    },
    {
     "name": "stdout",
     "output_type": "stream",
     "text": [
      "info :  {}\n",
      "info :  {}\n",
      "info :  {}\n",
      "info :  {}\n",
      "info :  {}\n",
      "info :  {}\n",
      "info :  {}\n",
      "info :  {}\n",
      "info :  {}\n"
     ]
    },
    {
     "name": "stderr",
     "output_type": "stream",
     "text": [
      " 56%|████████████████████████████████████████████▍                                   | 278/500 [00:05<00:04, 47.46it/s]"
     ]
    },
    {
     "name": "stdout",
     "output_type": "stream",
     "text": [
      "info :  {}\n",
      "info :  {}\n",
      "info :  {}\n",
      "info :  {}\n",
      "info :  {}\n",
      "info :  {}\n",
      "info :  {}\n",
      "info :  {}\n",
      "info :  {}\n",
      "info :  {}\n"
     ]
    },
    {
     "name": "stderr",
     "output_type": "stream",
     "text": [
      " 58%|██████████████████████████████████████████████                                  | 288/500 [00:06<00:04, 47.82it/s]"
     ]
    },
    {
     "name": "stdout",
     "output_type": "stream",
     "text": [
      "info :  {}\n",
      "info :  {}\n",
      "info :  {}\n",
      "info :  {}\n",
      "info :  {}\n",
      "info :  {}\n",
      "info :  {}\n",
      "info :  {}\n",
      "info :  {}\n",
      "info :  {}\n",
      "info :  {}\n"
     ]
    },
    {
     "name": "stderr",
     "output_type": "stream",
     "text": [
      " 60%|███████████████████████████████████████████████▋                                | 298/500 [00:06<00:04, 48.22it/s]"
     ]
    },
    {
     "name": "stdout",
     "output_type": "stream",
     "text": [
      "info :  {}\n",
      "info :  {}\n",
      "info :  {}\n",
      "info :  {}\n",
      "info :  {}\n",
      "info :  {}\n",
      "info :  {}\n",
      "info :  {}\n",
      "info :  {}\n",
      "info :  {}\n"
     ]
    },
    {
     "name": "stderr",
     "output_type": "stream",
     "text": [
      " 62%|█████████████████████████████████████████████████▎                              | 308/500 [00:06<00:04, 46.23it/s]"
     ]
    },
    {
     "name": "stdout",
     "output_type": "stream",
     "text": [
      "info :  {}\n",
      "info :  {}\n",
      "info :  {}\n",
      "info :  {}\n",
      "info :  {}\n",
      "info :  {}\n",
      "info :  {}\n",
      "info :  {}\n",
      "info :  {}\n"
     ]
    },
    {
     "name": "stderr",
     "output_type": "stream",
     "text": [
      " 64%|██████████████████████████████████████████████████▉                             | 318/500 [00:06<00:03, 47.52it/s]"
     ]
    },
    {
     "name": "stdout",
     "output_type": "stream",
     "text": [
      "info :  {}\n",
      "info :  {}\n",
      "info :  {}\n",
      "info :  {}\n",
      "info :  {}\n",
      "info :  {}\n",
      "info :  {}\n",
      "info :  {}\n",
      "info :  {}\n",
      "info :  {}\n"
     ]
    },
    {
     "name": "stderr",
     "output_type": "stream",
     "text": [
      " 66%|████████████████████████████████████████████████████▍                           | 328/500 [00:07<00:03, 46.44it/s]"
     ]
    },
    {
     "name": "stdout",
     "output_type": "stream",
     "text": [
      "info :  {}\n",
      "info :  {}\n",
      "info :  {}\n",
      "info :  {}\n",
      "info :  {}\n",
      "info :  {}\n",
      "info :  {}\n",
      "info :  {}\n",
      "info :  {}\n",
      "info :  {}\n"
     ]
    },
    {
     "name": "stderr",
     "output_type": "stream",
     "text": [
      " 68%|██████████████████████████████████████████████████████                          | 338/500 [00:07<00:03, 47.34it/s]"
     ]
    },
    {
     "name": "stdout",
     "output_type": "stream",
     "text": [
      "info :  {}\n",
      "info :  {}\n",
      "info :  {}\n",
      "info :  {}\n",
      "info :  {}\n",
      "info :  {}\n",
      "info :  {}\n",
      "info :  {}\n",
      "info :  {}\n",
      "info :  {}\n"
     ]
    },
    {
     "name": "stderr",
     "output_type": "stream",
     "text": [
      " 70%|███████████████████████████████████████████████████████▋                        | 348/500 [00:07<00:03, 46.10it/s]"
     ]
    },
    {
     "name": "stdout",
     "output_type": "stream",
     "text": [
      "info :  {}\n",
      "info :  {}\n",
      "info :  {}\n",
      "info :  {}\n",
      "info :  {}\n",
      "info :  {}\n",
      "info :  {}\n",
      "info :  {}\n",
      "info :  {}\n"
     ]
    },
    {
     "name": "stderr",
     "output_type": "stream",
     "text": [
      " 72%|█████████████████████████████████████████████████████████▎                      | 358/500 [00:07<00:03, 47.19it/s]"
     ]
    },
    {
     "name": "stdout",
     "output_type": "stream",
     "text": [
      "info :  {}\n",
      "info :  {}\n",
      "info :  {}\n",
      "info :  {}\n",
      "info :  {}\n",
      "info :  {}\n",
      "info :  {}\n",
      "info :  {}\n",
      "info :  {}\n",
      "info :  {}\n",
      "info :  {}\n",
      "info :  {}\n"
     ]
    },
    {
     "name": "stderr",
     "output_type": "stream",
     "text": [
      " 74%|██████████████████████████████████████████████████████████▉                     | 368/500 [00:09<00:14,  9.20it/s]"
     ]
    },
    {
     "name": "stdout",
     "output_type": "stream",
     "text": [
      "info :  {}\n",
      "info :  {}\n",
      "info :  {}\n",
      "info :  {}\n",
      "info :  {}\n",
      "info :  {}\n",
      "info :  {}\n",
      "info :  {}\n",
      "info :  {}\n",
      "info :  {}\n"
     ]
    },
    {
     "name": "stderr",
     "output_type": "stream",
     "text": [
      " 76%|████████████████████████████████████████████████████████████▍                   | 378/500 [00:10<00:07, 15.64it/s]"
     ]
    },
    {
     "name": "stdout",
     "output_type": "stream",
     "text": [
      "info :  {}\n",
      "info :  {}\n",
      "info :  {}\n",
      "info :  {}\n",
      "info :  {}\n",
      "info :  {}\n",
      "info :  {}\n",
      "info :  {}\n",
      "info :  {}\n",
      "info :  {}\n"
     ]
    },
    {
     "name": "stderr",
     "output_type": "stream",
     "text": [
      " 78%|██████████████████████████████████████████████████████████████                  | 388/500 [00:10<00:04, 23.17it/s]"
     ]
    },
    {
     "name": "stdout",
     "output_type": "stream",
     "text": [
      "info :  {}\n",
      "info :  {}\n",
      "info :  {}\n",
      "info :  {}\n",
      "info :  {}\n",
      "info :  {}\n",
      "info :  {}\n",
      "info :  {}\n",
      "info :  {}\n"
     ]
    },
    {
     "name": "stderr",
     "output_type": "stream",
     "text": [
      " 80%|███████████████████████████████████████████████████████████████▋                | 398/500 [00:10<00:03, 31.61it/s]"
     ]
    },
    {
     "name": "stdout",
     "output_type": "stream",
     "text": [
      "info :  {}\n",
      "info :  {}\n",
      "info :  {}\n",
      "info :  {}\n",
      "info :  {}\n",
      "info :  {}\n",
      "info :  {}\n",
      "info :  {}\n",
      "info :  {}\n",
      "info :  {}\n"
     ]
    },
    {
     "name": "stderr",
     "output_type": "stream",
     "text": [
      " 82%|█████████████████████████████████████████████████████████████████▎              | 408/500 [00:10<00:02, 38.41it/s]"
     ]
    },
    {
     "name": "stdout",
     "output_type": "stream",
     "text": [
      "info :  {}\n",
      "info :  {}\n",
      "info :  {}\n",
      "info :  {}\n",
      "info :  {}\n",
      "info :  {}\n",
      "info :  {}\n",
      "info :  {}\n",
      "info :  {}\n",
      "info :  {}\n"
     ]
    },
    {
     "name": "stderr",
     "output_type": "stream",
     "text": [
      " 84%|██████████████████████████████████████████████████████████████████▉             | 418/500 [00:11<00:01, 41.28it/s]"
     ]
    },
    {
     "name": "stdout",
     "output_type": "stream",
     "text": [
      "info :  {}\n",
      "info :  {}\n",
      "info :  {}\n",
      "info :  {}\n",
      "info :  {}\n",
      "info :  {}\n",
      "info :  {}\n",
      "info :  {}\n",
      "info :  {}\n"
     ]
    },
    {
     "name": "stderr",
     "output_type": "stream",
     "text": [
      "\r",
      " 85%|███████████████████████████████████████████████████████████████████▋            | 423/500 [00:11<00:01, 43.16it/s]"
     ]
    },
    {
     "name": "stdout",
     "output_type": "stream",
     "text": [
      "info :  {}\n",
      "info :  {}\n",
      "info :  {}\n",
      "info :  {}\n",
      "info :  {}\n",
      "info :  {}\n",
      "info :  {}\n",
      "info :  {}\n",
      "info :  {}\n"
     ]
    },
    {
     "name": "stderr",
     "output_type": "stream",
     "text": [
      " 87%|█████████████████████████████████████████████████████████████████████▎          | 433/500 [00:11<00:01, 43.88it/s]"
     ]
    },
    {
     "name": "stdout",
     "output_type": "stream",
     "text": [
      "info :  {}\n",
      "info :  {}\n",
      "info :  {}\n",
      "info :  {}\n",
      "info :  {}\n",
      "info :  {}\n",
      "info :  {}\n",
      "info :  {}\n",
      "info :  {}\n",
      "info :  {}\n"
     ]
    },
    {
     "name": "stderr",
     "output_type": "stream",
     "text": [
      " 89%|██████████████████████████████████████████████████████████████████████▉         | 443/500 [00:11<00:01, 43.48it/s]"
     ]
    },
    {
     "name": "stdout",
     "output_type": "stream",
     "text": [
      "info :  {}\n",
      "info :  {}\n",
      "info :  {}\n",
      "info :  {}\n",
      "info :  {}\n",
      "info :  {}\n",
      "info :  {}\n",
      "info :  {}\n",
      "info :  {}\n"
     ]
    },
    {
     "name": "stderr",
     "output_type": "stream",
     "text": [
      " 91%|████████████████████████████████████████████████████████████████████████▍       | 453/500 [00:11<00:01, 45.79it/s]"
     ]
    },
    {
     "name": "stdout",
     "output_type": "stream",
     "text": [
      "info :  {}\n",
      "info :  {}\n",
      "info :  {}\n",
      "info :  {}\n",
      "info :  {}\n",
      "info :  {}\n",
      "info :  {}\n",
      "info :  {}\n",
      "info :  {}\n",
      "info :  {}\n"
     ]
    },
    {
     "name": "stderr",
     "output_type": "stream",
     "text": [
      " 93%|██████████████████████████████████████████████████████████████████████████      | 463/500 [00:12<00:00, 44.55it/s]"
     ]
    },
    {
     "name": "stdout",
     "output_type": "stream",
     "text": [
      "info :  {}\n",
      "info :  {}\n",
      "info :  {}\n",
      "info :  {}\n",
      "info :  {}\n",
      "info :  {}\n",
      "info :  {}\n",
      "info :  {}\n",
      "info :  {}\n"
     ]
    },
    {
     "name": "stderr",
     "output_type": "stream",
     "text": [
      " 95%|███████████████████████████████████████████████████████████████████████████▋    | 473/500 [00:12<00:00, 46.38it/s]"
     ]
    },
    {
     "name": "stdout",
     "output_type": "stream",
     "text": [
      "info :  {}\n",
      "info :  {}\n",
      "info :  {}\n",
      "info :  {}\n",
      "info :  {}\n",
      "info :  {}\n",
      "info :  {}\n",
      "info :  {}\n",
      "info :  {}\n",
      "info :  {}\n",
      "info :  {}\n"
     ]
    },
    {
     "name": "stderr",
     "output_type": "stream",
     "text": [
      " 97%|█████████████████████████████████████████████████████████████████████████████▎  | 483/500 [00:12<00:00, 45.01it/s]"
     ]
    },
    {
     "name": "stdout",
     "output_type": "stream",
     "text": [
      "info :  {}\n",
      "info :  {}\n",
      "info :  {}\n",
      "info :  {}\n",
      "info :  {}\n",
      "info :  {}\n",
      "info :  {}\n",
      "info :  {}\n",
      "info :  {}\n"
     ]
    },
    {
     "name": "stderr",
     "output_type": "stream",
     "text": [
      " 99%|██████████████████████████████████████████████████████████████████████████████▉ | 493/500 [00:12<00:00, 43.99it/s]"
     ]
    },
    {
     "name": "stdout",
     "output_type": "stream",
     "text": [
      "info :  {}\n",
      "info :  {}\n",
      "info :  {}\n",
      "info :  {}\n",
      "info :  {}\n",
      "info :  {}\n",
      "info :  {}\n",
      "info :  {}\n",
      "info :  {}\n",
      "info :  {}\n"
     ]
    },
    {
     "name": "stderr",
     "output_type": "stream",
     "text": [
      "100%|████████████████████████████████████████████████████████████████████████████████| 500/500 [00:12<00:00, 38.86it/s]\n"
     ]
    },
    {
     "name": "stdout",
     "output_type": "stream",
     "text": [
      "info :  {}\n",
      "info :  {}\n",
      "info :  {}\n",
      "info :  {}\n",
      "info :  {}\n"
     ]
    }
   ],
   "source": [
    "import gym\n",
    "from tqdm import tqdm\n",
    "\n",
    "n=500\n",
    "\n",
    "env = gym.make(\"CartPole-v1\", render_mode=\"human\")\n",
    "env.action_space.seed(82)\n",
    "\n",
    "observation, info = env.reset(seed=82)\n",
    "\n",
    "for _ in tqdm(range(n)):\n",
    "    action = env.action_space.sample()\n",
    "    observation,reward, terminated, truncated, info = env.step(action)\n",
    "    print(\"info : \",info);\n",
    "    \n",
    "    if terminated or truncated:\n",
    "        observation, info = env.reset()\n",
    "        \n",
    "env.close()"
   ]
  },
  {
   "cell_type": "code",
   "execution_count": null,
   "id": "242ae73a",
   "metadata": {},
   "outputs": [],
   "source": []
  }
 ],
 "metadata": {
  "kernelspec": {
   "display_name": "Python 3 (ipykernel)",
   "language": "python",
   "name": "python3"
  },
  "language_info": {
   "codemirror_mode": {
    "name": "ipython",
    "version": 3
   },
   "file_extension": ".py",
   "mimetype": "text/x-python",
   "name": "python",
   "nbconvert_exporter": "python",
   "pygments_lexer": "ipython3",
   "version": "3.9.13"
  },
  "latex_envs": {
   "LaTeX_envs_menu_present": true,
   "autoclose": false,
   "autocomplete": true,
   "bibliofile": "biblio.bib",
   "cite_by": "apalike",
   "current_citInitial": 1,
   "eqLabelWithNumbers": true,
   "eqNumInitial": 1,
   "hotkeys": {
    "equation": "Ctrl-E",
    "itemize": "Ctrl-I"
   },
   "labels_anchors": false,
   "latex_user_defs": false,
   "report_style_numbering": false,
   "user_envs_cfg": false
  },
  "toc": {
   "base_numbering": 1,
   "nav_menu": {},
   "number_sections": true,
   "sideBar": true,
   "skip_h1_title": false,
   "title_cell": "Table of Contents",
   "title_sidebar": "Contents",
   "toc_cell": false,
   "toc_position": {},
   "toc_section_display": true,
   "toc_window_display": false
  }
 },
 "nbformat": 4,
 "nbformat_minor": 5
}
