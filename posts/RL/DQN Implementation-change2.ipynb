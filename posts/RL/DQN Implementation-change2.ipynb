{
 "cells": [
  {
   "cell_type": "code",
   "execution_count": 1,
   "id": "ea1e455b",
   "metadata": {
    "scrolled": true
   },
   "outputs": [
    {
     "data": {
      "application/javascript": [
       "IPython.notebook.set_autosave_interval(20000)"
      ]
     },
     "metadata": {},
     "output_type": "display_data"
    },
    {
     "name": "stdout",
     "output_type": "stream",
     "text": [
      "Autosaving every 20 seconds\n"
     ]
    }
   ],
   "source": [
    "%autosave 20"
   ]
  },
  {
   "cell_type": "code",
   "execution_count": 2,
   "id": "a9812d0c",
   "metadata": {},
   "outputs": [],
   "source": [
    "import gymnasium as gym\n",
    "import math\n",
    "import random\n",
    "import matplotlib\n",
    "import matplotlib.pyplot as plt\n",
    "from collections import namedtuple, deque\n",
    "from itertools import count\n",
    "\n",
    "import torch\n",
    "import torch.nn as nn\n",
    "import torch.optim as optim\n",
    "import torch.nn.functional as F"
   ]
  },
  {
   "cell_type": "code",
   "execution_count": 3,
   "id": "7a8ebc78",
   "metadata": {},
   "outputs": [],
   "source": [
    "env = gym.make(\"CartPole-v1\")\n",
    "# matplotlib 설정\n",
    "is_ipython = 'inline' in matplotlib.get_backend()\n",
    "if is_ipython:\n",
    "    from IPython import display\n",
    "\n",
    "plt.ion()\n",
    "\n",
    "# GPU를 사용할 경우\n",
    "device = torch.device(\"cuda\" if torch.cuda.is_available() else \"cpu\")"
   ]
  },
  {
   "cell_type": "markdown",
   "id": "6d2fc4c6",
   "metadata": {},
   "source": [
    "# Basic Setup"
   ]
  },
  {
   "cell_type": "code",
   "execution_count": 4,
   "id": "4dfde68e",
   "metadata": {},
   "outputs": [],
   "source": [
    "Transition = namedtuple(\"replay_memory\",[\"state\",\"action\",\"next_state\",\"reward\"])"
   ]
  },
  {
   "cell_type": "code",
   "execution_count": 5,
   "id": "e4a2929a",
   "metadata": {},
   "outputs": [],
   "source": [
    "class ReplayMemory():\n",
    "    def __init__(self,capacity):\n",
    "        self.memory = deque([],maxlen=capacity)\n",
    "    def push(self,*args):\n",
    "        self.memory.append(Transition(*args))\n",
    "    def sample(self,N):\n",
    "        return random.sample(self.memory,N)\n",
    "    def __len__(self):\n",
    "        return len(self.memory)\n",
    "memory = ReplayMemory(10000)"
   ]
  },
  {
   "cell_type": "code",
   "execution_count": 6,
   "id": "3653298b",
   "metadata": {},
   "outputs": [],
   "source": [
    "class DQN(nn.Module):\n",
    "    def __init__(self,n_observations,n_actions):\n",
    "        \"\"\"\n",
    "        Input\n",
    "        n_observations : int\n",
    "        length of observation vector, the number of observed values\n",
    "        n_action : int\n",
    "        the number of actions which are possible to take in that state\n",
    "        \"\"\"\n",
    "        super().__init__()\n",
    "        self.layer1 = nn.Linear(n_observations,128)\n",
    "        self.relu = nn.ReLU()\n",
    "        self.layer2 = nn.Linear(128,64)\n",
    "        #relu\n",
    "        self.layer3 = nn.Linear(64,32)\n",
    "        #relu\n",
    "        self.layer4 = nn.Linear(32,16)\n",
    "        #relu\n",
    "        self.layer5 = nn.Linear(16,n_actions)\n",
    "        \n",
    "    def forward(self,x):\n",
    "        \"\"\"\n",
    "        Input : tensor\n",
    "            4-dimensional observation vector\n",
    "        output : tensor\n",
    "            2-dimensional Q_values\n",
    "        \"\"\"\n",
    "        out =self.relu(self.layer1(x)) #l1_out\n",
    "        out = self.relu(self.layer2(out)) #l2_out\n",
    "        out = self.relu(self.layer3(out)) #l3_out\n",
    "        out = self.relu(self.layer4(out))\n",
    "        out = self.layer5(out)\n",
    "        return out\n",
    "\n",
    "\n",
    "#_ob = torch.tensor([1.2,1.5,2.9,3.88])\n",
    "#net(_ob)"
   ]
  },
  {
   "cell_type": "code",
   "execution_count": 7,
   "id": "304d79d0",
   "metadata": {},
   "outputs": [],
   "source": [
    "GAMMA = 0.99\n",
    "BATCH_SIZE = 128\n",
    "ϵ_START = 1\n",
    "ϵ_END = 0.005\n",
    "ϵ_DECAY = 0.001\n",
    "TAU = 0.005\n",
    "\n",
    "steps_done = 0\n",
    "def select_action(state):\n",
    "    global steps_done\n",
    "    sample = random.random()\n",
    "    eps_threshold = ϵ_END + (ϵ_START - ϵ_END) * math.exp(-1 * steps_done / ϵ_DECAY) \n",
    "    #1. ϵ의 upper bound, lower bound를 부여\n",
    "    #2. EPS_DECAY의 비율만큼 서서히 감쇄\n",
    "    #※ ϵ_DECAY 비율에 의해서 ϵ이 너무 빨리 떨어져서 exploration이 조기에 종료될 수 있음.\n",
    "    steps_done += 1\n",
    "    if sample > eps_threshold:\n",
    "        \"\"\"\n",
    "        1-ϵ확률로 greedy하게\n",
    "        \"\"\"\n",
    "        with torch.no_grad():\n",
    "            return policy_net(state).max(1)[1].view(1,1)\n",
    "        #max(1) : dimension을 반영하여 최댓값을 알려줌, 최댓값(value)와 위치(index)를 포함\n",
    "        #max(1)[1] : index만 가져옴\n",
    "        #max(1)[1].view(1,1) : 차원변환\n",
    "    elif sample <= eps_threshold:\n",
    "        \"\"\"\n",
    "        ϵ의 확률로 random action\n",
    "        \"\"\"\n",
    "        return torch.tensor([[env.action_space.sample()]],device=device, dtype = torch.long)\n",
    "        #exploration\n",
    "    if steps_done % 50 == 0:\n",
    "        print(steps_done,epsilon_threshold)\n",
    "episode_durations = []\n",
    "\n",
    "\n",
    "def plot_durations(show_result=False):\n",
    "    plt.figure(1)\n",
    "    durations_t = torch.tensor(episode_durations, dtype=torch.float)\n",
    "    if show_result:\n",
    "        plt.title('Result')\n",
    "    else:\n",
    "        plt.clf()\n",
    "        plt.title('Training...')\n",
    "    plt.xlabel('Episode')\n",
    "    plt.ylabel('Duration')\n",
    "    plt.plot(durations_t.numpy())\n",
    "    # 100개의 에피소드 평균을 가져 와서 도표 그리기\n",
    "    if len(durations_t) >= 100:\n",
    "        means = durations_t.unfold(0, 100, 1).mean(1).view(-1)\n",
    "        means = torch.cat((torch.zeros(99), means))\n",
    "        plt.plot(means.numpy())\n",
    "\n",
    "    plt.pause(0.001)  # 도표가 업데이트되도록 잠시 멈춤\n",
    "    if is_ipython:\n",
    "        if not show_result:\n",
    "            display.display(plt.gcf())\n",
    "            display.clear_output(wait=True)\n",
    "        else:\n",
    "            display.display(plt.gcf())"
   ]
  },
  {
   "cell_type": "markdown",
   "id": "0942fb64",
   "metadata": {},
   "source": [
    "\\begin{case}\n",
    "L(\\theta_i) = r + \\gamma \\text{max}_{a'} Q(S_{t+1},a';\\theta^-) - Q(S_{t},A_t;\\theta) $$\n",
    "hi\n",
    "\\end{d}{case}"
   ]
  },
  {
   "cell_type": "code",
   "execution_count": 8,
   "id": "ce0088d8",
   "metadata": {
    "scrolled": false
   },
   "outputs": [],
   "source": [
    "def optimize_model():\n",
    "    if len(memory) < BATCH_SIZE:\n",
    "        \"\"\"\n",
    "        buffer에 있는 transition이 BATCH_SIZE보다 적으면 학습 X.\n",
    "        \"\"\"\n",
    "        return\n",
    "    transitions = memory.sample(BATCH_SIZE)\n",
    "    batch = Transition(*zip(*transitions))\n",
    "    state_batch = torch.cat(batch.state,axis=0)\n",
    "    action_batch = torch.cat(batch.action,axis=0)\n",
    "    reward_batch = torch.cat(batch.reward)\n",
    "    #현재 Q값 계산\n",
    "    Q = policy_net(state_batch).gather(1,action_batch)\n",
    "    \n",
    "    #Q-target 계산\n",
    "    non_final_mask = torch.tensor(tuple(map(lambda s : s is not None,batch.next_state)),device=device,dtype=torch.bool)\n",
    "    non_final_next_states = torch.cat([s for s in batch.next_state if s is not None],axis=0).to(device).type(torch.float32)\n",
    "    max_q = torch.zeros(BATCH_SIZE,device=device)\n",
    "    with torch.no_grad():\n",
    "        max_q[non_final_mask] = target_net(non_final_next_states).max(dim=1).values #max_q\n",
    "    Q_targets = (max_q * GAMMA) + reward_batch\n",
    "    loss = criterion(Q,Q_targets.unsqueeze(1))\n",
    "    \n",
    "    loss.backward()\n",
    "    torch.nn.utils.clip_grad_value_(policy_net.parameters(),100)\n",
    "    optimizer.step()\n",
    "    optimizer.zero_grad()\n",
    "    \n",
    "optimize_model()"
   ]
  },
  {
   "cell_type": "code",
   "execution_count": 9,
   "id": "75ce66f5",
   "metadata": {},
   "outputs": [],
   "source": [
    "memory = ReplayMemory(10000)\n",
    "policy_net = DQN(4,2).to(device) #policy network\n",
    "target_net = DQN(4,2).to(device) #target network\n",
    "target_net.load_state_dict(policy_net.state_dict()) #몰랐던 부분\n",
    "\n",
    "optimizer = torch.optim.Adam(policy_net.parameters(),lr=0.001,amsgrad=True)\n",
    "criterion = nn.SmoothL1Loss()"
   ]
  },
  {
   "cell_type": "code",
   "execution_count": 10,
   "id": "c97b2da1",
   "metadata": {},
   "outputs": [
    {
     "name": "stdout",
     "output_type": "stream",
     "text": [
      "Complete\n"
     ]
    },
    {
     "data": {
      "image/png": "[encoded data removed]",
      "text/plain": [
       "<Figure size 640x480 with 1 Axes>"
      ]
     },
     "metadata": {},
     "output_type": "display_data"
    },
    {
     "data": {
      "text/plain": [
       "<Figure size 640x480 with 0 Axes>"
      ]
     },
     "metadata": {},
     "output_type": "display_data"
    },
    {
     "data": {
      "text/plain": [
       "<Figure size 640x480 with 0 Axes>"
      ]
     },
     "metadata": {},
     "output_type": "display_data"
    }
   ],
   "source": [
    "for i_episode in range(5000):\n",
    "    s1 = torch.tensor(env.reset()[0],device=device,dtype = torch.float32).unsqueeze(0) #전처리는 없음\n",
    "    state = s1\n",
    "    for t in count(): #count(),\n",
    "        action = select_action(state)\n",
    "        observation,reward,terminated,truncated,_ = env.step(action.item())\n",
    "        \n",
    "        reward = torch.tensor(reward,device=device,dtype=torch.float32).view(1)\n",
    "        done = terminated or truncated\n",
    "        #terminal state에 도달하거나 timelimit따위로 episoder가 끝날때 done = True\n",
    "        if terminated:\n",
    "            next_state = None\n",
    "        else:\n",
    "            next_state = torch.tensor(observation,dtype=torch.float32,device=device).unsqueeze(0)\n",
    "        \n",
    "        #메모리에 변이 저장\n",
    "        #print(next_state)\n",
    "        \"\"\"\n",
    "        next_state = None,reward = 1 if terminated == True\n",
    "        next_state = arbitary,reward = 1 o.w\n",
    "        \"\"\"\n",
    "        memory.push(state,action,next_state,reward)\n",
    "        \n",
    "        optimize_model()\n",
    "        #다음 상태로 이동\n",
    "        state = next_state\n",
    "        \n",
    "        \n",
    "        if done:\n",
    "            episode_durations.append(t + 1)\n",
    "            plot_durations()\n",
    "            break\n",
    "    if i_episode % 100 == 0:\n",
    "        target_net.load_state_dict(policy_net.state_dict())\n",
    "    \n",
    "\n",
    "print('Complete')\n",
    "plot_durations(show_result=True)\n",
    "plt.ioff()\n",
    "plt.show()"
   ]
  },
  {
   "cell_type": "code",
   "execution_count": 14,
   "id": "6c7e1cf1",
   "metadata": {},
   "outputs": [
    {
     "name": "stdout",
     "output_type": "stream",
     "text": [
      "hi\n"
     ]
    }
   ],
   "source": [
    "print(\"hi\")"
   ]
  },
  {
   "cell_type": "markdown",
   "id": "9630144f",
   "metadata": {},
   "source": [
    "# Lambda function"
   ]
  },
  {
   "cell_type": "code",
   "execution_count": 11,
   "id": "012da39d",
   "metadata": {},
   "outputs": [
    {
     "data": {
      "text/plain": [
       "False"
      ]
     },
     "execution_count": 11,
     "metadata": {},
     "output_type": "execute_result"
    }
   ],
   "source": [
    "def is_not_none(s):\n",
    "    return s is not None\n",
    "is_not_none(None)"
   ]
  },
  {
   "cell_type": "markdown",
   "id": "ddbbb352",
   "metadata": {},
   "source": [
    "# map function(function,iterable)"
   ]
  },
  {
   "cell_type": "code",
   "execution_count": 298,
   "id": "744e556c",
   "metadata": {},
   "outputs": [
    {
     "name": "stdout",
     "output_type": "stream",
     "text": [
      "2\n",
      "3\n",
      "4\n",
      "5\n"
     ]
    }
   ],
   "source": [
    "d = map(lambda s : s + 1,[1,2,3,4])\n",
    "for i in d:\n",
    "    print(i)"
   ]
  },
  {
   "cell_type": "markdown",
   "id": "bea4d840",
   "metadata": {},
   "source": [
    "# zip"
   ]
  },
  {
   "cell_type": "code",
   "execution_count": 232,
   "id": "87c4a605",
   "metadata": {},
   "outputs": [
    {
     "data": {
      "text/plain": [
       "[(1, 'a', True), (2, 'b', False), (3, 'c', False), (4, 'd', True)]"
      ]
     },
     "execution_count": 232,
     "metadata": {},
     "output_type": "execute_result"
    }
   ],
   "source": [
    "list(zip(*[[1,2,3,4],[\"a\",\"b\",\"c\",\"d\"],[True,False,False,True]]))"
   ]
  }
 ],
 "metadata": {
  "kernelspec": {
   "display_name": "Python 3 (ipykernel)",
   "language": "python",
   "name": "python3"
  },
  "language_info": {
   "codemirror_mode": {
    "name": "ipython",
    "version": 3
   },
   "file_extension": ".py",
   "mimetype": "text/x-python",
   "name": "python",
   "nbconvert_exporter": "python",
   "pygments_lexer": "ipython3",
   "version": "3.9.13"
  },
  "latex_envs": {
   "LaTeX_envs_menu_present": true,
   "autoclose": false,
   "autocomplete": true,
   "bibliofile": "biblio.bib",
   "cite_by": "apalike",
   "current_citInitial": 1,
   "eqLabelWithNumbers": true,
   "eqNumInitial": 1,
   "hotkeys": {
    "equation": "Ctrl-E",
    "itemize": "Ctrl-I"
   },
   "labels_anchors": false,
   "latex_user_defs": false,
   "report_style_numbering": false,
   "user_envs_cfg": false
  },
  "toc": {
   "base_numbering": 1,
   "nav_menu": {},
   "number_sections": true,
   "sideBar": true,
   "skip_h1_title": false,
   "title_cell": "Table of Contents",
   "title_sidebar": "Contents",
   "toc_cell": false,
   "toc_position": {},
   "toc_section_display": true,
   "toc_window_display": false
  }
 },
 "nbformat": 4,
 "nbformat_minor": 5
}
