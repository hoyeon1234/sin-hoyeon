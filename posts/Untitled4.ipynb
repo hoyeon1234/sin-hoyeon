{
 "cells": [
  {
   "cell_type": "code",
   "execution_count": 4,
   "id": "9e2b1672",
   "metadata": {},
   "outputs": [],
   "source": [
    "import numpy as np\n",
    "import pandas as pd\n",
    "\n",
    "import matplotlib.pyplot as plt\n",
    "import seaborn as sns\n",
    "from sklearn import linear_model\n",
    "from sklearn.metrics import mean_squared_error,r2_score"
   ]
  },
  {
   "cell_type": "code",
   "execution_count": 18,
   "id": "2a180803",
   "metadata": {},
   "outputs": [],
   "source": [
    "url1 = \"https://ilovedata.github.io/teaching/bigdata2/data/father-and-son.csv\"\n",
    "father_son_df = pd.read_csv(url1)\n",
    "\n",
    "father_son_df.fheight =  father_son_df.fheight*2.54\n",
    "father_son_df.sheight =  father_son_df.sheight*2.54"
   ]
  },
  {
   "cell_type": "code",
   "execution_count": 22,
   "id": "f0c211f2",
   "metadata": {},
   "outputs": [
    {
     "name": "stdout",
     "output_type": "stream",
     "text": [
      "86.07197505935792 [0.51409304]\n"
     ]
    }
   ],
   "source": [
    "x = np.array(father_son_df[\"fheight\"]).reshape(-1,1)\n",
    "y = np.array(father_son_df[\"sheight\"])\n",
    "\n",
    "model = linear_model.LinearRegression()\n",
    "model.fit(x,y)\n",
    "pred = model.predict(x)\n",
    "print(model.intercept_,model.coef_)"
   ]
  },
  {
   "cell_type": "code",
   "execution_count": 23,
   "id": "e87007ac",
   "metadata": {},
   "outputs": [
    {
     "name": "stdout",
     "output_type": "stream",
     "text": [
      "평균제곱오차, mse: 38.23\n"
     ]
    }
   ],
   "source": [
    "print(\"평균제곱오차, mse: %.2f\" % mean_squared_error(y, y_pred))"
   ]
  },
  {
   "cell_type": "code",
   "execution_count": 24,
   "id": "4ef8dbeb",
   "metadata": {},
   "outputs": [
    {
     "name": "stdout",
     "output_type": "stream",
     "text": [
      "결정계수 R^2: 0.25\n"
     ]
    }
   ],
   "source": [
    "print(\"결정계수 R^2: %.2f\" % r2_score(y, y_pred))"
   ]
  },
  {
   "cell_type": "code",
   "execution_count": null,
   "id": "90aeba6b",
   "metadata": {},
   "outputs": [],
   "source": []
  },
  {
   "cell_type": "code",
   "execution_count": null,
   "id": "c9828458",
   "metadata": {},
   "outputs": [],
   "source": []
  }
 ],
 "metadata": {
  "kernelspec": {
   "display_name": "Python 3 (ipykernel)",
   "language": "python",
   "name": "python3"
  },
  "language_info": {
   "codemirror_mode": {
    "name": "ipython",
    "version": 3
   },
   "file_extension": ".py",
   "mimetype": "text/x-python",
   "name": "python",
   "nbconvert_exporter": "python",
   "pygments_lexer": "ipython3",
   "version": "3.9.13"
  },
  "toc": {
   "base_numbering": 1,
   "nav_menu": {},
   "number_sections": true,
   "sideBar": true,
   "skip_h1_title": false,
   "title_cell": "Table of Contents",
   "title_sidebar": "Contents",
   "toc_cell": false,
   "toc_position": {},
   "toc_section_display": true,
   "toc_window_display": false
  }
 },
 "nbformat": 4,
 "nbformat_minor": 5
}
