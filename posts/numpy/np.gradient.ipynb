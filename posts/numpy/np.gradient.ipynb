{
 "cells": [
  {
   "cell_type": "raw",
   "metadata": {},
   "source": [
    "---\n",
    "title: \"np.gradient와 수치미분\"\n",
    "format: html\n",
    "categories: numpy\n",
    "author: 신호연\n",
    "date: 2023-01-07\n",
    "---"
   ]
  },
  {
   "attachments": {},
   "cell_type": "markdown",
   "metadata": {},
   "source": [
    "# <span style = \"color:#00994c\"> **Gradient와 수치미분**"
   ]
  },
  {
   "attachments": {},
   "cell_type": "markdown",
   "metadata": {},
   "source": [
    "${\\bf x} =\\begin{bmatrix}x_1&x_2&\\dots&x_m\\end{bmatrix}^T$일 때, $x$에 대한 다변수함수 $f({\\bf x})$의 gradient는 다음과 같다.\n",
    "\n",
    "\\begin{aligned}\n",
    "&\\text{gradient of }f({\\bf{x}}) = \\frac{\\partial f}{\\partial {\\bf x}} = \\nabla f(\\bf{x}) = \n",
    "\\begin{pmatrix}\n",
    "\\frac{\\partial f}{\\partial x_1} \\\\ \\frac{\\partial f}{\\partial x_2} \\\\ \\vdots \\\\ \\frac{\\partial }{\\partial x_m}\n",
    "\\end{pmatrix} \n",
    "\\end{aligned}\n",
    "\n",
    "함수가 가지는 모든 변수에 대해서 편미분 한 뒤 모아놓은 벡터라고 생각하면 된다. 함수의 수식을 알고 미분이 가능하면 우리는 해석적으로 미분해서(미분공식써서) 그레디언트를 구하고 각각의 어떤 point에서의 편미분계수도 구할 수 있다. 그러나 우리가 데이터를 받을때는 함수f에 대한 함숫값들이 주어진다. 예를 들면 다음과 같다."
   ]
  },
  {
   "cell_type": "code",
   "execution_count": 6,
   "metadata": {},
   "outputs": [
    {
     "name": "stdout",
     "output_type": "stream",
     "text": [
      "함숫값들\n",
      "[ 1.  2.  4.  7. 11. 17.]\n"
     ]
    }
   ],
   "source": [
    "import numpy as np\n",
    "f = np.array([1,2,4,7,11,17],dtype = float)\n",
    "print(\"함숫값들\")\n",
    "print(f)"
   ]
  },
  {
   "attachments": {},
   "cell_type": "markdown",
   "metadata": {},
   "source": [
    "위와 같은 함숫값들만 주어질때에는 원래의 함수를 알기는 불가능하다. 따라서 정확한 도함수를 통한 정확한 미분계수를 구하기가 불가능하므로 주어진 데이터로 $\\bf x$에서의  <span style = \"color:blue\">**미분계수의 값을 근사**</span>적으로 구할 수 있는데 이것이 수치미분이다."
   ]
  },
  {
   "attachments": {},
   "cell_type": "markdown",
   "metadata": {},
   "source": [
    "# <span style = \"color : #00994C\"> **Taylor Series**"
   ]
  },
  {
   "attachments": {},
   "cell_type": "markdown",
   "metadata": {},
   "source": [
    "수치미분을 구하기 위해서는 먼저 테일러 급수가 나온다. 함수 $f$가 a를 포함하는 구간에서 무한번 미분 가능할 때, $x = a$에서 $f(x)$의 테일러 급수 전개(근사)는 다음과 같다.<br>\n",
    "$$f(x) = \\sum_{n=0}^{\\infty}\\frac{f^{n}(a)}{n!}(x-a)^n = f(a) + \\frac{f^{'}(a)}{1!}(x-a) + \\frac{f^{''}(a)}{2!}(x-a)^2 + \\dots $$\n",
    "테일러급수는 어떤 함수를 다항함수의 합으로 표현하며 한점a에서의 미분계수의 합으로 표현한다는 것에 의미가 있다. 다만 주의할 점은 $a$의 위치와 다항식의 차수이다. $a$가 $x$근처에 가까울 수록 원래의 함수를 잘 근사하며 다항식의 차수 $n$이 클수록 오차가 작아진다."
   ]
  },
  {
   "attachments": {},
   "cell_type": "markdown",
   "metadata": {},
   "source": [
    "# <span style = \"color : #00994C\"> **수치미분**"
   ]
  },
  {
   "attachments": {},
   "cell_type": "markdown",
   "metadata": {},
   "source": [
    "전향차분근사\n",
    "\\begin{align}\n",
    "&f'(x_i) \\overset{\\sim}{=} \\frac{f(x_{i+1})-f(x_i)}{h}\\\\ \n",
    "&O(h) = - \\frac{hf^{''}(x_i)}{2!} - \\frac{h^2f^{'''}(x_i)}{3!} - \\dots\\\\\n",
    "&\\text{where, } h = x_{i+1} - x_i \\nonumber\n",
    "\\end{align}"
   ]
  },
  {
   "attachments": {},
   "cell_type": "markdown",
   "metadata": {},
   "source": [
    "여기서 $O(h)$는 무한한항을 유한한항으로 근사시킬때 나타나는 절단오차라고 하며 h가 포함된 항이 가장 크게 기여하므로 $O(h)$로 표기한다. 절단오차에서 h의 차수는 크면 클수록 좋다. $p<q$라 가정하고 같은 구간안에서 더 많은 데이터를 얻었다고 하면 $h$가 작아지면 작아질수록 $h^p$가 최고차항인 절단오차 $O(h^p)$ 보다는 $h^q$가 최고차항인 $O(h^q)$가 더 빨리 작아지기 때문이다. <br>\n",
    "\n",
    "(1)번식을 도함수$f'(x_i)$의 (1차)전향차분근사라고 한다.$x_i$의 도함수(미분계수)를 구하기 위해 $x_{i+1}$을 사용했기에 전향 + 절단오차의 차수가 1인 $O(h)$이기 떄문에 그렇다."
   ]
  },
  {
   "attachments": {},
   "cell_type": "markdown",
   "metadata": {},
   "source": [
    "후향차분근사\n",
    "\\begin{align}\n",
    "&f'(x_i) \\overset{\\sim}{=} \\frac{f(x_{i})-f(x_{i-1})}{h}\\\\\n",
    "&O(h) = \\frac{h}{2!}f^{''}(x_i) - \\frac{h^2}{3!}f{'''}(x_i)+\\dots \\\\\n",
    "&\\text{where, } h = x_{i} - x_{i-1}, \\nonumber\n",
    "\\end{align}"
   ]
  },
  {
   "attachments": {},
   "cell_type": "markdown",
   "metadata": {},
   "source": [
    "(1)번식을 도함수$f'(x_i)$의 (1차)후향차분근사라고 한다.$x_i$의 도함수(미분계수)를 구하기 위해 $x_{i-1}$을 사용했기에 후향 + 절단오차의 차수가 1인 $O(h)$이기 때문이다. 또한 후향차분근사의 절단오차는 전향차분근사와 마찬가지로 $O(h)$로 서로 동일하다."
   ]
  },
  {
   "attachments": {},
   "cell_type": "markdown",
   "metadata": {},
   "source": [
    "중앙차분근사<br>\n",
    "\\begin{align}\n",
    "&f'(x_i) \\overset{\\sim}{=} \\frac{f(x_{i+1})-f(x_{i-1})}{2h}\\\\\n",
    "&O(h) = - \\frac{h^2}{3!}f{'''}(x_i)+\\dots \\\\\n",
    "&\\text{where, } h = x_{i} - x_{i-1}\\,\\,\\text{or}\\,\\, h = x_{i+1} - x_i\\nonumber\n",
    "\\end{align}"
   ]
  },
  {
   "attachments": {},
   "cell_type": "markdown",
   "metadata": {},
   "source": [
    "(1)번식을 도함수$f'(x_i)$의 (2차)중앙차분근사라고 한다.$x_i$의 도함수(미분계수)를 구하기 위해 $x_{i-1},x_{i+1}$을 사용했기에 중앙이라는 단어가 붙었고\n",
    "절단오차의 차수가 2인 $O(h^2)$이기 때문이다. 또한 (2차)중앙차분근사의 절단오차는 $O(h^2)$으로 최고차항이 $h$인 전향,후향차분근사와는 다르다. 이는 같은 구간안에서 더 데이터를 많이 취득할수록 근사식의 오차가 더 빠르게 줄어듬을 의미한다."
   ]
  },
  {
   "cell_type": "code",
   "execution_count": null,
   "metadata": {},
   "outputs": [],
   "source": []
  },
  {
   "cell_type": "code",
   "execution_count": null,
   "metadata": {},
   "outputs": [],
   "source": []
  },
  {
   "cell_type": "code",
   "execution_count": null,
   "metadata": {},
   "outputs": [],
   "source": []
  },
  {
   "cell_type": "code",
   "execution_count": null,
   "metadata": {},
   "outputs": [],
   "source": []
  },
  {
   "cell_type": "code",
   "execution_count": null,
   "metadata": {},
   "outputs": [],
   "source": []
  },
  {
   "cell_type": "code",
   "execution_count": null,
   "metadata": {},
   "outputs": [],
   "source": []
  },
  {
   "cell_type": "code",
   "execution_count": null,
   "metadata": {},
   "outputs": [],
   "source": []
  },
  {
   "cell_type": "code",
   "execution_count": null,
   "metadata": {},
   "outputs": [],
   "source": []
  },
  {
   "attachments": {},
   "cell_type": "markdown",
   "metadata": {},
   "source": [
    "# <span style = \"color : #00994c\">**Appendix**"
   ]
  },
  {
   "attachments": {},
   "cell_type": "markdown",
   "metadata": {},
   "source": [
    "## **전향차분근사 유도**"
   ]
  },
  {
   "attachments": {},
   "cell_type": "markdown",
   "metadata": {},
   "source": [
    "$x_1,x_2,\\dots,x_{i-1},x_i,x_{i+1},\\dots,x_n$과 각각에 대응하는 함숫값 $f(x_1),f(x_2),\\dots,f(x_{i-1}),f(x_i),f(x_{i+1}),\\dots,f(x_n)$ 주어진 데이터라고 가정하자. 목적은 x_i에서의 미분계수를 구하는 것이다. $x = x_i$에서 함수$f(x)$의 테일러 급수 근사는 다음과 같다.<br>\n",
    "$$f(x) = \\sum_{n=0}^{\\infty}\\frac{f^{n}(x_i)}{n!}(x-x_i)^n = f(x_i) + \\frac{f^{'}(x_i)}{1!}(x-x_i) + \\frac{f^{''}(x_i)}{2!}(x-x_i)^2 + \\dots $$"
   ]
  },
  {
   "attachments": {},
   "cell_type": "markdown",
   "metadata": {},
   "source": [
    "$x=x_{i+1}$에서의 함숫값은 다음과 같다.<br>\n",
    "$$f(x_{i+1}) = \\sum_{n=0}^{\\infty}\\frac{f^{n}(x_i)}{n!}(x_{i+1}-x_i)^n = f(x_i) + \\frac{f^{'}(x_i)}{1!}(x_{i+1}-x_i) + \\frac{f^{''}(x_i)}{2!}(x_{i+1}-x_i)^2 + \\dots $$"
   ]
  },
  {
   "attachments": {},
   "cell_type": "markdown",
   "metadata": {},
   "source": [
    "$f'(x_i)$가 포함된항만 남겨두고 나머지는 이항하면 다음과 같다.<br>\n",
    " $$f^{'}(x_i)(x_{i+1}-x_i) = f(x_{i+1}) - f(x_i) - \\frac{f^{''}(x_i)}{2!}(x_{i+1}-x_i)^2 + \\dots$$"
   ]
  },
  {
   "attachments": {},
   "cell_type": "markdown",
   "metadata": {},
   "source": [
    "$h = x_{i+1}-x_i$로 두고 양변을 h로 나누면 다음과 같다.<br>\n",
    "$$f'(x_i) = \\frac{f(x_{i+1})}{h} - \\frac{f(x_i)}{h} - \\frac{hf^{''}(x_i)}{2!} - \\frac{h^2f^{'''}(x_i)}{3!}$$"
   ]
  },
  {
   "attachments": {},
   "cell_type": "markdown",
   "metadata": {},
   "source": [
    "여기서 우변의 두개의 항만 남겨두고 $O(h) = - \\frac{hf^{''}(x_i)}{2!} - \\frac{h^2f^{'''}(x_i)}{3!} - \\dots$라 하면 다음과 같다.<br>\n",
    "\\begin{align}\n",
    "&f'(x_i) \\overset{\\sim}{=} \\frac{f(x_{i+1})-f(x_i)}{h}\\\\ \n",
    "&O(h) = - \\frac{hf^{''}(x_i)}{2!} - \\frac{h^2f^{'''}(x_i)}{3!} - \\dots\\\\\n",
    "&\\text{where, } h = x_{i+1} - x_i \\nonumber\n",
    "\\end{align}"
   ]
  },
  {
   "attachments": {},
   "cell_type": "markdown",
   "metadata": {},
   "source": [
    "## **후향차분근사 유도**"
   ]
  },
  {
   "attachments": {},
   "cell_type": "markdown",
   "metadata": {},
   "source": [
    "$x_1,x_2,\\dots,x_{i-1},x_i,x_{i+1},\\dots,x_n$과 각각에 대응하는 함숫값 $f(x_1),f(x_2),\\dots,f(x_{i-1}),f(x_i),f(x_{i+1}),\\dots,f(x_n)$ 주어진 데이터라고 가정하자. 목적은 x_i에서의 미분계수를 구하는 것이다. $x = x_i$에서 함수$f(x)$의 테일러 급수 근사는 다음과 같다.<br>\n",
    "$$f(x) = \\sum_{n=0}^{\\infty}\\frac{f^{n}(x_i)}{n!}(x-x_i)^n = f(x_i) + \\frac{f^{'}(x_i)}{1!}(x-x_i) + \\frac{f^{''}(x_i)}{2!}(x-x_i)^2 + \\dots $$"
   ]
  },
  {
   "attachments": {},
   "cell_type": "markdown",
   "metadata": {},
   "source": [
    "$f(x_i)$는 다음과 같다.<br>\n",
    "$$f(x_{i-1}) = \\sum_{n=0}^{\\infty}\\frac{f^n(x_i)}{n!}(x_{i-1}-x_i)^n = f(x_i) + \\frac{f^{'}(x_i)}{1!}(x_{i-1}-x_i) + \\frac{f^{''}(x_i)}{2!}(x_{i-1}-x_i)^2+\\dots $$\n"
   ]
  },
  {
   "attachments": {},
   "cell_type": "markdown",
   "metadata": {},
   "source": [
    "1차미분이 포함된 항만 남기고 나머지는 이항하면 다음과 같다.<br>\n",
    "$$f^{'}(x_i)(x_{i-1}-x_i) = f(x_{i-1}) - f(x_i) - \\frac{f^{''}(x_i)}{2!}(x_{i-1}-x_i)^2-\\frac{f^{'''}(x_i)}{3!}(x_{i-1}-x_i)^3-\\dots $$"
   ]
  },
  {
   "attachments": {},
   "cell_type": "markdown",
   "metadata": {},
   "source": [
    "$h = x_{i} - x_{i-1}$로 놓으면 다음과 같다.<br>\n",
    "$$f^{'}(x_i)(-h) = f(x_{i-1}) - f(x_i) - \\frac{f^{''}(x_i)}{2!}h^2+\\frac{f^{'''}(x_i)}{3!}h^3-\\dots $$\n"
   ]
  },
  {
   "attachments": {},
   "cell_type": "markdown",
   "metadata": {},
   "source": [
    "양변을 $-h$로 나누면 다음과 같다.<br>\n",
    "\\begin{aligned}\n",
    "f^{'}(x_i) &= \\frac{f(x_{i-1})}{-h} + \\frac{f(x_i)}{h} + \\frac{f^{''}(x_i)}{2!}h-\\frac{f^{'''}(x_i)}{3!}h^2+\\dots \\\\\n",
    "&=\\frac{f(x_i)-f(x_{i-1}) }{h} +  \\frac{f^{''}(x_i)}{2!}h-\\frac{f^{'''}(x_i)}{3!}h^2+\\dots\n",
    "\\end{aligned}\n"
   ]
  },
  {
   "attachments": {},
   "cell_type": "markdown",
   "metadata": {},
   "source": [
    "마찬가지로 우변의 두개 항만 남겨두고 $O(h) = \\frac{hf^{''}(x_i)}{2!} - \\frac{h^2f^{'''}(x_i)}{3!} + \\dots$라 하면 다음과 같다.\n",
    "\\begin{align}\n",
    "&f'(x_i) \\overset{\\sim}{=} \\frac{f(x_{i})-f(x_{i-1})}{h}\\\\\n",
    "&O(h) = \\frac{h}{2!}f^{''}(x_i) - \\frac{h^2}{3!}f{'''}(x_i)+\\dots \\\\\n",
    "&\\text{where, } h = x_{i} - x_{i-1}, \\nonumber\n",
    "\\end{align}"
   ]
  },
  {
   "attachments": {},
   "cell_type": "markdown",
   "metadata": {},
   "source": [
    "## **중앙차분근사 유도**"
   ]
  },
  {
   "attachments": {},
   "cell_type": "markdown",
   "metadata": {},
   "source": [
    "전향차분근사와 후향차분근사의 유도과정에서의 테일러 전개식은 다음과 같다.<br>\n",
    "$$f'(x_i) = \\frac{f(x_{i+1})}{h} - \\frac{f(x_i)}{h} - \\frac{hf^{''}(x_i)}{2!} - \\frac{h^2f^{'''}(x_i)}{3!} - ...$$\n",
    "$$f'(x_i) = \\frac{f(x_{i})}{h} - \\frac{f(x_{i-1})}{h} + \\frac{hf^{''}(x_i)}{2!} - \\frac{h^2f^{'''}(x_i)}{3!} + ...$$\n"
   ]
  },
  {
   "attachments": {},
   "cell_type": "markdown",
   "metadata": {},
   "source": [
    "두 식을 더해주면 다음과 같다.\n",
    "\\begin{aligned}\n",
    "&2f^{'}(x_i) = \\frac{f(x_{i+1})-f(x_{i-1})}{h} - \\frac{2h^2f^{'''}(x_i)}{3!} \\\\\n",
    "&\\Leftrightarrow f^{'}(x_i) = \\frac{f(x_{i+1})-f(x_{i-1})}{2h} - \\frac{h^2f^{'''}(x_i)}{3!} - ...\n",
    "\\end{aligned}"
   ]
  },
  {
   "attachments": {},
   "cell_type": "markdown",
   "metadata": {},
   "source": [
    "마찬가지로 우변의 두개 항만 남겨두고 절단오차$O(h^2) = -\\frac{h^2f^{'''}(x_i)}{3!} - \\dots$라 하면 다음과 같다.\n",
    "\\begin{align}\n",
    "&f'(x_i) \\overset{\\sim}{=} \\frac{f(x_{i+1})-f(x_{i-1})}{2h}\\\\\n",
    "&O(h) = - \\frac{h^2}{3!}f{'''}(x_i)+\\dots \\\\\n",
    "&\\text{where, } h = x_{i} - x_{i-1}\\,\\,\\text{or}\\,\\, h = x_{i+1} - x_i\\nonumber\n",
    "\\end{align}"
   ]
  },
  {
   "attachments": {},
   "cell_type": "markdown",
   "metadata": {},
   "source": [
    "# <span style = \"color:#00994c\"> **np.gradient?**"
   ]
  },
  {
   "attachments": {},
   "cell_type": "markdown",
   "metadata": {},
   "source": [
    "넘파이의 그래디언트함수는 스칼라함수의 그래디언트를 계산해주는 함수다.<br>\n",
    "## Parameter\n",
    "f : N-차원 배열,스칼라 함수의 y값의 모음<br>\n",
    "이 밖에 여러가지 파라미터가 입력...\n",
    "## Returns\n",
    "gradient : N-차원 배열"
   ]
  },
  {
   "attachments": {},
   "cell_type": "markdown",
   "metadata": {},
   "source": [
    "그래디언트는 x의 변화를 y의 변화로 나누어주는 것이다. 여기서 x의 변화는 배열의 인덱스간의 차이인 \"1\"이며 y값 변화는 배열의 요소간의 차이이다.<br>\n",
    "\n",
    "배열의 맨 바깥쪽에 있는 값들에 대해서는 1차차분 다시말해 두 값사이의 차이로 계산된다.안쪽에 있는 값들에 대해서는 양ㅇ"
   ]
  },
  {
   "attachments": {},
   "cell_type": "markdown",
   "metadata": {},
   "source": [
    "# <span style = \"color : #00994C\">**참고자료**\n",
    "[다크프로그래머 - 테일러급수의 이해와 활용](https://darkpgmr.tistory.com/59)<br>\n",
    "[위키피디아 - 테일러급수](https://ko.wikipedia.org/wiki/%ED%85%8C%EC%9D%BC%EB%9F%AC_%EA%B8%89%EC%88%98)<br>\n",
    "[링크](https://subprofessor.tistory.com/13)<br>\n",
    "[링크2](https://m.blog.naver.com/PostView.naver?isHttpsRedirect=true&blogId=y244&logNo=221067641890)<br>\n",
    "[링크3](https://normal-engineer.tistory.com/97)<br>\n",
    "[링크4](http://www.ktword.co.kr/test/view/view.php?m_temp1=5885)<br>\n",
    "[링크5](https://pythonnumericalmethods.berkeley.edu/notebooks/chapter15.03-The-QR-Method.html)"
   ]
  },
  {
   "cell_type": "code",
   "execution_count": null,
   "metadata": {},
   "outputs": [],
   "source": []
  },
  {
   "cell_type": "code",
   "execution_count": null,
   "metadata": {},
   "outputs": [],
   "source": []
  },
  {
   "cell_type": "code",
   "execution_count": null,
   "metadata": {},
   "outputs": [],
   "source": []
  },
  {
   "cell_type": "raw",
   "metadata": {},
   "source": []
  },
  {
   "cell_type": "raw",
   "metadata": {},
   "source": []
  },
  {
   "cell_type": "raw",
   "metadata": {},
   "source": []
  },
  {
   "cell_type": "raw",
   "metadata": {},
   "source": []
  },
  {
   "cell_type": "raw",
   "metadata": {},
   "source": []
  },
  {
   "attachments": {},
   "cell_type": "markdown",
   "metadata": {},
   "source": []
  },
  {
   "cell_type": "raw",
   "metadata": {},
   "source": []
  },
  {
   "cell_type": "code",
   "execution_count": null,
   "metadata": {},
   "outputs": [],
   "source": []
  }
 ],
 "metadata": {
  "kernelspec": {
   "display_name": "base",
   "language": "python",
   "name": "python3"
  },
  "language_info": {
   "codemirror_mode": {
    "name": "ipython",
    "version": 3
   },
   "file_extension": ".py",
   "mimetype": "text/x-python",
   "name": "python",
   "nbconvert_exporter": "python",
   "pygments_lexer": "ipython3",
   "version": "3.9.13 (main, Aug 25 2022, 23:51:50) [MSC v.1916 64 bit (AMD64)]"
  },
  "orig_nbformat": 4,
  "vscode": {
   "interpreter": {
    "hash": "0478b8cb1c47bafb71305148a49d30528a4d9c22ca2de336c01aa5a8230a459a"
   }
  }
 },
 "nbformat": 4,
 "nbformat_minor": 2
}
