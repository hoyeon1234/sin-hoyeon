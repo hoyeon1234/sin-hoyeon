{
 "cells": [
  {
   "cell_type": "raw",
   "metadata": {},
   "source": [
    "---\n",
    "title: \"np.gradient와 수치미분\"\n",
    "format: html\n",
    "categories: numpy\n",
    "author: 신호연\n",
    "date: 2023-01-07\n",
    "---"
   ]
  },
  {
   "attachments": {},
   "cell_type": "markdown",
   "metadata": {},
   "source": [
    "# <span style = \"color:#00994c\"> **Gradient와 수치미분**"
   ]
  },
  {
   "attachments": {},
   "cell_type": "markdown",
   "metadata": {},
   "source": [
    "${\\bf x} =\\begin{bmatrix}x_1&x_2&\\dots&x_m\\end{bmatrix}^T$일 때, $x$에 대한 다변수함수 $f({\\bf x})$의 gradient는 다음과 같다.\n",
    "\n",
    "\\begin{aligned}\n",
    "&\\text{gradient of }f({\\bf{x}}) = \\frac{\\partial f}{\\partial {\\bf x}} = \\nabla f(\\bf{x}) = \n",
    "\\begin{pmatrix}\n",
    "\\frac{\\partial f}{\\partial x_1} \\\\ \\frac{\\partial f}{\\partial x_2} \\\\ \\vdots \\\\ \\frac{\\partial }{\\partial x_m}\n",
    "\\end{pmatrix} \n",
    "\\end{aligned}\n",
    "\n",
    "함수가 가지는 모든 변수에 대해서 편미분 한 뒤 모아놓은 벡터라고 생각하면 된다. 함수의 수식을 알고 미분이 가능하면 우리는 해석적으로 미분해서(미분공식써서) 그레디언트를 구하고 각각의 어떤 point에서의 편미분계수도 구할 수 있다. 그러나 우리가 데이터를 받을때는 함수f에 대한 함숫값들이 주어진다. 예를 들면 다음과 같다."
   ]
  },
  {
   "cell_type": "code",
   "execution_count": 6,
   "metadata": {},
   "outputs": [
    {
     "name": "stdout",
     "output_type": "stream",
     "text": [
      "함숫값들\n",
      "[ 1.  2.  4.  7. 11. 17.]\n"
     ]
    }
   ],
   "source": [
    "import numpy as np\n",
    "f = np.array([1,2,4,7,11,17],dtype = float)\n",
    "print(\"함숫값들\")\n",
    "print(f)"
   ]
  },
  {
   "attachments": {},
   "cell_type": "markdown",
   "metadata": {},
   "source": [
    "위와 같은 함숫값들만 주어질때에는 원래의 함수를 알기는 불가능하다. 따라서 정확한 도함수를 통한 정확한 미분계수를 구하기가 불가능하므로 주어진 데이터로 $\\bf x$에서의  <span style = \"color:blue\">**미분계수의 값을 근사**</span>적으로 구할 수 있는데 이것이 수치미분이다."
   ]
  },
  {
   "attachments": {},
   "cell_type": "markdown",
   "metadata": {},
   "source": [
    "# <span style = \"color : #00994C\"> **Taylor Series**"
   ]
  },
  {
   "attachments": {},
   "cell_type": "markdown",
   "metadata": {},
   "source": [
    "수치미분을 구하기 위해서는 먼저 테일러 급수가 나온다. 함수 $f$가 a를 포함하는 구간에서 무한번 미분 가능할 때, $x = a$에서 $f(x)$의 테일러 급수 전개(근사)는 다음과 같다.<br>\n",
    "$$f(x) = \\sum_{n=0}^{\\infty}\\frac{f^{n}(a)}{n!}(x-a)^n = f(a) + \\frac{f^{'}(a)}{1!}(x-a) + \\frac{f^{''}(a)}{2!}(x-a)^2 + \\dots $$\n",
    "테일러급수는 어떤 함수를 다항함수의 합으로 표현하며 한점a에서의 미분계수의 합으로 표현한다는 것에 의미가 있다. 다만 주의할 점은 $a$의 위치와 다항식의 차수이다. $a$가 $x$근처에 가까울 수록 원래의 함수를 잘 근사하며 다항식의 차수 $n$이 클수록 오차가 작아진다."
   ]
  },
  {
   "attachments": {},
   "cell_type": "markdown",
   "metadata": {},
   "source": [
    "# <span style = \"color : #00994C\"> **수치미분**"
   ]
  },
  {
   "attachments": {},
   "cell_type": "markdown",
   "metadata": {},
   "source": [
    "## **1차전향차분근사 & 1차후향차분근사**"
   ]
  },
  {
   "attachments": {},
   "cell_type": "markdown",
   "metadata": {},
   "source": [
    "$x_1,x_2,\\dots,x_{i-1},x_i,x_{i+1},\\dots,x_n$과 각각에 대응하는 함숫값 $f(x_1),f(x_2),\\dots,f(x_{i-1}),f(x_i),f(x_{i+1}),\\dots,f(x_n)$ 주어진 데이터라고 가정하자. 목적은 x_i에서의 미분계수를 구하는 것이다. $x = x_i$에서 함수$f(x)$의 테일러 급수 근사는 다음과 같다.\n",
    "$$f(x) = \\sum_{n=0}^{\\infty}\\frac{f^{n}(x_i)}{n!}(x-x_i)^n = f(x_i) + \\frac{f^{'}(x_i)}{1!}(x-x_i) + \\frac{f^{''}(x_i)}{2!}(x-x_i)^2 + \\dots $$"
   ]
  },
  {
   "attachments": {},
   "cell_type": "markdown",
   "metadata": {},
   "source": [
    "$x=x_{i+1}$에서의 함숫값은 다음과 같다.\n",
    "$$f(x_{i+1}) = \\sum_{n=0}^{\\infty}\\frac{f^{n}(x_i)}{n!}(x_{i+1}-x_i)^n = f(x_i) + \\frac{f^{'}(x_i)}{1!}(x_{i+1}-x_i) + \\frac{f^{''}(x_i)}{2!}(x_{i+1}-x_i)^2 + \\dots $$"
   ]
  },
  {
   "attachments": {},
   "cell_type": "markdown",
   "metadata": {},
   "source": [
    "$f'(x_i)$가 포함된항만 남겨두고 나머지는 이항하면 다음과 같다.\n",
    " $$f^{'}(x_i)(x_{i+1}-x_i) = f(x_{i+1}) - f(x_i) - \\frac{f^{''}(x_i)}{2!}(x_{i+1}-x_i)^2 + \\dots$$"
   ]
  },
  {
   "attachments": {},
   "cell_type": "markdown",
   "metadata": {},
   "source": [
    "$h = x_{i+1}-x_i$로 두고 양변을 h로 나누면 다음과 같다.\n",
    "$$f'(x_i) = \\frac{f(x_{i+1})}{h} - \\frac{f(x_i)}{h} - \\frac{hf^{''}(x_i)}{2!} - \\frac{h^2f^{''}(x_i)}{3!}$$"
   ]
  },
  {
   "attachments": {},
   "cell_type": "markdown",
   "metadata": {},
   "source": [
    "1차후향차분근사의 경우 $x = x_{i-1}$을 대입하면 얻을 수 있으며 오차는 전향차분의 경우와 같다. 구체적으로는 아래와 같다.\n",
    "\\begin{aligned}\n",
    "&f'(x_i) \\overset{\\sim}{=} \\frac{f(x_{i})-f(x_{i-1})}{h} \\\\\n",
    "&\\text{where, } x_{i+1} = x_i + h\n",
    "\\end{aligned}"
   ]
  },
  {
   "attachments": {},
   "cell_type": "markdown",
   "metadata": {},
   "source": [
    "여기서 우변의 두개의 항만 남겨두고 $O(h) = - \\frac{hf^{''}(x_i)}{2!} - \\frac{h^2f^{''}(x_i)}{3!} - \\dots$라 하면 다음과 같다.\n",
    "$$f'(x_i) = \\frac{f(x_{i+1})-f(x_i)}{h} - O(h)$$"
   ]
  },
  {
   "attachments": {},
   "cell_type": "markdown",
   "metadata": {},
   "source": [
    "$O(h)$를 제거하면 다음과 같다.\n",
    "\\begin{aligned}\n",
    "&f'(x_i) \\overset{\\sim}{=} \\frac{f(x_{i+1})-f(x_i)}{h}\\\\\n",
    "&\\text{where, } x_{i+1} = x_i + h\n",
    "\\end{aligned}"
   ]
  },
  {
   "cell_type": "markdown",
   "metadata": {},
   "source": []
  },
  {
   "attachments": {},
   "cell_type": "markdown",
   "metadata": {},
   "source": [
    "## **2차중앙차분근사**"
   ]
  },
  {
   "attachments": {},
   "cell_type": "markdown",
   "metadata": {},
   "source": [
    "# <span style = \"color:#00994c\"> **np.gradient?**"
   ]
  },
  {
   "attachments": {},
   "cell_type": "markdown",
   "metadata": {},
   "source": [
    "넘파이의 그래디언트함수는 스칼라함수의 그래디언트를 계산해주는 함수다.<br>\n",
    "## Parameter\n",
    "f : N-차원 배열,스칼라 함수의 y값의 모음<br>\n",
    "이 밖에 여러가지 파라미터가 입력...\n",
    "## Returns\n",
    "gradient : N-차원 배열"
   ]
  },
  {
   "attachments": {},
   "cell_type": "markdown",
   "metadata": {},
   "source": [
    "그래디언트는 x의 변화를 y의 변화로 나누어주는 것이다. 여기서 x의 변화는 배열의 인덱스간의 차이인 \"1\"이며 y값 변화는 배열의 요소간의 차이이다.<br>\n",
    "\n",
    "배열의 맨 바깥쪽에 있는 값들에 대해서는 1차차분 다시말해 두 값사이의 차이로 계산된다.안쪽에 있는 값들에 대해서는 양ㅇ"
   ]
  },
  {
   "attachments": {},
   "cell_type": "markdown",
   "metadata": {},
   "source": [
    "# <span style = \"color : #00994C\">**참고자료**\n",
    "[다크프로그래머 - 테일러급수의 이해와 활용](https://darkpgmr.tistory.com/59)<br>\n",
    "[위키피디아 - 테일러급수](https://ko.wikipedia.org/wiki/%ED%85%8C%EC%9D%BC%EB%9F%AC_%EA%B8%89%EC%88%98)<br>\n",
    "[링크](https://subprofessor.tistory.com/13)<br>\n",
    "[링크2](https://m.blog.naver.com/PostView.naver?isHttpsRedirect=true&blogId=y244&logNo=221067641890)<br>\n",
    "[링크3](https://normal-engineer.tistory.com/97)<br>\n",
    "[링크4](http://www.ktword.co.kr/test/view/view.php?m_temp1=5885)<br>\n",
    "[링크5](https://pythonnumericalmethods.berkeley.edu/notebooks/chapter15.03-The-QR-Method.html)"
   ]
  },
  {
   "cell_type": "code",
   "execution_count": null,
   "metadata": {},
   "outputs": [],
   "source": []
  },
  {
   "cell_type": "code",
   "execution_count": null,
   "metadata": {},
   "outputs": [],
   "source": []
  },
  {
   "cell_type": "code",
   "execution_count": null,
   "metadata": {},
   "outputs": [],
   "source": []
  },
  {
   "cell_type": "raw",
   "metadata": {},
   "source": []
  },
  {
   "cell_type": "raw",
   "metadata": {},
   "source": []
  },
  {
   "cell_type": "raw",
   "metadata": {},
   "source": []
  },
  {
   "cell_type": "raw",
   "metadata": {},
   "source": []
  },
  {
   "cell_type": "raw",
   "metadata": {},
   "source": []
  },
  {
   "attachments": {},
   "cell_type": "markdown",
   "metadata": {},
   "source": []
  },
  {
   "cell_type": "raw",
   "metadata": {},
   "source": []
  },
  {
   "cell_type": "code",
   "execution_count": null,
   "metadata": {},
   "outputs": [],
   "source": []
  }
 ],
 "metadata": {
  "kernelspec": {
   "display_name": "base",
   "language": "python",
   "name": "python3"
  },
  "language_info": {
   "codemirror_mode": {
    "name": "ipython",
    "version": 3
   },
   "file_extension": ".py",
   "mimetype": "text/x-python",
   "name": "python",
   "nbconvert_exporter": "python",
   "pygments_lexer": "ipython3",
   "version": "3.9.13"
  },
  "orig_nbformat": 4,
  "vscode": {
   "interpreter": {
    "hash": "0478b8cb1c47bafb71305148a49d30528a4d9c22ca2de336c01aa5a8230a459a"
   }
  }
 },
 "nbformat": 4,
 "nbformat_minor": 2
}
