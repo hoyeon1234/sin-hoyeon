{
 "cells": [
  {
   "cell_type": "raw",
   "metadata": {},
   "source": [
    "---\n",
    "title: \"Untitled\"\n",
    "format: html\n",
    "---"
   ]
  },
  {
   "attachments": {},
   "cell_type": "markdown",
   "metadata": {},
   "source": [
    "# <span style = \"color : black\"> **Import & Data Load**"
   ]
  },
  {
   "cell_type": "code",
   "execution_count": 1,
   "metadata": {},
   "outputs": [],
   "source": [
    "# prerequisites\n",
    "import torch\n",
    "import torch.nn as nn\n",
    "import torch.nn.functional as F\n",
    "from torchvision import transforms,datasets\n",
    "import matplotlib.pyplot as plt\n",
    "from torch.distributions.multivariate_normal import MultivariateNormal\n",
    "from torch.distributions.normal import Normal\n",
    "\n",
    "bs = 100\n",
    "# MNIST Dataset\n",
    "train_dataset = datasets.MNIST(root='./mnist_data/', train=True, transform=transforms.ToTensor(), download=True)\n",
    "test_dataset = datasets.MNIST(root='./mnist_data/', train=False, transform=transforms.ToTensor(), download=False)\n",
    "\n",
    "# Data Loader (Input Pipeline)\n",
    "train_loader = torch.utils.data.DataLoader(dataset=train_dataset, batch_size=bs, shuffle=True)\n",
    "test_loader = torch.utils.data.DataLoader(dataset=test_dataset, batch_size=bs, shuffle=False)"
   ]
  },
  {
   "cell_type": "code",
   "execution_count": 2,
   "metadata": {},
   "outputs": [],
   "source": [
    "sig = torch.nn.Sigmoid()"
   ]
  },
  {
   "cell_type": "code",
   "execution_count": 3,
   "metadata": {},
   "outputs": [
    {
     "data": {
      "text/plain": [
       "<matplotlib.image.AxesImage at 0x1efcc237df0>"
      ]
     },
     "execution_count": 3,
     "metadata": {},
     "output_type": "execute_result"
    },
    {
     "data": {
      "image/png": "[encoded data removed]",
      "text/plain": [
       "<Figure size 200x100 with 1 Axes>"
      ]
     },
     "metadata": {},
     "output_type": "display_data"
    }
   ],
   "source": [
    "plt.figure(figsize=(2,1))\n",
    "plt.imshow(train_dataset[0][0].permute(1,2,0).numpy(),cmap=\"gray\")"
   ]
  },
  {
   "attachments": {},
   "cell_type": "markdown",
   "metadata": {},
   "source": [
    "# <span style = \"color : black\"> **Modeling**"
   ]
  },
  {
   "cell_type": "code",
   "execution_count": 4,
   "metadata": {},
   "outputs": [],
   "source": [
    "class Encoder(nn.Module):\n",
    "    def __init__(self,x_dim,latent_dim): #latent space의 dimension은 output_dim // 2\n",
    "        super().__init__()\n",
    "        self.output_dim = latent_dim * 2 #hidden layer output dimension (= latent space dim * 2)\n",
    "        self.latent_dim = latent_dim     #latent variable dimension (= last hidden dim // 2)\n",
    "        \n",
    "        self.l1 = torch.nn.Linear(x_dim,x_dim // 2)\n",
    "        self.tanh = torch.nn.Tanh()\n",
    "        self.l2 = torch.nn.Linear(x_dim // 2,self.output_dim)\n",
    "        #relu\n",
    "        \n",
    "    def forward(self,x):\n",
    "        out = self.tanh(self.l1(x)) #l1 out\n",
    "        out = self.tanh(self.l2(out)) #l2 out\n",
    "        #Note : Dnn's output are mean,log variance\n",
    "        #half of last hidden layers output => mean\n",
    "        #half of last else hidden layers output => log variance        \n",
    "        mean = out[:,:self.latent_dim]    #mean\n",
    "        log_var = out[:,self.latent_dim:] #log_variance\n",
    "        return mean,log_var"
   ]
  },
  {
   "cell_type": "code",
   "execution_count": 5,
   "metadata": {},
   "outputs": [],
   "source": [
    "class Z_Sampler(nn.Module):\n",
    "    def __init__(self,latent_dim):\n",
    "        super().__init__()\n",
    "        self.latent_dim = latent_dim\n",
    "    def forward(self,mean,log_var):\n",
    "        \"\"\"\n",
    "        Sampling z with reparameterization trick\n",
    "        \"\"\"\n",
    "        eps_sampler = MultivariateNormal(loc = torch.tensor([0]*(self.latent_dim)).float(),covariance_matrix = torch.eye(self.latent_dim))\n",
    "        eps_realizations = eps_sampler.sample()\n",
    "        #reparameterization trick z = mu + std * epsilon\n",
    "        #std = exp(ln(1/2 * variance))\n",
    "        z = mean + torch.exp(0.5 * log_var) * eps_realizations  \n",
    "        return z"
   ]
  },
  {
   "cell_type": "code",
   "execution_count": 6,
   "metadata": {},
   "outputs": [],
   "source": [
    "class Decoder(nn.Module):\n",
    "    def __init__(self,latent_dim,out_dim):\n",
    "        super().__init__()\n",
    "        self.latent_dim = latent_dim\n",
    "        self.out_dim = out_dim \n",
    "        \n",
    "        self.l3 = torch.nn.Linear(latent_dim,latent_dim * 2)\n",
    "        self.tanh = torch.nn.Tanh()\n",
    "        self.l4 = torch.nn.Linear(latent_dim * 2,out_dim)\n",
    "        #softmax + cross entropy loss\n",
    "    def forward(self,z):\n",
    "        out = self.tanh(self.l3(z))\n",
    "        out = self.l4(out)\n",
    "        return out"
   ]
  },
  {
   "cell_type": "code",
   "execution_count": 7,
   "metadata": {},
   "outputs": [],
   "source": [
    "class VAE(nn.Module):\n",
    "    def __init__(self,x_dim,latent_dim): #decoder추가해야함\n",
    "        super().__init__()\n",
    "        self.x_dim = self.out_dim = x_dim\n",
    "        self.latent_dim = latent_dim\n",
    "        \n",
    "        self.encoder = Encoder(x_dim,latent_dim)\n",
    "        self.z_sampler = Z_Sampler(latent_dim)\n",
    "        self.decoder = Decoder(latent_dim,x_dim)\n",
    "    def forward(self,x):\n",
    "        mean_1,log_var_1 = self.encoder(x) # input : x // output : parameter phi of q(z|x;\\phi)\n",
    "        z = self.z_sampler(mean_1,log_var_1) # input : parameter phi // output : realization of z\n",
    "        xhat=self.decoder(z)\n",
    "        return xhat"
   ]
  },
  {
   "cell_type": "code",
   "execution_count": 8,
   "metadata": {},
   "outputs": [
    {
     "name": "stdout",
     "output_type": "stream",
     "text": [
      "torch.Size([1, 784])\n"
     ]
    },
    {
     "data": {
      "text/plain": [
       "<matplotlib.image.AxesImage at 0x1efcc45adf0>"
      ]
     },
     "execution_count": 8,
     "metadata": {},
     "output_type": "execute_result"
    },
    {
     "data": {
      "image/png": "[encoded data removed]",
      "text/plain": [
       "<Figure size 640x480 with 1 Axes>"
      ]
     },
     "metadata": {},
     "output_type": "display_data"
    }
   ],
   "source": [
    "_tmp = train_dataset[0][0].reshape(-1,28*28)\n",
    "vae = VAE(x_dim = 28 * 28,latent_dim = 10)\n",
    "print(vae(_tmp).shape)\n",
    "plt.imshow(sig(vae(_tmp)).reshape(28,28).data,cmap = \"gray\")"
   ]
  }
 ],
 "metadata": {
  "kernelspec": {
   "display_name": "base",
   "language": "python",
   "name": "python3"
  },
  "language_info": {
   "codemirror_mode": {
    "name": "ipython",
    "version": 3
   },
   "file_extension": ".py",
   "mimetype": "text/x-python",
   "name": "python",
   "nbconvert_exporter": "python",
   "pygments_lexer": "ipython3",
   "version": "3.9.13"
  },
  "orig_nbformat": 4,
  "vscode": {
   "interpreter": {
    "hash": "0478b8cb1c47bafb71305148a49d30528a4d9c22ca2de336c01aa5a8230a459a"
   }
  }
 },
 "nbformat": 4,
 "nbformat_minor": 2
}
