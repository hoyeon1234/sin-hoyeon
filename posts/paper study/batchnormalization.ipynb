{
 "cells": [
  {
   "cell_type": "raw",
   "metadata": {},
   "source": [
    "---\n",
    "title: \"Batch Normalization: Accelerating Deep Network Training b\n",
    "y Reducing Internal Covariate Shift\"\n",
    "format: html\n",
    "---"
   ]
  },
  {
   "attachments": {},
   "cell_type": "markdown",
   "metadata": {},
   "source": [
    "# <span style = \"color:black\">**Abstract**"
   ]
  },
  {
   "attachments": {},
   "cell_type": "markdown",
   "metadata": {},
   "source": [
    "논문의 저자는 Deep Neural Network에서는 **이전층의 파라미터 변화**로 다음층에 들어가는 **input의 distribution이 학습중에 계속해서 변화**한다고 언급한다.결과적으로 이것은 복잡한 학습을 복잡하게 하며 다음과 같은 3가지를 요구한다.<br>"
   ]
  },
  {
   "attachments": {},
   "cell_type": "markdown",
   "metadata": {},
   "source": [
    "- lower learning rate\n",
    "- careful parameter initialization\n",
    "- hard to train models with saturation nonlinearities(비선형성이 너무 과하여 모델을 학습시키기가 어렵다.)\n"
   ]
  },
  {
   "attachments": {},
   "cell_type": "markdown",
   "metadata": {},
   "source": [
    "그러나 이와 같은 3가지의 **요구사항을 처리하려면** 네트워크는 학습속도가 느려진다."
   ]
  },
  {
   "attachments": {},
   "cell_type": "markdown",
   "metadata": {},
   "source": [
    "이러한 현상을 논문의 저자는 ***internal covariate shift***라고 이것을 막기위해 **normalization for each training mini-batch(Batch Normalization)**을 수행할 것이라고 한다.**Batch Normalization**은 다음과 같은 장점이 있다."
   ]
  },
  {
   "attachments": {},
   "cell_type": "markdown",
   "metadata": {},
   "source": [
    "- allows us to use much higer learning rates\n",
    "- less careful about initilization\n",
    "- acts as a regularizaer\n",
    "- in some cases eliminating the need for dropout"
   ]
  },
  {
   "attachments": {},
   "cell_type": "markdown",
   "metadata": {},
   "source": [
    "# <span style = \"color:black\">**Introduction**"
   ]
  },
  {
   "cell_type": "markdown",
   "metadata": {},
   "source": []
  }
 ],
 "metadata": {
  "kernelspec": {
   "display_name": "base",
   "language": "python",
   "name": "python3"
  },
  "language_info": {
   "codemirror_mode": {
    "name": "ipython",
    "version": 3
   },
   "file_extension": ".py",
   "mimetype": "text/x-python",
   "name": "python",
   "nbconvert_exporter": "python",
   "pygments_lexer": "ipython3",
   "version": "3.9.13"
  },
  "orig_nbformat": 4,
  "vscode": {
   "interpreter": {
    "hash": "0478b8cb1c47bafb71305148a49d30528a4d9c22ca2de336c01aa5a8230a459a"
   }
  }
 },
 "nbformat": 4,
 "nbformat_minor": 2
}
