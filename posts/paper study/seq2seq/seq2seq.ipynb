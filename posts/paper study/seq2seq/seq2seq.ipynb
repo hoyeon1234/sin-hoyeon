{
 "cells": [
  {
   "cell_type": "raw",
   "metadata": {},
   "source": [
    "---\n",
    "title: \"Sequence to Sequence Learning with Neural Networks\"\n",
    "format: html\n",
    "date : 2023-03-06\n",
    "authr : hoyeon\n",
    "---"
   ]
  },
  {
   "attachments": {},
   "cell_type": "markdown",
   "metadata": {},
   "source": [
    "# <span style = \"color:black\"> **Abstract**"
   ]
  },
  {
   "attachments": {},
   "cell_type": "markdown",
   "metadata": {},
   "source": [
    "Deep Nueral Network는 복잡한 task에 놀라운 성능을 보여왔다. 그러나 sequence에서 sequence를 mapping에서는 잘 사용되지 못했다. 논문에서는 **sequence의 구조에 대한 최소한의 가정만으로 sequence를 학습**하는 **end-to-end approach**를 소개한다. 대략적인 방법은 Input sequence를 고정된 크기의 vector로 mapping하는 역할을 **Multi Layered LSTM**이 사용되며 vector로부터 target sequence로부터 mapping할때에도 **또다른 LSTM**을 사용한다."
   ]
  },
  {
   "attachments": {},
   "cell_type": "markdown",
   "metadata": {},
   "source": [
    "# <span style = \"color:black\"> **Problem Setting**"
   ]
  },
  {
   "attachments": {},
   "cell_type": "markdown",
   "metadata": {},
   "source": [
    "DNN(RNN)은 구조상 **고정된 길이의 inputs과 outputs을 가지는 sequence의 mapping만 학습**할 수 있다. 대부분의 sequence에서 sequence를 mapping하는 중요한 문제들 예를들면 machine translation,question answering 같은 task는 **사전에 길이를 제한하지 않아야 좋은 표현을**얻을 수 있기 때문에 이는 **큰 한계**라고 할 수 있다. 논문에서는 이러한 문제를 극복하기 위해 **LSTM** 아키텍쳐를 사용한 **일반적인 sequence to sequence를 풀 수 있는 쉬운 방법**을 설명한다."
   ]
  },
  {
   "attachments": {},
   "cell_type": "markdown",
   "metadata": {},
   "source": [
    "# <span style = \"color:black\"> **Method**"
   ]
  },
  {
   "attachments": {},
   "cell_type": "markdown",
   "metadata": {},
   "source": [
    "![Sequence to Sequence Learning with Neural Networks - Figure 1](./architecture.png)"
   ]
  },
  {
   "attachments": {},
   "cell_type": "markdown",
   "metadata": {},
   "source": [
    "아주 대략적인 방법은 **Input sequence에 LSTM을 사용**하여 **large fixed dimensional vector representation**를 얻고 **또다른 LSTM을 사용**하여 **vector에서 output sequence**를 얻는 것이다. 여기서 굳이 왜 LSTM을 사용하냐는 의문이 들 수 있는데 당시에는 LSTM이 긴 문장을 처리할 수 있는(long range temproal dependencies) state of the art 였기 때문에 그렇다."
   ]
  },
  {
   "cell_type": "markdown",
   "metadata": {},
   "source": []
  }
 ],
 "metadata": {
  "kernelspec": {
   "display_name": "base",
   "language": "python",
   "name": "python3"
  },
  "language_info": {
   "name": "python",
   "version": "3.9.13"
  },
  "orig_nbformat": 4
 },
 "nbformat": 4,
 "nbformat_minor": 2
}
