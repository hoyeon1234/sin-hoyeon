{
 "cells": [
  {
   "cell_type": "raw",
   "metadata": {},
   "source": [
    "---\n",
    "author: 신호연\n",
    "date: 2022-12-26\n",
    "title: \"딥러닝(2) - 로지스틱회귀\"\n",
    "format: html\n",
    "---\n",
    "로지스틱회귀에 대해서 정리한 글입니다."
   ]
  },
  {
   "attachments": {},
   "cell_type": "markdown",
   "metadata": {},
   "source": [
    "# binary Logistic Regression"
   ]
  },
  {
   "attachments": {},
   "cell_type": "markdown",
   "metadata": {},
   "source": [
    "이항로지스틱회귀는 이진분류문제를 풀기위한 모형이며 종속변수 Y는 범주형 변수로 2가지 값 0또는 1만을 가질 수 있습니다. 파라미터를 사용하여 종속변수 y값을 설명한다는 점에서 선형회귀와 비슷하지만 y가 범주형변수라는 점과 분류문제에 사용되는 모델이라는 차이점이 있습니다."
   ]
  },
  {
   "attachments": {},
   "cell_type": "markdown",
   "metadata": {},
   "source": [
    "# 가정\n",
    "로지스틱회귀의 기본 가정은 다음과 같습니다."
   ]
  },
  {
   "attachments": {},
   "cell_type": "markdown",
   "metadata": {},
   "source": [
    "`-` 각각의 데이터요소(샘플)는 여러개의 독립변수와 0또는1만 가질수 있는 종속변수로 이루어져 있습니다. <br>\n",
    "`-` 임의의 m개의 독립변수와 이진 종속변수를 가지는 i번째 샘플을 나타나면 다음과 같습니다.<br>\n",
    "\n",
    "- $(x_{1,i},x_{2,i},\\dots,x_{m,i}),Y_{i}$<br>\n",
    "\n",
    "`-` 종속변수 $Y_{i}$는 베르누이 분포를 따르는 확률변수입니다.<br>\n",
    "\n",
    "- $Y_i|x_{1,i},x_{2,i},\\dots,x_{m,i} \\sim \\text{Bernouli}(p_{i})$<br><br>\n",
    "독립변수의 값이 주어졌을때 확률변수$Y_{i}$가 따르는 조건부확률분포가 베르누이 분포임을 의미합니다. 확률변수가 어떤 분포를 따르고 있음에 집중한 notation입니다.\n",
    "- $Pr\\,(Y_{i} = y|x_{1,i},x_{2,i},\\dots,x_{m,i}\\,) =\n",
    "\\begin{cases} \n",
    "p_i   & \\text{if }y=1, \\\\\n",
    "1-p_i & \\text{if }y=0\n",
    "\\end{cases} = p_i^y(1-p_i)^{1-y}$<br>\n",
    "확률변수$Y_{i}$가 따르는 확률함수에 대한 구체적인 식을 보여줍니다. 가장 우측에 있는 식은 중간에 있는 식의 간단한 버전입니다.<br>\n",
    "\n",
    "기댓값은 실험 또는 시행을 무한히 반복했을때 확률변수가 취하는 값의 평균으로 기대되는(expected) 값(value)입니다. 베르누이분포를 따르는 확률변수 $Y_{i}$의 기댓값을 구하면 다음과 같습니다.<br>\n",
    "\n",
    "- $E\\,[Y_i|x_{1,i},x_{2,i},\\dots,x_{m,i}]\\, = \\sum_{i=0}^{i=1} = 1 \\times p_{i} + 0 \\times (1-p_{i}) = p_{i}$\n"
   ]
  },
  {
   "attachments": {},
   "cell_type": "markdown",
   "metadata": {},
   "source": [
    "## 기댓값에 대한 고찰\n",
    "기댓값은 실험 또는 시행을 무한히 반복했을때 확률변수가 취하는 값의 평균으로(또는 샘플링된 값의 평균) 기대되는 값입니다. 확률변수가 베르누이 분포를 따르는 경우 확률변수에 대한 기댓값과 베르누이분포의 모수가 같은 값을 가집니다. 그러므로,만약에 주어진 샘플데이터로부터 베르누이분포의 모수를 적절히 추정할 수 있다면 모수는 기댓값이므로 주어진 조건하에서 실험 또는 시행을 무한히 반복할 경우 확률변수가 1인사건과 0인사건중 어떤 사건이 더 많이 발생할지 아는것이므로 많이 발생한 사건 또는 분류된 클래스로 종속변수 Y의 값을 결정하는 것은 타당해보입니다.<br>\n",
    "`-` e.g.<br>\n",
    "- $E\\,[y_i]\\, = \\hat{p_i}<0.5$ => 무한히 실행했을때 0인 경우가 더 많을 것임 => 관측치를 0으로 예측<br>\n",
    "- $E\\,[y_i]\\, = \\hat{p_i}>=0.5$ => 무한히 실행했을때 1인 경우가 더 많을 것임 => 관측치를 1로 예측<br>"
   ]
  },
  {
   "attachments": {},
   "cell_type": "markdown",
   "metadata": {},
   "source": []
  }
 ],
 "metadata": {
  "kernelspec": {
   "display_name": "base",
   "language": "python",
   "name": "python3"
  },
  "language_info": {
   "codemirror_mode": {
    "name": "ipython",
    "version": 3
   },
   "file_extension": ".py",
   "mimetype": "text/x-python",
   "name": "python",
   "nbconvert_exporter": "python",
   "pygments_lexer": "ipython3",
   "version": "3.9.13 (main, Aug 25 2022, 23:51:50) [MSC v.1916 64 bit (AMD64)]"
  },
  "orig_nbformat": 4,
  "vscode": {
   "interpreter": {
    "hash": "0478b8cb1c47bafb71305148a49d30528a4d9c22ca2de336c01aa5a8230a459a"
   }
  }
 },
 "nbformat": 4,
 "nbformat_minor": 2
}
