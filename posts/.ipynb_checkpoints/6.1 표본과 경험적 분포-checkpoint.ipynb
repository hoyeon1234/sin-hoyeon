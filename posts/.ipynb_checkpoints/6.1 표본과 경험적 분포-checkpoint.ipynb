{
 "cells": [
  {
   "cell_type": "markdown",
   "id": "b3ab1e5e",
   "metadata": {},
   "source": [
    "## 모집단과 표본"
   ]
  },
  {
   "cell_type": "markdown",
   "id": "e5ec8bf9",
   "metadata": {},
   "source": [
    "- 모집단(population) : 정보를 얻고자 하는 관심 대상의 전체집합을 말한다.\n",
    "- 표본(sample) : 분석의 대상이 되는 전체집단. 즉 모집단(population)"
   ]
  },
  {
   "cell_type": "markdown",
   "id": "d775d551",
   "metadata": {},
   "source": [
    "## 확률표본"
   ]
  },
  {
   "cell_type": "markdown",
   "id": "752886e7",
   "metadata": {},
   "source": [
    "- 단순 임의 추출(simple random sampling) : 모집단(population)의 각각의 요소 또는 사례들이 표본(sample)으로 선택될 가능성이 같게 되는 표본 추출법.\n",
    "- 단순 임의 추출을 통하여 추출된 표본을 `확률표본`이라고 부른다.\n",
    "- cf. 편의표본 : 개체가 표본에 포함되는 가능성을 알 수 없는 표본."
   ]
  },
  {
   "cell_type": "markdown",
   "id": "b13ee597",
   "metadata": {},
   "source": [
    "## 예제 공공자전거 자료"
   ]
  },
  {
   "cell_type": "code",
   "execution_count": 20,
   "id": "7cc85c00",
   "metadata": {},
   "outputs": [],
   "source": [
    "import pandas as pd\n",
    "import numpy as np\n",
    "import seaborn as sns\n",
    "import matplotlib.pyplot as plt\n",
    "from matplotlib import rc\n",
    "%matplotlib inline\n",
    "url1 = \"https://ilovedata.github.io/teaching/bigdata2/data/seoul_bike_201909_3.csv\"\n",
    "bike = pd.read_csv(url1, encoding=\"CP949\")"
   ]
  },
  {
   "cell_type": "markdown",
   "id": "5a0c9baa",
   "metadata": {},
   "source": [
    "- 데이터프레임 `bike`는 2019년 9월에 발생한 모든 대여정보를 수록한 자료이므로 모집단이다."
   ]
  },
  {
   "cell_type": "markdown",
   "id": "8b0a42e1",
   "metadata": {},
   "source": [
    "### EDA"
   ]
  },
  {
   "cell_type": "code",
   "execution_count": 21,
   "id": "ad7b9e7b",
   "metadata": {},
   "outputs": [
    {
     "data": {
      "text/html": [
       "<div>\n",
       "<style scoped>\n",
       "    .dataframe tbody tr th:only-of-type {\n",
       "        vertical-align: middle;\n",
       "    }\n",
       "\n",
       "    .dataframe tbody tr th {\n",
       "        vertical-align: top;\n",
       "    }\n",
       "\n",
       "    .dataframe thead th {\n",
       "        text-align: right;\n",
       "    }\n",
       "</style>\n",
       "<table border=\"1\" class=\"dataframe\">\n",
       "  <thead>\n",
       "    <tr style=\"text-align: right;\">\n",
       "      <th></th>\n",
       "      <th>자전거번호</th>\n",
       "      <th>대여일시</th>\n",
       "      <th>대여 대여소번호</th>\n",
       "      <th>대여 대여소명</th>\n",
       "      <th>대여거치대</th>\n",
       "      <th>반납일시</th>\n",
       "      <th>반납대여소번호</th>\n",
       "      <th>반납대여소명</th>\n",
       "      <th>반납거치대</th>\n",
       "      <th>이용시간</th>\n",
       "      <th>이용거리</th>\n",
       "    </tr>\n",
       "  </thead>\n",
       "  <tbody>\n",
       "    <tr>\n",
       "      <th>0</th>\n",
       "      <td>SPB-17003</td>\n",
       "      <td>2019-09-28 16:10:55</td>\n",
       "      <td>368</td>\n",
       "      <td>SK 서린빌딩 앞</td>\n",
       "      <td>4</td>\n",
       "      <td>2019-09-28 17:03:32</td>\n",
       "      <td>2002</td>\n",
       "      <td>노들역 1번출구</td>\n",
       "      <td>14</td>\n",
       "      <td>52</td>\n",
       "      <td>8940.0</td>\n",
       "    </tr>\n",
       "    <tr>\n",
       "      <th>1</th>\n",
       "      <td>SPB-14405</td>\n",
       "      <td>2019-09-28 16:48:16</td>\n",
       "      <td>2024</td>\n",
       "      <td>상도역 1번출구</td>\n",
       "      <td>3</td>\n",
       "      <td>2019-09-28 17:03:44</td>\n",
       "      <td>2002</td>\n",
       "      <td>노들역 1번출구</td>\n",
       "      <td>18</td>\n",
       "      <td>15</td>\n",
       "      <td>1910.0</td>\n",
       "    </tr>\n",
       "    <tr>\n",
       "      <th>2</th>\n",
       "      <td>SPB-18431</td>\n",
       "      <td>2019-09-28 16:59:54</td>\n",
       "      <td>2002</td>\n",
       "      <td>노들역 1번출구</td>\n",
       "      <td>10</td>\n",
       "      <td>2019-09-28 17:03:57</td>\n",
       "      <td>2002</td>\n",
       "      <td>노들역 1번출구</td>\n",
       "      <td>10</td>\n",
       "      <td>2</td>\n",
       "      <td>30.0</td>\n",
       "    </tr>\n",
       "    <tr>\n",
       "      <th>3</th>\n",
       "      <td>SPB-04853</td>\n",
       "      <td>2019-09-28 15:31:49</td>\n",
       "      <td>207</td>\n",
       "      <td>여의나루역 1번출구 앞</td>\n",
       "      <td>32</td>\n",
       "      <td>2019-09-28 17:10:12</td>\n",
       "      <td>2002</td>\n",
       "      <td>노들역 1번출구</td>\n",
       "      <td>19</td>\n",
       "      <td>98</td>\n",
       "      <td>9610.0</td>\n",
       "    </tr>\n",
       "    <tr>\n",
       "      <th>4</th>\n",
       "      <td>SPB-11122</td>\n",
       "      <td>2019-09-28 15:35:41</td>\n",
       "      <td>207</td>\n",
       "      <td>여의나루역 1번출구 앞</td>\n",
       "      <td>14</td>\n",
       "      <td>2019-09-28 17:10:37</td>\n",
       "      <td>2002</td>\n",
       "      <td>노들역 1번출구</td>\n",
       "      <td>18</td>\n",
       "      <td>90</td>\n",
       "      <td>9450.0</td>\n",
       "    </tr>\n",
       "    <tr>\n",
       "      <th>5</th>\n",
       "      <td>SPB-23089</td>\n",
       "      <td>2019-09-28 17:02:37</td>\n",
       "      <td>2003</td>\n",
       "      <td>사육신공원앞</td>\n",
       "      <td>5</td>\n",
       "      <td>2019-09-28 17:13:44</td>\n",
       "      <td>2002</td>\n",
       "      <td>노들역 1번출구</td>\n",
       "      <td>10</td>\n",
       "      <td>10</td>\n",
       "      <td>1410.0</td>\n",
       "    </tr>\n",
       "    <tr>\n",
       "      <th>6</th>\n",
       "      <td>SPB-15669</td>\n",
       "      <td>2019-09-28 16:17:54</td>\n",
       "      <td>2213</td>\n",
       "      <td>고속터미널역 5번출구 앞</td>\n",
       "      <td>7</td>\n",
       "      <td>2019-09-28 17:14:22</td>\n",
       "      <td>2002</td>\n",
       "      <td>노들역 1번출구</td>\n",
       "      <td>8</td>\n",
       "      <td>56</td>\n",
       "      <td>0.0</td>\n",
       "    </tr>\n",
       "    <tr>\n",
       "      <th>7</th>\n",
       "      <td>SPB-09727</td>\n",
       "      <td>2019-09-28 17:04:56</td>\n",
       "      <td>2002</td>\n",
       "      <td>노들역 1번출구</td>\n",
       "      <td>5</td>\n",
       "      <td>2019-09-28 17:17:10</td>\n",
       "      <td>2002</td>\n",
       "      <td>노들역 1번출구</td>\n",
       "      <td>17</td>\n",
       "      <td>11</td>\n",
       "      <td>380.0</td>\n",
       "    </tr>\n",
       "    <tr>\n",
       "      <th>8</th>\n",
       "      <td>SPB-10053</td>\n",
       "      <td>2019-09-28 16:59:45</td>\n",
       "      <td>2002</td>\n",
       "      <td>노들역 1번출구</td>\n",
       "      <td>3</td>\n",
       "      <td>2019-09-28 17:17:53</td>\n",
       "      <td>2002</td>\n",
       "      <td>노들역 1번출구</td>\n",
       "      <td>5</td>\n",
       "      <td>17</td>\n",
       "      <td>1080.0</td>\n",
       "    </tr>\n",
       "    <tr>\n",
       "      <th>9</th>\n",
       "      <td>SPB-14487</td>\n",
       "      <td>2019-09-28 16:01:41</td>\n",
       "      <td>2024</td>\n",
       "      <td>상도역 1번출구</td>\n",
       "      <td>5</td>\n",
       "      <td>2019-09-28 17:20:44</td>\n",
       "      <td>2002</td>\n",
       "      <td>노들역 1번출구</td>\n",
       "      <td>14</td>\n",
       "      <td>78</td>\n",
       "      <td>13870.0</td>\n",
       "    </tr>\n",
       "  </tbody>\n",
       "</table>\n",
       "</div>"
      ],
      "text/plain": [
       "       자전거번호                 대여일시  대여 대여소번호        대여 대여소명  대여거치대  \\\n",
       "0  SPB-17003  2019-09-28 16:10:55       368      SK 서린빌딩 앞      4   \n",
       "1  SPB-14405  2019-09-28 16:48:16      2024       상도역 1번출구      3   \n",
       "2  SPB-18431  2019-09-28 16:59:54      2002       노들역 1번출구     10   \n",
       "3  SPB-04853  2019-09-28 15:31:49       207   여의나루역 1번출구 앞     32   \n",
       "4  SPB-11122  2019-09-28 15:35:41       207   여의나루역 1번출구 앞     14   \n",
       "5  SPB-23089  2019-09-28 17:02:37      2003         사육신공원앞      5   \n",
       "6  SPB-15669  2019-09-28 16:17:54      2213  고속터미널역 5번출구 앞      7   \n",
       "7  SPB-09727  2019-09-28 17:04:56      2002       노들역 1번출구      5   \n",
       "8  SPB-10053  2019-09-28 16:59:45      2002       노들역 1번출구      3   \n",
       "9  SPB-14487  2019-09-28 16:01:41      2024       상도역 1번출구      5   \n",
       "\n",
       "                  반납일시  반납대여소번호    반납대여소명  반납거치대  이용시간     이용거리  \n",
       "0  2019-09-28 17:03:32     2002  노들역 1번출구     14    52   8940.0  \n",
       "1  2019-09-28 17:03:44     2002  노들역 1번출구     18    15   1910.0  \n",
       "2  2019-09-28 17:03:57     2002  노들역 1번출구     10     2     30.0  \n",
       "3  2019-09-28 17:10:12     2002  노들역 1번출구     19    98   9610.0  \n",
       "4  2019-09-28 17:10:37     2002  노들역 1번출구     18    90   9450.0  \n",
       "5  2019-09-28 17:13:44     2002  노들역 1번출구     10    10   1410.0  \n",
       "6  2019-09-28 17:14:22     2002  노들역 1번출구      8    56      0.0  \n",
       "7  2019-09-28 17:17:10     2002  노들역 1번출구     17    11    380.0  \n",
       "8  2019-09-28 17:17:53     2002  노들역 1번출구      5    17   1080.0  \n",
       "9  2019-09-28 17:20:44     2002  노들역 1번출구     14    78  13870.0  "
      ]
     },
     "execution_count": 21,
     "metadata": {},
     "output_type": "execute_result"
    }
   ],
   "source": [
    "bike.head(10)"
   ]
  },
  {
   "cell_type": "code",
   "execution_count": 22,
   "id": "6acb56fa",
   "metadata": {},
   "outputs": [
    {
     "data": {
      "text/plain": [
       "(407589, 11)"
      ]
     },
     "execution_count": 22,
     "metadata": {},
     "output_type": "execute_result"
    }
   ],
   "source": [
    "bike.shape"
   ]
  },
  {
   "cell_type": "code",
   "execution_count": 23,
   "id": "e75b19d4",
   "metadata": {},
   "outputs": [
    {
     "data": {
      "text/plain": [
       "Index(['자전거번호', '대여일시', '대여 대여소번호', '대여 대여소명', '대여거치대', '반납일시', '반납대여소번호',\n",
       "       '반납대여소명', '반납거치대', '이용시간', '이용거리'],\n",
       "      dtype='object')"
      ]
     },
     "execution_count": 23,
     "metadata": {},
     "output_type": "execute_result"
    }
   ],
   "source": [
    "bike.columns"
   ]
  },
  {
   "cell_type": "markdown",
   "id": "11a0725e",
   "metadata": {},
   "source": [
    "시각화"
   ]
  },
  {
   "cell_type": "code",
   "execution_count": 24,
   "id": "6823daa9",
   "metadata": {},
   "outputs": [
    {
     "data": {
      "text/plain": [
       "<AxesSubplot:ylabel='Frequency'>"
      ]
     },
     "execution_count": 24,
     "metadata": {},
     "output_type": "execute_result"
    },
    {
     "name": "stderr",
     "output_type": "stream",
     "text": [
      "C:\\Users\\22668\\anaconda3\\lib\\site-packages\\IPython\\core\\pylabtools.py:151: UserWarning: Glyph 51060 (\\N{HANGUL SYLLABLE I}) missing from current font.\n",
      "  fig.canvas.print_figure(bytes_io, **kw)\n",
      "C:\\Users\\22668\\anaconda3\\lib\\site-packages\\IPython\\core\\pylabtools.py:151: UserWarning: Glyph 50857 (\\N{HANGUL SYLLABLE YONG}) missing from current font.\n",
      "  fig.canvas.print_figure(bytes_io, **kw)\n",
      "C:\\Users\\22668\\anaconda3\\lib\\site-packages\\IPython\\core\\pylabtools.py:151: UserWarning: Glyph 44144 (\\N{HANGUL SYLLABLE GEO}) missing from current font.\n",
      "  fig.canvas.print_figure(bytes_io, **kw)\n",
      "C:\\Users\\22668\\anaconda3\\lib\\site-packages\\IPython\\core\\pylabtools.py:151: UserWarning: Glyph 47532 (\\N{HANGUL SYLLABLE RI}) missing from current font.\n",
      "  fig.canvas.print_figure(bytes_io, **kw)\n"
     ]
    },
    {
     "data": {
      "image/png": "[encoded data removed]",
      "text/plain": [
       "<Figure size 640x480 with 1 Axes>"
      ]
     },
     "metadata": {},
     "output_type": "display_data"
    }
   ],
   "source": [
    "# 이용거리 plotting\n",
    "bike.plot.hist(y=\"이용거리\",bins=60)"
   ]
  },
  {
   "cell_type": "markdown",
   "id": "afea1313",
   "metadata": {},
   "source": [
    "- 오른쪽으로 꼬리가 긴 분포.(오른쪽으로 치우친 분포)"
   ]
  },
  {
   "cell_type": "markdown",
   "id": "3b97f3a1",
   "metadata": {},
   "source": [
    "요약통계량 보기"
   ]
  },
  {
   "cell_type": "code",
   "execution_count": 25,
   "id": "ec8b1482",
   "metadata": {},
   "outputs": [
    {
     "data": {
      "text/html": [
       "<div>\n",
       "<style scoped>\n",
       "    .dataframe tbody tr th:only-of-type {\n",
       "        vertical-align: middle;\n",
       "    }\n",
       "\n",
       "    .dataframe tbody tr th {\n",
       "        vertical-align: top;\n",
       "    }\n",
       "\n",
       "    .dataframe thead th {\n",
       "        text-align: right;\n",
       "    }\n",
       "</style>\n",
       "<table border=\"1\" class=\"dataframe\">\n",
       "  <thead>\n",
       "    <tr style=\"text-align: right;\">\n",
       "      <th></th>\n",
       "      <th>이용거리</th>\n",
       "    </tr>\n",
       "  </thead>\n",
       "  <tbody>\n",
       "    <tr>\n",
       "      <th>count</th>\n",
       "      <td>407589.000000</td>\n",
       "    </tr>\n",
       "    <tr>\n",
       "      <th>mean</th>\n",
       "      <td>4253.336228</td>\n",
       "    </tr>\n",
       "    <tr>\n",
       "      <th>std</th>\n",
       "      <td>5782.673901</td>\n",
       "    </tr>\n",
       "    <tr>\n",
       "      <th>min</th>\n",
       "      <td>0.000000</td>\n",
       "    </tr>\n",
       "    <tr>\n",
       "      <th>25%</th>\n",
       "      <td>1200.000000</td>\n",
       "    </tr>\n",
       "    <tr>\n",
       "      <th>50%</th>\n",
       "      <td>2380.000000</td>\n",
       "    </tr>\n",
       "    <tr>\n",
       "      <th>75%</th>\n",
       "      <td>5130.000000</td>\n",
       "    </tr>\n",
       "    <tr>\n",
       "      <th>max</th>\n",
       "      <td>153490.000000</td>\n",
       "    </tr>\n",
       "  </tbody>\n",
       "</table>\n",
       "</div>"
      ],
      "text/plain": [
       "                이용거리\n",
       "count  407589.000000\n",
       "mean     4253.336228\n",
       "std      5782.673901\n",
       "min         0.000000\n",
       "25%      1200.000000\n",
       "50%      2380.000000\n",
       "75%      5130.000000\n",
       "max    153490.000000"
      ]
     },
     "execution_count": 25,
     "metadata": {},
     "output_type": "execute_result"
    }
   ],
   "source": [
    "bike[[\"이용거리\"]].describe()"
   ]
  },
  {
   "cell_type": "markdown",
   "id": "ed45ac30",
   "metadata": {},
   "source": [
    "### 확률표본의 추출"
   ]
  },
  {
   "cell_type": "markdown",
   "id": "9d5549aa",
   "metadata": {},
   "source": [
    "- df.sample(n=None,frac=None,replace=False,weights=None,random_state,axis=None,ignore_index=False) 사용\n",
    "    - n : 표본의 크기\n",
    "    - frac : 표본의 비율\n",
    "    - replace : 복원추출 여부\n",
    "    - random_state : 난수 지정\n",
    "- with replacement(비복원추출) : 추출된 자료를 다시 뽑을 수 있음(replace = True)\n",
    "- without replacement(복원추출) : 추출된 자료는 다시 뽑을 수 없음(replace = False)\n",
    "- 상자에 있는 공 100개를 눈 감고 뽑는 경우 다시 넣고 뽑기(복원추출) 다시 안 넣고 뽑기(비복원추출)"
   ]
  },
  {
   "cell_type": "markdown",
   "id": "c3b14f94",
   "metadata": {},
   "source": [
    "크키가 100인 표본을 뽑고 이용거리의 특성 살펴보기"
   ]
  },
  {
   "cell_type": "code",
   "execution_count": 32,
   "id": "2f80fe2b",
   "metadata": {},
   "outputs": [
    {
     "data": {
      "text/html": [
       "<div>\n",
       "<style scoped>\n",
       "    .dataframe tbody tr th:only-of-type {\n",
       "        vertical-align: middle;\n",
       "    }\n",
       "\n",
       "    .dataframe tbody tr th {\n",
       "        vertical-align: top;\n",
       "    }\n",
       "\n",
       "    .dataframe thead th {\n",
       "        text-align: right;\n",
       "    }\n",
       "</style>\n",
       "<table border=\"1\" class=\"dataframe\">\n",
       "  <thead>\n",
       "    <tr style=\"text-align: right;\">\n",
       "      <th></th>\n",
       "      <th>자전거번호</th>\n",
       "      <th>대여일시</th>\n",
       "      <th>대여 대여소번호</th>\n",
       "      <th>대여 대여소명</th>\n",
       "      <th>대여거치대</th>\n",
       "      <th>반납일시</th>\n",
       "      <th>반납대여소번호</th>\n",
       "      <th>반납대여소명</th>\n",
       "      <th>반납거치대</th>\n",
       "      <th>이용시간</th>\n",
       "      <th>이용거리</th>\n",
       "    </tr>\n",
       "  </thead>\n",
       "  <tbody>\n",
       "    <tr>\n",
       "      <th>375631</th>\n",
       "      <td>SPB-11285</td>\n",
       "      <td>2019-09-21 10:06:07</td>\n",
       "      <td>1452</td>\n",
       "      <td>겸재교 진입부</td>\n",
       "      <td>9</td>\n",
       "      <td>2019-09-21 10:38:10</td>\n",
       "      <td>3520</td>\n",
       "      <td>광진경찰서</td>\n",
       "      <td>4</td>\n",
       "      <td>30</td>\n",
       "      <td>5920.0</td>\n",
       "    </tr>\n",
       "    <tr>\n",
       "      <th>219156</th>\n",
       "      <td>SPB-10989</td>\n",
       "      <td>2019-09-24 22:36:38</td>\n",
       "      <td>2321</td>\n",
       "      <td>학여울역 사거리</td>\n",
       "      <td>9</td>\n",
       "      <td>2019-09-24 22:41:46</td>\n",
       "      <td>2320</td>\n",
       "      <td>도곡역 대치지구대 방향</td>\n",
       "      <td>1</td>\n",
       "      <td>4</td>\n",
       "      <td>0.0</td>\n",
       "    </tr>\n",
       "    <tr>\n",
       "      <th>2646</th>\n",
       "      <td>SPB-20213</td>\n",
       "      <td>2019-09-11 15:51:03</td>\n",
       "      <td>1986</td>\n",
       "      <td>태평양물산빌딩</td>\n",
       "      <td>8</td>\n",
       "      <td>2019-09-11 16:28:15</td>\n",
       "      <td>2007</td>\n",
       "      <td>유한양행앞</td>\n",
       "      <td>6</td>\n",
       "      <td>37</td>\n",
       "      <td>5450.0</td>\n",
       "    </tr>\n",
       "    <tr>\n",
       "      <th>329716</th>\n",
       "      <td>SPB-05859</td>\n",
       "      <td>2019-09-11 09:09:47</td>\n",
       "      <td>1912</td>\n",
       "      <td>한신휴아파트 앞</td>\n",
       "      <td>9</td>\n",
       "      <td>2019-09-11 09:15:23</td>\n",
       "      <td>2801</td>\n",
       "      <td>대륭포스트타워1차</td>\n",
       "      <td>14</td>\n",
       "      <td>5</td>\n",
       "      <td>830.0</td>\n",
       "    </tr>\n",
       "    <tr>\n",
       "      <th>35470</th>\n",
       "      <td>SPB-03699</td>\n",
       "      <td>2019-09-01 14:19:17</td>\n",
       "      <td>2265</td>\n",
       "      <td>이수고가차도 남단</td>\n",
       "      <td>2</td>\n",
       "      <td>2019-09-01 14:34:28</td>\n",
       "      <td>2060</td>\n",
       "      <td>남성역3번출구 뒤</td>\n",
       "      <td>6</td>\n",
       "      <td>14</td>\n",
       "      <td>2160.0</td>\n",
       "    </tr>\n",
       "    <tr>\n",
       "      <th>132032</th>\n",
       "      <td>SPB-03922</td>\n",
       "      <td>2019-09-20 22:09:34</td>\n",
       "      <td>274</td>\n",
       "      <td>영등포역지하쇼핑센타 5번출구</td>\n",
       "      <td>1</td>\n",
       "      <td>2019-09-20 23:14:57</td>\n",
       "      <td>2219</td>\n",
       "      <td>고속터미널역 8-1번, 8-2번 출구 사이</td>\n",
       "      <td>9</td>\n",
       "      <td>65</td>\n",
       "      <td>11820.0</td>\n",
       "    </tr>\n",
       "    <tr>\n",
       "      <th>15067</th>\n",
       "      <td>SPB-17943</td>\n",
       "      <td>2019-09-17 18:24:58</td>\n",
       "      <td>2002</td>\n",
       "      <td>노들역 1번출구</td>\n",
       "      <td>18</td>\n",
       "      <td>2019-09-17 19:57:08</td>\n",
       "      <td>2025</td>\n",
       "      <td>흑석역 1번출구</td>\n",
       "      <td>3</td>\n",
       "      <td>91</td>\n",
       "      <td>8560.0</td>\n",
       "    </tr>\n",
       "    <tr>\n",
       "      <th>226253</th>\n",
       "      <td>SPB-07462</td>\n",
       "      <td>2019-09-03 18:27:38</td>\n",
       "      <td>2358</td>\n",
       "      <td>구룡초사거리 (현대아파트10동 앞 )</td>\n",
       "      <td>4</td>\n",
       "      <td>2019-09-03 18:41:48</td>\n",
       "      <td>2329</td>\n",
       "      <td>르네상스호텔사거리 역삼지하보도 2번출구</td>\n",
       "      <td>6</td>\n",
       "      <td>13</td>\n",
       "      <td>2520.0</td>\n",
       "    </tr>\n",
       "    <tr>\n",
       "      <th>318420</th>\n",
       "      <td>SPB-13058</td>\n",
       "      <td>2019-09-10 15:52:12</td>\n",
       "      <td>2620</td>\n",
       "      <td>송파나루역 4번 출구옆</td>\n",
       "      <td>7</td>\n",
       "      <td>2019-09-10 16:05:27</td>\n",
       "      <td>2622</td>\n",
       "      <td>올림픽공원역 3번출구</td>\n",
       "      <td>8</td>\n",
       "      <td>13</td>\n",
       "      <td>2220.0</td>\n",
       "    </tr>\n",
       "    <tr>\n",
       "      <th>405911</th>\n",
       "      <td>SPB-18550</td>\n",
       "      <td>2019-09-09 19:10:55</td>\n",
       "      <td>549</td>\n",
       "      <td>아차산역 3번출구</td>\n",
       "      <td>5</td>\n",
       "      <td>2019-09-09 19:19:11</td>\n",
       "      <td>3542</td>\n",
       "      <td>래미안 구의파크 스위트</td>\n",
       "      <td>17</td>\n",
       "      <td>7</td>\n",
       "      <td>1090.0</td>\n",
       "    </tr>\n",
       "  </tbody>\n",
       "</table>\n",
       "</div>"
      ],
      "text/plain": [
       "            자전거번호                 대여일시  대여 대여소번호               대여 대여소명  대여거치대  \\\n",
       "375631  SPB-11285  2019-09-21 10:06:07      1452               겸재교 진입부      9   \n",
       "219156  SPB-10989  2019-09-24 22:36:38      2321              학여울역 사거리      9   \n",
       "2646    SPB-20213  2019-09-11 15:51:03      1986               태평양물산빌딩      8   \n",
       "329716  SPB-05859  2019-09-11 09:09:47      1912              한신휴아파트 앞      9   \n",
       "35470   SPB-03699  2019-09-01 14:19:17      2265             이수고가차도 남단      2   \n",
       "132032  SPB-03922  2019-09-20 22:09:34       274       영등포역지하쇼핑센타 5번출구      1   \n",
       "15067   SPB-17943  2019-09-17 18:24:58      2002              노들역 1번출구     18   \n",
       "226253  SPB-07462  2019-09-03 18:27:38      2358  구룡초사거리 (현대아파트10동 앞 )      4   \n",
       "318420  SPB-13058  2019-09-10 15:52:12      2620          송파나루역 4번 출구옆      7   \n",
       "405911  SPB-18550  2019-09-09 19:10:55       549             아차산역 3번출구      5   \n",
       "\n",
       "                       반납일시  반납대여소번호                   반납대여소명  반납거치대  이용시간  \\\n",
       "375631  2019-09-21 10:38:10     3520                    광진경찰서      4    30   \n",
       "219156  2019-09-24 22:41:46     2320             도곡역 대치지구대 방향      1     4   \n",
       "2646    2019-09-11 16:28:15     2007                    유한양행앞      6    37   \n",
       "329716  2019-09-11 09:15:23     2801                대륭포스트타워1차     14     5   \n",
       "35470   2019-09-01 14:34:28     2060                남성역3번출구 뒤      6    14   \n",
       "132032  2019-09-20 23:14:57     2219  고속터미널역 8-1번, 8-2번 출구 사이      9    65   \n",
       "15067   2019-09-17 19:57:08     2025                 흑석역 1번출구      3    91   \n",
       "226253  2019-09-03 18:41:48     2329    르네상스호텔사거리 역삼지하보도 2번출구      6    13   \n",
       "318420  2019-09-10 16:05:27     2622              올림픽공원역 3번출구      8    13   \n",
       "405911  2019-09-09 19:19:11     3542             래미안 구의파크 스위트     17     7   \n",
       "\n",
       "           이용거리  \n",
       "375631   5920.0  \n",
       "219156      0.0  \n",
       "2646     5450.0  \n",
       "329716    830.0  \n",
       "35470    2160.0  \n",
       "132032  11820.0  \n",
       "15067    8560.0  \n",
       "226253   2520.0  \n",
       "318420   2220.0  \n",
       "405911   1090.0  "
      ]
     },
     "execution_count": 32,
     "metadata": {},
     "output_type": "execute_result"
    }
   ],
   "source": [
    "bike_sample_100 = bike.sample(n=100,replace=False,random_state=1)\n",
    "bike_sample_100.head(10)"
   ]
  },
  {
   "cell_type": "markdown",
   "id": "bc27b8a4",
   "metadata": {},
   "source": [
    "추출한 표본에서의 이동거리 분포 + 요약통계량 살펴보기(표본 파악)"
   ]
  },
  {
   "cell_type": "code",
   "execution_count": 39,
   "id": "1b689486",
   "metadata": {},
   "outputs": [
    {
     "data": {
      "text/plain": [
       "<AxesSubplot:ylabel='Frequency'>"
      ]
     },
     "execution_count": 39,
     "metadata": {},
     "output_type": "execute_result"
    },
    {
     "data": {
      "image/png": "[encoded data removed]",
      "text/plain": [
       "<Figure size 640x480 with 1 Axes>"
      ]
     },
     "metadata": {},
     "output_type": "display_data"
    }
   ],
   "source": [
    "bike_sample_100.plot.hist(y=\"이용거리\",bins=30)"
   ]
  },
  {
   "cell_type": "code",
   "execution_count": 42,
   "id": "ac5b0f7c",
   "metadata": {},
   "outputs": [
    {
     "data": {
      "text/plain": [
       "<AxesSubplot:>"
      ]
     },
     "execution_count": 42,
     "metadata": {},
     "output_type": "execute_result"
    },
    {
     "name": "stderr",
     "output_type": "stream",
     "text": [
      "C:\\Users\\22668\\anaconda3\\lib\\site-packages\\IPython\\core\\pylabtools.py:151: UserWarning: Glyph 51060 (\\N{HANGUL SYLLABLE I}) missing from current font.\n",
      "  fig.canvas.print_figure(bytes_io, **kw)\n",
      "C:\\Users\\22668\\anaconda3\\lib\\site-packages\\IPython\\core\\pylabtools.py:151: UserWarning: Glyph 50857 (\\N{HANGUL SYLLABLE YONG}) missing from current font.\n",
      "  fig.canvas.print_figure(bytes_io, **kw)\n",
      "C:\\Users\\22668\\anaconda3\\lib\\site-packages\\IPython\\core\\pylabtools.py:151: UserWarning: Glyph 44144 (\\N{HANGUL SYLLABLE GEO}) missing from current font.\n",
      "  fig.canvas.print_figure(bytes_io, **kw)\n",
      "C:\\Users\\22668\\anaconda3\\lib\\site-packages\\IPython\\core\\pylabtools.py:151: UserWarning: Glyph 47532 (\\N{HANGUL SYLLABLE RI}) missing from current font.\n",
      "  fig.canvas.print_figure(bytes_io, **kw)\n"
     ]
    },
    {
     "data": {
      "image/png": "[encoded data removed]",
      "text/plain": [
       "<Figure size 640x480 with 1 Axes>"
      ]
     },
     "metadata": {},
     "output_type": "display_data"
    }
   ],
   "source": [
    "bike_sample_100.plot.box(y=\"이용거리\")"
   ]
  },
  {
   "cell_type": "code",
   "execution_count": 46,
   "id": "6b3f58d4",
   "metadata": {},
   "outputs": [
    {
     "data": {
      "text/html": [
       "<div>\n",
       "<style scoped>\n",
       "    .dataframe tbody tr th:only-of-type {\n",
       "        vertical-align: middle;\n",
       "    }\n",
       "\n",
       "    .dataframe tbody tr th {\n",
       "        vertical-align: top;\n",
       "    }\n",
       "\n",
       "    .dataframe thead th {\n",
       "        text-align: right;\n",
       "    }\n",
       "</style>\n",
       "<table border=\"1\" class=\"dataframe\">\n",
       "  <thead>\n",
       "    <tr style=\"text-align: right;\">\n",
       "      <th></th>\n",
       "      <th>이용거리</th>\n",
       "    </tr>\n",
       "  </thead>\n",
       "  <tbody>\n",
       "    <tr>\n",
       "      <th>count</th>\n",
       "      <td>100.000000</td>\n",
       "    </tr>\n",
       "    <tr>\n",
       "      <th>mean</th>\n",
       "      <td>3824.100000</td>\n",
       "    </tr>\n",
       "    <tr>\n",
       "      <th>std</th>\n",
       "      <td>5524.629901</td>\n",
       "    </tr>\n",
       "    <tr>\n",
       "      <th>min</th>\n",
       "      <td>0.000000</td>\n",
       "    </tr>\n",
       "    <tr>\n",
       "      <th>25%</th>\n",
       "      <td>1157.500000</td>\n",
       "    </tr>\n",
       "    <tr>\n",
       "      <th>50%</th>\n",
       "      <td>2170.000000</td>\n",
       "    </tr>\n",
       "    <tr>\n",
       "      <th>75%</th>\n",
       "      <td>4285.000000</td>\n",
       "    </tr>\n",
       "    <tr>\n",
       "      <th>max</th>\n",
       "      <td>45700.000000</td>\n",
       "    </tr>\n",
       "  </tbody>\n",
       "</table>\n",
       "</div>"
      ],
      "text/plain": [
       "               이용거리\n",
       "count    100.000000\n",
       "mean    3824.100000\n",
       "std     5524.629901\n",
       "min        0.000000\n",
       "25%     1157.500000\n",
       "50%     2170.000000\n",
       "75%     4285.000000\n",
       "max    45700.000000"
      ]
     },
     "execution_count": 46,
     "metadata": {},
     "output_type": "execute_result"
    }
   ],
   "source": [
    "bike_sample_100[[\"이용거리\"]].describe()"
   ]
  },
  {
   "cell_type": "markdown",
   "id": "099838d3",
   "metadata": {},
   "source": [
    "크키가 10000인 표본을 뽑고 이용거리의 특성 살펴보기"
   ]
  },
  {
   "cell_type": "code",
   "execution_count": 53,
   "id": "e13c4f19",
   "metadata": {},
   "outputs": [
    {
     "data": {
      "text/html": [
       "<div>\n",
       "<style scoped>\n",
       "    .dataframe tbody tr th:only-of-type {\n",
       "        vertical-align: middle;\n",
       "    }\n",
       "\n",
       "    .dataframe tbody tr th {\n",
       "        vertical-align: top;\n",
       "    }\n",
       "\n",
       "    .dataframe thead th {\n",
       "        text-align: right;\n",
       "    }\n",
       "</style>\n",
       "<table border=\"1\" class=\"dataframe\">\n",
       "  <thead>\n",
       "    <tr style=\"text-align: right;\">\n",
       "      <th></th>\n",
       "      <th>자전거번호</th>\n",
       "      <th>대여일시</th>\n",
       "      <th>대여 대여소번호</th>\n",
       "      <th>대여 대여소명</th>\n",
       "      <th>대여거치대</th>\n",
       "      <th>반납일시</th>\n",
       "      <th>반납대여소번호</th>\n",
       "      <th>반납대여소명</th>\n",
       "      <th>반납거치대</th>\n",
       "      <th>이용시간</th>\n",
       "      <th>이용거리</th>\n",
       "    </tr>\n",
       "  </thead>\n",
       "  <tbody>\n",
       "    <tr>\n",
       "      <th>96387</th>\n",
       "      <td>SPB-16561</td>\n",
       "      <td>2019-09-20 10:21:46</td>\n",
       "      <td>2140</td>\n",
       "      <td>신림1교 교차로</td>\n",
       "      <td>7</td>\n",
       "      <td>2019-09-20 10:38:58</td>\n",
       "      <td>2173</td>\n",
       "      <td>당곡사거리</td>\n",
       "      <td>3</td>\n",
       "      <td>16</td>\n",
       "      <td>2310.0</td>\n",
       "    </tr>\n",
       "    <tr>\n",
       "      <th>324061</th>\n",
       "      <td>SPB-24348</td>\n",
       "      <td>2019-09-11 19:21:40</td>\n",
       "      <td>1184</td>\n",
       "      <td>마곡13단지</td>\n",
       "      <td>5</td>\n",
       "      <td>2019-09-11 19:56:02</td>\n",
       "      <td>2701</td>\n",
       "      <td>마곡나루역 5번출구 뒤편</td>\n",
       "      <td>6</td>\n",
       "      <td>34</td>\n",
       "      <td>3020.0</td>\n",
       "    </tr>\n",
       "    <tr>\n",
       "      <th>20552</th>\n",
       "      <td>SPB-07058</td>\n",
       "      <td>2019-09-08 23:13:16</td>\n",
       "      <td>2104</td>\n",
       "      <td>사당역 5번출구</td>\n",
       "      <td>1</td>\n",
       "      <td>2019-09-08 23:20:41</td>\n",
       "      <td>2033</td>\n",
       "      <td>사당동 아르테스 웨딩앞</td>\n",
       "      <td>10</td>\n",
       "      <td>7</td>\n",
       "      <td>680.0</td>\n",
       "    </tr>\n",
       "    <tr>\n",
       "      <th>348666</th>\n",
       "      <td>SPB-01000</td>\n",
       "      <td>2019-09-13 11:51:08</td>\n",
       "      <td>560</td>\n",
       "      <td>비전교회 앞</td>\n",
       "      <td>7</td>\n",
       "      <td>2019-09-13 11:55:01</td>\n",
       "      <td>3508</td>\n",
       "      <td>화양사거리</td>\n",
       "      <td>3</td>\n",
       "      <td>3</td>\n",
       "      <td>430.0</td>\n",
       "    </tr>\n",
       "    <tr>\n",
       "      <th>383299</th>\n",
       "      <td>SPB-10860</td>\n",
       "      <td>2019-09-17 06:22:04</td>\n",
       "      <td>576</td>\n",
       "      <td>광나루역 3번 출구</td>\n",
       "      <td>10</td>\n",
       "      <td>2019-09-17 06:26:27</td>\n",
       "      <td>3528</td>\n",
       "      <td>광진정보도서관</td>\n",
       "      <td>5</td>\n",
       "      <td>4</td>\n",
       "      <td>590.0</td>\n",
       "    </tr>\n",
       "    <tr>\n",
       "      <th>...</th>\n",
       "      <td>...</td>\n",
       "      <td>...</td>\n",
       "      <td>...</td>\n",
       "      <td>...</td>\n",
       "      <td>...</td>\n",
       "      <td>...</td>\n",
       "      <td>...</td>\n",
       "      <td>...</td>\n",
       "      <td>...</td>\n",
       "      <td>...</td>\n",
       "      <td>...</td>\n",
       "    </tr>\n",
       "    <tr>\n",
       "      <th>28579</th>\n",
       "      <td>SPB-10761</td>\n",
       "      <td>2019-09-28 11:11:18</td>\n",
       "      <td>2013</td>\n",
       "      <td>장승배기역 5번출구</td>\n",
       "      <td>12</td>\n",
       "      <td>2019-09-28 11:16:53</td>\n",
       "      <td>2050</td>\n",
       "      <td>노량진역 5번출구</td>\n",
       "      <td>1</td>\n",
       "      <td>5</td>\n",
       "      <td>840.0</td>\n",
       "    </tr>\n",
       "    <tr>\n",
       "      <th>327155</th>\n",
       "      <td>SPB-19663</td>\n",
       "      <td>2019-09-25 07:58:37</td>\n",
       "      <td>1163</td>\n",
       "      <td>방화동강서기동대앞</td>\n",
       "      <td>5</td>\n",
       "      <td>2019-09-25 08:04:04</td>\n",
       "      <td>2701</td>\n",
       "      <td>마곡나루역 5번출구 뒤편</td>\n",
       "      <td>5</td>\n",
       "      <td>5</td>\n",
       "      <td>540.0</td>\n",
       "    </tr>\n",
       "    <tr>\n",
       "      <th>401769</th>\n",
       "      <td>SPB-11216</td>\n",
       "      <td>2019-09-01 18:32:15</td>\n",
       "      <td>3539</td>\n",
       "      <td>서원마을</td>\n",
       "      <td>10</td>\n",
       "      <td>2019-09-01 20:25:53</td>\n",
       "      <td>3539</td>\n",
       "      <td>서원마을</td>\n",
       "      <td>10</td>\n",
       "      <td>112</td>\n",
       "      <td>6970.0</td>\n",
       "    </tr>\n",
       "    <tr>\n",
       "      <th>356440</th>\n",
       "      <td>SPB-17905</td>\n",
       "      <td>2019-09-19 20:19:06</td>\n",
       "      <td>1332</td>\n",
       "      <td>석계역 5번출구 건너편</td>\n",
       "      <td>9</td>\n",
       "      <td>2019-09-19 21:17:48</td>\n",
       "      <td>3511</td>\n",
       "      <td>응봉역 1번출구</td>\n",
       "      <td>10</td>\n",
       "      <td>58</td>\n",
       "      <td>12070.0</td>\n",
       "    </tr>\n",
       "    <tr>\n",
       "      <th>256661</th>\n",
       "      <td>SPB-07179</td>\n",
       "      <td>2019-09-30 21:33:50</td>\n",
       "      <td>2411</td>\n",
       "      <td>세곡동 성당</td>\n",
       "      <td>1</td>\n",
       "      <td>2019-09-30 21:49:27</td>\n",
       "      <td>2376</td>\n",
       "      <td>수서역 6번출구 앞</td>\n",
       "      <td>12</td>\n",
       "      <td>15</td>\n",
       "      <td>2390.0</td>\n",
       "    </tr>\n",
       "  </tbody>\n",
       "</table>\n",
       "<p>100 rows × 11 columns</p>\n",
       "</div>"
      ],
      "text/plain": [
       "            자전거번호                 대여일시  대여 대여소번호       대여 대여소명  대여거치대  \\\n",
       "96387   SPB-16561  2019-09-20 10:21:46      2140      신림1교 교차로      7   \n",
       "324061  SPB-24348  2019-09-11 19:21:40      1184        마곡13단지      5   \n",
       "20552   SPB-07058  2019-09-08 23:13:16      2104      사당역 5번출구      1   \n",
       "348666  SPB-01000  2019-09-13 11:51:08       560        비전교회 앞      7   \n",
       "383299  SPB-10860  2019-09-17 06:22:04       576    광나루역 3번 출구     10   \n",
       "...           ...                  ...       ...           ...    ...   \n",
       "28579   SPB-10761  2019-09-28 11:11:18      2013    장승배기역 5번출구     12   \n",
       "327155  SPB-19663  2019-09-25 07:58:37      1163     방화동강서기동대앞      5   \n",
       "401769  SPB-11216  2019-09-01 18:32:15      3539          서원마을     10   \n",
       "356440  SPB-17905  2019-09-19 20:19:06      1332  석계역 5번출구 건너편      9   \n",
       "256661  SPB-07179  2019-09-30 21:33:50      2411        세곡동 성당      1   \n",
       "\n",
       "                       반납일시  반납대여소번호         반납대여소명  반납거치대  이용시간     이용거리  \n",
       "96387   2019-09-20 10:38:58     2173          당곡사거리      3    16   2310.0  \n",
       "324061  2019-09-11 19:56:02     2701  마곡나루역 5번출구 뒤편      6    34   3020.0  \n",
       "20552   2019-09-08 23:20:41     2033   사당동 아르테스 웨딩앞     10     7    680.0  \n",
       "348666  2019-09-13 11:55:01     3508          화양사거리      3     3    430.0  \n",
       "383299  2019-09-17 06:26:27     3528        광진정보도서관      5     4    590.0  \n",
       "...                     ...      ...            ...    ...   ...      ...  \n",
       "28579   2019-09-28 11:16:53     2050      노량진역 5번출구      1     5    840.0  \n",
       "327155  2019-09-25 08:04:04     2701  마곡나루역 5번출구 뒤편      5     5    540.0  \n",
       "401769  2019-09-01 20:25:53     3539           서원마을     10   112   6970.0  \n",
       "356440  2019-09-19 21:17:48     3511       응봉역 1번출구     10    58  12070.0  \n",
       "256661  2019-09-30 21:49:27     2376     수서역 6번출구 앞     12    15   2390.0  \n",
       "\n",
       "[100 rows x 11 columns]"
      ]
     },
     "execution_count": 53,
     "metadata": {},
     "output_type": "execute_result"
    }
   ],
   "source": [
    "bike_sample_10000 = bike.sample(n=10000,replace=False,random_state=2)\n",
    "bike_sample_10000.head(100)"
   ]
  },
  {
   "cell_type": "code",
   "execution_count": 54,
   "id": "f25f1eed",
   "metadata": {},
   "outputs": [
    {
     "data": {
      "text/plain": [
       "<AxesSubplot:ylabel='Frequency'>"
      ]
     },
     "execution_count": 54,
     "metadata": {},
     "output_type": "execute_result"
    },
    {
     "name": "stderr",
     "output_type": "stream",
     "text": [
      "C:\\Users\\22668\\anaconda3\\lib\\site-packages\\IPython\\core\\pylabtools.py:151: UserWarning: Glyph 51060 (\\N{HANGUL SYLLABLE I}) missing from current font.\n",
      "  fig.canvas.print_figure(bytes_io, **kw)\n",
      "C:\\Users\\22668\\anaconda3\\lib\\site-packages\\IPython\\core\\pylabtools.py:151: UserWarning: Glyph 50857 (\\N{HANGUL SYLLABLE YONG}) missing from current font.\n",
      "  fig.canvas.print_figure(bytes_io, **kw)\n",
      "C:\\Users\\22668\\anaconda3\\lib\\site-packages\\IPython\\core\\pylabtools.py:151: UserWarning: Glyph 44144 (\\N{HANGUL SYLLABLE GEO}) missing from current font.\n",
      "  fig.canvas.print_figure(bytes_io, **kw)\n",
      "C:\\Users\\22668\\anaconda3\\lib\\site-packages\\IPython\\core\\pylabtools.py:151: UserWarning: Glyph 47532 (\\N{HANGUL SYLLABLE RI}) missing from current font.\n",
      "  fig.canvas.print_figure(bytes_io, **kw)\n"
     ]
    },
    {
     "data": {
      "image/png": "[encoded data removed]",
      "text/plain": [
       "<Figure size 640x480 with 1 Axes>"
      ]
     },
     "metadata": {},
     "output_type": "display_data"
    }
   ],
   "source": [
    "bike_sample_10000.plot.hist(y=\"이용거리\",bins=30)"
   ]
  },
  {
   "cell_type": "code",
   "execution_count": 55,
   "id": "f67a707b",
   "metadata": {},
   "outputs": [
    {
     "data": {
      "text/plain": [
       "<AxesSubplot:>"
      ]
     },
     "execution_count": 55,
     "metadata": {},
     "output_type": "execute_result"
    },
    {
     "name": "stderr",
     "output_type": "stream",
     "text": [
      "C:\\Users\\22668\\anaconda3\\lib\\site-packages\\IPython\\core\\pylabtools.py:151: UserWarning: Glyph 51060 (\\N{HANGUL SYLLABLE I}) missing from current font.\n",
      "  fig.canvas.print_figure(bytes_io, **kw)\n",
      "C:\\Users\\22668\\anaconda3\\lib\\site-packages\\IPython\\core\\pylabtools.py:151: UserWarning: Glyph 50857 (\\N{HANGUL SYLLABLE YONG}) missing from current font.\n",
      "  fig.canvas.print_figure(bytes_io, **kw)\n",
      "C:\\Users\\22668\\anaconda3\\lib\\site-packages\\IPython\\core\\pylabtools.py:151: UserWarning: Glyph 44144 (\\N{HANGUL SYLLABLE GEO}) missing from current font.\n",
      "  fig.canvas.print_figure(bytes_io, **kw)\n",
      "C:\\Users\\22668\\anaconda3\\lib\\site-packages\\IPython\\core\\pylabtools.py:151: UserWarning: Glyph 47532 (\\N{HANGUL SYLLABLE RI}) missing from current font.\n",
      "  fig.canvas.print_figure(bytes_io, **kw)\n"
     ]
    },
    {
     "data": {
      "image/png": "[encoded data removed]",
      "text/plain": [
       "<Figure size 640x480 with 1 Axes>"
      ]
     },
     "metadata": {},
     "output_type": "display_data"
    }
   ],
   "source": [
    "bike_sample_10000.plot.box(y=\"이용거리\")"
   ]
  },
  {
   "cell_type": "code",
   "execution_count": 58,
   "id": "fc7b19c8",
   "metadata": {},
   "outputs": [
    {
     "data": {
      "text/html": [
       "<div>\n",
       "<style scoped>\n",
       "    .dataframe tbody tr th:only-of-type {\n",
       "        vertical-align: middle;\n",
       "    }\n",
       "\n",
       "    .dataframe tbody tr th {\n",
       "        vertical-align: top;\n",
       "    }\n",
       "\n",
       "    .dataframe thead th {\n",
       "        text-align: right;\n",
       "    }\n",
       "</style>\n",
       "<table border=\"1\" class=\"dataframe\">\n",
       "  <thead>\n",
       "    <tr style=\"text-align: right;\">\n",
       "      <th></th>\n",
       "      <th>이용거리</th>\n",
       "    </tr>\n",
       "  </thead>\n",
       "  <tbody>\n",
       "    <tr>\n",
       "      <th>count</th>\n",
       "      <td>10000.000000</td>\n",
       "    </tr>\n",
       "    <tr>\n",
       "      <th>mean</th>\n",
       "      <td>4263.389000</td>\n",
       "    </tr>\n",
       "    <tr>\n",
       "      <th>std</th>\n",
       "      <td>5808.952384</td>\n",
       "    </tr>\n",
       "    <tr>\n",
       "      <th>min</th>\n",
       "      <td>0.000000</td>\n",
       "    </tr>\n",
       "    <tr>\n",
       "      <th>25%</th>\n",
       "      <td>1200.000000</td>\n",
       "    </tr>\n",
       "    <tr>\n",
       "      <th>50%</th>\n",
       "      <td>2350.000000</td>\n",
       "    </tr>\n",
       "    <tr>\n",
       "      <th>75%</th>\n",
       "      <td>5142.500000</td>\n",
       "    </tr>\n",
       "    <tr>\n",
       "      <th>max</th>\n",
       "      <td>87720.000000</td>\n",
       "    </tr>\n",
       "  </tbody>\n",
       "</table>\n",
       "</div>"
      ],
      "text/plain": [
       "               이용거리\n",
       "count  10000.000000\n",
       "mean    4263.389000\n",
       "std     5808.952384\n",
       "min        0.000000\n",
       "25%     1200.000000\n",
       "50%     2350.000000\n",
       "75%     5142.500000\n",
       "max    87720.000000"
      ]
     },
     "execution_count": 58,
     "metadata": {},
     "output_type": "execute_result"
    }
   ],
   "source": [
    "bike_sample_10000[[\"이용거리\"]].describe()"
   ]
  },
  {
   "cell_type": "code",
   "execution_count": 59,
   "id": "792e4edf",
   "metadata": {},
   "outputs": [
    {
     "data": {
      "text/plain": [
       "Text(0.5, 1.0, 'Population')"
      ]
     },
     "execution_count": 59,
     "metadata": {},
     "output_type": "execute_result"
    },
    {
     "data": {
      "image/png": "[encoded data removed]",
      "text/plain": [
       "<Figure size 1500x1000 with 3 Axes>"
      ]
     },
     "metadata": {},
     "output_type": "display_data"
    }
   ],
   "source": [
    "fig, axes = plt.subplots(nrows=1, ncols=3,figsize=(15,10))\n",
    "\n",
    "axes[0].boxplot(bike_sample_100.이용거리)\n",
    "axes[0].set_ylim(0,153500)\n",
    "axes[0].set_title('n=100')\n",
    "\n",
    "axes[1].boxplot(bike_sample_10000.이용거리)\n",
    "axes[1].set_ylim(0,153500)\n",
    "axes[1].set_title('n=10000')\n",
    "\n",
    "axes[2].boxplot(bike.이용거리)\n",
    "axes[2].set_ylim(0,153500)\n",
    "axes[2].set_title('Population')"
   ]
  },
  {
   "cell_type": "markdown",
   "id": "f9eea7e4",
   "metadata": {},
   "source": [
    "### insight\n",
    "- 추출된 표본에 속한 데이터의 분포는 `경험적 분포(emprical distribution)`라고 함\n",
    "    - `경험적`? $\\to$ 추출된 관측값들의 분포라는 의미.\n",
    "- 모집단을 대상으로 분포는 `경험적 분포`라 하지 않음 `모집단 분포`라고 함.\n",
    "- 표본의 크기(sample size)가 증가할수록 확률표본에서 얻은 정보는 모집단에 대한 정보와 점점 가까워진다.\n",
    "    - 당연함. 표본의 크기가 크다는 것 $\\to$ 더 많은 데이터 포인트를 추출한다는 것 $\\to$ 모집단과 비슷해짐\n",
    "    - 모집단이 1000에서 크기가 999인 표본 하는거랑 50인 표본이랑 당연히 999인 표본이 더 모집단과 비슷하겠지?\n",
    "    - 크기 10,000인 표본에서 얻은 정보, 즉 상자그림과 요약통계량은 모집단과 매우 유사.\n",
    "    - 이용거리의 평균은 4263.4 m 로서 모집단의 평균 4253.3 m 와는 단 10 m 차이\n",
    "    - 표본 크기가 100인 경우 보다 훨씬 더 모집단의 분포와 가까운 것을 알 수 있음\n",
    "- 대수의 법칙\n",
    "    - 표본의 크기(sample size)가 커질수록 확률표본의 경험적 분포가 모집단의 분포에 점점 가까워 진다.\n",
    "    - 확률표본에서 얻은 정보는 모집단에 대한 정보와 점점 가까워진다.\n",
    "    - keyword : `표본의 크기`,`증가`,`확률표본`,`경험적 분포`,`모집단의 분포`,`가까워`"
   ]
  },
  {
   "cell_type": "markdown",
   "id": "c6cfbd4a",
   "metadata": {},
   "source": [
    ":::{.callout-note}\n",
    "#### 단순 임의 추출된 표본이 아닐경우는?(즉 확률표본이 아니고 편의표본인 경우는?) \n",
    "- 표본의 크기가 커진다 할지라도 모집단의 정보와 가까워 진다는 것을 보장할 수 없다. \n",
    "- 만약에 문제를 봤을때 단순임의추출이 아닌데도 표본의 크기가 증가하면 모집단을 잘 묘사한다 이런얘기가 나오면 잘못된 정보이다. \n",
    "- 대수의 법칙은 `단순임의추출된 확률표본이라는 가정`이 반드시 들어가야 한다.(밑에 편의표본 chapter에서 확인.)\n",
    ":::"
   ]
  },
  {
   "cell_type": "markdown",
   "id": "070da684",
   "metadata": {},
   "source": [
    "## 대수의 법칙 코드로 확인해보기"
   ]
  },
  {
   "cell_type": "code",
   "execution_count": 98,
   "id": "063ff792",
   "metadata": {},
   "outputs": [],
   "source": [
    "n = np.arange(10,2021,20)\n",
    "sample_means = np.zeros(len(n))\n",
    "for i,samplesize in enumerate(n):\n",
    "    sample_means[i] = bike.sample(n=samplesize,replace = False)[\"이용거리\"].mean()"
   ]
  },
  {
   "cell_type": "code",
   "execution_count": 99,
   "id": "4eb4086c",
   "metadata": {},
   "outputs": [
    {
     "data": {
      "text/plain": [
       "array([3877.        , 4586.66666667, 3894.        , 4593.57142857,\n",
       "       4771.88888889, 4165.09090909, 4614.38461538, 4871.93333333,\n",
       "       4359.94117647, 4225.42105263, 4036.85714286, 4602.47826087,\n",
       "       4302.4       , 4397.48148148, 4216.93103448, 4150.        ,\n",
       "       4590.33333333, 4376.68571429, 4506.24324324, 3784.92307692,\n",
       "       4329.85365854, 4229.62790698, 4769.91111111, 4472.34042553,\n",
       "       4300.44897959, 4500.68627451, 4305.35849057, 4436.89090909,\n",
       "       4168.98245614, 3937.33898305, 4317.24590164, 4393.17460317,\n",
       "       4196.83076923, 4144.29850746, 4027.97101449, 4125.61971831,\n",
       "       4163.67123288, 4146.61333333, 4251.05194805, 4393.02531646,\n",
       "       4152.65432099, 4299.57831325, 4323.30588235, 4105.93103448,\n",
       "       3980.73033708, 4125.0989011 , 4292.44086022, 4142.        ,\n",
       "       4214.03092784, 4421.85858586, 4428.78217822, 4354.7961165 ,\n",
       "       4289.76190476, 4404.96261682, 4501.08256881, 4151.83783784,\n",
       "       3987.73451327, 3989.22608696, 4279.93162393, 4340.97478992,\n",
       "       4065.54545455, 4250.5203252 , 4070.616     , 4388.60629921,\n",
       "       4321.51937984, 4590.96183206, 4201.30075188, 4101.34814815,\n",
       "       4359.25547445, 3678.39568345, 3996.9858156 , 4276.18181818,\n",
       "       4020.39310345, 4341.78911565, 4258.79194631, 4400.97350993,\n",
       "       4043.88235294, 4551.45806452, 4231.25477707, 4031.10062893,\n",
       "       4371.42236025, 4269.99386503, 4327.2969697 , 4156.07784431,\n",
       "       4268.74556213, 4064.12865497, 4302.50867052, 4334.66857143,\n",
       "       4350.27118644, 4193.20670391, 4184.85635359, 4466.34972678,\n",
       "       4219.05945946, 4286.95721925, 4119.47619048, 4335.76439791,\n",
       "       4211.11917098, 4284.52307692, 4174.55837563, 4209.04522613,\n",
       "       4113.80099502])"
      ]
     },
     "execution_count": 99,
     "metadata": {},
     "output_type": "execute_result"
    }
   ],
   "source": [
    "sample_means"
   ]
  },
  {
   "cell_type": "code",
   "execution_count": 101,
   "id": "0fcc35b5",
   "metadata": {},
   "outputs": [
    {
     "data": {
      "text/html": [
       "<div>\n",
       "<style scoped>\n",
       "    .dataframe tbody tr th:only-of-type {\n",
       "        vertical-align: middle;\n",
       "    }\n",
       "\n",
       "    .dataframe tbody tr th {\n",
       "        vertical-align: top;\n",
       "    }\n",
       "\n",
       "    .dataframe thead th {\n",
       "        text-align: right;\n",
       "    }\n",
       "</style>\n",
       "<table border=\"1\" class=\"dataframe\">\n",
       "  <thead>\n",
       "    <tr style=\"text-align: right;\">\n",
       "      <th></th>\n",
       "      <th>n</th>\n",
       "      <th>sample_mean</th>\n",
       "    </tr>\n",
       "  </thead>\n",
       "  <tbody>\n",
       "    <tr>\n",
       "      <th>0</th>\n",
       "      <td>10</td>\n",
       "      <td>3877.000000</td>\n",
       "    </tr>\n",
       "    <tr>\n",
       "      <th>1</th>\n",
       "      <td>30</td>\n",
       "      <td>4586.666667</td>\n",
       "    </tr>\n",
       "    <tr>\n",
       "      <th>2</th>\n",
       "      <td>50</td>\n",
       "      <td>3894.000000</td>\n",
       "    </tr>\n",
       "    <tr>\n",
       "      <th>3</th>\n",
       "      <td>70</td>\n",
       "      <td>4593.571429</td>\n",
       "    </tr>\n",
       "    <tr>\n",
       "      <th>4</th>\n",
       "      <td>90</td>\n",
       "      <td>4771.888889</td>\n",
       "    </tr>\n",
       "    <tr>\n",
       "      <th>5</th>\n",
       "      <td>110</td>\n",
       "      <td>4165.090909</td>\n",
       "    </tr>\n",
       "    <tr>\n",
       "      <th>6</th>\n",
       "      <td>130</td>\n",
       "      <td>4614.384615</td>\n",
       "    </tr>\n",
       "    <tr>\n",
       "      <th>7</th>\n",
       "      <td>150</td>\n",
       "      <td>4871.933333</td>\n",
       "    </tr>\n",
       "    <tr>\n",
       "      <th>8</th>\n",
       "      <td>170</td>\n",
       "      <td>4359.941176</td>\n",
       "    </tr>\n",
       "    <tr>\n",
       "      <th>9</th>\n",
       "      <td>190</td>\n",
       "      <td>4225.421053</td>\n",
       "    </tr>\n",
       "  </tbody>\n",
       "</table>\n",
       "</div>"
      ],
      "text/plain": [
       "     n  sample_mean\n",
       "0   10  3877.000000\n",
       "1   30  4586.666667\n",
       "2   50  3894.000000\n",
       "3   70  4593.571429\n",
       "4   90  4771.888889\n",
       "5  110  4165.090909\n",
       "6  130  4614.384615\n",
       "7  150  4871.933333\n",
       "8  170  4359.941176\n",
       "9  190  4225.421053"
      ]
     },
     "execution_count": 101,
     "metadata": {},
     "output_type": "execute_result"
    }
   ],
   "source": [
    "df_sample = pd.DataFrame({'n':n, 'sample_mean':sample_means })\n",
    "df_sample.head(10)"
   ]
  },
  {
   "cell_type": "code",
   "execution_count": 102,
   "id": "3caa41f1",
   "metadata": {},
   "outputs": [
    {
     "data": {
      "image/png": "[encoded data removed]",
      "text/plain": [
       "<Figure size 640x480 with 1 Axes>"
      ]
     },
     "metadata": {},
     "output_type": "display_data"
    }
   ],
   "source": [
    "ax = df_sample.plot.scatter(x='n', y='sample_mean')\n",
    "_ = ax.hlines(y=4253.336228, xmin=0, xmax=2000, colors='r')\n",
    "plt.show()"
   ]
  },
  {
   "cell_type": "markdown",
   "id": "a73336c7",
   "metadata": {},
   "source": [
    "# 대수의 법칙이 성립하지 않는 경우 - 편의표본"
   ]
  },
  {
   "cell_type": "markdown",
   "id": "7be0b832",
   "metadata": {},
   "source": [
    "생략..."
   ]
  }
 ],
 "metadata": {
  "kernelspec": {
   "display_name": "Python 3 (ipykernel)",
   "language": "python",
   "name": "python3"
  },
  "language_info": {
   "codemirror_mode": {
    "name": "ipython",
    "version": 3
   },
   "file_extension": ".py",
   "mimetype": "text/x-python",
   "name": "python",
   "nbconvert_exporter": "python",
   "pygments_lexer": "ipython3",
   "version": "3.9.13"
  },
  "toc": {
   "base_numbering": 1,
   "nav_menu": {},
   "number_sections": true,
   "sideBar": true,
   "skip_h1_title": false,
   "title_cell": "Table of Contents",
   "title_sidebar": "Contents",
   "toc_cell": false,
   "toc_position": {},
   "toc_section_display": true,
   "toc_window_display": true
  }
 },
 "nbformat": 4,
 "nbformat_minor": 5
}
