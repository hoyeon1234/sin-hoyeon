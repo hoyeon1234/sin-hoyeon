{
 "cells": [
  {
   "cell_type": "code",
   "execution_count": 67,
   "id": "90cc07d0",
   "metadata": {},
   "outputs": [],
   "source": [
    "import pandas as pd\n",
    "import numpy as np\n",
    "import matplotlib.pyplot as plt\n",
    "import scipy.stats as stats"
   ]
  },
  {
   "cell_type": "code",
   "execution_count": 3,
   "id": "fbab4fa8",
   "metadata": {},
   "outputs": [],
   "source": [
    "url = \"https://ilovedata.github.io/teaching/bigdata2/data/physical_test_2018_data.csv\"\n",
    "physical_data = pd.read_csv(url, sep=',', encoding = 'utf-8-sig')"
   ]
  },
  {
   "cell_type": "code",
   "execution_count": 4,
   "id": "b93bf495",
   "metadata": {
    "scrolled": false
   },
   "outputs": [
    {
     "data": {
      "text/html": [
       "<div>\n",
       "<style scoped>\n",
       "    .dataframe tbody tr th:only-of-type {\n",
       "        vertical-align: middle;\n",
       "    }\n",
       "\n",
       "    .dataframe tbody tr th {\n",
       "        vertical-align: top;\n",
       "    }\n",
       "\n",
       "    .dataframe thead th {\n",
       "        text-align: right;\n",
       "    }\n",
       "</style>\n",
       "<table border=\"1\" class=\"dataframe\">\n",
       "  <thead>\n",
       "    <tr style=\"text-align: right;\">\n",
       "      <th></th>\n",
       "      <th>CENTER_NM</th>\n",
       "      <th>CERT_GBN</th>\n",
       "      <th>AGE_GBN</th>\n",
       "      <th>TEST_AGE</th>\n",
       "      <th>TEST_SEX</th>\n",
       "      <th>ITEM_F001</th>\n",
       "      <th>ITEM_F002</th>\n",
       "      <th>ITEM_F003</th>\n",
       "      <th>ITEM_F004</th>\n",
       "      <th>ITEM_F005</th>\n",
       "      <th>ITEM_F006</th>\n",
       "      <th>ITEM_F007</th>\n",
       "      <th>ITEM_F008</th>\n",
       "      <th>ITEM_F012</th>\n",
       "      <th>ITEM_F018</th>\n",
       "      <th>ITEM_F019</th>\n",
       "      <th>ITEM_F022</th>\n",
       "      <th>ITEM_F028</th>\n",
       "    </tr>\n",
       "  </thead>\n",
       "  <tbody>\n",
       "    <tr>\n",
       "      <th>0</th>\n",
       "      <td>연제</td>\n",
       "      <td>참가증</td>\n",
       "      <td>성인</td>\n",
       "      <td>33</td>\n",
       "      <td>M</td>\n",
       "      <td>159.2</td>\n",
       "      <td>57.2</td>\n",
       "      <td>30.3</td>\n",
       "      <td>77.0</td>\n",
       "      <td>60.0</td>\n",
       "      <td>101.0</td>\n",
       "      <td>23.3</td>\n",
       "      <td>30.6</td>\n",
       "      <td>-6.2</td>\n",
       "      <td>22.6</td>\n",
       "      <td>27.0</td>\n",
       "      <td>186.0</td>\n",
       "      <td>53.5</td>\n",
       "    </tr>\n",
       "    <tr>\n",
       "      <th>1</th>\n",
       "      <td>연제</td>\n",
       "      <td>참가증</td>\n",
       "      <td>성인</td>\n",
       "      <td>48</td>\n",
       "      <td>F</td>\n",
       "      <td>155.8</td>\n",
       "      <td>52.9</td>\n",
       "      <td>29.0</td>\n",
       "      <td>70.0</td>\n",
       "      <td>80.0</td>\n",
       "      <td>130.0</td>\n",
       "      <td>27.5</td>\n",
       "      <td>30.7</td>\n",
       "      <td>8.8</td>\n",
       "      <td>21.8</td>\n",
       "      <td>18.0</td>\n",
       "      <td>149.0</td>\n",
       "      <td>58.0</td>\n",
       "    </tr>\n",
       "    <tr>\n",
       "      <th>2</th>\n",
       "      <td>세종</td>\n",
       "      <td>참가증</td>\n",
       "      <td>성인</td>\n",
       "      <td>22</td>\n",
       "      <td>M</td>\n",
       "      <td>175.2</td>\n",
       "      <td>96.2</td>\n",
       "      <td>32.8</td>\n",
       "      <td>109.4</td>\n",
       "      <td>85.0</td>\n",
       "      <td>141.0</td>\n",
       "      <td>48.9</td>\n",
       "      <td>52.3</td>\n",
       "      <td>-2.8</td>\n",
       "      <td>31.3</td>\n",
       "      <td>40.0</td>\n",
       "      <td>212.0</td>\n",
       "      <td>54.4</td>\n",
       "    </tr>\n",
       "    <tr>\n",
       "      <th>3</th>\n",
       "      <td>연제</td>\n",
       "      <td>2등급</td>\n",
       "      <td>성인</td>\n",
       "      <td>29</td>\n",
       "      <td>M</td>\n",
       "      <td>178.7</td>\n",
       "      <td>79.4</td>\n",
       "      <td>17.9</td>\n",
       "      <td>80.0</td>\n",
       "      <td>84.0</td>\n",
       "      <td>132.0</td>\n",
       "      <td>44.8</td>\n",
       "      <td>45.9</td>\n",
       "      <td>10.4</td>\n",
       "      <td>24.9</td>\n",
       "      <td>48.0</td>\n",
       "      <td>230.0</td>\n",
       "      <td>57.8</td>\n",
       "    </tr>\n",
       "    <tr>\n",
       "      <th>4</th>\n",
       "      <td>사하</td>\n",
       "      <td>참가증</td>\n",
       "      <td>성인</td>\n",
       "      <td>31</td>\n",
       "      <td>F</td>\n",
       "      <td>160.1</td>\n",
       "      <td>50.2</td>\n",
       "      <td>31.2</td>\n",
       "      <td>NaN</td>\n",
       "      <td>71.0</td>\n",
       "      <td>115.0</td>\n",
       "      <td>13.4</td>\n",
       "      <td>16.8</td>\n",
       "      <td>15.9</td>\n",
       "      <td>19.6</td>\n",
       "      <td>27.0</td>\n",
       "      <td>133.0</td>\n",
       "      <td>33.5</td>\n",
       "    </tr>\n",
       "    <tr>\n",
       "      <th>...</th>\n",
       "      <td>...</td>\n",
       "      <td>...</td>\n",
       "      <td>...</td>\n",
       "      <td>...</td>\n",
       "      <td>...</td>\n",
       "      <td>...</td>\n",
       "      <td>...</td>\n",
       "      <td>...</td>\n",
       "      <td>...</td>\n",
       "      <td>...</td>\n",
       "      <td>...</td>\n",
       "      <td>...</td>\n",
       "      <td>...</td>\n",
       "      <td>...</td>\n",
       "      <td>...</td>\n",
       "      <td>...</td>\n",
       "      <td>...</td>\n",
       "      <td>...</td>\n",
       "    </tr>\n",
       "    <tr>\n",
       "      <th>1869</th>\n",
       "      <td>전주</td>\n",
       "      <td>참가증</td>\n",
       "      <td>청소년</td>\n",
       "      <td>18</td>\n",
       "      <td>M</td>\n",
       "      <td>179.8</td>\n",
       "      <td>79.8</td>\n",
       "      <td>15.7</td>\n",
       "      <td>87.2</td>\n",
       "      <td>93.0</td>\n",
       "      <td>139.0</td>\n",
       "      <td>34.8</td>\n",
       "      <td>38.9</td>\n",
       "      <td>6.1</td>\n",
       "      <td>24.7</td>\n",
       "      <td>NaN</td>\n",
       "      <td>NaN</td>\n",
       "      <td>48.7</td>\n",
       "    </tr>\n",
       "    <tr>\n",
       "      <th>1870</th>\n",
       "      <td>광산</td>\n",
       "      <td>참가증</td>\n",
       "      <td>성인</td>\n",
       "      <td>29</td>\n",
       "      <td>F</td>\n",
       "      <td>156.3</td>\n",
       "      <td>51.4</td>\n",
       "      <td>28.4</td>\n",
       "      <td>74.0</td>\n",
       "      <td>67.0</td>\n",
       "      <td>134.0</td>\n",
       "      <td>24.1</td>\n",
       "      <td>30.2</td>\n",
       "      <td>1.5</td>\n",
       "      <td>21.0</td>\n",
       "      <td>8.0</td>\n",
       "      <td>163.0</td>\n",
       "      <td>58.8</td>\n",
       "    </tr>\n",
       "    <tr>\n",
       "      <th>1871</th>\n",
       "      <td>전주</td>\n",
       "      <td>참가증</td>\n",
       "      <td>성인</td>\n",
       "      <td>19</td>\n",
       "      <td>M</td>\n",
       "      <td>173.9</td>\n",
       "      <td>64.5</td>\n",
       "      <td>17.2</td>\n",
       "      <td>77.1</td>\n",
       "      <td>95.0</td>\n",
       "      <td>138.0</td>\n",
       "      <td>30.1</td>\n",
       "      <td>27.4</td>\n",
       "      <td>4.4</td>\n",
       "      <td>21.3</td>\n",
       "      <td>40.0</td>\n",
       "      <td>209.0</td>\n",
       "      <td>46.7</td>\n",
       "    </tr>\n",
       "    <tr>\n",
       "      <th>1872</th>\n",
       "      <td>부천</td>\n",
       "      <td>2등급</td>\n",
       "      <td>노인</td>\n",
       "      <td>66</td>\n",
       "      <td>F</td>\n",
       "      <td>141.3</td>\n",
       "      <td>54.9</td>\n",
       "      <td>37.6</td>\n",
       "      <td>80.6</td>\n",
       "      <td>82.0</td>\n",
       "      <td>145.0</td>\n",
       "      <td>23.4</td>\n",
       "      <td>25.2</td>\n",
       "      <td>17.3</td>\n",
       "      <td>27.5</td>\n",
       "      <td>NaN</td>\n",
       "      <td>NaN</td>\n",
       "      <td>45.9</td>\n",
       "    </tr>\n",
       "    <tr>\n",
       "      <th>1873</th>\n",
       "      <td>사하</td>\n",
       "      <td>3등급</td>\n",
       "      <td>성인</td>\n",
       "      <td>51</td>\n",
       "      <td>F</td>\n",
       "      <td>155.5</td>\n",
       "      <td>59.9</td>\n",
       "      <td>34.7</td>\n",
       "      <td>NaN</td>\n",
       "      <td>69.0</td>\n",
       "      <td>127.0</td>\n",
       "      <td>22.4</td>\n",
       "      <td>24.2</td>\n",
       "      <td>20.8</td>\n",
       "      <td>24.8</td>\n",
       "      <td>18.0</td>\n",
       "      <td>93.0</td>\n",
       "      <td>40.4</td>\n",
       "    </tr>\n",
       "  </tbody>\n",
       "</table>\n",
       "<p>1874 rows × 18 columns</p>\n",
       "</div>"
      ],
      "text/plain": [
       "     CENTER_NM CERT_GBN AGE_GBN  TEST_AGE TEST_SEX  ITEM_F001  ITEM_F002  \\\n",
       "0           연제      참가증      성인        33        M      159.2       57.2   \n",
       "1           연제      참가증      성인        48        F      155.8       52.9   \n",
       "2           세종      참가증      성인        22        M      175.2       96.2   \n",
       "3           연제      2등급      성인        29        M      178.7       79.4   \n",
       "4           사하      참가증      성인        31        F      160.1       50.2   \n",
       "...        ...      ...     ...       ...      ...        ...        ...   \n",
       "1869        전주      참가증     청소년        18        M      179.8       79.8   \n",
       "1870        광산      참가증      성인        29        F      156.3       51.4   \n",
       "1871        전주      참가증      성인        19        M      173.9       64.5   \n",
       "1872        부천      2등급      노인        66        F      141.3       54.9   \n",
       "1873        사하      3등급      성인        51        F      155.5       59.9   \n",
       "\n",
       "      ITEM_F003  ITEM_F004  ITEM_F005  ITEM_F006  ITEM_F007  ITEM_F008  \\\n",
       "0          30.3       77.0       60.0      101.0       23.3       30.6   \n",
       "1          29.0       70.0       80.0      130.0       27.5       30.7   \n",
       "2          32.8      109.4       85.0      141.0       48.9       52.3   \n",
       "3          17.9       80.0       84.0      132.0       44.8       45.9   \n",
       "4          31.2        NaN       71.0      115.0       13.4       16.8   \n",
       "...         ...        ...        ...        ...        ...        ...   \n",
       "1869       15.7       87.2       93.0      139.0       34.8       38.9   \n",
       "1870       28.4       74.0       67.0      134.0       24.1       30.2   \n",
       "1871       17.2       77.1       95.0      138.0       30.1       27.4   \n",
       "1872       37.6       80.6       82.0      145.0       23.4       25.2   \n",
       "1873       34.7        NaN       69.0      127.0       22.4       24.2   \n",
       "\n",
       "      ITEM_F012  ITEM_F018  ITEM_F019  ITEM_F022  ITEM_F028  \n",
       "0          -6.2       22.6       27.0      186.0       53.5  \n",
       "1           8.8       21.8       18.0      149.0       58.0  \n",
       "2          -2.8       31.3       40.0      212.0       54.4  \n",
       "3          10.4       24.9       48.0      230.0       57.8  \n",
       "4          15.9       19.6       27.0      133.0       33.5  \n",
       "...         ...        ...        ...        ...        ...  \n",
       "1869        6.1       24.7        NaN        NaN       48.7  \n",
       "1870        1.5       21.0        8.0      163.0       58.8  \n",
       "1871        4.4       21.3       40.0      209.0       46.7  \n",
       "1872       17.3       27.5        NaN        NaN       45.9  \n",
       "1873       20.8       24.8       18.0       93.0       40.4  \n",
       "\n",
       "[1874 rows x 18 columns]"
      ]
     },
     "execution_count": 4,
     "metadata": {},
     "output_type": "execute_result"
    }
   ],
   "source": [
    "physical_data"
   ]
  },
  {
   "cell_type": "markdown",
   "id": "b5564048",
   "metadata": {},
   "source": [
    "# 예제\n",
    "- 체력측정 데이터에서 성인남성을 임의로 선택할 때 키가 180 이상일 가능성은?"
   ]
  },
  {
   "cell_type": "markdown",
   "id": "2216d52e",
   "metadata": {},
   "source": [
    "## 자료의 분포 이용"
   ]
  },
  {
   "cell_type": "markdown",
   "id": "e3fbc442",
   "metadata": {},
   "source": [
    "- 이 경우는 데이터에 있는 모든 남자들이 선택될 가능성이 같다. 그러므로 논리적 확률을 통하여 다음과 같이 계산할 수 있다."
   ]
  },
  {
   "cell_type": "markdown",
   "id": "3b693421",
   "metadata": {},
   "source": [
    "$$P(키 \\geq 180) = \\frac{\\text{키가 180 이상인 성인 남자의 수}}{\\text{성인 남자의 수}}$$"
   ]
  },
  {
   "cell_type": "code",
   "execution_count": 13,
   "id": "84324835",
   "metadata": {},
   "outputs": [
    {
     "data": {
      "text/plain": [
       "0.11521739130434783"
      ]
     },
     "execution_count": 13,
     "metadata": {},
     "output_type": "execute_result"
    }
   ],
   "source": [
    "adult_man = physical_data[(physical_data.TEST_SEX == \"M\") & (physical_data.TEST_AGE >= 19)]\n",
    "over_180 = adult_man[adult_man[\"ITEM_F001\"] >= 180]\n",
    "len(over_180) / len(adult_man)"
   ]
  },
  {
   "cell_type": "code",
   "execution_count": 26,
   "id": "5d8a86d6",
   "metadata": {},
   "outputs": [
    {
     "data": {
      "text/plain": [
       "height    0.115217\n",
       "dtype: float64"
      ]
     },
     "execution_count": 26,
     "metadata": {},
     "output_type": "execute_result"
    }
   ],
   "source": [
    "#성인남성의 키데이터 가져오고\n",
    "height_adult_man = physical_data.loc[(physical_data.TEST_SEX == \"M\") & (physical_data.TEST_AGE >= 19),[\"ITEM_F001\"]]\n",
    "#그냥 변수명 변경해주고\n",
    "height_adult_man.columns = [\"height\"]\n",
    "#180이상의 성인남성의 수를 인덱싱과 count메서드를 사용해서 세어주고 ,성인남성의 수도 count사용해서 세어줘서 나눠줌\n",
    "height_adult_man[(height_adult_man >= 180)].count()/height_adult_man.count()\n",
    "#float(height_adult_man[height_adult_man.height>=180].count()) / float(height_adult_man.count())"
   ]
  },
  {
   "cell_type": "markdown",
   "id": "67711784",
   "metadata": {},
   "source": [
    "## 분포를 가정하고 확률 구하기"
   ]
  },
  {
   "cell_type": "markdown",
   "id": "e9bf37bb",
   "metadata": {},
   "source": [
    "- 성인남성의 키의 분포가 $\\mathcal{N}(172.7,6.22^2)$을 따른다고 가정.\n"
   ]
  },
  {
   "cell_type": "markdown",
   "id": "b3671680",
   "metadata": {},
   "source": [
    "- np.random.noraml(mean,std,sample_size) $\\to$ 정규분포에서 확률실험하기\n",
    "- 정규분포의 누적분포함수 사용\n",
    "    1. noraml_dist = scipy.stats.norm(mean,std) (scipy.stats의 norm정규분포 객체 생성)\n",
    "    2. 1 - normal_dist.cdf(180) (cdf method 사용)"
   ]
  },
  {
   "cell_type": "markdown",
   "id": "5f842750",
   "metadata": {},
   "source": [
    "$$\n",
    "\\begin{aligned}\n",
    "P(x\\geq180) &= 1-p(x\\leq180)\\\\\n",
    "&=1 - \\int_{-\\infty}^{180}f(x)dx \\\\\n",
    "&= 1 - \\text{normal_dist.cdf}(180)\n",
    "\\end{aligned}\n",
    "$$"
   ]
  },
  {
   "cell_type": "markdown",
   "id": "dfb6abdb",
   "metadata": {},
   "source": [
    "### 정규분포의 확률실험 이용"
   ]
  },
  {
   "cell_type": "code",
   "execution_count": 64,
   "id": "3b8d6078",
   "metadata": {},
   "outputs": [
    {
     "data": {
      "text/html": [
       "<div>\n",
       "<style scoped>\n",
       "    .dataframe tbody tr th:only-of-type {\n",
       "        vertical-align: middle;\n",
       "    }\n",
       "\n",
       "    .dataframe tbody tr th {\n",
       "        vertical-align: top;\n",
       "    }\n",
       "\n",
       "    .dataframe thead th {\n",
       "        text-align: right;\n",
       "    }\n",
       "</style>\n",
       "<table border=\"1\" class=\"dataframe\">\n",
       "  <thead>\n",
       "    <tr style=\"text-align: right;\">\n",
       "      <th></th>\n",
       "      <th>height</th>\n",
       "    </tr>\n",
       "  </thead>\n",
       "  <tbody>\n",
       "    <tr>\n",
       "      <th>0</th>\n",
       "      <td>162.975279</td>\n",
       "    </tr>\n",
       "    <tr>\n",
       "      <th>1</th>\n",
       "      <td>170.597492</td>\n",
       "    </tr>\n",
       "    <tr>\n",
       "      <th>2</th>\n",
       "      <td>167.287414</td>\n",
       "    </tr>\n",
       "    <tr>\n",
       "      <th>3</th>\n",
       "      <td>170.448974</td>\n",
       "    </tr>\n",
       "    <tr>\n",
       "      <th>4</th>\n",
       "      <td>172.318689</td>\n",
       "    </tr>\n",
       "    <tr>\n",
       "      <th>...</th>\n",
       "      <td>...</td>\n",
       "    </tr>\n",
       "    <tr>\n",
       "      <th>9995</th>\n",
       "      <td>181.921406</td>\n",
       "    </tr>\n",
       "    <tr>\n",
       "      <th>9996</th>\n",
       "      <td>173.560580</td>\n",
       "    </tr>\n",
       "    <tr>\n",
       "      <th>9997</th>\n",
       "      <td>171.622013</td>\n",
       "    </tr>\n",
       "    <tr>\n",
       "      <th>9998</th>\n",
       "      <td>168.414076</td>\n",
       "    </tr>\n",
       "    <tr>\n",
       "      <th>9999</th>\n",
       "      <td>176.670686</td>\n",
       "    </tr>\n",
       "  </tbody>\n",
       "</table>\n",
       "<p>10000 rows × 1 columns</p>\n",
       "</div>"
      ],
      "text/plain": [
       "          height\n",
       "0     162.975279\n",
       "1     170.597492\n",
       "2     167.287414\n",
       "3     170.448974\n",
       "4     172.318689\n",
       "...          ...\n",
       "9995  181.921406\n",
       "9996  173.560580\n",
       "9997  171.622013\n",
       "9998  168.414076\n",
       "9999  176.670686\n",
       "\n",
       "[10000 rows x 1 columns]"
      ]
     },
     "execution_count": 64,
     "metadata": {},
     "output_type": "execute_result"
    }
   ],
   "source": [
    "N = 10000\n",
    "normal_sample = np.random.normal(172.7,6.22,N)\n",
    "normal_sample = pd.DataFrame({\"height\":normal_sample})\n",
    "normal_sample"
   ]
  },
  {
   "cell_type": "code",
   "execution_count": 65,
   "id": "0948f9b9",
   "metadata": {},
   "outputs": [
    {
     "data": {
      "text/plain": [
       "height    1250\n",
       "dtype: int64"
      ]
     },
     "execution_count": 65,
     "metadata": {},
     "output_type": "execute_result"
    }
   ],
   "source": [
    "count_180 = normal_sample[normal_sample.height >= 180].count()\n",
    "count_180"
   ]
  },
  {
   "cell_type": "code",
   "execution_count": 66,
   "id": "2dcc0396",
   "metadata": {},
   "outputs": [
    {
     "data": {
      "text/plain": [
       "height    0.125\n",
       "dtype: float64"
      ]
     },
     "execution_count": 66,
     "metadata": {},
     "output_type": "execute_result"
    }
   ],
   "source": [
    "count_180 / N"
   ]
  },
  {
   "cell_type": "markdown",
   "id": "c2144b43",
   "metadata": {},
   "source": [
    "## 정규분포의 누적분포함수 이용"
   ]
  },
  {
   "cell_type": "code",
   "execution_count": 70,
   "id": "c7c2f7be",
   "metadata": {},
   "outputs": [
    {
     "data": {
      "text/plain": [
       "0.12027094038001529"
      ]
     },
     "execution_count": 70,
     "metadata": {},
     "output_type": "execute_result"
    }
   ],
   "source": [
    "mean = 172.7\n",
    "std = 6.22\n",
    "normal_dist = stats.norm(mean,std)\n",
    "1 - normal_dist.cdf(180)"
   ]
  }
 ],
 "metadata": {
  "kernelspec": {
   "display_name": "Python 3 (ipykernel)",
   "language": "python",
   "name": "python3"
  },
  "language_info": {
   "codemirror_mode": {
    "name": "ipython",
    "version": 3
   },
   "file_extension": ".py",
   "mimetype": "text/x-python",
   "name": "python",
   "nbconvert_exporter": "python",
   "pygments_lexer": "ipython3",
   "version": "3.9.13"
  },
  "toc": {
   "base_numbering": 1,
   "nav_menu": {},
   "number_sections": true,
   "sideBar": true,
   "skip_h1_title": false,
   "title_cell": "Table of Contents",
   "title_sidebar": "Contents",
   "toc_cell": false,
   "toc_position": {},
   "toc_section_display": true,
   "toc_window_display": false
  }
 },
 "nbformat": 4,
 "nbformat_minor": 5
}
