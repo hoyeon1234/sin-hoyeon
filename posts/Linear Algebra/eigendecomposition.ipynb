{
 "cells": [
  {
   "cell_type": "raw",
   "metadata": {},
   "source": [
    "---\n",
    "author: 신호연\n",
    "date: 2023-01-31\n",
    "title: \"Eigendecomposition & Property\"\n",
    "categories: [Linear Algebra]\n",
    "format: \n",
    "  html:\n",
    "    code-fold: true\n",
    "---\n",
    "유투브 - 혁펜하임님의 선형대수학강의를 정리하기 위해 작성한 글입니다.<br>"
   ]
  },
  {
   "attachments": {},
   "cell_type": "markdown",
   "metadata": {},
   "source": [
    "# <span style = \"color:black\"> **eigendecomposition**"
   ]
  },
  {
   "attachments": {},
   "cell_type": "markdown",
   "metadata": {},
   "source": [
    "행렬 $A \\in \\mathbb{R}^{2 \\times 2}$의 eigen value는 $2$개 eigen vector도 $2$개라 하자. 즉 다음과 같다"
   ]
  },
  {
   "attachments": {},
   "cell_type": "markdown",
   "metadata": {},
   "source": [
    "\\begin{aligned}\n",
    "&Av_1 = \\lambda_1v_1 \\\\\n",
    "&Av_2 = \\lambda_2v_2 \\\\\n",
    "\\end{aligned}"
   ]
  },
  {
   "attachments": {},
   "cell_type": "markdown",
   "metadata": {},
   "source": [
    "::: {.callout-note}\n",
    "이때 $A\\in \\mathbb{R}^{2\\times 2}$인 정사각행렬이다. 지금부터 전개할 **고윳값분해는 정사각행렬의 행 또는 열의 길이가 고윳값 또는 고유벡터의 길이와 같을때 가능하다.**(다를때는 또다른 방법(특잇값분해)가 있다.)\n",
    ":::"
   ]
  },
  {
   "attachments": {},
   "cell_type": "markdown",
   "metadata": {},
   "source": [
    "여기서 다음과 같은 등식을 생각해볼 수 있다."
   ]
  },
  {
   "attachments": {},
   "cell_type": "markdown",
   "metadata": {},
   "source": [
    "\\begin{aligned}\n",
    "A\\begin{bmatrix}v_1\\,v_2\\end{bmatrix} = \\begin{bmatrix}Av_1\\,Av_2\\end{bmatrix} = \\begin{bmatrix}\\lambda_1v_1\\,\\lambda_2v_2\\end{bmatrix} = \\begin{bmatrix}v_1\\,v_2\\end{bmatrix}\\begin{bmatrix}\\lambda_1 & 0 \\\\ 0 & \\lambda_2\\end{bmatrix}\n",
    "\\end{aligned}"
   ]
  },
  {
   "attachments": {},
   "cell_type": "markdown",
   "metadata": {},
   "source": [
    "$V = \\begin{bmatrix}v_1\\,v_2\\end{bmatrix},\\Lambda = \\begin{bmatrix}\\lambda_1 & 0 \\\\  0& \\lambda_2\\end{bmatrix}$라 하면 다음과 같이 정리할 수 있다."
   ]
  },
  {
   "attachments": {},
   "cell_type": "markdown",
   "metadata": {},
   "source": [
    "\\begin{aligned}\n",
    "&AV = V\\Lambda \\\\\n",
    "&\\Longleftrightarrow A = V\\Lambda V^{-1}\n",
    "\\end{aligned}"
   ]
  },
  {
   "attachments": {},
   "cell_type": "markdown",
   "metadata": {},
   "source": [
    "이때 A를 decomposition했다고 하며 이렇게 decompose하는 것을 eigendecomposition이라고 한다. "
   ]
  },
  {
   "attachments": {},
   "cell_type": "markdown",
   "metadata": {},
   "source": [
    "# <span style = \"color:black\"> **diagonalizable**"
   ]
  },
  {
   "attachments": {},
   "cell_type": "markdown",
   "metadata": {},
   "source": [
    "윗 식을 다음과 같이 적을 수도 있다."
   ]
  },
  {
   "attachments": {},
   "cell_type": "markdown",
   "metadata": {},
   "source": [
    "\\begin{aligned}\n",
    "&AV = V\\Lambda \\\\\n",
    "&\\Longleftrightarrow A = V\\Lambda V^{-1}\\\\\n",
    "&\\Longleftrightarrow V^{-1}A V = \\Lambda\n",
    "\\end{aligned}"
   ]
  },
  {
   "attachments": {},
   "cell_type": "markdown",
   "metadata": {},
   "source": [
    "이때 $A$는 diagonalizable(대각화 가능하다)이라고 한다.<br> "
   ]
  },
  {
   "attachments": {},
   "cell_type": "markdown",
   "metadata": {},
   "source": [
    "# <span style = \"color:black\"> **대각화 관련 동치명제 정리**"
   ]
  },
  {
   "attachments": {},
   "cell_type": "markdown",
   "metadata": {},
   "source": [
    "$A \\in \\mathbb{R}^{n \\times n}$이라 했을때 다음의 명제는 동치이다."
   ]
  },
  {
   "attachments": {},
   "cell_type": "markdown",
   "metadata": {},
   "source": [
    "\\begin{aligned}\n",
    "&A\\text{가 diagonalizable하다.} \\\\\n",
    "&\\longleftrightarrow A \\text{가 eigendecomposition이 가능하다.}\\\\\n",
    "&\\longleftrightarrow A \\text{의 independent한 eigenvector가 n개 존재한다.}\n",
    "\\end{aligned}"
   ]
  },
  {
   "attachments": {},
   "cell_type": "markdown",
   "metadata": {},
   "source": [
    "# <span style = \"color:black\"> **좋은 점**"
   ]
  },
  {
   "attachments": {},
   "cell_type": "markdown",
   "metadata": {},
   "source": [
    "### 행렬의 거듭제곱을 간단히 구한다."
   ]
  },
  {
   "attachments": {},
   "cell_type": "markdown",
   "metadata": {},
   "source": [
    "\\begin{aligned}\n",
    "A^k =  V\\Lambda V^{-1}V\\Lambda V^{-1}V\\Lambda V^{-1} \\dots V\\Lambda V^{-1} = V\\Lambda^kV^{-1}\n",
    "\\end{aligned}"
   ]
  },
  {
   "attachments": {},
   "cell_type": "markdown",
   "metadata": {},
   "source": [
    "### inverse matrix의 계산이 간단해진다."
   ]
  },
  {
   "attachments": {},
   "cell_type": "markdown",
   "metadata": {},
   "source": [
    "$$A^{-1} = (V\\Lambda V^{-1})^{-1} = V\\Lambda ^{-1}V^{-1}$$"
   ]
  },
  {
   "attachments": {},
   "cell_type": "markdown",
   "metadata": {},
   "source": [
    "### eigenvector를 모두 곱하면 determinant이다."
   ]
  },
  {
   "attachments": {},
   "cell_type": "markdown",
   "metadata": {},
   "source": [
    "임의의 행렬에 대해서 $\\text{det}(A^{-1}) = \\frac{1}{\\text{det}(A)}$이다. 또한 대각행렬의 행렬식은 주대각선에 있는 원소를 모두 곱하는 것과 같다. 그러므로 다음과 같다."
   ]
  },
  {
   "attachments": {},
   "cell_type": "markdown",
   "metadata": {},
   "source": [
    "\\begin{aligned}\n",
    "&\\text{det}(A) = \\text{det}(V\\Lambda V^{-1}) = \\text{det}(V)\\text{det}(\\Lambda)\\text{det}(V^{-1}) = \\text{det}(\\Lambda) = \\prod_{i=1}^n\\lambda_i \\\\\n",
    "&\\text{where, } \\Lambda = \\text{diag}(\\lambda_1,\\lambda_2,\\dots,\\lambda_n)\n",
    "\\end{aligned}\n"
   ]
  },
  {
   "attachments": {},
   "cell_type": "markdown",
   "metadata": {},
   "source": [
    "### eigenvector를 모두 더하면 trace이다."
   ]
  },
  {
   "attachments": {},
   "cell_type": "markdown",
   "metadata": {},
   "source": [
    "$$\\text{tr}(A) = \\text{tr}(V\\Lambda V^{-1}) = \\text{tr}(V^{-1}V\\Lambda) = \\text{tr}(\\Lambda) = \\sum_{i=1}^n\\lambda_i$$"
   ]
  },
  {
   "attachments": {},
   "cell_type": "markdown",
   "metadata": {},
   "source": [
    "$\\lambda = 0 $인 eigenvalue가 하나 이상 존재하는가?"
   ]
  },
  {
   "attachments": {},
   "cell_type": "markdown",
   "metadata": {},
   "source": [
    "\\begin{aligned}\n",
    "&\\text{행렬 A가 rank - defficient}이다. \\\\\n",
    "&\\Longleftrightarrow \\text{det}(A) = 0 \\\\\n",
    "&\\Longleftrightarrow  \\prod_{i=1}^n\\lambda_i = 0 \\\\\n",
    "&\\Longleftrightarrow \\text{0인 eigen value가 하나 이상 존재한다.}\n",
    "\\end{aligned}"
   ]
  },
  {
   "attachments": {},
   "cell_type": "markdown",
   "metadata": {},
   "source": [
    "# <span style = \"color:black\"> **알아둬야 할 것들**"
   ]
  },
  {
   "attachments": {},
   "cell_type": "markdown",
   "metadata": {},
   "source": [
    "### $A^T$의 eigen value와 $A$의 eigen value는 같다."
   ]
  },
  {
   "attachments": {},
   "cell_type": "markdown",
   "metadata": {},
   "source": [
    "**(characteristic equation이 같음을 보인다.)**\n",
    "\\begin{aligned}\n",
    "\\text{det}(A-\\lambda I) &= \\text{det}((A-\\lambda I)^T)\\quad(\\text{ by} |A| = |A^T|)\\\\\n",
    "&= \\text{det}(A^T - \\lambda I)\n",
    "\\end{aligned}"
   ]
  },
  {
   "attachments": {},
   "cell_type": "markdown",
   "metadata": {},
   "source": [
    "### $A$가 $A^{-1} = A^T$인 orthonomal matrix라면 $\\lambda = 1 \\text{ or } \\lambda = -1$"
   ]
  },
  {
   "attachments": {},
   "cell_type": "markdown",
   "metadata": {},
   "source": [
    "\\begin{aligned}\n",
    "&Qv = \\lambda v \\\\\n",
    "&\\longleftrightarrow (Qv)^TQv = v^TQ^TQv = v^Tv = |v|_2^2 = \\lambda^2|v|_2^2\\\\\n",
    "&\\longleftrightarrow \\lambda = 1 \\text{ or } \\lambda = -1\n",
    "\n",
    "\\end{aligned}"
   ]
  },
  {
   "attachments": {},
   "cell_type": "markdown",
   "metadata": {},
   "source": [
    "### 대칭행렬이 positive definite $\\leftrightarrow \\forall i,\\lambda_i > 0$ (단,$A=A^T$인 symmetric matrix,$\\lambda_i$는 행렬A의 모든 고윳값)"
   ]
  },
  {
   "attachments": {},
   "cell_type": "markdown",
   "metadata": {},
   "source": [
    "#### 증명1: 대칭행렬이 positive definite $\\rightarrow \\forall i,\\lambda_i > 0$"
   ]
  },
  {
   "attachments": {},
   "cell_type": "markdown",
   "metadata": {},
   "source": [
    "- 먼저 대칭행렬은 랭크1 매트릭스의 합임을 보인다."
   ]
  },
  {
   "attachments": {},
   "cell_type": "markdown",
   "metadata": {},
   "source": [
    "\\begin{aligned}\n",
    "A &= V\\Lambda V^T\n",
    "=\n",
    "\\begin{bmatrix}v_1 & v_2 & \\dots &  v_n\\end{bmatrix}\n",
    "\\begin{bmatrix}\n",
    "\\lambda_1 & 0 &\\dots & 0 \\\\ \n",
    "0 & \\lambda_2 &\\dots &0 \\\\\n",
    "\\vdots & \\vdots & \\ddots & \\vdots \\\\\n",
    "0 & 0& \\dots & \\lambda_n\n",
    "\\end{bmatrix}\n",
    "\\begin{bmatrix}\n",
    "v_1^T \\\\ v_2^T \\\\ \\vdots \\\\ v_n^T\n",
    "\\end{bmatrix}\n",
    "\\\\\n",
    "&=\n",
    "\\begin{bmatrix}\n",
    "\\lambda_1v_1 & \\lambda_2v_2 & \\dots & \\lambda_nv_n\n",
    "\\end{bmatrix}\n",
    "\\begin{bmatrix}\n",
    "v_1^T \\\\ v_2^T \\\\ \\vdots \\\\ v_n^T\n",
    "\\end{bmatrix} \\\\\n",
    "&=\\sum_{i=1}^{n}\\lambda_iv_iv_i^T\n",
    "\\end{aligned}"
   ]
  },
  {
   "attachments": {},
   "cell_type": "markdown",
   "metadata": {},
   "source": [
    "- 대칭행렬$A$가 양의 정부호일 경우 ${\\bf{x}}^TA{\\bf{x}} >0$ 이므로 $x$를 행렬A의 임의의 고유벡터인 $v_j$로 놓아도 성립해야한다. 즉 다음과 같다."
   ]
  },
  {
   "attachments": {},
   "cell_type": "markdown",
   "metadata": {},
   "source": [
    "\\begin{aligned}\n",
    "&\\forall j\\in(1,\\dots,n),\\,v_j^TAv_j >0 \\\\\n",
    "&\\longleftrightarrow\\forall j\\in(1,\\dots,n),\\,v_j^T(\\sum_{i=1}^n\\lambda_iv_iv_i^T)v_j >0\n",
    "\\end{aligned}"
   ]
  },
  {
   "attachments": {},
   "cell_type": "markdown",
   "metadata": {},
   "source": [
    "- 그런데 대칭행렬의 경우 고유벡터는 직교(orthogonal)한다. 즉 다음과 같이 정리된다."
   ]
  },
  {
   "attachments": {},
   "cell_type": "markdown",
   "metadata": {},
   "source": [
    "\\begin{aligned}\n",
    "&\\forall j\\in(1,\\dots,n),\\,v_j^T(\\sum_{i=1}^n\\lambda_iv_iv_i^T)v_j >0\\\\\n",
    "&\\longleftrightarrow\\forall j\\in(1,\\dots,n),\\, v_j^T(\\lambda_1v_1 + \\lambda_2v_2 + \\dots + \\lambda_jv_j + \\dots \\lambda_nv_n)v_j >0\\\\\n",
    "&\\longleftrightarrow\\forall j\\in(1,\\dots,n),\\,\\lambda_jv_j^Tv_j = \\lambda_j|v_j|_2^2>0\\\\\n",
    "&\\longleftrightarrow\\forall j\\in(1,\\dots,n),\\,\\lambda_j>0\n",
    "\\end{aligned}"
   ]
  },
  {
   "attachments": {},
   "cell_type": "markdown",
   "metadata": {},
   "source": [
    "- 벡터의 norm은 항상0보다 부등호가 성립하기 위해 모든 고윳값이 0보다 커야함을 알 수 있다."
   ]
  },
  {
   "attachments": {},
   "cell_type": "markdown",
   "metadata": {},
   "source": [
    "#### 증명2: $\\forall i,\\lambda_i > 0 \\rightarrow$ 대칭행렬이 positive definite  "
   ]
  },
  {
   "cell_type": "raw",
   "metadata": {},
   "source": []
  },
  {
   "cell_type": "raw",
   "metadata": {},
   "source": []
  }
 ],
 "metadata": {
  "kernelspec": {
   "display_name": "base",
   "language": "python",
   "name": "python3"
  },
  "language_info": {
   "codemirror_mode": {
    "name": "ipython",
    "version": 3
   },
   "file_extension": ".py",
   "mimetype": "text/x-python",
   "name": "python",
   "nbconvert_exporter": "python",
   "pygments_lexer": "ipython3",
   "version": "3.9.13"
  },
  "orig_nbformat": 4,
  "vscode": {
   "interpreter": {
    "hash": "0478b8cb1c47bafb71305148a49d30528a4d9c22ca2de336c01aa5a8230a459a"
   }
  }
 },
 "nbformat": 4,
 "nbformat_minor": 2
}
