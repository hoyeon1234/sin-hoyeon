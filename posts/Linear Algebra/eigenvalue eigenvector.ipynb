{
 "cells": [
  {
   "cell_type": "raw",
   "metadata": {},
   "source": [
    "---\n",
    "title: \"eigen value & eigen vector\"\n",
    "format: html\n",
    "---"
   ]
  },
  {
   "attachments": {},
   "cell_type": "markdown",
   "metadata": {},
   "source": [
    "# <span style = \"color : black\">**사전지식 : 행렬은 선형변환이다**"
   ]
  },
  {
   "attachments": {},
   "cell_type": "markdown",
   "metadata": {},
   "source": [
    "함수는 어떤 입력을 주면 출력을 내뱉는다."
   ]
  },
  {
   "attachments": {},
   "cell_type": "markdown",
   "metadata": {},
   "source": [
    "함수그림"
   ]
  },
  {
   "attachments": {},
   "cell_type": "markdown",
   "metadata": {},
   "source": [
    "행렬도 마찬가지로 함수이다. 벡터와 행렬의곱 $Av$는 함수$A$에 벡터$v$를 통과시켜 나온 출력이다."
   ]
  },
  {
   "attachments": {},
   "cell_type": "markdown",
   "metadata": {},
   "source": [
    "행렬그림"
   ]
  },
  {
   "attachments": {},
   "cell_type": "markdown",
   "metadata": {},
   "source": [
    "행렬은 함수중에서도 선형변환(linear transformation,linear mapping)이다. 왜냐하면 선형변환의 두 가지 조건을 만족하기 때문이다. 선형변환의 두 조건을 만족하기 때문이다. 선형변환의 두 조건은 다음과 같다."
   ]
  },
  {
   "attachments": {},
   "cell_type": "markdown",
   "metadata": {},
   "source": [
    "\\begin{aligned}\n",
    "&T(u+v) = T(u) + T(v)\\\\\n",
    "&T(av) = aT(v)\n",
    "\\end{aligned}\n"
   ]
  },
  {
   "attachments": {},
   "cell_type": "markdown",
   "metadata": {},
   "source": [
    "임의의 행렬 $A$와 벡터$u,v$에 대해서 생각해보자. 위의 식을 행렬버전으로 적어보자"
   ]
  },
  {
   "attachments": {},
   "cell_type": "markdown",
   "metadata": {},
   "source": [
    "\\begin{aligned}\n",
    "&A(u + v) = Au + Av \\\\\n",
    "&A(ku) = aAu\n",
    "\\end{aligned}"
   ]
  },
  {
   "attachments": {},
   "cell_type": "markdown",
   "metadata": {},
   "source": [
    "# <span style = \"color : black\">**Definition**"
   ]
  },
  {
   "attachments": {},
   "cell_type": "markdown",
   "metadata": {},
   "source": [
    "\\begin{aligned}\n",
    "&Av = \\lambda v(v \\not = {\\bf{0}}) \\\\\n",
    "&\\text{where, }A \\in \\mathbb{R}^{m \\times m},v \\in \\mathbb{R}^{m \\times 1}\n",
    "\\end{aligned}"
   ]
  },
  {
   "attachments": {},
   "cell_type": "markdown",
   "metadata": {},
   "source": [
    "위와 같은 방정식에서 $\\lambda$를 행렬A의  eigen value , $v$를 이에 대응하는 eigen vector라고 한다."
   ]
  },
  {
   "cell_type": "markdown",
   "metadata": {},
   "source": []
  },
  {
   "attachments": {},
   "cell_type": "markdown",
   "metadata": {},
   "source": [
    "# **예시**"
   ]
  },
  {
   "cell_type": "markdown",
   "metadata": {},
   "source": []
  },
  {
   "attachments": {},
   "cell_type": "markdown",
   "metadata": {},
   "source": [
    "위의 그림에서 왼쪽과 같은 선형변환을 생각해보자. 보라색벡터$[-1,1]^T$,초록색벡터$[1,1]^T$의 경우 $Av = \\lambda v$를 만족하는 eigen vector 이며 대응하는 eigen value는 각각 3,1임을 알 수 있다. 또한 오른쪽그림으로부터 선형변환 $A$의 eigen vector인 보라색벡터와 초록색벡터는 함수$A$를 통과했을 때, eigen value만큼 각각 3,1만큼 **길이가 늘어나며 방향이 바뀌지 않고 단순히 스칼라배**가 되는 것을 알 수 있다."
   ]
  },
  {
   "attachments": {},
   "cell_type": "markdown",
   "metadata": {},
   "source": [
    "위에서는 초록색 보라색만 찾았지만 사실 선형변환$A$의 **eigen vector는 무한히 많다.**  또다른 어떤 선형변환의 경우에는 **아예 존재하지 않는 경우**도 있다."
   ]
  },
  {
   "cell_type": "markdown",
   "metadata": {},
   "source": []
  },
  {
   "attachments": {},
   "cell_type": "markdown",
   "metadata": {},
   "source": [
    "# **선형변환 관점에서 invertible**"
   ]
  },
  {
   "cell_type": "markdown",
   "metadata": {},
   "source": []
  }
 ],
 "metadata": {
  "kernelspec": {
   "display_name": "base",
   "language": "python",
   "name": "python3"
  },
  "language_info": {
   "codemirror_mode": {
    "name": "ipython",
    "version": 3
   },
   "file_extension": ".py",
   "mimetype": "text/x-python",
   "name": "python",
   "nbconvert_exporter": "python",
   "pygments_lexer": "ipython3",
   "version": "3.9.13 (main, Aug 25 2022, 23:51:50) [MSC v.1916 64 bit (AMD64)]"
  },
  "orig_nbformat": 4,
  "vscode": {
   "interpreter": {
    "hash": "0478b8cb1c47bafb71305148a49d30528a4d9c22ca2de336c01aa5a8230a459a"
   }
  }
 },
 "nbformat": 4,
 "nbformat_minor": 2
}
