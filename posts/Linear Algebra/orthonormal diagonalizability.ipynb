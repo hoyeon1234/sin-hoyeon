{
 "cells": [
  {
   "cell_type": "raw",
   "metadata": {},
   "source": [
    "---\n",
    "author: 신호연\n",
    "date: 2022-02-09\n",
    "title: \"Diagonalization of symmetric matrix(정리중)\"\n",
    "format: html\n",
    "categories: [Linear Algebra]\n",
    "---\n",
    "수튜브님의 직교대각화가능(orthogonal diagonalizability)을 보고 정리한 내용입니다."
   ]
  },
  {
   "attachments": {},
   "cell_type": "markdown",
   "metadata": {},
   "source": [
    "# <span style = \"color : black\"> **orthogonally similar**"
   ]
  },
  {
   "attachments": {},
   "cell_type": "markdown",
   "metadata": {},
   "source": [
    "다음과 같은 식을 만족하면 C는 A와 orthogonally similar(직교닮음)이다."
   ]
  },
  {
   "attachments": {},
   "cell_type": "markdown",
   "metadata": {},
   "source": [
    "\\begin{aligned}\n",
    "&C = P^{-1}AP \\\\\n",
    "&\\text{where } P^{-1} = P^T\n",
    "\\end{aligned}"
   ]
  },
  {
   "attachments": {},
   "cell_type": "markdown",
   "metadata": {},
   "source": [
    "여기서 $P^{-1} = P^T$는 orthonomal matrix의 정의이다."
   ]
  },
  {
   "attachments": {},
   "cell_type": "markdown",
   "metadata": {},
   "source": [
    "윗 식에 의해서 A도 C와 orthogonally similar이다."
   ]
  },
  {
   "attachments": {},
   "cell_type": "markdown",
   "metadata": {},
   "source": [
    "\\begin{aligned}\n",
    "&A = PCP^{-1} \\\\\n",
    "&\\text{where } P^{-1} = P^T\n",
    "\\end{aligned}"
   ]
  },
  {
   "attachments": {},
   "cell_type": "markdown",
   "metadata": {},
   "source": [
    "정리하자면 C가 A와 직교닮음이라면 A도 C와 직교닮음이므로 서로 직교닮음이라는 것을 알 수 있다."
   ]
  },
  {
   "attachments": {},
   "cell_type": "markdown",
   "metadata": {},
   "source": [
    "# <span style = \"color : black\"> **orthogonally diagonalize**"
   ]
  },
  {
   "attachments": {},
   "cell_type": "markdown",
   "metadata": {},
   "source": [
    "임의의 정사각행렬 $A,D$에 대해서 다음이 만족한다고 해보자."
   ]
  },
  {
   "attachments": {},
   "cell_type": "markdown",
   "metadata": {},
   "source": [
    "\\begin{aligned}\n",
    "&\n",
    "\\begin{aligned}\n",
    "D &= P^{-1}AP \\\\\n",
    "&= P^TAP \\\\\n",
    "\\end{aligned}\n",
    "\\\\\n",
    "&\\text{where } D = diag(d_1,d_2,\\dots,d_n) , P^{-1} = P^T\n",
    "\\end{aligned}"
   ]
  },
  {
   "attachments": {},
   "cell_type": "markdown",
   "metadata": {},
   "source": [
    "이와 같이 $A$와 직교닮음인 대각행렬 $D$가 존재할때 행렬$A$가 직교대각화 되었다 라고 한다."
   ]
  },
  {
   "attachments": {},
   "cell_type": "markdown",
   "metadata": {},
   "source": [
    "# <span style = \"color : black\"> **orthogonally diagonalizable**"
   ]
  },
  {
   "attachments": {},
   "cell_type": "markdown",
   "metadata": {},
   "source": [
    "임의의 정사각행렬 $A$에 대해서 $P^{-1}AP$가 대각행렬D가 되게하는 가역행렬이자 orthornomal matrix인 $P$가 존재한다면 행렬$A$는 \"orthogonally diagonalizable\"하다고 한다."
   ]
  },
  {
   "attachments": {},
   "cell_type": "markdown",
   "metadata": {},
   "source": [
    "# <span style = \"color : black\"> **정리1 : orthogonally diagonalizable** $\\rightarrow A = A^T$"
   ]
  },
  {
   "attachments": {},
   "cell_type": "markdown",
   "metadata": {},
   "source": [
    "행렬$A$가 orthogonally diagonalizable하다고 하자. 즉 $D = P^TAP$를 만족하는 직교행렬 $P$가 존재한다. 이때 $A^T$를 전개하면 다음과 같다."
   ]
  },
  {
   "attachments": {},
   "cell_type": "markdown",
   "metadata": {},
   "source": [
    "\\begin{aligned}\n",
    "&A = PDP^{-1} = PDP^T\\\\\n",
    "&A^T = (PDP^T)^T = PD^TP^T = PDP^T = A\n",
    "\\end{aligned}"
   ]
  },
  {
   "attachments": {},
   "cell_type": "markdown",
   "metadata": {},
   "source": [
    "# <span style = \"color : black\"> **정리2 : $A = A^T \\rightarrow $ orthogonally diagonalizable** "
   ]
  },
  {
   "attachments": {},
   "cell_type": "markdown",
   "metadata": {},
   "source": [
    "귀납법으로 증명한다.즉 아래의 두 가지가 증명 가능함을 보인다."
   ]
  },
  {
   "attachments": {},
   "cell_type": "markdown",
   "metadata": {},
   "source": [
    "- $A \\in \\mathbb{R}^{1 \\times 1}$ 일때 직교대각화가 가능하다.\n",
    "- $A \\in \\mathbb{R}^{(n-1)\\times (n-1)}$때 직교대각화가 가능하다고 가정하고 $A \\in \\mathbb{R}^{n \\times n}$때 직교대각화가 가능함을 보인다."
   ]
  },
  {
   "attachments": {},
   "cell_type": "markdown",
   "metadata": {},
   "source": [
    "먼저 $A \\in \\mathbb{R}^{1 \\times 1}$ 일때 직교대각화가 가능함을 보인다. 먼저 $A$와 $P$행렬을 잡는다."
   ]
  },
  {
   "attachments": {},
   "cell_type": "markdown",
   "metadata": {},
   "source": [
    "\\begin{aligned}\n",
    "&A = \\begin{bmatrix}a\\end{bmatrix}\n",
    "\\in \\mathbb{R}^{1 \\times 1} \\\\\n",
    "&P = \\begin{bmatrix}1\\end{bmatrix}\n",
    "\\in \\mathbb{R}^{1 \\times 1}\n",
    "\\end{aligned}\n"
   ]
  },
  {
   "attachments": {},
   "cell_type": "markdown",
   "metadata": {},
   "source": [
    "여기서 $A=A^T$인 대칭행렬이며 $P$의 경우 $P^{-1} = P^T$가 성립하는 orthonomal matrix이다."
   ]
  },
  {
   "attachments": {},
   "cell_type": "markdown",
   "metadata": {},
   "source": [
    "\\begin{aligned}\n",
    "D = P^{-1}AP = \\begin{bmatrix}a\\end{bmatrix}\n",
    "\\end{aligned}"
   ]
  },
  {
   "attachments": {},
   "cell_type": "markdown",
   "metadata": {},
   "source": [
    "D는 대각행렬이다. 따라서 $D = P-1AP$를 만족하는 가역행렬이자 직교행렬인$P$와 대각행렬$D$가 존재하므로 행렬$A \\in \\mathbb{R}^{1 \\times 1}$는 orthogonally diagonalizable하다."
   ]
  },
  {
   "attachments": {},
   "cell_type": "markdown",
   "metadata": {},
   "source": [
    "생략 ....."
   ]
  },
  {
   "cell_type": "markdown",
   "metadata": {},
   "source": []
  },
  {
   "attachments": {},
   "cell_type": "markdown",
   "metadata": {},
   "source": [
    "# <span style = \"color : black\"> **최종정리 : $A = A^T \\leftrightarrow $ orthogonally diagonalizable** "
   ]
  },
  {
   "attachments": {},
   "cell_type": "markdown",
   "metadata": {},
   "source": [
    "\"임의의 행렬$A$가 **orthogonally diagonalizable**하다\"는 \"$A = A^T$이다.\"와 동치이다."
   ]
  },
  {
   "attachments": {},
   "cell_type": "markdown",
   "metadata": {},
   "source": [
    "# <span style = \"color : black\"> **참고자료** "
   ]
  },
  {
   "attachments": {},
   "cell_type": "markdown",
   "metadata": {},
   "source": [
    "[수튜브](https://www.youtube.com/watch?v=_nmuOZujc-E&ab_channel=%EC%88%98%ED%95%99%EC%B1%84%EB%84%90%EC%91%A4%ED%8A%9C%EB%B8%8C)"
   ]
  },
  {
   "cell_type": "markdown",
   "metadata": {},
   "source": []
  }
 ],
 "metadata": {
  "kernelspec": {
   "display_name": "base",
   "language": "python",
   "name": "python3"
  },
  "language_info": {
   "codemirror_mode": {
    "name": "ipython",
    "version": 3
   },
   "file_extension": ".py",
   "mimetype": "text/x-python",
   "name": "python",
   "nbconvert_exporter": "python",
   "pygments_lexer": "ipython3",
   "version": "3.9.13"
  },
  "orig_nbformat": 4,
  "vscode": {
   "interpreter": {
    "hash": "0478b8cb1c47bafb71305148a49d30528a4d9c22ca2de336c01aa5a8230a459a"
   }
  }
 },
 "nbformat": 4,
 "nbformat_minor": 2
}
