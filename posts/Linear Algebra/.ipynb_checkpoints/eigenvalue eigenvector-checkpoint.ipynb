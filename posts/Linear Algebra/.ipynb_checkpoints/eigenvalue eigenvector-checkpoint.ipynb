{
 "cells": [
  {
   "cell_type": "raw",
   "metadata": {},
   "source": [
    "---\n",
    "author: 신호연\n",
    "date: 2023-01-31\n",
    "title: \"[Linear Algebra] eigenvalue & eigenvector\"\n",
    "format: html\n",
    "categories: [Linear Algebra]\n",
    "---\n",
    "유튜브 - 혁펜하임님의 선형대수학 강의 정리용 입니다."
   ]
  },
  {
   "cell_type": "markdown",
   "metadata": {},
   "source": [
    "# <span style = \"color : black\">**사전지식 : 행렬은 선형변환이다**"
   ]
  },
  {
   "cell_type": "markdown",
   "metadata": {},
   "source": [
    "함수는 어떤 입력을 주면 출력을 내뱉는다."
   ]
  },
  {
   "cell_type": "markdown",
   "metadata": {},
   "source": [
    "함수그림"
   ]
  },
  {
   "cell_type": "markdown",
   "metadata": {},
   "source": [
    "행렬도 마찬가지로 함수이다. 벡터와 행렬의곱 $Av$는 함수$A$에 벡터$v$를 통과시켜 나온 출력이다."
   ]
  },
  {
   "cell_type": "markdown",
   "metadata": {},
   "source": [
    "행렬그림"
   ]
  },
  {
   "cell_type": "markdown",
   "metadata": {},
   "source": [
    "행렬은 함수중에서도 선형변환(linear transformation,linear mapping)이다. 왜냐하면 선형변환의 두 가지 조건을 만족하기 때문이다. 선형변환의 두 조건을 만족하기 때문이다. 선형변환의 두 조건은 다음과 같다."
   ]
  },
  {
   "cell_type": "markdown",
   "metadata": {},
   "source": [
    "\\begin{aligned}\n",
    "&T(u+v) = T(u) + T(v)\\\\\n",
    "&T(av) = aT(v)\n",
    "\\end{aligned}\n"
   ]
  },
  {
   "cell_type": "markdown",
   "metadata": {},
   "source": [
    "임의의 행렬 $A$와 벡터$u,v$에 대해서 생각해보자. 위의 식을 행렬버전으로 적어보자"
   ]
  },
  {
   "cell_type": "markdown",
   "metadata": {},
   "source": [
    "\\begin{aligned}\n",
    "&A(u + v) = Au + Av \\\\\n",
    "&A(ku) = aAu\n",
    "\\end{aligned}"
   ]
  },
  {
   "cell_type": "markdown",
   "metadata": {},
   "source": [
    "# <span style = \"color : black\">**Definition**"
   ]
  },
  {
   "cell_type": "markdown",
   "metadata": {},
   "source": [
    "\\begin{aligned}\n",
    "&Av = \\lambda v(v \\not = {\\bf{{\\bf{0}}}}) \\\\\n",
    "&\\text{where, }A \\in \\mathbb{R}^{m \\times m},v \\in \\mathbb{R}^{m \\times 1}\n",
    "\\end{aligned}"
   ]
  },
  {
   "cell_type": "markdown",
   "metadata": {},
   "source": [
    "위와 같은 방정식에서 $\\lambda$를 행렬A의  eigenvalue , $v$를 이에 대응하는 eigenvector라고 한다."
   ]
  },
  {
   "cell_type": "markdown",
   "metadata": {},
   "source": []
  },
  {
   "cell_type": "markdown",
   "metadata": {},
   "source": [
    "# **예시**"
   ]
  },
  {
   "cell_type": "markdown",
   "metadata": {},
   "source": []
  },
  {
   "cell_type": "markdown",
   "metadata": {},
   "source": [
    "위의 그림에서 왼쪽과 같은 선형변환을 생각해보자. 보라색벡터$[-1,1]^T$,초록색벡터$[1,1]^T$의 경우 $Av = \\lambda v$를 만족하는 eigenvector 이며 대응하는 eigenvalue는 각각 3,1임을 알 수 있다. 또한 오른쪽그림으로부터 선형변환 $A$의 eigenvector인 보라색벡터와 초록색벡터는 함수$A$를 통과했을 때, eigenvalue만큼 각각 3,1만큼 **길이가 늘어나며 방향이 바뀌지 않고 단순히 스칼라배**가 되는 것을 알 수 있다."
   ]
  },
  {
   "cell_type": "markdown",
   "metadata": {},
   "source": [
    "위에서는 초록색 보라색만 찾았지만 사실 선형변환$A$의 **eigenvector는 무한히 많다.**  또다른 어떤 선형변환의 경우에는 **아예 존재하지 않는 경우**도 있다."
   ]
  },
  {
   "cell_type": "markdown",
   "metadata": {},
   "source": []
  },
  {
   "cell_type": "markdown",
   "metadata": {},
   "source": [
    "# **선형변환 관점에서 invertible**"
   ]
  },
  {
   "cell_type": "markdown",
   "metadata": {},
   "source": [
    "선형변환(함수) 관점에서 invertible하다는 **서로다른 입력이 들어갔을때 서로다른 출력이 나온다**이다."
   ]
  },
  {
   "cell_type": "markdown",
   "metadata": {},
   "source": []
  },
  {
   "cell_type": "markdown",
   "metadata": {},
   "source": [
    "위의 그림에서 선형변환 $A$는 각각의 서로다른 입력에 대해서 서로다른 출력이 나오므로 invertible하다. 이는 자연스러운데 각각의 출력으로부터 입력에 하나씩 대응되는 역함수를 생각해볼 수 있기 때문이다."
   ]
  },
  {
   "cell_type": "markdown",
   "metadata": {},
   "source": []
  },
  {
   "cell_type": "markdown",
   "metadata": {},
   "source": [
    "위의 그림에서 선형변환 $A$는 각각의 서로다른 입력에 대하여 동일한 출력을 내뱉으므로 invertible하지 않다. 출력에서 입력으로 대응되는 값이 두개이므로 역함수가 될 수 없다."
   ]
  },
  {
   "cell_type": "markdown",
   "metadata": {},
   "source": []
  },
  {
   "cell_type": "markdown",
   "metadata": {},
   "source": [
    "# **eigenvector,eigenvalue 구하기**"
   ]
  },
  {
   "cell_type": "markdown",
   "metadata": {},
   "source": [
    "\\begin{align}\n",
    "&Av = \\lambda v(v \\not = {\\bf{{\\bf{0}}}}) \\\\\n",
    "&\\text{where, }A \\in \\mathbb{R}^{m \\times m},v \\in \\mathbb{R}^{m \\times 1}\n",
    "\\end{align}"
   ]
  },
  {
   "cell_type": "markdown",
   "metadata": {},
   "source": [
    "eigenvector,eigenvalue를 구하기 위한 조건을 끌어내기 위하여 식을 약간 바꾸면 다음과 같다."
   ]
  },
  {
   "cell_type": "markdown",
   "metadata": {},
   "source": [
    "\\begin{aligned}\n",
    "Av - \\lambda v = (A-\\lambda I)v = {\\bf{0}} \n",
    "\\end{aligned}"
   ]
  },
  {
   "cell_type": "markdown",
   "metadata": {},
   "source": [
    "$\\lambda$는 상수이므로 $v$로 묶기 위해서 $I$(항등행렬)를 곱해줬다. 또한 $\\lambda Iv = \\lambda v$이므로 등호는 여전히 성립한다.윗식에서  eigenvector인 $v$는 $v\\not = \\bf{{\\bf{0}}}$의 조건을 만족해야 한다. 만약 $\\text{det}(A-\\lambda I) \\not = {\\bf{0}}$이라면 $A-\\lambda I$의 역행렬이 존재하므로 $v = (A-\\lambda)I{\\bf{0}} = {\\bf{0}}$이 되어 조건을 만족하지 못하게 된다.따라서 $\\text{det}(A-\\lambda I) = {\\bf{0}}$이어야 한다. 또한 윗식에 의해서 $v$는 $(A-\\lambda I)$의 null space임을 알 수 있다. 즉 다음과 같다."
   ]
  },
  {
   "cell_type": "markdown",
   "metadata": {},
   "source": [
    "\\begin{aligned}\n",
    "&\\text{det}(A-\\lambda I ) \\not = 0 \\text{을 만족하는 } \\lambda\\text{는 eigen value} \\\\\n",
    "&v \\in N(A-\\lambda I) \\text{를 만족하는 }v\\text{는 eigen vector}\n",
    "\\end{aligned}"
   ]
  },
  {
   "cell_type": "markdown",
   "metadata": {},
   "source": [
    "그런데 $N(A-\\lambda I)$의 원소는 무수히 많으며 그 안에 있는 벡터들은 모두 **고유벡터가 맞지만** 그냥 null space의 기저만을 대표로 고유벡터로 삼는다."
   ]
  }
 ],
 "metadata": {
  "kernelspec": {
   "display_name": "Python 3 (ipykernel)",
   "language": "python",
   "name": "python3"
  },
  "language_info": {
   "codemirror_mode": {
    "name": "ipython",
    "version": 3
   },
   "file_extension": ".py",
   "mimetype": "text/x-python",
   "name": "python",
   "nbconvert_exporter": "python",
   "pygments_lexer": "ipython3",
   "version": "3.9.13"
  },
  "toc": {
   "base_numbering": 1,
   "nav_menu": {},
   "number_sections": true,
   "sideBar": true,
   "skip_h1_title": false,
   "title_cell": "Table of Contents",
   "title_sidebar": "Contents",
   "toc_cell": false,
   "toc_position": {},
   "toc_section_display": true,
   "toc_window_display": false
  },
  "vscode": {
   "interpreter": {
    "hash": "0478b8cb1c47bafb71305148a49d30528a4d9c22ca2de336c01aa5a8230a459a"
   }
  }
 },
 "nbformat": 4,
 "nbformat_minor": 2
}
