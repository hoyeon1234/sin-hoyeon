{
 "cells": [
  {
   "cell_type": "raw",
   "metadata": {},
   "source": [
    "---\n",
    "author: 신호연\n",
    "date: 2023-02-10\n",
    "title: \"Quadratic Form(작성중)\"\n",
    "format: html\n",
    "categories: [Linear Algebra]\n",
    "---\n",
    "[딥러닝공부방](https://deep-learning-study.tistory.com/458),[soohee410님의 블로그](https://soohee410.github.io/quadratic_form)을 읽고 정리한 내용입니다."
   ]
  },
  {
   "attachments": {},
   "cell_type": "markdown",
   "metadata": {},
   "source": [
    "# <span style = \"color : black\"> **Definition of Quadratic Form**"
   ]
  },
  {
   "attachments": {},
   "cell_type": "markdown",
   "metadata": {},
   "source": [
    "벡터${\\bf{x}}$의 이차형식(Quadratic form)은 다음과 같이 정의한다."
   ]
  },
  {
   "attachments": {},
   "cell_type": "markdown",
   "metadata": {},
   "source": [
    "\\begin{aligned}\n",
    "&Q({\\bf{x}}) = {\\bf{x}}^TA{\\bf{x}}\\\\\n",
    "&\\text{where }\n",
    "\\begin{aligned}\n",
    "&A = A^T \\in \\mathbb{R}^{n \\times n},x \\in \\mathbb{R}^{n \\times 1}\n",
    "\\end{aligned}\n",
    "\\end{aligned}"
   ]
  },
  {
   "attachments": {},
   "cell_type": "markdown",
   "metadata": {},
   "source": [
    "여기서 행렬$A$는 이차형식의 행렬(matrix of quadratic form)이라고 하며 $A=A^T$를 만족하는 대칭행렬이며 ${\\bf{x}}$는 벡터이다."
   ]
  },
  {
   "attachments": {},
   "cell_type": "markdown",
   "metadata": {},
   "source": [
    "# <span style = \"color : black\"> **Example**"
   ]
  },
  {
   "attachments": {},
   "cell_type": "markdown",
   "metadata": {},
   "source": [
    "${\\bf{x}} = [x_1,x_2]^T$ ,$A = \\begin{bmatrix}3 & -2 \\\\ -2 & 7\\end{bmatrix}$일때, quadratic form을 구해보자."
   ]
  },
  {
   "attachments": {},
   "cell_type": "markdown",
   "metadata": {},
   "source": [
    "\\begin{aligned}\n",
    "&Q({\\bf{x}}) = {\\bf{x}}^TA{\\bf{x}} = \n",
    "\\begin{bmatrix}\n",
    "x_1 & x_2\n",
    "\\end{bmatrix}\n",
    "\\begin{bmatrix}3 & -2 \\\\ -2 & 7\\end{bmatrix}\n",
    "\\begin{bmatrix}\n",
    "x_1 \\\\ x_2\n",
    "\\end{bmatrix}\n",
    "= \\begin{bmatrix}\n",
    "x_1 & x_2\n",
    "\\end{bmatrix}\n",
    "\\begin{bmatrix}\n",
    "3x_1-2x_2 \\\\ -2x_1 + 7x_2\n",
    "\\end{bmatrix}\n",
    "= 3x_1^2 -4x_1x_2 + 7x_2^2\n",
    "\\end{aligned}"
   ]
  },
  {
   "attachments": {},
   "cell_type": "markdown",
   "metadata": {},
   "source": [
    "# <span style = \"color : black\"> **Change of Variable in a Quadratic From**"
   ]
  },
  {
   "attachments": {},
   "cell_type": "markdown",
   "metadata": {},
   "source": [
    "![cross product항이 존재하지 않는 경우](./%ED%83%80%EC%9B%901.png)"
   ]
  },
  {
   "attachments": {},
   "cell_type": "markdown",
   "metadata": {},
   "source": [
    "위의 그림은 이차형식을 좌표계에서 표현한 것이다. 각각의 이차형식에서 원점으로부터 거리가 가장 먼 좌표를 찾아보자. 초록색 이차형식의 경우 x1 = 0을 대입하여 바로 x2를 구할 수 있다. 그러나 빨강색 이차형식의 거리가 가장 먼 곳의 좌표가 어디인지 바로 직관적을 파악하기가 어렵다. 이는 crossproduct항이 이차형식안에 존재하여 축에서 부터 사선방향으로 그래프를 회전시키기 때문이다."
   ]
  },
  {
   "attachments": {},
   "cell_type": "markdown",
   "metadata": {},
   "source": [
    "![](./%ED%83%80%EC%9B%902.png)"
   ]
  },
  {
   "attachments": {},
   "cell_type": "markdown",
   "metadata": {},
   "source": [
    "만약 빨강색 이차형식이 다음과 같이 새로운축을 기준으로 cross product를 제거하여 회전되지 않은 형태로 표현된다면 어떨끼? 초록색 이차형식에서 직관적으로 거리가 가장 먼 곳의 좌표를 알 수 있었던 것처럼 가장 먼 곳의 좌표가 y2 = 0인 점이라는 것이 직관적으로 보이므로 이를 대입하여 거리가 가장 먼 곳의 좌표를 간단하게 구할 수 있을 것이다."
   ]
  },
  {
   "attachments": {},
   "cell_type": "markdown",
   "metadata": {},
   "source": [
    "이와 같이 축을 바꿔서 하여 cross product항을 제거하면 최소 또는 최대가 되는 좌표를 바로 구할 수 있게 해줘서 최적화 관점에서 이점이 많다. 그렇다면 식을 새로운 축을 기준으로 어떻게 바꾸는 방법은 뭘까? 이는 이차형식의 변수변환을 활용하면 된다."
   ]
  },
  {
   "attachments": {},
   "cell_type": "markdown",
   "metadata": {},
   "source": [
    "먼저 어떤 $\\bf{x}$를 $\\bf{{\\bf{y}}}$에 행렬 A의 고유벡터행렬인 $P$가 곱해진 꼴로 생각하자. 이때 행렬A는 대칭행렬이며 직교대각화가 가능하므로 $P$는 $P^{-1} = P^T$를 만족하는 orthonomal matrix로 두자."
   ]
  },
  {
   "attachments": {},
   "cell_type": "markdown",
   "metadata": {},
   "source": [
    "\\begin{aligned}\n",
    "&{\\bf{x}} = P{\\bf{{\\bf{y}}}} \\\\\n",
    "&{\\bf{{\\bf{y}}}}=P^{-1}{\\bf{x}}\\\\\n",
    "&\\text{where }P^{-1} = P^T\n",
    "\\end{aligned}"
   ]
  },
  {
   "attachments": {},
   "cell_type": "markdown",
   "metadata": {},
   "source": [
    "이때 $P = \\begin{bmatrix}p_1 & p_2 & \\dots &p_n \\end{bmatrix}$인 정규직교행렬이므로 $P$의 고유벡터들은 orthonomal하다. 그러므로 고유벡터들의 집합인 $B = \\{p_1,p_2,\\dots,p_n\\}$를 구성하면 $B$는 $\\mathbb{R}^n$공간의 또다른 (표준기저가아닌)정규직교기저이며 ${\\bf{y}}$는 ${\\bf{x}}$를 정규직교기저 $B$로 표현한 좌표$[{\\bf{x}}]_B$이다. 즉 다음과 같다."
   ]
  },
  {
   "attachments": {},
   "cell_type": "markdown",
   "metadata": {},
   "source": [
    "\\begin{aligned}\n",
    "&{\\bf{x}} = P{\\bf{y}}\\\\\n",
    "&\\longleftrightarrow {\\bf{x}} = p_1y_1 + p_2y_2 + \\dots + p_ny_n\\\\\n",
    "&\\longleftrightarrow {\\bf{y}} = [{\\bf{x}}]_B\n",
    "\\end{aligned}"
   ]
  },
  {
   "attachments": {},
   "cell_type": "markdown",
   "metadata": {},
   "source": [
    "이를 이차형식에 대입해보자"
   ]
  },
  {
   "attachments": {},
   "cell_type": "markdown",
   "metadata": {},
   "source": [
    "\\begin{aligned}\n",
    "&{\\bf{x}}^TA{\\bf{x}} = (P{\\bf{y}})^TA(P{\\bf{y}}) = {\\bf{y}}^TP^TAP{\\bf{y}} = {\\bf{y}}^TD{\\bf{y}}\\\\\n",
    "&\\text{where } D = P^TAP,P^T = P^{-1}\n",
    "\\end{aligned}"
   ]
  },
  {
   "attachments": {},
   "cell_type": "markdown",
   "metadata": {},
   "source": [
    "$A$는 대각행렬이므로 직교대각화$D = P^TAP$가 가능하다. 따라서 ${\\bf{x}}$의 이차형식은 벡터${\\bf{y}}$의 이차형식이 되었음을 알 수 있다."
   ]
  },
  {
   "attachments": {},
   "cell_type": "markdown",
   "metadata": {},
   "source": [
    "\\begin{aligned}\n",
    "{\\bf{x}}^TA{\\bf{x}}= {\\bf{y}}^TD{\\bf{y}} = \n",
    "\\begin{bmatrix}\n",
    "y_1 \\\\\n",
    "y_2 \\\\\n",
    "\\vdots \\\\\n",
    "y_n\n",
    "\\end{bmatrix}\n",
    "\\begin{bmatrix}\n",
    "\\lambda_1 & 0 &\\dots & 0 \\\\\n",
    "0 & \\lambda_2 &\\dots & 1 \\\\\n",
    "\\vdots & \\vdots &\\ddots & \\vdots \\\\\n",
    "0 & 0 & \\dots & \\lambda_n \\\\\n",
    "\\end{bmatrix}\n",
    "\\begin{bmatrix}\n",
    "y_1 & y_2 & \\dots & y_n\n",
    "\\end{bmatrix}\n",
    "= \\lambda_1y_1^2 + \\lambda_2y_2^2 + \\dots + \\lambda_ny_n^2\n",
    "\\end{aligned}"
   ]
  },
  {
   "attachments": {},
   "cell_type": "markdown",
   "metadata": {},
   "source": [
    "조금 더 전개해보면 다음과 같은 $y$에 관한 식으로 나타난다.결론적으로 $D$가 대각행렬이기 때문에 crossproduct term이 나타나지 않으며 $B = \\{p_1,p_2,\\dots,p_n\\}$을 기저로 하는 새로운 좌표축에서 식을 표현할 수 있다."
   ]
  },
  {
   "attachments": {},
   "cell_type": "markdown",
   "metadata": {},
   "source": [
    "# <span style = \"color : black\"> **Example - 직교대각화**"
   ]
  },
  {
   "attachments": {},
   "cell_type": "markdown",
   "metadata": {},
   "source": [
    "행렬 $A =\\begin{bmatrix}4 & 2 & 2 \\\\ 2 & 4 & 2 \\\\ 2 & 2 & 4\\end{bmatrix}$ 를 직교대각화해라."
   ]
  },
  {
   "attachments": {},
   "cell_type": "markdown",
   "metadata": {},
   "source": [
    "먼저 행렬 A의 고윳값과 고유벡터를 구해보자. 다음과 같은 방정식을 만족하는 $\\lambda$가 고윳값이다."
   ]
  },
  {
   "attachments": {},
   "cell_type": "markdown",
   "metadata": {},
   "source": [
    "\\begin{aligned}\n",
    "&\\text{det}(\\lambda I - A) = {\\bf{0}} \\\\\n",
    "&\\longleftrightarrow \n",
    "\\begin{bmatrix}\n",
    "\\lambda -4 & -2 & -2 \\\\\n",
    "-2 & \\lambda -4 & -2 \\\\\n",
    "-2 & -2 & \\lambda -4 \n",
    "\\end{bmatrix} = {\\bf{0}} \\\\\n",
    "&\\longleftrightarrow(\\lambda-2)^2(\\lambda-8) = 0\n",
    "\\end{aligned}"
   ]
  },
  {
   "attachments": {},
   "cell_type": "markdown",
   "metadata": {},
   "source": [
    "따라서 고윳값은 2와 8이다."
   ]
  },
  {
   "attachments": {},
   "cell_type": "markdown",
   "metadata": {},
   "source": [
    "각각의 고윳값에 대한 단위고유벡터를 구해보면 다음과 같다. (이때 고유공간을 생성하는 orthonormal set을 구하는 방법은 나중에 공부를 더 해야할 듯 하다(그람슈미트?직교여공간?))"
   ]
  },
  {
   "attachments": {},
   "cell_type": "markdown",
   "metadata": {},
   "source": [
    "\\begin{aligned}\n",
    "&\n",
    "\\lambda=2 : p_1 = \\begin{bmatrix}-1/\\sqrt{2} & 1/\\sqrt{2}& 0\\end{bmatrix}^T,p_2 = \\begin{bmatrix}-1/\\sqrt{6}&-1/\\sqrt{6}&2/\\sqrt{6}\\end{bmatrix}^T \\\\\n",
    "&\\lambda=8 : p_3 = \\begin{bmatrix}1/\\sqrt{3} & 1/\\sqrt{3} & 1/\\sqrt{3}\\end{bmatrix}^T\n",
    "\\end{aligned}"
   ]
  },
  {
   "attachments": {},
   "cell_type": "markdown",
   "metadata": {},
   "source": [
    "대각행렬 D를 구해보면 다음과 같다."
   ]
  },
  {
   "attachments": {},
   "cell_type": "markdown",
   "metadata": {},
   "source": [
    "\\begin{aligned}\n",
    "D = P^{-1}AP = \\text{diag}(2,2,8)\n",
    "\\end{aligned}"
   ]
  },
  {
   "cell_type": "code",
   "execution_count": 51,
   "metadata": {},
   "outputs": [
    {
     "name": "stdout",
     "output_type": "stream",
     "text": [
      "대각행렬 D\n",
      " tensor([[2., 0., -0.],\n",
      "        [-0., 2., -0.],\n",
      "        [0., 0., 8.]])\n"
     ]
    }
   ],
   "source": [
    "import torch\n",
    "A = torch.FloatTensor([\n",
    "    [4,2,2],\n",
    "    [2,4,2],\n",
    "    [2,2,4]\n",
    "])\n",
    "p_1 = torch.FloatTensor(\n",
    "    [[-1/2**(1/2),1/2**(1/2),0]]\n",
    ").T\n",
    "p_2 = torch.FloatTensor(\n",
    "    [[-1/6**(1/2),-1/6**(1/2),2/6**(1/2)]]\n",
    ").T\n",
    "p_3 = torch.FloatTensor(\n",
    "    [[1/3**(1/2),1/3**(1/2),1/3**(1/2)]]\n",
    ").T\n",
    "P = torch.concat([p_1,p_2,p_3],axis=1)\n",
    "P_inv = P.inverse()\n",
    "#대각화\n",
    "D = P_inv @ A @ P\n",
    "print(\"대각행렬 D\\n\",D.round())"
   ]
  },
  {
   "attachments": {},
   "cell_type": "markdown",
   "metadata": {},
   "source": [
    "# <span style = \"color : black\"> **Example - Change of Variable in Quadratic Form**"
   ]
  },
  {
   "attachments": {},
   "cell_type": "markdown",
   "metadata": {},
   "source": [
    "위에서 구한 ${\\bf{x}} = [x_1,x_2]^T$ ,$A = \\begin{bmatrix}3 & -2 \\\\ -2 & 7\\end{bmatrix}$일때, quadratic form을 변수변환해보자."
   ]
  },
  {
   "attachments": {},
   "cell_type": "markdown",
   "metadata": {},
   "source": [
    "\\begin{aligned}\n",
    "&Q({\\bf{x}}) = {\\bf{x}}^TA{\\bf{x}}\n",
    "= 3x_1^2 -4x_1x_2 + 7x_2^2\n",
    "\\end{aligned}"
   ]
  },
  {
   "attachments": {},
   "cell_type": "markdown",
   "metadata": {},
   "source": [
    "먼저 고윳값과 고유벡터를 구하면 다음과 같다. 이때 고유벡터는 모두 단위벡터이자 orthonomal한 벡터들이다."
   ]
  },
  {
   "attachments": {},
   "cell_type": "markdown",
   "metadata": {},
   "source": [
    "\\begin{aligned}\n",
    "&\n",
    "\\lambda=3 : p_1 = \\begin{bmatrix}2/\\sqrt{5} & -1/\\sqrt{5}\\end{bmatrix}^T\\\\\n",
    "&\\lambda=-7 : p_2 = \\begin{bmatrix}1/\\sqrt{5} & 2/\\sqrt{5} \\end{bmatrix}^T\n",
    "\\end{aligned}"
   ]
  },
  {
   "attachments": {},
   "cell_type": "markdown",
   "metadata": {},
   "source": [
    "$P$는 고유벡터행렬이자 $P^{-1} = P^T$를 만족하는 orthonomal matrix(정규직교행렬)이다. 다음과 같다."
   ]
  },
  {
   "attachments": {},
   "cell_type": "markdown",
   "metadata": {},
   "source": [
    "$$\\begin{bmatrix}2/\\sqrt{5} & 1/\\sqrt{5}\\\\-1\\sqrt{5} & 2/\\sqrt{5}\\end{bmatrix}$$"
   ]
  },
  {
   "attachments": {},
   "cell_type": "markdown",
   "metadata": {},
   "source": [
    "대각화도 한번 해보면 다음과 같다."
   ]
  },
  {
   "attachments": {},
   "cell_type": "markdown",
   "metadata": {},
   "source": [
    "$$D = P^{-1}AP = \\begin{bmatrix}3 & 0 \\\\ 0 & -7\\end{bmatrix}$$"
   ]
  },
  {
   "attachments": {},
   "cell_type": "markdown",
   "metadata": {},
   "source": [
    "이제 위에서 구한 $P$로 변수변환을 할 수 있다. ${\\bf{x}}$=$P{\\bf{y}}$를 quadratic form에 대입하면 다음과 같이 정리된다."
   ]
  },
  {
   "attachments": {},
   "cell_type": "markdown",
   "metadata": {},
   "source": [
    "\\begin{aligned}\n",
    "Q({\\bf{x}}) &= x^TAx = (Py)^TA(Py) = y^TP^TAPy = y^TP^TAPy\\\\\n",
    "&=y^TDy = 3y_1^2 - 7y_2^2\n",
    "\\end{aligned}"
   ]
  },
  {
   "attachments": {},
   "cell_type": "markdown",
   "metadata": {},
   "source": [
    "이러한 변수변환을 시각화 해보면 다음과 같다고 한다."
   ]
  },
  {
   "attachments": {},
   "cell_type": "markdown",
   "metadata": {},
   "source": [
    "![](./changevariable.png)"
   ]
  },
  {
   "attachments": {},
   "cell_type": "markdown",
   "metadata": {},
   "source": [
    "${\\bf{x}} = P{\\bf{y}}$관계를 가질때 ${\\bf{x}}^TA{\\bf{x}} = {\\bf{y}}^TD{\\bf{y}}$와 같은 값에 mapping됨을 잘 보여준다."
   ]
  },
  {
   "attachments": {},
   "cell_type": "markdown",
   "metadata": {},
   "source": [
    "# <span style = \"color : black\"> **The Principal Axes Theorem**"
   ]
  },
  {
   "attachments": {},
   "cell_type": "markdown",
   "metadata": {},
   "source": [
    "행렬 $A = A^T \\in R^{n \\times n}$라 가정해보자. 두 벡터사이에 ${\\bf{x}}=P{\\bf{y}}$인 관계가 있다면 ${\\bf{x}}$의 이차형식 $Q({\\bf{x}}) = {\\bf{x}}^TA{\\bf{x}}$는 cross-product form이 없는 $\\bf{y}$의 이차형식 ${\\bf{y}}^TD{\\bf{y}}$와 같다는 정리이다. 이때 $A$행렬의 고유벡터가 각각의 column을 이루는 orthonormal matrix(정규직교행렬) $P$의 각각의 열들을 이차형식 $x^TAx$의 주축(principal axes)라고 부른다."
   ]
  },
  {
   "attachments": {},
   "cell_type": "markdown",
   "metadata": {},
   "source": [
    "![](./principal%20axes.png)"
   ]
  },
  {
   "attachments": {},
   "cell_type": "markdown",
   "metadata": {},
   "source": [
    "위의 그림의 (a)는 바로 위 예제에서 사용된 이차형식이다. $y_1$과 $y_2$는 $\\mathbb{R}$^2의 기저인 $B = \\{p_1,p_2\\}$을 기저로 하는 새로운 축이며 타원은 이 축을 기준으로 원점에 놓이며 회전하지 않은 형태이다."
   ]
  },
  {
   "attachments": {},
   "cell_type": "markdown",
   "metadata": {},
   "source": [
    "# <span style = \"color:black\">**Classifiying Quadratic Forms**"
   ]
  },
  {
   "attachments": {},
   "cell_type": "markdown",
   "metadata": {},
   "source": [
    "이차형식의 부호는 다음과 같이 정의할 수 있다."
   ]
  },
  {
   "attachments": {},
   "cell_type": "markdown",
   "metadata": {},
   "source": [
    "\\begin{aligned}\n",
    "&x \\not =0,Q(x)>0 \\leftrightarrow \\text{positive definite}\\\\\n",
    "&x \\not =0,Q(x)<0 \\leftrightarrow \\text{negative definite}\\\\\n",
    "&\\text{Q(x)가 양수와 음수 모두 지닌다면} \\leftrightarrow \\text{indefinite}\\\\\n",
    "&Q(x)\\geq 0 \\leftrightarrow \\text{positive semidefinite}\\\\\n",
    "&Q(x)\\leq 0 \\leftrightarrow \\text{negative semidefinite}\n",
    "\\end{aligned}"
   ]
  },
  {
   "attachments": {},
   "cell_type": "markdown",
   "metadata": {},
   "source": [
    "고윳값으로 이차형식의 부호를 알 수 있다. 이차형식을 전개하면 다음과 같다."
   ]
  },
  {
   "attachments": {},
   "cell_type": "markdown",
   "metadata": {},
   "source": [
    "$$Q({\\bf{x}}) = {\\bf{x}}^TA{\\bf{x}} = \\lambda_1x_1^2 + \\lambda_2x_2^2 + \\dots + \\lambda_nx_n^2$$"
   ]
  },
  {
   "attachments": {},
   "cell_type": "markdown",
   "metadata": {},
   "source": [
    "$x$에 관한 제곱항은 모두 양수이므로 행렬 $A$의 고윳값의 부호에 의하여 이차형식의 부호가 결정된다."
   ]
  },
  {
   "attachments": {},
   "cell_type": "markdown",
   "metadata": {},
   "source": [
    "\\begin{aligned}\n",
    "&\\forall i,\\lambda_i > 0 \\leftrightarrow \\text{positive definite}\\\\\n",
    "&\\forall i,\\lambda_i < 0 \\leftrightarrow \\text{negative definite}\\\\\n",
    "&\\forall i,\\lambda_i\\text{ 가 양수이거나 음수이다.}\\leftrightarrow \\text{indefinite}\n",
    "\\end{aligned}"
   ]
  },
  {
   "attachments": {},
   "cell_type": "markdown",
   "metadata": {},
   "source": [
    "# <span style = \"color:black\"> **${\\bf{x}}^TA{\\bf{x}}> 0 \\rightarrow$ A : invertible**"
   ]
  },
  {
   "attachments": {},
   "cell_type": "markdown",
   "metadata": {},
   "source": [
    "임의의 행렬 $A \\in \\mathbb{R}^{n \\times n}$일 때 다음이 성립한다."
   ]
  },
  {
   "attachments": {},
   "cell_type": "markdown",
   "metadata": {},
   "source": [
    "$$\\text{det}(A) = \\lambda_1\\lambda_2\\dots\\lambda_n"
   ]
  },
  {
   "attachments": {},
   "cell_type": "markdown",
   "metadata": {},
   "source": [
    "만약 $A = A^T$인 대칭행렬이며 이차형식이 positive definite라면 다음과 같다."
   ]
  },
  {
   "attachments": {},
   "cell_type": "markdown",
   "metadata": {},
   "source": [
    "$$({\\bf{x}}^TA{\\bf{x}}>0) \\leftrightarrow \\text{positive definite}\\rightarrow \\forall i,\\lambda_i >0 \\rightarrow \\text{det(A)}>0 \\rightarrow A : \\text{invertible}$$"
   ]
  },
  {
   "attachments": {},
   "cell_type": "markdown",
   "metadata": {},
   "source": [
    "그러므로, 이차형식이 positive definite라면 이차형식의 행렬$A$는 invertible하다."
   ]
  },
  {
   "attachments": {},
   "cell_type": "markdown",
   "metadata": {},
   "source": [
    "<span style = \"color:black\"> "
   ]
  }
 ],
 "metadata": {
  "kernelspec": {
   "display_name": "base",
   "language": "python",
   "name": "python3"
  },
  "language_info": {
   "codemirror_mode": {
    "name": "ipython",
    "version": 3
   },
   "file_extension": ".py",
   "mimetype": "text/x-python",
   "name": "python",
   "nbconvert_exporter": "python",
   "pygments_lexer": "ipython3",
   "version": "3.9.13"
  },
  "orig_nbformat": 4,
  "vscode": {
   "interpreter": {
    "hash": "0478b8cb1c47bafb71305148a49d30528a4d9c22ca2de336c01aa5a8230a459a"
   }
  }
 },
 "nbformat": 4,
 "nbformat_minor": 2
}
