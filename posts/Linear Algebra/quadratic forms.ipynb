{
 "cells": [
  {
   "cell_type": "raw",
   "metadata": {},
   "source": [
    "---\n",
    "author: 신호연\n",
    "date: 2023-02-08\n",
    "title: \"Quadratic Form\"\n",
    "format: html\n",
    "categories: [Linear Algebra]\n",
    "---\n",
    "[딥러닝공부방](https://deep-learning-study.tistory.com/458)을 읽고 정리한 내용입니다."
   ]
  },
  {
   "attachments": {},
   "cell_type": "markdown",
   "metadata": {},
   "source": [
    "# <span style = \"color : black\"> **Definition of Quadratic Form**"
   ]
  },
  {
   "attachments": {},
   "cell_type": "markdown",
   "metadata": {},
   "source": [
    "이차형식(Quadratic form)은 다음과 같은 행렬의 곱으로 정의한다."
   ]
  },
  {
   "attachments": {},
   "cell_type": "markdown",
   "metadata": {},
   "source": [
    "\\begin{aligned}\n",
    "&Q({\\bf{x}}) = {\\bf{x}}^TA{\\bf{x}}\\\\\n",
    "&\\text{where }\n",
    "\\begin{aligned}\n",
    "&A = A^T \\in \\mathbb{R}^{n \\times n},x \\in \\mathbb{R}^{n \\times 1}\n",
    "\\end{aligned}\n",
    "\\end{aligned}"
   ]
  },
  {
   "attachments": {},
   "cell_type": "markdown",
   "metadata": {},
   "source": [
    "행렬$A$는 이차형식의 행렬이라고 부르며 $A=A^T$를 만족하는 대칭행렬이며 x는 벡터이다. 대칭행렬의 경우 직교대각화가 가능하다.(orthogonally diagonalizable)"
   ]
  },
  {
   "attachments": {},
   "cell_type": "markdown",
   "metadata": {},
   "source": [
    "# <span style = \"color : black\"> **Example**"
   ]
  },
  {
   "attachments": {},
   "cell_type": "markdown",
   "metadata": {},
   "source": [
    "${\\bf{x}} = [x_1,x_2]^T$ ,$A = \\begin{bmatrix}3 & -2 \\\\ -2 & 7\\end{bmatrix}$일때, quadratic form을 구해보자."
   ]
  },
  {
   "attachments": {},
   "cell_type": "markdown",
   "metadata": {},
   "source": [
    "\\begin{aligned}\n",
    "&Q({\\bf{x}}) = {\\bf{x}}^TA{\\bf{x}} = \n",
    "\\begin{bmatrix}\n",
    "x_1 & x_2\n",
    "\\end{bmatrix}\n",
    "\\begin{bmatrix}3 & -2 \\\\ -2 & 7\\end{bmatrix}\n",
    "\\begin{bmatrix}\n",
    "x_1 \\\\ x_2\n",
    "\\end{bmatrix}\n",
    "= \\begin{bmatrix}\n",
    "x_1 & x_2\n",
    "\\end{bmatrix}\n",
    "\\begin{bmatrix}\n",
    "3x_1-2x_2 \\\\ -2x_1 + 7x_2\n",
    "\\end{bmatrix}\n",
    "= 3x_1^2 -4x_1x_2 + 7x_2^2\n",
    "\\end{aligned}"
   ]
  },
  {
   "attachments": {},
   "cell_type": "markdown",
   "metadata": {},
   "source": [
    "# <span style = \"color : black\"> **Change of Variable in a Quadratic From**"
   ]
  },
  {
   "attachments": {},
   "cell_type": "markdown",
   "metadata": {},
   "source": [
    "위와 같이 이차형식에서 cross-product term(x1x2가 곱해진 항)이 있으면 불편하므로 변수를 변경하여 제거할 수 있다."
   ]
  },
  {
   "attachments": {},
   "cell_type": "markdown",
   "metadata": {},
   "source": [
    "먼저 어떤 $\\bf{x}$를 $\\bf{y}$에 행렬 A의 고유벡터행렬인 $P$가 곱해진 꼴로 생각하자. 행렬A는 직교대각화가 가능하므로 $P$는 $P^{-1} = P^T$를 만족하는 orthonomal matrix라 하자."
   ]
  },
  {
   "attachments": {},
   "cell_type": "markdown",
   "metadata": {},
   "source": [
    "\\begin{aligned}\n",
    "&{\\bf{x}} = P{\\bf{y}} \\\\\n",
    "&{\\bf{y}}=P^{-1}{\\bf{x}}\\\\\n",
    "&\\text{where }P^{-1} = P^T\n",
    "\\end{aligned}"
   ]
  },
  {
   "cell_type": "markdown",
   "metadata": {},
   "source": []
  },
  {
   "cell_type": "markdown",
   "metadata": {},
   "source": []
  }
 ],
 "metadata": {
  "kernelspec": {
   "display_name": "base",
   "language": "python",
   "name": "python3"
  },
  "language_info": {
   "codemirror_mode": {
    "name": "ipython",
    "version": 3
   },
   "file_extension": ".py",
   "mimetype": "text/x-python",
   "name": "python",
   "nbconvert_exporter": "python",
   "pygments_lexer": "ipython3",
   "version": "3.9.13"
  },
  "orig_nbformat": 4,
  "vscode": {
   "interpreter": {
    "hash": "0478b8cb1c47bafb71305148a49d30528a4d9c22ca2de336c01aa5a8230a459a"
   }
  }
 },
 "nbformat": 4,
 "nbformat_minor": 2
}
