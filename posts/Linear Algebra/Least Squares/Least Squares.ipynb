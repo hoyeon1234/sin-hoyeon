{
 "cells": [
  {
   "cell_type": "raw",
   "metadata": {},
   "source": [
    "---\n",
    "title: \"Least Squares\"\n",
    "format: html\n",
    "author: 신호연\n",
    "date: 2023-01-06\n",
    "---"
   ]
  },
  {
   "attachments": {},
   "cell_type": "markdown",
   "metadata": {},
   "source": [
    "# <span style = \"color : #00994C\">**Problem Setting**"
   ]
  },
  {
   "attachments": {},
   "cell_type": "markdown",
   "metadata": {},
   "source": [
    "$A \\in \\mathbb{R}^{m \\times n},\\text{rank}(A) = n<m,x \\in \\mathbb{R}^{n \\times 1},b \\in \\mathbb{R}^{m \\times 1}$ 가 주어지고 방정식 $Ax = b$를 만족하는 해인 $x$를 구할 수 없을 때, $Ax$가 $b$와 가장 비슷하게 하는 $x$를 찾는 것이 목적이다. "
   ]
  },
  {
   "attachments": {},
   "cell_type": "markdown",
   "metadata": {},
   "source": [
    "주어진 문제상황을 다시 해석하면 $A$가 full column rank이면서 해를 구할 수 없는 상황 즉, $b \\notin \\text{C}(A)$이므로 그림으로 표현하면 다음과 같다."
   ]
  },
  {
   "attachments": {},
   "cell_type": "markdown",
   "metadata": {},
   "source": [
    "그림 그림 그림"
   ]
  },
  {
   "attachments": {},
   "cell_type": "markdown",
   "metadata": {},
   "source": [
    "# <span style = \"color : #00994C\">**Least Squares**"
   ]
  },
  {
   "attachments": {},
   "cell_type": "markdown",
   "metadata": {},
   "source": [
    "최소제곱법(Least Squares)은 $Ax = b$인 방정식의 해$x$를 구하지 못하는 상황에서 사용하는 방법이다. $b$대신 $\\text{C}(A)$에 속하는 벡터이자 $b$와 가장 비슷한 $\\hat{b} \\in \\text{C}(A)$를 구하고 그때의 $A\\hat{x} = \\hat{b}$인 방정식의 해$\\hat{x}$를 구하는 방법이다. 어떤 느낌이냐면 못푸니까 비슷하게라도 해보자는 느낌이다.<br>\n",
    "\n",
    "먼저 해야할 일은 $b$와 가장 비슷한 $\\hat{b}$를 구하는 것이다. 가장 비슷한 $\\hat{b}$를 찾기위해서는 먼저 <span style = \"color : blue\">**비슷하다 또는 아니다**</span>라는 기준을 먼저 정한 후에 그 중 $C(A)$에 속하는 여러 벡터들 중 $\\hat{b}$를 구하는 것이 괜찮아 보인다.그렇다면 여기서 사용하는 <span style = \"color : blue\">**비슷함**</span>의 기준은 뭘까?"
   ]
  },
  {
   "attachments": {},
   "cell_type": "markdown",
   "metadata": {},
   "source": [
    "그림 그림 그림"
   ]
  },
  {
   "attachments": {},
   "cell_type": "markdown",
   "metadata": {},
   "source": [
    "먼저 e정의. Lsq의 목적은벡터 e의 길이(즉 L2 Norm)을 최소화 하는게 목적이다. 최소화 과정에서 루트가 있으면 쉽지않으므로 제곱!"
   ]
  },
  {
   "attachments": {},
   "cell_type": "markdown",
   "metadata": {},
   "source": [
    "여기서 <span style = \"color : blue\">**비슷하다 또는 아니다**</span>의 기준은 두 벡터사이의 거리이다. 두 벡터사이의 거리가 멀면 비슷하지 않은 것으로 보고 두 벡터사이의 거리가 가까우면 비슷한 것으로 본다. 또한 벡터는 공간상에서 하나의 점(또는 화살표)이므로 벡터사이의 거리는 결국 점과 점사이의 거리이다. 우리는   그러므로  우리는 $b$와 가장 비슷한 $\\hat{b}$를 찾기위해서 두 벡터사이의 거리를 구하는 벡터간의 차\n",
    "그림을 보면 $C(A)$에서 $\\hat{b}$의 후보가 되는 벡터들이 보인다. "
   ]
  },
  {
   "cell_type": "code",
   "execution_count": null,
   "metadata": {},
   "outputs": [],
   "source": []
  }
 ],
 "metadata": {
  "kernelspec": {
   "display_name": "base",
   "language": "python",
   "name": "python3"
  },
  "language_info": {
   "codemirror_mode": {
    "name": "ipython",
    "version": 3
   },
   "file_extension": ".py",
   "mimetype": "text/x-python",
   "name": "python",
   "nbconvert_exporter": "python",
   "pygments_lexer": "ipython3",
   "version": "3.9.13 (main, Aug 25 2022, 23:51:50) [MSC v.1916 64 bit (AMD64)]"
  },
  "orig_nbformat": 4,
  "vscode": {
   "interpreter": {
    "hash": "0478b8cb1c47bafb71305148a49d30528a4d9c22ca2de336c01aa5a8230a459a"
   }
  }
 },
 "nbformat": 4,
 "nbformat_minor": 2
}
