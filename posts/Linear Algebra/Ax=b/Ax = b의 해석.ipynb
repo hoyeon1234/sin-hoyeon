{
 "cells": [
  {
   "cell_type": "raw",
   "metadata": {},
   "source": [
    "---\n",
    "author: 신호연\n",
    "date: 2023-01-05\n",
    "title: 행렬을 기반으로 한 Ax=b의 탐구\n",
    "format: \n",
    "  html:\n",
    "    code-fold: true\n",
    "\n",
    "categories: [Linear Algebra]\n",
    "---\n",
    "유투브 - 혁펜하임님의 선형대수학강의를 정리하기 위해 작성한 글입니다.<br>"
   ]
  },
  {
   "attachments": {},
   "cell_type": "markdown",
   "metadata": {},
   "source": [
    "연립일차방정식은 행렬 Ax=b로 나타내고 행렬의 랭크와 열공간을 기반으로 해의 갯수를 나타낼 수 있습니다."
   ]
  },
  {
   "attachments": {},
   "cell_type": "markdown",
   "metadata": {},
   "source": [
    "# <span style = \"color : #00994C\">**열공간을 기반으로 한 Ax=b의 해석**"
   ]
  },
  {
   "attachments": {},
   "cell_type": "markdown",
   "metadata": {},
   "source": [
    "행렬$A = \\begin{bmatrix}a_1 & a_2 & \\dots & a_n\\end{bmatrix} \\in \\mathbb{R}^{m \\times n}$와 벡터$x = \\begin{bmatrix}x_1,x_2,\\dots,x_n\\end{bmatrix}^T\\in \\mathbb{R}^{n \\times 1}$의 곱을 생각해보자. 행렬과 벡터의 곱은 다음과 같이 열벡터의 일차결합으로 바라볼 수 있다.<br>\n",
    "\n",
    "\\begin{aligned}\n",
    "Ax = \\begin{bmatrix}a_1 & a_2 & \\dots & a_n\\end{bmatrix}\n",
    "\\begin{bmatrix}\n",
    "x_1\\\\\n",
    "x_2\\\\\n",
    "\\vdots\\\\\n",
    "x_n\n",
    "\\end{bmatrix}\n",
    "= a_1x_1 + a_2x_2 + \\dots a_nx_n\n",
    "\\end{aligned}\n",
    "\n",
    "행렬 A의 열공간은 열벡터들의 선형생성이다.\n",
    "\\begin{aligned}\n",
    "&\\text{C}(A) = \\text{span}(a_1,a_2,\\dots,a_n) = \\{c_1a_1 + c_2a_2 + \\dots c_na_n|c_1,c_2,\\dots,c_n \\in K\\}\n",
    "\\end{aligned}\n",
    "\n",
    "그러므로, 행렬 $A$의 열공간은 임의의 $x$에 대하여 가능한 $Ax$의 모든 집합과 같다. 가능한 모든 스칼라$x_1,x_2,\\dots,x_n$로 벡터의 일차결합이 이루는 집합은 생성(span)과 같기 때문이다<br>\n",
    "$$\\text{C}(A) = \\text{span}(a_1,a_2,\\dots,a_n) = \\{Ax |x\\in K^n\\}$$\n",
    "\n",
    "\n",
    "\n",
    "만약 $Ax = b$인 방정식의 해 $x$를 구하려 한다 하자. $\\text{C}(A)$는 가능한 $Ax$의 모든 집합이였으므로 만약 $\\text{C}(A)$가 $b$를 포함한다면(즉,$b$가 열공간의 원소라면) $Ax=b$인 $x$가 존재하여 방정식의 해가 존재하고 $\\text{C}(A)$가 $b$를 포함하지 않는다면 $Ax = b$인 $x$값이 존재하지 않고 따라서 방정식의 해가 존재하지 않는다."
   ]
  },
  {
   "attachments": {},
   "cell_type": "markdown",
   "metadata": {},
   "source": [
    "# <span style = \"color : #00994c\">**Case1 : A가 full column rank일 때**\n",
    "$A \\in \\mathbb{R}^{m \\times n},\\text{rank}(A) = n<m$인 full column rank라 하자. 그러면 A는 아마도 위아래로 긴 행렬이 되어 Ax는 다음과 같을 것이다.<br>\n",
    "![full column rank](./full%20column%20rank.jpg)"
   ]
  },
  {
   "attachments": {},
   "cell_type": "markdown",
   "metadata": {},
   "source": [
    "# <span style = \"color : #00994c\">**참고자료**\n",
    "[혁펜하임 - [선대] 2-11강. Ax=b 의 해의 수 알아내기](https://www.youtube.com/watch?v=nNI2TlD598c&list=PL_iJu012NOxdZDxoGsYidMf2_bERIQaP0&index=13)<br>\n",
    "[프린키피아](https://m.blog.naver.com/PostView.naver?isHttpsRedirect=true&blogId=qio910&logNo=221559201470)"
   ]
  },
  {
   "cell_type": "markdown",
   "metadata": {},
   "source": []
  }
 ],
 "metadata": {
  "kernelspec": {
   "display_name": "base",
   "language": "python",
   "name": "python3"
  },
  "language_info": {
   "codemirror_mode": {
    "name": "ipython",
    "version": 3
   },
   "file_extension": ".py",
   "mimetype": "text/x-python",
   "name": "python",
   "nbconvert_exporter": "python",
   "pygments_lexer": "ipython3",
   "version": "3.9.13 (main, Aug 25 2022, 23:51:50) [MSC v.1916 64 bit (AMD64)]"
  },
  "orig_nbformat": 4,
  "vscode": {
   "interpreter": {
    "hash": "0478b8cb1c47bafb71305148a49d30528a4d9c22ca2de336c01aa5a8230a459a"
   }
  }
 },
 "nbformat": 4,
 "nbformat_minor": 2
}
