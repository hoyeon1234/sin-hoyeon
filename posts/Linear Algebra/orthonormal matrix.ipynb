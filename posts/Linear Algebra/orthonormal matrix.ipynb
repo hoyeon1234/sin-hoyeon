{
 "cells": [
  {
   "cell_type": "raw",
   "metadata": {},
   "source": [
    "---\n",
    "author: 신호연\n",
    "date: 2023-02-08\n",
    "title: \"Diagonalization of symmetric matrix(정리중)\"\n",
    "format: html\n",
    "categories: [Linear Algebra]\n",
    "---\n",
    "수튜브님의 직교대각화가능(orthogonal diagonalizability)을 보고 정리한 내용입니다.<br>"
   ]
  },
  {
   "attachments": {},
   "cell_type": "markdown",
   "metadata": {},
   "source": [
    "# <span style = \"color : black\"> **Orthonormal matrix**"
   ]
  },
  {
   "attachments": {},
   "cell_type": "markdown",
   "metadata": {},
   "source": [
    "## <span style = \"color : black\"> **Definition**"
   ]
  },
  {
   "attachments": {},
   "cell_type": "markdown",
   "metadata": {},
   "source": [
    "**(definition)**<br>\n",
    "orthonormal matrix(orthogonal matrix) is a real square matrix whose columns and rows are orhonormal vectors "
   ]
  },
  {
   "attachments": {},
   "cell_type": "markdown",
   "metadata": {},
   "source": [
    "즉, 행벡터들과 열벡터들이 orthonormal인 matrix 정사각행렬을 orthonormal matrix라 한다.이러한 orthonormal matrix Q는 다음을 만족한다.(orthogonal 또는 orthonormal 둘 다 맞는 표현이다.그러나 직교 + 크기가 1인 벡터가 열벡터이기에 orthogonal + normal = orthonormal이 더 맞는 듯 하다.)"
   ]
  },
  {
   "attachments": {},
   "cell_type": "markdown",
   "metadata": {},
   "source": [
    "## <span style = \"color : black\"> **expression 1**"
   ]
  },
  {
   "attachments": {},
   "cell_type": "markdown",
   "metadata": {},
   "source": [
    "orthonormal matrix $Q$의 정의는 다음과 같이 수식으로 표현할 수 있다."
   ]
  },
  {
   "attachments": {},
   "cell_type": "markdown",
   "metadata": {},
   "source": [
    "\\begin{aligned}\n",
    "&Q^TQ = QQ^T = I \\\\\n",
    "&\\text{where } I \\text{ is the identity matrix}\n",
    "\\end{aligned}"
   ]
  },
  {
   "attachments": {},
   "cell_type": "markdown",
   "metadata": {},
   "source": [
    "정의가 왜 위와같은 수식을 만족하는지 확인해보자. 임의의 $Q \\in \\mathbb{R}^{n \\times n}$가 다음과 같다고 해보자."
   ]
  },
  {
   "attachments": {},
   "cell_type": "markdown",
   "metadata": {},
   "source": [
    "\\begin{aligned}\n",
    "&Q = \n",
    "\\begin{bmatrix}\n",
    "q_1 & q_2 & \\dots q_n\n",
    "\\end{bmatrix}\n",
    "\\end{aligned}"
   ]
  },
  {
   "attachments": {},
   "cell_type": "markdown",
   "metadata": {},
   "source": [
    "여기서 $q_i \\in \\mathbb{R}^{n \\times 1}(i=1,2,\\dots,n)$은 $Q$의 column vector이다. $Q^TQ = I$를 계산해보면 ..."
   ]
  },
  {
   "attachments": {},
   "cell_type": "markdown",
   "metadata": {},
   "source": [
    "\\begin{aligned}\n",
    "Q^TQ =\n",
    "\\begin{bmatrix}\n",
    "q_1 \\\\ q_2 \\\\ \\vdots \\\\ q_n\n",
    "\\end{bmatrix}\n",
    "\\begin{bmatrix}\n",
    "q_1 & q_2 & \\dots & q_n\n",
    "\\end{bmatrix}\n",
    "= \n",
    "\\begin{bmatrix}\n",
    "\\text{dot}(q_1,q_1) & \\text{dot}(q_1,q_2) & \\dots & \\text{dot}(q_1,q_n) \\\\\n",
    "\\text{dot}(q_2,q_1) & \\text{dot}(q_2,q_2) & \\dots & \\dots \\\\\n",
    "\\vdots & \\vdots & \\vdots & \\vdots \\\\\n",
    "\\text{dot}(q_n,q_1) & \\text{dot}(q_n,q_2) & \\dots & \\text{dots}(q_n,q_n)\\\\\n",
    "\\\\\n",
    "\\end{bmatrix}\n",
    "=\n",
    "\\begin{bmatrix}\n",
    "1 & 0 & \\dots & 0\\\\\n",
    "0 & 1 & \\dots & 0\\\\\n",
    "\\vdots & \\vdots & \\ddots & \\vdots \\\\\n",
    "0 & 0 & \\dots & 1\\\\\n",
    "\n",
    "\n",
    "\\end{bmatrix}\n",
    "\\end{aligned}"
   ]
  },
  {
   "attachments": {},
   "cell_type": "markdown",
   "metadata": {},
   "source": [
    "이는 같은 벡터끼리 내적을 하면 1이고  다른벡터끼리 내적하면 0임을 의미한다."
   ]
  },
  {
   "attachments": {},
   "cell_type": "markdown",
   "metadata": {},
   "source": [
    "\\begin{aligned}\n",
    "dot(q_i,q_j) = \n",
    "\\begin{cases}\n",
    "1 \\quad (i = j)\\\\\n",
    "0 \\quad (\\text{otherwise})\n",
    "\\end{cases}\n",
    "\\text{for all }i \\in (1,\\dots,n),\\,j \\in (1,\\dots,n)\n",
    "\\end{aligned}"
   ]
  },
  {
   "attachments": {},
   "cell_type": "markdown",
   "metadata": {},
   "source": [
    "그러므로, 임의의 벡터$q_i$의 크기는 1인 unit vector이며  열벡터들은 orthonormal하다."
   ]
  },
  {
   "attachments": {},
   "cell_type": "markdown",
   "metadata": {},
   "source": [
    "\\begin{aligned}\n",
    "&\\text{for all }i \\in (1,...,n), j \\in (1,...,n) \\\\\n",
    "&|q_i| = \\sqrt{q_i} = \\sqrt{dot(q_i,q_i)} = 1 \\\\\n",
    "&dot(q_i,q_j)=0 \\longleftrightarrow q_i\\perp q_j\n",
    "\n",
    "\\end{aligned}"
   ]
  },
  {
   "attachments": {},
   "cell_type": "markdown",
   "metadata": {},
   "source": [
    "$Q$의 행벡터를 $q_i^T$로 잡고 동일한 과정을 수행하면 행벡터들도 orthonormal하다는 것을 알 수 있다."
   ]
  },
  {
   "attachments": {},
   "cell_type": "markdown",
   "metadata": {},
   "source": [
    "## <span style = \"color : black\"> **expression 2**"
   ]
  },
  {
   "attachments": {},
   "cell_type": "markdown",
   "metadata": {},
   "source": [
    "또한 정의에 대한 expression1은 다음의 식과 동치이다."
   ]
  },
  {
   "attachments": {},
   "cell_type": "markdown",
   "metadata": {},
   "source": [
    "\\begin{aligned}\n",
    "&Q^T = Q^{-1} \\\\\n",
    "\\end{aligned}"
   ]
  },
  {
   "attachments": {},
   "cell_type": "markdown",
   "metadata": {},
   "source": [
    "즉,어떤 행렬의 transpose가 그것의 inverse와 같으면 orthonormal matrix라는 것이며 이것또한 orthonormal matrix의 정의이다."
   ]
  },
  {
   "attachments": {},
   "cell_type": "markdown",
   "metadata": {},
   "source": [
    "왜 그런가 하면 expression1에서 $Q^TQ = QQ^T = I$였다. 그러므로 $Q$의 역행렬$Q^{-1}$는 $Q^T$와 같다.<br>\n",
    "(Q의 역행렬은 $Q^{-1}Q = QQ{-1} = I$를 만족하는 행렬이다.)"
   ]
  },
  {
   "cell_type": "markdown",
   "metadata": {},
   "source": [
    "# <span style = \"color : black\"> **orthogonally similar**"
   ]
  },
  {
   "cell_type": "markdown",
   "metadata": {},
   "source": [
    "다음과 같은 식을 만족하면 C는 A와 orthogonally similar(직교닮음)이다."
   ]
  },
  {
   "cell_type": "markdown",
   "metadata": {},
   "source": [
    "\\begin{aligned}\n",
    "&C = P^{-1}AP \\\\\n",
    "&\\text{where } P^{-1} = P^T\n",
    "\\end{aligned}"
   ]
  },
  {
   "cell_type": "markdown",
   "metadata": {},
   "source": [
    "여기서 $P^{-1} = P^T$는 orthonomal matrix의 정의이다."
   ]
  },
  {
   "cell_type": "markdown",
   "metadata": {},
   "source": [
    "윗 식에 의해서 A도 C와 orthogonally similar이다."
   ]
  },
  {
   "cell_type": "markdown",
   "metadata": {},
   "source": [
    "\\begin{aligned}\n",
    "&A = PCP^{-1} \\\\\n",
    "&\\text{where } P^{-1} = P^T\n",
    "\\end{aligned}"
   ]
  },
  {
   "cell_type": "markdown",
   "metadata": {},
   "source": [
    "정리하자면 C가 A와 직교닮음이라면 A도 C와 직교닮음이므로 서로 직교닮음이라는 것을 알 수 있다."
   ]
  },
  {
   "cell_type": "markdown",
   "metadata": {},
   "source": [
    "# <span style = \"color : black\"> **orthogonally diagonalize**"
   ]
  },
  {
   "cell_type": "markdown",
   "metadata": {},
   "source": [
    "임의의 정사각행렬 $A,D$에 대해서 다음이 만족한다고 해보자."
   ]
  },
  {
   "cell_type": "markdown",
   "metadata": {},
   "source": [
    "\\begin{aligned}\n",
    "&\n",
    "\\begin{aligned}\n",
    "D &= P^{-1}AP \\\\\n",
    "&= P^TAP \\\\\n",
    "\\end{aligned}\n",
    "\\\\\n",
    "&\\text{where } D = diag(d_1,d_2,\\dots,d_n) , P^{-1} = P^T\n",
    "\\end{aligned}"
   ]
  },
  {
   "cell_type": "markdown",
   "metadata": {},
   "source": [
    "이와 같이 $A$와 직교닮음인 대각행렬 $D$가 존재할때 행렬$A$가 직교대각화 되었다 라고 한다."
   ]
  },
  {
   "cell_type": "markdown",
   "metadata": {},
   "source": [
    "# <span style = \"color : black\"> **orthogonally diagonalizable**"
   ]
  },
  {
   "cell_type": "markdown",
   "metadata": {},
   "source": [
    "임의의 정사각행렬 $A$에 대해서 $P^{-1}AP$가 대각행렬D가 되게하는 가역행렬이자 orthornomal matrix인 $P$가 존재한다면 행렬$A$는 \"orthogonally diagonalizable\"하다고 한다."
   ]
  },
  {
   "attachments": {},
   "cell_type": "markdown",
   "metadata": {},
   "source": [
    "# <span style = \"color : black\"> **정리 : \"A가 대칭행렬이다\"는 \"A가 orthogonally diagonalizable하다\"와 동치이다.** "
   ]
  },
  {
   "attachments": {},
   "cell_type": "markdown",
   "metadata": {},
   "source": [
    "위의 두 명제가 동치임을 보이기 위해 다음 두 정리를 증명한다."
   ]
  },
  {
   "attachments": {},
   "cell_type": "markdown",
   "metadata": {},
   "source": [
    "## <span style = \"color : black\"> **정리1 : orthogonally diagonalizable 하면 A = A^T**"
   ]
  },
  {
   "cell_type": "markdown",
   "metadata": {},
   "source": [
    "행렬$A$가 orthogonally diagonalizable하다고 하자. 즉 $D = P^TAP$를 만족하는 직교행렬 $P$가 존재한다. 이때 $A^T$를 전개하면 다음과 같다."
   ]
  },
  {
   "cell_type": "markdown",
   "metadata": {},
   "source": [
    "\\begin{aligned}\n",
    "&A = PDP^{-1} = PDP^T\\\\\n",
    "&A^T = (PDP^T)^T = PD^TP^T = PDP^T = A\n",
    "\\end{aligned}"
   ]
  },
  {
   "attachments": {},
   "cell_type": "markdown",
   "metadata": {},
   "source": [
    "## <span style = \"color : black\"> **정리2 : 대칭행렬이면  orthogonally diagonalizable** "
   ]
  },
  {
   "cell_type": "markdown",
   "metadata": {},
   "source": [
    "귀납법으로 증명한다.즉 아래의 두 가지가 증명 가능함을 보인다."
   ]
  },
  {
   "cell_type": "markdown",
   "metadata": {},
   "source": [
    "- $A \\in \\mathbb{R}^{1 \\times 1}$ 일때 직교대각화가 가능하다.\n",
    "- $A \\in \\mathbb{R}^{(n-1)\\times (n-1)}$때 직교대각화가 가능하다고 가정하고 $A \\in \\mathbb{R}^{n \\times n}$때 직교대각화가 가능함을 보인다."
   ]
  },
  {
   "cell_type": "markdown",
   "metadata": {},
   "source": [
    "먼저 $A \\in \\mathbb{R}^{1 \\times 1}$ 일때 직교대각화가 가능함을 보인다. 먼저 $A$와 $P$행렬을 잡는다."
   ]
  },
  {
   "cell_type": "markdown",
   "metadata": {},
   "source": [
    "\\begin{aligned}\n",
    "&A = \\begin{bmatrix}a\\end{bmatrix}\n",
    "\\in \\mathbb{R}^{1 \\times 1} \\\\\n",
    "&P = \\begin{bmatrix}1\\end{bmatrix}\n",
    "\\in \\mathbb{R}^{1 \\times 1}\n",
    "\\end{aligned}\n"
   ]
  },
  {
   "cell_type": "markdown",
   "metadata": {},
   "source": [
    "여기서 $A=A^T$인 대칭행렬이며 $P$의 경우 $P^{-1} = P^T$가 성립하는 orthonomal matrix이다."
   ]
  },
  {
   "cell_type": "markdown",
   "metadata": {},
   "source": [
    "\\begin{aligned}\n",
    "D = P^{-1}AP = \\begin{bmatrix}a\\end{bmatrix}\n",
    "\\end{aligned}"
   ]
  },
  {
   "cell_type": "markdown",
   "metadata": {},
   "source": [
    "D는 대각행렬이다. 따라서 $D = P-1AP$를 만족하는 가역행렬이자 직교행렬인$P$와 대각행렬$D$가 존재하므로 행렬$A \\in \\mathbb{R}^{1 \\times 1}$는 orthogonally diagonalizable하다."
   ]
  },
  {
   "cell_type": "markdown",
   "metadata": {},
   "source": [
    "생략 ....."
   ]
  },
  {
   "attachments": {},
   "cell_type": "markdown",
   "metadata": {},
   "source": [
    "따라서 \"행렬 A가 orthogonally diagonalizable하다.\"는 \"행렬A는 대칭행렬이다.\"와 동치이다."
   ]
  },
  {
   "cell_type": "markdown",
   "metadata": {},
   "source": [
    "# <span style = \"color : black\"> **참고자료** "
   ]
  },
  {
   "cell_type": "markdown",
   "metadata": {},
   "source": [
    "[수튜브](https://www.youtube.com/watch?v=_nmuOZujc-E&ab_channel=%EC%88%98%ED%95%99%EC%B1%84%EB%84%90%EC%91%A4%ED%8A%9C%EB%B8%8C)"
   ]
  }
 ],
 "metadata": {
  "kernelspec": {
   "display_name": "base",
   "language": "python",
   "name": "python3"
  },
  "language_info": {
   "codemirror_mode": {
    "name": "ipython",
    "version": 3
   },
   "file_extension": ".py",
   "mimetype": "text/x-python",
   "name": "python",
   "nbconvert_exporter": "python",
   "pygments_lexer": "ipython3",
   "version": "3.9.13"
  },
  "orig_nbformat": 4,
  "vscode": {
   "interpreter": {
    "hash": "0478b8cb1c47bafb71305148a49d30528a4d9c22ca2de336c01aa5a8230a459a"
   }
  }
 },
 "nbformat": 4,
 "nbformat_minor": 2
}
