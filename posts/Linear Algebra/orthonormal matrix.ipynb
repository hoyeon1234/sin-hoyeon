{
 "cells": [
  {
   "cell_type": "raw",
   "metadata": {},
   "source": [
    "---\n",
    "author: 신호연\n",
    "date: 2023-02-08\n",
    "title: \"Orthonormal matrix\"\n",
    "format: html\n",
    "categories: [Linear Algebra]\n",
    "---"
   ]
  },
  {
   "attachments": {},
   "cell_type": "markdown",
   "metadata": {},
   "source": [
    "# <span style = \"color : black\"> **Definition of Orthonormal matrix**"
   ]
  },
  {
   "attachments": {},
   "cell_type": "markdown",
   "metadata": {},
   "source": [
    "**(definition)**<br>\n",
    "orthonormal matrix(orthogonal matrix) is a real square matrix whose columns and rows are orhonormal vectors "
   ]
  },
  {
   "attachments": {},
   "cell_type": "markdown",
   "metadata": {},
   "source": [
    "즉, 행벡터들과 열벡터들이 orthonormal인 matrix 정사각행렬을 orthonormal matrix라 한다.이러한 orthonormal matrix Q는 다음을 만족한다.(orthogonal 또는 orthonormal 둘 다 맞는 표현이다.그러나 직교 + 크기가 1인 벡터가 열벡터이기에 orthogonal + normal = orthonormal이 더 맞는 듯 하다.)"
   ]
  },
  {
   "attachments": {},
   "cell_type": "markdown",
   "metadata": {},
   "source": [
    "# <span style = \"color : black\"> **expression 1**"
   ]
  },
  {
   "attachments": {},
   "cell_type": "markdown",
   "metadata": {},
   "source": [
    "orthonormal matrix $Q$의 정의는 다음과 같이 수식으로 표현할 수 있다."
   ]
  },
  {
   "attachments": {},
   "cell_type": "markdown",
   "metadata": {},
   "source": [
    "\\begin{aligned}\n",
    "&Q^TQ = QQ^T = I \\\\\n",
    "&\\text{where } I \\text{ is the identity matrix}\n",
    "\\end{aligned}"
   ]
  },
  {
   "attachments": {},
   "cell_type": "markdown",
   "metadata": {},
   "source": [
    "정의가 왜 위와같은 수식을 만족하는지 확인해보자. 임의의 $Q \\in \\mathbb{R}^{n \\times n}$가 다음과 같다고 해보자."
   ]
  },
  {
   "attachments": {},
   "cell_type": "markdown",
   "metadata": {},
   "source": [
    "\\begin{aligned}\n",
    "&Q = \n",
    "\\begin{bmatrix}\n",
    "q_1 & q_2 & \\dots q_n\n",
    "\\end{bmatrix}\n",
    "\\end{aligned}"
   ]
  },
  {
   "attachments": {},
   "cell_type": "markdown",
   "metadata": {},
   "source": [
    "여기서 $q_i \\in \\mathbb{R}^{n \\times 1}(i=1,2,\\dots,n)$은 $Q$의 column vector이다. $Q^TQ = I$를 계산해보면 ..."
   ]
  },
  {
   "attachments": {},
   "cell_type": "markdown",
   "metadata": {},
   "source": [
    "\\begin{aligned}\n",
    "Q^TQ =\n",
    "\\begin{bmatrix}\n",
    "q_1 \\\\ q_2 \\\\ \\vdots \\\\ q_n\n",
    "\\end{bmatrix}\n",
    "\\begin{bmatrix}\n",
    "q_1 & q_2 & \\dots & q_n\n",
    "\\end{bmatrix}\n",
    "= \n",
    "\\begin{bmatrix}\n",
    "\\text{dot}(q_1,q_1) & \\text{dot}(q_1,q_2) & \\dots & \\text{dot}(q_1,q_n) \\\\\n",
    "\\text{dot}(q_2,q_1) & \\text{dot}(q_2,q_2) & \\dots & \\dots \\\\\n",
    "\\vdots & \\vdots & \\vdots & \\vdots \\\\\n",
    "\\text{dot}(q_n,q_1) & \\text{dot}(q_n,q_2) & \\dots & \\text{dots}(q_n,q_n)\\\\\n",
    "\\\\\n",
    "\\end{bmatrix}\n",
    "=\n",
    "\\begin{bmatrix}\n",
    "1 & 0 & \\dots & 0\\\\\n",
    "0 & 1 & \\dots & 0\\\\\n",
    "\\vdots & \\vdots & \\ddots & \\vdots \\\\\n",
    "0 & 0 & \\dots & 1\\\\\n",
    "\n",
    "\n",
    "\\end{bmatrix}\n",
    "\\end{aligned}"
   ]
  },
  {
   "attachments": {},
   "cell_type": "markdown",
   "metadata": {},
   "source": [
    "이는 같은 벡터끼리 내적을 하면 1이고  다른벡터끼리 내적하면 0임을 의미한다."
   ]
  },
  {
   "attachments": {},
   "cell_type": "markdown",
   "metadata": {},
   "source": [
    "\\begin{aligned}\n",
    "dot(q_i,q_j) = \n",
    "\\begin{cases}\n",
    "1 \\quad (i = j)\\\\\n",
    "0 \\quad (\\text{otherwise})\n",
    "\\end{cases}\n",
    "\\text{for all }i \\in (1,\\dots,n),\\,j \\in (1,\\dots,n)\n",
    "\\end{aligned}"
   ]
  },
  {
   "attachments": {},
   "cell_type": "markdown",
   "metadata": {},
   "source": [
    "그러므로, 임의의 벡터$q_i$의 크기는 1인 unit vector이며  열벡터들은 orthonormal하다."
   ]
  },
  {
   "attachments": {},
   "cell_type": "markdown",
   "metadata": {},
   "source": [
    "\\begin{aligned}\n",
    "&\\text{for all }i \\in (1,...,n), j \\in (1,...,n) \\\\\n",
    "&|q_i| = \\sqrt{q_i} = \\sqrt{dot(q_i,q_i)} = 1 \\\\\n",
    "&dot(q_i,q_j)=0 \\longleftrightarrow q_i\\perp q_j\n",
    "\n",
    "\\end{aligned}"
   ]
  },
  {
   "attachments": {},
   "cell_type": "markdown",
   "metadata": {},
   "source": [
    "$Q$의 행벡터를 $q_i^T$로 잡고 동일한 과정을 수행하면 행벡터들도 orthonormal하다는 것을 알 수 있다."
   ]
  },
  {
   "attachments": {},
   "cell_type": "markdown",
   "metadata": {},
   "source": [
    "# <span style = \"color : black\"> **expression 2**"
   ]
  },
  {
   "attachments": {},
   "cell_type": "markdown",
   "metadata": {},
   "source": [
    "또한 정의에 대한 expression1은 다음의 식과 동치이다."
   ]
  },
  {
   "attachments": {},
   "cell_type": "markdown",
   "metadata": {},
   "source": [
    "\\begin{aligned}\n",
    "&Q^T = Q^{-1} \\\\\n",
    "\\end{aligned}"
   ]
  },
  {
   "attachments": {},
   "cell_type": "markdown",
   "metadata": {},
   "source": [
    "즉,어떤 행렬의 transpose가 그것의 inverse와 같으면 orthonormal matrix라는 것이며 이것또한 orthonormal matrix의 정의이다."
   ]
  },
  {
   "attachments": {},
   "cell_type": "markdown",
   "metadata": {},
   "source": [
    "왜 그런가 하면 expression1에서 $Q^TQ = QQ^T = I$였다. 그러므로 $Q$의 역행렬$Q^{-1}$는 $Q^T$와 같다.<br>\n",
    "(Q의 역행렬은 $Q^{-1}Q = QQ{-1} = I$를 만족하는 행렬이다.)"
   ]
  }
 ],
 "metadata": {
  "kernelspec": {
   "display_name": "base",
   "language": "python",
   "name": "python3"
  },
  "language_info": {
   "codemirror_mode": {
    "name": "ipython",
    "version": 3
   },
   "file_extension": ".py",
   "mimetype": "text/x-python",
   "name": "python",
   "nbconvert_exporter": "python",
   "pygments_lexer": "ipython3",
   "version": "3.9.13"
  },
  "orig_nbformat": 4,
  "vscode": {
   "interpreter": {
    "hash": "0478b8cb1c47bafb71305148a49d30528a4d9c22ca2de336c01aa5a8230a459a"
   }
  }
 },
 "nbformat": 4,
 "nbformat_minor": 2
}
