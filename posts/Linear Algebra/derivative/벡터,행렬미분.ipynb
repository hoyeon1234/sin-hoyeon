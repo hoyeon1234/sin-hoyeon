{
 "cells": [
  {
   "cell_type": "raw",
   "metadata": {},
   "source": [
    "---\n",
    "author: 신호연\n",
    "title: \"[Linear Algebra] Appendix\"\n",
    "format: \n",
    "  html:\n",
    "    linkcolor: blue\n",
    "categories: [Linear Algebra]\n",
    "image: ../Linear_subspaces_with_shading.svg\n",
    "---"
   ]
  },
  {
   "attachments": {},
   "cell_type": "markdown",
   "metadata": {},
   "source": [
    "# background"
   ]
  },
  {
   "attachments": {},
   "cell_type": "markdown",
   "metadata": {},
   "source": [
    "## Total Derivative"
   ]
  },
  {
   "attachments": {},
   "cell_type": "markdown",
   "metadata": {},
   "source": [
    "- 다변수 스칼라함수를 생각해보자. 즉 2개이상의 변수가 input이며 ouput은 하나의 스칼라인 함수이다.\n",
    "- 만약 함수를 이루는 모든 변수가 각각 조금씩 바뀐다면? $\\to$ 함숫값도 작지만 아주 조금 변화할 것이다.\n",
    "- 전미분은 위와 같은 상황 즉, 다변수 함수의 모든 변수가 조금씩 변화했을때 함숫값의 변화량을 근사하는 양이다.(from wikipedia)\n",
    "    - 다변수함수의 미소증분"
   ]
  },
  {
   "attachments": {},
   "cell_type": "markdown",
   "metadata": {},
   "source": [
    "::: {.callout-note icon=false}\n",
    "# Definition of total derivative\n",
    "\\begin{aligned}\n",
    "&df = \\frac{\\partial{f}}{\\partial{x_1}}dx_1+\\frac{\\partial{f}}{\\partial{x_2}}dx_2+\\dots+\\frac{\\partial{f}}{\\partial{x_n}}dx_n \\\\\n",
    "&\\text{where } f : \\mathbb{R}^n \\rightarrow \\mathbb{R}\n",
    "\\end{aligned}\n",
    ":::"
   ]
  },
  {
   "attachments": {},
   "cell_type": "markdown",
   "metadata": {},
   "source": [
    "추가설명(엄밀한 notation 제외)"
   ]
  },
  {
   "attachments": {},
   "cell_type": "markdown",
   "metadata": {},
   "source": [
    "- 편미분 $\\frac{\\partial{f}}{\\partial{x}}$는 임의의 변수 x의 단위변화량이다.\n",
    "    - x를 매우 미소하게 증가시키고 : $x \\overset{+dx}{\\to} x+dx$\n",
    "    - 이에 따라서 f가 얼마나 변화했는지 그 양을 측정한 뒤 : $f(x+dx) - f(x)$\n",
    "    - \"**x가 1만큼 증가하면 얼마나 f는 변화해?**\"를 측정한 값(비율)이다.  : $\\frac{f(x+dx) - f(x)}{dx}$\n",
    "        - 하나의 변수 x의 매우 조그마하고 순간적인 변화에 의해 함숫값의 변화가 아주 조금 변할 때\n",
    "        - 이러한 조그마한 변화가 변수가 1만큼 증가하는 것을 기준으로 삼는 경우에는 얼마정도 일지 측정한 단위(길이에 대한)변화량이다.\n",
    "        - 느낌 : 이런 **순간적인 변화를 1만큼 계속 유지하면 얼마나 변화할까?**\n",
    "    - 정리하자면 **임의의 단일변수의 미소변화에 대한 단위변화량**이다.(딱딱한 정의)\n",
    "    - 여러개의 변수가 있지만 하나의 변수만 조금 변화시킨뒤 측정한다.(그래서 `편`미분이다.)\n",
    "    - 사실 식이 엄밀하진 않다.위의 표현은 상미분에 대한 표현이다.\n",
    "    - 자세한 표현식은 [wiki](https://en.wikipedia.org/wiki/Partial_derivative)를 참조하자.\n"
   ]
  },
  {
   "attachments": {},
   "cell_type": "markdown",
   "metadata": {},
   "source": [
    "- 단위변화량을 어떤 값과 곱해주면 변화량이 나온다.\n",
    "    - 밥을 100g먹으면 몸무게가 5kg 찐다고 하자.(ㅜㅜ억울한 상황이다.)\n",
    "    - 그렇다는 것은 1g먹으면 0.05kg이 찐다는 것을 암시하며\n",
    "    - 이는 밥(x) 1g에 대한 몸무게(f)의 단위변화량은 0.05kg이다. $\\Longleftrightarrow= \\frac{\\partial f}{\\partial x} = 0.05$\n",
    "        - 밥 300g 먹으면? $\\frac{\\partial f}{\\partial x}300 = 0.05 \\times 300 = 15$\n",
    "        - 밥 0.03g 먹으면? $\\frac{\\partial f}{\\partial x}0.03 = 0.05 \\times 0.03 = 0.0015$\n",
    "        - 밥 $db$만큼(진짜조금) 먹으면? $\\frac{\\partial f}{\\partial x}db = 0.05 \\times db$"
   ]
  },
  {
   "attachments": {},
   "cell_type": "markdown",
   "metadata": {},
   "source": [
    "- 변화를 시키는 여러가지 요인을 전부 고려하면?\n",
    "    - 밥($x_1$)도 조금먹고 물도 조금($x_2$)먹고 조금 자다가($x_3$) 운동도 조금($x_4$)하면 몸무게(f)가 어떻게 될까??\n",
    "    - $df = \\frac{\\partial{f}}{\\partial{x_1}}dx_1 + \\frac{\\partial{f}}{\\partial{x_2}}dx_2 + \\frac{\\partial{f}}{\\partial{x_3}}dx_3 + \\frac{\\partial{f}}{\\partial{x_4}}dx_4$"
   ]
  },
  {
   "attachments": {},
   "cell_type": "markdown",
   "metadata": {},
   "source": [
    "## Lagrange multiplier"
   ]
  },
  {
   "attachments": {},
   "cell_type": "markdown",
   "metadata": {},
   "source": [
    "추후 정리"
   ]
  },
  {
   "attachments": {},
   "cell_type": "markdown",
   "metadata": {},
   "source": [
    "# Scalar를 Vector로 미분"
   ]
  },
  {
   "attachments": {},
   "cell_type": "markdown",
   "metadata": {},
   "source": [
    "## Definition"
   ]
  },
  {
   "attachments": {},
   "cell_type": "markdown",
   "metadata": {},
   "source": [
    "- 다음과 같이 길이가 2인  벡터가 input이고 하나의 값을 output하는 스칼라함수를 생각해보자.\n",
    "- 이 함수는 다른 시각으로 2개의 변수를 input으로 받는 다변수 스칼라 함수로 생각할 수도 있다."
   ]
  },
  {
   "attachments": {},
   "cell_type": "markdown",
   "metadata": {},
   "source": [
    "\\begin{aligned}\n",
    "f\\big(\\begin{bmatrix}x_1 \\\\ x_2\\end{bmatrix}\\big)\n",
    "= f(x_1,x_2)\n",
    "\\end{aligned}"
   ]
  },
  {
   "attachments": {},
   "cell_type": "markdown",
   "metadata": {},
   "source": [
    "- 위와 같은 스칼라함수의 벡터에 대한 미분은 다음과 같이 정의된다."
   ]
  },
  {
   "attachments": {},
   "cell_type": "markdown",
   "metadata": {},
   "source": [
    "::: {.callout-note icon=false}\n",
    "# 다변수 스칼라함수의 벡터미분에 대한 정의\n",
    "\\begin{aligned}\n",
    "&\\frac{\\partial{f}}{\\partial{x^T}} := \\begin{bmatrix}\\frac{\\partial{f}}{\\partial{x_1}} & \\frac{\\partial{f}}{\\partial{x_2}} & \\dots & \\frac{\\partial{f}}{\\partial{x_n}}\\end{bmatrix}\\\\\n",
    "&\\text{where } f:\\mathbb{R}^n \\to \\mathbb{R}\\,,x = \\begin{bmatrix}x_1,x_2,\\dots,x_n\\end{bmatrix}^T\n",
    "\\end{aligned}\n",
    ":::"
   ]
  },
  {
   "attachments": {},
   "cell_type": "markdown",
   "metadata": {},
   "source": [
    "- 왜 $\\partial{x^T}$일까?\n",
    "    - input은 column vector인데 output은 row vector이다.\n",
    "    - 그래서 눕혀서 transpose\n",
    "- 그런데 사실 많은 곳에서 notation을 헷갈리게 한다.\n",
    "    - 미분의 결과를 column vector로 적는 곳도 많고\n",
    "    - $\\partial{x^T}$대신 $\\partial{x}$로 적는 곳도 많다.\n",
    "    - 그래서 그냥 **함수를 이루는 모든 변수에 대해서 미분해본뒤 모아놓은 거구나** 이렇게 기억해놓는게 좋다."
   ]
  },
  {
   "attachments": {},
   "cell_type": "markdown",
   "metadata": {},
   "source": [
    "## ★쉽게 미분 구하기★"
   ]
  },
  {
   "attachments": {},
   "cell_type": "markdown",
   "metadata": {},
   "source": [
    "- 정석적으로 구하려면 위의 정의에 해당하는 모든 component를 각각 편미분 취해서 구해줘야 한다.\n",
    "- 이건 너무 번거로운 과정이며 더 쉽게 구하는 방법이 있다.\n",
    "- $df$는 정의는 다음과 같다"
   ]
  },
  {
   "attachments": {},
   "cell_type": "markdown",
   "metadata": {},
   "source": [
    "\\begin{aligned}\n",
    "&df := f(x+ dx) - f(x)\\\\\n",
    "&\\text{where } f:\\mathbb{R}^n \\to \\mathbb{R},x = \\begin{bmatrix}x_1,x_2,\\dots,x_n\\end{bmatrix}^T,dx = \\begin{bmatrix}dx_1,dx_2,\\dots,dx_n\\end{bmatrix}^T\n",
    "\\end{aligned}"
   ]
  },
  {
   "attachments": {},
   "cell_type": "markdown",
   "metadata": {},
   "source": [
    "- 또한 $df$의 total derivative는 정의에 의해 다음과 같다.(두 번째 정의라고 생각해도 무방하다.)"
   ]
  },
  {
   "attachments": {},
   "cell_type": "markdown",
   "metadata": {},
   "source": [
    "\\begin{aligned}\n",
    "df &:= \\frac{\\partial{f}}{\\partial{x_1}}dx_1+\\frac{\\partial{f}}{\\partial{x_2}}dx_2+\\dots+\\frac{\\partial{f}}{\\partial{x_n}}dx_n \\\\\n",
    "&= \\begin{bmatrix}\\frac{\\partial{f}}{\\partial{x_1}} & \\frac{\\partial{f}}{\\partial{x_2}} & \\dots & \\frac{\\partial{f}}{\\partial{x_n}}\\end{bmatrix}\n",
    "\\begin{bmatrix}dx_1\\\\dx_2\\\\ \\vdots \\\\ dx_n \\end{bmatrix}\\\\\n",
    "&= \\frac{\\partial{f}}{\\partial{x}^T}dx\n",
    "\\end{aligned}"
   ]
  },
  {
   "attachments": {},
   "cell_type": "markdown",
   "metadata": {},
   "source": [
    "- 두 정의를 모아서 정리해보자."
   ]
  },
  {
   "attachments": {},
   "cell_type": "markdown",
   "metadata": {},
   "source": [
    "\\begin{align}\n",
    "df &= f(x+ dx) - f(x) \\\\\n",
    "&= \\frac{\\partial{f}}{\\partial{x}^T}dx\n",
    "\\end{align}"
   ]
  },
  {
   "attachments": {},
   "cell_type": "markdown",
   "metadata": {},
   "source": [
    "- 그래서 어떻게 구할까?\n",
    "    - (1)을 통해서 $df$를 계산한 후\n",
    "    - (2)와 같은 형식을 어떻게든 만들고\n",
    "    - dx앞에 있는 항이 원하는 미분이다.\n",
    "- 주의\n",
    "    - $f(x+dx)$를 계산하는 과정에서 $dx^Tdx,dx_1dx_2$와 같은 2차 이상의 항이 나올 수 있다.\n",
    "    - 이건 그냥 제외시키면 된다. 즉, 1차항만을 남기고는 싹 지우면 된다.\n",
    "    - 왜 그럴까?(엄밀하지 않은 증명)\n",
    "        - $df = f(x+dx) - f(x) = dx^Tdx = dx^2$라 해보자.(dx^2처럼 쓸 수 있다.)\n",
    "        - 여기서 $dx$가 벡터가 아니라 스칼라라고 생각해보면 $dx$로 양변을 나눌 수 있다.\n",
    "        - 양변을 $dx$로 나누고 (2)에 의하여 $\\frac{df}{dx} = dx = \\frac{\\partial f}{\\partial x^T}$이다.\n",
    "        - 미분의 정의에 의해 $dx \\to 0$ 이므로 $dx^2$와 비슷한 2차이상의 항에 대한 $\\frac{\\partial{f}}{\\partial{x^T}} = 0$이다.\n",
    "        - 따라서 2차이상의 항이 나오면 $\\frac{\\partial{f}}{\\partial{x^T}} = 0$이 될 것이므로 제외를 시켜줘도 된다.\n",
    "        - 사실 벡터미분이기 때문에 나눠줄 수 없어서 엄밀한 증명은 아니다."
   ]
  },
  {
   "attachments": {},
   "cell_type": "markdown",
   "metadata": {},
   "source": [
    "### 예시"
   ]
  },
  {
   "attachments": {},
   "cell_type": "markdown",
   "metadata": {},
   "source": [
    "- $f(x) = (y-Ax)^T(y-Ax)$일때 $\\frac{\\partial{f}}{\\partial{x^T}}$를 구해보자."
   ]
  },
  {
   "attachments": {},
   "cell_type": "markdown",
   "metadata": {},
   "source": [
    "![](./vector%20derivative.png)"
   ]
  },
  {
   "attachments": {},
   "cell_type": "markdown",
   "metadata": {},
   "source": [
    "# 참고자료"
   ]
  },
  {
   "attachments": {},
   "cell_type": "markdown",
   "metadata": {},
   "source": [
    "[혁펜하임 - [딥러닝] 5-1강. 스칼라를 벡터로 미분 | 10분 투자로 평생가는 실력!](https://www.youtube.com/watch?v=JYOA2zNL9bw)"
   ]
  },
  {
   "cell_type": "markdown",
   "metadata": {},
   "source": []
  }
 ],
 "metadata": {
  "kernelspec": {
   "display_name": "base",
   "language": "python",
   "name": "python3"
  },
  "language_info": {
   "codemirror_mode": {
    "name": "ipython",
    "version": 3
   },
   "file_extension": ".py",
   "mimetype": "text/x-python",
   "name": "python",
   "nbconvert_exporter": "python",
   "pygments_lexer": "ipython3",
   "version": "3.9.13"
  },
  "orig_nbformat": 4
 },
 "nbformat": 4,
 "nbformat_minor": 2
}
