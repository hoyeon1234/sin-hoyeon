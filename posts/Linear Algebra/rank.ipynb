{
 "cells": [
  {
   "cell_type": "raw",
   "metadata": {},
   "source": [
    "---\n",
    "author: 신호연\n",
    "date: 2023-01-02\n",
    "title: rank & null space\n",
    "format: html\n",
    "categories: [Linear Algebra]\n",
    "---\n",
    "rank와 null space에 관한 정리"
   ]
  },
  {
   "attachments": {},
   "cell_type": "markdown",
   "metadata": {},
   "source": [
    "# <span style = \"color:#00994C\">**rank (행렬의 계수)**\n",
    "랭크란 임의의 행렬에서 선형독립(linearly independent)인 (열)벡터들의 최대갯수를 의미한다. 열공간은 열벡터들의 일차결합으로 생성되는 벡터공간이고 열공간의 기저는 선형독립인 벡터들의 집합들 중에서 원소의 갯수가 가장 많은 벡터들의 집합과 같으므로 행렬의 계수 = 열공간의 차원이 성립한다."
   ]
  },
  {
   "attachments": {},
   "cell_type": "markdown",
   "metadata": {},
   "source": [
    "# <span style = \"color:#00994C\">**rank theorem**"
   ]
  },
  {
   "attachments": {},
   "cell_type": "markdown",
   "metadata": {},
   "source": [
    "행렬에서의 랭크정리 : independent한 column의 수 = independent한 row의 수 또는 열공간의 차원 = 행공간의 차원 <br>\n",
    "$$\\text{rank}(A) = \\text{rank}(A^T)$$\n"
   ]
  },
  {
   "attachments": {},
   "cell_type": "markdown",
   "metadata": {},
   "source": [
    "## **예제**\n",
    "\n",
    "\\begin{bmatrix}\n",
    "1&2&3\\\\\n",
    "0&0&0\n",
    "\\end{bmatrix}\n",
    "위에 있는 행렬에서 선형독립인 열벡터의 갯수 = 1이다. 또한 선형독립인 열벡터의 갯수 = 선형독립인 행벡터의 갯수 = 열공간의 차원 = 행공간의 차원이므로 랭크정리도 성립한다.<br>\n",
    "\n",
    "위와 같은 $2 \\times 3$ 행렬은 랭크보다 행,열의 갯수가 많이 부족하므로 rank-deficient 라고 한다."
   ]
  },
  {
   "attachments": {},
   "cell_type": "markdown",
   "metadata": {},
   "source": [
    "\\begin{bmatrix}\n",
    "1&0&1\\\\\n",
    "0&1&1\n",
    "\\end{bmatrix}\n",
    "위에 있는 행렬에서 선형독립인 열벡터의 갯수 = 2이다. 또한 선형독립인 열벡터의 갯수 = 선형독립인 행벡터의 갯수 = 열공간의 차원 = 행공간의 차원이므로 랭크정리도 성립한다.<br>\n",
    "\n",
    "위와 같은 행렬은 행의 갯수만큼 랭크가 다 차있으므로 full row rank라 한다."
   ]
  },
  {
   "attachments": {},
   "cell_type": "markdown",
   "metadata": {},
   "source": [
    "$3 \\times 2$짜리 행렬의 rank = 2이면 ? => full column rank<br>\n",
    "$3 \\times 3$짜리 행렬의 rank = 3이면? => full rank<br>\n",
    "$3 \\times 3$짜리 행렬의 rank = 2이면? => rank deficient라 한다.\n",
    "\n",
    "정사각행렬의 경우는 full rank or rank deficient <br>\n",
    "정사각행렬이 아닌 경우는 full column rank or full row rank or rank deficient <br>"
   ]
  },
  {
   "cell_type": "markdown",
   "metadata": {},
   "source": []
  }
 ],
 "metadata": {
  "kernelspec": {
   "display_name": "base",
   "language": "python",
   "name": "python3"
  },
  "language_info": {
   "codemirror_mode": {
    "name": "ipython",
    "version": 3
   },
   "file_extension": ".py",
   "mimetype": "text/x-python",
   "name": "python",
   "nbconvert_exporter": "python",
   "pygments_lexer": "ipython3",
   "version": "3.9.13 (main, Aug 25 2022, 23:51:50) [MSC v.1916 64 bit (AMD64)]"
  },
  "orig_nbformat": 4,
  "vscode": {
   "interpreter": {
    "hash": "0478b8cb1c47bafb71305148a49d30528a4d9c22ca2de336c01aa5a8230a459a"
   }
  }
 },
 "nbformat": 4,
 "nbformat_minor": 2
}
