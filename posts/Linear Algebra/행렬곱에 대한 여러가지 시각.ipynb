{
 "cells": [
  {
   "cell_type": "raw",
   "metadata": {},
   "source": [
    "---\n",
    "author: 신호연\n",
    "date: 2023-01-02\n",
    "title: 행렬곱에 대한 여러가지 관점\n",
    "format: html\n",
    "categories: [Linear Algebra]\n",
    "---\n",
    "유튜브 - 혁펜하임 선형대수학 강의 정리용 입니다."
   ]
  },
  {
   "attachments": {},
   "cell_type": "markdown",
   "metadata": {},
   "source": [
    "# <span style = \"color: #00994C\">**행렬곱은 내적이다.**"
   ]
  },
  {
   "attachments": {},
   "cell_type": "markdown",
   "metadata": {},
   "source": [
    "\\begin{aligned}\n",
    "&\\text{Let }A \\in \\mathbb{R}^{m \\times n},B \\in \\mathbb{R}^{n \\times p} \\\\\n",
    "&AB = \n",
    "\\begin{bmatrix}\n",
    "a_1^T\\\\\n",
    "a_2^T\\\\\n",
    "\\vdots\\\\\n",
    "a_m^T\\\\\n",
    "\\end{bmatrix} \n",
    "\\begin{bmatrix}\n",
    "b_1 & b_2 & \\dots & b_p\n",
    "\\end{bmatrix}=\n",
    "\\begin{bmatrix}\n",
    "a_1^Tb_1 & a_1^Tb_2 & \\dots & a_1^Tb_p \\\\\n",
    "a_2^Tb_1 & a_2^Tb_2 & \\dots & a_2^Tb_p \\\\\n",
    "\\vdots & \\vdots  & \\vdots & \\vdots \\\\\n",
    "a_{m}^Tb_1 & a_m^Tb_2 & \\dots & a_m^Tb_p \\\\\n",
    "\\end{bmatrix}\n",
    "\\end{aligned}"
   ]
  },
  {
   "attachments": {},
   "cell_type": "markdown",
   "metadata": {},
   "source": [
    "# <span style = \"color: #00994C\">**행렬곱은 rank-1 matrix의 합이다.**"
   ]
  },
  {
   "attachments": {},
   "cell_type": "markdown",
   "metadata": {},
   "source": [
    "\\begin{aligned}\n",
    "&\\text{Let }A \\in \\mathbb{R}^{m \\times n},B \\in \\mathbb{R}^{n \\times p} \\\\\n",
    "&AB = \n",
    "\\begin{bmatrix}\n",
    "a_1 & a_2 & \\dots & a_n\n",
    "\\end{bmatrix}\n",
    "\\begin{bmatrix}\n",
    "b_1^T \\\\\n",
    "b_2^T \\\\\n",
    "\\vdots \\\\\n",
    "b_n^T\n",
    "\\end{bmatrix}\n",
    "= a_1b_1^T + a_2b_2^T + \\dots + a_nb_n^T\n",
    "\\end{aligned}"
   ]
  },
  {
   "attachments": {},
   "cell_type": "markdown",
   "metadata": {},
   "source": [
    "# <span style = \"color : #00994C\">**행렬과 벡터의 곱은 column space(열공간)을 생성한다.**"
   ]
  },
  {
   "attachments": {},
   "cell_type": "markdown",
   "metadata": {},
   "source": [
    "\\begin{aligned}\n",
    "&\\text{Let }A \\in \\mathbb{R}^{m \\times n},X \\in \\mathbb{R}^{n \\times 1} \\\\\n",
    "&Ax = \n",
    "\\begin{bmatrix}\n",
    "a_1 & a_2 & \\dots & a_n\n",
    "\\end{bmatrix}\n",
    "\\begin{bmatrix}\n",
    "x_1 \\\\\n",
    "x_2 \\\\\n",
    "\\vdots \\\\\n",
    "x_n\n",
    "\\end{bmatrix}\n",
    "= a_1x_1 + a_2x_2 + \\dots + a_nx_n\n",
    "\\end{aligned}\n",
    "\n",
    "$a_1,a_2,\\dots,a_n$은 벡터 $x_1,x_2,\\dots,x_n$은 스칼라이다. $x_1,x_2,\\dots,x_n$을 변수라고 생각할때 그 값이 바뀌어 가면서 일차결합되므로 어떤 벡터공간을 생성할 수 있다. 이 공간은 행렬A의 열공간과 같다.\n",
    "\n",
    "열공간(column space) : 행렬에서 (열)벡터의 일차결합으로 생성되는 벡터공간. 열벡터의 span"
   ]
  },
  {
   "attachments": {},
   "cell_type": "markdown",
   "metadata": {},
   "source": [
    "# <span style = \"color : #00994C\">**행렬과 벡터의 곱은 row space(열공간)을 생성한다.**"
   ]
  },
  {
   "attachments": {},
   "cell_type": "markdown",
   "metadata": {},
   "source": [
    "\\begin{aligned}\n",
    "&\\text{Let }x \\in \\mathbb{R}^{1 \\times n},X \\in \\mathbb{R}^{n \\times p} \\\\\n",
    "&xA = \n",
    "\\begin{bmatrix}\n",
    "x_1 & x_2 & \\dots & x_n\n",
    "\\end{bmatrix}\n",
    "\\begin{bmatrix}\n",
    "a_1^T \\\\\n",
    "a_2^T \\\\\n",
    "\\vdots \\\\\n",
    "a_n\n",
    "\\end{bmatrix}\n",
    "= x_1a_1^T + x_2a_2^T + \\dots + x_na_n^T\n",
    "\\end{aligned}\n",
    "\n",
    "$a_1^T,a_2^T,\\dots,a_n^T$은 벡터 $x_1,x_2,\\dots,x_n$은 스칼라이다. $x_1,x_2,\\dots,x_n$을 변수라고 생각할때 그 값이 바뀌어 가면서 일차결합되므로 어떤 벡터공간을 생성할 수 있다. 이 공간은 행렬A의 행공간과 같다.\n",
    "\n",
    "열공간(column space) : 행렬에서 행벡터의 일차결합으로 생성되는 벡터공간. 행벡터의 span"
   ]
  },
  {
   "attachments": {},
   "cell_type": "markdown",
   "metadata": {},
   "source": [
    "# <span style = \"color : #00994C\">**참고문헌**"
   ]
  },
  {
   "attachments": {},
   "cell_type": "markdown",
   "metadata": {},
   "source": [
    "혁펜하임 - [선대 2-5강. 행렬의 곱셈과 네 가지 관점 (열공간 (column space) 등)](https://www.youtube.com/watch?v=Lo8FsB1anzQ&list=PL_iJu012NOxdZDxoGsYidMf2_bERIQaP0&index=7&ab_channel=%ED%98%81%ED%8E%9C%ED%95%98%EC%9E%84)"
   ]
  },
  {
   "cell_type": "raw",
   "metadata": {},
   "source": []
  },
  {
   "cell_type": "raw",
   "metadata": {},
   "source": []
  }
 ],
 "metadata": {
  "kernelspec": {
   "display_name": "base",
   "language": "python",
   "name": "python3"
  },
  "language_info": {
   "codemirror_mode": {
    "name": "ipython",
    "version": 3
   },
   "file_extension": ".py",
   "mimetype": "text/x-python",
   "name": "python",
   "nbconvert_exporter": "python",
   "pygments_lexer": "ipython3",
   "version": "3.9.13 (main, Aug 25 2022, 23:51:50) [MSC v.1916 64 bit (AMD64)]"
  },
  "orig_nbformat": 4,
  "vscode": {
   "interpreter": {
    "hash": "0478b8cb1c47bafb71305148a49d30528a4d9c22ca2de336c01aa5a8230a459a"
   }
  }
 },
 "nbformat": 4,
 "nbformat_minor": 2
}
