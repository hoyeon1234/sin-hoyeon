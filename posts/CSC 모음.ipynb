{
 "cells": [
  {
   "cell_type": "markdown",
   "id": "5763dcd1",
   "metadata": {},
   "source": [
    "# 구구단"
   ]
  },
  {
   "cell_type": "code",
   "execution_count": 1,
   "id": "29253766",
   "metadata": {},
   "outputs": [
    {
     "name": "stdout",
     "output_type": "stream",
     "text": [
      "원하는 단은:\n"
     ]
    },
    {
     "ename": "ValueError",
     "evalue": "invalid literal for int() with base 10: ''",
     "output_type": "error",
     "traceback": [
      "\u001b[1;31m---------------------------------------------------------------------------\u001b[0m",
      "\u001b[1;31mValueError\u001b[0m                                Traceback (most recent call last)",
      "\u001b[1;32m~\\AppData\\Local\\Temp\\ipykernel_21036\\869764282.py\u001b[0m in \u001b[0;36m<module>\u001b[1;34m\u001b[0m\n\u001b[1;32m----> 1\u001b[1;33m \u001b[0mdan\u001b[0m \u001b[1;33m=\u001b[0m \u001b[0mint\u001b[0m\u001b[1;33m(\u001b[0m\u001b[0minput\u001b[0m\u001b[1;33m(\u001b[0m\u001b[1;34m\"원하는 단은:\"\u001b[0m\u001b[1;33m)\u001b[0m\u001b[1;33m)\u001b[0m\u001b[1;33m\u001b[0m\u001b[1;33m\u001b[0m\u001b[0m\n\u001b[0m\u001b[0;32m      2\u001b[0m \u001b[1;32mfor\u001b[0m \u001b[0mi\u001b[0m \u001b[1;32min\u001b[0m \u001b[0mrange\u001b[0m\u001b[1;33m(\u001b[0m\u001b[1;36m1\u001b[0m\u001b[1;33m,\u001b[0m\u001b[1;36m10\u001b[0m\u001b[1;33m)\u001b[0m\u001b[1;33m:\u001b[0m\u001b[1;33m\u001b[0m\u001b[1;33m\u001b[0m\u001b[0m\n\u001b[0;32m      3\u001b[0m     \u001b[0mvalue\u001b[0m \u001b[1;33m=\u001b[0m \u001b[0mdan\u001b[0m \u001b[1;33m*\u001b[0m \u001b[0mi\u001b[0m\u001b[1;33m\u001b[0m\u001b[1;33m\u001b[0m\u001b[0m\n\u001b[0;32m      4\u001b[0m     \u001b[0mprint\u001b[0m\u001b[1;33m(\u001b[0m\u001b[1;34m\"{}*{}={}\"\u001b[0m\u001b[1;33m.\u001b[0m\u001b[0mformat\u001b[0m\u001b[1;33m(\u001b[0m\u001b[0mdan\u001b[0m\u001b[1;33m,\u001b[0m\u001b[0mi\u001b[0m\u001b[1;33m,\u001b[0m\u001b[0mvalue\u001b[0m\u001b[1;33m)\u001b[0m \u001b[1;33m)\u001b[0m\u001b[1;33m\u001b[0m\u001b[1;33m\u001b[0m\u001b[0m\n",
      "\u001b[1;31mValueError\u001b[0m: invalid literal for int() with base 10: ''"
     ]
    }
   ],
   "source": [
    "dan = int(input(\"원하는 단은:\"))\n",
    "for i in range(1,10):\n",
    "    value = dan * i\n",
    "    print(\"{}*{}={}\".format(dan,i,value) )"
   ]
  },
  {
   "cell_type": "markdown",
   "id": "0cb858e5",
   "metadata": {},
   "source": [
    "# 1부터 10까지의 합 계산"
   ]
  },
  {
   "cell_type": "code",
   "execution_count": null,
   "id": "95449aca",
   "metadata": {},
   "outputs": [],
   "source": [
    "num = 1\n",
    "total = 0\n",
    "while num<=10:\n",
    "    total = total + num\n",
    "    num+=1\n",
    "print(total)"
   ]
  },
  {
   "cell_type": "markdown",
   "id": "4c2176a7",
   "metadata": {},
   "source": [
    "# 사용자가 입력하는 숫자의 합 계산"
   ]
  },
  {
   "cell_type": "code",
   "execution_count": null,
   "id": "5edfbedf",
   "metadata": {},
   "outputs": [],
   "source": [
    "total = 0\n",
    "inpt = \"yes\"\n",
    "while inpt == \"yes\":\n",
    "    total = total + int(input(\"숫자를 입력하시오\"))\n",
    "    inpt = input(\"계속?(yes/no):\")\n",
    "print(\"합계는: {}\".format(total))"
   ]
  },
  {
   "cell_type": "markdown",
   "id": "50fedf1d",
   "metadata": {},
   "source": [
    "# 숫자 맞추기 게임"
   ]
  },
  {
   "cell_type": "code",
   "execution_count": null,
   "id": "8f1f5df9",
   "metadata": {},
   "outputs": [],
   "source": [
    "import random\n",
    "print(\"1부터 100 사이의 숫자를 맞추시오\")\n",
    "num = random.randint(1,100)\n",
    "inpt = 0\n",
    "count = 0\n",
    "while inpt != num:\n",
    "    inpt = int(input(\"숫자를 입력하시오:\"))\n",
    "    count+=1\n",
    "    if inpt < num:\n",
    "        print(\"낮음\")\n",
    "    elif inpt > num:\n",
    "        print(\"높음\")\n",
    "print(\"축하합니다. 시도횟수={}\".format(count))        "
   ]
  },
  {
   "cell_type": "markdown",
   "id": "de91ec95",
   "metadata": {},
   "source": [
    "# 자음과 모음의 개수 카운팅하기"
   ]
  },
  {
   "cell_type": "code",
   "execution_count": null,
   "id": "bbe1b0d2",
   "metadata": {},
   "outputs": [],
   "source": [
    "def countVowel(string): \n",
    "    count = 0\n",
    "    for ch in string:\n",
    "        if ch in ['a','e','i','o','u']: \n",
    "            count += 1\n",
    "    return count\n",
    "s = input(\"문자열을  입력하시오: \") \n",
    "n = countVowel(s)\n",
    "print(f\"모음의 개수는 {n}개입니다.\")"
   ]
  },
  {
   "cell_type": "markdown",
   "id": "79bd878c",
   "metadata": {},
   "source": [
    "- 틀린부분 있지만 걍 해 ~"
   ]
  },
  {
   "cell_type": "markdown",
   "id": "93d64a9a",
   "metadata": {},
   "source": [
    "# 지역변수 전역변수 개념"
   ]
  },
  {
   "cell_type": "markdown",
   "id": "5d9698a0",
   "metadata": {},
   "source": [
    "- 지역변수?->함수 안에서 선언 + 할당,함수안에서만 사용 가능함. 함수가 종료되면 소멸\n",
    "- 전역변수?->함수 밖에서 선언 + 할당,함수안팎에서 모두 사용가능함. 사라지지 않아요\n",
    "- 함수안에서 전역변수를 선언 + 할당하려면?\n",
    "    1. Glboal로 함수안에서 먼저 선언\n",
    "    2. 그 후 =로 할당"
   ]
  },
  {
   "cell_type": "code",
   "execution_count": null,
   "id": "3f7a199b",
   "metadata": {},
   "outputs": [],
   "source": [
    "def calculate_area(radius):\n",
    "    global area\n",
    "    area = 2 * 3.14 * radius\n",
    "    return \n",
    "r = float(input(\"원의 반지름:\"))\n",
    "calculate_area(5)\n",
    "print(area)"
   ]
  },
  {
   "cell_type": "markdown",
   "id": "5c9e518b",
   "metadata": {},
   "source": [
    "# keyword argument  vs positional argument"
   ]
  },
  {
   "cell_type": "markdown",
   "id": "1e7f01f7",
   "metadata": {},
   "source": [
    "- keyword argument와 positional argument는 매개변수(parameter)에 인수(argument)를 전달하는 `방법`이다.\n",
    "    - keyword argument : 함수 호출 시, 인수를 전달받을 파라미터를 명시적으로 알려줌으로서 인수를 파라미터에 전달하는 방법.\n",
    "    - positional argument : 함수 호출 시,인수를 전달받을 파라미터의 위치에 맞게 인수를 넣어줌으로서 인수를 파라미터에 전달하는 방법."
   ]
  },
  {
   "cell_type": "code",
   "execution_count": 2,
   "id": "a9c64999",
   "metadata": {},
   "outputs": [],
   "source": [
    "def calc(x,y,z):\n",
    "    return x+y+z\n"
   ]
  },
  {
   "cell_type": "code",
   "execution_count": 3,
   "id": "5b451e23",
   "metadata": {},
   "outputs": [
    {
     "name": "stdout",
     "output_type": "stream",
     "text": [
      "12\n"
     ]
    }
   ],
   "source": [
    "answer = calc(x=3,y=4,z=5)\n",
    "print(answer)"
   ]
  },
  {
   "cell_type": "code",
   "execution_count": 4,
   "id": "031db896",
   "metadata": {},
   "outputs": [
    {
     "name": "stdout",
     "output_type": "stream",
     "text": [
      "12\n"
     ]
    }
   ],
   "source": [
    "answer = calc(3,4,5)\n",
    "print(answer)"
   ]
  },
  {
   "cell_type": "markdown",
   "id": "aa322275",
   "metadata": {},
   "source": [
    "안되는 것 : 키워드 인수 뒤에 위치 인수가 나올 수 없다."
   ]
  },
  {
   "cell_type": "code",
   "execution_count": 5,
   "id": "822b2c07",
   "metadata": {},
   "outputs": [
    {
     "ename": "SyntaxError",
     "evalue": "positional argument follows keyword argument (1146439424.py, line 1)",
     "output_type": "error",
     "traceback": [
      "\u001b[1;36m  File \u001b[1;32m\"C:\\Users\\22668\\AppData\\Local\\Temp\\ipykernel_21036\\1146439424.py\"\u001b[1;36m, line \u001b[1;32m1\u001b[0m\n\u001b[1;33m    answer = calc(x=3,y=4,5)\u001b[0m\n\u001b[1;37m                           ^\u001b[0m\n\u001b[1;31mSyntaxError\u001b[0m\u001b[1;31m:\u001b[0m positional argument follows keyword argument\n"
     ]
    }
   ],
   "source": [
    "answer = calc(x=3,y=4,5)\n",
    "print(answer)"
   ]
  },
  {
   "cell_type": "markdown",
   "id": "861cedf9",
   "metadata": {},
   "source": [
    "# 리스트,튜플,딕셔너리,세트"
   ]
  },
  {
   "cell_type": "code",
   "execution_count": 87,
   "id": "792df2b1",
   "metadata": {},
   "outputs": [],
   "source": [
    "myList = [10,20,30,40,50]\n",
    "myTuple = (10,20,30,40,50)\n",
    "myDict = {1:\"one\",2:\"two\",3:\"three\"}\n",
    "mySet = {\"one\",\"two\",\"three\"}"
   ]
  },
  {
   "cell_type": "code",
   "execution_count": 88,
   "id": "b8f950c1",
   "metadata": {},
   "outputs": [
    {
     "data": {
      "text/plain": [
       "{'one', 'three', 'two'}"
      ]
     },
     "execution_count": 88,
     "metadata": {},
     "output_type": "execute_result"
    }
   ],
   "source": [
    "mySet"
   ]
  },
  {
   "cell_type": "code",
   "execution_count": 89,
   "id": "72c44ed8",
   "metadata": {},
   "outputs": [
    {
     "name": "stdout",
     "output_type": "stream",
     "text": [
      "[10, 20, 30, 40, 50, 60]\n"
     ]
    }
   ],
   "source": [
    "myList.append(60)\n",
    "print(myList)"
   ]
  },
  {
   "cell_type": "code",
   "execution_count": 90,
   "id": "0ac3db26",
   "metadata": {},
   "outputs": [
    {
     "name": "stdout",
     "output_type": "stream",
     "text": [
      "[10, 20, 30, 35, 40, 50, 60]\n"
     ]
    }
   ],
   "source": [
    "myList.insert(3,35)\n",
    "print(myList)"
   ]
  },
  {
   "cell_type": "code",
   "execution_count": 91,
   "id": "061aad78",
   "metadata": {},
   "outputs": [
    {
     "data": {
      "text/plain": [
       "[10, 20, 30, 35, 40, 50, 60, 0, 1, 2, 3, 4, 5, 6, 7, 8, 9]"
      ]
     },
     "execution_count": 91,
     "metadata": {},
     "output_type": "execute_result"
    }
   ],
   "source": [
    "myList.extend(range(10))\n",
    "myList"
   ]
  },
  {
   "cell_type": "markdown",
   "id": "4783c4f1",
   "metadata": {},
   "source": [
    "값 삭제"
   ]
  },
  {
   "cell_type": "code",
   "execution_count": 92,
   "id": "ee729001",
   "metadata": {},
   "outputs": [
    {
     "data": {
      "text/plain": [
       "[20, 30, 35, 40, 50, 60, 0, 1, 2, 3, 4, 5, 6, 7, 8, 9]"
      ]
     },
     "execution_count": 92,
     "metadata": {},
     "output_type": "execute_result"
    }
   ],
   "source": [
    "myList.remove(10)\n",
    "myList"
   ]
  },
  {
   "cell_type": "markdown",
   "id": "10fbed66",
   "metadata": {},
   "source": [
    "값 삭제 후 반환(꺼내기)"
   ]
  },
  {
   "cell_type": "code",
   "execution_count": 93,
   "id": "f0ae1891",
   "metadata": {},
   "outputs": [
    {
     "name": "stdout",
     "output_type": "stream",
     "text": [
      "9 [20, 30, 35, 40, 50, 60, 0, 1, 2, 3, 4, 5, 6, 7, 8]\n"
     ]
    }
   ],
   "source": [
    "d = myList.pop(-1)\n",
    "print(d,myList)"
   ]
  },
  {
   "cell_type": "code",
   "execution_count": 94,
   "id": "68316fb6",
   "metadata": {},
   "outputs": [
    {
     "name": "stdout",
     "output_type": "stream",
     "text": [
      "[]\n"
     ]
    }
   ],
   "source": [
    "myList.clear()\n",
    "print(myList)"
   ]
  },
  {
   "cell_type": "code",
   "execution_count": 95,
   "id": "9310a01b",
   "metadata": {},
   "outputs": [
    {
     "data": {
      "text/plain": [
       "{1: 'one', 2: 'two', 3: 'three'}"
      ]
     },
     "execution_count": 95,
     "metadata": {},
     "output_type": "execute_result"
    }
   ],
   "source": [
    "myDict"
   ]
  },
  {
   "cell_type": "code",
   "execution_count": 96,
   "id": "08c2cb93",
   "metadata": {},
   "outputs": [
    {
     "data": {
      "text/plain": [
       "'one'"
      ]
     },
     "execution_count": 96,
     "metadata": {},
     "output_type": "execute_result"
    }
   ],
   "source": [
    "myDict[1]"
   ]
  },
  {
   "cell_type": "code",
   "execution_count": 97,
   "id": "e4ecc9e2",
   "metadata": {},
   "outputs": [
    {
     "data": {
      "text/plain": [
       "'No key'"
      ]
     },
     "execution_count": 97,
     "metadata": {},
     "output_type": "execute_result"
    }
   ],
   "source": [
    "myDict.get(0,\"No key\")"
   ]
  },
  {
   "cell_type": "code",
   "execution_count": 98,
   "id": "5168845c",
   "metadata": {},
   "outputs": [
    {
     "name": "stdout",
     "output_type": "stream",
     "text": [
      "one {2: 'two', 3: 'three'}\n"
     ]
    }
   ],
   "source": [
    "d = myDict.pop(1)\n",
    "print(d,myDict)"
   ]
  },
  {
   "cell_type": "code",
   "execution_count": 99,
   "id": "574a1355",
   "metadata": {},
   "outputs": [
    {
     "name": "stdout",
     "output_type": "stream",
     "text": [
      "(3, 'three') {2: 'two'}\n"
     ]
    }
   ],
   "source": [
    "c = myDict.popitem()\n",
    "print(c,myDict)"
   ]
  },
  {
   "cell_type": "code",
   "execution_count": 101,
   "id": "dc03668d",
   "metadata": {},
   "outputs": [
    {
     "name": "stdout",
     "output_type": "stream",
     "text": [
      "{}\n"
     ]
    }
   ],
   "source": [
    "myDict.clear()\n",
    "print(myDict)"
   ]
  },
  {
   "cell_type": "code",
   "execution_count": 2,
   "id": "f48f3743",
   "metadata": {},
   "outputs": [
    {
     "name": "stdout",
     "output_type": "stream",
     "text": [
      "수연 ['호연']\n"
     ]
    }
   ],
   "source": [
    "names = [\"호연\",\"수연\"]\n",
    "d = names.pop()\n",
    "print(d,names)"
   ]
  },
  {
   "cell_type": "code",
   "execution_count": 5,
   "id": "072631c5",
   "metadata": {},
   "outputs": [
    {
     "data": {
      "text/plain": [
       "['우유', '두부', '소고기']"
      ]
     },
     "execution_count": 5,
     "metadata": {},
     "output_type": "execute_result"
    }
   ],
   "source": [
    "myList = [\"우유\",\"사과\",\"두부\",\"소고기\"]\n",
    "myList.remove(\"사과\")\n",
    "myList"
   ]
  },
  {
   "cell_type": "markdown",
   "id": "1dcf0751",
   "metadata": {},
   "source": [
    "합치기"
   ]
  },
  {
   "cell_type": "code",
   "execution_count": 8,
   "id": "556891b6",
   "metadata": {},
   "outputs": [
    {
     "data": {
      "text/plain": [
       "['호연', '우유', '두부', '소고기']"
      ]
     },
     "execution_count": 8,
     "metadata": {},
     "output_type": "execute_result"
    }
   ],
   "source": [
    "names + myList"
   ]
  },
  {
   "cell_type": "code",
   "execution_count": 11,
   "id": "a07bc6df",
   "metadata": {},
   "outputs": [
    {
     "data": {
      "text/plain": [
       "['우유', '두부', '소고기', '우유', '두부', '소고기']"
      ]
     },
     "execution_count": 11,
     "metadata": {},
     "output_type": "execute_result"
    }
   ],
   "source": [
    "myList = myList * 2\n",
    "myList"
   ]
  },
  {
   "cell_type": "code",
   "execution_count": 12,
   "id": "d57d6272",
   "metadata": {},
   "outputs": [
    {
     "data": {
      "text/plain": [
       "['우유', '두부', '소고기']"
      ]
     },
     "execution_count": 12,
     "metadata": {},
     "output_type": "execute_result"
    }
   ],
   "source": [
    "myList[:3]"
   ]
  },
  {
   "cell_type": "code",
   "execution_count": 13,
   "id": "5eb93644",
   "metadata": {},
   "outputs": [
    {
     "data": {
      "text/plain": [
       "['우유', '두부', '소고기']"
      ]
     },
     "execution_count": 13,
     "metadata": {},
     "output_type": "execute_result"
    }
   ],
   "source": [
    "myList[3:]"
   ]
  },
  {
   "cell_type": "code",
   "execution_count": 14,
   "id": "7a143afe",
   "metadata": {},
   "outputs": [
    {
     "data": {
      "text/plain": [
       "['우유', '두부', '소고기', '우유', '두부', '소고기']"
      ]
     },
     "execution_count": 14,
     "metadata": {},
     "output_type": "execute_result"
    }
   ],
   "source": [
    "myList[:]"
   ]
  },
  {
   "cell_type": "markdown",
   "id": "0ce911c4",
   "metadata": {},
   "source": [
    ".sort 메서드는 원 리스트 자체를 변경"
   ]
  },
  {
   "cell_type": "code",
   "execution_count": 20,
   "id": "f27d5ac0",
   "metadata": {},
   "outputs": [
    {
     "data": {
      "text/plain": [
       "[1, 6, 7, 9]"
      ]
     },
     "execution_count": 20,
     "metadata": {},
     "output_type": "execute_result"
    }
   ],
   "source": [
    "nums = [9,6,7,1]\n",
    "nums.sort()\n",
    "nums"
   ]
  },
  {
   "cell_type": "markdown",
   "id": "536cb570",
   "metadata": {},
   "source": [
    "sorted함수는 iterable이 input  정렬된 객체가 output<br>\n",
    "원래 객체는 그대로 라는 사실 유의<br>\n",
    "바꿔주려면 다시 할당해야함<br>\n",
    "default : 오름차순 reverse = True : 내림차순"
   ]
  },
  {
   "cell_type": "code",
   "execution_count": 27,
   "id": "0c3d0e0a",
   "metadata": {},
   "outputs": [
    {
     "data": {
      "text/plain": [
       "([9, 6, 7, 1], [1, 6, 7, 9], [9, 7, 6, 1])"
      ]
     },
     "execution_count": 27,
     "metadata": {},
     "output_type": "execute_result"
    }
   ],
   "source": [
    "nums = [9,6,7,1]\n",
    "newlist = sorted(nums)\n",
    "newlist2 = sorted(nums,reverse = True)\n",
    "nums,newlist,newlist2"
   ]
  },
  {
   "cell_type": "markdown",
   "id": "1f2afc20",
   "metadata": {},
   "source": [
    "# 이차함수 그래프 그리기"
   ]
  },
  {
   "cell_type": "code",
   "execution_count": 32,
   "id": "ce3a01e7",
   "metadata": {},
   "outputs": [
    {
     "name": "stdout",
     "output_type": "stream",
     "text": [
      "2차항의 계수2\n",
      "1차항의 계수5\n",
      "상수항3\n"
     ]
    },
    {
     "data": {
      "image/png": "[encoded data removed]",
      "text/plain": [
       "<Figure size 640x480 with 1 Axes>"
      ]
     },
     "metadata": {},
     "output_type": "display_data"
    }
   ],
   "source": [
    "import matplotlib.pyplot as plt\n",
    "xlist=  []\n",
    "ylist = []\n",
    "a = int(input(\"2차항의 계수\"))\n",
    "b = int(input(\"1차항의 계수\"))\n",
    "c = int(input(\"상수항\"))\n",
    "for x in range(-100,100,):\n",
    "    y = a*x**2 + b*x + c\n",
    "    xlist.append(x)\n",
    "    ylist.append(y)\n",
    "plt.plot(xlist,ylist)\n",
    "plt.show()"
   ]
  },
  {
   "cell_type": "code",
   "execution_count": null,
   "id": "e1bdb6e9",
   "metadata": {},
   "outputs": [],
   "source": []
  }
 ],
 "metadata": {
  "kernelspec": {
   "display_name": "Python 3 (ipykernel)",
   "language": "python",
   "name": "python3"
  },
  "language_info": {
   "codemirror_mode": {
    "name": "ipython",
    "version": 3
   },
   "file_extension": ".py",
   "mimetype": "text/x-python",
   "name": "python",
   "nbconvert_exporter": "python",
   "pygments_lexer": "ipython3",
   "version": "3.9.13"
  },
  "toc": {
   "base_numbering": 1,
   "nav_menu": {},
   "number_sections": true,
   "sideBar": true,
   "skip_h1_title": false,
   "title_cell": "Table of Contents",
   "title_sidebar": "Contents",
   "toc_cell": false,
   "toc_position": {},
   "toc_section_display": true,
   "toc_window_display": true
  }
 },
 "nbformat": 4,
 "nbformat_minor": 5
}
