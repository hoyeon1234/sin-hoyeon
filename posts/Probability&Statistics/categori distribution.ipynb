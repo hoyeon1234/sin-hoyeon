{
 "cells": [
  {
   "cell_type": "raw",
   "metadata": {},
   "source": [
    "---\n",
    "title: \"카테고리 분포\"\n",
    "format: html\n",
    "author: 신호연\n",
    "date: 2022-12-30\n",
    "categories: [Probability&Statistics]\n",
    "---\n",
    "카테고리 분포에 대한 정리"
   ]
  },
  {
   "attachments": {},
   "cell_type": "markdown",
   "metadata": {},
   "source": [
    "# 카테고리 분포"
   ]
  },
  {
   "attachments": {},
   "cell_type": "markdown",
   "metadata": {},
   "source": [
    "카테고리분포는 시행의 한번의 시행(또는 실험)으로부터 나올 수 있는 사건이 K개인 확률분포를 모델링할때 쓰이며 다음과 같습니다.<br>\n",
    "\\begin{aligned}\n",
    "&Cat({\\bf{x};\\bf{\\mu}}) = \n",
    "\\begin{cases}\n",
    "\\mu_1\\, (\\text{if } x = (1,0,0,0,\\dots,1)) \\\\\n",
    "\\mu_2\\, (\\text{if } x = (0,1,0,0,\\dots,1)) \\\\\n",
    "\\mu_3\\, (\\text{if } x = (0,0,1,0,\\dots,1)) \\\\\n",
    "\\vdots \\\\\n",
    "\\mu_k\\, (\\text{if } x = (0,0,0,0,\\dots,1)) \\\\\n",
    "\\end{cases}\n",
    "\\\\\n",
    "&\\text{where, }x = (x_1,x_2,\\dots,x_K),\\mu = (\\mu_1,\\mu_2,\\dots,\\mu_k)\n",
    "\\end{aligned}\n",
    "\n",
    "카테고리분포의 변수$\\bf{X}$는 K개의 원소를 가지는 원핫인코딩(one-hot encoded)된 벡터이며 각원소는 indicate number(어떤 클래스에 속하는지 나타내는)인 1또는0입니다. 모수(벡터)$\\mu$도 K개의 원소를 가지며 각각의 원소는 카테고리 확률분포로부터 대응하는 결과값(원핫벡터)에 대한 확률입니다. 즉,각각의 원핫벡터가 표본추출될 가능성(확률)을 알려줍니다.<br>\n",
    "\n",
    "위와 같은 사실로부터 다음과 같은 4가지의 제약조건이 존재합니다.<br>\n",
    "\n",
    "1. $\\mu_i$는 원핫벡터가 나올 확률입니다.\n",
    "\n",
    "$$0\\leq\\mu_i\\leq1$$\n",
    "\n",
    "2. 확률의 합은 1입니다.\n",
    "\n",
    "$$\\sum_{i=1}^{K}\\mu_i = 1$$\n",
    "\n",
    "3. 원핫벡터의 각 원소는 indicate number인 1또는 0입니다.\n",
    "\n",
    "\\begin{aligned}\n",
    "x_i = \n",
    "\\begin{cases}\n",
    "0\\\\\n",
    "1\n",
    "\\end{cases}\n",
    "\\end{aligned}\n",
    "\n",
    "4. 원핫벡터의 모든 원소의 합은 1입니다.\n",
    "$$\\sum_{i=1}^{K}x_i = 1$$"
   ]
  },
  {
   "attachments": {},
   "cell_type": "markdown",
   "metadata": {},
   "source": [
    "\n"
   ]
  }
 ],
 "metadata": {
  "kernelspec": {
   "display_name": "base",
   "language": "python",
   "name": "python3"
  },
  "language_info": {
   "codemirror_mode": {
    "name": "ipython",
    "version": 3
   },
   "file_extension": ".py",
   "mimetype": "text/x-python",
   "name": "python",
   "nbconvert_exporter": "python",
   "pygments_lexer": "ipython3",
   "version": "3.9.13 (main, Aug 25 2022, 23:51:50) [MSC v.1916 64 bit (AMD64)]"
  },
  "orig_nbformat": 4,
  "vscode": {
   "interpreter": {
    "hash": "0478b8cb1c47bafb71305148a49d30528a4d9c22ca2de336c01aa5a8230a459a"
   }
  }
 },
 "nbformat": 4,
 "nbformat_minor": 2
}
