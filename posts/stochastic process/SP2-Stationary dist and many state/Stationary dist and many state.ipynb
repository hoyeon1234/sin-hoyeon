{
 "cells": [
  {
   "cell_type": "markdown",
   "id": "cc3c5b4a",
   "metadata": {},
   "source": [
    "---\n",
    "title: \"[Stochestic Process] HMC - Stationary Distribution and properties\"\n",
    "format: html\n",
    "date: \"2023/06/05\"\n",
    "author: \"hoyeon\"\n",
    "categories: \"Probability&Statistics\"\n",
    "---"
   ]
  },
  {
   "cell_type": "markdown",
   "id": "b05c59eb",
   "metadata": {},
   "source": [
    "이번 포스팅에서는 stationary distribution과 HMC의 여러가지 특징들을 살펴본다."
   ]
  },
  {
   "cell_type": "code",
   "execution_count": 1,
   "id": "54a8103b",
   "metadata": {},
   "outputs": [
    {
     "data": {
      "application/javascript": [
       "IPython.notebook.set_autosave_interval(20000)"
      ]
     },
     "metadata": {},
     "output_type": "display_data"
    },
    {
     "name": "stdout",
     "output_type": "stream",
     "text": [
      "Autosaving every 20 seconds\n"
     ]
    }
   ],
   "source": [
    "%autosave 20\n",
    "import numpy as np\n",
    "import matplotlib.pyplot as plt"
   ]
  },
  {
   "cell_type": "markdown",
   "id": "590bdad8",
   "metadata": {},
   "source": [
    "# The Stationary Distribution of an HMC"
   ]
  },
  {
   "cell_type": "markdown",
   "id": "e2d8796a",
   "metadata": {},
   "source": [
    ":::{.callout-note}\n",
    "## Definition of stationary distribution\n",
    "다음과 같은 식을 만족하는 distribution $\\boldsymbol{\\mu}$를 stationary distribution이라고 한다.\n",
    "\n",
    "$$\\boldsymbol{\\mu}^T = \\boldsymbol{\\mu}^TP$$\n",
    ":::"
   ]
  },
  {
   "cell_type": "markdown",
   "id": "2052277d",
   "metadata": {},
   "source": [
    "- 또한 $\\boldsymbol{\\mu}$가 stationary distribution이라면 보통 $\\pi$로 표기합니다.(저도 그렇게 하려구요.ㅎㅎ)"
   ]
  },
  {
   "cell_type": "markdown",
   "id": "21187d66",
   "metadata": {},
   "source": [
    "# Example-1"
   ]
  },
  {
   "cell_type": "markdown",
   "id": "1ff9da27",
   "metadata": {},
   "source": [
    "- 지난번에 했던 특징들을 여러가지 HMC에서 살펴보자.\n",
    "- 먼저 아래와 같은 Markov Chain이다."
   ]
  },
  {
   "cell_type": "markdown",
   "id": "ce5258d1",
   "metadata": {},
   "source": [
    "![](./figure1.png)"
   ]
  },
  {
   "cell_type": "markdown",
   "id": "877fcbc9",
   "metadata": {},
   "source": [
    "- P는 아래와 같다."
   ]
  },
  {
   "cell_type": "code",
   "execution_count": 79,
   "id": "c7f4ecf1",
   "metadata": {},
   "outputs": [
    {
     "data": {
      "text/plain": [
       "array([[0.2, 0.8],\n",
       "       [0.3, 0.7]])"
      ]
     },
     "execution_count": 79,
     "metadata": {},
     "output_type": "execute_result"
    }
   ],
   "source": [
    "P = np.array([0.2,0.8,0.3,0.7]).reshape(2,2)\n",
    "P"
   ]
  },
  {
   "cell_type": "markdown",
   "id": "e619ee64",
   "metadata": {},
   "source": [
    "1. $\\text{lim}_{t\\to\\infty}{\\bf{P}}^n = {\\bf{P}}^★$로 수렴하는가? $\\to$ Yes!\n",
    "2. ${\\bf{P}}^★$의 모든 row가 동일한가? $\\to$ Yes!"
   ]
  },
  {
   "cell_type": "code",
   "execution_count": 80,
   "id": "3cc8f356",
   "metadata": {},
   "outputs": [
    {
     "data": {
      "text/plain": [
       "array([[0.27272727, 0.72727273],\n",
       "       [0.27272727, 0.72727273]])"
      ]
     },
     "execution_count": 80,
     "metadata": {},
     "output_type": "execute_result"
    }
   ],
   "source": [
    "np.linalg.matrix_power(P,100)"
   ]
  },
  {
   "cell_type": "code",
   "execution_count": 81,
   "id": "03dee031",
   "metadata": {},
   "outputs": [
    {
     "data": {
      "text/plain": [
       "array([[0.27272727, 0.72727273],\n",
       "       [0.27272727, 0.72727273]])"
      ]
     },
     "execution_count": 81,
     "metadata": {},
     "output_type": "execute_result"
    }
   ],
   "source": [
    "P_star = np.linalg.matrix_power(P,150)\n",
    "P_star"
   ]
  },
  {
   "cell_type": "markdown",
   "id": "712c2c50",
   "metadata": {},
   "source": [
    "3. 초기분포가 뭐던지 $X_\\infty$의 분포는 항상같으며  $P^★$의 row이다. $\\to$ Yes!\n",
    "    - 시간이 좀 지나면 나오는 결과들은 동일한 확률분포에서 결정된다.(오...신기한 사실이다.)\n",
    "    - 그리고 그 분포는 ${\\bf{P}}$를 무한번 거듭제곱 해보면 알 수 있다."
   ]
  },
  {
   "cell_type": "code",
   "execution_count": 82,
   "id": "d6d21b34",
   "metadata": {},
   "outputs": [
    {
     "data": {
      "text/plain": [
       "(array([0.27272727, 0.72727273]), array([0.27272727, 0.72727273]))"
      ]
     },
     "execution_count": 82,
     "metadata": {},
     "output_type": "execute_result"
    }
   ],
   "source": [
    "μ_T = np.array([0.1,0.9])\n",
    "μ_infty_T = μ_T@P_star\n",
    "μ_infty_T,P_star[1]"
   ]
  },
  {
   "cell_type": "markdown",
   "id": "97d01f01",
   "metadata": {},
   "source": [
    "4. $\\text{row vector}_{{\\bf{P}}^★} \\times P = \\text{row vector}_{{\\bf{P}}^★}$이다. $\\to$ Yes!"
   ]
  },
  {
   "cell_type": "code",
   "execution_count": 83,
   "id": "a636b49d",
   "metadata": {},
   "outputs": [
    {
     "name": "stdout",
     "output_type": "stream",
     "text": [
      "[0.27272727 0.72727273] [0.27272727 0.72727273]\n"
     ]
    }
   ],
   "source": [
    "π_T = P_star[0]\n",
    "print(π_T,π_T@P)"
   ]
  },
  {
   "cell_type": "markdown",
   "id": "6d678767",
   "metadata": {},
   "source": [
    "- 한 가지 더 알 수 있는 사실 $\\to$ $\\text{row vector}_{{\\bf{P}}^★}$는 정상분포의 정의를 만족하기에 HMC의 stationary distribution $\\pi^T$이다..!"
   ]
  },
  {
   "cell_type": "markdown",
   "id": "cc8ffd4c",
   "metadata": {},
   "source": [
    "5. 초기분포 ${\\boldsymbol{\\mu_0}} = \\pi$라면 $\\{X_t\\}_{t\\geq0}$는 모두 동일한 분포를 가진다. $\\to$ Yes!"
   ]
  },
  {
   "cell_type": "code",
   "execution_count": 84,
   "id": "6eca3929",
   "metadata": {},
   "outputs": [
    {
     "name": "stdout",
     "output_type": "stream",
     "text": [
      "[0.27272727 0.72727273] [0.27272727 0.72727273] [0.27272727 0.72727273]\n"
     ]
    }
   ],
   "source": [
    "μ_0_T = π_T \n",
    "μ_1_T = μ_0_T@P\n",
    "μ_2_T = μ_1_T@P\n",
    "μ_3_T = μ_2_T@P\n",
    "print(μ_1_T,μ_2_T,μ_3_T)"
   ]
  },
  {
   "cell_type": "markdown",
   "id": "0b442fe3",
   "metadata": {},
   "source": [
    "- 이전에 짚어봤던 특징들이 전부 다 성립한다."
   ]
  },
  {
   "cell_type": "markdown",
   "id": "9c876b74",
   "metadata": {},
   "source": [
    "# Example-2(흡수상태)"
   ]
  },
  {
   "cell_type": "markdown",
   "id": "e1a1dd6b",
   "metadata": {},
   "source": [
    "- 흡수상태가 존재하는 Markov Chain을 고려해보자.\n",
    "- 어떤 상태에 들어가게 되면 다른 상태로 못빠져나감!"
   ]
  },
  {
   "cell_type": "markdown",
   "id": "e6b1bf44",
   "metadata": {},
   "source": [
    "![](./figure2.png)"
   ]
  },
  {
   "cell_type": "code",
   "execution_count": 85,
   "id": "274f3bdc",
   "metadata": {},
   "outputs": [
    {
     "data": {
      "text/plain": [
       "array([[1.  , 0.  ],\n",
       "       [0.05, 0.95]])"
      ]
     },
     "execution_count": 85,
     "metadata": {},
     "output_type": "execute_result"
    }
   ],
   "source": [
    "P = np.array([1.0,0.0,0.05,0.95]).reshape(2,2)\n",
    "P"
   ]
  },
  {
   "cell_type": "markdown",
   "id": "2df339e2",
   "metadata": {},
   "source": [
    "1. $\\text{lim}_{t\\to\\infty}{\\bf{P}}^n = {\\bf{P}}^★$로 수렴하는가? $\\to$ Yes!\n",
    "2. ${\\bf{P}}^★$의 모든 row가 동일한가? $\\to$ Yes!"
   ]
  },
  {
   "cell_type": "code",
   "execution_count": 86,
   "id": "7024eac7",
   "metadata": {},
   "outputs": [
    {
     "data": {
      "text/plain": [
       "array([[1.        , 0.        ],\n",
       "       [0.40126306, 0.59873694]])"
      ]
     },
     "execution_count": 86,
     "metadata": {},
     "output_type": "execute_result"
    }
   ],
   "source": [
    "np.linalg.matrix_power(P,10)"
   ]
  },
  {
   "cell_type": "code",
   "execution_count": 87,
   "id": "1a5aafdb",
   "metadata": {},
   "outputs": [
    {
     "data": {
      "text/plain": [
       "array([[1.        , 0.        ],\n",
       "       [0.99407947, 0.00592053]])"
      ]
     },
     "execution_count": 87,
     "metadata": {},
     "output_type": "execute_result"
    }
   ],
   "source": [
    "np.linalg.matrix_power(P,100)"
   ]
  },
  {
   "cell_type": "code",
   "execution_count": 88,
   "id": "13d4d588",
   "metadata": {},
   "outputs": [
    {
     "data": {
      "text/plain": [
       "array([[1., 0.],\n",
       "       [1., 0.]])"
      ]
     },
     "execution_count": 88,
     "metadata": {},
     "output_type": "execute_result"
    }
   ],
   "source": [
    "np.linalg.matrix_power(P,200).round(3)"
   ]
  },
  {
   "cell_type": "code",
   "execution_count": 89,
   "id": "9b211fb2",
   "metadata": {},
   "outputs": [
    {
     "data": {
      "text/plain": [
       "array([[1., 0.],\n",
       "       [1., 0.]])"
      ]
     },
     "execution_count": 89,
     "metadata": {},
     "output_type": "execute_result"
    }
   ],
   "source": [
    "P_star = np.linalg.matrix_power(P,300).round(3)\n",
    "P_star"
   ]
  },
  {
   "cell_type": "markdown",
   "id": "ba360386",
   "metadata": {},
   "source": [
    "3. 초기분포가 뭐던지 $X_\\infty$의 분포는 항상같으며  $P^★$의 row이다. $\\to$ Yes!\n",
    "    - 이 경우도.. 결국 시간이 지나면 같은 분포에서 sampling된다."
   ]
  },
  {
   "cell_type": "code",
   "execution_count": 97,
   "id": "728ae82e",
   "metadata": {},
   "outputs": [
    {
     "data": {
      "text/plain": [
       "array([1., 0.])"
      ]
     },
     "execution_count": 97,
     "metadata": {},
     "output_type": "execute_result"
    }
   ],
   "source": [
    "μ_T = np.array([0.1,0.9])\n",
    "μ_T @ P_star"
   ]
  },
  {
   "cell_type": "code",
   "execution_count": 101,
   "id": "a17cb6ea",
   "metadata": {},
   "outputs": [
    {
     "data": {
      "text/plain": [
       "(array([1., 0.]), array([1., 0.]))"
      ]
     },
     "execution_count": 101,
     "metadata": {},
     "output_type": "execute_result"
    }
   ],
   "source": [
    "μ_T = np.array([0.9,0.1])\n",
    "μ_infty_T = μ_T @ P_star\n",
    "μ_infty_T,P_star[0]"
   ]
  },
  {
   "cell_type": "markdown",
   "id": "ef50abdb",
   "metadata": {},
   "source": [
    "4. $\\text{row vector}_{{\\bf{P}}^★} \\times P = \\text{row vector}_{{\\bf{P}}^★}$이다. $\\to$ Yes!"
   ]
  },
  {
   "cell_type": "code",
   "execution_count": 102,
   "id": "96c5aeba",
   "metadata": {},
   "outputs": [
    {
     "name": "stdout",
     "output_type": "stream",
     "text": [
      "[1. 0.] [1. 0.]\n"
     ]
    }
   ],
   "source": [
    "π_T = P_star[0]\n",
    "print(π_T,π_T@P)"
   ]
  },
  {
   "cell_type": "markdown",
   "id": "3443ae51",
   "metadata": {},
   "source": [
    "- 한 가지 더 알 수 있는 사실 $\\to$ $\\text{row vector}_{{\\bf{P}}^★}$는 정상분포의 정의를 만족하기에 HMC의 stationary distribution $\\pi^T$이다..!"
   ]
  },
  {
   "cell_type": "markdown",
   "id": "4ba31338",
   "metadata": {},
   "source": [
    "5. 초기분포 ${\\boldsymbol{\\mu_0}} = \\pi$라면 $\\{X_t\\}_{t\\geq0}$는 모두 동일한 분포를 가진다. $\\to$ Yes!"
   ]
  },
  {
   "cell_type": "code",
   "execution_count": 164,
   "id": "0f4164b9",
   "metadata": {},
   "outputs": [
    {
     "name": "stdout",
     "output_type": "stream",
     "text": [
      "[0. 1.] [1. 0.] [0. 1.]\n"
     ]
    }
   ],
   "source": [
    "μ_0_T = π_T \n",
    "μ_1_T = μ_0_T@P\n",
    "μ_2_T = μ_1_T@P\n",
    "μ_3_T = μ_2_T@P\n",
    "print(μ_1_T,μ_2_T,μ_3_T)"
   ]
  },
  {
   "cell_type": "markdown",
   "id": "490d8656",
   "metadata": {},
   "source": [
    "- 이전에 살펴봤던 특징들이 전부 다 성립한다.\n",
    "- 오잉? 그냥 모든 ${\\bf{P}}$에서 다 True인듯한 느낌인데...?"
   ]
  },
  {
   "cell_type": "markdown",
   "id": "1a7924f2",
   "metadata": {},
   "source": [
    "# Example-3(단위행렬)"
   ]
  },
  {
   "cell_type": "markdown",
   "id": "b09635b5",
   "metadata": {},
   "source": [
    "- 지금까지 본 특징들은 거의 다 성립하는 듯한 느낌\n",
    "    - 근데 여기서는 아니다.\n",
    "- $\\bf{P}$가 단위행렬의 경우를 보자."
   ]
  },
  {
   "cell_type": "markdown",
   "id": "99040b95",
   "metadata": {},
   "source": [
    "![](./figure3.png)"
   ]
  },
  {
   "cell_type": "code",
   "execution_count": 106,
   "id": "5499f13f",
   "metadata": {},
   "outputs": [
    {
     "data": {
      "text/plain": [
       "array([[1, 0],\n",
       "       [0, 1]])"
      ]
     },
     "execution_count": 106,
     "metadata": {},
     "output_type": "execute_result"
    }
   ],
   "source": [
    "P = np.array([1,0,0,1]).reshape(2,2)\n",
    "P"
   ]
  },
  {
   "cell_type": "markdown",
   "id": "44d7f834",
   "metadata": {},
   "source": [
    "1. $\\text{lim}_{t\\to\\infty}{\\bf{P}}^n = {\\bf{P}}^★$로 수렴하는가? $\\to$ Yes!"
   ]
  },
  {
   "cell_type": "markdown",
   "id": "5193a5a4",
   "metadata": {},
   "source": [
    "2. ${\\bf{P}}^★$의 모든 row가 동일한가? $\\to$ No!\n",
    "    - 단위행렬의 곱은 단위행렬,모든 row가 동일하지 않음!"
   ]
  },
  {
   "cell_type": "code",
   "execution_count": 108,
   "id": "110ed3aa",
   "metadata": {},
   "outputs": [
    {
     "data": {
      "text/plain": [
       "array([[1, 0],\n",
       "       [0, 1]])"
      ]
     },
     "execution_count": 108,
     "metadata": {},
     "output_type": "execute_result"
    }
   ],
   "source": [
    "P_star = np.linalg.matrix_power(P,100)\n",
    "P_star"
   ]
  },
  {
   "cell_type": "markdown",
   "id": "d8746a11",
   "metadata": {},
   "source": [
    "3. 초기분포가 뭐던지 $X_\\infty$의 분포는 항상같으며  $P^★$의 row이다. $\\to$ No,NA\n",
    "    - 이 경우 초기분포에 따라 $X_{\\infty}$의 분포가 정해진다.\n",
    "        - cf. 앞선 경우들은 초기분포에 관계없이 궁극적으로 $X_{\\infty}$의 분포는 동일했었다.\n",
    "    - P_star의 row가 모두 동일하지 않다.\n",
    "    "
   ]
  },
  {
   "cell_type": "code",
   "execution_count": 139,
   "id": "ca07938f",
   "metadata": {},
   "outputs": [
    {
     "data": {
      "text/plain": [
       "array([0.7, 0.3])"
      ]
     },
     "execution_count": 139,
     "metadata": {},
     "output_type": "execute_result"
    }
   ],
   "source": [
    "μ_0_T = np.array([0.7,0.3])\n",
    "μ_0_T @ P_star"
   ]
  },
  {
   "cell_type": "code",
   "execution_count": 140,
   "id": "915b498d",
   "metadata": {},
   "outputs": [
    {
     "data": {
      "text/plain": [
       "array([0.3, 0.7])"
      ]
     },
     "execution_count": 140,
     "metadata": {},
     "output_type": "execute_result"
    }
   ],
   "source": [
    "μ_0_T = np.array([0.3,0.7])\n",
    "μ_0_T @ P_star"
   ]
  },
  {
   "cell_type": "code",
   "execution_count": 141,
   "id": "695bebed",
   "metadata": {},
   "outputs": [
    {
     "data": {
      "text/plain": [
       "array([0.5, 0.5])"
      ]
     },
     "execution_count": 141,
     "metadata": {},
     "output_type": "execute_result"
    }
   ],
   "source": [
    "μ_0_T = np.array([0.5,0.5])\n",
    "μ_0_T @ P_star"
   ]
  },
  {
   "cell_type": "markdown",
   "id": "3845328c",
   "metadata": {},
   "source": [
    "4. $\\text{row vector}_{{\\bf{P}}^★} \\times P = \\text{row vector}_{{\\bf{P}}^★}$이다. $\\to$ NA!<br>\n",
    "    - 질문의 답이 불가능함. 애초에 $P^★$의 row가 모두 달라서 임의의 row vector를 가져오기가 불가능하다."
   ]
  },
  {
   "cell_type": "markdown",
   "id": "4f2e8dde",
   "metadata": {},
   "source": [
    "- $\\text{row vector}_{{\\bf{P}}^★}$가 아예 정해지지 않으므로 다른 질문을 해보자."
   ]
  },
  {
   "cell_type": "markdown",
   "id": "09e707dc",
   "metadata": {},
   "source": [
    "4-1.$\\boldsymbol{\\mu} P = \\boldsymbol{\\mu}$가 성립하는 벡터 $\\mu$가 존재하는가? $\\to$ Yes!"
   ]
  },
  {
   "cell_type": "markdown",
   "id": "6568a047",
   "metadata": {},
   "source": [
    "- P는 단위행렬이므로 어떤 벡터 $\\boldsymbol{\\mu}$던지 당연히 성립한다!<br>\n",
    "- 따라서 어떠한 분포든지 정상분포의 정의를 만족하며 정상분포이다.(위에서 나온 결과와 일치한다.!)"
   ]
  },
  {
   "cell_type": "markdown",
   "id": "25717caa",
   "metadata": {},
   "source": [
    "5. 초기분포 ${\\boldsymbol{\\mu_0}} = \\pi$라면 $\\{X_t\\}_{t\\geq0}$는 모두 동일한 분포를 가진다. $\\to$ Yes!\n",
    "- $P = I$이므로 당연하다."
   ]
  },
  {
   "cell_type": "markdown",
   "id": "1199a39f",
   "metadata": {},
   "source": [
    "# Example-4(주기가 있을 때)"
   ]
  },
  {
   "cell_type": "markdown",
   "id": "7f6f822a",
   "metadata": {},
   "source": [
    "![](./figure4.png)"
   ]
  },
  {
   "cell_type": "code",
   "execution_count": 145,
   "id": "d33898d4",
   "metadata": {},
   "outputs": [
    {
     "data": {
      "text/plain": [
       "array([[0, 1],\n",
       "       [1, 0]])"
      ]
     },
     "execution_count": 145,
     "metadata": {},
     "output_type": "execute_result"
    }
   ],
   "source": [
    "P = np.array([0,1,1,0]).reshape(2,2)\n",
    "P"
   ]
  },
  {
   "cell_type": "markdown",
   "id": "09217cf8",
   "metadata": {},
   "source": [
    "1. $\\text{lim}_{t\\to\\infty}{\\bf{P}}^n = {\\bf{P}}^★$로 수렴하는가? $\\to$ No!\n",
    "    - 앞선 경우들과 다르다. 애초에 수렴조차 하지 않는다."
   ]
  },
  {
   "cell_type": "code",
   "execution_count": 147,
   "id": "1272072f",
   "metadata": {},
   "outputs": [
    {
     "data": {
      "text/plain": [
       "array([[0, 1],\n",
       "       [1, 0]])"
      ]
     },
     "execution_count": 147,
     "metadata": {},
     "output_type": "execute_result"
    }
   ],
   "source": [
    "np.linalg.matrix_power(P,1)"
   ]
  },
  {
   "cell_type": "code",
   "execution_count": 149,
   "id": "ae969056",
   "metadata": {},
   "outputs": [
    {
     "data": {
      "text/plain": [
       "array([[1, 0],\n",
       "       [0, 1]])"
      ]
     },
     "execution_count": 149,
     "metadata": {},
     "output_type": "execute_result"
    }
   ],
   "source": [
    "np.linalg.matrix_power(P,2)"
   ]
  },
  {
   "cell_type": "code",
   "execution_count": 150,
   "id": "c4c9b32f",
   "metadata": {},
   "outputs": [
    {
     "data": {
      "text/plain": [
       "array([[0, 1],\n",
       "       [1, 0]])"
      ]
     },
     "execution_count": 150,
     "metadata": {},
     "output_type": "execute_result"
    }
   ],
   "source": [
    "np.linalg.matrix_power(P,3)"
   ]
  },
  {
   "cell_type": "markdown",
   "id": "b2a44572",
   "metadata": {},
   "source": [
    "2. ${\\bf{P}}^★$의 모든 row가 동일한가? $\\to$ NA!\n",
    "    - 애초에 수렴하질 않기에 따질 수 없음."
   ]
  },
  {
   "cell_type": "code",
   "execution_count": 155,
   "id": "40be7357",
   "metadata": {},
   "outputs": [
    {
     "data": {
      "text/plain": [
       "array([[1, 0],\n",
       "       [0, 1]])"
      ]
     },
     "execution_count": 155,
     "metadata": {},
     "output_type": "execute_result"
    }
   ],
   "source": [
    "P_star = np.linalg.matrix_power(P,100)\n",
    "P_star"
   ]
  },
  {
   "cell_type": "markdown",
   "id": "ad45d556",
   "metadata": {},
   "source": [
    "3. 초기분포가 뭐던지 $X_\\infty$의 분포는 항상 같으며  $P^★$의 row이다. $\\to$ No,NA\n",
    "    - 위의 예시와 같이 초기분포에 따라서 $X_\\infty$의 분포가 변하기 때문에 No\n",
    "    - P_star의 row가 모두 동일하지 않으므로 애초에 따질 수 없음 NA"
   ]
  },
  {
   "cell_type": "code",
   "execution_count": 159,
   "id": "ba75704f",
   "metadata": {},
   "outputs": [
    {
     "data": {
      "text/plain": [
       "array([0.7, 0.3])"
      ]
     },
     "execution_count": 159,
     "metadata": {},
     "output_type": "execute_result"
    }
   ],
   "source": [
    "μ_0_T = np.array([0.7,0.3])\n",
    "μ_0_T @ P_star"
   ]
  },
  {
   "cell_type": "code",
   "execution_count": 160,
   "id": "f3499008",
   "metadata": {},
   "outputs": [
    {
     "data": {
      "text/plain": [
       "array([0.3, 0.7])"
      ]
     },
     "execution_count": 160,
     "metadata": {},
     "output_type": "execute_result"
    }
   ],
   "source": [
    "μ_0_T = np.array([0.3,0.7])\n",
    "μ_0_T @ P_star"
   ]
  },
  {
   "cell_type": "code",
   "execution_count": 162,
   "id": "a9cc5cee",
   "metadata": {},
   "outputs": [
    {
     "data": {
      "text/plain": [
       "array([0.5, 0.5])"
      ]
     },
     "execution_count": 162,
     "metadata": {},
     "output_type": "execute_result"
    }
   ],
   "source": [
    "μ_0_T = np.array([0.5,0.5])\n",
    "μ_0_T @ P_star"
   ]
  },
  {
   "cell_type": "markdown",
   "id": "42717c30",
   "metadata": {},
   "source": [
    "4. $\\text{row vector}_{{\\bf{P}}^★} \\times P = \\text{row vector}_{{\\bf{P}}^★}$이다. $\\to$ NA!<br>\n",
    "    - 질문의 답이 불가능함.(NA)"
   ]
  },
  {
   "cell_type": "markdown",
   "id": "76fda733",
   "metadata": {},
   "source": [
    "- $\\text{row vector}_{{\\bf{P}}^★}$가 아예 정해지지 않으므로 다른 질문을 해보자."
   ]
  },
  {
   "cell_type": "markdown",
   "id": "9d6b0025",
   "metadata": {},
   "source": [
    "4-1.임의의 vector $\\mu$에 대하여 $\\boldsymbol{\\mu} P = \\boldsymbol{\\mu}$ 인가? $\\to$ No!"
   ]
  },
  {
   "cell_type": "markdown",
   "id": "26ebb423",
   "metadata": {},
   "source": [
    "- $\\mu^T = \\begin{bmatrix}0.5& 0.5\\end{bmatrix}$라 해보자."
   ]
  },
  {
   "cell_type": "code",
   "execution_count": 166,
   "id": "05408166",
   "metadata": {},
   "outputs": [
    {
     "data": {
      "text/plain": [
       "array([0.5, 0.5])"
      ]
     },
     "execution_count": 166,
     "metadata": {},
     "output_type": "execute_result"
    }
   ],
   "source": [
    "μ_0_T = np.array([0.5,0.5])\n",
    "μ_0_T @ P_star"
   ]
  },
  {
   "cell_type": "markdown",
   "id": "bd1f80db",
   "metadata": {},
   "source": [
    "5. 초기분포 ${\\boldsymbol{\\mu_0}} = \\pi$라면 $\\{X_t\\}_{t\\geq0}$는 모두 동일한 분포를 가진다. $\\to$ Yes!\n"
   ]
  },
  {
   "cell_type": "code",
   "execution_count": 169,
   "id": "068c2115",
   "metadata": {
    "scrolled": true
   },
   "outputs": [
    {
     "name": "stdout",
     "output_type": "stream",
     "text": [
      "[0.5 0.5] [0.5 0.5] [0.5 0.5]\n"
     ]
    }
   ],
   "source": [
    "μ_1_T = μ_0_T@P\n",
    "μ_2_T = μ_1_T@P\n",
    "μ_3_T = μ_2_T@P\n",
    "print(μ_1_T,μ_2_T,μ_3_T)"
   ]
  },
  {
   "cell_type": "markdown",
   "id": "dbbb00e8",
   "metadata": {},
   "source": [
    "- 음? 정상분포가 안 존재하는 예시는 없네?"
   ]
  },
  {
   "cell_type": "markdown",
   "id": "fdb207d2",
   "metadata": {},
   "source": [
    ":::{.callout-note}\n",
    "## Thm\n",
    "finite State Space를 가지는 HMC는 정상분포가 최소 1개는 존재한다.\n",
    ":::"
   ]
  },
  {
   "cell_type": "markdown",
   "id": "5d770b89",
   "metadata": {},
   "source": [
    "- 증명은 생략..(안 알려주셨어요 ...ㅎ)"
   ]
  },
  {
   "cell_type": "markdown",
   "id": "44714eaa",
   "metadata": {},
   "source": [
    "# 정리"
   ]
  },
  {
   "cell_type": "markdown",
   "id": "0ae641ec",
   "metadata": {},
   "source": [
    "- HMC에는 여러가지 상태들이 존재하며 상태마다 나타나는 특징들이 다르다.\n",
    "- 특히 state space가 유한한 경우 stationary distribution이 최소 1개는 존재한다."
   ]
  }
 ],
 "metadata": {
  "kernelspec": {
   "display_name": "Python 3 (ipykernel)",
   "language": "python",
   "name": "python3"
  },
  "language_info": {
   "codemirror_mode": {
    "name": "ipython",
    "version": 3
   },
   "file_extension": ".py",
   "mimetype": "text/x-python",
   "name": "python",
   "nbconvert_exporter": "python",
   "pygments_lexer": "ipython3",
   "version": "3.9.13"
  },
  "toc": {
   "base_numbering": 1,
   "nav_menu": {},
   "number_sections": true,
   "sideBar": true,
   "skip_h1_title": false,
   "title_cell": "Table of Contents",
   "title_sidebar": "Contents",
   "toc_cell": false,
   "toc_position": {},
   "toc_section_display": true,
   "toc_window_display": false
  }
 },
 "nbformat": 4,
 "nbformat_minor": 5
}
