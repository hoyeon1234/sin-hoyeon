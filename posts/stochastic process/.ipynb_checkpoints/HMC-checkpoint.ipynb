{
 "cells": [
  {
   "cell_type": "code",
   "execution_count": 1,
   "id": "b6344927",
   "metadata": {},
   "outputs": [
    {
     "data": {
      "application/javascript": [
       "IPython.notebook.set_autosave_interval(20000)"
      ]
     },
     "metadata": {},
     "output_type": "display_data"
    },
    {
     "name": "stdout",
     "output_type": "stream",
     "text": [
      "Autosaving every 20 seconds\n"
     ]
    }
   ],
   "source": [
    "%autosave 20\n",
    "import numpy as np\n",
    "import matplotlib.pyplot as plt"
   ]
  },
  {
   "cell_type": "code",
   "execution_count": 2,
   "id": "d5351b5a",
   "metadata": {},
   "outputs": [],
   "source": [
    "def rain(before):\n",
    "    \"\"\"\n",
    "    전날의 날씨에 따른 조건부 확률분포에 의해 다음날의 날씨를 결정해주는 함수\n",
    "    input\n",
    "    before : 전날의 날씨\n",
    "    output \n",
    "    다음날의 날씨\n",
    "    \"\"\"\n",
    "    if before == 1: #전날에 비가 왔다면\n",
    "        return int(np.random.rand() < 0.9) #다음날에 비 올 확률은 확 깍여서 0.9\n",
    "    if before == 0: #전날에 비가 안왔다면\n",
    "        return int(np.random.rand() <0.2) #다음날에 비가 올 확률은 확 높아져서 0.2"
   ]
  },
  {
   "cell_type": "code",
   "execution_count": 3,
   "id": "87b695e8",
   "metadata": {},
   "outputs": [],
   "source": [
    "def rain_process(today):\n",
    "    result = [today]\n",
    "    for i in range(10000):\n",
    "        result.append(rain(result[-1])) #가장 최근날씨가 계속 input으로 들어감\n",
    "    return result"
   ]
  },
  {
   "cell_type": "markdown",
   "id": "705f3f46",
   "metadata": {},
   "source": [
    "# Background"
   ]
  },
  {
   "cell_type": "markdown",
   "id": "43df4df6",
   "metadata": {},
   "source": [
    "## Review"
   ]
  },
  {
   "cell_type": "markdown",
   "id": "7de53093",
   "metadata": {},
   "source": [
    "- 확률과정은 시간에 따라서 결과들이 확률분포에 의해 정해지는 것이였다.\n",
    "- 수학적으로는 random variable의 sequence와 같았다."
   ]
  },
  {
   "cell_type": "markdown",
   "id": "91d0d65d",
   "metadata": {},
   "source": [
    "$$\n",
    "\\begin{aligned}\n",
    "\\{X(t) : t \\in T\\} \\text{ or } \\{X_t\\}\n",
    "\\end{aligned}\n",
    "$$"
   ]
  },
  {
   "cell_type": "markdown",
   "id": "64d0c84a",
   "metadata": {},
   "source": [
    "- 날씨 모형을 행렬형태로 표현하면 생겼었다.\n",
    "    - 숫자는 약간 바뀌었음!"
   ]
  },
  {
   "cell_type": "markdown",
   "id": "c54ce393",
   "metadata": {},
   "source": [
    "\\begin{aligned}\n",
    "&\\begin{bmatrix}\n",
    "P(X_t = 0) \\\\\n",
    "P(X_t = 1) \\\\\n",
    "\\end{bmatrix} = \n",
    "\\begin{bmatrix}\n",
    "0.8 & 0.1 \\\\\n",
    "0.2 & 0.9\n",
    "\\end{bmatrix}\n",
    "\\begin{bmatrix}\n",
    "P(X_{t-1} = 0)\\\\\n",
    "P(X_{t-1} = 1)\n",
    "\\end{bmatrix}\n",
    "\\\\\n",
    "& \\Longleftrightarrow \\mu_t = P\\mu_{t-1}\n",
    "\\end{aligned}\n"
   ]
  },
  {
   "cell_type": "markdown",
   "id": "73450ff8",
   "metadata": {},
   "source": [
    ":::{.callout-note icon=false simple=true}\n",
    "## 중요한 것...Note\n",
    "1. $X_t \\sim \\mu_t$($\\boldsymbol{\\mu}$는 확률분포다.)\n",
    "2. $X_{t+n} \\sim \\boldsymbol{\\mu}_{t+n} = \\bf{P}^n\\boldsymbol{\\mu}_t$($\\bf{P}$의 거듭제곱으로 n step후의 확률분포를 구한다.)\n",
    "3. ${\\bf{P}}^n은 현재상태가 i일 때 ,n-step후에 상태 j일 확률들을 가지고 있다.$\n",
    ":::"
   ]
  },
  {
   "cell_type": "markdown",
   "id": "f8f6a1b3",
   "metadata": {},
   "source": [
    "## notation 바꾸기"
   ]
  },
  {
   "cell_type": "markdown",
   "id": "f31bb9ff",
   "metadata": {},
   "source": [
    "- notation을 좀 바꿔보자. 양변에 Transpose ㄱㄱ"
   ]
  },
  {
   "cell_type": "markdown",
   "id": "e8d159c1",
   "metadata": {},
   "source": [
    "$$\n",
    "\\begin{aligned}\n",
    "\\boldsymbol{\\mu}_t^T = \\boldsymbol{\\mu}_{t-1}^T\\bf{{P}}^T\n",
    "\\end{aligned}\n",
    "$$"
   ]
  },
  {
   "cell_type": "markdown",
   "id": "18a5e20c",
   "metadata": {},
   "source": [
    "- 그리고 이전에 했던 $\\bf{P}$는 생각하지말고 $\\bf{P}^T = \\bf{P}$라 표기하자."
   ]
  },
  {
   "cell_type": "markdown",
   "id": "c342a2fc",
   "metadata": {},
   "source": [
    "$$\n",
    "\\begin{aligned}\n",
    "\\boldsymbol{\\mu}_t^T = \\boldsymbol{\\mu}_{t-1}^T\\bf{{P}}\n",
    "\\end{aligned}\n",
    "$$"
   ]
  },
  {
   "cell_type": "markdown",
   "id": "d5663b8c",
   "metadata": {},
   "source": [
    "- 그러면 새롭게 정의된 $\\bf{P}$는 해석하기가 좀 쉬워진다.\n",
    "    1. $\\bf{P}$의 $(i,j)$위치의 element를 $p_{ij}$라 하자.\n",
    "    2. $p_{ij} = P(X_t = j | X_{t-1} = i)$\n",
    "    3. 상태가 변화할 확률을 읽기가 쉬워졌다. 상태 i에서 j로 바뀔 확률은 matrix의 (i,j)값을 읽으면 된다."
   ]
  },
  {
   "cell_type": "markdown",
   "id": "144d0aa6",
   "metadata": {},
   "source": [
    "- 이 경우 $\\bf{P}$는"
   ]
  },
  {
   "cell_type": "markdown",
   "id": "e4c75503",
   "metadata": {},
   "source": [
    "$$\n",
    "\\begin{aligned}\n",
    "\\bf{P} = \n",
    "\\begin{bmatrix}\n",
    "0.8 & 0.2 \\\\\n",
    "0.1 & 0.9\n",
    "\\end{bmatrix}\n",
    "\\end{aligned}\n",
    "$$"
   ]
  },
  {
   "cell_type": "markdown",
   "id": "28175153",
   "metadata": {},
   "source": [
    "- $0.8 = p_{00}$\n",
    "- $0.1 = p_{10}$\n",
    "- $0.1 = p_{01}$\n",
    "- $0.1 = p_{11}$\n"
   ]
  },
  {
   "cell_type": "markdown",
   "id": "9be83778",
   "metadata": {},
   "source": [
    "# Markov chain"
   ]
  },
  {
   "cell_type": "markdown",
   "id": "69ae811d",
   "metadata": {},
   "source": [
    ":::{.callout-note }\n",
    "## Definition of Markov chain\n",
    "countable한 state space $E$를 가지는 discrete-time stochastic process $\\{X_t\\}_{t \\geq 0}$이 Markov property를 만족하면 stochestic process $\\{X_t\\}_{t\\geq0}$을 (discrete-time) Markov Chain이라고 한다.\n",
    ":::"
   ]
  },
  {
   "cell_type": "markdown",
   "id": "87d47036",
   "metadata": {},
   "source": [
    "- state space : 모든 확률과정에서 가능한 상태의 집합이다."
   ]
  },
  {
   "cell_type": "markdown",
   "id": "25a8d923",
   "metadata": {},
   "source": [
    "## Markov property"
   ]
  },
  {
   "cell_type": "markdown",
   "id": "fc31b771",
   "metadata": {},
   "source": [
    ":::{.callout-note }\n",
    "## Markov property\n",
    "$\\forall t\\geq 0, \\forall i_0,i_1,\\dots,i_{n-1},i,j \\in E :$\n",
    "$$P(X_{t+1} = j|X_0 = i_0,X_1 = i_1,X_2 = i_2,\\dots,X_{t}=i) = P(X_{t+1} = j,X_{t} = i)$$\n",
    ":::"
   ]
  },
  {
   "cell_type": "markdown",
   "id": "4add05b7",
   "metadata": {},
   "source": [
    "- 확률분포가 이전시점에 의해서만 영향을 받음을 의미한다.\n",
    "- 바로 이전시점만 잘 기억하면 되며 이외의 더 오래된 정보들은 필요가 없다."
   ]
  },
  {
   "cell_type": "markdown",
   "id": "d0288124",
   "metadata": {},
   "source": [
    "## Transition Probability"
   ]
  },
  {
   "cell_type": "markdown",
   "id": "8605e6d9",
   "metadata": {},
   "source": [
    ":::{.callout-note}\n",
    "## Definition of transition probability\n",
    "카운터블한 상태공간$V$를 가지는 HMC 를 고려하자. 상태 $i$에서 상태 $j$로 바뀌는 조건부 확률 \n",
    "$$P(X_{t+1} = j | X_t = i)$$\n",
    "을 $\\{X_t\\}_{t\\geq0}$의 전이확률(transition probability)라 한다.\n",
    ":::"
   ]
  },
  {
   "cell_type": "markdown",
   "id": "28f6e4f9",
   "metadata": {},
   "source": [
    "- $p_{ij}\\geq0$ (확률은 항상 0보다 크다.)\n",
    "- $\\sum_{j\\in E}p_{ij} = 1$ (확률의 합은 1이다.)"
   ]
  },
  {
   "cell_type": "markdown",
   "id": "a3aead23",
   "metadata": {},
   "source": [
    "- 만약 모든 $t$에 대하여 $P(X_{t+1} = j | X_t = i)$가  일정하다면 ${X_t}$를 homogeneous Markov Chain(HMC)라 한다.\n",
    "    - 즉 확률과정이 markov property를 가지며 transition probability가 일정하다면 HMC이다.\n",
    "    - 여기서부터 모든 내용은 주로 HMC에 대하여 다뤄진다."
   ]
  },
  {
   "cell_type": "markdown",
   "id": "25a55a60",
   "metadata": {},
   "source": [
    "## Transition Matrix"
   ]
  },
  {
   "cell_type": "markdown",
   "id": "327f8902",
   "metadata": {},
   "source": [
    ":::{.callout-note}\n",
    "## Definition of transition matrix\n",
    "카운터블한 상태공간 $V$를 가지는 HMC $\\{X_t\\}_{t\\geq0}$를 고려하자. 다음과 같은 matrix를 transition probability matrix(전이확률행렬,전이행렬,transition matrix)라 한다.\n",
    "$$\n",
    "\\begin{aligned}\n",
    "&\\bf{P} = \n",
    "\\begin{bmatrix}\n",
    "p_{00} \\ p_{01} \\ \\dots \\\\\n",
    "p_{10} \\ p_{11} \\ \\dots \\\\\n",
    "\\vdots \\ \\vdots  \\ \\ \\dots \\\\\n",
    "\\end{bmatrix}\n",
    "\\\\\n",
    "&\\text {where } p_{ij} = P(X_{t+1} = i|X_t = j)\n",
    "\\end{aligned}\n",
    "$$\n",
    ":::"
   ]
  },
  {
   "cell_type": "markdown",
   "id": "97f2c64e",
   "metadata": {},
   "source": [
    "- 즉, (i,j)위치에 있는 element가 전이확률 $p_{ij} = P(X_{t+1} = i|X_t = j)$인 matrix $\\bf{P}$인 matrix를 transition probability matrix(전이확률행렬,전이행렬,transition matrix)라 한다.\n",
    "- 상태공간의 원소는 countable하므로 자연수의 갯수만 큼 무한하며 행렬로 보기 어려울 수 있다. 그러나 일반적인 행렬의 연산들은 잘 정의되므로 행과 열이 무한히 많은 행렬로 생각해도 무리가 없다.\n",
    "- 전이확률은 $\\sum_{j \\in E}p_{ij} = 1 \\to $ 각각의 row vector에서 합을 취하면 1이다.\n"
   ]
  },
  {
   "cell_type": "markdown",
   "id": "6182efa2",
   "metadata": {},
   "source": [
    "## 기억해야 할 성질들"
   ]
  },
  {
   "cell_type": "markdown",
   "id": "3bfe7549",
   "metadata": {},
   "source": [
    "- Review에서 나왔던 중요한 성질들이 transpose로 인해 살짝식 바뀐다.(나머지는 동일하다.)"
   ]
  },
  {
   "cell_type": "markdown",
   "id": "152b92c0",
   "metadata": {},
   "source": [
    ":::{.callout-note}\n",
    "1. $X_t \\sim \\boldsymbol{\\mu}_t^T$($\\boldsymbol{\\mu}_t^T$는 확률분포다.)\n",
    "2. $X_{t+n} \\sim \\boldsymbol{\\mu}_{t+n} = \\boldsymbol{\\mu}_t^T\\bf{P}^n$($\\bf{P}$의 거듭제곱으로 n step후의 확률분포를 구한다.)\n",
    "3. transition matrix의 거듭제곱 ${\\bf{P}}^n$은 현재상태가 i일 때 n-step후 상태 j일 n-step transition probability를 가지고 있다.\n",
    "$$\\text{n-step transition probability from i to j} = \\text{(i,j) element of }{\\bf{P}}  = P(X_{t+n} = j|X_t = i) = p_{ij}^{(n)}$$\n",
    ":::"
   ]
  },
  {
   "cell_type": "markdown",
   "id": "23b79294",
   "metadata": {},
   "source": [
    "# 예시 - 날씨모형"
   ]
  },
  {
   "cell_type": "markdown",
   "id": "64d35965",
   "metadata": {},
   "source": [
    "- 날씨모형이 아래와 같다고 해보자."
   ]
  },
  {
   "cell_type": "markdown",
   "id": "b9433a67",
   "metadata": {},
   "source": [
    "$$\n",
    "\\begin{aligned}\n",
    "P(X_t| X_{t-1} = 0) = \n",
    "\\begin{cases}\n",
    "0.8 \\quad(X_t = 0) \\\\ 0.2 \\quad(X_t = 1)\n",
    "\\end{cases}\n",
    "\\\\\n",
    "P(X_t| X_{t-1} = 1) = \n",
    "\\begin{cases}\n",
    "0.1 \\quad(X_t = 0) \\\\ 0.9 \\quad(X_t = 1)\n",
    "\\end{cases}\n",
    "\\end{aligned}\n",
    "$$"
   ]
  },
  {
   "cell_type": "markdown",
   "id": "d0292ff4",
   "metadata": {},
   "source": [
    "- t일 후의 날씨는 각각 $X_t$인 random variable이다.\n",
    "- 이러한 random variable의 sequence는 확률과정 $\\{X_t\\}_{t\\geq0}$이다.\n",
    "- 날씨모형에 의해 현재의 날씨는 바로 이전(전날)의 날씨에 의해서만 결정된다.\n",
    "    - 날씨모형에 의해서 위와 같은 확률과정은 Markov property를 만족하는 Markov chain이다.\n",
    "- 모든 t에 대해서 위와 같은 조건부확률분포는 일정하다.\n",
    "    - Homogeneous Markov Chain이다."
   ]
  },
  {
   "cell_type": "markdown",
   "id": "8744f386",
   "metadata": {},
   "source": [
    "- 이 때의 transition matrix는 다음과 같다."
   ]
  },
  {
   "cell_type": "code",
   "execution_count": 4,
   "id": "7ffac1a4",
   "metadata": {},
   "outputs": [
    {
     "data": {
      "text/plain": [
       "array([[0.8, 0.2],\n",
       "       [0.1, 0.9]])"
      ]
     },
     "execution_count": 4,
     "metadata": {},
     "output_type": "execute_result"
    }
   ],
   "source": [
    "P = np.array([0.8,0.2,0.1,0.9]).reshape(2,2)\n",
    "P"
   ]
  },
  {
   "cell_type": "markdown",
   "id": "16779fcc",
   "metadata": {},
   "source": [
    "## 여러가지 특징,현상을 살펴보자."
   ]
  },
  {
   "cell_type": "markdown",
   "id": "675446d8",
   "metadata": {},
   "source": [
    "## 1. ${\\bf{P}}$의 거듭제곱은 수렴한다."
   ]
  },
  {
   "cell_type": "code",
   "execution_count": 5,
   "id": "e9a152f6",
   "metadata": {},
   "outputs": [
    {
     "data": {
      "text/plain": [
       "array([[0.35216502, 0.64783498],\n",
       "       [0.32391749, 0.67608251]])"
      ]
     },
     "execution_count": 5,
     "metadata": {},
     "output_type": "execute_result"
    }
   ],
   "source": [
    "np.linalg.matrix_power(P,10)"
   ]
  },
  {
   "cell_type": "code",
   "execution_count": 6,
   "id": "41e8ded8",
   "metadata": {},
   "outputs": [
    {
     "data": {
      "text/plain": [
       "array([[0.33333335, 0.66666665],\n",
       "       [0.33333333, 0.66666667]])"
      ]
     },
     "execution_count": 6,
     "metadata": {},
     "output_type": "execute_result"
    }
   ],
   "source": [
    "np.linalg.matrix_power(P,50)"
   ]
  },
  {
   "cell_type": "code",
   "execution_count": 7,
   "id": "e83ac69f",
   "metadata": {},
   "outputs": [
    {
     "data": {
      "text/plain": [
       "array([[0.33333333, 0.66666667],\n",
       "       [0.33333333, 0.66666667]])"
      ]
     },
     "execution_count": 7,
     "metadata": {},
     "output_type": "execute_result"
    }
   ],
   "source": [
    "P_star = np.linalg.matrix_power(P,100)\n",
    "P_star"
   ]
  },
  {
   "cell_type": "markdown",
   "id": "e7789da8",
   "metadata": {},
   "source": [
    "- 즉 다음과 같다."
   ]
  },
  {
   "cell_type": "markdown",
   "id": "3afa1544",
   "metadata": {},
   "source": [
    "$$lim_{n\\to\\infty}{\\bf{P}}^n = {\\bf{P}}^★$$"
   ]
  },
  {
   "cell_type": "markdown",
   "id": "66cf7770",
   "metadata": {},
   "source": [
    "## 2. ${\\bf{P}}^★$의 모든 row는 같다."
   ]
  },
  {
   "cell_type": "code",
   "execution_count": 8,
   "id": "9b3d7b01",
   "metadata": {},
   "outputs": [
    {
     "data": {
      "text/plain": [
       "array([[0.33333333, 0.66666667],\n",
       "       [0.33333333, 0.66666667]])"
      ]
     },
     "execution_count": 8,
     "metadata": {},
     "output_type": "execute_result"
    }
   ],
   "source": [
    "P_star"
   ]
  },
  {
   "cell_type": "markdown",
   "id": "97804e09",
   "metadata": {},
   "source": [
    "- ${\\bf{P}}^★$의 모든 row vector들은 서로 같다.\n"
   ]
  },
  {
   "cell_type": "markdown",
   "id": "d2ed4e98",
   "metadata": {},
   "source": [
    "## 3. 초기분포가 뭐던지 $X_\\infty$의 분포는 항상같으며  ${\\bf{P}}^★$의 row이다."
   ]
  },
  {
   "cell_type": "markdown",
   "id": "59c21e0c",
   "metadata": {},
   "source": [
    "- 초기분포 $\\boldsymbol{\\mu_0}$를 알고있을때 $X_{\\infty}$의 분포 $\\mu_{\\infty}$를 계산해보자. 다음과 같이 계산해볼 수 있을 것이다.\n",
    "    - 확률과정은 하나의 outcome인 $\\omega$에 대응한다.\n",
    "    - 이때 $\\omega$의 분포를 초기분포라 하며 $\\boldsymbol{\\mu_0}$로 표시한다.(조심하자.)\n",
    "    - 이로부터 t-step 후 임의의 시점 t에서 $X_t$의 분포가 $\\mu_t$(헷갈리지 말자.)"
   ]
  },
  {
   "cell_type": "markdown",
   "id": "c4a6eac5",
   "metadata": {},
   "source": [
    "- 초기분포를 $\\mu^T_0 = \\begin{bmatrix} 0 & 01\\end{bmatrix}^T$ 라 하자(비가 왔다). $X_{\\infty}$의 분포 $\\boldsymbol{\\mu}_{\\infty}$는 아래와 같다."
   ]
  },
  {
   "cell_type": "markdown",
   "id": "49de6295",
   "metadata": {},
   "source": [
    "$$\n",
    "\\begin{aligned}\n",
    "\\mu_{\\infty}^T = \\mu_0^T \\times \\lim_{n\\to\\infty}{\\bf{P}}^n\n",
    "\\end{aligned}\n",
    "$$\n"
   ]
  },
  {
   "cell_type": "code",
   "execution_count": 9,
   "id": "62bdc93b",
   "metadata": {},
   "outputs": [
    {
     "data": {
      "text/plain": [
       "array([0.33333333, 0.66666667])"
      ]
     },
     "execution_count": 9,
     "metadata": {},
     "output_type": "execute_result"
    }
   ],
   "source": [
    "μ0 = np.array([0.9,0.1])\n",
    "μ_inf = μ0.T @ P_star\n",
    "μ_inf"
   ]
  },
  {
   "cell_type": "markdown",
   "id": "ae6ee126",
   "metadata": {},
   "source": [
    "- 초기분포를 $\\mu^T_0 = \\begin{bmatrix} 0.65 & 0.35\\end{bmatrix}^T$ 라 하자. $X_{\\infty}$의 분포 $\\boldsymbol{\\mu}_{\\infty}$는 아래와 같다."
   ]
  },
  {
   "cell_type": "code",
   "execution_count": 10,
   "id": "b9eb13bd",
   "metadata": {},
   "outputs": [
    {
     "data": {
      "text/plain": [
       "array([0.33333333, 0.66666667])"
      ]
     },
     "execution_count": 10,
     "metadata": {},
     "output_type": "execute_result"
    }
   ],
   "source": [
    "μ0 = np.array([0.65,0.35])\n",
    "μ_inf = μ0.T @ P_star\n",
    "μ_inf"
   ]
  },
  {
   "cell_type": "markdown",
   "id": "87d38519",
   "metadata": {},
   "source": [
    "- 초기분포를 $\\mu^T_0 = \\begin{bmatrix} 1 & 0\\end{bmatrix}^T$ 라 하자. $X_{\\infty}$의 분포 $\\boldsymbol{\\mu}_{\\infty}$는 아래와 같다."
   ]
  },
  {
   "cell_type": "code",
   "execution_count": 11,
   "id": "4e17bed4",
   "metadata": {},
   "outputs": [
    {
     "data": {
      "text/plain": [
       "array([0.33333333, 0.66666667])"
      ]
     },
     "execution_count": 11,
     "metadata": {},
     "output_type": "execute_result"
    }
   ],
   "source": [
    "μ0 = np.array([0.1,0.9])\n",
    "μ_inf = μ0.T @ P_star\n",
    "μ_inf"
   ]
  },
  {
   "cell_type": "markdown",
   "id": "74ba64fb",
   "metadata": {},
   "source": [
    "- 임의의 t시점에서 $X_t$의 분포를 사용하여 $X_\\infty$의 분포를 구하면 아래와 같을 것이다."
   ]
  },
  {
   "cell_type": "markdown",
   "id": "aca19efc",
   "metadata": {},
   "source": [
    "$$\\mu_\\infty^T = \\mu_t^T \\times \\lim_{n\\to\\infty}{\\bf{P}}^n$$"
   ]
  },
  {
   "cell_type": "markdown",
   "id": "08bdd6ea",
   "metadata": {},
   "source": [
    "- 왜 그럴까?"
   ]
  },
  {
   "cell_type": "markdown",
   "id": "6937cb41",
   "metadata": {},
   "source": [
    "$$\n",
    "\\begin{aligned}\n",
    "\\mu_{\\infty}^T &= \\mu_0^T \\times \\lim_{n\\to\\infty}{\\bf{P}}^n \\\\\n",
    "&=\\mu_0^T \\times {\\bf{P}} \\times {\\bf{P}} \\times {\\bf{P}} \\times {\\bf{P}} \\times \\dots \\\\\n",
    "&= \\mu_0^T \\times {\\bf{P}}^t \\times {\\bf{P}} \\times {\\bf{P}} \\times {\\bf{P}} \\times \\dots  \\\\\n",
    "&= \\mu_t^T \\times \\lim_{n\\to\\infty}{\\bf{P}}^n\n",
    "\\end{aligned}\n",
    "$$\n"
   ]
  },
  {
   "cell_type": "markdown",
   "id": "206e5b79",
   "metadata": {},
   "source": [
    "- $t = 10$일때 $X_{10}$의 분포를 사용하여 $\\mu_{\\infty}^T$를 구해보자."
   ]
  },
  {
   "cell_type": "code",
   "execution_count": 12,
   "id": "7d5956c1",
   "metadata": {},
   "outputs": [
    {
     "data": {
      "text/plain": [
       "array([0.33333333, 0.66666667])"
      ]
     },
     "execution_count": 12,
     "metadata": {},
     "output_type": "execute_result"
    }
   ],
   "source": [
    "# 1. 먼저 X10의 분포구하고\n",
    "mu_10 = μ0.T @ np.linalg.matrix_power(P,10) \n",
    "# 2. 그 다음 X무한대의 분포구하기\n",
    "μ_inf2 = mu_10.T @ P_star \n",
    "μ_inf2"
   ]
  },
  {
   "cell_type": "markdown",
   "id": "0e1bc84f",
   "metadata": {},
   "source": [
    "- 이는 앞에서 봤던 $P^★$의 row와 일치한다."
   ]
  },
  {
   "cell_type": "code",
   "execution_count": 13,
   "id": "a4e0aa1f",
   "metadata": {},
   "outputs": [
    {
     "data": {
      "text/plain": [
       "(array([0.33333333, 0.66666667]), array([0.33333333, 0.66666667]))"
      ]
     },
     "execution_count": 13,
     "metadata": {},
     "output_type": "execute_result"
    }
   ],
   "source": [
    "P_star[0],μ_inf"
   ]
  },
  {
   "cell_type": "markdown",
   "id": "925326b7",
   "metadata": {},
   "source": [
    "- 정리하자면\n",
    "    1. 항상 $X_{\\infty} \\sim \\mu_{\\infty}^T = \\begin{bmatrix}0.333.. & 0.666...\\end{bmatrix}^T$이며\n",
    "    2. 이는 $ \\lim_{n\\to\\infty}{\\bf{P}}^n = P^★$에서 아무거나 row vector와 같다.(row vector가 모두 동일했음을 상기.)"
   ]
  },
  {
   "cell_type": "markdown",
   "id": "219b960f",
   "metadata": {},
   "source": [
    "## 4. $\\text{row vector}_{{\\bf{P}}^★} \\times P = \\text{row vector}_{{\\bf{P}}^★}$"
   ]
  },
  {
   "cell_type": "markdown",
   "id": "197466a4",
   "metadata": {},
   "source": [
    "- ${\\bf{P}}^★$의 row vector를 $\\pi^T$라 아래가 성립한다."
   ]
  },
  {
   "cell_type": "markdown",
   "id": "025e763d",
   "metadata": {},
   "source": [
    "$$\\pi^T{\\bf{P}} = \\pi^T$$"
   ]
  },
  {
   "cell_type": "code",
   "execution_count": 14,
   "id": "db73c770",
   "metadata": {},
   "outputs": [
    {
     "data": {
      "text/plain": [
       "array([0.33333333, 0.66666667])"
      ]
     },
     "execution_count": 14,
     "metadata": {},
     "output_type": "execute_result"
    }
   ],
   "source": [
    "π_T = P_star[0]\n",
    "π_T"
   ]
  },
  {
   "cell_type": "code",
   "execution_count": 15,
   "id": "1de538b3",
   "metadata": {},
   "outputs": [
    {
     "data": {
      "text/plain": [
       "array([0.33333333, 0.66666667])"
      ]
     },
     "execution_count": 15,
     "metadata": {},
     "output_type": "execute_result"
    }
   ],
   "source": [
    "π_T@P"
   ]
  },
  {
   "cell_type": "markdown",
   "id": "0903c321",
   "metadata": {},
   "source": [
    "- 당연하게도 다른 분포에 대해서는 성립하지 않는다."
   ]
  },
  {
   "cell_type": "code",
   "execution_count": 16,
   "id": "170a4744",
   "metadata": {},
   "outputs": [],
   "source": [
    "_dist = [0.4,0.3]"
   ]
  },
  {
   "cell_type": "code",
   "execution_count": 17,
   "id": "245e6da6",
   "metadata": {},
   "outputs": [
    {
     "data": {
      "text/plain": [
       "array([0.35, 0.35])"
      ]
     },
     "execution_count": 17,
     "metadata": {},
     "output_type": "execute_result"
    }
   ],
   "source": [
    "_dist@P"
   ]
  },
  {
   "cell_type": "markdown",
   "id": "df8b62f3",
   "metadata": {},
   "source": [
    "## 5. 초기분포 ${\\boldsymbol{\\mu_0}} = \\pi$라면 $\\{X_t\\}_{t\\geq0}$는 모두 동일한 분포를 가진다."
   ]
  },
  {
   "cell_type": "markdown",
   "id": "33b4d1ab",
   "metadata": {},
   "source": [
    "- 초기분포 $\\mu_0 = \\pi$라 하자."
   ]
  },
  {
   "cell_type": "markdown",
   "id": "a261adf0",
   "metadata": {},
   "source": [
    "$$\n",
    "\\begin{aligned}\n",
    "&\\mu_0^T{\\bf{P}} = \\pi = \\mu_1\\\\\n",
    "&\\mu_1^T{\\bf{P}} = \\pi{\\bf{P}} = \\pi = \\mu_2\\\\\n",
    "&\\mu_2^T{\\bf{P}} = \\pi{\\bf{P}} = \\pi = \\mu_3\\\\\n",
    "&\\quad\\quad\\quad\\vdots\n",
    "\\end{aligned}\n",
    "$$"
   ]
  },
  {
   "cell_type": "markdown",
   "id": "65f596cc",
   "metadata": {},
   "source": [
    "- 따라서 $\\pi = \\mu_0 =\\mu_1 = \\mu_2 = \\mu_3 = \\dots$ 이다."
   ]
  },
  {
   "cell_type": "markdown",
   "id": "1b9cd0b0",
   "metadata": {},
   "source": [
    "- 특징 5의 변형 : 사실 초기분포가 $\\pi$가 아니더라도 적당한 시점 $T$이후의 $\\{X_t\\}_{t\\geq T_0}$는 동일한 분포를 가진다.(이게 더 중요하다.)"
   ]
  },
  {
   "cell_type": "markdown",
   "id": "3fc4976a",
   "metadata": {},
   "source": [
    "# 정리"
   ]
  },
  {
   "cell_type": "markdown",
   "id": "2d31086a",
   "metadata": {},
   "source": [
    "- 확률과정이 Markov property를 만족하면 Markov Chain이며 Markov Chain이 Homogeneous하면 Homogeneous Markov Chain이다.\n",
    "- transition matrix와 확률분포에 관한 여러가지 특징들이 있다. $\\to$ 왜 이런 특징들이 있을까?\n",
    "- 다음포스팅에 계속 ..."
   ]
  }
 ],
 "metadata": {
  "kernelspec": {
   "display_name": "Python 3 (ipykernel)",
   "language": "python",
   "name": "python3"
  },
  "language_info": {
   "codemirror_mode": {
    "name": "ipython",
    "version": 3
   },
   "file_extension": ".py",
   "mimetype": "text/x-python",
   "name": "python",
   "nbconvert_exporter": "python",
   "pygments_lexer": "ipython3",
   "version": "3.9.13"
  },
  "toc": {
   "base_numbering": 1,
   "nav_menu": {
    "height": "11.6px",
    "width": "160px"
   },
   "number_sections": true,
   "sideBar": true,
   "skip_h1_title": false,
   "title_cell": "Table of Contents",
   "title_sidebar": "Contents",
   "toc_cell": false,
   "toc_position": {
    "height": "calc(100% - 180px)",
    "left": "10px",
    "top": "150px",
    "width": "165px"
   },
   "toc_section_display": true,
   "toc_window_display": true
  }
 },
 "nbformat": 4,
 "nbformat_minor": 5
}
