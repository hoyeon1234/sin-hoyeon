{
 "cells": [
  {
   "cell_type": "code",
   "execution_count": 48,
   "id": "42b47f84",
   "metadata": {},
   "outputs": [
    {
     "data": {
      "application/javascript": [
       "IPython.notebook.set_autosave_interval(30000)"
      ]
     },
     "metadata": {},
     "output_type": "display_data"
    },
    {
     "name": "stdout",
     "output_type": "stream",
     "text": [
      "Autosaving every 30 seconds\n"
     ]
    }
   ],
   "source": [
    "%autosave 30\n",
    "import numpy as np"
   ]
  },
  {
   "cell_type": "markdown",
   "id": "c6d25e77",
   "metadata": {},
   "source": [
    "확률벡터 X는 결국 확률변수와 같이\n",
    "- sample space의 원소 w에 대응하는 것이다.\n",
    "- 즉 one sample에 대응하는 벡터이다.\n",
    "- 마코프 체인도 마찬가지, outcome omega에 대응하는 one sample일 뿐이다..\n",
    "\n",
    "확률벡터의 평균(expectation)\n",
    "확률벡터 : w -> X(W) = (X_1(w),X_2(w))\n",
    "확률벡터의 expecation은 ?\n",
    "- 확률벡터가 대략 어느정도 값을 가질까? 어떤 값으로 예상되니?\n",
    "- E(X) = sum(확률벡터가 취할 수 있는 값 * 대응되는 확률)\n",
    "- ex : E(X) = X(w_1) * P(X(w_1)) + X(w_2)*P(X(w_2))\n",
    "또한 이렇게 계산된 확률벡터의 평균에서 각각의 element는 각각의 element에 대한 expectation이 숨겨져 있음.\n",
    "- ex : E(X) = E(X) = [E(X_1),E(X_2)]\n",
    "\n",
    "동전을 10번 던지는 시행을 여러번 반복한다고 하자. 이때 확률벡터의 expecation은?\n",
    "E(X) = sum(X(w_1) * P(X(w_1) + X(w_2) * P(X(W_2)) + ... + X(w_2**10) * P(X(w_2**10)) = [E(X_1) E(X_2)... E(X_10)]\n",
    "\n",
    "X_10의 분포는 어떻게 구해 ? E(X_10)은 어떻게 구해야해? \n",
    "- 원칙적으로는 앙상블 평균을 구해야 했음. (many sample에 대한 ensemble mean)\n",
    "1. 즉 여러번 w에 대응하는 것들을 구한다음\n",
    "2. 10번째의 값을 ensemble mean을 취해서 구했음\n",
    "더 정확히 \n",
    "1. outcome w를 복원추출하여\n",
    "2. X_1000(w_1),X_1000(w_2)...를 관측하여 average\n",
    "오래걸림\n",
    "\n",
    "- 근데 i.i.d라면?\n",
    "1. 그냥 시간평균을 쭉 취해도 됐었음(one sample에 대한 sample mean)\n",
    "오래안걸림,근데 i.i.d라는 강력한 가정이 필요\n",
    "한 줄 알았는데 i.i.d라는 강력한 가정이 필요하지 않은 경우가 있음\n",
    "어떠한 경우에서 이러한 논리전개가 성립하는가?\n",
    "\n",
    "확률과정\n",
    "닥터스트레인지 ㅋㅋ\n",
    "하나의 w에 대응하는 outcome을 반드시 기억해라\n",
    "w1 -> 시나리오\n",
    "w2 -> 시나리오\n",
    "...\n",
    "w_천사백만 -> 시나리오\n",
    "\n",
    "1번풀이 그냥 앙상블 mean\n",
    "- HMC가 IRR,PR,AP -\n",
    "    1. transition P를 보면 Finite,IRR,AP임을 알고\n",
    "        - IRR은 transition 다른상태에 대한 확률을 봐서 알고\n",
    "        - AP는 자기자신으로 이동할 수 있는지 + IRR한 마코프 체인은 주기가 모두 같다\n",
    "    2. FINITE한 HMC가 IRR -> PR임을 알기에(IRR,PR,AP)\n",
    "        - FINITE,IRR인 경우 모든 상태의 natrue가 PR인 PR MC이다.\n",
    "- 결과적으로 이 경우는 nice한 에르고딕 마코프 체인 <br>"
   ]
  },
  {
   "cell_type": "markdown",
   "id": "71adbf82",
   "metadata": {},
   "source": [
    "2번풀이 \n",
    "    - 에르고딕 마코프 체인은 극한분포가 존재함을 사용(IRR,PR,AP)<br>\n",
    "\n",
    "3번풀이\n",
    "    - `유일한` 정상분포가 존재함을 인지(FINITE,IRR $\\to$ `PR` $\\to$ `유일한` 정상분포가 존재함)\n",
    "    - 정상분포의 정의를 활용하여 구함\n",
    "※주의\n",
    "- HMC가 IRR하다고 해서 항상 정상분포가 존재하는 것은 아님!\n",
    "    - FINITE인 경우 IRR하다면 PR하기에 `유일한`정상분포가 존재하지만\n",
    "    - INFINITE인 경우 IRR해도 정상분포가 존재하지 않을 수 있음(NR,TR)\n",
    "- FINITE-HMC의 경우 항상 정상분포가 존재(유일성은 보장 X)\n",
    "\n",
    "4번풀이\n",
    "- FINITE-IRR $\\to$ IRR,PR $\\to$ 에르고딕 정리 사용"
   ]
  },
  {
   "cell_type": "markdown",
   "id": "f86fc55f",
   "metadata": {},
   "source": [
    "# 날씨모형 리뷰"
   ]
  },
  {
   "cell_type": "markdown",
   "id": "acc77183",
   "metadata": {},
   "source": [
    "- 표현 정리\n",
    "- P의 의미,특징 살펴봄\n",
    "- nice한 case \n",
    "    - 극한분포가 존재(에르고딕 마코프 체인이므로)하며 HMC에서 극한분포가 존재하면 정상분포!\n",
    "        - Aperiodic $\\to$ P_star보장 Q. Aperiodic만 하면 됨?\n",
    "        - FINITE,IRR $\\to$ PR $\\to$ 유일한 정상분포 보장\n",
    "        - 두 개가 전제되면 된다?\n",
    "    - \n",
    "Q. Aperiodic조건 잘 이해하기. AP조건은 모든 state가 Aperiodic함을 의미하는가?"
   ]
  },
  {
   "cell_type": "markdown",
   "id": "b05cbe73",
   "metadata": {},
   "source": [
    "- FINITE HMC이면 정상분포가 무조건 존재\n",
    "- FINITE,IRR HMC 정상분포가 `유일`존재\n",
    "- 초기분포를 정상분포로 설정하면 독립은 아니지만 분포가 동일해진다~"
   ]
  },
  {
   "cell_type": "markdown",
   "id": "45b2ec1a",
   "metadata": {},
   "source": [
    "## 예시3"
   ]
  },
  {
   "cell_type": "markdown",
   "id": "074660ca",
   "metadata": {},
   "source": [
    "- 일단 ...IRR X PR AP  $\\to$ IRR한 경우들로 쪼개자. \n",
    "- 그러면 각각의 communiation class에서 PR,NR,TR이 된다.\n",
    "     - 2-1.상태0만 있는 communication class는 FINITE-HMC IRR,PR,AP인 에르고딕 마코프 체인\n",
    "     - 2-2 상태1만 있는 communication class는 FINITE-HMC IRR,TR,NA인 극한분포가 존재하지 않음.+ 정상분포가 존재하지 않음.(못 머무르므로) \n",
    "- 이렇게 하면 하나는 $\\pi_1 = 1$가 존재하고 하나는 $\\pi_2 = 0$(존재하지 않음) 이렇게 총 2개의 $\\pi$의 조각들이 있음\n",
    "- $\\pi = [PR,AP] = [\\pi_1,\\pi_2] = [1,0]$\n",
    "- 이렇게 나눈 각각의 조각들에서 각각 해석한뒤 합쳐버리면 된다~\n",
    "         - Q1.대안정의 확인\n",
    "         - Q2. TR인 경우 0으로 놔버리는건 왜 ?(쪼개는 경우 해석 어떻게..?) "
   ]
  },
  {
   "cell_type": "markdown",
   "id": "9393ee20",
   "metadata": {},
   "source": [
    "# 예시4(단위행렬)\n",
    "- FINITE-HMC IRR X PR X AP O $\\to$ IRR하게 쪼개자. \n",
    "    - 추가적으로(극한분포가 존재한다는 사실 챙기기(유일하진 않고), tr matrix의 거듭제곱은?\n",
    "    - 각각의 communication class에서 ...\n",
    "    - 상태0만 있는 class - FINITE-HMC,IRR,PR,AP인 에르고딕 마코프 체인\n",
    "    - 상태1만 있는 class - FINITE-HMC,IRR,PR,AP인 에르고딕 마코프 체인\n",
    "    \n",
    "- 이렇게 하면 위에 예시처럼 $pi = [\\pi_1,\\pi_2]$ \n",
    "- 근데 이렇게 하면 $\\pi$가 아마 분포의 정의를 바로 만족하진 않으므로 스케일링 해서 합이 1이되도록 해준다.\n",
    "- 합이 1인 정상분포는 여러개다. 이는 HMC가 FINITE하고 IRR하지 않은 경우 정상분포가 다수 존재할 수 있다는 직관과 일치한다.\n",
    "- 이렇게 써서 구할 수 있음(Q.영상에 나온 예시로 풀어보기,단위행렬 말고))\n"
   ]
  },
  {
   "cell_type": "markdown",
   "id": "ced628f0",
   "metadata": {},
   "source": [
    "# 예시5(Shuffle,주기성)"
   ]
  },
  {
   "cell_type": "markdown",
   "id": "35627020",
   "metadata": {},
   "source": [
    "- FINITE-HMC IRR O PR O AP X $\\to$ 에르고딕 정리로 극한분포 구하기(하지만 극한분포는 존재하지 않음)\n"
   ]
  },
  {
   "cell_type": "markdown",
   "id": "9b167e5b",
   "metadata": {},
   "source": [
    "# 예시6(흡수)"
   ]
  },
  {
   "cell_type": "markdown",
   "id": "dbc5e692",
   "metadata": {},
   "source": [
    "IRR ㅇ PR ㅇ $\\to$ "
   ]
  },
  {
   "cell_type": "markdown",
   "id": "f803a95f",
   "metadata": {},
   "source": [
    "(20분부터 ~23분 반드시 다시보자 !)"
   ]
  },
  {
   "cell_type": "markdown",
   "id": "6b4e9243",
   "metadata": {},
   "source": [
    "**(몰랐던 것들)**\n",
    "- Q1. Aperiodic만 만족할 경우 or Periodic만 만족할 경우 transition matrix는?\n",
    "    - 수렴하는가 안하는가?\n",
    "    - 각각의 row는 동일한가?\n",
    "- Q2. Aperiodic은 모든 state가 Aperiodic하다는 것을 의미하는가?\n",
    "    - maybe.맞다.\n",
    "- Q3. 쪼갰을때 PR + PR , PR + NR  PR + TR 일 각각의 경우에 처리는 어떻게 하는가?\n",
    "    - 쪼개고 각각 처리한 후 다시 합친다.\n",
    "    - 특히 PR+PR일 경우 스케일링을 잘 하면 된다. 유일한 정상분포가 존재하지 않는 경우이다.(scailing에 따라서)\n",
    "    - NR,TR일 경우 $\\pi = 0$,즉 정상분포는 존재하지 않음.\n",
    "- Q4. HMC가 IRR O TR AP X 일때 or HMC가 IRR NR AP X 일 때 정상분포는?\n",
    "    - IRR,TR or IRR NR일 경우 정상분포가 존재하지 않음. 즉 , $\\pi = {\\bf{0}}^T$\n",
    "- Q5-1. AP가 안되는 경우? $p_★^T$가 존재하는가?\n",
    "    - 극한분포가 존재하지 않는다.\n",
    "    - 순환이동 예제를 생각해봤을때, $P^★$가 수렴하지 않기 때문이다.\n",
    "- Q5-2. IRR가 안되는 경우? $p_★^T$가 존재하는가?\n",
    "    - 극한분포가 존재하지 않는다.\n",
    "    - 단위행렬 예제를 생각해봤을때, $P^★$가 수렴은 한다.(단위행렬로)\n",
    "    - 하지만 모든 row vecotr가 다르기 때문에 극한분포가 존재할 2번째 조건에 어긋나며 따라서 존재하지 않는다.\n",
    "- Q6. PR,AP는 모든 state에 대해 전부 만족해야 하는가?\n",
    "    - maybe.맞다\n",
    "    - 이러한 특성(PR,AP)들은 HMC $\\{X_t\\}$의 특성을 확인하는 표에서 나타남 (IRR,정상분포 존재,정상분포 유일 등등...)\n",
    "    - 따라서 HMC의 특성을 의미한다고 볼 수 있음 +  PR,AP는 또한 IRR하면 모든 state에서 같기에 Markov Chain이 ~~하다라 말할 수 있음.\n",
    "- Q7. 용어정리\n",
    "    - 모든 상태에 대하여 주기가 3이먄 \"$X_t\\{\\}$의 주기가 3이다\" 라고 표현\n",
    "- Q8. AP이면 반드시 $P^★$가 존재? 즉 $P$의 거듭제곱이 항상 수렴?\n",
    "- Q9. 8분 45초 극한분포...?\n",
    "- Q10. 단위행렬 IRR아니니까 쪼개고 난 다음 ..왜 $\\pi_1,\\pi_2$에도 $\\alpha$가 곱해짐?(18:10)\n",
    "    - invariant measure개념\n",
    "- Q11. 쪼개고 난 PR,TR,AP는 어떻게 판단? \n",
    "    - 쪼개고 communication class로 쪼개고 나면 다음에는 IRR함 그래서 모든 state는 일단 같은 nature\n",
    "    - 각각의 조각에서 하나의 state를 보고 판단.\n",
    "- Q12. TR인 경우 어떻게 판단?\n",
    "    - P를 거듭제곱 해보면 $p_{ii}$ 뭐 이런 얘기도 있었는데 그냥 정의로 판단하는게 가장 좋은 거 같다.\n",
    "    - 느낌은 일단 안 돌아오는 느낌이다.\n",
    "- Q13. 극한분포가 존재하지 않는 경우?\n",
    "    - 1) $P$의 거듭제곱 자체가 수렴하지 않는 경우\n",
    "    - 2) $P$의 거듭제곱이 수렴은 하나 모든 원소의 합이 1이 아닌 경우(분포의 정의를 만족하지 않는 경우)\n",
    "- Q14. 극한분포가 존재하지 않는 경우에는 각각의 class에서 다시 합칠때 어떻게 해?\n",
    "    - 수렴하지 않는 경우는 X\n",
    "    - 분포의 정의를 만족하지 않는 경우는 0\n",
    "    - 이렇게 놓고 합치면 된다.(그 후 스칼라배도 해야겠지)\n",
    "- Q15. 표에서,정상분포부분 앙상블 mean과 관련되있다 하는데 직관 적으로 나도 이해하기"
   ]
  },
  {
   "cell_type": "markdown",
   "id": "d9e15605",
   "metadata": {},
   "source": [
    "**(아는데 멈칫 질문)**\n",
    "- Q1. Finite case에서 $\\exists !p_★$일 조건은?\n",
    "    - IRR,AP\n",
    "    - FINITE IRR AP $\\to$ IRR PR AP $\\to$ 에르고딕 마코프 체인이므로 극한분포가 항상 존재한다.\n",
    "- Q2. Finite case에서 $\\exists !\\pi$일 조건은?\n",
    "    - IRR\n",
    "    - FINITE IRR $\\to$ FINITE IRR PR $\\to$ HMC IRR PR $\\to$ 정상분포가 유일하게 존재한다.\n",
    "    \n",
    "- Q3. IRR-HMC이면 모든 state는 주기,nature가 같다.\n",
    "    - \n",
    "- Q4 FINITE,IRR $\\to$ IRR,PR $\\to$ 1)정상분포 유일 존재2)에르고딕 정리\n",
    "- Q5 PR or NR이 된다라는 건 ? periodicty(주기성) 즉 AP인지 아닌지를 논의할 수 있음\n",
    "- Q6. irr,pr,ap에 대한 직관은?\n",
    "    - irr : group이 모두 연결?\n",
    "    - pr : 무한번 방문 가능?\n",
    "    - ap : 돌아오는 패턴이 없음?\n",
    "- Q7. 교수님하고 나하고 notation 다르다(17분)\n",
    "    - notation이 다른게 아니라 개념이 다른거다.\n",
    "    - 나는 정상분포에 대해서만 생각했지만 극한분포에 대해서도 똑같이 가능하다.\n",
    "    - 그니까 정상분포든 극한분포든 전부 다 쪼개어서 생각할 수 있다는 얘기\n",
    "    - 왜 헷갈렸었음? \n",
    "        - $p$라고만 적혀있어서 극한분포인지 몰랐고($p_★$로 적었으니까 여태까지,사실상 $p_★$도 맞음)\n",
    "        - AP조건이 의미하는 바를 몰랐음 $\\to$ irr,pr,ap이면 극한분포 존재함을 상기하자."
   ]
  },
  {
   "cell_type": "markdown",
   "id": "8a60d63c",
   "metadata": {},
   "source": [
    "- 그 외 Note-\n",
    "- FInite cas IRR $\\to$ positive recurrent를 암시함을 이해해도 상관없음(교수님 말)"
   ]
  },
  {
   "cell_type": "markdown",
   "id": "238924ee",
   "metadata": {},
   "source": [
    "# 흡수상태"
   ]
  },
  {
   "cell_type": "markdown",
   "id": "fadf6bcd",
   "metadata": {},
   "source": [
    "- Finite HMC , IRR X PR X AP X\n",
    "    - IRR X, 1$\\to$0만 가능함(정상분포가 존재함,유일성은 보장 안됨)\n",
    "    - PR X, 모든 상태에 대해서 무한방문 할 수 있는건 아님\n",
    "        - 상태0은 PR, 상태1은 TR\n",
    "    - AP X, \n",
    "        - 상태0은 PR이고 preiod = 1이 맞지만 상태1은 AP이기 때문에 period 자체가 NA\n",
    "- 쪼개기\n",
    "    - $0 \\in \\text{class}_0$ : irr O pr O ap O\n",
    "    - $1 \\in \\text{class}_1$ : irr O pr x ap NA\n",
    "- 쪼개고 각각 정상분포 구하기\n",
    "    - 이론적 백업 : HMC가 IRR하다면 반드시 PR,NR,TR 중 하나의 natrue를 갖고 각각은 정상분포를 갖음(PR일 경우 구해봐야 함 NR or TR인 경우 0인 정상분포)\n",
    "    - $\\text{class}_0$ : $\\pi_0\\ = 1$\n",
    "    - $\\text{class}_1$ : $\\pi_1\\ = 0$\n",
    "- 합치기\n",
    "    - 합칠때는 스칼라배 해서 합치면 됨\n",
    "    - $\\tilde{\\pi} = [\\alpha_1 \\pi_1 \\,\\alpha_2 \\pi_2] = [\\alpha_1 \\pi_1 \\, 0]$\n",
    "    - $\\pi = [\\beta_1 \\pi_1\\,\\beta_2 \\pi_2] = [\\beta_1 \\pi_1\\,0] \\text{ where } \\beta_1\\pi_1 + \\beta_2\\pi_2 = \\beta_1 = 1$ "
   ]
  },
  {
   "cell_type": "code",
   "execution_count": 49,
   "id": "4906ff51",
   "metadata": {},
   "outputs": [
    {
     "data": {
      "text/plain": [
       "array([[1., 0.],\n",
       "       [1., 0.]])"
      ]
     },
     "execution_count": 49,
     "metadata": {},
     "output_type": "execute_result"
    }
   ],
   "source": [
    "P = np.array([1,0,0.05,0.95]).reshape(2,2)\n",
    "P_star = np.linalg.matrix_power(P,100000)\n",
    "P_star"
   ]
  },
  {
   "cell_type": "code",
   "execution_count": 50,
   "id": "93c3b02e",
   "metadata": {},
   "outputs": [
    {
     "data": {
      "text/plain": [
       "(array([10,  0]), array([10.,  0.]))"
      ]
     },
     "execution_count": 50,
     "metadata": {},
     "output_type": "execute_result"
    }
   ],
   "source": [
    "alpha = 10\n",
    "in_pi = np.array([alpha * 1,0])\n",
    "in_pi,in_pi @ P_star"
   ]
  },
  {
   "cell_type": "code",
   "execution_count": 51,
   "id": "9d2d8d74",
   "metadata": {},
   "outputs": [
    {
     "data": {
      "text/plain": [
       "(array([1, 0]), array([1., 0.]))"
      ]
     },
     "execution_count": 51,
     "metadata": {},
     "output_type": "execute_result"
    }
   ],
   "source": [
    "pi = np.array([1,0])\n",
    "pi,pi@P_star"
   ]
  },
  {
   "cell_type": "markdown",
   "id": "8666bb22",
   "metadata": {},
   "source": [
    "# 단위행렬"
   ]
  },
  {
   "cell_type": "markdown",
   "id": "cfe0aecb",
   "metadata": {},
   "source": [
    "- Finite HMC , IRR X PR O AP O\n",
    "    - irr X, 1$\\to$0만 가능함(정상분포가 존재함,유일성은 보장 안됨)\n",
    "    - pr O, 모든 상태에 대해서 무한방문 할 수 있는건 아님\n",
    "        - 상태1,2 둘 다 PR\n",
    "    - ap O, \n",
    "        - 둘 다 ap(주기 1)\n",
    "- 쪼개기\n",
    "    - $0 \\in \\text{class}_0$ : irr O pr O ap O\n",
    "    - $1 \\in \\text{class}_1$ : irr O pr O ap O\n",
    "- 쪼개고 각각 정상분포 구하기\n",
    "    - 이론적 백업 : HMC가 IRR하다면 반드시 PR,NR,TR 중 하나의 natrue를 갖고 각각은 정상분포를 갖음(PR일 경우 구해봐야 함 NR or TR인 경우 0인 정상분포)\n",
    "    - $\\text{class}_0$ : $\\pi_0\\ = 1$\n",
    "    - $\\text{class}_1$ : $\\pi_1\\ = 1$\n",
    "- 합치기\n",
    "    - 합칠때는 스칼라배 해서 합치면 됨\n",
    "    - $\\tilde{\\pi} = [\\alpha_1 \\pi_1 \\,\\alpha_2 \\pi_2]$\n",
    "    - $\\pi = [\\beta_1 \\pi_1\\,\\beta_2 \\pi_2] \\text{ where } \\beta_1\\pi_1 + \\beta_2\\pi_2 = \\beta_1 + \\beta_2 = 1$ "
   ]
  },
  {
   "cell_type": "code",
   "execution_count": 55,
   "id": "12671aa5",
   "metadata": {},
   "outputs": [
    {
     "data": {
      "text/plain": [
       "array([[1, 0],\n",
       "       [0, 1]])"
      ]
     },
     "execution_count": 55,
     "metadata": {},
     "output_type": "execute_result"
    }
   ],
   "source": [
    "P = np.array([1,0,0,1]).reshape(2,2)\n",
    "P_star = np.linalg.matrix_power(P,100)\n",
    "P_star"
   ]
  },
  {
   "cell_type": "code",
   "execution_count": 62,
   "id": "42a1c463",
   "metadata": {},
   "outputs": [
    {
     "data": {
      "text/plain": [
       "(array([10,  5]), array([10,  5]))"
      ]
     },
     "execution_count": 62,
     "metadata": {},
     "output_type": "execute_result"
    }
   ],
   "source": [
    "al_1 = 10\n",
    "al_2 = 5\n",
    "in_pi = np.array([al_1 * 1,al_2 * 1])\n",
    "in_pi,in_pi @ P_star"
   ]
  },
  {
   "cell_type": "code",
   "execution_count": 66,
   "id": "ed8620a8",
   "metadata": {},
   "outputs": [
    {
     "data": {
      "text/plain": [
       "(array([0.1, 0.9]), array([0.1, 0.9]))"
      ]
     },
     "execution_count": 66,
     "metadata": {},
     "output_type": "execute_result"
    }
   ],
   "source": [
    "al_1 = 0.1\n",
    "al_2 = 1-al_1\n",
    "pi = np.array([al_1 * 1,al_2 * 1])\n",
    "pi,pi@P_star"
   ]
  }
 ],
 "metadata": {
  "kernelspec": {
   "display_name": "Python 3 (ipykernel)",
   "language": "python",
   "name": "python3"
  },
  "language_info": {
   "codemirror_mode": {
    "name": "ipython",
    "version": 3
   },
   "file_extension": ".py",
   "mimetype": "text/x-python",
   "name": "python",
   "nbconvert_exporter": "python",
   "pygments_lexer": "ipython3",
   "version": "3.9.13"
  },
  "toc": {
   "base_numbering": 1,
   "nav_menu": {},
   "number_sections": true,
   "sideBar": true,
   "skip_h1_title": false,
   "title_cell": "Table of Contents",
   "title_sidebar": "Contents",
   "toc_cell": false,
   "toc_position": {},
   "toc_section_display": true,
   "toc_window_display": false
  }
 },
 "nbformat": 4,
 "nbformat_minor": 5
}
