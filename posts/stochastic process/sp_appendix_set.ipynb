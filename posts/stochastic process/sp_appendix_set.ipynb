{
 "cells": [
  {
   "cell_type": "raw",
   "metadata": {},
   "source": [
    "---\n",
    "title: \"[Stochestic Process] 부록 - 자꾸 걸리는 집합개념 정리\"\n",
    "format: html\n",
    "date: \"2023/04/05\"\n",
    "author: \"hoyeon\"\n",
    "categories: \"Probability&Statistics\"\n",
    "---"
   ]
  },
  {
   "attachments": {},
   "cell_type": "markdown",
   "metadata": {},
   "source": [
    "# <span style = \"color:black\"> **집합**"
   ]
  },
  {
   "attachments": {},
   "cell_type": "markdown",
   "metadata": {},
   "source": [
    "- `집합`은 `원소들의 모임`이며 중복된 원소를 포함하지 않습니다.\n",
    "- 크게 중괄호 안에 원소를 나열하는 원소나열법과 특정한 조건을 만족하는 원소들로 이루어진 집합을 정의하는 조건제시법으로 집합을 정의할 수 있다.\n"
   ]
  },
  {
   "attachments": {},
   "cell_type": "markdown",
   "metadata": {},
   "source": [
    "## <span style = \"color:black\">**부분집합**"
   ]
  },
  {
   "attachments": {},
   "cell_type": "markdown",
   "metadata": {},
   "source": [
    "- 집합론에서 집합 A의 원소가 집합 B의 모든 원소에 속하면 집합 A는 집합 B의 `부분집합(subset)`이며 집합 B는 집합 A의 `상위집합(superset)`입니다. \n",
    "- 즉, `부분집합`과 `상위집합`은  **두 집합사이에 정의되는 개념**으로서 기호로 $A \\subseteq B$라 표기합니다.\n",
    "- 쉽게 생각해보자면 `부분집합`은 어떤 집합에 존재하는 각각의 모든 원소에서 `판단(선택할지 말지)`을 통해 만든 또다른 `집합`으로 볼 수 있습니다.\n",
    "- 모든 집합은 반드시 `자기 자신의 부분집합`입니다. 이는 `각각의 판단`에서 모든 원소를 `선택`했다고 볼 수 있습니다.\n",
    "- `공집합`은 `모든 집합`의 `부분집합`입니다. 이는 `각각의 판단`에서 모든 원소를 `선택하지 않음`으로 볼 수 있습니다.(엄밀하진 않습니다.공집합이 왜 모든 집합의 부분집합인지를 쉽게 받아들여지지 않아서 이를 기억하기 위함입니다.)"
   ]
  },
  {
   "attachments": {},
   "cell_type": "markdown",
   "metadata": {},
   "source": [
    "## <span style = \"color:black\">**진부분집합**"
   ]
  },
  {
   "attachments": {},
   "cell_type": "markdown",
   "metadata": {},
   "source": [
    "- 집합 A의 원소가 집합 B의 모든 원소에 속하면서 집합 A와 집합 B가 같지않다면(not equal) 집합 A는 집합 B의 `진부분집합(proper or strict subset)`입니다.\n",
    "- 기호로는 $A \\subsetneq B$로 표기합니다."
   ]
  },
  {
   "attachments": {},
   "cell_type": "markdown",
   "metadata": {},
   "source": [
    "## <span style = \"color:black\"> **부분집합 기호는 명제에서도 사용할 수 있다.**\n",
    "- 위에서 부분집합 기호는 **단순히 $A$가 $B$의 부분집합임**을 나타내었습니다.\n",
    "- 이외에도 부분집합 기호는 **참 거짓을 판단해야하는 `수학적 명제`에서 사용**할 수 있습니다.(제일 헷갈렸던 부분 ...)\n",
    "- $A \\subseteq B$는 \\`$A$는 $B$의 `부분집합`이다\\`라는 명제를 의미하거나 \n",
    "- $A \\subsetneq B$는 \\`$A$는 $B$의 `진부분집합`이다\\`라는 명제를 의미합니다."
   ]
  },
  {
   "attachments": {},
   "cell_type": "markdown",
   "metadata": {},
   "source": [
    "## <span style = \"color:black\">**헷갈리는 기호 $\\subset$**"
   ]
  },
  {
   "attachments": {},
   "cell_type": "markdown",
   "metadata": {},
   "source": [
    "### <span style = \"color:black\">**case1**"
   ]
  },
  {
   "attachments": {},
   "cell_type": "markdown",
   "metadata": {},
   "source": [
    "- `부분집합`을 나타내기 위해서 $\\subset$을 사용하며 이는 위에서의 $\\subseteq$와 같은 개념입니다.\n",
    "- 이러한 경우 $A \\subset A$는 참입니다. 부분집합은 항상 자기자신을 부분집합으로 갖기 때문입니다.\n",
    "- 또한 이 경우 $\\subseteq$는 단지 `두 집합이 같을 수 있음`을 `강조`하는 표현이라 할 수 있습니다.\n",
    "- 이어지는 포스팅에서는 case1의 notation을 활용합니다. 즉, 다음의 경우는 모두 동치입니다.\n",
    "    - $A \\subset B$<br>\n",
    "    $\\Longleftrightarrow A \\subseteq B$<br>\n",
    "    $\\Longleftrightarrow$ A가 B의 진부분집합이거나 같다.<br>\n",
    "    $\\Longleftrightarrow$ A는 B의 부분집합이다."
   ]
  },
  {
   "attachments": {},
   "cell_type": "markdown",
   "metadata": {},
   "source": [
    "### <span style = \"color:black\">**case2**"
   ]
  },
  {
   "attachments": {},
   "cell_type": "markdown",
   "metadata": {},
   "source": [
    "- `진부분집합(strict or proper subset)`을 나타내기 위해서 $\\subsetneq$대신에 $\\subset$을 사용할 수 있습니다. 이 경우 $\\leq$,$<$와 같은 느낌입니다. <br>\n",
    "- 이러한 경우 위와 다르게 $A \\subset A$는 거짓입니다. $\\subset$는 자기자신을 뺀 부분집합인 진부분집합을 의미하는 기호이기 때문입니다.\n",
    "- 반대로 $A \\subseteq A$는 참입니다. $\\subseteq$는 진부분집합이거나 같음(자기자신을 포함하여 부분집합)을 의미하기 때문입니다.\n",
    "- stochastic process 포스팅에서 이 notation은 사용하지 않습니다."
   ]
  }
 ],
 "metadata": {
  "kernelspec": {
   "display_name": "base",
   "language": "python",
   "name": "python3"
  },
  "language_info": {
   "codemirror_mode": {
    "name": "ipython",
    "version": 3
   },
   "file_extension": ".py",
   "mimetype": "text/x-python",
   "name": "python",
   "nbconvert_exporter": "python",
   "pygments_lexer": "ipython3",
   "version": "3.9.13"
  },
  "orig_nbformat": 4
 },
 "nbformat": 4,
 "nbformat_minor": 2
}
