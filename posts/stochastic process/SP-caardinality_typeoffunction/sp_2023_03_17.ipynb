{
 "cells": [
  {
   "cell_type": "raw",
   "metadata": {},
   "source": [
    "---\n",
    "title: \"[Stochestic Process] Cardinality\"\n",
    "format: html\n",
    "date: \"2023/04/05\"\n",
    "author: \"hoyeon\"\n",
    "categories: \"Probability&Statistics\"\n",
    "---"
   ]
  },
  {
   "attachments": {},
   "cell_type": "markdown",
   "metadata": {},
   "source": [
    "# <span style = \"color:black\"> **목표와 해볼것들**"
   ]
  },
  {
   "attachments": {},
   "cell_type": "markdown",
   "metadata": {},
   "source": [
    "- 서로다른 두개의 무한집합들간의 `cardinality`(유한집합에서의 크기 개념)를 비교하고자 합니다. \n",
    "- **이는 두 집합간의 `전사`,`단사`,`전단사` 함수가 존재하는지 확인해서** 비교할 수 있습니다.\n",
    "- 그러므로 여기서는 `cardinality`와 `전사`,`단사`,`전단사`함수에 대해 공부하고 `cardinality`를 구하기 위한 정리를 소개합니다\n",
    "- 이를 통해 앞선 포스팅에서 무리수 집합의 `길이`는 $2\\pi$ 유리수 집합의 길이는 0이였던 것에 대한 직관을 얻을 수 있습니다.(무리수 집합의 `cardinality`가 더 크게 나옵니다.이는 다음 포스팅에서 증명합니다.)"
   ]
  },
  {
   "attachments": {},
   "cell_type": "markdown",
   "metadata": {},
   "source": [
    "# <span style = \"color:black\"> **cardinality**\n"
   ]
  },
  {
   "attachments": {},
   "cell_type": "markdown",
   "metadata": {},
   "source": [
    "- 집합의 cardinality(간단히,크기)는 집합의 element가 몇 개인지 알려주는 측도(measure)입니다.\n",
    "-  $\\text{The cardinality of a set A} = |A| = \\text{card}(A)$\n",
    "- 유한집합 $A = {2,4,6} \\Rightarrow |A| = 3$ "
   ]
  },
  {
   "attachments": {},
   "cell_type": "markdown",
   "metadata": {},
   "source": [
    "- 무한집합 $A = \\{1,2,3,\\dots\\}$의 경우 cardinality는 어떻게 구하고 비교할 수 있을까요?\n",
    "- 이는 자연수집합의 크기를 $\\aleph_0$로 정해놓고 또다른 무한집합의 크기를 자연수 집합과 비교하여 가능합니다."
   ]
  },
  {
   "attachments": {},
   "cell_type": "markdown",
   "metadata": {},
   "source": [
    "# <span style = \"color:black\"> **Bijection,Injection,Surjection**"
   ]
  },
  {
   "attachments": {},
   "cell_type": "markdown",
   "metadata": {},
   "source": [
    "- 무한집합간의 크기비교는 bijection(전단사함수),injection(단사함수),surjection(전사함수)와 `cardinality`와의 관계에 대한 증명된 명제들을 통해서 가능합니다.\n",
    "- 먼저 여기서는 `Bijection`,`Injection`,`Surjection`을 소개합니다."
   ]
  },
  {
   "attachments": {},
   "cell_type": "markdown",
   "metadata": {},
   "source": [
    "![](./functions.png)"
   ]
  },
  {
   "attachments": {},
   "cell_type": "markdown",
   "metadata": {},
   "source": [
    "## <span style = \"color:black\"> **Injective function**"
   ]
  },
  {
   "attachments": {},
   "cell_type": "markdown",
   "metadata": {},
   "source": [
    "::: {.callout-note appearance=simple icon=false}\n",
    "## definition of injective function\n",
    "\\begin{aligned}\n",
    "&\\text{The function is injective, or one-to-one}\\\\\n",
    "&\\Longleftrightarrow \\forall x_1,x_2\\in X,x_1\\neq x_2\\implies f(x_1)\\neq f(x_2)\n",
    "\\end{aligned}\n",
    ":::"
   ]
  },
  {
   "attachments": {},
   "cell_type": "markdown",
   "metadata": {},
   "source": [
    "- `domain`에 속하는 `서로다른 모든 두 원소`가 `codomain`에 속하는 `서로다른 두 원소`에 `mapping`될 때 `Injection function`입니다.\n",
    "- 암기(입력이 다르면 출력이 다르다)\n",
    "- 느낌(화살표가 쫙 펴지는 느낌이다.)"
   ]
  },
  {
   "attachments": {},
   "cell_type": "markdown",
   "metadata": {},
   "source": [
    "## <span style = \"color:black\"> **surjective function**"
   ]
  },
  {
   "attachments": {},
   "cell_type": "markdown",
   "metadata": {},
   "source": [
    "::: {.callout-note appearance=simple icon=false}\n",
    "## definition of surjective function\n",
    "\\begin{aligned}\n",
    "&\\text{The function is surjective, or onto} \\\\\n",
    "&\\Longleftrightarrow \\forall y \\in Y,\\exists x \\in X \\text{ such that } y = f(x)\n",
    "\\end{aligned}\n",
    ":::"
   ]
  },
  {
   "attachments": {},
   "cell_type": "markdown",
   "metadata": {},
   "source": [
    "- `codomain`에 속하는 `모든 원소`가 `domain`에 속하는 원소에 `적어도 하나의 mapping`을 받을 때 `surjective function`입니다.\n",
    "- 암기1:domian의 image(상)인 **치역이 공역과 같습니다.**\n",
    "- 암기2:**공역의 `모든 원소`가 `역상(inverseimage)`이 존재**합니다.\n",
    "- 느낌 : 화살표가 쫙 모이는 느낌"
   ]
  },
  {
   "attachments": {},
   "cell_type": "markdown",
   "metadata": {},
   "source": [
    "## <span style = \"color:black\"> **bijective function**"
   ]
  },
  {
   "attachments": {},
   "cell_type": "markdown",
   "metadata": {},
   "source": [
    "::: {.callout-note appearance=simple icon=false} \n",
    "## definition of bijective function\n",
    "\\begin{aligned}\n",
    "&\\text{The function is bijective, or one-to-one and onto}\\\\\n",
    "&\\Longleftrightarrow \\forall y \\in Y,\\exists !x \\in X \\text{ such that } y = f(x) \\\\\n",
    "&\\text{where } \\exists!x \\text{ means \"there exists exactly one x\".}\n",
    "\\end{aligned}\n",
    "\n",
    ":::"
   ]
  },
  {
   "attachments": {},
   "cell_type": "markdown",
   "metadata": {},
   "source": [
    "- codomain에 속하는 임의의,모든 원소가 domain에 속하는 정확히 하나의 원소에만 mapping되는 경우 bijective function이라고 한다.\n",
    "- **injective이며 동시에 surjective인 function**이다."
   ]
  },
  {
   "attachments": {},
   "cell_type": "markdown",
   "metadata": {},
   "source": [
    "## <span style = \"color:black\"> **용어 정리(헷갈림)**"
   ]
  },
  {
   "attachments": {},
   "cell_type": "markdown",
   "metadata": {},
   "source": [
    "- injective = 단사 = one-to-one, injective function = injection = 단사함수\n",
    "- surjective = 전사 = onto, surjective function = surjection = 전사함수\n",
    "- bijecitve = 전단사 = one-to-one and onto , bijective function = bijection = 전단사함수"
   ]
  },
  {
   "attachments": {},
   "cell_type": "markdown",
   "metadata": {},
   "source": [
    "## <span style = \"color:black\"> **Cardinality와의 관계**"
   ]
  },
  {
   "attachments": {},
   "cell_type": "markdown",
   "metadata": {},
   "source": [
    "::: {.callout-note appearance=simple icon=false}\n",
    "## property1 : 전사함수이면 단사함수이면 전단사함수이다\n",
    "- 어떤 함수가 전사함수 & 단사함수 $\\Longleftrightarrow$ 전단사함수\n",
    ":::"
   ]
  },
  {
   "attachments": {},
   "cell_type": "markdown",
   "metadata": {},
   "source": [
    "::: {.callout-note appearance=simple icon=false}\n",
    "## property2 : 함수의 종류와 두 집합간의 크기비교\n",
    "두 집합사이에 적절한 함수를 정의하여 집합간의 크기비교가 가능하다.<br><br>\n",
    "\n",
    "###### **단사함수와 cardinality**\n",
    "- 집합 $X$에서 집합 $Y$로 가는 단사함수가 존재한다. $\\Longleftrightarrow |X| \\leq |Y|$<br>\n",
    "- 집합 $X$에서 집합 $Y$로 가는 단사함수가 존재하지 않는다. $\\Longleftrightarrow |X| > |Y|$<br><br>\n",
    "\n",
    "###### **전사함수와 cardinality**\n",
    "- 집합 $X$에서 집합 $Y$로 가는 전사함수가 존재한다. $\\Longleftrightarrow |X| \\geq |Y|$<br>\n",
    "- 집합 $X$에서 집합 $Y$로 가는 전사함수가 존재하지 않는다. $\\Longleftrightarrow |X| < |Y|$<br><br>\n",
    "\n",
    "###### **전단사함수와 cardinality**\n",
    "- 집합 $X$에서 집합 $Y$로 가는 전단사함수가 존재한다. $\\Longleftrightarrow |X| = |Y|$<br>\n",
    "- 집합 $X$에서 집합 $Y$로 가는 전단사함수가 존재한다. $\\Longleftrightarrow |X| \\not = |Y|$ \n",
    ":::"
   ]
  },
  {
   "attachments": {},
   "cell_type": "markdown",
   "metadata": {},
   "source": [
    "::: {.callout-note appearance=simple icon=false}\n",
    "## property3 : 부분집합과 크기비교\n",
    "$X \\subset Y \\Rightarrow |X| \\leq |Y|$ <br>\n",
    "$X \\supset Y \\Leftrightarrow |X| \\geq |Y|$ <br>\n",
    "$X = Y \\Rightarrow |X| = |Y|$ \n",
    ":::"
   ]
  },
  {
   "attachments": {},
   "cell_type": "markdown",
   "metadata": {},
   "source": [
    "::: {.callout-note appearance=simple icon=false}\n",
    "## 동치명제 정리\n",
    "- $X \\subset Y \\Longleftrightarrow |X| \\leq |y|$ <br>\n",
    "- $X \\supset Y \\Longleftrightarrow |X| \\geq |y|$ <br>\n",
    "- $X \\subset = \\Longleftrightarrow |X| = |y|$ \n",
    ":::"
   ]
  },
  {
   "attachments": {},
   "cell_type": "markdown",
   "metadata": {},
   "source": [
    "- 위의 사실들은 유한집합에 대해서 생각해보면 자명한 사실들입니다.\n",
    "- 우리는 이를 **무한집합에 확장하여 적용함**으로서 **무한집합간의 `cardinality`를 비교**할 수 있습니다."
   ]
  },
  {
   "attachments": {},
   "cell_type": "markdown",
   "metadata": {},
   "source": [
    "## <span style = \"color:black\"> **정리**\n",
    "- 유한집합에서 두 집합간의 크기의 비교는 두 집합간에 존재할 수 있는 함수가 어떤 함수인지를 통해서 가능합니다.\n",
    "- 이를 무한집합에서 적용하여 두 집합간의 크기비교를 해보고자 합니다.(다음 포스팅!)"
   ]
  }
 ],
 "metadata": {
  "kernelspec": {
   "display_name": "base",
   "language": "python",
   "name": "python3"
  },
  "language_info": {
   "codemirror_mode": {
    "name": "ipython",
    "version": 3
   },
   "file_extension": ".py",
   "mimetype": "text/x-python",
   "name": "python",
   "nbconvert_exporter": "python",
   "pygments_lexer": "ipython3",
   "version": "3.9.13"
  },
  "orig_nbformat": 4
 },
 "nbformat": 4,
 "nbformat_minor": 2
}
