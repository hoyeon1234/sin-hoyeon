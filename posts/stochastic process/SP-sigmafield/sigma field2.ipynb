{
 "cells": [
  {
   "cell_type": "raw",
   "metadata": {},
   "source": [
    "---\n",
    "title: \"[Stochestic Process] 5.sigma field(2)\"\n",
    "format: html\n",
    "date: \"2023/04/08\"\n",
    "author: \"hoyeon\"\n",
    "categories: \"Probability&Statistics\"\n",
    "--- "
   ]
  },
  {
   "cell_type": "markdown",
   "metadata": {},
   "source": [
    "# <span style = \"color:black\"> **전체적인 흐름정리**"
   ]
  },
  {
   "attachments": {},
   "cell_type": "markdown",
   "metadata": {},
   "source": [
    "- 지난 포스팅에서는 **확률을 `모순없이` 정의할 수 있는 집합들의 모음인 `simga field`에는 어떠한 조건이 들어갈지에 대해 대략적으로 파악하고** 또한 **`sigma field`를 정의하기거 얼마나 어려운지**를 정리합니다.\n",
    "- 이번 포스팅에서는 **`sigma field`에 보다 엄격하게 정의하기 위한 추가적인 조건들을 정리**합니다.\n",
    "- 또한 **조건들을 여러가지 조건들을 최대한 간단히**하여 `sigma field`를 정의합니다."
   ]
  },
  {
   "attachments": {},
   "cell_type": "markdown",
   "metadata": {},
   "source": [
    "# <span style = \"color:black\"> **background**"
   ]
  },
  {
   "attachments": {},
   "cell_type": "markdown",
   "metadata": {},
   "source": [
    "## <span style = \"color:black\"> **measure**"
   ]
  },
  {
   "attachments": {},
   "cell_type": "markdown",
   "metadata": {},
   "source": [
    "- `sigma field`는 확률을 `모순없이` 정의할 수 있는 sample space의 부분집합들의 모음이였습니다.\n",
    "- 여기서 사실 `확률`은 `measure`라는 개념에서 출발합니다.\n",
    "- `measure`는 기하학적인 측정(길이,면적,부피)에 대한 `일반화` 이자 질량,확률과 같은 일반적인 개념에 대한 `형식화`라고 이해할 수도 있습니다.\n",
    "- 분명히 이러한 개념은 서로다른 구별되는 개념이지만 수학에서는 **유사한 점이 많아서 하나의 개념으로 묶어서 생각하자**고 해서 하나의 개념인 `measure`로 통합했다고 할 수 있습니다.\n",
    "- 정의는 수학적으로 다음과 같습니다."
   ]
  },
  {
   "cell_type": "markdown",
   "metadata": {},
   "source": [
    "![](./definition.png)"
   ]
  },
  {
   "attachments": {},
   "cell_type": "markdown",
   "metadata": {},
   "source": [
    "::: {.callout-note icon=false}\n",
    "## Definition\n",
    "- measure는 어떤 집합 $X$가 있을 때, $X$에 대한 `sigma field`가 정의역이고 공역은 $\\mathbb{R}$인 **집합에 대한 함수**입니다. 다음과 같은 property를 가집니다.<br>\n",
    "  - measure의 값은 항상 0보다 크거나 같습니다.\n",
    "  - 공집합의 경우 measure는 0입니다.\n",
    "  - 교집합이 없는 disjoint sets에 대한 countable sum은 `measure`의 disjoint sets들의 합집합의 `measure`와 같습니다.\n",
    ":::"
   ]
  },
  {
   "attachments": {},
   "cell_type": "markdown",
   "metadata": {},
   "source": [
    "- 지금까지 우리는 **`sigma field`를 확률을 `모순없이` 정의할 수 있는 sample space의 부분집합의 모음이라고 생각**하며 확률에 한정하여 생각해왔습니다.\n",
    "- 하지만 사실은 더 넓게 `measure`의 개념에서 생각할 수 있으며 이로부터`sigma field`는 **모순없이 잴(measure) 수 있는 전체집합의 부분집합(잴 수 있는 집합)의 모음**임을 알 수 있습니다."
   ]
  },
  {
   "attachments": {},
   "cell_type": "markdown",
   "metadata": {},
   "source": [
    "![measure](ms2.png)\n"
   ]
  },
  {
   "attachments": {},
   "cell_type": "markdown",
   "metadata": {},
   "source": [
    "- `measure`는 함수로 본다면 `monotone` function으로 생각할 수 있습니다.\n",
    "- 예를 들어 $A \\subseteq B$라면 $\\mu(A)\\leq\\mu(B)$임이 일반적입니다."
   ]
  },
  {
   "attachments": {},
   "cell_type": "markdown",
   "metadata": {},
   "source": [
    "# <span style = \"color:black\"> **sigma field의 조건들 구하기**"
   ]
  },
  {
   "attachments": {},
   "cell_type": "markdown",
   "metadata": {},
   "source": [
    "## <span style = \"color:black\"> **구해놨던 조건들**"
   ]
  },
  {
   "attachments": {},
   "cell_type": "markdown",
   "metadata": {},
   "source": [
    "- sigma field는 확률을 모순없이 정의할 수 있는 표본공간의 부분집합들의 모음이었습니다.\n",
    "- 지금까지 구해본 sigma field가 만족하는 조건은 대략적으로 다음과 같았습니다."
   ]
  },
  {
   "attachments": {},
   "cell_type": "markdown",
   "metadata": {},
   "source": [
    "::: {.callout-note icon=false}\n",
    "## sigma field가 갖춰야할 조건들\n",
    "1. $\\Omega,\\emptyset \\in \\mathcal{F}$\n",
    "2. $\\forall A \\subset \\Omega : A \\in \\mathcal{F} \\Rightarrow A^c \\in \\mathcal{F}$\n",
    "3. $\\forall A,B \\subset \\Omega : A,B \\in \\mathcal{F} \\Rightarrow A \\cup B \\in \\mathcal{F}$\n",
    "4. $\\forall A,B \\subset \\Omega : A,B \\in \\mathcal{F} \\Rightarrow A - B \\in \\mathcal{F}$\n",
    ":::"
   ]
  },
  {
   "attachments": {},
   "cell_type": "markdown",
   "metadata": {},
   "source": [
    "## <span style = \"color:black\"> **추가적인 조건들 구하기**"
   ]
  },
  {
   "attachments": {},
   "cell_type": "markdown",
   "metadata": {},
   "source": [
    "**(엄밀하지 않은 설명입니다.)**\n",
    "\n",
    "- 확률은 위와 같은 `measure`에 한 종류입니다.\n",
    "- 여기서 `measure`의 중 하나인 `길이`에 대하여 다음의 상황을 당연한 상황을 생각해봅시다.\n",
    "    1. [1,3]과 [2,4]의 길이가 어느정도인지 잴 수 있는(=측정할 수 있는) tape가 있어\n",
    "    2. [2,3]도 그러면 잴 수 있어.(tape의 길이가 [2,3]보다는 길테니까?!)\n",
    "- 이렇게 또다른 `measure`인 **길이에서 `sigma field`를 생각해봤을때 겹치는 구간에 대해서 잴 수 있다는 것은 합리적**입니다.\n",
    "- 확률의 입장에서 교집합을 잴 수 있다는 것은 합리적이지 않아 보일 수 있습니다. \n",
    "- 여기서는 모두 적용할 수 있는 개념을 생각하기 위해 교집합도 가능하다고 가정합니다.(확률이든 길이든!)\n",
    "- 따라서 두 집합이 각각 잴 수 있다면 두 집합의 교집합도 잴 수 있다는 다음의 명제는 참입니다."
   ]
  },
  {
   "attachments": {},
   "cell_type": "markdown",
   "metadata": {},
   "source": [
    "::: {.callout-note icon=false}\n",
    "## 조건5\n",
    "- $\\forall A,B \\subset \\Omega : A,B \\in \\mathcal{F} \\Rightarrow A \\cap B \\in \\mathcal{F}$\n",
    ":::"
   ]
  },
  {
   "attachments": {},
   "cell_type": "markdown",
   "metadata": {},
   "source": [
    "- 교집합을 잴 수 있다면 합집합도 잴 수 있음은 당연한 사실입니다.\n",
    "- 따라서 다음의 명제도 참입니다."
   ]
  },
  {
   "attachments": {},
   "cell_type": "markdown",
   "metadata": {},
   "source": [
    "::: {.callout-note icon=false}\n",
    "## 조건6\n",
    "- $\\forall A,B \\subset \\Omega : A,B \\in \\mathcal{F} \\Rightarrow A \\cup B \\in \\mathcal{F}$\n",
    ":::"
   ]
  },
  {
   "attachments": {},
   "cell_type": "markdown",
   "metadata": {},
   "source": [
    "**(엄밀하진 않음)**\n",
    "\n",
    "- 확률의 공리를 보면 $\\sigma$-additivity라 해서 교집합이 없는(disjoint) 각각의 집합들이 셀 수 있는 집합(countable set)이 $\\mathcal{F}$에 포함되면 그것들의 합집합도 잴 수 있다고 정의하고 있습니다\n",
    "- 공리에 포함됐다는 것은 어느정도 `자명한`사실이라고 합의한 것입니다.(납득이 잘 되지 않을 수 있습니다. 그렇지만 이렇게 일단 하기로 했구나~ 이런 느낌으로 넘어가야 할 것 같습니다.(저도 잘 모르겠네요..)"
   ]
  },
  {
   "attachments": {},
   "cell_type": "markdown",
   "metadata": {},
   "source": [
    "::: {.callout-note icon=false}\n",
    "## 조건7\n",
    "- $\\forall B_1,B_2,... \\subset \\Omega \\text{ such that} B_1,B_2,... \\text{ are disjoint} : B_1,B_2,... \\in \\mathcal{F} \\Rightarrow \\cup_{i=1}^{\\infty}B_i \\in \\mathcal{F}$\n",
    ":::"
   ]
  },
  {
   "attachments": {},
   "cell_type": "markdown",
   "metadata": {},
   "source": [
    "조건 5와 7을 결합하면 다음과 같은 새로운 조건을 이끌어낼 수 있습니다."
   ]
  },
  {
   "attachments": {},
   "cell_type": "markdown",
   "metadata": {},
   "source": [
    "::: {.callout-note icon=false}\n",
    "## 조건8\n",
    "$\\forall A_1,A_2,... \\subset \\Omega : A_1,A_2,...\\in \\mathcal{F} \\Rightarrow \\cup_{i=1}^{i=\\infty}A_i \\in \\mathcal{F}$\n",
    ":::"
   ]
  },
  {
   "attachments": {},
   "cell_type": "markdown",
   "metadata": {},
   "source": [
    "- 이외에도 얼마든지 다른 조건을 만들어낼 수 있습니다.\n",
    "- 예를들면 다음과 같은 조건이 있습니다."
   ]
  },
  {
   "attachments": {},
   "cell_type": "markdown",
   "metadata": {},
   "source": [
    "::: {.callout-note icon=false}\n",
    "## 조건 9,10,11\n",
    "\n",
    "- $\\forall A,B \\subset \\Omega:~ A,B \\in {\\cal F} \\Rightarrow A-B \\in {\\cal F}$ (by 2,5) \n",
    "- $\\forall A,B,C \\subset \\Omega: A,B,C \\in {\\cal F} \\Rightarrow A\\cup B \\cup C \\in {\\cal F}$ (by 6)\n",
    "- $A_1,A_2,\\dots \\in {\\cal F} \\Rightarrow \\cap_{i=1}^{\\infty}A_i \\in {\\cal F}$ (by 2,7)\n",
    "\n",
    ":::"
   ]
  },
  {
   "attachments": {},
   "cell_type": "markdown",
   "metadata": {},
   "source": [
    "## <span style = \"color:black\"> **최대한 간단히 정리하기**"
   ]
  },
  {
   "attachments": {},
   "cell_type": "markdown",
   "metadata": {},
   "source": [
    "- 지금까지 나온 모든 조건들은 이렇습니다."
   ]
  },
  {
   "attachments": {},
   "cell_type": "markdown",
   "metadata": {},
   "source": [
    "::: {.callout-note icon=false}\n",
    "## sigma field가 갖춰야할 조건들\n",
    "1. $\\Omega,\\emptyset \\in \\mathcal{F}$\n",
    "2. $\\forall A \\subset \\Omega : A \\in \\mathcal{F} \\Rightarrow A^c \\in \\mathcal{F}$\n",
    "3. $\\forall A,B \\subset \\Omega \\text{ such that } A \\cap B = \\emptyset : A,B \\in \\mathcal{F} \\Rightarrow A \\cup B \\in \\mathcal{F}$\n",
    "4. $\\forall A,B \\subset \\Omega \\text{ such that } A \\subset B: A,B \\in \\mathcal{F} \\Rightarrow B - A \\in \\mathcal{F}$\n",
    "5. $\\forall A,B \\subset \\Omega : A,B \\in \\mathcal{F} \\Rightarrow A \\cap B \\in \\mathcal{F}$\n",
    "6. $\\forall A,B \\subset \\Omega : A,B \\in \\mathcal{F} \\Rightarrow A \\cup B \\in \\mathcal{F}$\n",
    "7. $\\forall B_1,B_2,... \\subset \\Omega \\text{ such that} B_1,B_2,... \\text{ are disjoint} : B_1,B_2,... \\in \\mathcal{F} \\Rightarrow \\cup_{i=1}^{\\infty}B_i \\in \\mathcal{F}$\n",
    "8. $\\forall A_1,A_2,... \\subset \\Omega : A_1,A_2,...\\in \\mathcal{F} \\Rightarrow \\cup_{i=1}^{i=\\infty}A_i \\in \\mathcal{F}$\n",
    "9. $\\forall A,B \\subset \\Omega:~ A,B \\in {\\cal F} \\Rightarrow A-B \\in {\\cal F}$ (by 2,5) \n",
    "10. $\\forall A,B,C \\subset \\Omega: A,B,C \\in {\\cal F} \\Rightarrow A\\cup B \\cup C \\in {\\cal F}$ (by 6)\n",
    "11. $A_1,A_2,\\dots \\in {\\cal F} \\Rightarrow \\cap_{i=1}^{\\infty}A_i \\in {\\cal F}$ (by 2,7)\n",
    "\n",
    "\n",
    ":::"
   ]
  },
  {
   "attachments": {},
   "cell_type": "markdown",
   "metadata": {},
   "source": [
    "- 여기서부터는 위의 모든 조건들을 전부다 포함하도록 가장 간단히 몇개의 조건만 남겨서 `sigma field`를 정의해보겠습니다."
   ]
  },
  {
   "attachments": {},
   "cell_type": "markdown",
   "metadata": {},
   "source": [
    "1. 조건9,10,11은 조건 2,5,6,7에 의하여 도출할 수 있습니다. 따라서 9,10,11은 삭제합니다.\n",
    "2. 조건1은 2에 의해서 공집합까지 표기할 필요가 없도록 수정할 수 있습니다.\n",
    "3. 조건4는 2,5에 의해서 도출할 수 있는 조건입니다. 따라서 4는 삭제합니다.\n",
    "4. 조건5는 2,6에 의해서 도출할 수 있는 조건입니다. 따라서 5는 삭제합니다.\n",
    "5. 조건6은 조건3의 disjoint집합을 포함합니다.. 따라서 3을 삭제합니다.\n",
    "6. 조건8은 조건6을 포함하는 더 넓은 countable union입니다. 따라서 6을 삭제합니다.\n",
    "7. 조건8은 조건7의 disjoin집합을 포함하는 countable union입니다. 따라서 7을 삭제합니다.\n",
    "<br>"
   ]
  },
  {
   "attachments": {},
   "cell_type": "markdown",
   "metadata": {},
   "source": [
    "- 삭제조건 : 3,4,5,6,7,9,10,11<br>\n",
    "- 변경될 조건 : 1\n",
    "- 남아있는 조건 : 1,2,8\n",
    "- 이렇게 반영한 조건들이 바로 `sigma field`의 조건입니다."
   ]
  },
  {
   "attachments": {},
   "cell_type": "markdown",
   "metadata": {},
   "source": [
    "# <span style = \"color:black\"> **Definition of sigma field**"
   ]
  },
  {
   "attachments": {},
   "cell_type": "markdown",
   "metadata": {},
   "source": [
    "- 남겨놓은 조건으로 시그마 필드를 정의해보겠습니다. "
   ]
  },
  {
   "attachments": {},
   "cell_type": "markdown",
   "metadata": {},
   "source": [
    "::: {.callout-note icon=false}\n",
    "## Definition\n",
    "\n",
    "Let $\\Omega$ be some set, and let $2^{\\Omega}$ represent its power set. Then a subset $\\mathcal{F} \\subseteq 2^{\\Omega}$ is called a $\\sigma$-field if it satisfies the following three properties:<br>\n",
    "\n",
    "1. $\\Omega \\in \\mathcal{F}$\n",
    "2. $A\\in \\mathcal{F} \\Rightarrow A^c \\in \\mathcal{F}$\n",
    "3. $A_1,A_2,\\dots \\in \\mathcal{F} \\Rightarrow \\cup_{i=1}^{i=\\infty} \\in \\mathcal{F}$\n",
    ":::"
   ]
  },
  {
   "attachments": {},
   "cell_type": "markdown",
   "metadata": {},
   "source": [
    "- $\\mathcal{F} \\subseteq 2^{\\Omega}$는 `sigma field`가 표본공간의 모든 부분집합들(powerset,멱집합)의 중 일부를 포함하는 모음임을 의미합니다.(모든 부분집합들을 고려하면 확률은 모순이 발생할 수 있었습니다.)\n",
    "- 3가지 property는 **시그마 필드는 전체집합을 포함하며 여집합에 닫혀있으며 countable union에 대해 닫혀있음**을 의미합니다.(여태까지 구해왔던 조건)\n",
    "- 함축된 조건들도 합쳐서 생각해보면 결국 **시그마 필드는 countable union,difference,interserction,complement에 대해 닫혀있음**을 의미합니다.(조금 더 구체적인 의미는 이렇네요.)"
   ]
  },
  {
   "attachments": {},
   "cell_type": "markdown",
   "metadata": {},
   "source": [
    "![](./sigmafielddef.png)"
   ]
  },
  {
   "attachments": {},
   "cell_type": "markdown",
   "metadata": {},
   "source": [
    "- 위의 정의는 위키피디아에서 정의한 시그마필드의 조건입니다.\n",
    "- $X = \\Omega$이며 \n",
    "- 2는 여집합도 `sigma field`에 포함된다는 조건입니다.\n",
    "- 3는 여집합도 countable union도 `sigma field`에 포함된다는 조건입니다.\n",
    "- 결국 우리가 여태까지 유도하고 정의한 `sigma field`와 같음을 알 수 있습니다."
   ]
  },
  {
   "attachments": {},
   "cell_type": "markdown",
   "metadata": {},
   "source": [
    "# <span style = \"color:black\"> **Definition of mesurable space**"
   ]
  },
  {
   "attachments": {},
   "cell_type": "markdown",
   "metadata": {},
   "source": [
    "- `sigma field`는 `전체집합`을 알아야 포함되는 원소들을 명확하게 정의할 수 있습니다.(전체집합을 모르면 명백하게 모르죠!)\n",
    "- 또한 `measure`는 `sigma field`의 원소를 포함하는 전체집합이 무엇인지와 밀접한 연관이 있습니다.\n",
    "- 예를 들어, 실수 집합에 대해서 대표적인 `measure`는 르벡측도가 있고 이산 공간에서는 이산측도나 카운팅 측도가 사용될 수 있습니다.\n",
    "- 위의 두 가지 이유에 의해서 `sigma field`는 전체집합과 함께 명시하는게 더 합리적이므로 `measurable space`를 정의합니다."
   ]
  },
  {
   "attachments": {},
   "cell_type": "markdown",
   "metadata": {},
   "source": [
    "::: {.callout-note icon=false}\n",
    "## Definition\n",
    "Consider a set $\\Omega$ and a $\\sigma$-field $\\mathcal{A}$ on $\\Omega$. Then the tuple ($\\Omega,\\mathcal{A}$) is called a measurable space.\n",
    ":::"
   ]
  },
  {
   "attachments": {},
   "cell_type": "markdown",
   "metadata": {},
   "source": [
    "# <span style = \"color:black\"> **정리**\n",
    "- 모순없이 확률을 정의할 수 있는 집합들의 모음인 `sigma field`를 만족하기 위한 조건을 알아봤습니다.\n",
    "- 여러가지 서로다른 조건들은 마지막으로 **총 3개의 조건들로 함축**됐습니다. \n",
    "- 또한 그러한 조건들의 의미하는 바는 **`sigma field`는 집합에서 대표적인 4가지 연산에 대해서 닫혀있음을 의미**했습니다."
   ]
  }
 ],
 "metadata": {
  "kernelspec": {
   "display_name": "base",
   "language": "python",
   "name": "python3"
  },
  "language_info": {
   "name": "python",
   "version": "3.9.13"
  },
  "orig_nbformat": 4
 },
 "nbformat": 4,
 "nbformat_minor": 2
}
