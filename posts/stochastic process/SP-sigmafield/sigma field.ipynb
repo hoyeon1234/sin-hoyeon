{
 "cells": [
  {
   "cell_type": "raw",
   "metadata": {},
   "source": [
    "---\n",
    "title: \"[Stochestic Process] 4.sigma field\"\n",
    "format: html\n",
    "date: \"2023/04/06\"\n",
    "author: \"hoyeon\"\n",
    "categories: \"Probability&Statistics\"\n",
    "---"
   ]
  },
  {
   "attachments": {},
   "cell_type": "markdown",
   "metadata": {},
   "source": [
    "# <span style = \"color:black\"> **흐름정리**"
   ]
  },
  {
   "attachments": {},
   "cell_type": "markdown",
   "metadata": {},
   "source": [
    "- 지난 포스팅에서 유리수집합과 무리수집합의 길이가 다름을 증명했고 따라서 르벡메져를 통한 두 집합의 길이가 왜 다른지 어느정도의 직관을 얻을 수 있었습니다.\n",
    "- 이로서 **\"표본공간의 모든 부분집합에 대해서 모순없이 확률을 정의할 수 있는건가?\"** 싶었지만 여전히 모순이 발생하게 하는 집합(비탈리집합)이 존재함이 밝혀졌습니다.\n",
    "- 그렇다면 다른 measure를 도입하거나 아예 모든 부분집합에 대해서 확률을 모순없이 정의하는 것을 포기하는 방법이 있습니다. 여기서 다른 measure를 도입해도 여전히 모순이 발생함이 이미 밝혀져 있습니다.\n",
    "- 따라서 **표본공간의 모든 부분집합이 아니라 확률을 모순없이 정의할 수 있는 잴 수 있는 집합들의 모음인 `sigma field`를 약속하고 이에 대하여 확률을 정의합니다.**\n",
    "- 이번 포스팅에서는 **확률을 모순없이 정의할 수 있는 집합들의 모음인 `simga field`에는 어떠한 조건이 들어갈지에 대해 대략적으로 파악하고** 또한 **`sigma field`를 정의하기거 얼마나 어려운지**를 정리합니다.\n",
    "- 이어지는 포스팅에서는 **`sigma field`를 보다 엄격하게 + 최대한 간단히 정의하며** 이를 통해 **확률과 확률변수를 엄격하게 정의**합니다."
   ]
  },
  {
   "attachments": {},
   "cell_type": "markdown",
   "metadata": {},
   "source": [
    "# <span style = \"color:black\"> **background & 용어정리**"
   ]
  },
  {
   "attachments": {},
   "cell_type": "markdown",
   "metadata": {},
   "source": [
    "- collection(모음) : 집합들을 원소로 가지는 집합\n",
    "- 잴 수 있는 집합 = measurable set\n",
    "- 표본공간 = sample space = $\\Omega$\n",
    "- 표본공간의 부분집합 = 사건 = Event\n",
    "- 확률을 모순없이 정의할 수 있는 집합들의 모음(collection) =잴 수 있는 집합들의 모음(collection) = `sigma field` = sigma algebra = $\\mathcal{F}$"
   ]
  },
  {
   "attachments": {},
   "cell_type": "markdown",
   "metadata": {},
   "source": [
    "# <span style = \"color:black\"> **`sigma field`를 정의해보자**"
   ]
  },
  {
   "attachments": {},
   "cell_type": "markdown",
   "metadata": {},
   "source": [
    "- 어떤 measure를 도입해도 **sample space의 모든 subset(event)에 대해서 모순없이 확률을 정의하는 것은 불가능**합니다.\n",
    "- 따라서 **sample space의 모든 subset에 대해서 확률을 정의하지 않습니다.**\n",
    "- 대신에 **확률을 `모순없이 정의`할 수 있는 집합들에 대해서만 확률을 정의**합니다. 또한 이러한 집합을 `sigma field`라 합니다.\n",
    "- 그러나 `모순없이 정의`한다는 것은 어떤 조건을 만족하는지 잘 와닿지 않습니다.\n",
    "- 여기서는 예시를 통하여 **`sigma field`가 갖춰야할 조건을 간단히 생각**해봅니다.(엄밀하게는 다음 포스팅에서)"
   ]
  },
  {
   "attachments": {},
   "cell_type": "markdown",
   "metadata": {},
   "source": [
    "## <span style = \"color:black\"> **예시1 $\\Omega = \\{H,T\\}$, $\\mathcal{F} = \\{\\emptyset,\\{H\\},\\{T\\},\\Omega\\}$**"
   ]
  },
  {
   "attachments": {},
   "cell_type": "markdown",
   "metadata": {},
   "source": [
    "- collection $\\mathcal{F}$ 즉, 확률을 모순없이 정의할 수 있는 집합들의 모음인 `sigma field`를 위와 같이 정하는 것은 합리적일까요?\n",
    "- 여기서 `모순이 없다`는 **확률에 대해 알고있던 사실들과 공리를 벗어나지 않음**을 의미합니다.(간단히)\n",
    "- 하나의 예시를 들어보자면 확률을 $P(\\emptyset) = 0,P(\\{H\\}) = \\frac{1}{3},P(\\{T\\}) = \\frac{2}{3},P(\\Omega) = 1$처럼 정의할 수 있습니다.\n",
    "- 이렇게 확률을 정의한다면 어떠한 모순도 보이지 않습니다."
   ]
  },
  {
   "attachments": {},
   "cell_type": "markdown",
   "metadata": {},
   "source": [
    "## <span style = \"color:black\"> **예시2 $\\Omega = \\{H,T\\}$, $\\mathcal{F} = \\{\\emptyset,\\{H\\},\\Omega\\}$**"
   ]
  },
  {
   "attachments": {},
   "cell_type": "markdown",
   "metadata": {},
   "source": [
    "- `sigma field`를 위와 같이 정하는 것은 합리적일 까요?\n",
    "- $\\mathcal{F}$의 원소에 $\\{H\\}$는 포함되어 있지만 $\\{T\\}$는 포함되어 있지 않습니다.\n",
    "- 이것은 부분집합 $\\emptyset,\\{H\\},\\Omega$에 대한 확률을 모순없이 정의할 수 있지만 $\\{T\\}$는 아니라는 것을 의미합니다.\n",
    "- 그러나 이는 모순적입니다. 동전던지기를 예시로 들어봅사디\n",
    "    - 앞면(H)가 나올 확률 = $P(\\{H\\}) = \\frac{1}{2}$라고 합시다.\n",
    "    - 그렇다면 동전의 뒷면이 나올 확률은 자연스럽게 $P(\\{H\\}^c) = P(\\{T\\}) =\\frac{1}{2}$임을 알 수 있습니다.\n",
    "    - 즉 어떤 원소의 **여사건을 포함시켜도 모순없이 확률이 정의**가 됩니다. 하지만 collection $\\mathcal{F}$는 여사건을 포함시키지 않고 있습니다.\n",
    "- 위의 예시로부터 모순없이 확률을 정의할 수 있는 집합인 `sigma field`의 조건에는 **\"어떤 사건이 `sigma field`에 포함되면 그것의 `여사건도 포함`되어야 한다.\"**있음을 알 수 있습니다.\n",
    "- 즉, 다음의 명제는 참인 명제입니다."
   ]
  },
  {
   "attachments": {},
   "cell_type": "markdown",
   "metadata": {},
   "source": [
    "::: {.callout-note  icon=false}\n",
    "## 조건1\n",
    "- $\\forall A \\subset \\Omega : A \\in \\mathcal{F} \\Rightarrow A^c \\in \\mathcal{F}$\n",
    ":::"
   ]
  },
  {
   "attachments": {},
   "cell_type": "markdown",
   "metadata": {},
   "source": [
    "## <span style = \"color:black\"> **예시3 $\\Omega = \\{H,T\\}$, $\\mathcal{F} = \\{\\{H\\},\\{T\\},\\Omega\\}$**"
   ]
  },
  {
   "attachments": {},
   "cell_type": "markdown",
   "metadata": {},
   "source": [
    "- `sigma field`를 위와 같이 정하는 것은 합리적일 까요?\n",
    "- 조건1에 의하면 `sigma field`에 속한 임의의 원소에 대한 여사건도 반드시 `sigma field`에 포함되어야 있어야 합니다.\n",
    "- 그러나 $\\Omega^c = \\emptyset \\not\\in \\mathcal{F}$이므로 위와 같은 `sigma field`는 합리적이지 못합니다."
   ]
  },
  {
   "attachments": {},
   "cell_type": "markdown",
   "metadata": {},
   "source": [
    "::: {.callout-note  icon=false}\n",
    "## 조건2\n",
    "- $\\Omega,\\emptyset \\in \\mathcal{F}$\n",
    ":::"
   ]
  },
  {
   "attachments": {},
   "cell_type": "markdown",
   "metadata": {},
   "source": [
    "## <span style = \"color:black\"> **예시5 $\\Omega = \\{1,2,3,4,5,6\\}$, $\\mathcal{F} = \\{\\emptyset,\\{1\\},\\{2\\},\\dots,\\{1,2\\},\\dots,\\{1,2,3,4,5,6\\},\\Omega\\} = 2^{\\Omega}$**"
   ]
  },
  {
   "attachments": {},
   "cell_type": "markdown",
   "metadata": {},
   "source": [
    "- 예시5는`sigma field`가 sample space에서 모든 부분집합들의 모음인 멱집합(powerset,$2^\\Omega$)입니다.\n",
    "- 위와 같은 `sigma field`는 합리적인데 위의 예시를 주사위를 던지는 실험이라고 생각하면 모든 경우에 대해 확률을 모순없이 정의할 수 있기 때문입니다.\n",
    "- 주목할 점은 여기서는 powerset을 `sigma field`로 정했지만 이는 항상 합리적이진 않으며 sample space마다 다르다는 점입니다.\n",
    "- 우리는 sample space의 모든 부분집합들의 모임(powerset)에 대해서 확률을 모순없이 정의하는 것이 불가능하기에 합리적인 `sigma field`의 조건을 찾는 중이었습니다."
   ]
  },
  {
   "attachments": {},
   "cell_type": "markdown",
   "metadata": {},
   "source": [
    "## <span style = \"color:black\"> **예시6 <br>$\\Omega = \\{1,2,3,4,5,6\\}$, $\\mathcal{F} = \\{\\emptyset,\\{6\\},\\{1,2,3,4,5\\},\\Omega\\} = 2^{\\Omega}$**"
   ]
  },
  {
   "attachments": {},
   "cell_type": "markdown",
   "metadata": {},
   "source": [
    "- 예시6은 sample space가 예시5와 거의 동일하지만 `sigma field` $\\mathcal{F}$만 다른 경우입니다.\n",
    "- 위와 같은 sigama field도 합리적입니다.\n",
    "- 다만 예시5에서는 표본공간의 모든 부분집합에 대해서 관심이 있었다면 이 경우는 6이거나 6이아닌 경우의 확률만 관심이 있기 때문에 `sigma field`를 더 작게 정의했다고 할 수 있습니다.\n",
    "- 이렇게 `sigma field`를 정의하는 또다른 예시들은 아래와 같은 것들이 있습니다.\n",
    "    - 롤에서 미드 vs 다른라인 고르는 경우(탑or원딜...)에 대한 확률 (저는 이게 제일 와닿네요 ㅎㅎ)\n",
    "    - 카페에서 아메리카노를 고르거나 고르지 않는 경우(카페라떼,카푸치노 등등등..)에 대한 확률\n",
    "- 위와 같은 예시로부터 하나의 sample space에 대해서 `sigma field`는 유일하지 않으며 다양하게 존재함을 알 수 있습니다."
   ]
  },
  {
   "attachments": {},
   "cell_type": "markdown",
   "metadata": {},
   "source": [
    "::: {.callout-note icon=false}\n",
    "## 알 수 있는 성질\n",
    "- 하나의 표본공간에 대하여 시그마 필드는 유일하지 않다.\n",
    "- 관심있는 사건이 다른 경우 시그마 필드를 다르게 정의할 수 있다.\n",
    ":::"
   ]
  },
  {
   "cell_type": "markdown",
   "metadata": {},
   "source": []
  }
 ],
 "metadata": {
  "kernelspec": {
   "display_name": "base",
   "language": "python",
   "name": "python3"
  },
  "language_info": {
   "name": "python",
   "version": "3.9.13"
  },
  "orig_nbformat": 4
 },
 "nbformat": 4,
 "nbformat_minor": 2
}
