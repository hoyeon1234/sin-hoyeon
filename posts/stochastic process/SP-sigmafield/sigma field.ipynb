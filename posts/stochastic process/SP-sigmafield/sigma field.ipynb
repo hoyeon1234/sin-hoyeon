{
 "cells": [
  {
   "cell_type": "raw",
   "metadata": {},
   "source": [
    "---\n",
    "title: \"[Stochestic Process] 4.sigma field(1)\"\n",
    "format: html\n",
    "date: \"2023/04/07\"\n",
    "author: \"hoyeon\"\n",
    "categories: \"Probability&Statistics\"\n",
    "---"
   ]
  },
  {
   "attachments": {},
   "cell_type": "markdown",
   "metadata": {},
   "source": [
    "# <span style = \"color:black\"> **전체적인 흐름정리**"
   ]
  },
  {
   "attachments": {},
   "cell_type": "markdown",
   "metadata": {},
   "source": [
    "- 지난 포스팅에서 유리수집합과 무리수집합의 길이가 다름을 증명했고 따라서 르벡메져를 통한 두 집합의 길이가 왜 다른지 어느정도의 직관을 얻을 수 있었습니다.\n",
    "- 이로서 **\"표본공간의 모든 부분집합에 대해서 `모순없이` 확률을 정의할 수 있는건가?\"** 싶었지만 여전히 모순이 발생하게 하는 집합(비탈리집합)이 존재함이 밝혀졌습니다.\n",
    "- 그렇다면 다른 measure를 도입하거나 아예 모든 부분집합에 대해서 확률을 `모순없이` 정의하는 것을 포기하는 방법이 있습니다. 여기서 다른 measure를 도입해도 여전히 모순이 발생함이 이미 밝혀져 있습니다.\n",
    "- 따라서 **표본공간의 모든 부분집합이 아니라 가능한 모든 부분집합들 중 `일부`이자 확률을 `모순없이` 정의할 수 있는 집합들의 모음인 `sigma field`를 약속하고 이에 대하여 확률을 정의합니다.**\n",
    "- 이번 포스팅에서는 **확률을 `모순없이` 정의할 수 있는 집합들의 모음인 `simga field`에는 어떠한 조건이 들어갈지에 대해 대략적으로 파악하고** 또한 **`sigma field`를 정의하기거 얼마나 어려운지**를 정리합니다.\n",
    "- 이어지는 포스팅에서는 **`sigma field`를 보다 엄격하게 + 최대한 간단히 정의**합니다."
   ]
  },
  {
   "attachments": {},
   "cell_type": "markdown",
   "metadata": {},
   "source": [
    "# <span style = \"color:black\"> **background & 용어정리**"
   ]
  },
  {
   "attachments": {},
   "cell_type": "markdown",
   "metadata": {},
   "source": [
    "- collection(모음) : 집합들을 원소로 가지는 집합\n",
    "- 잴 수 있는 집합 = measurable set\n",
    "- 표본공간 = sample space = $\\Omega$\n",
    "- 표본공간의 부분집합 = 사건 = Event\n",
    "- 확률을 `모순없이` 정의할 수 있는 집합들의 모음(collection) =잴 수 있는 집합들의 모음(collection) = `sigma field` = sigma algebra = $\\mathcal{F}$"
   ]
  },
  {
   "attachments": {},
   "cell_type": "markdown",
   "metadata": {},
   "source": [
    "# <span style = \"color:black\"> **sigma field에 필요한 조건을 알아보자.**"
   ]
  },
  {
   "attachments": {},
   "cell_type": "markdown",
   "metadata": {},
   "source": [
    "- 어떤 measure를 도입해도 **sample space의 모든 subset에 대해서 `모순없이` 확률을 정의하는 것은 불가능 한 경우가 존재**합니다.\n",
    "- 따라서 **sample space의 모든 subset에 대해서 확률을 정의하지 않으며** 확률을 **가능한 모든 부분집합들 중 `일부`이자 확률을 `모순없이` 정의할 수 있는 subset들의 모음**에 대해서만 즉,`sigma field`에 대해서만 확률의 정의합니다.\n",
    "- 여기서는 예시를 통하여 `모순없이` 확률을 정의하기 위하여 부분집합들의 묶음이 가져아할 합리적인 조건들 즉, `sigma field`가 갖춰야할 `합리적인 조건`을 간단히 생각해봅니다.(엄밀하게는 다음 포스팅에서)"
   ]
  },
  {
   "attachments": {},
   "cell_type": "markdown",
   "metadata": {},
   "source": [
    "## <span style = \"color:black\"> **예시1 $\\Omega = \\{H,T\\}$, $\\mathcal{F} = \\{\\emptyset,\\{H\\},\\{T\\},\\Omega\\}$**"
   ]
  },
  {
   "attachments": {},
   "cell_type": "markdown",
   "metadata": {},
   "source": [
    "- collection $\\mathcal{F}$ 즉, 확률을 `모순없이` 정의할 수 있는 집합들의 모음인 `sigma field`를 위와 같이 정하는 것은 합리적일까요?\n",
    "- 여기서 `모순이 없다`는 **확률에 대해 알고있던 사실들과 공리를 벗어나지 않음**을 의미합니다.(간단히)\n",
    "- 하나의 예시를 들어보자면 확률을 $P(\\emptyset) = 0,P(\\{H\\}) = \\frac{1}{3},P(\\{T\\}) = \\frac{2}{3},P(\\Omega) = 1$처럼 정의할 수 있습니다.\n",
    "- 이렇게 확률을 정의한다면 어떠한 모순도 보이지 않습니다."
   ]
  },
  {
   "attachments": {},
   "cell_type": "markdown",
   "metadata": {},
   "source": [
    "## <span style = \"color:black\"> **예시2 $\\Omega = \\{H,T\\}$, $\\mathcal{F} = \\{\\emptyset,\\{H\\},\\Omega\\}$**"
   ]
  },
  {
   "attachments": {},
   "cell_type": "markdown",
   "metadata": {},
   "source": [
    "- `sigma field`를 위와 같이 정하는 것은 합리적일까요?\n",
    "- 먼저 `sigma field`를 다시 생각해봅시다.\n",
    "- `sigma field`는  **`모순없이` 확률을 정의할 수 있는 집합들의 묶음**이였습니다.\n",
    "- 여기서 정의와 어긋남이 발생합니다.(합리적이지 못해요)동전던지기를 예시로 들어봅사디\n",
    "    - 앞면(H)가 나올 확률 = $P(\\{H\\}) = \\frac{1}{2}$라고 합시다.\n",
    "    - 그렇다면 동전의 뒷면이 나올 확률은 자연스럽게 $P(\\{H\\}^c) = P(\\{T\\}) = 1- \\frac{1}{2} = \\frac{1}{2}$임을 알 수 있습니다.\n",
    "    - 즉 **어떤 원소의 여사건을 포함시켜도 `모순없이` 확률이 정의**가 되지만 위에서 **$\\mathcal{F}$는 여사건을 포함시키지 않고 있습니다.**\n",
    "    - 말로 설명하자면 $\\mathcal{F}$는 \"동전의 앞면이 나올 확률만 알 수 있어.\"입니다. 이는 합리적이지 못하며 \"동전의 앞면이 나올 확률을 알면 뒷면이 나올 확률도 알 수 있어\"가 합리적인 주장입니다.\n",
    "- 위의 예시로부터 `sigma field`를 합리적으로 정의하기 위한 조건 중 하나는 **\"표본공간에 속하는 모든 사건에 대해서 그 사건이 `sigma field`에 포함되면 `여사건도 포함`되어야 한다.\"**를 도출해낼 수 있습니다.\n",
    "- 즉, 다음의 명제는 참입니다."
   ]
  },
  {
   "attachments": {},
   "cell_type": "markdown",
   "metadata": {},
   "source": [
    "::: {.callout-note  icon=false}\n",
    "## 조건1\n",
    "- $\\forall A \\subset \\Omega : A \\in \\mathcal{F} \\Rightarrow A^c \\in \\mathcal{F}$\n",
    ":::"
   ]
  },
  {
   "attachments": {},
   "cell_type": "markdown",
   "metadata": {},
   "source": [
    "## <span style = \"color:black\"> **예시3 $\\Omega = \\{H,T\\}$, $\\mathcal{F} = \\{\\{H\\},\\{T\\},\\Omega\\}$**"
   ]
  },
  {
   "attachments": {},
   "cell_type": "markdown",
   "metadata": {},
   "source": [
    "- `sigma field`를 위와 같이 정하는 것은 합리적일 까요?\n",
    "- 조건1에 의하면 `sigma field`에 속한 임의의 원소에 대한 여사건도 반드시 `sigma field`에 포함되어야 있어야 합니다.\n",
    "- 그러나 $\\Omega^c = \\emptyset \\not\\in \\mathcal{F}$이므로 위와 같은 `sigma field`는 합리적이지 못합니다."
   ]
  },
  {
   "attachments": {},
   "cell_type": "markdown",
   "metadata": {},
   "source": [
    "::: {.callout-note  icon=false}\n",
    "## 조건2\n",
    "- $\\Omega,\\emptyset \\in \\mathcal{F}$\n",
    ":::"
   ]
  },
  {
   "attachments": {},
   "cell_type": "markdown",
   "metadata": {},
   "source": [
    "## <span style = \"color:black\"> **예시5<br>$\\Omega = \\{1,2,3,4,5,6\\}$<br>$\\mathcal{F} = \\{\\emptyset,\\{1\\},\\{2\\},\\dots,\\{1,2\\},\\dots,\\{1,2,3,4,5,6\\},\\Omega\\}$**"
   ]
  },
  {
   "attachments": {},
   "cell_type": "markdown",
   "metadata": {},
   "source": [
    "- 예시5는 `sigma field`가 sample space에서 모든 부분집합들의 모음인 멱집합(powerset,$2^\\Omega$로 표기)입니다.\n",
    "- 위와 같은 `sigma field`는 합리적인데 위의 예시를 주사위를 던지는 실험이라고 생각하면 모든 경우에 대해 확률을 `모순없이` 정의할 수 있기 때문입니다.\n",
    "- 주목할 점은 이 경우에는 powerset 즉, 표본공간에서 가능한 모든 부분집합들의 모음을 `sigma field`로 정했지만 이는 항상 합리적이진 않으며 sample space마다 다르다는 점입니다.\n",
    "- 주목할 점은 이 경우에는 powerset 즉, 표본공간에서 가능한 모든 부분집합들의 모음을 `sigma field`로 정해도 합리적이라는 사실입니다.\n",
    "- 우리는 sample space의 모든 부분집합들의 모임(powerset)에 대해서 확률을 `모순없이` 정의하는 것이 불가능 한 경우가 있기에 합리적인 `sigma field`의 조건을 찾는 중이었습니다.\n",
    "- 위의 예시는 **sample space의 모든 subset에 대해서 확률을 정의하는게 가능한 경우도 있다**는 것을 보여줍니다.(항상 일부가 아닙니다.)"
   ]
  },
  {
   "attachments": {},
   "cell_type": "markdown",
   "metadata": {},
   "source": [
    "## <span style = \"color:black\"> **예시6 <br>$\\Omega = \\{1,2,3,4,5,6\\}$, $\\mathcal{F} = \\{\\emptyset,\\{6\\},\\{1,2,3,4,5\\},\\Omega\\} = 2^{\\Omega}$**"
   ]
  },
  {
   "attachments": {},
   "cell_type": "markdown",
   "metadata": {},
   "source": [
    "- 예시6은 sample space가 예시5와 거의 동일하지만 `sigma field` $\\mathcal{F}$만 다른 경우입니다.\n",
    "- 위와 같은 sigama field도 합리적입니다.\n",
    "- 다만 예시5에서는 표본공간의 모든 부분집합에 대해서 관심이 있었다면 이 경우는 **6이거나 6이아닌 경우의 확률만 관심이 있기 때문에 `sigma field`를 더 작게 정의**했다고 할 수 있습니다.\n",
    "- 이렇게 `sigma field`를 정의하는 또다른 예시들은 아래와 같은 것들이 있습니다.\n",
    "    - 롤에서 미드 vs 다른라인 고르는 경우(탑or원딜...)에 대한 확률 (저는 이게 제일 와닿네요 ㅎㅎ)\n",
    "    - 카페에서 아메리카노를 고르거나 고르지 않는 경우(카페라떼,카푸치노 등등등..)에 대한 확률\n",
    "- 위와 같은 예시로부터 하나의 sample space에 대해서 **`sigma field`는 유일하지 않으며 다양하게 존재함**을 알 수 있습니다."
   ]
  },
  {
   "attachments": {},
   "cell_type": "markdown",
   "metadata": {},
   "source": [
    "::: {.callout-note icon=false}\n",
    "## 알 수 있는 성질\n",
    "- 하나의 표본공간에 대하여 시그마 필드는 유일하지 않다.\n",
    "- 관심있는 사건이 다른 경우 시그마 필드를 다르게 정의할 수 있다.\n",
    ":::"
   ]
  },
  {
   "attachments": {},
   "cell_type": "markdown",
   "metadata": {},
   "source": [
    "## <span style = \"color:black\"> **예시7 <br>$\\Omega = \\{1,2,3,4,5,6\\}$, $\\mathcal{F} = \\{\\emptyset,\\Omega\\}$**"
   ]
  },
  {
   "attachments": {},
   "cell_type": "markdown",
   "metadata": {},
   "source": [
    "- 위와 같은 `sigma field`도 합리적이긴 합니다.\n",
    "- 하지만 $P(\\Omega) = 1,P(\\emptyset) = 0$인 것은 자명합니다.(쓸모가 없습니다.)\n",
    "- 이러한 `sigma field`를 `trivial sigma field`라고 합니다."
   ]
  },
  {
   "attachments": {},
   "cell_type": "markdown",
   "metadata": {},
   "source": [
    "## <span style = \"color:black\"> **예시8 $\\Omega = \\{1,2,3,4\\},\\mathcal{F}=\\{\\emptyset, \\{1\\}, \\{2\\}, \\{2,3,4\\}, \\{1,3,4\\}, \\Omega \\}$**"
   ]
  },
  {
   "attachments": {},
   "cell_type": "markdown",
   "metadata": {},
   "source": [
    "### <span style = \"color:black\"> **풀이1**"
   ]
  },
  {
   "attachments": {},
   "cell_type": "markdown",
   "metadata": {},
   "source": [
    "- 위와 같은 `sigma field`는 합리적이지 못합니다.\n",
    "- 예시를 들어봅시다.\n",
    "    - 주사위를 던져서 1이 나올 확률과 2가 나올 확률을 알고있습니다.\n",
    "    - 그렇다면 3또는4가 나오는 사건 $\\{1,2\\}$에 대한 확률은 각각의 확률을 더함으로서 자명하게 구할 수 있으며 이를 `sigma field`에 포함시켜도 확률에 모순이 없습니다.\n",
    "    - 즉, **표본공간에 속하는 교집합이 없는 임의의 두 사건이 `sigma field`에 속할 때 임의의 두 사건에 대한 합집합이 `sigma field`포함되어도 모순이 없지만** 위에서 **$\\mathcal{F}$는 합집합을 포함하지 않습니다.**\n",
    "    - 말로 설명하자면 위의 $\\mathcal{F}$는 \"3이 나올 확률은 알고 4가 나올 확률은 아는데 3또는4가 나올 확률은 몰라\"라고 말하고 있습니다.\n",
    "    - 이는 합리적이지 못하며 \"3이 나올 확률은 알고 4가 나올 확률은 아니까 3또는4가 나올 확률도 알아\"가 합리적입니다.\n",
    "- 위의 예시로부터 `sigma field`를 합리적으로 정의하기 위한 조건 중 하나는 **\"표본공간에 속하는 임의의 두 사건이 교집합이 존재하지 않을 때 두 사건이 모두 `sigma field`에 속한다면 두 사건의 합집합도 포함되어야 한다.\"**를 도출해낼 수 있습니다.\n",
    "- 즉, 다음의 명제는 참입니다."
   ]
  },
  {
   "attachments": {},
   "cell_type": "markdown",
   "metadata": {},
   "source": [
    "::: {.callout-note icon=false}\n",
    "## 조건3\n",
    "$$\\forall A,B \\subset \\Omega \\text{ such that } A \\cap B = \\emptyset : A,B \\in \\mathcal{F} \\Rightarrow A \\cup B \\in \\mathcal{F}$$\n",
    ":::"
   ]
  },
  {
   "attachments": {},
   "cell_type": "markdown",
   "metadata": {},
   "source": [
    "- 이와 같은 논리로 disjoint한 두 사건의 합집합을 `sigma field`에 포함시키고 또한 여집합도 고려했을때 수정된 시그마필드는 다음과 같습니다"
   ]
  },
  {
   "attachments": {},
   "cell_type": "markdown",
   "metadata": {},
   "source": [
    "$$\\Omega = \\{1,2,3,4\\},\\mathcal{F}=\\{\\emptyset, \\{1\\}, \\{2\\}, \\{2,3,4\\}, \\{1,3,4\\}, \\Omega,\\{1,2\\},\\{3,4\\}\\}$$"
   ]
  },
  {
   "attachments": {},
   "cell_type": "markdown",
   "metadata": {},
   "source": [
    "### <span style = \"color:black\"> **풀이2**\n"
   ]
  },
  {
   "attachments": {},
   "cell_type": "markdown",
   "metadata": {},
   "source": [
    "- 예시를 들어봅시다.\n",
    "    - 주사위를 던져서 1이거나 3이거나 4가 나올 확률과 1이 나올 확률을 알고 있습니다.\n",
    "    - 그렇다면 $\\{3,4\\}$이 나올 확률은 $P(\\{1,3,4\\}) - P(\\{1\\})$로 자명하게 구할 수 있습니다.\n",
    "    - 즉, **표본공간에 속하며 포함관계에 있는 임의의 두 사건이 sigma field에 속할 때 두 사건에 대한 차집합도 `sigma field`에 포함시켜도 확률을 정의할 때 모순이 없지만 위에서 $\\mathcal{F}$는 차집합을 포함하지 않습니다.**\n",
    "    - 말로 설명하자면 위의 $\\mathcal{F}$는 \"1아니면 3아니면 4가 나올 확률은 알고 1이 나올 확률은 아는데 3또는4가 나올 확률은 모른다\"라고 말하고 있는 것입니다.\n",
    "    - 이는 합리적이지 못하며 \"1아니면 3아니면 4가 나올 확률을 알고 1이 나올 확률도 알기 때문에 3또는4가 나올 확률도 알아\"가 합리적입니다."
   ]
  },
  {
   "attachments": {},
   "cell_type": "markdown",
   "metadata": {},
   "source": [
    "::: {.callout-note icon=false}\n",
    "## 조건4\n",
    "$$\\forall A,B \\subset \\Omega \\text{ such that } A \\subset B: A,B \\in \\mathcal{F} \\Rightarrow B - A \\in \\mathcal{F}$$\n",
    ":::"
   ]
  },
  {
   "attachments": {},
   "cell_type": "markdown",
   "metadata": {},
   "source": [
    "- 이와 같은 논리로 포함관계에 있는 두 사건의 차집합을 `sigma field`에 포함시키고 또한 여집합도 고려했을때 수정된 시그마필드는 다음과 같습니다."
   ]
  },
  {
   "attachments": {},
   "cell_type": "markdown",
   "metadata": {},
   "source": [
    "$$\\Omega = \\{1,2,3,4\\},\\mathcal{F}=\\{\\emptyset, \\{1\\}, \\{2\\}, \\{2,3,4\\}, \\{1,3,4\\}, \\Omega,\\{3,4\\},\\{1,2\\}\\}$$"
   ]
  },
  {
   "attachments": {},
   "cell_type": "markdown",
   "metadata": {},
   "source": [
    "# <span style = \"color:black\"> **The smallest sigma field**"
   ]
  },
  {
   "attachments": {},
   "cell_type": "markdown",
   "metadata": {},
   "source": [
    "- 지금까지 여러가지 sample space와 그것에 대한 `sigma field`에 필요한 조건들을 대략적으로 구해봤습니다.\n",
    "- 그런데 이외에도 추가적인 조건들이 존재할 뿐만 아니라 sample space가 더 방대할 수 있습니다.\n",
    "- 따라서 확률에 관심이 있는 집합들은 적을지라도 확률을 정의하기도 전에 `sigma field`를 정의하는게 매우 까다롭고 힘들 수 있습니다.\n",
    "- 따라서 관심있는 집합들을 포함하는 모음을 collection $\\mathcal{A}$라 했을 때, 관심있는 집합들을 포함하는 가장 작은 `sigma field`를 the smallest sigma field contatining $\\mathcal{A}$라 합니다.\n",
    "- 기호로는 $\\sigma(\\mathcal{A})$라 합니다."
   ]
  },
  {
   "attachments": {},
   "cell_type": "markdown",
   "metadata": {},
   "source": [
    "# <span style = \"color:black\"> **정리**"
   ]
  },
  {
   "attachments": {},
   "cell_type": "markdown",
   "metadata": {},
   "source": [
    "- 표본공간의 모든 subset에 대해서 집합을 `모순없이` 정의하는 것은 불가능합니다.\n",
    "- 따라서 확률을 `모순없이` 정의할 수 있는 일부의 집합들만 고려해서 `sigma field`라 하고 여기서만 확률을 정의해보자."
   ]
  },
  {
   "cell_type": "markdown",
   "metadata": {},
   "source": []
  }
 ],
 "metadata": {
  "kernelspec": {
   "display_name": "base",
   "language": "python",
   "name": "python3"
  },
  "language_info": {
   "name": "python",
   "version": "3.9.13"
  },
  "orig_nbformat": 4
 },
 "nbformat": 4,
 "nbformat_minor": 2
}
