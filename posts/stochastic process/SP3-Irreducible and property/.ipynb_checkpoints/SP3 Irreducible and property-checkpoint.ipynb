{
 "cells": [
  {
   "cell_type": "raw",
   "metadata": {},
   "source": [
    "---\n",
    "title: \"[Stochestic Process] HMC - Irreducible\"\n",
    "format: html\n",
    "date: \"2023/06/07\"\n",
    "author: \"hoyeon\"\n",
    "categories: \"Probability&Statistics\"\n",
    "---"
   ]
  },
  {
   "cell_type": "code",
   "execution_count": 2,
   "metadata": {},
   "outputs": [
    {
     "data": {
      "application/javascript": [
       "IPython.notebook.set_autosave_interval(30000)"
      ]
     },
     "metadata": {},
     "output_type": "display_data"
    },
    {
     "name": "stdout",
     "output_type": "stream",
     "text": [
      "Autosaving every 30 seconds\n"
     ]
    }
   ],
   "source": [
    "%autosave 30\n",
    "import numpy as np"
   ]
  },
  {
   "cell_type": "markdown",
   "metadata": {},
   "source": [
    "# Background"
   ]
  },
  {
   "cell_type": "markdown",
   "metadata": {},
   "source": [
    "## 개념 만들기"
   ]
  },
  {
   "cell_type": "markdown",
   "metadata": {},
   "source": [
    "- 수학에서는 `개념`이라는 것을 만들고 정의하고 싶어한다고? 한다.(신기한 사람들이다.)\n",
    "- 개념이라는 것은 어떻게 만들까?\n",
    "- 보통 원툴인데 대강보면 다음과 같다고 한다."
   ]
  },
  {
   "cell_type": "markdown",
   "metadata": {},
   "source": [
    "**(개념 만들기)**\n",
    "1. 어떤 상황,사례,대상,현상으로부터 보편적인 속성(패턴,법칙,성질)을 찾는다.(generalization,일반화)\n",
    "2. 보편적인 속성들로부터 핵심적인 것들만 추려서 단순화한다.(abstraction,추상화)\n",
    "3. 핵심적인 속성을 가지는 것들을 지칭할 이름을 붙이며 이것이 개념이 된다."
   ]
  },
  {
   "cell_type": "markdown",
   "metadata": {},
   "source": [
    "- 이 과정이 끝난 후 보면 이름(개념)과 개념에 대한 핵심적인 속성들이 있다.\n",
    "- 핵심적인 속성들이 결국은 개념에 대한 정의가 된다."
   ]
  },
  {
   "cell_type": "markdown",
   "metadata": {},
   "source": [
    "**(자동차라는 개념 만들기)**\n",
    "1. 바퀴가 있음,본넷이 있음,사람이 탈 수 있음,에어컨이 있음,뒷좌석이 있음,빠름,네비개이션 있음(generalization)\n",
    "2. 빠름,바퀴가 있음,사람이 탈 수 있음(abstraction)\n",
    "3. 빠르고 바퀴가 있으며 사람이 탈 수 있는 것에 자동차라는 이름을 붙이자.(핵심적인 속성을 가지는 것들에 지칭할 이름)\n",
    "     - 빠르고 바퀴가 있으며 사람이 탈 수 있다가 자동차의 정의가 된다."
   ]
  },
  {
   "cell_type": "markdown",
   "metadata": {},
   "source": [
    "## Equivalence Relation"
   ]
  },
  {
   "cell_type": "markdown",
   "metadata": {},
   "source": [
    "- 한 마디 설명 : `~가 같다`에 대한 개념<br>\n",
    "- 같다라는 용어가 쓰이는 경우가 많다.\n",
    "    - 숫자가 같다.(대상들이 같은 숫자라는 점에서 같다.)\n",
    "    - 자료형이 같다. (대상들이 자료형이 같다라는 점에서 같다.)\n",
    "    - 자료형과 숫자가 같다. (대상들이 자료형과 숫자가 같다라는 점에서 같다."
   ]
  },
  {
   "cell_type": "markdown",
   "metadata": {},
   "source": [
    "- `같다`에 해당하는 개념을 만들자."
   ]
  },
  {
   "cell_type": "markdown",
   "metadata": {},
   "source": [
    "1. generalization<br>\n",
    "    - $a = a$\n",
    "    - $a=b \\Rightarrow b= a$\n",
    "    - $a=b,b=c \\Rightarrow b=c$\n",
    "    - $\\vdots$"
   ]
  },
  {
   "cell_type": "markdown",
   "metadata": {},
   "source": [
    "2. abstraction\n",
    "    - 그냥 위에 있는 세개가 핵심적인 거 같음\n",
    "    - 이것들을 `어떠한 의미에서 같음`을 말할때 반드시 지녀야할 핵심적인 속성,성질이다."
   ]
  },
  {
   "cell_type": "markdown",
   "metadata": {},
   "source": [
    "3. 이름을 붙이고 개념을 만들자~!"
   ]
  },
  {
   "cell_type": "markdown",
   "metadata": {},
   "source": [
    "::: {.callout-note icon=false}\n",
    "# Definition of equivalence relation\n",
    "어떠한 집합 $\\Omega$의 임의의 원소 a,b,c에 대하여 ~이 아래와 같은 성질이 성립한다면 ~를 equivalence relation이라고 부른다.\n",
    "1. $a \\sim a$\n",
    "2. $a \\sim b \\Rightarrow b \\sim a$\n",
    "3. $a \\sim b,b\\sim c \\Rightarrow a \\sim c$\n",
    ":::"
   ]
  },
  {
   "cell_type": "markdown",
   "metadata": {},
   "source": [
    "4. 결과적으로 성질들이 개념에 대한 정의가 되었음도 확인해보자."
   ]
  },
  {
   "cell_type": "markdown",
   "metadata": {},
   "source": [
    "- equivalence relation은 `어떠한 의미에서 같다`를 의미하는 기호로 이해할 수도 있음.\n",
    "- 같다라는 개념에 대한 일반화,추상화"
   ]
  },
  {
   "cell_type": "markdown",
   "metadata": {},
   "source": [
    "- equivalence relation의 예시는 뭐가 있을까?\n",
    "    1. 등호 $=$\n",
    "    2. 삼각형의 합동 $\\equiv$\n",
    "        - $A \\equiv A$ : 임의의 삼각형 A는 자기자신과 합동임\n",
    "        - $A \\equiv B \\Rightarrow B \\equiv A$ : A와 B가 합동이면 B와 A도 합동임\n",
    "        - $A \\equiv B,B \\equiv C \\Rightarrow A \\equiv C$ : A,B가 합동이고 B,C도 합동이면 A,C도 합동임\n",
    "    3. 삼각형의 닮음 $$\n",
    "        - $\\sim$\n"
   ]
  },
  {
   "cell_type": "markdown",
   "metadata": {},
   "source": [
    "## Equivalence Class"
   ]
  },
  {
   "cell_type": "markdown",
   "metadata": {},
   "source": [
    "::: {.callout-note icon=false}\n",
    "### Definition of equivalence class\n",
    "어떠한 집합 $\\Omega$가 equivalence relation ~를 가진다면 그 집합은 ~를 기준으로 나눌 수 있다. 그 때 나눠진 집합 각각을 equivalence class라 한다.\n",
    ":::"
   ]
  },
  {
   "cell_type": "markdown",
   "metadata": {},
   "source": [
    "일단 생략.(적당한 예시가 생각나면 바로 추가하겠습니다ㅎㅎ)"
   ]
  },
  {
   "cell_type": "markdown",
   "metadata": {},
   "source": [
    "# Irreducible"
   ]
  },
  {
   "cell_type": "markdown",
   "metadata": {},
   "source": [
    "- HMC가 Irreducible인지 아닌지 파악하는 것은 정상분포에 대한 중요한 정보이다.\n",
    "    - 정상분포의 존재여부와 유일성에 대한 판단\n",
    "    - 어떤 방법으로 정상분포를 구할지\n",
    "- 따라서 조금 엄밀한 정의를 살펴봐야함."
   ]
  },
  {
   "cell_type": "markdown",
   "metadata": {},
   "source": [
    "## Accessible"
   ]
  },
  {
   "cell_type": "markdown",
   "metadata": {},
   "source": [
    ":::{.callout-note}\n",
    "#### Definition of Accessible\n",
    "$\\{X_t\\}$가 상태공간 $E$위에서 정의된 HMC라 하고 $\\bf{P}$를 $\\{X_t\\}$의  transition matrix라고 하자. 임의의 $i,j \\in S$에 대하여 상태$i$에서 상태$j$로 도달가능(Accessible)하다는 의미는 아래와 같다.\n",
    "$$\\exists T_0\\in\\mathbb{N}_0\\text{ such that } p_{ij}^{(T_0)} > 0$$\n",
    "Where, $p_{ij}^{(T_0)} = P(X_{K+T_0} = j|X_{k} = j)$ : 상태$i$에서 출발하여 $T_0$-step 이후 상태$j$에 도착할 확률 (HMC일 경우 성립)\n",
    ":::"
   ]
  },
  {
   "cell_type": "markdown",
   "metadata": {},
   "source": [
    "- 윗 식을 읽어보자\n",
    "    - 상태 $i$에서 상태$j$로 갈 수 있는 확률이 어떤 시점 $T_0\\in\\mathbb{N}_0$에서 존재한다면 Accessible하다.\n",
    "- 직관적으로?어떤 느낌? : $i$에서 $j$로 갈 수 있다.\n",
    "- 기호로 :  $i \\to j$\n",
    "- 말로 : $j$ is accesible from $i$\n"
   ]
  },
  {
   "cell_type": "markdown",
   "metadata": {},
   "source": [
    "## Communicate"
   ]
  },
  {
   "cell_type": "markdown",
   "metadata": {},
   "source": [
    ":::{.callout-note}\n",
    "#### Definition of Communicate\n",
    "$\\{X_t\\}$가 상태공간 $E$위에서 정의된 HMC라 하고 ${\\bf{P}}$를 $\\{X_t\\}$의 transition matrix라고 하자. 임의의 $i,j \\in S$에 대하여 상태 $i$에서 상태$j$로 상호도달가능(Communicate)하다는 의미는 아래와 같다.\n",
    "$$i \\to j \\text{ and } j \\to i$$\n",
    ":::"
   ]
  },
  {
   "cell_type": "markdown",
   "metadata": {},
   "source": [
    "- 직관적으로 : $i$에서 $j$로 갈 수 있으며 $j$에서 $i$로도 갈 수 있다.(언제일지는 모르지만 하여튼 갈 수 있다.)\n",
    "- 기호로 : $i \\leftrightarrow j$ 표현."
   ]
  },
  {
   "cell_type": "markdown",
   "metadata": {},
   "source": [
    "- 생각해보니 $\\leftrightarrow$는 이런 것들이 성립하는 거 같다.\n",
    "    1. $i \\leftrightarrow i$ (since $p_{ii}^{(0)} > 0$,$i$상태에서 0-step 이후(현재,시간 안흐름)에서 $i$에 존재할 확률은 당연히 존재한다.)\n",
    "    2. $i \\leftrightarrow j \\Rightarrow j \\leftrightarrow i$ \n",
    "    3. $i \\leftrightarrow j,j\\leftrightarrow k \\Rightarrow i \\leftrightarrow k$"
   ]
  },
  {
   "cell_type": "markdown",
   "metadata": {},
   "source": [
    "- 오... 상호도달가능을 의미하는 $\\leftrightarrow$는 equivalence relation이다!!\n",
    "- 그러면 equivalence relation으로 상태공간 $E$를 쪼갤 수도 있겠네?"
   ]
  },
  {
   "cell_type": "markdown",
   "metadata": {},
   "source": [
    "## Communication class"
   ]
  },
  {
   "cell_type": "markdown",
   "metadata": {},
   "source": [
    ":::{.callout-note}\n",
    "#### Definition of ommunication class\n",
    "$\\{X_t\\}$가 상태공간 $E$위에서 정의된 HMC라 하자. 상태공간 $E$는 equvalence relation인 $\\leftrightarrow$를 기준으로 아래와 같이 나눌 수 있다.\n",
    "$$\n",
    "\\begin{aligned}\n",
    "& E = E_1 \\uplus E_2 \\uplus \\dots\\ \\\\\n",
    "& \\text{where } \\uplus : \\text{disjoint(교집합 = 공집한)한 set들의 합집합}\n",
    "\\end{aligned}\n",
    "$$\n",
    "이때 나누어진 집합 $E_1,E_2,\\dots$들을 communication class라고 부른다.\n",
    ":::"
   ]
  },
  {
   "cell_type": "markdown",
   "metadata": {},
   "source": [
    "### 예시"
   ]
  },
  {
   "cell_type": "markdown",
   "metadata": {},
   "source": [
    "- $\\{X_t\\}$가 상태공간 $E = \\{0,1,2\\}$ 위에서 정의된 HMC 아래와 같은 HMC라 하자."
   ]
  },
  {
   "cell_type": "markdown",
   "metadata": {},
   "source": [
    "![](./figure1.png)"
   ]
  },
  {
   "cell_type": "markdown",
   "metadata": {},
   "source": [
    "- 도달가능한($\\rightarrow$) 경우를 모두 찾아보자.\n",
    "    - $0 \\to 1,0 \\to 2$\n",
    "    - $1 \\to 2$\n",
    "    - $2 \\to 1$\n",
    "- 상호도달가능한($\\leftrightarrow$) 경우를 모두 찾아보자.\n",
    "    - $1\\leftrightarrow2$\n",
    "    - $0 \\leftrightarrow 2,1\\leftrightarrow2$는 $1\\to0,2\\to0$이 성립하지 않으니까 안되겠지?\n",
    "- 상태들을 equivalence relation $\\leftrightarrow$로 나눠보고 communication class를 구해보면?\n",
    "    - $E = \\{0\\} \\uplus \\{1,2\\}$\n",
    "    - $E_1 = \\{0\\},E_2 = \\{1,2\\}$"
   ]
  },
  {
   "cell_type": "markdown",
   "metadata": {},
   "source": [
    "## Irreducible"
   ]
  },
  {
   "cell_type": "markdown",
   "metadata": {},
   "source": [
    ":::{.callout-note}\n",
    "#### Definition of Irreducible\n",
    "$\\{X_t\\}$가 상태공간 $E$위에서 정의된 HMC라 하고 $\\bf{P}$를 $\\{X_t\\}$의  transition matrix라고 하자. 상태공간 $E$가 오직 하나의 communication class를 가지는 경우 아래와 같이말한다.\n",
    "1. $\\{X_t\\}$가 irreducible한 Markov Chain이다.\n",
    "2. ${\\bf{P}}$가 irreducible한 transition matrix이다."
   ]
  },
  {
   "cell_type": "markdown",
   "metadata": {},
   "source": [
    "# 정리\n",
    "- Irreducible인지 먼저 파악하는 것은 중요하다. 정상분포에 관한 사실과 어떻게 정상분포를 구할지의 지표가 되기 때문이다.\n",
    "- Irreducible은 모든 상태가 다른 상태들로 `서로간에 넘나들 수 있다`는 느낌임을 기억하자."
   ]
  }
 ],
 "metadata": {
  "kernelspec": {
   "display_name": "Python 3 (ipykernel)",
   "language": "python",
   "name": "python3"
  },
  "language_info": {
   "codemirror_mode": {
    "name": "ipython",
    "version": 3
   },
   "file_extension": ".py",
   "mimetype": "text/x-python",
   "name": "python",
   "nbconvert_exporter": "python",
   "pygments_lexer": "ipython3",
   "version": "3.9.13"
  },
  "toc": {
   "base_numbering": 1,
   "nav_menu": {},
   "number_sections": true,
   "sideBar": true,
   "skip_h1_title": false,
   "title_cell": "Table of Contents",
   "title_sidebar": "Contents",
   "toc_cell": false,
   "toc_position": {},
   "toc_section_display": true,
   "toc_window_display": true
  }
 },
 "nbformat": 4,
 "nbformat_minor": 2
}
