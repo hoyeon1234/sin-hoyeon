{
 "cells": [
  {
   "cell_type": "raw",
   "metadata": {},
   "source": [
    "---\n",
    "title: \"[Stochestic Process] injection,subjection,bijection\"\n",
    "format: html\n",
    "date: \"2023/03/17\"\n",
    "author: \"hoyeon\"\n",
    "---"
   ]
  },
  {
   "attachments": {},
   "cell_type": "markdown",
   "metadata": {},
   "source": [
    "# <span style = \"color:black\"> **학습목표**"
   ]
  },
  {
   "attachments": {},
   "cell_type": "markdown",
   "metadata": {},
   "source": [
    "- 궁극적인 목표는 크기가 무한히 큰 유리수집합$\\mathbb{Q}$의 길이와 무리수집합$\\mathbb{Q}^c$ 길이가 다름을 확인하는 것이다.\n",
    "- 그러기 위해서 먼저 두 집합의 크기에 해당하는 개념인 cardinality를 무한집합에서 생각해보자.\n",
    "- 무한집합의 cardinality를 알 수 있다면 무한집합사이에서도 서로다른 **급(격?,체급차이?)**을 알 수 있고 이를 통해서 두 집합의 길이와 연관지으실 듯 하다."
   ]
  },
  {
   "attachments": {},
   "cell_type": "markdown",
   "metadata": {},
   "source": [
    "# <span style = \"color:black\"> **cardinality**\n"
   ]
  },
  {
   "attachments": {},
   "cell_type": "markdown",
   "metadata": {},
   "source": [
    "- 집합의 cardinality는 집합의 element가 몇 개인지 알려주는 측도(measure)이다.\n",
    "-  $\\text{The cardinality of a set A} = |A| = \\text{card}(A)$\n",
    "- 유한집합 $A = {2,4,6} \\Rightarrow |A| = 3$ \n",
    "- 무한집합 $A = \\{1,2,3,\\dots\\}$의 경우 cardinality는 어떻게 되는가?(이 질문에 대답할 수 있다면 무한집합에 속하는 유리수,무리수 집합의 크기도 대답할 수 있고 또한 각 집합의 길이를 구할 수 있는 근거가 될 듯하다.)\n",
    "- 이 질문은 bijection,injection,surjection을 먼저 알아야 한다."
   ]
  },
  {
   "attachments": {},
   "cell_type": "markdown",
   "metadata": {},
   "source": [
    "# <span style = \"color:black\"> **Bijection,Injection,Surjection**"
   ]
  },
  {
   "attachments": {},
   "cell_type": "markdown",
   "metadata": {},
   "source": [
    "![](./functions.png)"
   ]
  },
  {
   "attachments": {},
   "cell_type": "markdown",
   "metadata": {},
   "source": [
    "## <span style = \"color:black\"> **Injective function**"
   ]
  },
  {
   "attachments": {},
   "cell_type": "markdown",
   "metadata": {},
   "source": [
    "> **(definition of Injective function)** <br>\n",
    "\\begin{aligned}\n",
    "&\\text{The function is injective, or one-to-one}\\\\\n",
    "&\\Longleftrightarrow \\forall x_1,x_2\\in X,x_1\\neq x_2\\implies f(x_1)\\neq f(x_2)\n",
    "\\end{aligned}"
   ]
  },
  {
   "attachments": {},
   "cell_type": "markdown",
   "metadata": {},
   "source": [
    "- domain에 속하는 임의의,모든 서로다른 두 원소가 codomain에 속하는 서로다른 두 원소에 mapping될 때 Injection function이라고 한다.\n",
    "- 암기(입력이 다르면 출력이 다르다)\n",
    "- 느낌(화살표가 쫙 펴지는 느낌이다.)"
   ]
  },
  {
   "attachments": {},
   "cell_type": "markdown",
   "metadata": {},
   "source": [
    "## <span style = \"color:black\"> **surjective function**"
   ]
  },
  {
   "attachments": {},
   "cell_type": "markdown",
   "metadata": {},
   "source": [
    "> **(definition of surjective function)**<br>\n",
    "\\begin{aligned}\n",
    "&\\text{The function is surjective, or onto} \\\\\n",
    "&\\Longleftrightarrow \\forall y \\in Y,\\exists x \\in X \\text{ such that } y = f(x)\n",
    "\\end{aligned}"
   ]
  },
  {
   "attachments": {},
   "cell_type": "markdown",
   "metadata": {},
   "source": [
    "- codomain에 속하는 임의의,모든 원소가 domain에 속하는 원소에 대해 적어도 하나의 mapping이 (모두)존재할 때 surjective function이라고 한다.\n",
    "- 암기1:domian의 image(상)인 치역이 공역과 같다.\n",
    "- 암기2:inverse image가 정의역에 있어야 한다 (중요)\n",
    "- 느낌 : 화살표가 쫙 모이는 느낌"
   ]
  },
  {
   "attachments": {},
   "cell_type": "markdown",
   "metadata": {},
   "source": [
    "## <span style = \"color:black\"> **bijective function**"
   ]
  },
  {
   "attachments": {},
   "cell_type": "markdown",
   "metadata": {},
   "source": [
    "> **(definition of bijective function)**<br>\n",
    "\\begin{aligned}\n",
    "&\\text{The function is bijective, or one-to-one and onto}\\\\\n",
    "&\\Longleftrightarrow \\forall y \\in Y,\\exists !x \\in X \\text{ such that } y = f(x) \\\\\n",
    "&\\text{where } \\exists!x \\text{ means \"there exists exactly one x\".}\n",
    "\\end{aligned}"
   ]
  },
  {
   "attachments": {},
   "cell_type": "markdown",
   "metadata": {},
   "source": [
    "- codomain에 속하는 임의의,모든 원소가 domain에 속하는 정확히 하나의 원소에만 mapping되는 경우 bijective function이라고 한다.\n",
    "- injective이며 동시에 surjective인 function이다."
   ]
  },
  {
   "attachments": {},
   "cell_type": "markdown",
   "metadata": {},
   "source": [
    "## <span style = \"color:black\"> **용어 정리(헷갈림)**"
   ]
  },
  {
   "attachments": {},
   "cell_type": "markdown",
   "metadata": {},
   "source": [
    "- injective = 단사 = one-to-one, injective function = injection = 단사함수\n",
    "- surjective = 전사 = onto, surjective function = surjection = 전사함수\n",
    "- bijecitve = 전단사 = one-to-one and onto , bijective function = bijection = 전단사함수"
   ]
  },
  {
   "attachments": {},
   "cell_type": "markdown",
   "metadata": {},
   "source": [
    "## <span style = \"color:black\"> **Cardinality와의 관계**\n",
    "> **(property1)**<br>\n",
    "어떤 함수가 전사함수 & 단사함수 $\\Rightarrow$ 전단사함수\n",
    "\n",
    "\n",
    "> **(property2)**<br>\n",
    "두 집합사이에서 정의되는 함수로 집합의 크기비교가 가능하다.<br>\n",
    "- 집합 $X$에서 집합 $Y$로 가는 단사함수가 존재한다. $\\Longleftrightarrow |X| \\leq |Y|$<br>\n",
    "- 집합 $X$에서 집합 $Y$로 가는 전사함수가 존재한다. $\\Longleftrightarrow |X| \\geq |Y|$<br>\n",
    "- 집합 $X$에서 집합 $Y$로 가는 전단사함수가 존재한다. $\\Longleftrightarrow |X| = |Y|$ \n",
    "- 유한집합에 대해서 위의 사실은 당연해보인다. 이 논리를 무한집합에도 확장하여 무한집합끼리의 cardinality를 비교한다.\n",
    "\n",
    "Q-물어볼꺼 : 동치인가?<br>\n"
   ]
  },
  {
   "attachments": {},
   "cell_type": "markdown",
   "metadata": {},
   "source": [
    "# <span style = \"color:black\"> **유리수 집합의 cardinality**\n"
   ]
  },
  {
   "attachments": {},
   "cell_type": "markdown",
   "metadata": {},
   "source": [
    "- 유리수 집합의 cardinality를 구하기 위해서 여러가지 경우를 생각해본다."
   ]
  },
  {
   "attachments": {},
   "cell_type": "markdown",
   "metadata": {},
   "source": [
    "## **Ex)두 무한집합의 경우**\n",
    "$X = \\{1,3,5,\\dots\\},Y = \\{2,4,6,\\dots\\}$"
   ]
  },
  {
   "attachments": {},
   "cell_type": "markdown",
   "metadata": {},
   "source": [
    "- 두 무한집합사이에 cardinality를 비교하려면 두 집합사이에 **1)적당한 함수를 정의**하고 **2)어떤 함수인지 정의를 통해 확인**한 후 **3)cardinality를 구한다**."
   ]
  },
  {
   "attachments": {},
   "cell_type": "markdown",
   "metadata": {},
   "source": [
    "1. $f$정의하기\n",
    "\\begin{aligned}\n",
    "f(1) &= 2 \\\\\n",
    "f(2) &= 4 \\\\\n",
    "f(3) &= 6 \\\\\n",
    "&\\vdots\n",
    "\\end{aligned}\n"
   ]
  },
  {
   "attachments": {},
   "cell_type": "markdown",
   "metadata": {},
   "source": [
    "2. 단사함수인가?(정의를 통해 확인)\n",
    "- definition : $\\forall x_1,x_2\\in X,x_1\\neq x_2\\implies f(x_1)\\neq f(x_2)$\n",
    "- 정의역에 속한 임의의,모든 원소가 공역에 속하는 서로다른 원소에 mapping되므로 단사함수이다."
   ]
  },
  {
   "attachments": {},
   "cell_type": "markdown",
   "metadata": {},
   "source": [
    "3. 전사함수인가?(정의를 통해 확인)\n",
    "- definition : $\\forall y \\in Y,\\exists x \\in X \\text{ such that } y = f(x)$\n",
    "- 공역에 속한 임의의,모든 원소가 적어도 하나의 정의역에 속하는 원소에 mapping되므로 전사함수이다."
   ]
  },
  {
   "attachments": {},
   "cell_type": "markdown",
   "metadata": {},
   "source": [
    "4. 결론 \n",
    "- $f$는 bijective function이다. $\\Longleftrightarrow |X| = |Y|$"
   ]
  },
  {
   "cell_type": "markdown",
   "metadata": {},
   "source": []
  }
 ],
 "metadata": {
  "kernelspec": {
   "display_name": "base",
   "language": "python",
   "name": "python3"
  },
  "language_info": {
   "name": "python",
   "version": "3.9.13"
  },
  "orig_nbformat": 4
 },
 "nbformat": 4,
 "nbformat_minor": 2
}
