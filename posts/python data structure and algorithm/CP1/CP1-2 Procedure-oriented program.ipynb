{
 "cells": [
  {
   "attachments": {},
   "cell_type": "raw",
   "metadata": {},
   "source": [
    "---\n",
    "title: \"[Algorithm & Datastructure]<br>1-2.Procedure-oriented program vs Object-oriented program\"\n",
    "format: html\n",
    "image: ../thumbnail.png\n",
    "author: hoyeon\n",
    "date: 2023-04-23\n",
    "categories: DS&Algorithm\n",
    "---"
   ]
  },
  {
   "attachments": {},
   "cell_type": "markdown",
   "metadata": {},
   "source": [
    "# Procedure-oriented program"
   ]
  },
  {
   "attachments": {},
   "cell_type": "markdown",
   "metadata": {},
   "source": [
    "- 절차지향프로그램이라 하며 함수를 기반으로 많은 부분이 구현된다.\n",
    "    - 메인함수가 존재한다.\n",
    "- 크게 두 가지 부분으로 나누어 진다.\n",
    "    - Definition part(정의,선언)\n",
    "    - Execution part(실행)"
   ]
  },
  {
   "cell_type": "code",
   "execution_count": 5,
   "metadata": {},
   "outputs": [
    {
     "name": "stdout",
     "output_type": "stream",
     "text": [
      "Hello, world\n",
      "This program computes the average of two number\n",
      "The average of the scores is : 3.0\n"
     ]
    }
   ],
   "source": [
    "# Definition part(정의해봐)\n",
    "def main(): \n",
    "    print(\"Hello, world\")\n",
    "    print(\"This program computes the average of two number\")\n",
    "\n",
    "    n1 = int(input(\"Input first number\"))\n",
    "    n2 = int(input(\"Second number\"))\n",
    "    average = (n1+n2) / 2\n",
    "    print(\"The average of the scores is :\",average)\n",
    "\n",
    "# Execution part(실행해봐)\n",
    "main()"
   ]
  },
  {
   "attachments": {},
   "cell_type": "markdown",
   "metadata": {},
   "source": [
    "- `def`이라는 keyword를 함수를 정의할때 사용한다.\n",
    "- 함수내부의 block은 `:`로 시작하며 indentation(들여쓰기)을 사용하여 다른 block과 구분한다.\n",
    "    - print(\"hello, world\") ~ print(\"The average of ....까지가 main에 속하는 하나의 블록이된다.\n",
    "    - main()부터는 다른 블록이다.\n",
    "    - 따라서 위의 코드에서는 총2개의 블록이 존재한다.\n",
    "- definition은 이런게 있다~라고 컴퓨터에게 알려주는 역할이다.\n",
    "- execution을 위해 main()을 입력해줘야 한다. 입력해주면 함수가 실행되면서 프로그램이 돌아간다."
   ]
  },
  {
   "attachments": {},
   "cell_type": "markdown",
   "metadata": {},
   "source": [
    "# Object-oriented program"
   ]
  },
  {
   "attachments": {},
   "cell_type": "markdown",
   "metadata": {},
   "source": [
    "- 객체지향프로그램이라 하며 함수외에도 클래스,인스턴스(객체)기반으로 많은 부분이 구현된다.\n",
    "    - 메인함수가 존재한다.\n",
    "- 크게 두 가지 부분으로 나누어 진다.\n",
    "    - Definition part(정의,선언)\n",
    "    - Execution part(실행)"
   ]
  },
  {
   "cell_type": "code",
   "execution_count": 7,
   "metadata": {},
   "outputs": [
    {
     "name": "stdout",
     "output_type": "stream",
     "text": [
      "Hello World! Just one more time\n",
      "The average of the score is : 6.0\n",
      "Good bye!\n"
     ]
    }
   ],
   "source": [
    "class Helloworld:\n",
    "    def __init__(self):\n",
    "        print(\"Hello World! Just one more time\")\n",
    "    def __del__(self):\n",
    "        print(\"Good bye!\")\n",
    "    def performAverage(self,val1,val2):\n",
    "        average = (val1 + val2) / 2.0\n",
    "        print(\"The average of the score is :\",average)\n",
    "def main():\n",
    "    world = Helloworld()\n",
    "    score1 = int(input(\"Input first score\"))\n",
    "    score2 = int(input(\"Input second score\"))\n",
    "    world.performAverage(score1,score2)\n",
    "main()"
   ]
  },
  {
   "attachments": {},
   "cell_type": "markdown",
   "metadata": {},
   "source": [
    "- 객체지향에서는 기본적으로 클래스를 사용한다.\n",
    "- `class`라는 keyword는 클래스를 정의하기 위해서 사용한다.\n",
    "- 함수와 마찬가지로 클래스내부의 블록은 `:`로 시작하며 들여쓰기를 통해서 클래스의 멤버변수(attribute),멤버함수(method)를 정의한다.(함수에서는 실행할 구문을 block에 적었다.)\n",
    "- Hellworld()를 호출하여 instane를 생성하고 world에 저장한다.\n",
    "    - Helloworld()는 클래스를 호출하여 instance를 생성하는 것이다.이는 빵틀을 사용하여 실제로 빵을 만들어내는 것이라 할 수 있다.(실체가 있는 뭔가를 만든다.)\n",
    "    - instance는 메모리상의 어떤 위치에 저장된다. world는 instance를 저장하고,가리키고 있는 variable이다.(포인터 느낌이다.)\n",
    "- 마찬가지로 main()을 통해서 실행하는 Execution part가 존재한다.\n",
    "- 이외 클래스에 대한 ```self,__init__,__del__```에 대한 설명은 차후 강의에서 들어보자~"
   ]
  },
  {
   "attachments": {},
   "cell_type": "markdown",
   "metadata": {},
   "source": [
    "# 정리"
   ]
  },
  {
   "attachments": {},
   "cell_type": "markdown",
   "metadata": {},
   "source": [
    "- Procedure-oriented program은 `function`위주로 구현되며 Object-oriented program은 이와 더불어 `class,instance`와 함께 사용한다.\n",
    "- `class`는 `instance`를 실체화 할 수 있는 템플릿이다. 즉, 객체를 생성한다.\n",
    "    - 표현이 헷갈리는데 class는 instance와 짝으로 객체는 단독으로 올 때가 많다.\n",
    "    - ex) class의 instance를 생성한다. 객체를 생성한다.\n",
    "    - 근데 그냥 막 혼용해서 쓴다.\n",
    "    - ex) 인스턴스가 생성되었다.\n",
    "- **Object oriented program은 객체를 먼저 생성하고 이를 기반으로 구현한다.**"
   ]
  }
 ],
 "metadata": {
  "kernelspec": {
   "display_name": "base",
   "language": "python",
   "name": "python3"
  },
  "language_info": {
   "codemirror_mode": {
    "name": "ipython",
    "version": 3
   },
   "file_extension": ".py",
   "mimetype": "text/x-python",
   "name": "python",
   "nbconvert_exporter": "python",
   "pygments_lexer": "ipython3",
   "version": "3.9.13"
  },
  "orig_nbformat": 4
 },
 "nbformat": 4,
 "nbformat_minor": 2
}
