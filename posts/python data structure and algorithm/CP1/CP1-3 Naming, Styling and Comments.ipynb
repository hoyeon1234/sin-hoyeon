{
 "cells": [
  {
   "cell_type": "raw",
   "metadata": {},
   "source": [
    "---\n",
    "title: \"[Algorithm & Datastructure]<br>1-2. Naming, Styling and Comments\"\n",
    "fomat: html\n",
    "image: ../thumbnail.png\n",
    "author: hoyeon\n",
    "date: 2023-04-24\n",
    "categories: DS&Algorithm\n",
    "---"
   ]
  },
  {
   "attachments": {},
   "cell_type": "markdown",
   "metadata": {},
   "source": [
    "# Naming and Styling"
   ]
  },
  {
   "attachments": {},
   "cell_type": "markdown",
   "metadata": {},
   "source": [
    "- Naming: 의미를 확실하게 전달해야 함\n",
    "    - camel casing을 사용함.\n",
    "        - class name : 클래스로 표현되는 개념에 대한 명사로\n",
    "            - 각 단어의 첫 글자는 대문자로\n",
    "            - e.g class MyFirstClass\n",
    "        - variable name : 저장되는 개념에 대한 명사로\n",
    "            - 소문자로 시작\n",
    "            - e.g numberOfStudents = 100\n",
    "            - intCount와 같은 이름은 사용하지 않음(파이썬은 동적 변수 자료형을 지원하기 때문)\n",
    "        - method name : 메소드가 하는 행동에 대한 동사로\n",
    "            - 소문자로 시작\n",
    "            - e.g def performAverage(self,val1,val2)\n",
    "- Indentation(들여쓰기)\n",
    "    - 4칸의 공백을 각 level에 사용"
   ]
  },
  {
   "attachments": {},
   "cell_type": "markdown",
   "metadata": {},
   "source": [
    "# Comments"
   ]
  },
  {
   "attachments": {},
   "cell_type": "markdown",
   "metadata": {},
   "source": [
    "- 코드에 대한 설명을 달기\n",
    "- 여러줄은 ``` or \"\"\"을 사용"
   ]
  },
  {
   "attachments": {},
   "cell_type": "markdown",
   "metadata": {},
   "source": [
    "```Python\n",
    "'''\n",
    "created on 2023-04-24\n",
    "\n",
    "author : hoyeon\n",
    "'''\n",
    "\n",
    "\"\"\"\n",
    "created on 2023-04-24\n",
    "\n",
    "author : hoyeon\n",
    "\"\"\"\n",
    "\n",
    "```"
   ]
  },
  {
   "attachments": {},
   "cell_type": "markdown",
   "metadata": {},
   "source": [
    "한 줄은 #을 사용"
   ]
  },
  {
   "attachments": {},
   "cell_type": "markdown",
   "metadata": {},
   "source": [
    "```Python\n",
    "# print문 출력하기\n",
    "print(\"hello\")\n",
    "```"
   ]
  }
 ],
 "metadata": {
  "kernelspec": {
   "display_name": "base",
   "language": "python",
   "name": "python3"
  },
  "language_info": {
   "codemirror_mode": {
    "name": "ipython",
    "version": 3
   },
   "file_extension": ".py",
   "mimetype": "text/x-python",
   "name": "python",
   "nbconvert_exporter": "python",
   "pygments_lexer": "ipython3",
   "version": "3.9.13"
  },
  "orig_nbformat": 4
 },
 "nbformat": 4,
 "nbformat_minor": 2
}
