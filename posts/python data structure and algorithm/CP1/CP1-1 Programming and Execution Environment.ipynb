{
 "cells": [
  {
   "cell_type": "raw",
   "metadata": {},
   "source": [
    "---\n",
    "title: \"[Algorithm & Datastructure]<br>1-1.Programming and Execution Environment \"\n",
    "format: html\n",
    "image: ../thumbnail.png\n",
    "author: hoyeon\n",
    "date: 2023-04-22\n",
    "categories: DS&Algorithm\n",
    "---"
   ]
  },
  {
   "attachments": {},
   "cell_type": "markdown",
   "metadata": {},
   "source": [
    "# Programming and DS&A"
   ]
  },
  {
   "attachments": {},
   "cell_type": "markdown",
   "metadata": {},
   "source": [
    "- 프로그레밍,Data structure(DS), Algorithm(A)은 서로다른 계층에 위치하지만 상당한 연관성을 가진다.\n",
    "- 건축가는 건물을 짓기 위해 구조,동작을 감안한 설계도를 만들고 도구,장비를 사용하여 구현,현실화 한다.\n",
    "- 개발자의 입장에서 구현은 프로그래밍이며 설계는 UML이라는 표준적인 형식을 사용하지만 그 안에서 자료구조와 알고리즘이 특히 중요하다.\n",
    "- 설계,구현 둘 다 중요하다."
   ]
  },
  {
   "attachments": {},
   "cell_type": "markdown",
   "metadata": {},
   "source": [
    "# Python"
   ]
  },
  {
   "attachments": {},
   "cell_type": "markdown",
   "metadata": {},
   "source": [
    "- 인터프리터 언어\n",
    "- 객체지향\n",
    "- Dynamic type of variables\n",
    "    - 파이썬은 Dynamic Type Language로 런타임에서 변수의 type이 결정된다. 쉽게 말하면 변수의 type을 미리 정해주지 않고 실행될때마다 그때그때 타입이 dynamic하게 변한다.\n",
    "    - 자바는 Static Type Language로 컴파일타임에서 변수의 type이 결정된다. 쉽게 변수의 타입을 미리 지정해줘야 한다.\n",
    "    - 인터프리터 언어의 특징 1\n",
    "- 빠른 개발 속도,느린 실행 속도(인터프리터언어의 특징 2)\n",
    "- 독특한 코드 구조를 지닌다.(좋은 방향으로)\n",
    "- 데이터 분석에 특화되어 있다."
   ]
  }
 ],
 "metadata": {
  "kernelspec": {
   "display_name": "base",
   "language": "python",
   "name": "python3"
  },
  "language_info": {
   "codemirror_mode": {
    "name": "ipython",
    "version": 3
   },
   "file_extension": ".py",
   "mimetype": "text/x-python",
   "name": "python",
   "nbconvert_exporter": "python",
   "pygments_lexer": "ipython3",
   "version": "3.9.13"
  },
  "orig_nbformat": 4
 },
 "nbformat": 4,
 "nbformat_minor": 2
}
