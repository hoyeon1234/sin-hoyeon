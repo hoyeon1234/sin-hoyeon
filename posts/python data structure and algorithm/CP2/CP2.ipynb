{
 "cells": [
  {
   "cell_type": "raw",
   "metadata": {},
   "source": [
    "---\n",
    "title: \"Untitled\"\n",
    "format: html\n",
    "---"
   ]
  },
  {
   "attachments": {},
   "cell_type": "markdown",
   "metadata": {},
   "source": [
    "# Abstract Data Types"
   ]
  },
  {
   "attachments": {},
   "cell_type": "markdown",
   "metadata": {},
   "source": [
    "- 일반적으로 `abstraction(추상화)`라는 용어는 대상의 느낌,형태와 같은 `내재되어` 있는 모습에 대한 `간단한` 표현.\n",
    "- Abstract Data type(ADT)이란?\n",
    "    - Data structure가 어떻게 돌아가는지에 대해 간단히,추상적으로 표현한 것.\n",
    "    - ADT는 다음과 같은 것들을 기술함\n",
    "        1. 어떤 데이터가 저장되는가?(어떤 데이터가 있어?)\n",
    "        2. 저장된 데이터는 어떤 연산이 가능한 것인가?(데이터로 뭘 계산할 수 있어?)\n",
    "        3. 연산에서 나올 수 있는 에러조건은 어떻게 되는가?(계산에서 어떤 오류가 나올 수 있어?)\n",
    "    - Stock trading system\n",
    "        - buy,sell에 대한 order가 저장된다.\n",
    "        - 지원되는 연산들\n",
    "            - order buy(stock,shares,price)\n",
    "            - order sell(storck,shares,price)\n",
    "            - void cancel(order)\n",
    "        - Error conditions:\n",
    "            - 존재하지 않는 stock에 대한 buy,sell\n",
    "            - 존재하지 않는 order를 취소"
   ]
  },
  {
   "attachments": {},
   "cell_type": "markdown",
   "metadata": {},
   "source": [
    "# Array"
   ]
  },
  {
   "attachments": {},
   "cell_type": "markdown",
   "metadata": {},
   "source": [
    "![](./arr1.png)"
   ]
  },
  {
   "attachments": {},
   "cell_type": "markdown",
   "metadata": {},
   "source": [
    "일반적으로 프로그래밍 언에서 `Array`란?"
   ]
  },
  {
   "attachments": {},
   "cell_type": "markdown",
   "metadata": {},
   "source": [
    "- 각 element가 index를 통해 접근할 수 있음.\n",
    "- 각 element는 동일한 데이터를 가지고 있음.\n",
    "- 인덱스는 0이거나 양수\n",
    "- 파이썬에서는 리스트로 구현"
   ]
  },
  {
   "cell_type": "code",
   "execution_count": 1,
   "metadata": {},
   "outputs": [],
   "source": [
    "#위의 array를 리스트로 구현\n",
    "x = ['a','b','d','e','f']"
   ]
  },
  {
   "attachments": {},
   "cell_type": "markdown",
   "metadata": {},
   "source": [
    "## Search"
   ]
  },
  {
   "attachments": {},
   "cell_type": "markdown",
   "metadata": {},
   "source": [
    "Array x에서 d와 c를 찾는다고 해보자. "
   ]
  },
  {
   "attachments": {},
   "cell_type": "markdown",
   "metadata": {},
   "source": [
    "![](./arr2.png)"
   ]
  },
  {
   "attachments": {},
   "cell_type": "markdown",
   "metadata": {},
   "source": [
    "대략적인 과정은 다음과 같을 것이다."
   ]
  },
  {
   "attachments": {},
   "cell_type": "markdown",
   "metadata": {},
   "source": [
    "1. 처음부터 끝에 있는 모든 요소를 하나하나씩 접근한다.\n",
    "2. `d` or `c`를 만나면 종료한다.\n",
    "    - `d` or `c`가 포함되어있지 않다면? $\\to$ N(리스트의 길이)번의 retrievals가 필요\n",
    "    - `d` or `c`가 포함되어 있다면? $\\to$ 최대 N번의 retrievals가 필요\n"
   ]
  },
  {
   "attachments": {},
   "cell_type": "markdown",
   "metadata": {},
   "source": [
    "- retrieval은 연산(operation)으로 일단 이해하자.(자세하게 뭔지는 모르겠다.)\n",
    "- 대략 몇 번정도의 연산이 일어나는지를 의미한다."
   ]
  },
  {
   "cell_type": "code",
   "execution_count": 10,
   "metadata": {},
   "outputs": [],
   "source": [
    "# c\n",
    "x = ['a','b','d','e','f']\n",
    "\n",
    "for itr in range(0,len(x)):\n",
    "    if \"c\" == x[itr]:\n",
    "        print(True)\n",
    "        break\n",
    "    else:\n",
    "        pass"
   ]
  },
  {
   "cell_type": "code",
   "execution_count": 11,
   "metadata": {},
   "outputs": [
    {
     "name": "stdout",
     "output_type": "stream",
     "text": [
      "True\n"
     ]
    }
   ],
   "source": [
    "# d\n",
    "x = ['a','b','d','e','f']\n",
    "\n",
    "for itr in range(0,len(x)):\n",
    "    if \"d\" == x[itr]:\n",
    "        print(True)\n",
    "        break\n",
    "    else:\n",
    "        pass"
   ]
  },
  {
   "attachments": {},
   "cell_type": "markdown",
   "metadata": {},
   "source": [
    "## Insert"
   ]
  },
  {
   "attachments": {},
   "cell_type": "markdown",
   "metadata": {},
   "source": [
    "Array x의 원소인 b와 d사이에 c를 넣으려면 어떻게 해야할까?"
   ]
  },
  {
   "attachments": {},
   "cell_type": "markdown",
   "metadata": {},
   "source": [
    "![](./arr3.png)"
   ]
  },
  {
   "attachments": {},
   "cell_type": "markdown",
   "metadata": {},
   "source": [
    "대략적인 과정은?"
   ]
  },
  {
   "attachments": {},
   "cell_type": "markdown",
   "metadata": {},
   "source": [
    "1. 새로운 리스트 y를 만든다.\n",
    "    - 기존리스트보다 길이가 1만큼 더 길다\n",
    "2. x[0:a-1]까지 y[0:a-1]에 있는 reference를 복사한다. (retrieval cnt : a)\n",
    "    - a는 b와 d사이의 index를 의미한다.\n",
    "    - 0:a-1까지 y가 x의 reference를 복사했으므로 같은 object를 가리키고 있다.\n",
    "    - 리스트는 객체에 대한 reference를 가리키고 있는 구조임을 유의하자.\n",
    "3. c의 레퍼런스를 y[a]에 넣는다. (retrieval cnt : 1)\n",
    "4. 나머지 원소 d,e,f에 대한 래퍼런스를 복사한다. 즉 x[a:]를 y[a+1:]에 복사한다.\n",
    "5. 마지막에 x의 reference를 y의 reference로 바꾼다.(우리는 x에 넣는 것을 원했다.)"
   ]
  },
  {
   "attachments": {},
   "cell_type": "markdown",
   "metadata": {},
   "source": [
    "- 총 n번의 retrievals가 필요하다."
   ]
  },
  {
   "attachments": {},
   "cell_type": "markdown",
   "metadata": {},
   "source": []
  }
 ],
 "metadata": {
  "kernelspec": {
   "display_name": "base",
   "language": "python",
   "name": "python3"
  },
  "language_info": {
   "codemirror_mode": {
    "name": "ipython",
    "version": 3
   },
   "file_extension": ".py",
   "mimetype": "text/x-python",
   "name": "python",
   "nbconvert_exporter": "python",
   "pygments_lexer": "ipython3",
   "version": "3.9.13"
  },
  "orig_nbformat": 4
 },
 "nbformat": 4,
 "nbformat_minor": 2
}
