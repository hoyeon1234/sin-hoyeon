{
 "cells": [
  {
   "cell_type": "raw",
   "metadata": {},
   "source": [
    "---\n",
    "title: \"[프로그래머스]Lv.1시저암호\"\n",
    "format: html\n",
    "image: ./thumbnails/programmers.jpg\n",
    "date: 2023-01-09\n",
    "author: 신호연\n",
    "categories: Coading Test\n",
    "---"
   ]
  },
  {
   "attachments": {},
   "cell_type": "markdown",
   "metadata": {},
   "source": [
    "# <span style = \"color:#00994C\">**문제**"
   ]
  },
  {
   "attachments": {},
   "cell_type": "markdown",
   "metadata": {},
   "source": [
    "![](./images/%5B%ED%94%84%EB%A1%9C%EA%B7%B8%EB%9E%98%EB%A8%B8%EC%8A%A4%5DLv.1%EC%8B%9C%EC%A0%80%EC%95%94%ED%98%B8.PNG)"
   ]
  },
  {
   "attachments": {},
   "cell_type": "markdown",
   "metadata": {},
   "source": [
    "# <span style = \"color:#00994C\">**나의 풀이**"
   ]
  },
  {
   "cell_type": "code",
   "execution_count": 7,
   "metadata": {},
   "outputs": [],
   "source": [
    "def solution(s, n):\n",
    "    upper_ch = \"ABCDEFGHIJKLMNOPQRSTUVWXYZ\"\n",
    "    answer = \"\"\n",
    "    for el_s in s:\n",
    "        #1.맨 마지막 리턴을 위해 원래 문자가 소문자인지 대문자인지 기억 and 대문자에서 검색할것이기 때문에 대문자로 변환\n",
    "        #대문자로 변환된 문자열 s의 각각의 문자,대소문자 여부\n",
    "        if el_s == \" \":\n",
    "            answer += \" \"\n",
    "        elif el_s.isupper() == True:\n",
    "            was_upper = True\n",
    "        else:\n",
    "            was_upper = False\n",
    "            el_s = el_s.upper()\n",
    "        #2.인덱스 숫자가 upper_ch에서 벗어날때 아닐때 처리\n",
    "        for idx,up_ch in enumerate(upper_ch):\n",
    "            if el_s == up_ch and idx + n <= len(upper_ch)-1:\n",
    "                find_idx = idx+n\n",
    "                if was_upper == True:\n",
    "                    answer += upper_ch[find_idx]\n",
    "                else:\n",
    "                    answer += upper_ch[find_idx].lower()        \n",
    "            elif el_s == up_ch and idx + n > len(upper_ch)-1:\n",
    "                find_idx = n-len(upper_ch[idx:])\n",
    "                if was_upper == True:\n",
    "                    answer += upper_ch[find_idx]\n",
    "                else:\n",
    "                    answer += upper_ch[find_idx].lower()  \n",
    "    return answer"
   ]
  },
  {
   "attachments": {},
   "cell_type": "markdown",
   "metadata": {},
   "source": [
    "# <span style = \"color:#00994C\">**다른 풀이**"
   ]
  },
  {
   "cell_type": "code",
   "execution_count": 10,
   "metadata": {},
   "outputs": [],
   "source": [
    "def caesar(s, n):\n",
    "    lower_list = \"abcdefghijklmnopqrstuvwxyz\"  \n",
    "    #소문자도 리스트로 만듦 \n",
    "    #좋은점->대소문자 여부를 기억하는 코드 불필요(조건문)\n",
    "    #안좋은점->소문자로 이뤄진 리스트를 만드는데 그만큼의 메모리 필요\n",
    "    upper_list = \"ABCDEFGHIJKLMNOPQRSTUVWXYZ\" \n",
    "    \n",
    "    \n",
    "    \n",
    "    result = [] \n",
    "    #문자열들을 저장할 list를 만듦\n",
    "    #mutable로 붙이는 것과 immutable로 붙이는 것 차이\n",
    "    #속도 -> \n",
    "    #mutable이 더 빠름,\n",
    "    #그러나 garbage collector도 고려시 스캔범위가 너무커서 느려질수도?\n",
    "    #메모리 -> immutable이 더 적게들을 듯(리스트는 이중포인터같은 구조라서 이렇게 예상됨)\n",
    "    for i in s:\n",
    "        if i == \" \":\n",
    "            result.append(\" \")\n",
    "        elif i.islower() is True:\n",
    "            new_ = lower_list.find(i) + n\n",
    "            result.append(lower_list[new_ % 26]) \n",
    "            #나머지로 계산하는 방식,이게 더 간단하고 좋은듯\n",
    "            #반복문이 문자열에 대해서 돌다보니 문자열과 문자열의 인덱스 위주로 너무 생각함\n",
    "            #어떤 숫자(여기서는 인덱스)보다 크거나 같을때에 다시 0부터 줘야하는 상황? -> 나머지 활용\n",
    "        else:\n",
    "            new_ = upper_list.find(i) + n\n",
    "            result.append(upper_list[new_ % 26])\n",
    "    return \"\".join(result)\n"
   ]
  },
  {
   "attachments": {},
   "cell_type": "markdown",
   "metadata": {},
   "source": [
    "나중에 볼 링크<br>\n",
    "[링크1](https://bety.tistory.com/87)<br>\n",
    "[링크2](https://choiblack.tistory.com/47)<br>\n",
    "[링크3](https://seoyeonhwng.medium.com/%ED%8C%8C%EC%9D%B4%EC%8D%AC-%EB%A6%AC%EC%8A%A4%ED%8A%B8-%EB%82%B4%EB%B6%80-%EA%B5%AC%EC%A1%B0-f04847b58286)"
   ]
  },
  {
   "cell_type": "markdown",
   "metadata": {},
   "source": []
  }
 ],
 "metadata": {
  "kernelspec": {
   "display_name": "base",
   "language": "python",
   "name": "python3"
  },
  "language_info": {
   "codemirror_mode": {
    "name": "ipython",
    "version": 3
   },
   "file_extension": ".py",
   "mimetype": "text/x-python",
   "name": "python",
   "nbconvert_exporter": "python",
   "pygments_lexer": "ipython3",
   "version": "3.9.13 (main, Aug 25 2022, 23:51:50) [MSC v.1916 64 bit (AMD64)]"
  },
  "orig_nbformat": 4,
  "vscode": {
   "interpreter": {
    "hash": "0478b8cb1c47bafb71305148a49d30528a4d9c22ca2de336c01aa5a8230a459a"
   }
  }
 },
 "nbformat": 4,
 "nbformat_minor": 2
}
