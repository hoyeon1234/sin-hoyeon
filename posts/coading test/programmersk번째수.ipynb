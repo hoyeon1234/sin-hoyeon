{
 "cells": [
  {
   "cell_type": "raw",
   "metadata": {},
   "source": [
    "---\n",
    "title: \"[Coading Test] k번째수\"\n",
    "subtitle: \"level : 1<br>\"\n",
    "format: html\n",
    "image: ./thumbnails/programmers.jpg\n",
    "date: 2023-03-31\n",
    "author: hoyeon\n",
    "categories: Coading Test\n",
    "---"
   ]
  },
  {
   "attachments": {},
   "cell_type": "markdown",
   "metadata": {},
   "source": [
    "# <span style = \"color:black\"> **문제**"
   ]
  },
  {
   "attachments": {},
   "cell_type": "markdown",
   "metadata": {},
   "source": [
    "![](./images/%5B%ED%94%84%EB%A1%9C%EA%B7%B8%EB%9E%98%EB%A8%B8%EC%8A%A4%5DLv1.K%EB%B2%88%EC%A7%B8%EC%88%98.png)"
   ]
  },
  {
   "cell_type": "markdown",
   "metadata": {},
   "source": [
    "# <span style = \"color:black\">**나의 풀이**"
   ]
  },
  {
   "cell_type": "code",
   "execution_count": null,
   "metadata": {},
   "outputs": [],
   "source": [
    "def drop(array,value):\n",
    "    for idx in range(len(array)):\n",
    "        if array[idx] == value:\n",
    "            i = idx\n",
    "            break\n",
    "    dropped_array = array[:i] + array[i+1:]\n",
    "    return dropped_array\n",
    "    \n",
    "def sort(sub_list):\n",
    "    sorted_l = []\n",
    "    while len(sub_list)>0:\n",
    "        drop_element = min(sub_list)\n",
    "        sorted_l.append(drop_element)\n",
    "        sub_list = drop(sub_list,drop_element)\n",
    "    return sorted_l\n",
    "\n",
    "def solution(array, commands):\n",
    "    answer = []\n",
    "    for el in range(len(commands)):\n",
    "        command = commands[el]\n",
    "        i = command[0];j=command[1];k=command[2]\n",
    "        sub_list = array[i-1:j]\n",
    "        sorted_list = sort(sub_list)\n",
    "        answer.append(sorted_list[k-1])\n",
    "    return answer"
   ]
  },
  {
   "attachments": {},
   "cell_type": "markdown",
   "metadata": {},
   "source": [
    "# <span style = \"color:black\">**고찰**"
   ]
  },
  {
   "attachments": {},
   "cell_type": "markdown",
   "metadata": {},
   "source": [
    "- 오랜만에 해서 그런지 sorted함수를 구현하는 것을 까먹어 오래걸렸다.\n",
    "- 구현된 내장함수 중 자주 나오는 것은 외워야 한다."
   ]
  }
 ],
 "metadata": {
  "kernelspec": {
   "display_name": "base",
   "language": "python",
   "name": "python3"
  },
  "language_info": {
   "codemirror_mode": {
    "name": "ipython",
    "version": 3
   },
   "file_extension": ".py",
   "mimetype": "text/x-python",
   "name": "python",
   "nbconvert_exporter": "python",
   "pygments_lexer": "ipython3",
   "version": "3.9.13"
  },
  "orig_nbformat": 4
 },
 "nbformat": 4,
 "nbformat_minor": 2
}
