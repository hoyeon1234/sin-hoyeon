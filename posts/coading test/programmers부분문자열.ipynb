{
 "cells": [
  {
   "cell_type": "raw",
   "metadata": {},
   "source": [
    "---\n",
    "title: \"[Coading Test] 문자열 나누기\"\n",
    "subtitle: \"level : 1<br>\"\n",
    "format: html\n",
    "image: ./thumbnails/programmers.jpg\n",
    "date: 2023-04-01\n",
    "author: 신호연\n",
    "categories: Coading Test\n",
    "---"
   ]
  },
  {
   "cell_type": "markdown",
   "metadata": {},
   "source": [
    "# <span style = \"color:black\">**문제**"
   ]
  },
  {
   "attachments": {},
   "cell_type": "markdown",
   "metadata": {},
   "source": [
    "![](./images/%5B%ED%94%84%EB%A1%9C%EA%B7%B8%EB%9E%98%EB%A8%B8%EC%8A%A4%5DLv1.%EB%B6%80%EB%B6%84%EB%AC%B8%EC%9E%90%EC%97%B4.png)"
   ]
  },
  {
   "attachments": {},
   "cell_type": "markdown",
   "metadata": {},
   "source": [
    "# <span style = \"color:black\">**나의 풀이**"
   ]
  },
  {
   "cell_type": "code",
   "execution_count": 1,
   "metadata": {},
   "outputs": [],
   "source": [
    "def solution(s):\n",
    "    cnt = [0,0]\n",
    "    sep_num = 0\n",
    "    for idx in range(len(s)):\n",
    "        if cnt == [0,0]:\n",
    "            x = s[idx]\n",
    "            print(\"첫번째 문자:\",x)\n",
    "        if s[idx] == x:\n",
    "            cnt[0] += 1\n",
    "        else:\n",
    "            cnt[1] += 1\n",
    "        if cnt[0] == cnt[1]:\n",
    "            sep_num += 1\n",
    "            cnt = [0,0]\n",
    "        if idx == len(s) -1 and cnt[0] != cnt[1]:\n",
    "            sep_num +=1\n",
    "    return sep_num"
   ]
  },
  {
   "attachments": {},
   "cell_type": "markdown",
   "metadata": {},
   "source": [
    "# <span style = \"color:black\">**고찰**"
   ]
  },
  {
   "attachments": {},
   "cell_type": "markdown",
   "metadata": {},
   "source": [
    "- 문제에서 **\"문자열을 분리합니다\"**라고 나와 있어서 처음에 문자열 분리하는 코드도 적다가 시간초과오류가 났음 .. ㅜㅜ\n",
    "- **문제설명은 이해를 돕기위한 설명**일 뿐, 모든 과정을 **일일히,그대로 따라할 필요는 없으며 무슨방법이던지 써서 입출력예시를 잘 맞히는데 초점**을 두자."
   ]
  }
 ],
 "metadata": {
  "kernelspec": {
   "display_name": "base",
   "language": "python",
   "name": "python3"
  },
  "language_info": {
   "codemirror_mode": {
    "name": "ipython",
    "version": 3
   },
   "file_extension": ".py",
   "mimetype": "text/x-python",
   "name": "python",
   "nbconvert_exporter": "python",
   "pygments_lexer": "ipython3",
   "version": "3.9.13"
  },
  "orig_nbformat": 4,
  "vscode": {
   "interpreter": {
    "hash": "0478b8cb1c47bafb71305148a49d30528a4d9c22ca2de336c01aa5a8230a459a"
   }
  }
 },
 "nbformat": 4,
 "nbformat_minor": 2
}
