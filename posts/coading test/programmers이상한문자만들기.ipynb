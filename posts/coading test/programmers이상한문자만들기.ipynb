{
 "cells": [
  {
   "cell_type": "raw",
   "metadata": {},
   "source": [
    "---\n",
    "title: \"[Coading Test] 이상한 문자 만들기\"\n",
    "subtitle: \"level : 1\"\n",
    "format: html\n",
    "image: ./thumbnails/programmers.jpg\n",
    "date: 2023-01-09\n",
    "author: 신호연\n",
    "categories: Coading Test\n",
    "---"
   ]
  },
  {
   "attachments": {},
   "cell_type": "markdown",
   "metadata": {},
   "source": [
    "# <span style = \"color:black\">**문제**"
   ]
  },
  {
   "attachments": {},
   "cell_type": "markdown",
   "metadata": {},
   "source": [
    "![](./images/%5B%ED%94%84%EB%A1%9C%EA%B7%B8%EB%9E%98%EB%A8%B8%EC%8A%A4%5DLv1.%EC%9D%B4%EC%83%81%ED%95%9C%20%EB%AC%B8%EC%9E%90%20%EB%A7%8C%EB%93%A4%EA%B8%B0.PNG)"
   ]
  },
  {
   "attachments": {},
   "cell_type": "markdown",
   "metadata": {},
   "source": [
    "# <span style = \"color:black\">**나의 풀이**"
   ]
  },
  {
   "cell_type": "code",
   "execution_count": 4,
   "metadata": {},
   "outputs": [],
   "source": [
    "def solution(s):\n",
    "    words = s.split(\" \") #스플릿 함수 헷갈리는 부분이 있었음 - 정리\n",
    "    answer = \"\"\n",
    "    for wd in words:\n",
    "        for idx,chr in enumerate(wd):\n",
    "            print(idx,chr)\n",
    "            if idx % 2 == 0:\n",
    "                chr = chr.upper()\n",
    "            else:\n",
    "                chr = chr.lower()\n",
    "            answer += chr\n",
    "        answer+= \" \"\n",
    "    return answer[:-1]"
   ]
  },
  {
   "attachments": {},
   "cell_type": "markdown",
   "metadata": {},
   "source": [
    "# <span style = \"color:black\">**split 메서드(함수)**"
   ]
  },
  {
   "cell_type": "code",
   "execution_count": 6,
   "metadata": {},
   "outputs": [
    {
     "name": "stdout",
     "output_type": "stream",
     "text": [
      "Help on built-in function split:\n",
      "\n",
      "split(sep=None, maxsplit=-1) method of builtins.str instance\n",
      "    Return a list of the words in the string, using sep as the delimiter string.\n",
      "    \n",
      "    sep\n",
      "      The delimiter according which to split the string.\n",
      "      None (the default value) means split according to any whitespace,\n",
      "      and discard empty strings from the result.\n",
      "    maxsplit\n",
      "      Maximum number of splits to do.\n",
      "      -1 (the default value) means no limit.\n",
      "\n"
     ]
    }
   ],
   "source": [
    "t=\"sdsa  sd\"\n",
    "help(t.split)"
   ]
  },
  {
   "attachments": {},
   "cell_type": "markdown",
   "metadata": {},
   "source": [
    "string객체의 인스턴스 즉,문자열에 대해서만 사용할 수 있는 메서드<br>\n",
    "sep파라미터에 전달한 인수를 구분자로 사용하여 문자열안에 있는 단어들을 가져옴. 가져온 단어들은 리스트의 원소가 되어 반환됨<br>\n",
    "Parameter<br>\n",
    "- sep\n",
    "- ...\n",
    "\n",
    "Return\n",
    "- list[word1,word2,...] (구분자를 통하여 구분된 단어들,기본값은 공백(space))"
   ]
  },
  {
   "attachments": {},
   "cell_type": "markdown",
   "metadata": {},
   "source": [
    "# <span style = \"color:black\">**예시**"
   ]
  },
  {
   "cell_type": "code",
   "execution_count": 3,
   "metadata": {},
   "outputs": [
    {
     "name": "stdout",
     "output_type": "stream",
     "text": [
      "['abcde']\n"
     ]
    }
   ],
   "source": [
    "#문자열 내에 구분기준이 없는 경우?\n",
    "#sep = \" \"으로 기본값으로 설정되어 있음. 공백이 없으므로 그냥 문자열을 리스트에 넣어서 반환\n",
    "_t = \"abcde\"\n",
    "answer = _t.split()\n",
    "print(answer)"
   ]
  },
  {
   "cell_type": "code",
   "execution_count": 4,
   "metadata": {},
   "outputs": [
    {
     "name": "stdout",
     "output_type": "stream",
     "text": [
      "['ab', 'cd', 'esda', 'dg']\n"
     ]
    }
   ],
   "source": [
    "#문자열 내에 구분기준이 있는 경우?\n",
    "_t = \"ab cd esda dg\"\n",
    "answer = _t.split()\n",
    "print(answer)"
   ]
  },
  {
   "cell_type": "code",
   "execution_count": 9,
   "metadata": {},
   "outputs": [
    {
     "name": "stdout",
     "output_type": "stream",
     "text": [
      "['ab', 'cd', 'esda', 'dg']\n"
     ]
    }
   ],
   "source": [
    "_t = \"abtcdtesdatdg\"\n",
    "answer = _t.split(\"t\")\n",
    "print(answer)"
   ]
  },
  {
   "cell_type": "code",
   "execution_count": 13,
   "metadata": {},
   "outputs": [
    {
     "name": "stdout",
     "output_type": "stream",
     "text": [
      "['ab', 'cd', 'esd', 'atdg']\n"
     ]
    }
   ],
   "source": [
    "_t = \"ab;;cd;;esd;;atdg\"\n",
    "answer = _t.split(\";;\")\n",
    "print(answer)"
   ]
  }
 ],
 "metadata": {
  "kernelspec": {
   "display_name": "base",
   "language": "python",
   "name": "python3"
  },
  "language_info": {
   "codemirror_mode": {
    "name": "ipython",
    "version": 3
   },
   "file_extension": ".py",
   "mimetype": "text/x-python",
   "name": "python",
   "nbconvert_exporter": "python",
   "pygments_lexer": "ipython3",
   "version": "3.9.13"
  },
  "orig_nbformat": 4,
  "vscode": {
   "interpreter": {
    "hash": "0478b8cb1c47bafb71305148a49d30528a4d9c22ca2de336c01aa5a8230a459a"
   }
  }
 },
 "nbformat": 4,
 "nbformat_minor": 2
}
