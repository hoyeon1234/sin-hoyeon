{
 "cells": [
  {
   "cell_type": "raw",
   "metadata": {},
   "source": [
    "---\n",
    "title: \"Untitled\"\n",
    "format: html\n",
    "---"
   ]
  },
  {
   "cell_type": "markdown",
   "metadata": {},
   "source": []
  },
  {
   "cell_type": "markdown",
   "metadata": {},
   "source": [
    "\\begin{split} \n",
    "\\begin{aligned}\n",
    "&\\text{Let } A \\in R^{200 \\times 20},\\text{rank}(A) = 20\\\\\n",
    "&A = U\\Sigma V^T\\\\\n",
    "&\\Longleftrightarrow\n",
    "A = \n",
    "\n",
    "\\begin{bmatrix}\n",
    "\\boxed{\\begin{matrix} \\\\ \\\\ \\\\ \\\\ \\\\ \\, u_1 \\, \\\\ \\\\ \\\\ \\\\ \\\\ \\\\ \\end{matrix}} \\!\\!\\!\\!& \n",
    "\\boxed{\\begin{matrix} \\\\ \\\\ \\\\ \\\\ \\\\ \\, u_2 \\, \\\\ \\\\ \\\\ \\\\ \\\\ \\\\ \\end{matrix}} \\!\\!\\!\\!& \n",
    "\\boxed{\\begin{matrix} \\\\ \\\\ \\\\ \\\\ \\\\ \\, u_3 \\, \\\\ \\\\ \\\\ \\\\ \\\\ \\\\ \\end{matrix}} \\!\\!\\!\\!& \n",
    "\\cdots \\!\\!\\!\\!& \n",
    "\\boxed{\\begin{matrix} \\\\ \\\\ \\\\ \\\\ \\\\  u_M  \\\\ \\\\ \\\\ \\\\ \\\\ \\\\ \\end{matrix}} \\!\\!\\!\\!&\n",
    "\\cdots \\!\\!\\!\\!& \n",
    "\\boxed{\\begin{matrix} \\\\ \\\\ \\\\ \\\\ \\\\ u_{200} \\\\ \\\\ \\\\ \\\\ \\\\ \\\\ \\end{matrix}} \n",
    "\\end{bmatrix}\n",
    "\\begin{bmatrix}\n",
    "\\boxed{\\sigma_1 \\phantom{\\dfrac{}{}} \\!\\!} & 0 & 0 & \\cdots & 0 \\\\\n",
    "0 & \\boxed{\\sigma_2 \\phantom{\\dfrac{}{}} \\!\\!} & 0 & \\cdots & 0 \\\\\n",
    "0 & 0 & \\boxed{\\sigma_3 \\phantom{\\dfrac{}{}} \\!\\!} & \\cdots & 0 \\\\\n",
    "\\vdots & \\vdots & \\vdots & \\ddots \\\\\n",
    "0 & 0 & 0 & \\cdots & \\boxed{\\sigma_{20} \\phantom{\\dfrac{}{}} \\!\\!} \\\\\n",
    "0 & 0 & 0 & \\cdots & 0 \\\\\n",
    "\\vdots & \\vdots & \\vdots &  & \\vdots \\\\\n",
    "0 & 0 & 0 & \\cdots & 0 \\\\\n",
    "\\end{bmatrix}\n",
    "\\begin{bmatrix}\n",
    "\\boxed{\\begin{matrix} & & & v_1^T & & & \\end{matrix}} \\\\ \n",
    "\\boxed{\\begin{matrix} & & & v_2^T & & & \\end{matrix}} \\\\ \n",
    "\\vdots \\\\ \n",
    "\\boxed{\\begin{matrix} & & & v_{20}^T & & & \\end{matrix}} \\\\ \n",
    "\\end{bmatrix}\n",
    "\\tag{3.4.5}\\\\\n",
    "&\\Longleftrightarrow\n",
    "A = \\begin{bmatrix}\\sigma_1u_1\\ & \\sigma_2u_2,\\dots,\\sigma_{200}u_{200}\\end{bmatrix}\n",
    "\\begin{bmatrix}\n",
    "\\boxed{\\begin{matrix} & & & v_1^T & & & \\end{matrix}} \\\\ \n",
    "\\boxed{\\begin{matrix} & & & v_2^T & & & \\end{matrix}} \\\\ \n",
    "\\vdots \\\\ \n",
    "\\boxed{\\begin{matrix} & & & v_{20}^T & & & \\end{matrix}} \\\\ \n",
    "\\end{bmatrix}\n",
    "\\\\\n",
    "&\\Longleftrightarrow A = \\sigma_1u_1v_1^T + \\sigma_2u_2v_2^T + \\sigma_3u_3v_3^T + \\dots\n",
    "\\end{aligned}\n",
    "\\end{split}"
   ]
  },
  {
   "cell_type": "markdown",
   "metadata": {},
   "source": []
  },
  {
   "cell_type": "markdown",
   "metadata": {},
   "source": []
  }
 ],
 "metadata": {
  "kernelspec": {
   "display_name": "Python 3 (ipykernel)",
   "language": "python",
   "name": "python3"
  },
  "language_info": {
   "codemirror_mode": {
    "name": "ipython",
    "version": 3
   },
   "file_extension": ".py",
   "mimetype": "text/x-python",
   "name": "python",
   "nbconvert_exporter": "python",
   "pygments_lexer": "ipython3",
   "version": "3.9.13"
  },
  "toc": {
   "base_numbering": 1,
   "nav_menu": {},
   "number_sections": true,
   "sideBar": true,
   "skip_h1_title": false,
   "title_cell": "Table of Contents",
   "title_sidebar": "Contents",
   "toc_cell": false,
   "toc_position": {},
   "toc_section_display": true,
   "toc_window_display": false
  }
 },
 "nbformat": 4,
 "nbformat_minor": 2
}
