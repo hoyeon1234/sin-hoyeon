{
 "cells": [
  {
   "cell_type": "code",
   "execution_count": 6,
   "id": "6e7c2212",
   "metadata": {},
   "outputs": [
    {
     "data": {
      "application/javascript": [
       "IPython.notebook.set_autosave_interval(20000)"
      ]
     },
     "metadata": {},
     "output_type": "display_data"
    },
    {
     "name": "stdout",
     "output_type": "stream",
     "text": [
      "Autosaving every 20 seconds\n"
     ]
    }
   ],
   "source": [
    "%autosave 20\n",
    "import numpy as np\n",
    "import pandas as pd\n",
    "import matplotlib.pyplot as plt"
   ]
  },
  {
   "cell_type": "markdown",
   "id": "d8712b4b",
   "metadata": {},
   "source": [
    "# Background"
   ]
  },
  {
   "cell_type": "markdown",
   "id": "8b73e827",
   "metadata": {},
   "source": [
    "## 용어정리\n",
    "- (표본)통계량(statistics,sample statistics) : 확률표본으로부터 계산되며 표본의 특성을 나타내는 값.\n",
    "- 추정량(estimator) : 모수를 추정할 수 있는 (표본)통계량.\n",
    "- 추정값 : 관측한 표본으로부터 계산한 추정량의 값."
   ]
  },
  {
   "cell_type": "markdown",
   "id": "fe8c1fcb",
   "metadata": {},
   "source": [
    "## 정규분포"
   ]
  },
  {
   "cell_type": "markdown",
   "id": "3a97fd53",
   "metadata": {},
   "source": [
    "- 확률변수 $X \\sim \\mathcal{N}(\\mu,\\sigma^2)$라 하자."
   ]
  },
  {
   "cell_type": "markdown",
   "id": "9a193e98",
   "metadata": {},
   "source": [
    "$$\n",
    "\\begin{aligned}\n",
    "&P(\\mu - 2\\sigma \\leq X \\leq \\mu + 2\\sigma) \\approx 0.95 \\\\\n",
    "\\end{aligned}\n",
    "$$"
   ]
  },
  {
   "cell_type": "markdown",
   "id": "246a16c3",
   "metadata": {},
   "source": [
    "- 즉, 평균으로부터 +- 2표준편차인 구간안에 확률변수 X가 값을 가질 확률이 약 95%이다."
   ]
  },
  {
   "cell_type": "markdown",
   "id": "fefd6f9b",
   "metadata": {},
   "source": [
    "- 이 외에도 표준정규분포표나 다양한 라이브러리를 통하여 확률과 그 확률에 대응하는구간을 구할 수 있다."
   ]
  },
  {
   "cell_type": "markdown",
   "id": "20875553",
   "metadata": {},
   "source": [
    "# 통계적 추정"
   ]
  },
  {
   "cell_type": "markdown",
   "id": "571809d7",
   "metadata": {},
   "source": [
    "- 모집단의 특성값인 모수(parameter)가 우리가 알고싶은 것이다.\n",
    "    - 전북대학교 남학생들의 평균 성적 등등...\n",
    "- 통계적 추정 : 확률표본을 사용하여 모집단의 모수 추정 e.g. 모평균,모비율\n",
    "- 예를 들자면? \n",
    "    - 모평균의 추정 : 확률표본으로부터 계산된 표본평균을 추정량으로 사용\n",
    "    - 모비율의 추정 : 확률표본으로부터 계산된 모비율을 추정량으로 사용.\n"
   ]
  },
  {
   "cell_type": "markdown",
   "id": "32a5abc0",
   "metadata": {},
   "source": [
    "# 추정량의 성질"
   ]
  },
  {
   "cell_type": "markdown",
   "id": "c8bfa90f",
   "metadata": {},
   "source": [
    "## 추정량의 임의성"
   ]
  },
  {
   "cell_type": "markdown",
   "id": "6d3b3ef9",
   "metadata": {},
   "source": [
    "- 추정량은 표본으로부터 모집단으로부터 표본이 임의적으로(random) 추출되기 때문에 임의성(randomness)를 갖는다."
   ]
  },
  {
   "cell_type": "markdown",
   "id": "38f2c4d1",
   "metadata": {},
   "source": [
    "### 예시"
   ]
  },
  {
   "cell_type": "markdown",
   "id": "2c5111bd",
   "metadata": {},
   "source": [
    "- 10만명으로 구성된 선거구, A 후보를 지지하는 사람이 6만명, 지지하지 않는 사람이 4만명인 모집단.\n",
    "- i.e. 모집단의 크기 $N=100000$, 지지율 $\\theta = 0.6$"
   ]
  },
  {
   "cell_type": "markdown",
   "id": "da3d0932",
   "metadata": {},
   "source": [
    "1. 모집단 생성"
   ]
  },
  {
   "cell_type": "code",
   "execution_count": 7,
   "id": "284a9bc0",
   "metadata": {},
   "outputs": [
    {
     "data": {
      "text/plain": [
       "(100000,)"
      ]
     },
     "execution_count": 7,
     "metadata": {},
     "output_type": "execute_result"
    }
   ],
   "source": [
    "N = 100000 #모집단의 크기\n",
    "favor = 60000 #지지하는 유권자의 수\n",
    "opposite = N - favor\n",
    "\n",
    "P = np.concatenate((np.ones(favor),np.zeros(opposite)),axis=0)\n",
    "P.shape"
   ]
  },
  {
   "cell_type": "code",
   "execution_count": 8,
   "id": "c8b4fadf",
   "metadata": {},
   "outputs": [
    {
     "data": {
      "image/png": "[encoded data removed]",
      "text/plain": [
       "<Figure size 640x480 with 1 Axes>"
      ]
     },
     "metadata": {},
     "output_type": "display_data"
    }
   ],
   "source": [
    "plt.hist(P)\n",
    "plt.show()"
   ]
  },
  {
   "cell_type": "markdown",
   "id": "18ffa309",
   "metadata": {},
   "source": [
    "2. 모비율 확인"
   ]
  },
  {
   "cell_type": "code",
   "execution_count": 9,
   "id": "8597abe0",
   "metadata": {},
   "outputs": [
    {
     "data": {
      "text/plain": [
       "0.6"
      ]
     },
     "execution_count": 9,
     "metadata": {},
     "output_type": "execute_result"
    }
   ],
   "source": [
    "P.mean()"
   ]
  },
  {
   "cell_type": "markdown",
   "id": "504c2483",
   "metadata": {},
   "source": [
    "3. 표본 추출"
   ]
  },
  {
   "cell_type": "code",
   "execution_count": 10,
   "id": "59c172de",
   "metadata": {},
   "outputs": [
    {
     "data": {
      "text/plain": [
       "array([1., 1., 1., 0., 1., 1., 1., 0., 1., 1., 1., 0., 0., 1., 1., 1., 0.,\n",
       "       1., 1., 0., 0., 1., 1., 0., 1., 1., 0., 0., 0., 1., 1., 0., 1., 0.,\n",
       "       0., 1., 1., 1., 1., 1., 1., 0., 1., 1., 1., 0., 0., 0., 0., 0., 1.,\n",
       "       1., 1., 1., 0., 1., 1., 1., 0., 0., 1., 1., 1., 0., 1., 0., 0., 0.,\n",
       "       0., 0., 1., 0., 1., 0., 1., 0., 0., 1., 1., 0., 1., 1., 0., 1., 0.,\n",
       "       1., 0., 1., 1., 1., 1., 1., 1., 0., 1., 0., 1., 0., 1., 1.])"
      ]
     },
     "execution_count": 10,
     "metadata": {},
     "output_type": "execute_result"
    }
   ],
   "source": [
    "sample = np.random.choice(P,1000,replace=False)\n",
    "sample[:100]"
   ]
  },
  {
   "cell_type": "markdown",
   "id": "4fc7fcef",
   "metadata": {},
   "source": [
    "4. 표본비율 계산"
   ]
  },
  {
   "cell_type": "code",
   "execution_count": 11,
   "id": "9554cb6e",
   "metadata": {},
   "outputs": [
    {
     "data": {
      "text/plain": [
       "0.59"
      ]
     },
     "execution_count": 11,
     "metadata": {},
     "output_type": "execute_result"
    }
   ],
   "source": [
    "hat_theta = sample.mean()\n",
    "hat_theta"
   ]
  },
  {
   "cell_type": "markdown",
   "id": "9bd3acf6",
   "metadata": {},
   "source": [
    "5. 표본을 또 한번 추출하여 표본비율 계산"
   ]
  },
  {
   "cell_type": "code",
   "execution_count": 12,
   "id": "78d85526",
   "metadata": {},
   "outputs": [
    {
     "data": {
      "text/plain": [
       "0.615"
      ]
     },
     "execution_count": 12,
     "metadata": {},
     "output_type": "execute_result"
    }
   ],
   "source": [
    "sample = np.random.choice(P,replace=False,size=1000)\n",
    "hat_theta = sample.mean()\n",
    "hat_theta"
   ]
  },
  {
   "cell_type": "markdown",
   "id": "13e9ec3d",
   "metadata": {},
   "source": [
    "- 추출할 때마다 다른 표본이 뽑히므로 추정량의 값(추정값)이 변화한다.\n",
    "- 그런데 각각 값들은 모집단의 지지율인 0.6과 아주 많이 차이나진 않는다."
   ]
  },
  {
   "cell_type": "markdown",
   "id": "402d3308",
   "metadata": {},
   "source": [
    "## 추정량의 평균"
   ]
  },
  {
   "cell_type": "markdown",
   "id": "28fbf4bd",
   "metadata": {},
   "source": [
    "- 추정량은 임의적이기 때문에 표본을 관측하기 전 까지는 알 수 없다.\n",
    "- 표본을 관측하면 추정량의 값을 구할 수 있으며 이 값을 `추정값(estimate)`이라고 한다."
   ]
  },
  {
   "cell_type": "markdown",
   "id": "f517013b",
   "metadata": {},
   "source": [
    "- 서로다른 여러개의 표본으로부터 각각 계산된 추정값들의 평균$\\bar\\theta$은 어떻게 될까?\n",
    "- i.e. $$\\bar\\theta = \\frac{\\sum_{i=1}^{1000}\\hat\\theta_i}{1000}$$ (추정값들이 1000개 있다고 하자.)"
   ]
  },
  {
   "cell_type": "code",
   "execution_count": 13,
   "id": "46e061aa",
   "metadata": {},
   "outputs": [
    {
     "data": {
      "text/html": [
       "<div>\n",
       "<style scoped>\n",
       "    .dataframe tbody tr th:only-of-type {\n",
       "        vertical-align: middle;\n",
       "    }\n",
       "\n",
       "    .dataframe tbody tr th {\n",
       "        vertical-align: top;\n",
       "    }\n",
       "\n",
       "    .dataframe thead th {\n",
       "        text-align: right;\n",
       "    }\n",
       "</style>\n",
       "<table border=\"1\" class=\"dataframe\">\n",
       "  <thead>\n",
       "    <tr style=\"text-align: right;\">\n",
       "      <th></th>\n",
       "      <th>sample_rate</th>\n",
       "    </tr>\n",
       "  </thead>\n",
       "  <tbody>\n",
       "    <tr>\n",
       "      <th>0</th>\n",
       "      <td>0.591</td>\n",
       "    </tr>\n",
       "    <tr>\n",
       "      <th>1</th>\n",
       "      <td>0.603</td>\n",
       "    </tr>\n",
       "    <tr>\n",
       "      <th>2</th>\n",
       "      <td>0.624</td>\n",
       "    </tr>\n",
       "    <tr>\n",
       "      <th>3</th>\n",
       "      <td>0.597</td>\n",
       "    </tr>\n",
       "    <tr>\n",
       "      <th>4</th>\n",
       "      <td>0.582</td>\n",
       "    </tr>\n",
       "    <tr>\n",
       "      <th>...</th>\n",
       "      <td>...</td>\n",
       "    </tr>\n",
       "    <tr>\n",
       "      <th>995</th>\n",
       "      <td>0.604</td>\n",
       "    </tr>\n",
       "    <tr>\n",
       "      <th>996</th>\n",
       "      <td>0.592</td>\n",
       "    </tr>\n",
       "    <tr>\n",
       "      <th>997</th>\n",
       "      <td>0.608</td>\n",
       "    </tr>\n",
       "    <tr>\n",
       "      <th>998</th>\n",
       "      <td>0.610</td>\n",
       "    </tr>\n",
       "    <tr>\n",
       "      <th>999</th>\n",
       "      <td>0.596</td>\n",
       "    </tr>\n",
       "  </tbody>\n",
       "</table>\n",
       "<p>1000 rows × 1 columns</p>\n",
       "</div>"
      ],
      "text/plain": [
       "     sample_rate\n",
       "0          0.591\n",
       "1          0.603\n",
       "2          0.624\n",
       "3          0.597\n",
       "4          0.582\n",
       "..           ...\n",
       "995        0.604\n",
       "996        0.592\n",
       "997        0.608\n",
       "998        0.610\n",
       "999        0.596\n",
       "\n",
       "[1000 rows x 1 columns]"
      ]
     },
     "execution_count": 13,
     "metadata": {},
     "output_type": "execute_result"
    }
   ],
   "source": [
    "B = 1000 # 모의실험의 횟수\n",
    "n = 1000\n",
    "estimates = pd.DataFrame({'sample_rate':np.zeros(B)})\n",
    "\n",
    "for i in np.arange(B):\n",
    "  sample = np.random.choice(P, n, replace=False)\n",
    "  estimates.loc[i,'sample_rate'] = np.mean(sample)\n",
    "\n",
    "estimates"
   ]
  },
  {
   "cell_type": "code",
   "execution_count": 14,
   "id": "c504559e",
   "metadata": {},
   "outputs": [
    {
     "data": {
      "text/plain": [
       "sample_rate    0.599952\n",
       "dtype: float64"
      ]
     },
     "execution_count": 14,
     "metadata": {},
     "output_type": "execute_result"
    }
   ],
   "source": [
    "estimates.mean()"
   ]
  },
  {
   "cell_type": "code",
   "execution_count": 15,
   "id": "00dc04e9",
   "metadata": {},
   "outputs": [
    {
     "data": {
      "text/plain": [
       "sample_rate    0.000048\n",
       "dtype: float64"
      ]
     },
     "execution_count": 15,
     "metadata": {},
     "output_type": "execute_result"
    }
   ],
   "source": [
    "P.mean() - estimates.mean()"
   ]
  },
  {
   "cell_type": "markdown",
   "id": "2ca77166",
   "metadata": {},
   "source": [
    "- 모의 실험으로부터 얻은 1000개의 추정값들의 평균은 모집단의 지지율 0.6과 매우 유사하다."
   ]
  },
  {
   "cell_type": "markdown",
   "id": "41d06607",
   "metadata": {},
   "source": [
    "$$\\bar\\theta = \\frac{\\sum_{i=1}^{1000}\\hat\\theta_i}{1000} \\approx \\theta$$"
   ]
  },
  {
   "cell_type": "markdown",
   "id": "64bd7b29",
   "metadata": {},
   "source": [
    "## 중심극한정리"
   ]
  },
  {
   "cell_type": "markdown",
   "id": "39366cfe",
   "metadata": {},
   "source": [
    "- 추정량의 분포를 한 번 살펴보자."
   ]
  },
  {
   "cell_type": "code",
   "execution_count": 16,
   "id": "e1d8efdd",
   "metadata": {},
   "outputs": [
    {
     "data": {
      "text/plain": [
       "<AxesSubplot:ylabel='Frequency'>"
      ]
     },
     "execution_count": 16,
     "metadata": {},
     "output_type": "execute_result"
    },
    {
     "data": {
      "image/png": "[encoded data removed]",
      "text/plain": [
       "<Figure size 640x480 with 1 Axes>"
      ]
     },
     "metadata": {},
     "output_type": "display_data"
    }
   ],
   "source": [
    "estimates.plot.hist()"
   ]
  },
  {
   "cell_type": "markdown",
   "id": "2a542d71",
   "metadata": {},
   "source": [
    "- 추정량의 분포는 0.6을 중심으로 종모양의 정규분포처럼 보인다.(잘보면 보임ㅎ)"
   ]
  },
  {
   "cell_type": "markdown",
   "id": "043677b6",
   "metadata": {},
   "source": [
    "- 사실 이는 추정량의 분포가 정규분포를 따른다는 중심극한정리에 의한 내용이다."
   ]
  },
  {
   "cell_type": "markdown",
   "id": "185ac5dd",
   "metadata": {},
   "source": [
    "::;{.callout-note}\n",
    "#### 중심극한정리(Central Limit Theorem)\n",
    "$X_1,X_2,\\dots,X_n \\overset{\\text{i.i.d}}{\\sim} f_X(x;\\mu,\\sigma^2)$라고 하자. 이때 아래와 같은 식이 성립한다.\n",
    "$$\\bar X = \\frac{X_1 + X_2 + \\dots + X_n}{n} \\sim \\mathcal{N}(\\mu,\\frac{\\sigma^2}{n})$$\n",
    "일반적으로 $n \\geq 30$이라고 가정한다.\n",
    ":::"
   ]
  },
  {
   "cell_type": "markdown",
   "id": "05a9fb61",
   "metadata": {},
   "source": [
    "쉽게 풀어쓰자면\n",
    "- 평균이  $\\mu$이고, 분산이  $\\sigma^2$ 인  모집단에서  n개의  표본을  추출하는  경우에  n이  충분히  크면( n ≥ 30 ,i.i.d)\n",
    "- 모집단의  분포에  관계없이 표본평균 $\\bar X$가 정규분포를 따르며\n",
    "- 그때의 $E(\\bar X) = \\mu, Var(\\bar X) = \\frac{\\sigma^2}{n}$라는 의미이다.\n",
    "- point\n",
    "    - 정규분포에서 추출 안해도 정규분포가 됨(모집단이 뭘 따르던 상관 X)\n",
    "    - i.i.d가정이 필요(고전적인 CLT)\n",
    "    - 다른 CLT도 있는데 그건 같은분포에서 추출 안해도 된다고 함.독립이기만 하면 됨.(wiki 참고 ㄱㄱ)"
   ]
  },
  {
   "cell_type": "markdown",
   "id": "2a46a34f",
   "metadata": {},
   "source": [
    "![](./fig.png)"
   ]
  },
  {
   "cell_type": "markdown",
   "id": "11a8bda6",
   "metadata": {},
   "source": [
    "- 위의 그림이 잘 설명해줌\n",
    "    - 이항분포던,푸아송이던 ... 어떤 분포던지간에 표본의 크기가 충분히 크면\n",
    "    - 표본평균의 분포는 정규분포임을 확인"
   ]
  },
  {
   "cell_type": "markdown",
   "id": "dcf03f4a",
   "metadata": {},
   "source": [
    "## 추정량의 분포 "
   ]
  },
  {
   "cell_type": "markdown",
   "id": "acebac4e",
   "metadata": {},
   "source": [
    "- 표본비율(추정량,표본지지율)의 분포를 구해보자.\n",
    "- 중심극한정리에 의하면 다음과 같다."
   ]
  },
  {
   "cell_type": "markdown",
   "id": "022ecff3",
   "metadata": {},
   "source": [
    "$$\n",
    "\\begin{aligned}\n",
    "\\hat\\theta \\sim \\mathcal{N}(\\mu(=\\theta),\\frac{\\sigma^2}{n})\n",
    "\\end{aligned}\n",
    "$$"
   ]
  },
  {
   "cell_type": "markdown",
   "id": "d843bcdf",
   "metadata": {},
   "source": [
    "- 우리가 모르는 것은 우리가 정말 궁금한 $\\mu$와 분산인 $\\sigma^2$이다.\n",
    "- $\\frac{\\sigma^2}{n}$은 우리가 여러개의 표본으로부터 얻은 추정값들로 어떻게든 구해볼 수 있을 것 같다.\n",
    "    - $\\hat\\theta_1,\\hat\\theta_2,\\hat\\theta_3\\ \\dots$들의 표본분산으로 구하면 될 것 같다.\n",
    "    - 여러개의 추정값들로 그러면 $\\mu$도 구할 수 있는 것 아니냐?라는 의문이 생기는데??\n",
    "        - 이 경우 $\\mu = E(\\hat\\theta) \\approx$ 표본평균 이라고 생각히가 때문이다.\n",
    "        - 잘 모르겠다. 하지만 책에서 분산만 일단 전개하므로 여기서도 분산만 가지고 전개."
   ]
  },
  {
   "cell_type": "markdown",
   "id": "e5ccb668",
   "metadata": {},
   "source": [
    "- 즉 아래와 같이 표본분산으로 추정할 수 있을 것 같다."
   ]
  },
  {
   "cell_type": "markdown",
   "id": "436187f0",
   "metadata": {},
   "source": [
    "$$\n",
    "\\begin{aligned}\n",
    "&Var(\\hat\\theta) = \\frac{\\sigma^2}{n} \\approx \\frac{\\sum_{i=1}^{n}(\\hat\\theta_i - \\bar\\theta  )^2}{n-1} \\text{     (sample variance)}\\\\ \n",
    "&\\Longleftrightarrow Sd(\\hat\\theta) = \\frac{\\sigma}{\\sqrt{n}} \\approx \\sqrt{\\frac{\\sum_{i=1}^{n}(\\hat\\theta_i - \\bar\\theta  )^2}{n-1}}\\text{(sample  standard deviation)}\\\\\n",
    "&\\text{where, } \\bar\\theta = \\frac{1}{n}\\sum_{i=1}^{n}\\hat\\theta_i\n",
    "\\end{aligned}\n",
    "$$"
   ]
  },
  {
   "cell_type": "markdown",
   "id": "f1b12035",
   "metadata": {},
   "source": [
    "- 결과적으로 표본비율의 분포는 아래와 같다고 할 수 있을 것이다."
   ]
  },
  {
   "cell_type": "markdown",
   "id": "4f50b4ef",
   "metadata": {},
   "source": [
    "$$\n",
    "\\begin{aligned}\n",
    "\\hat\\theta \\sim \\mathcal{N}(\\mu(=\\theta),Sd^2)\n",
    "\\end{aligned}\n",
    "$$"
   ]
  },
  {
   "cell_type": "markdown",
   "id": "25bcad5a",
   "metadata": {},
   "source": [
    "## 구간추정"
   ]
  },
  {
   "cell_type": "markdown",
   "id": "8e7f88a2",
   "metadata": {},
   "source": [
    "- 점추정은 하나의 특정 값으로 모수를 추정하는 방법이였다. 하지만 단점이 있다.\n",
    "   1. 추정이 얼마나 정확한가,불확실한가를 판단하기가 불가능하다. \n",
    "   2. 하나의 값을 제시하기에 유연하지 못하고 틀릴 가능성이 높음\n",
    "- 이러한 단점을 보완할 수 있는 방법은 구간추정(interval estimation)이\n",
    "- 구간추정은 모수에 다한 구간(신뢰구간)과 확률(신뢰도)을 제시하는 추정이며 점추정에 비해 장점이 있음.\n",
    "    1. 구간을 사용하여 더 유연+견고한 주장을 제시할 수 있음(하나의 값 제시하는게 아니라 ~사이에 있을거다라고 말하는 것이기 때문)\n",
    "    2. 확률을 제시해 추정이 얼마나 정확한가 제시할 수 있다.(확률 95%,80%로 불확실성을 제시해줄 수 있다.)\n",
    "- 목적\n",
    "    1. 모수 추정\n",
    "    2. 구간,확률을 제시하여 더 견고한 $\\to$주장 + 불확실성을 제시하여 추정의 정확도 판단."
   ]
  },
  {
   "cell_type": "markdown",
   "id": "c252bf04",
   "metadata": {},
   "source": [
    "- 구간추정은 어떻게 하는가?(유도해보기)"
   ]
  },
  {
   "cell_type": "markdown",
   "id": "3137421b",
   "metadata": {},
   "source": [
    "**(알고 있는 사실)**<br>\n",
    "$$\\hat\\theta \\sim \\mathcal{N}(\\mu,SD^2) \\to P(\\mu - 2SD \\leq \\hat\\theta \\leq \\mu + 2SD) = 0.95\\text{  (그냥 equal로 놓자.)}$$ "
   ]
  },
  {
   "cell_type": "markdown",
   "id": "e800d0f7",
   "metadata": {},
   "source": [
    "**(식 살짝 바꾸기)**"
   ]
  },
  {
   "cell_type": "markdown",
   "id": "e6d52e7e",
   "metadata": {},
   "source": [
    "$$\n",
    "\\begin{aligned}\n",
    "&P(\\mu - 2SD \\leq \\hat\\theta \\leq \\mu + 2SD) = 0.95 \\nonumber \\\\\n",
    "&\\Longleftrightarrow P(-2SD\\leq \\hat\\theta-\\mu \\leq +2SD) = 0.95 \\nonumber  \\\\\n",
    "&\\Longleftrightarrow P(-\\hat\\theta-2SD \\leq -\\mu \\leq -\\hat\\theta+2SD) = 0.95 \\nonumber  \\\\\n",
    "&\\Longleftrightarrow P(\\hat\\theta-2SD \\leq \\mu \\leq \\hat\\theta+2SD) = 0.95 \\nonumber  \\\\\n",
    "&\\Longleftrightarrow P(\\mu \\in [\\hat\\theta-2SD,\\hat\\theta+2SD]) = 0.95  \\\\\n",
    "&\\Longleftrightarrow P(|\\mu - \\hat\\theta| \\leq 2SD) = 0.95 \\\\\n",
    "\\end{aligned}\n",
    "$$"
   ]
  },
  {
   "cell_type": "markdown",
   "id": "d159d32c",
   "metadata": {},
   "source": [
    "- 윗 식을 해석해보면?\n",
    "    - 모수 $\\mu$가 우리가 관측한 추정량 $\\hat\\theta \\pm 2SD$인 구간에 속할 확률이 95%다.\n",
    "    - 모수 $\\mu$와 우리가 관측한 추정량 $\\hat\\theta$의 차이가 $2SD$보다 작을 확률이 95%다.\n",
    "- 결과적으로 모수를 추정함과 동시에 더 유연한 주장 + 불확실성 제시(목적달성).\n",
    "- 왜 추정량의 분포를 알아야 했던거지?\n",
    "    - 확률표본은 모집단으로 부터 임의적으로 추출되기때문에 나타날 수 있는 오차를 추정량의 분포를 이용하여 제시!\n",
    "- 용어정리\n",
    "    - 95%는 신뢰수준\n",
    "    - 2SD는 표본오차(sampling error)\n",
    "    - 위에서 나온 구간은 신뢰구간 이라고 함.\n",
    "    - \"모평균 $\\mu$에 대한 신뢰수준 95%에 대한 신뢰구간은 $[\\hat\\theta-2SD,\\hat\\theta+2SD]$이다\"라고 표현."
   ]
  },
  {
   "cell_type": "code",
   "execution_count": 60,
   "id": "5b4ac014",
   "metadata": {},
   "outputs": [
    {
     "data": {
      "text/html": [
       "<div>\n",
       "<style scoped>\n",
       "    .dataframe tbody tr th:only-of-type {\n",
       "        vertical-align: middle;\n",
       "    }\n",
       "\n",
       "    .dataframe tbody tr th {\n",
       "        vertical-align: top;\n",
       "    }\n",
       "\n",
       "    .dataframe thead th {\n",
       "        text-align: right;\n",
       "    }\n",
       "</style>\n",
       "<table border=\"1\" class=\"dataframe\">\n",
       "  <thead>\n",
       "    <tr style=\"text-align: right;\">\n",
       "      <th></th>\n",
       "      <th>Mean of sample_rates</th>\n",
       "      <th>SD</th>\n",
       "      <th>Sampling Error</th>\n",
       "    </tr>\n",
       "  </thead>\n",
       "  <tbody>\n",
       "    <tr>\n",
       "      <th>0</th>\n",
       "      <td>0.49992</td>\n",
       "      <td>0.01581</td>\n",
       "      <td>0.031619</td>\n",
       "    </tr>\n",
       "  </tbody>\n",
       "</table>\n",
       "</div>"
      ],
      "text/plain": [
       "   Mean of sample_rates       SD  Sampling Error\n",
       "0               0.49992  0.01581        0.031619"
      ]
     },
     "execution_count": 60,
     "metadata": {},
     "output_type": "execute_result"
    }
   ],
   "source": [
    "AVG=  float(estimates.mean()) # B개의 지지율의 평균  \n",
    "SD = float(estimates.std())   # B개의 지지율의 표준편차\n",
    "\n",
    "sim_summary = pd.DataFrame({ 'Mean of sample_rates': [AVG], 'SD' : [SD], 'Sampling Error' : [2*SD] })\n",
    "\n",
    "sim_summary"
   ]
  },
  {
   "cell_type": "code",
   "execution_count": 61,
   "id": "06db16d8",
   "metadata": {},
   "outputs": [
    {
     "data": {
      "text/plain": [
       "[0.46830066758797456, 0.5315393324120261]"
      ]
     },
     "execution_count": 61,
     "metadata": {},
     "output_type": "execute_result"
    }
   ],
   "source": [
    "[AVG - 2* SD, AVG + 2*SD ]"
   ]
  },
  {
   "cell_type": "code",
   "execution_count": 62,
   "id": "7ed9e6ed",
   "metadata": {},
   "outputs": [
    {
     "data": {
      "image/png": "[encoded data removed]",
      "text/plain": [
       "<Figure size 640x480 with 1 Axes>"
      ]
     },
     "metadata": {},
     "output_type": "display_data"
    }
   ],
   "source": [
    "# 히스토그램\n",
    "p= estimates.plot.hist( density=True)\n",
    "\n",
    "# 모집단의 지지율에서 2SD 만큼 벌어진 구간(95%)은 빨간색으로 \n",
    "for rectangle in p.patches:\n",
    "    if rectangle.get_x() >=  (AVG - 2*SD) and rectangle.get_x() <=  (AVG + 2*SD) :\n",
    "        rectangle.set_facecolor('red')"
   ]
  },
  {
   "cell_type": "code",
   "execution_count": 64,
   "id": "c5055990",
   "metadata": {},
   "outputs": [
    {
     "data": {
      "text/plain": [
       "[0.46830066758797456, 0.5315393324120261]"
      ]
     },
     "execution_count": 64,
     "metadata": {},
     "output_type": "execute_result"
    }
   ],
   "source": [
    "[AVG - 2* SD, AVG + 2*SD ]"
   ]
  },
  {
   "cell_type": "code",
   "execution_count": 110,
   "id": "7a325c80",
   "metadata": {},
   "outputs": [
    {
     "data": {
      "text/plain": [
       "0.96"
      ]
     },
     "execution_count": 110,
     "metadata": {},
     "output_type": "execute_result"
    }
   ],
   "source": [
    "((estimates.sample_rate >= (AVG - 2* SD) ) & (estimates.sample_rate <= (AVG + 2* SD))).mean()"
   ]
  },
  {
   "cell_type": "markdown",
   "id": "67ef1d27",
   "metadata": {},
   "source": [
    "# 정리"
   ]
  },
  {
   "cell_type": "markdown",
   "id": "4e1d5621",
   "metadata": {},
   "source": [
    "- 모집단은 관심이 있는 전체 집단이다,모수는 모집단의 특성값이다.\n",
    "- 확률표본은 모집단의 구성원이 표본에 속할 확률을 미리 알고 있으며 그 확률에 따라서 추출한 표본이다.\n",
    "- 표본 자료의 분포는 모집단의 분포와 유사하게 나타난다.\n",
    "- 추출된 표본으로 부터 얻은 추정량의 값이 모수와 얼마나 차이가 나는지는 알 수가 없다.\n",
    "- 하지만 표본의 크기가 커질수록 $\\to$ SD가 감소 $\\to$ 추정량의 값은 모수에 가깝게 나타날 가능성(확률)이 높아진다.\n",
    "- 또한 표본의 크기가 크면 추정량의 분포는 정규분포와 매우 유사하다.(by CLT)\n",
    "- 따라서 추정량의 분포에 대한 성질을 정규분포의 성질을 이용하여 말할 수 있다.(by CLT)\n",
    "- 추정량의 표준편차를 SD 라고 하면 추정량의 값과 모수의 차이가 2*SD 이내일 확률은 약 95% 이라고 말할 수 있다.(by CLT + 정규분포 확률)"
   ]
  }
 ],
 "metadata": {
  "kernelspec": {
   "display_name": "Python 3 (ipykernel)",
   "language": "python",
   "name": "python3"
  },
  "language_info": {
   "codemirror_mode": {
    "name": "ipython",
    "version": 3
   },
   "file_extension": ".py",
   "mimetype": "text/x-python",
   "name": "python",
   "nbconvert_exporter": "python",
   "pygments_lexer": "ipython3",
   "version": "3.9.13"
  },
  "toc": {
   "base_numbering": 1,
   "nav_menu": {},
   "number_sections": true,
   "sideBar": true,
   "skip_h1_title": false,
   "title_cell": "Table of Contents",
   "title_sidebar": "Contents",
   "toc_cell": false,
   "toc_position": {
    "height": "calc(100% - 180px)",
    "left": "10px",
    "top": "150px",
    "width": "349.091px"
   },
   "toc_section_display": true,
   "toc_window_display": true
  }
 },
 "nbformat": 4,
 "nbformat_minor": 5
}
