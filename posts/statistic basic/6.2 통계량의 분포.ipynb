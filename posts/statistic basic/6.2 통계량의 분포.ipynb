{
 "cells": [
  {
   "cell_type": "code",
   "execution_count": 1,
   "id": "6259ab0c",
   "metadata": {},
   "outputs": [
    {
     "data": {
      "application/javascript": [
       "IPython.notebook.set_autosave_interval(20000)"
      ]
     },
     "metadata": {},
     "output_type": "display_data"
    },
    {
     "name": "stdout",
     "output_type": "stream",
     "text": [
      "Autosaving every 20 seconds\n"
     ]
    }
   ],
   "source": [
    "import numpy as np\n",
    "import pandas as pd \n",
    "import seaborn as sns\n",
    "%autosave 20"
   ]
  },
  {
   "cell_type": "markdown",
   "id": "4ad61a31",
   "metadata": {},
   "source": [
    "# 통계량의 분포"
   ]
  },
  {
   "cell_type": "markdown",
   "id": "31239903",
   "metadata": {},
   "source": [
    "## 모집단과 표본"
   ]
  },
  {
   "cell_type": "markdown",
   "id": "1a170168",
   "metadata": {},
   "source": [
    "- 자료분석의 목적은 모집단에 대한 특성 파악을 위한 것임.\n",
    "- 관심있는 모집단의 크기가 너무 커서 자료를 조사할 수 없음.\n",
    "- 따라서 모집단의 일부분인 표본을 추출하고 추출된 표본에서 얻은 정보, 즉 표본 통계량을 이용하여 모집단의 특성을 추론"
   ]
  },
  {
   "cell_type": "markdown",
   "id": "88b21921",
   "metadata": {},
   "source": [
    "## 예시 - 선거 여론조사"
   ]
  },
  {
   "cell_type": "markdown",
   "id": "2f0d0cfa",
   "metadata": {},
   "source": [
    "- 목적\n",
    "    - 모든 선거구 주민($P$,population)의 후보 A에 대한 모집단의 지지율 파악"
   ]
  },
  {
   "cell_type": "markdown",
   "id": "fe845950",
   "metadata": {},
   "source": [
    "- 모집단의 특성 (관심있음)\n",
    "    - 후보 A에 대한 지지율\n"
   ]
  },
  {
   "cell_type": "markdown",
   "id": "c51a8987",
   "metadata": {},
   "source": [
    "$$\\text{모집단의 지지율} = \\frac{\\text{모집단에서 후보 A를 지지하는 사람의 수}}{모집단에 속한 사람의 수}$$"
   ]
  },
  {
   "cell_type": "markdown",
   "id": "f6f32f3e",
   "metadata": {},
   "source": [
    "- 근데 이걸 조사할 수 있음? NONO, 너무 커서 절대 불가능 함\n",
    "- 따라서 표본을 추출하고 표본 지지율로 모집단의 지지율에 대한 정보를 얻음."
   ]
  },
  {
   "cell_type": "markdown",
   "id": "d3343c69",
   "metadata": {},
   "source": [
    "$$\\text{표본 지지율} = \\frac{표본에서 후보 A를 지지하는 사람의 수}{표본에 속한 사람의 수}$$"
   ]
  },
  {
   "cell_type": "markdown",
   "id": "587cf0b5",
   "metadata": {},
   "source": [
    "### 용어정리"
   ]
  },
  {
   "cell_type": "markdown",
   "id": "4f3bf014",
   "metadata": {},
   "source": [
    "|용어|기호|정의|예|\n",
    "|---|---|---|---|\n",
    "|모집단(population)|P|관심이 있는 전체집단|모든 선거구 주민|\n",
    "|모집단의 수 |N|전체집단에 속한 개체 수|모든 선거구 주민의 수|\n",
    "|모수(parameter) |$\\theta$|모집단의 특성값|모집단의 지지율|\n",
    "|표본(sample) |S|모집단의 부분 집합|표본으로 추출된 주민|\n",
    "|표본의 수|n|표본에 속한 개체의 수|표본으로 추출된 선거구 주민의 수|\n",
    "|표본 통계량(sample statistics)|$\\hat{\\theta}$|표본의 특성값|표본 지지율|"
   ]
  },
  {
   "cell_type": "markdown",
   "id": "eeb2502f",
   "metadata": {},
   "source": [
    "- 모수(parameter)는 모집단의 특성을 나타내는 값으로 분석의 목적에 따라 다양하다.\n",
    "    - e.g. \n",
    "        - 전북대학교 남학생의 키를 분석하는 것이 목적 $\\to$ 모수는 평균\n",
    "        - A후보의 지지율을 분석하는 것이 목적 $\\to$ 모수는 비율\n",
    "- 표본 통계량(sample statistics)은 표본의 특성을 나타내는 값이다.\n",
    "    - 추정량(estimator) 또는 검정 통계량이라고 부르기도 한다."
   ]
  },
  {
   "cell_type": "markdown",
   "id": "29f58ee5",
   "metadata": {},
   "source": [
    "## 모집단?표본?"
   ]
  },
  {
   "cell_type": "markdown",
   "id": "34c01e4d",
   "metadata": {},
   "source": [
    "### 모집단"
   ]
  },
  {
   "cell_type": "markdown",
   "id": "9b8a8068",
   "metadata": {},
   "source": [
    "- 모집단이 아래와 같다고 하자."
   ]
  },
  {
   "cell_type": "markdown",
   "id": "e1b97aed",
   "metadata": {},
   "source": [
    "$$P = \\text{{철수,영이,둘리,흥민,연경}},N=5$$"
   ]
  },
  {
   "cell_type": "markdown",
   "id": "8e463ace",
   "metadata": {},
   "source": [
    "- 관심있는 모수 $\\theta$ : 후보 A에 대한 지지율"
   ]
  },
  {
   "cell_type": "markdown",
   "id": "43d3b05d",
   "metadata": {},
   "source": [
    "$$\\theta = \\frac{\\text{모집단에서 후보 A를 지지하는 사람의 수}}{\\text{모집단에 속한 사람의 수}}$$"
   ]
  },
  {
   "cell_type": "markdown",
   "id": "227f0a2d",
   "metadata": {},
   "source": [
    "- 모집단에 속한 5명이 선거 후보 A에 대한 지지 여부...\n",
    "    - 철수 = 지지 = ($x=1$)\n",
    "    - 영이 = 지지 = ($x=1$)\n",
    "    - 둘리 = 지지 = ($x=0$)\n",
    "    - 흥민 = 지지 = ($x=0$)\n",
    "    - 철수 = 지지 = ($x=1$)"
   ]
  },
  {
   "cell_type": "markdown",
   "id": "c95c849c",
   "metadata": {},
   "source": [
    "- 이와 같은 경우 모집단 지지율 $\\theta$는 다음과 같다."
   ]
  },
  {
   "cell_type": "markdown",
   "id": "bf128d31",
   "metadata": {},
   "source": [
    "$$\\theta = \\frac{3}{5} = 0.6$$"
   ]
  },
  {
   "cell_type": "markdown",
   "id": "435a8cd5",
   "metadata": {},
   "source": [
    "### 표본"
   ]
  },
  {
   "cell_type": "markdown",
   "id": "c2657786",
   "metadata": {},
   "source": [
    "- 5명의 모집단에서 단순임의추출로 3명의 표본을 비복원추출하는 경우를 생각해 보자.\n",
    "- 지지하면 $x_i = 1$ 지지하지 않으면 $x_i = 0$이라고 하자.\n",
    "- 표본지지율은?"
   ]
  },
  {
   "cell_type": "markdown",
   "id": "094e3aa2",
   "metadata": {},
   "source": [
    "$$\\hat\\theta = \\frac{표본에서 후보 A를 지지하는 사람의 수}{표본에 속한 사람의 수} = \\frac{\\sum_{i=1}^{3}x_i}{n} = \\bar x$$"
   ]
  },
  {
   "cell_type": "markdown",
   "id": "7de401cc",
   "metadata": {},
   "source": [
    "- 크기가 5인 모집단에서 크기가 3인 표본을 추출 할 때, 모든 가능한 표본은 몇 개일까? $\\to$ 조합으로 계산"
   ]
  },
  {
   "cell_type": "markdown",
   "id": "41ac3ed9",
   "metadata": {},
   "source": [
    "$${{N}\\choose{n}}  ={{5}\\choose{3}} = \\frac{(5)(4)(3)}{(3)(2)(1)} = 10$$"
   ]
  },
  {
   "cell_type": "markdown",
   "id": "3c05341b",
   "metadata": {},
   "source": [
    "- 5명의 사람들로 구성된 모집단에서 나타날 수 있는 모든 경우의 표본을 계산해보자."
   ]
  },
  {
   "cell_type": "code",
   "execution_count": 2,
   "id": "81de1413",
   "metadata": {},
   "outputs": [
    {
     "data": {
      "text/plain": [
       "['철수,영이,둘리',\n",
       " '철수,영이,흥민',\n",
       " '철수,영이,연경',\n",
       " '철수,둘리,흥민',\n",
       " '철수,둘리,연경',\n",
       " '철수,흥민,연경',\n",
       " '영이,둘리,흥민',\n",
       " '영이,둘리,연경',\n",
       " '영이,흥민,연경',\n",
       " '둘리,흥민,연경']"
      ]
     },
     "execution_count": 2,
     "metadata": {},
     "output_type": "execute_result"
    }
   ],
   "source": [
    "from itertools import combinations\n",
    "\n",
    "P = ['철수', '영이', '둘리', '흥민', '연경'] \n",
    "\n",
    "N = len(P)\n",
    "n = 3\n",
    "\n",
    "all_possible_samples = []\n",
    "all_possible_samples_text = []\n",
    "\n",
    "for sample in combinations(P, n):\n",
    "  all_possible_samples.append(sample)\n",
    "  txt = \"\"\n",
    "  for i,name in enumerate(sample):\n",
    "    if i == len(sample) -1:\n",
    "      txt += name\n",
    "    else:\n",
    "      txt+= name + \",\"\n",
    "  all_possible_samples_text.append(txt)\n",
    "all_possible_samples_text"
   ]
  },
  {
   "cell_type": "code",
   "execution_count": 3,
   "id": "34505001",
   "metadata": {},
   "outputs": [
    {
     "data": {
      "text/plain": [
       "10"
      ]
     },
     "execution_count": 3,
     "metadata": {},
     "output_type": "execute_result"
    }
   ],
   "source": [
    "all_possible_num = len(all_possible_samples)\n",
    "all_possible_num"
   ]
  },
  {
   "cell_type": "markdown",
   "id": "945889b7",
   "metadata": {
    "id": "MTMJrKex9Fvm"
   },
   "source": [
    "## 통계량의 정확한 분포"
   ]
  },
  {
   "cell_type": "markdown",
   "id": "1f662cc8",
   "metadata": {
    "id": "mdCYlWU19XGG"
   },
   "source": [
    "- 우리가 궁극적으로 알고자 하는 것은 모집단의 특성값인 모수이다.\n",
    "- 통계학에서는 표본으로부터 계산하는 표본통계량으로 부터 모수를 추정한다.\n",
    "    - 그러므로 표본통계량 자체의 성질,특징에 대해 이해하는 것 자체가 중요하다.\n",
    "        - 좀 더 상세히 하자면 표본통계량은 표본이 임의적(random)으로 추출되기에 임의성(randomness)를 가지는 확률변수이므로\n",
    "        - 표본통계량(확률변수)의 확률분포를 파악하여 확률적 성질,특징을 파악하는 것이 중요하다.\n",
    "    - 뿐만아니라 추후에 나올 방법들은 확률적 성질,특징을 통해 모수를 추정한 방법이 얼마나 합리적인지 판단에 도움을 준다.\n",
    "- 그렇기에 우리는 표본통계량의 분포를 알아야 한다."
   ]
  },
  {
   "cell_type": "markdown",
   "id": "26bd2529",
   "metadata": {
    "id": "eROCyyz3YkTd"
   },
   "source": [
    "- 목적 : 표본통계량은 모수를 적절히 추정하는데 핵심이다. 이것이 갖는 성질,특징을 잘 파악하여 합리적인 추정을 하기위해 표본통계량의 분포를 구해보자."
   ]
  },
  {
   "cell_type": "markdown",
   "id": "4a77e02a",
   "metadata": {
    "id": "5PTMzHzMVXT9"
   },
   "source": [
    "- 따라서 표본으로부터 계산한 표본통계량도 random하며 확률변수이다.\n",
    "- 그렇다면 표본 통계량의 분포는 어떻게 되는가?\n",
    "    1. 가능한 모든 표본통계량의 값과\n",
    "    2. 각각의 값에 대응하는 확률을 알아야 한다."
   ]
  },
  {
   "cell_type": "markdown",
   "id": "b5d005df",
   "metadata": {
    "id": "UCgSsCES_TYJ"
   },
   "source": [
    "**(가능한 모든 표본 통계량의 값 구하기)**"
   ]
  },
  {
   "cell_type": "code",
   "execution_count": 8,
   "id": "befb813b",
   "metadata": {
    "colab": {
     "base_uri": "https://localhost:8080/"
    },
    "id": "pgVosPB7_dnl",
    "outputId": "382d849d-0554-4bf9-dfa4-56c4a9ccad97"
   },
   "outputs": [
    {
     "data": {
      "text/plain": [
       "[Fraction(2, 3),\n",
       " Fraction(2, 3),\n",
       " Fraction(1, 1),\n",
       " Fraction(1, 3),\n",
       " Fraction(2, 3),\n",
       " Fraction(2, 3),\n",
       " Fraction(1, 3),\n",
       " Fraction(2, 3),\n",
       " Fraction(2, 3),\n",
       " Fraction(1, 3)]"
      ]
     },
     "execution_count": 8,
     "metadata": {},
     "output_type": "execute_result"
    }
   ],
   "source": [
    "from fractions import Fraction\n",
    "\n",
    "support = {'철수':1, '영이':1, '둘리':0, '흥민':0, '연경':1}\n",
    "sample_rate = []\n",
    "for i,sample in enumerate(all_possible_samples):\n",
    "  total = 0\n",
    "  for obj in sample:\n",
    "    total += support[obj]\n",
    "  sample_rate.append(Fraction(total,3))\n",
    "\n",
    "sample_rate"
   ]
  },
  {
   "cell_type": "code",
   "execution_count": 20,
   "id": "9c2afdbc",
   "metadata": {},
   "outputs": [
    {
     "data": {
      "text/html": [
       "<div>\n",
       "<style scoped>\n",
       "    .dataframe tbody tr th:only-of-type {\n",
       "        vertical-align: middle;\n",
       "    }\n",
       "\n",
       "    .dataframe tbody tr th {\n",
       "        vertical-align: top;\n",
       "    }\n",
       "\n",
       "    .dataframe thead th {\n",
       "        text-align: right;\n",
       "    }\n",
       "</style>\n",
       "<table border=\"1\" class=\"dataframe\">\n",
       "  <thead>\n",
       "    <tr style=\"text-align: right;\">\n",
       "      <th></th>\n",
       "      <th>sample_rate</th>\n",
       "      <th>probability</th>\n",
       "    </tr>\n",
       "  </thead>\n",
       "  <tbody>\n",
       "    <tr>\n",
       "      <th>0</th>\n",
       "      <td>1/3</td>\n",
       "      <td>0.3</td>\n",
       "    </tr>\n",
       "    <tr>\n",
       "      <th>1</th>\n",
       "      <td>2/3</td>\n",
       "      <td>0.6</td>\n",
       "    </tr>\n",
       "    <tr>\n",
       "      <th>2</th>\n",
       "      <td>1</td>\n",
       "      <td>0.1</td>\n",
       "    </tr>\n",
       "  </tbody>\n",
       "</table>\n",
       "</div>"
      ],
      "text/plain": [
       "  sample_rate  probability\n",
       "0         1/3          0.3\n",
       "1         2/3          0.6\n",
       "2           1          0.1"
      ]
     },
     "execution_count": 20,
     "metadata": {},
     "output_type": "execute_result"
    }
   ],
   "source": [
    "from itertools import combinations\n",
    "P = ['철수', '영이', '둘리', '흥민', '연경'] \n",
    "\n",
    "N = len(P)\n",
    "n = 3\n",
    "\n",
    "all_possible_samples = []\n",
    "\n",
    "for sample in combinations(P, n):\n",
    "    all_possible_samples.append(sample)\n",
    "\n",
    "all_possible_samples\n",
    "P = np.array([1,1,0,0,1]) \n",
    "n=3\n",
    "\n",
    "all_possible_samples = []\n",
    "for sample in combinations(P, n):\n",
    "    all_possible_samples.append(sample)\n",
    "\n",
    "all_possible_samples\n",
    "\n",
    "sample_rate = []\n",
    "\n",
    "for sample in all_possible_samples:\n",
    "  sample_rate.append(Fraction(int(sum(sample)),n))\n",
    "\n",
    "sample_rate\n",
    "\n",
    "sample_rate_dist = pd.DataFrame({'sample_rate':sample_rate, 'probability': np.repeat(1/all_possible_num, all_possible_num)})\n",
    "sample_rate_dist\n",
    "\n",
    "sample_rate_dist.groupby(by=sample_rate).sum().reset_index().rename(columns = {'index':'sample_rate'})"
   ]
  },
  {
   "cell_type": "markdown",
   "id": "89c3082d",
   "metadata": {
    "id": "khpTES1tAVfX"
   },
   "source": [
    "**(각각의 표본통계량에 대응하는 확률 구하기)**\n",
    "- 아래의 데이터 프레임은 가능한 모든 표본으로부터 계산한 통계량과 각각의 표본이 뽑힐 수 있는 확률을 나타낸다.\n"
   ]
  },
  {
   "cell_type": "code",
   "execution_count": 5,
   "id": "ff40fd93",
   "metadata": {
    "colab": {
     "base_uri": "https://localhost:8080/",
     "height": 363
    },
    "id": "3aCxUsUUDAnB",
    "outputId": "ab8efc09-f5a7-4e5c-fa7c-5c4c0dc87e76"
   },
   "outputs": [
    {
     "data": {
      "text/html": [
       "<div>\n",
       "<style scoped>\n",
       "    .dataframe tbody tr th:only-of-type {\n",
       "        vertical-align: middle;\n",
       "    }\n",
       "\n",
       "    .dataframe tbody tr th {\n",
       "        vertical-align: top;\n",
       "    }\n",
       "\n",
       "    .dataframe thead th {\n",
       "        text-align: right;\n",
       "    }\n",
       "</style>\n",
       "<table border=\"1\" class=\"dataframe\">\n",
       "  <thead>\n",
       "    <tr style=\"text-align: right;\">\n",
       "      <th></th>\n",
       "      <th>sample(outcome)</th>\n",
       "      <th>sample_rate</th>\n",
       "      <th>prob</th>\n",
       "    </tr>\n",
       "  </thead>\n",
       "  <tbody>\n",
       "    <tr>\n",
       "      <th>0</th>\n",
       "      <td>철수,영이,둘리</td>\n",
       "      <td>2/3</td>\n",
       "      <td>0.1</td>\n",
       "    </tr>\n",
       "    <tr>\n",
       "      <th>1</th>\n",
       "      <td>철수,영이,흥민</td>\n",
       "      <td>2/3</td>\n",
       "      <td>0.1</td>\n",
       "    </tr>\n",
       "    <tr>\n",
       "      <th>2</th>\n",
       "      <td>철수,영이,연경</td>\n",
       "      <td>1</td>\n",
       "      <td>0.1</td>\n",
       "    </tr>\n",
       "    <tr>\n",
       "      <th>3</th>\n",
       "      <td>철수,둘리,흥민</td>\n",
       "      <td>1/3</td>\n",
       "      <td>0.1</td>\n",
       "    </tr>\n",
       "    <tr>\n",
       "      <th>4</th>\n",
       "      <td>철수,둘리,연경</td>\n",
       "      <td>2/3</td>\n",
       "      <td>0.1</td>\n",
       "    </tr>\n",
       "    <tr>\n",
       "      <th>5</th>\n",
       "      <td>철수,흥민,연경</td>\n",
       "      <td>2/3</td>\n",
       "      <td>0.1</td>\n",
       "    </tr>\n",
       "    <tr>\n",
       "      <th>6</th>\n",
       "      <td>영이,둘리,흥민</td>\n",
       "      <td>1/3</td>\n",
       "      <td>0.1</td>\n",
       "    </tr>\n",
       "    <tr>\n",
       "      <th>7</th>\n",
       "      <td>영이,둘리,연경</td>\n",
       "      <td>2/3</td>\n",
       "      <td>0.1</td>\n",
       "    </tr>\n",
       "    <tr>\n",
       "      <th>8</th>\n",
       "      <td>영이,흥민,연경</td>\n",
       "      <td>2/3</td>\n",
       "      <td>0.1</td>\n",
       "    </tr>\n",
       "    <tr>\n",
       "      <th>9</th>\n",
       "      <td>둘리,흥민,연경</td>\n",
       "      <td>1/3</td>\n",
       "      <td>0.1</td>\n",
       "    </tr>\n",
       "  </tbody>\n",
       "</table>\n",
       "</div>"
      ],
      "text/plain": [
       "  sample(outcome) sample_rate  prob\n",
       "0        철수,영이,둘리         2/3   0.1\n",
       "1        철수,영이,흥민         2/3   0.1\n",
       "2        철수,영이,연경           1   0.1\n",
       "3        철수,둘리,흥민         1/3   0.1\n",
       "4        철수,둘리,연경         2/3   0.1\n",
       "5        철수,흥민,연경         2/3   0.1\n",
       "6        영이,둘리,흥민         1/3   0.1\n",
       "7        영이,둘리,연경         2/3   0.1\n",
       "8        영이,흥민,연경         2/3   0.1\n",
       "9        둘리,흥민,연경         1/3   0.1"
      ]
     },
     "execution_count": 5,
     "metadata": {},
     "output_type": "execute_result"
    }
   ],
   "source": [
    "sample_rate_dist = pd.DataFrame({\"sample(outcome)\" : all_possible_samples_text, \"sample_rate\" : sample_rate,\"prob\" : [0.1 for i in range(len(sample_rate))]})\n",
    "sample_rate_dist"
   ]
  },
  {
   "cell_type": "markdown",
   "id": "32cd4616",
   "metadata": {
    "id": "4Bth-9Xq68tD"
   },
   "source": [
    "- 크기가 5인 모집단에서 크기가 3인표본을 추출할 때, 특정한 하나의 표본이 추출될 확률(단,단순임의추출을 했다고 가정)?\n",
    "  - 1. 가능한 표본이 ${10}\\choose{3}$ = 10이고 \n",
    "  - 2. 단순임의추출 : 각표본을 추출할 확률은\n",
    "  모두 동일하므로 $0.1$\n"
   ]
  },
  {
   "cell_type": "markdown",
   "id": "e452649b",
   "metadata": {
    "id": "Op37NhHX7M7D"
   },
   "source": [
    "$$\n",
    "\\begin{aligned}\n",
    "&P(철수,영이,둘리) = P(철수,영이,연경) = \\dots = P(둘리,흥민,연경) = 1 \\\\\n",
    "&\\Leftrightarrow10P = 1 \\\\\n",
    "&\\Leftrightarrow P = 0.1\n",
    "\\end{aligned}\n",
    "$$\n",
    "\n"
   ]
  },
  {
   "cell_type": "markdown",
   "id": "adee5df3",
   "metadata": {
    "id": "QmzOTQyEFlC_"
   },
   "source": [
    "- 확률과정론으로부터 얻은 지식...\n",
    "  - $P(\\hat{\\theta} = \\frac{2}{3}) = P(\\{\\omega : \\hat{\\theta}^{-1}(\\omega) = \\frac{2}{3} \\})= 0.6$\n",
    "    - i.e. 표본통계량 = $\\frac{2}{3}$이 가능한 outcome(sample)은 총6가지 경우이며 확률은 각각 1이므로 $6 \\times 0.1 = 0.6$ \n",
    "  - $P(\\hat{\\theta} = 1) = P(\\{\\omega : \\hat\\theta^{-1}(\\omega) =1\\}) = 0.1$\n",
    "    - i.e.(표본통계량 = $1$이 가능한 outcome은 1가지 경우여서 확률은 0.1\n",
    "  - $P(\\hat{\\theta} = \\frac{1}{3}) = P(\\{\\omega : \\hat{\\theta}^{-1}(\\omega) = \\frac{1}{3} \\})= 0.3$\n",
    "    - i.e. 표본통계량 = $\\frac{1}{3}$이 가능한 outcome(sample)은 총3가지 경우이며 확률은 각각 1이므로 $3 \\times 0.1 = 0.3$ \n"
   ]
  },
  {
   "cell_type": "markdown",
   "id": "1b52068a",
   "metadata": {
    "id": "hCoVuaavAYzt"
   },
   "source": [
    "- 따라서 정확한 $\\hat\\theta$의 분포는\n",
    "  "
   ]
  },
  {
   "cell_type": "markdown",
   "id": "bbbe324a",
   "metadata": {
    "id": "zc71fB_X_0Yf"
   },
   "source": [
    "|$\\hat\\theta$|$\\frac{1}{3}$|$\\frac{2}{3}$|1|\n",
    "|---|---|---|---|\n",
    "|$P$|0.3|0.6|0.1|"
   ]
  },
  {
   "cell_type": "markdown",
   "id": "0ca8f206",
   "metadata": {
    "id": "ZN9RNbfLWbi1"
   },
   "source": [
    "## 통계량의 경험적 분포"
   ]
  },
  {
   "cell_type": "markdown",
   "id": "8f976b5c",
   "metadata": {
    "id": "-5IWouep839r"
   },
   "source": [
    "- 사실 통계량의 정확한 분포를 구하는 것은 불가능하다.\n",
    "  - 실제 문제에서는 모집단을 정확히 모르며 하나의 표본이 주어지기 떄문이다.(대부분) $\\to$ 따라서 단순임의추출을 통해 가능한 sample(outcome)을 모두 아는 것이 불가능\n",
    "  - 정확히 안다고 가정해도 모집단의 크기가 너무 크면 불가능하다. $\\to$ 가능한 모든 sample(outcome)의 조합이 너무 많기에 연산복잡도가 너무 크다.\n",
    "- 일단 이 포스팅에서는 모집단은 정확히 알고 크기가 너무 큰 경우에 통계량의 분포를 구해보는 과정을 다룬다.\n",
    "- 모집단의 크기가 너무 크다.<br>$\\to$ 가능한 모든 표본의 수가 ${N}\\choose{n}$ 개이다. <br>$\\to$ 가능한 모든 표본으로부터 통계량을 구하는 것은 컴퓨터로도 처리하기 어렵다\n",
    "- 정확한 표본통계량의 분포를 구하기 힘드니까 근사적으로라도 구할 수 없을까?"
   ]
  },
  {
   "cell_type": "markdown",
   "id": "cca7a191",
   "metadata": {
    "id": "74bw0UJqXQ3h"
   },
   "source": [
    "- 목적 \n",
    "  - 표본통계량의 정확한 분포는 구할 수 없으므로 표본통계량의 분포를 (근사적으로) 구한다.\n",
    "  - 근사적으로 구한 분포로부터 표본통계량의 확률적 성질,특징을 알아볼 수 있다.\n",
    "- How? : 경험적 분포를 구한다."
   ]
  },
  {
   "cell_type": "markdown",
   "id": "46f22d28",
   "metadata": {
    "id": "rX2-THxCYUTY"
   },
   "source": [
    "**(경험적 분포를 구하는 과정)**<br>\n",
    "- 문제 : 모집단의 크기 N = 10000이고 표본의 크기 n=100으로 할 때, 표본통계량(지지율)의 분포는 어떻게 되는가?\n",
    "  1. 모집단으로 부터 크기가 100인 표본을 `임의추출` 한다.(기억,랜덤샘플링,임의추출)\n",
    "  2. 표본으로부터 표본통계량 $\\hat\\theta$을 계산하고 기록한다.\n",
    "  3. 1,2,를 여러번 반복한다.\n",
    "    - 일반적으로 500이상\n",
    "    - 예를 들어 500번 반복하면 $\\hat\\theta_1,\\hat\\theta_2,\\hat\\theta_3...\\hat\\theta_{500}$을 얻었을 것이다.\n",
    "  4. 위에서 얻은 여러 개의 표본통계량으로 부터 경험적 분포를 구한다.\n",
    "\n",
    "\n"
   ]
  },
  {
   "cell_type": "markdown",
   "id": "1f8820b3",
   "metadata": {
    "id": "uan3J1uzZ88V"
   },
   "source": [
    "- 위와 같은 과정을 모의실험이라고 하며 모의실험을 통하여 얻은 분포를 `경험적 분포`라 한다.\n",
    "- 표본통계량의 경험적 분포는 정확한 분포와 매우 유사하다. \n",
    "- 따라서 표본통계량의 정확한 분포를 구할 수 없는 경우 표본통계량의 경험적 분포를 통하여 확률적 성질,특징을 알아볼 수 있다."
   ]
  },
  {
   "cell_type": "markdown",
   "id": "5097d057",
   "metadata": {
    "id": "LYgQs1pUgjNs"
   },
   "source": [
    "### 구현"
   ]
  },
  {
   "cell_type": "markdown",
   "id": "14c7c097",
   "metadata": {
    "id": "Frj0xv0FgoPv"
   },
   "source": [
    "- 지지율이 60%인 모집단이 있다고 할 때\n",
    "- 모의실험을 통해 크기가 100인 표본지지율의 경험적 분포를 구해보자."
   ]
  },
  {
   "cell_type": "code",
   "execution_count": 6,
   "id": "c8f580f7",
   "metadata": {
    "colab": {
     "base_uri": "https://localhost:8080/"
    },
    "id": "AMYwu5kQgXZE",
    "outputId": "46abc5a9-478d-4b75-fe6e-f940003dee57"
   },
   "outputs": [
    {
     "data": {
      "text/plain": [
       "0.6"
      ]
     },
     "execution_count": 6,
     "metadata": {},
     "output_type": "execute_result"
    }
   ],
   "source": [
    "# 모집단을 만든다.\n",
    "P = np.concatenate((np.ones(6000), np.zeros(4000)), axis=0)\n",
    "np.mean(P)"
   ]
  },
  {
   "cell_type": "markdown",
   "id": "5bff4d44",
   "metadata": {
    "id": "72A3o5lpg7kB"
   },
   "source": [
    "- 모집단 $P$는 np.array이다.\n",
    "- 따라서 단순임의추출하려면 np.random.choice사용"
   ]
  },
  {
   "cell_type": "code",
   "execution_count": 7,
   "id": "e9c251a7",
   "metadata": {
    "colab": {
     "base_uri": "https://localhost:8080/",
     "height": 423
    },
    "id": "NoRO1yrQgnDT",
    "outputId": "30d5722f-a8b2-439f-ae63-45cf8c952f0e"
   },
   "outputs": [
    {
     "data": {
      "text/html": [
       "<div>\n",
       "<style scoped>\n",
       "    .dataframe tbody tr th:only-of-type {\n",
       "        vertical-align: middle;\n",
       "    }\n",
       "\n",
       "    .dataframe tbody tr th {\n",
       "        vertical-align: top;\n",
       "    }\n",
       "\n",
       "    .dataframe thead th {\n",
       "        text-align: right;\n",
       "    }\n",
       "</style>\n",
       "<table border=\"1\" class=\"dataframe\">\n",
       "  <thead>\n",
       "    <tr style=\"text-align: right;\">\n",
       "      <th></th>\n",
       "      <th>sample_rate</th>\n",
       "    </tr>\n",
       "  </thead>\n",
       "  <tbody>\n",
       "    <tr>\n",
       "      <th>0</th>\n",
       "      <td>0.64</td>\n",
       "    </tr>\n",
       "    <tr>\n",
       "      <th>1</th>\n",
       "      <td>0.60</td>\n",
       "    </tr>\n",
       "    <tr>\n",
       "      <th>2</th>\n",
       "      <td>0.60</td>\n",
       "    </tr>\n",
       "    <tr>\n",
       "      <th>3</th>\n",
       "      <td>0.60</td>\n",
       "    </tr>\n",
       "    <tr>\n",
       "      <th>4</th>\n",
       "      <td>0.58</td>\n",
       "    </tr>\n",
       "    <tr>\n",
       "      <th>...</th>\n",
       "      <td>...</td>\n",
       "    </tr>\n",
       "    <tr>\n",
       "      <th>995</th>\n",
       "      <td>0.62</td>\n",
       "    </tr>\n",
       "    <tr>\n",
       "      <th>996</th>\n",
       "      <td>0.64</td>\n",
       "    </tr>\n",
       "    <tr>\n",
       "      <th>997</th>\n",
       "      <td>0.68</td>\n",
       "    </tr>\n",
       "    <tr>\n",
       "      <th>998</th>\n",
       "      <td>0.60</td>\n",
       "    </tr>\n",
       "    <tr>\n",
       "      <th>999</th>\n",
       "      <td>0.55</td>\n",
       "    </tr>\n",
       "  </tbody>\n",
       "</table>\n",
       "<p>1000 rows × 1 columns</p>\n",
       "</div>"
      ],
      "text/plain": [
       "     sample_rate\n",
       "0           0.64\n",
       "1           0.60\n",
       "2           0.60\n",
       "3           0.60\n",
       "4           0.58\n",
       "..           ...\n",
       "995         0.62\n",
       "996         0.64\n",
       "997         0.68\n",
       "998         0.60\n",
       "999         0.55\n",
       "\n",
       "[1000 rows x 1 columns]"
      ]
     },
     "execution_count": 7,
     "metadata": {},
     "output_type": "execute_result"
    }
   ],
   "source": [
    "B=1000\n",
    "n=100\n",
    "\n",
    "simulation_sample_rate = pd.DataFrame({\"sample_rate\":np.zeros(B)})\n",
    "for i in np.arange(B):\n",
    "  sample = np.random.choice(P,n,replace=False)\n",
    "  simulation_sample_rate.loc[i,\"sample_rate\"] = np.mean(sample)\n",
    "simulation_sample_rate"
   ]
  },
  {
   "cell_type": "markdown",
   "id": "698708e7",
   "metadata": {
    "id": "jh1FOV2ejZMz"
   },
   "source": [
    "### 확인"
   ]
  },
  {
   "cell_type": "code",
   "execution_count": 156,
   "id": "d7383d4b",
   "metadata": {
    "colab": {
     "base_uri": "https://localhost:8080/",
     "height": 450
    },
    "id": "SzQFYruCig06",
    "outputId": "44cfee7d-3c6a-4b74-c890-9bd587e4d637"
   },
   "outputs": [
    {
     "data": {
      "text/plain": [
       "<AxesSubplot:ylabel='Frequency'>"
      ]
     },
     "execution_count": 156,
     "metadata": {},
     "output_type": "execute_result"
    },
    {
     "data": {
      "image/png": "[encoded data removed]",
      "text/plain": [
       "<Figure size 640x480 with 1 Axes>"
      ]
     },
     "metadata": {},
     "output_type": "display_data"
    }
   ],
   "source": [
    "simulation_sample_rate.plot.hist()"
   ]
  },
  {
   "cell_type": "code",
   "execution_count": 157,
   "id": "21bca797",
   "metadata": {
    "colab": {
     "base_uri": "https://localhost:8080/",
     "height": 448
    },
    "id": "zbzFKjoCikY6",
    "outputId": "667255bd-3370-4c3b-b5ae-1b26ea36d2b3"
   },
   "outputs": [
    {
     "data": {
      "text/plain": [
       "<AxesSubplot:>"
      ]
     },
     "execution_count": 157,
     "metadata": {},
     "output_type": "execute_result"
    },
    {
     "data": {
      "image/png": "[encoded data removed]",
      "text/plain": [
       "<Figure size 640x480 with 1 Axes>"
      ]
     },
     "metadata": {},
     "output_type": "display_data"
    }
   ],
   "source": [
    "simulation_sample_rate.plot.box()"
   ]
  },
  {
   "cell_type": "markdown",
   "id": "0a10a7a9",
   "metadata": {
    "id": "BDoYG6EjkhTR"
   },
   "source": [
    "# 예제 : 공공자전거 자료에서 표본평균의 분포"
   ]
  },
  {
   "cell_type": "code",
   "execution_count": 158,
   "id": "16bd43b2",
   "metadata": {
    "id": "NNVWJG6Okf30"
   },
   "outputs": [],
   "source": [
    "url1 = \"https://ilovedata.github.io/teaching/bigdata2/data/seoul_bike_201909_3.csv\"\n",
    "bike = pd.read_csv(url1, encoding=\"CP949\")"
   ]
  },
  {
   "cell_type": "code",
   "execution_count": 159,
   "id": "a03d9c50",
   "metadata": {},
   "outputs": [
    {
     "data": {
      "text/html": [
       "<div>\n",
       "<style scoped>\n",
       "    .dataframe tbody tr th:only-of-type {\n",
       "        vertical-align: middle;\n",
       "    }\n",
       "\n",
       "    .dataframe tbody tr th {\n",
       "        vertical-align: top;\n",
       "    }\n",
       "\n",
       "    .dataframe thead th {\n",
       "        text-align: right;\n",
       "    }\n",
       "</style>\n",
       "<table border=\"1\" class=\"dataframe\">\n",
       "  <thead>\n",
       "    <tr style=\"text-align: right;\">\n",
       "      <th></th>\n",
       "      <th>자전거번호</th>\n",
       "      <th>대여일시</th>\n",
       "      <th>대여 대여소번호</th>\n",
       "      <th>대여 대여소명</th>\n",
       "      <th>대여거치대</th>\n",
       "      <th>반납일시</th>\n",
       "      <th>반납대여소번호</th>\n",
       "      <th>반납대여소명</th>\n",
       "      <th>반납거치대</th>\n",
       "      <th>이용시간</th>\n",
       "      <th>이용거리</th>\n",
       "    </tr>\n",
       "  </thead>\n",
       "  <tbody>\n",
       "    <tr>\n",
       "      <th>0</th>\n",
       "      <td>SPB-17003</td>\n",
       "      <td>2019-09-28 16:10:55</td>\n",
       "      <td>368</td>\n",
       "      <td>SK 서린빌딩 앞</td>\n",
       "      <td>4</td>\n",
       "      <td>2019-09-28 17:03:32</td>\n",
       "      <td>2002</td>\n",
       "      <td>노들역 1번출구</td>\n",
       "      <td>14</td>\n",
       "      <td>52</td>\n",
       "      <td>8940.0</td>\n",
       "    </tr>\n",
       "    <tr>\n",
       "      <th>1</th>\n",
       "      <td>SPB-14405</td>\n",
       "      <td>2019-09-28 16:48:16</td>\n",
       "      <td>2024</td>\n",
       "      <td>상도역 1번출구</td>\n",
       "      <td>3</td>\n",
       "      <td>2019-09-28 17:03:44</td>\n",
       "      <td>2002</td>\n",
       "      <td>노들역 1번출구</td>\n",
       "      <td>18</td>\n",
       "      <td>15</td>\n",
       "      <td>1910.0</td>\n",
       "    </tr>\n",
       "    <tr>\n",
       "      <th>2</th>\n",
       "      <td>SPB-18431</td>\n",
       "      <td>2019-09-28 16:59:54</td>\n",
       "      <td>2002</td>\n",
       "      <td>노들역 1번출구</td>\n",
       "      <td>10</td>\n",
       "      <td>2019-09-28 17:03:57</td>\n",
       "      <td>2002</td>\n",
       "      <td>노들역 1번출구</td>\n",
       "      <td>10</td>\n",
       "      <td>2</td>\n",
       "      <td>30.0</td>\n",
       "    </tr>\n",
       "    <tr>\n",
       "      <th>3</th>\n",
       "      <td>SPB-04853</td>\n",
       "      <td>2019-09-28 15:31:49</td>\n",
       "      <td>207</td>\n",
       "      <td>여의나루역 1번출구 앞</td>\n",
       "      <td>32</td>\n",
       "      <td>2019-09-28 17:10:12</td>\n",
       "      <td>2002</td>\n",
       "      <td>노들역 1번출구</td>\n",
       "      <td>19</td>\n",
       "      <td>98</td>\n",
       "      <td>9610.0</td>\n",
       "    </tr>\n",
       "    <tr>\n",
       "      <th>4</th>\n",
       "      <td>SPB-11122</td>\n",
       "      <td>2019-09-28 15:35:41</td>\n",
       "      <td>207</td>\n",
       "      <td>여의나루역 1번출구 앞</td>\n",
       "      <td>14</td>\n",
       "      <td>2019-09-28 17:10:37</td>\n",
       "      <td>2002</td>\n",
       "      <td>노들역 1번출구</td>\n",
       "      <td>18</td>\n",
       "      <td>90</td>\n",
       "      <td>9450.0</td>\n",
       "    </tr>\n",
       "    <tr>\n",
       "      <th>5</th>\n",
       "      <td>SPB-23089</td>\n",
       "      <td>2019-09-28 17:02:37</td>\n",
       "      <td>2003</td>\n",
       "      <td>사육신공원앞</td>\n",
       "      <td>5</td>\n",
       "      <td>2019-09-28 17:13:44</td>\n",
       "      <td>2002</td>\n",
       "      <td>노들역 1번출구</td>\n",
       "      <td>10</td>\n",
       "      <td>10</td>\n",
       "      <td>1410.0</td>\n",
       "    </tr>\n",
       "    <tr>\n",
       "      <th>6</th>\n",
       "      <td>SPB-15669</td>\n",
       "      <td>2019-09-28 16:17:54</td>\n",
       "      <td>2213</td>\n",
       "      <td>고속터미널역 5번출구 앞</td>\n",
       "      <td>7</td>\n",
       "      <td>2019-09-28 17:14:22</td>\n",
       "      <td>2002</td>\n",
       "      <td>노들역 1번출구</td>\n",
       "      <td>8</td>\n",
       "      <td>56</td>\n",
       "      <td>0.0</td>\n",
       "    </tr>\n",
       "    <tr>\n",
       "      <th>7</th>\n",
       "      <td>SPB-09727</td>\n",
       "      <td>2019-09-28 17:04:56</td>\n",
       "      <td>2002</td>\n",
       "      <td>노들역 1번출구</td>\n",
       "      <td>5</td>\n",
       "      <td>2019-09-28 17:17:10</td>\n",
       "      <td>2002</td>\n",
       "      <td>노들역 1번출구</td>\n",
       "      <td>17</td>\n",
       "      <td>11</td>\n",
       "      <td>380.0</td>\n",
       "    </tr>\n",
       "    <tr>\n",
       "      <th>8</th>\n",
       "      <td>SPB-10053</td>\n",
       "      <td>2019-09-28 16:59:45</td>\n",
       "      <td>2002</td>\n",
       "      <td>노들역 1번출구</td>\n",
       "      <td>3</td>\n",
       "      <td>2019-09-28 17:17:53</td>\n",
       "      <td>2002</td>\n",
       "      <td>노들역 1번출구</td>\n",
       "      <td>5</td>\n",
       "      <td>17</td>\n",
       "      <td>1080.0</td>\n",
       "    </tr>\n",
       "    <tr>\n",
       "      <th>9</th>\n",
       "      <td>SPB-14487</td>\n",
       "      <td>2019-09-28 16:01:41</td>\n",
       "      <td>2024</td>\n",
       "      <td>상도역 1번출구</td>\n",
       "      <td>5</td>\n",
       "      <td>2019-09-28 17:20:44</td>\n",
       "      <td>2002</td>\n",
       "      <td>노들역 1번출구</td>\n",
       "      <td>14</td>\n",
       "      <td>78</td>\n",
       "      <td>13870.0</td>\n",
       "    </tr>\n",
       "  </tbody>\n",
       "</table>\n",
       "</div>"
      ],
      "text/plain": [
       "       자전거번호                 대여일시  대여 대여소번호        대여 대여소명  대여거치대  \\\n",
       "0  SPB-17003  2019-09-28 16:10:55       368      SK 서린빌딩 앞      4   \n",
       "1  SPB-14405  2019-09-28 16:48:16      2024       상도역 1번출구      3   \n",
       "2  SPB-18431  2019-09-28 16:59:54      2002       노들역 1번출구     10   \n",
       "3  SPB-04853  2019-09-28 15:31:49       207   여의나루역 1번출구 앞     32   \n",
       "4  SPB-11122  2019-09-28 15:35:41       207   여의나루역 1번출구 앞     14   \n",
       "5  SPB-23089  2019-09-28 17:02:37      2003         사육신공원앞      5   \n",
       "6  SPB-15669  2019-09-28 16:17:54      2213  고속터미널역 5번출구 앞      7   \n",
       "7  SPB-09727  2019-09-28 17:04:56      2002       노들역 1번출구      5   \n",
       "8  SPB-10053  2019-09-28 16:59:45      2002       노들역 1번출구      3   \n",
       "9  SPB-14487  2019-09-28 16:01:41      2024       상도역 1번출구      5   \n",
       "\n",
       "                  반납일시  반납대여소번호    반납대여소명  반납거치대  이용시간     이용거리  \n",
       "0  2019-09-28 17:03:32     2002  노들역 1번출구     14    52   8940.0  \n",
       "1  2019-09-28 17:03:44     2002  노들역 1번출구     18    15   1910.0  \n",
       "2  2019-09-28 17:03:57     2002  노들역 1번출구     10     2     30.0  \n",
       "3  2019-09-28 17:10:12     2002  노들역 1번출구     19    98   9610.0  \n",
       "4  2019-09-28 17:10:37     2002  노들역 1번출구     18    90   9450.0  \n",
       "5  2019-09-28 17:13:44     2002  노들역 1번출구     10    10   1410.0  \n",
       "6  2019-09-28 17:14:22     2002  노들역 1번출구      8    56      0.0  \n",
       "7  2019-09-28 17:17:10     2002  노들역 1번출구     17    11    380.0  \n",
       "8  2019-09-28 17:17:53     2002  노들역 1번출구      5    17   1080.0  \n",
       "9  2019-09-28 17:20:44     2002  노들역 1번출구     14    78  13870.0  "
      ]
     },
     "execution_count": 159,
     "metadata": {},
     "output_type": "execute_result"
    }
   ],
   "source": [
    "bike.head(10)"
   ]
  },
  {
   "cell_type": "code",
   "execution_count": 160,
   "id": "1cdf84f2",
   "metadata": {},
   "outputs": [
    {
     "name": "stdout",
     "output_type": "stream",
     "text": [
      "<class 'pandas.core.frame.DataFrame'>\n",
      "RangeIndex: 407589 entries, 0 to 407588\n",
      "Data columns (total 11 columns):\n",
      " #   Column    Non-Null Count   Dtype  \n",
      "---  ------    --------------   -----  \n",
      " 0   자전거번호     407589 non-null  object \n",
      " 1   대여일시      407589 non-null  object \n",
      " 2   대여 대여소번호  407589 non-null  int64  \n",
      " 3   대여 대여소명   407589 non-null  object \n",
      " 4   대여거치대     407589 non-null  int64  \n",
      " 5   반납일시      407589 non-null  object \n",
      " 6   반납대여소번호   407589 non-null  int64  \n",
      " 7   반납대여소명    407589 non-null  object \n",
      " 8   반납거치대     407589 non-null  int64  \n",
      " 9   이용시간      407589 non-null  int64  \n",
      " 10  이용거리      407589 non-null  float64\n",
      "dtypes: float64(1), int64(5), object(5)\n",
      "memory usage: 34.2+ MB\n"
     ]
    }
   ],
   "source": [
    "bike.info()"
   ]
  },
  {
   "cell_type": "code",
   "execution_count": 161,
   "id": "3cddfc3f",
   "metadata": {},
   "outputs": [
    {
     "data": {
      "text/html": [
       "<div>\n",
       "<style scoped>\n",
       "    .dataframe tbody tr th:only-of-type {\n",
       "        vertical-align: middle;\n",
       "    }\n",
       "\n",
       "    .dataframe tbody tr th {\n",
       "        vertical-align: top;\n",
       "    }\n",
       "\n",
       "    .dataframe thead th {\n",
       "        text-align: right;\n",
       "    }\n",
       "</style>\n",
       "<table border=\"1\" class=\"dataframe\">\n",
       "  <thead>\n",
       "    <tr style=\"text-align: right;\">\n",
       "      <th></th>\n",
       "      <th>대여 대여소번호</th>\n",
       "      <th>대여거치대</th>\n",
       "      <th>반납대여소번호</th>\n",
       "      <th>반납거치대</th>\n",
       "      <th>이용시간</th>\n",
       "      <th>이용거리</th>\n",
       "    </tr>\n",
       "  </thead>\n",
       "  <tbody>\n",
       "    <tr>\n",
       "      <th>count</th>\n",
       "      <td>407589.000000</td>\n",
       "      <td>407589.000000</td>\n",
       "      <td>407589.000000</td>\n",
       "      <td>407589.000000</td>\n",
       "      <td>407589.000000</td>\n",
       "      <td>407589.000000</td>\n",
       "    </tr>\n",
       "    <tr>\n",
       "      <th>mean</th>\n",
       "      <td>1880.239587</td>\n",
       "      <td>7.180022</td>\n",
       "      <td>2513.636349</td>\n",
       "      <td>6.902335</td>\n",
       "      <td>30.156827</td>\n",
       "      <td>4253.336228</td>\n",
       "    </tr>\n",
       "    <tr>\n",
       "      <th>std</th>\n",
       "      <td>878.719112</td>\n",
       "      <td>5.262180</td>\n",
       "      <td>714.170698</td>\n",
       "      <td>4.898559</td>\n",
       "      <td>32.065934</td>\n",
       "      <td>5782.673901</td>\n",
       "    </tr>\n",
       "    <tr>\n",
       "      <th>min</th>\n",
       "      <td>101.000000</td>\n",
       "      <td>1.000000</td>\n",
       "      <td>2002.000000</td>\n",
       "      <td>1.000000</td>\n",
       "      <td>1.000000</td>\n",
       "      <td>0.000000</td>\n",
       "    </tr>\n",
       "    <tr>\n",
       "      <th>25%</th>\n",
       "      <td>1233.000000</td>\n",
       "      <td>3.000000</td>\n",
       "      <td>2177.000000</td>\n",
       "      <td>3.000000</td>\n",
       "      <td>8.000000</td>\n",
       "      <td>1200.000000</td>\n",
       "    </tr>\n",
       "    <tr>\n",
       "      <th>50%</th>\n",
       "      <td>2171.000000</td>\n",
       "      <td>6.000000</td>\n",
       "      <td>2303.000000</td>\n",
       "      <td>6.000000</td>\n",
       "      <td>18.000000</td>\n",
       "      <td>2380.000000</td>\n",
       "    </tr>\n",
       "    <tr>\n",
       "      <th>75%</th>\n",
       "      <td>2313.000000</td>\n",
       "      <td>10.000000</td>\n",
       "      <td>2619.000000</td>\n",
       "      <td>10.000000</td>\n",
       "      <td>43.000000</td>\n",
       "      <td>5130.000000</td>\n",
       "    </tr>\n",
       "    <tr>\n",
       "      <th>max</th>\n",
       "      <td>99999.000000</td>\n",
       "      <td>40.000000</td>\n",
       "      <td>99999.000000</td>\n",
       "      <td>39.000000</td>\n",
       "      <td>2479.000000</td>\n",
       "      <td>153490.000000</td>\n",
       "    </tr>\n",
       "  </tbody>\n",
       "</table>\n",
       "</div>"
      ],
      "text/plain": [
       "            대여 대여소번호          대여거치대        반납대여소번호          반납거치대  \\\n",
       "count  407589.000000  407589.000000  407589.000000  407589.000000   \n",
       "mean     1880.239587       7.180022    2513.636349       6.902335   \n",
       "std       878.719112       5.262180     714.170698       4.898559   \n",
       "min       101.000000       1.000000    2002.000000       1.000000   \n",
       "25%      1233.000000       3.000000    2177.000000       3.000000   \n",
       "50%      2171.000000       6.000000    2303.000000       6.000000   \n",
       "75%      2313.000000      10.000000    2619.000000      10.000000   \n",
       "max     99999.000000      40.000000   99999.000000      39.000000   \n",
       "\n",
       "                이용시간           이용거리  \n",
       "count  407589.000000  407589.000000  \n",
       "mean       30.156827    4253.336228  \n",
       "std        32.065934    5782.673901  \n",
       "min         1.000000       0.000000  \n",
       "25%         8.000000    1200.000000  \n",
       "50%        18.000000    2380.000000  \n",
       "75%        43.000000    5130.000000  \n",
       "max      2479.000000  153490.000000  "
      ]
     },
     "execution_count": 161,
     "metadata": {},
     "output_type": "execute_result"
    }
   ],
   "source": [
    "bike.describe()"
   ]
  },
  {
   "cell_type": "code",
   "execution_count": 162,
   "id": "e67c792c",
   "metadata": {
    "id": "MLRmjW4qjVZZ"
   },
   "outputs": [
    {
     "data": {
      "text/plain": [
       "(407589, 11)"
      ]
     },
     "execution_count": 162,
     "metadata": {},
     "output_type": "execute_result"
    }
   ],
   "source": [
    "bike.shape"
   ]
  },
  {
   "cell_type": "markdown",
   "id": "cbfd793c",
   "metadata": {},
   "source": [
    "- 2019년 9월 동안 서울특별시 공공자전거 대여 이력 자료\n",
    "- 2019년 9월 동안 서울특별시 공공자전거 대여 이력을 모두 모아놨으므로 `모집단`이다.\n",
    "- 관심있는 모수 : 이용거리의 평균\n"
   ]
  },
  {
   "cell_type": "markdown",
   "id": "3330971c",
   "metadata": {},
   "source": [
    "- 공공자전거 모집단에서 표본을 simple random sampling without replacement으로 여러번 추출하는 경우에 표본통계량의 경험적 분포를 구해보자.\n",
    "- 각각의 모든 표본의 크기가 최대 n=2000 개라면 표본의 크기에 비해 모집단의 크기가 상대적으로 매우 큼을 알 수 있다.\n",
    "- 이때 다음과 같은 주목할 만한 사실이 있다.\n",
    "    - 이 경우 비복원추출과 복원추출의 차이가 거의 없다.\n",
    "        - 복원추출과 비복원추출의 차이점은 한 번 뽑힌 개체가 또다시 뽑힐 수 있느냐는 것이다.\n",
    "        - 그러나 이 경우는 비복원추출을 해도 모집단이 너무 크기에 사실상 한 번 뽑힌 개체가 다시 뽑힐가능성이 매우작다.(0은 아니다.)\n",
    "        - 따라서 다시 뽑힐 가능성을 0으로 두고 하는 복원추출과 이 경우의 비복원추출은 사실상 같다."
   ]
  },
  {
   "cell_type": "markdown",
   "id": "358ee7ff",
   "metadata": {},
   "source": [
    "1. B = 1000, n = 50인 경우 표본비율의 경험적 분포."
   ]
  },
  {
   "cell_type": "code",
   "execution_count": 163,
   "id": "e163aca2",
   "metadata": {},
   "outputs": [
    {
     "data": {
      "text/html": [
       "<div>\n",
       "<style scoped>\n",
       "    .dataframe tbody tr th:only-of-type {\n",
       "        vertical-align: middle;\n",
       "    }\n",
       "\n",
       "    .dataframe tbody tr th {\n",
       "        vertical-align: top;\n",
       "    }\n",
       "\n",
       "    .dataframe thead th {\n",
       "        text-align: right;\n",
       "    }\n",
       "</style>\n",
       "<table border=\"1\" class=\"dataframe\">\n",
       "  <thead>\n",
       "    <tr style=\"text-align: right;\">\n",
       "      <th></th>\n",
       "      <th>sample_means</th>\n",
       "    </tr>\n",
       "  </thead>\n",
       "  <tbody>\n",
       "    <tr>\n",
       "      <th>0</th>\n",
       "      <td>6331.6</td>\n",
       "    </tr>\n",
       "    <tr>\n",
       "      <th>1</th>\n",
       "      <td>3449.2</td>\n",
       "    </tr>\n",
       "    <tr>\n",
       "      <th>2</th>\n",
       "      <td>3372.0</td>\n",
       "    </tr>\n",
       "    <tr>\n",
       "      <th>3</th>\n",
       "      <td>4369.2</td>\n",
       "    </tr>\n",
       "    <tr>\n",
       "      <th>4</th>\n",
       "      <td>3487.6</td>\n",
       "    </tr>\n",
       "    <tr>\n",
       "      <th>...</th>\n",
       "      <td>...</td>\n",
       "    </tr>\n",
       "    <tr>\n",
       "      <th>995</th>\n",
       "      <td>4048.8</td>\n",
       "    </tr>\n",
       "    <tr>\n",
       "      <th>996</th>\n",
       "      <td>5155.4</td>\n",
       "    </tr>\n",
       "    <tr>\n",
       "      <th>997</th>\n",
       "      <td>4827.6</td>\n",
       "    </tr>\n",
       "    <tr>\n",
       "      <th>998</th>\n",
       "      <td>4630.6</td>\n",
       "    </tr>\n",
       "    <tr>\n",
       "      <th>999</th>\n",
       "      <td>3173.8</td>\n",
       "    </tr>\n",
       "  </tbody>\n",
       "</table>\n",
       "<p>1000 rows × 1 columns</p>\n",
       "</div>"
      ],
      "text/plain": [
       "     sample_means\n",
       "0          6331.6\n",
       "1          3449.2\n",
       "2          3372.0\n",
       "3          4369.2\n",
       "4          3487.6\n",
       "..            ...\n",
       "995        4048.8\n",
       "996        5155.4\n",
       "997        4827.6\n",
       "998        4630.6\n",
       "999        3173.8\n",
       "\n",
       "[1000 rows x 1 columns]"
      ]
     },
     "execution_count": 163,
     "metadata": {},
     "output_type": "execute_result"
    }
   ],
   "source": [
    "B=1000\n",
    "n=50\n",
    "\n",
    "sample_means_50 = pd.DataFrame({\"sample_means\":np.zeros(B)})\n",
    "for i in np.arange(B):\n",
    "    sample_means_50.loc[i,\"sample_means\"] = bike.sample(n=n,replace=False)[\"이용거리\"].mean() \n",
    "    #이 부분 sample하고 column index위치 바꾸면 안됨\n",
    "sample_means_50"
   ]
  },
  {
   "cell_type": "code",
   "execution_count": 164,
   "id": "aa86b35f",
   "metadata": {},
   "outputs": [
    {
     "data": {
      "text/plain": [
       "<AxesSubplot:ylabel='Frequency'>"
      ]
     },
     "execution_count": 164,
     "metadata": {},
     "output_type": "execute_result"
    },
    {
     "data": {
      "image/png": "[encoded data removed]",
      "text/plain": [
       "<Figure size 640x480 with 1 Axes>"
      ]
     },
     "metadata": {},
     "output_type": "display_data"
    }
   ],
   "source": [
    "sample_means_50.plot.hist(y=\"sample_means\")"
   ]
  },
  {
   "cell_type": "code",
   "execution_count": 165,
   "id": "03208efb",
   "metadata": {},
   "outputs": [
    {
     "data": {
      "text/plain": [
       "<AxesSubplot:>"
      ]
     },
     "execution_count": 165,
     "metadata": {},
     "output_type": "execute_result"
    },
    {
     "data": {
      "image/png": "[encoded data removed]",
      "text/plain": [
       "<Figure size 640x480 with 1 Axes>"
      ]
     },
     "metadata": {},
     "output_type": "display_data"
    }
   ],
   "source": [
    "sample_means_50.plot.box(y=\"sample_means\")"
   ]
  },
  {
   "cell_type": "markdown",
   "id": "579cc40b",
   "metadata": {},
   "source": [
    "2. B=1000,n=1000 표본비율의 경험적 분포"
   ]
  },
  {
   "cell_type": "code",
   "execution_count": 166,
   "id": "c12228e9",
   "metadata": {},
   "outputs": [
    {
     "data": {
      "text/html": [
       "<div>\n",
       "<style scoped>\n",
       "    .dataframe tbody tr th:only-of-type {\n",
       "        vertical-align: middle;\n",
       "    }\n",
       "\n",
       "    .dataframe tbody tr th {\n",
       "        vertical-align: top;\n",
       "    }\n",
       "\n",
       "    .dataframe thead th {\n",
       "        text-align: right;\n",
       "    }\n",
       "</style>\n",
       "<table border=\"1\" class=\"dataframe\">\n",
       "  <thead>\n",
       "    <tr style=\"text-align: right;\">\n",
       "      <th></th>\n",
       "      <th>sample_means</th>\n",
       "    </tr>\n",
       "  </thead>\n",
       "  <tbody>\n",
       "    <tr>\n",
       "      <th>0</th>\n",
       "      <td>4415.75</td>\n",
       "    </tr>\n",
       "    <tr>\n",
       "      <th>1</th>\n",
       "      <td>4384.23</td>\n",
       "    </tr>\n",
       "    <tr>\n",
       "      <th>2</th>\n",
       "      <td>4409.41</td>\n",
       "    </tr>\n",
       "    <tr>\n",
       "      <th>3</th>\n",
       "      <td>3903.12</td>\n",
       "    </tr>\n",
       "    <tr>\n",
       "      <th>4</th>\n",
       "      <td>4010.64</td>\n",
       "    </tr>\n",
       "    <tr>\n",
       "      <th>...</th>\n",
       "      <td>...</td>\n",
       "    </tr>\n",
       "    <tr>\n",
       "      <th>995</th>\n",
       "      <td>4464.98</td>\n",
       "    </tr>\n",
       "    <tr>\n",
       "      <th>996</th>\n",
       "      <td>4361.14</td>\n",
       "    </tr>\n",
       "    <tr>\n",
       "      <th>997</th>\n",
       "      <td>4693.28</td>\n",
       "    </tr>\n",
       "    <tr>\n",
       "      <th>998</th>\n",
       "      <td>4451.37</td>\n",
       "    </tr>\n",
       "    <tr>\n",
       "      <th>999</th>\n",
       "      <td>4372.24</td>\n",
       "    </tr>\n",
       "  </tbody>\n",
       "</table>\n",
       "<p>1000 rows × 1 columns</p>\n",
       "</div>"
      ],
      "text/plain": [
       "     sample_means\n",
       "0         4415.75\n",
       "1         4384.23\n",
       "2         4409.41\n",
       "3         3903.12\n",
       "4         4010.64\n",
       "..            ...\n",
       "995       4464.98\n",
       "996       4361.14\n",
       "997       4693.28\n",
       "998       4451.37\n",
       "999       4372.24\n",
       "\n",
       "[1000 rows x 1 columns]"
      ]
     },
     "execution_count": 166,
     "metadata": {},
     "output_type": "execute_result"
    }
   ],
   "source": [
    "B=1000\n",
    "n=1000\n",
    "\n",
    "sample_means_1000 = pd.DataFrame({\"sample_means\" : np.zeros(B)})\n",
    "for i in np.arange(B):\n",
    "    sample_means_1000.loc[i,\"sample_means\"] = bike.sample(n=n,replace=False)[\"이용거리\"].mean()\n",
    "sample_means_1000"
   ]
  },
  {
   "cell_type": "code",
   "execution_count": 167,
   "id": "8cc82922",
   "metadata": {},
   "outputs": [
    {
     "data": {
      "text/plain": [
       "<AxesSubplot:ylabel='Frequency'>"
      ]
     },
     "execution_count": 167,
     "metadata": {},
     "output_type": "execute_result"
    },
    {
     "data": {
      "image/png": "[encoded data removed]",
      "text/plain": [
       "<Figure size 640x480 with 1 Axes>"
      ]
     },
     "metadata": {},
     "output_type": "display_data"
    }
   ],
   "source": [
    "sample_means_1000.plot.hist(y=\"sample_means\")"
   ]
  },
  {
   "cell_type": "code",
   "execution_count": 168,
   "id": "c8165031",
   "metadata": {},
   "outputs": [
    {
     "data": {
      "text/plain": [
       "<AxesSubplot:>"
      ]
     },
     "execution_count": 168,
     "metadata": {},
     "output_type": "execute_result"
    },
    {
     "data": {
      "image/png": "[encoded data removed]",
      "text/plain": [
       "<Figure size 640x480 with 1 Axes>"
      ]
     },
     "metadata": {},
     "output_type": "display_data"
    }
   ],
   "source": [
    "sample_means_1000.plot.box(y=\"sample_means\")"
   ]
  },
  {
   "cell_type": "markdown",
   "id": "327fe6f5",
   "metadata": {},
   "source": [
    "$n= 50$ vs $n = 1000$"
   ]
  },
  {
   "cell_type": "code",
   "execution_count": 169,
   "id": "d2debebb",
   "metadata": {},
   "outputs": [
    {
     "data": {
      "text/plain": [
       "(2000.0, 9000.0)"
      ]
     },
     "execution_count": 169,
     "metadata": {},
     "output_type": "execute_result"
    },
    {
     "data": {
      "image/png": "[encoded data removed]",
      "text/plain": [
       "<Figure size 2000x1000 with 2 Axes>"
      ]
     },
     "metadata": {},
     "output_type": "display_data"
    }
   ],
   "source": [
    "f,ax = plt.subplots(1,2,figsize=(20,10))\n",
    "\n",
    "plt.subplot(1,2,1)\n",
    "plt.boxplot(sample_means_50)\n",
    "plt.hlines(y=4253.336228, xmin=0.5, xmax=1.5, colors='r')\n",
    "plt.ylim(2000,9000)\n",
    "\n",
    "plt.subplot(1,2,2)\n",
    "plt.boxplot(sample_means_1000)\n",
    "plt.hlines(y=4253.336228, xmin=0.5, xmax=1.5, colors='r')\n",
    "plt.ylim(2000,9000)"
   ]
  },
  {
   "cell_type": "code",
   "execution_count": 213,
   "id": "c410bfa2",
   "metadata": {},
   "outputs": [
    {
     "data": {
      "image/png": "[encoded data removed]",
      "text/plain": [
       "<Figure size 640x480 with 1 Axes>"
      ]
     },
     "metadata": {},
     "output_type": "display_data"
    }
   ],
   "source": [
    "plt.hist(sample_means_50,bins=50)\n",
    "plt.hist(sample_means_1000,bins=50)\n",
    "plt.show()"
   ]
  },
  {
   "cell_type": "markdown",
   "id": "4bee6919",
   "metadata": {},
   "source": [
    "- 표본의 크기가 1000인 경우 표본평균의 경험적 분포는 50인 경우보다 좌우 대칭인 종모양(정규분포)에 더 가까워 보인다.\n",
    "- 표본의 크기가 1000인 경우 표본평균의 경험적 분포는 50인 경우보다 분산이 작음."
   ]
  },
  {
   "cell_type": "markdown",
   "id": "99fd4908",
   "metadata": {},
   "source": [
    "뭔가 규칙이 있는 거 같다. 표본의 크기 n이 커질수록 표본평균의 분포가 정규분포에 가깝고 분산이 적은거 같은데?<br>\n",
    "프로그래밍으로 확인해보자~"
   ]
  },
  {
   "cell_type": "code",
   "execution_count": 226,
   "id": "39ec86f4",
   "metadata": {},
   "outputs": [
    {
     "data": {
      "text/html": [
       "<div>\n",
       "<style scoped>\n",
       "    .dataframe tbody tr th:only-of-type {\n",
       "        vertical-align: middle;\n",
       "    }\n",
       "\n",
       "    .dataframe tbody tr th {\n",
       "        vertical-align: top;\n",
       "    }\n",
       "\n",
       "    .dataframe thead th {\n",
       "        text-align: right;\n",
       "    }\n",
       "</style>\n",
       "<table border=\"1\" class=\"dataframe\">\n",
       "  <thead>\n",
       "    <tr style=\"text-align: right;\">\n",
       "      <th></th>\n",
       "      <th>sample_size</th>\n",
       "      <th>sample_means</th>\n",
       "    </tr>\n",
       "  </thead>\n",
       "  <tbody>\n",
       "    <tr>\n",
       "      <th>0</th>\n",
       "      <td>10.0</td>\n",
       "      <td>3517.0</td>\n",
       "    </tr>\n",
       "    <tr>\n",
       "      <th>1</th>\n",
       "      <td>10.0</td>\n",
       "      <td>3405.0</td>\n",
       "    </tr>\n",
       "    <tr>\n",
       "      <th>2</th>\n",
       "      <td>10.0</td>\n",
       "      <td>4661.0</td>\n",
       "    </tr>\n",
       "    <tr>\n",
       "      <th>3</th>\n",
       "      <td>10.0</td>\n",
       "      <td>3394.0</td>\n",
       "    </tr>\n",
       "    <tr>\n",
       "      <th>4</th>\n",
       "      <td>10.0</td>\n",
       "      <td>3390.0</td>\n",
       "    </tr>\n",
       "    <tr>\n",
       "      <th>5</th>\n",
       "      <td>10.0</td>\n",
       "      <td>3850.0</td>\n",
       "    </tr>\n",
       "    <tr>\n",
       "      <th>6</th>\n",
       "      <td>10.0</td>\n",
       "      <td>4766.0</td>\n",
       "    </tr>\n",
       "    <tr>\n",
       "      <th>7</th>\n",
       "      <td>10.0</td>\n",
       "      <td>3616.0</td>\n",
       "    </tr>\n",
       "    <tr>\n",
       "      <th>8</th>\n",
       "      <td>10.0</td>\n",
       "      <td>3018.0</td>\n",
       "    </tr>\n",
       "    <tr>\n",
       "      <th>9</th>\n",
       "      <td>10.0</td>\n",
       "      <td>2743.0</td>\n",
       "    </tr>\n",
       "  </tbody>\n",
       "</table>\n",
       "</div>"
      ],
      "text/plain": [
       "   sample_size  sample_means\n",
       "0         10.0        3517.0\n",
       "1         10.0        3405.0\n",
       "2         10.0        4661.0\n",
       "3         10.0        3394.0\n",
       "4         10.0        3390.0\n",
       "5         10.0        3850.0\n",
       "6         10.0        4766.0\n",
       "7         10.0        3616.0\n",
       "8         10.0        3018.0\n",
       "9         10.0        2743.0"
      ]
     },
     "execution_count": 226,
     "metadata": {},
     "output_type": "execute_result"
    }
   ],
   "source": [
    "B = 1000\n",
    "sample_sizes = [10,20,100,400,900,1200,1500,1800,2000]\n",
    "total_num = B * len(sample_sizes)\n",
    "\n",
    "emprical_dists=pd.DataFrame({\"sample_size\" : np.zeros(total_num),\"sample_means\" : np.zeros(total_num)})\n",
    "count = 0\n",
    "for n in sample_sizes:\n",
    "    for i in np.arange(B):\n",
    "        emprical_dists.loc[count,\"sample_means\"] =  bike.sample(n=n,replace=False)[\"이용거리\"].mean() #means아니라 mean\n",
    "        emprical_dists.loc[count,\"sample_size\"] =  n #means아니라 mean\n",
    "        count+=1\n",
    "emprical_dists.head(10)"
   ]
  },
  {
   "cell_type": "code",
   "execution_count": 231,
   "id": "dafd2325",
   "metadata": {},
   "outputs": [
    {
     "data": {
      "text/plain": [
       "(1000.0, 12000.0)"
      ]
     },
     "execution_count": 231,
     "metadata": {},
     "output_type": "execute_result"
    },
    {
     "data": {
      "image/png": "[encoded data removed]",
      "text/plain": [
       "<Figure size 640x480 with 1 Axes>"
      ]
     },
     "metadata": {},
     "output_type": "display_data"
    }
   ],
   "source": [
    "sns.boxplot(x=emprical_dists[\"sample_size\"],y=emprical_dists[\"sample_means\"])\n",
    "plt.ylim(1000,12000)"
   ]
  },
  {
   "cell_type": "code",
   "execution_count": 239,
   "id": "f434e117",
   "metadata": {},
   "outputs": [
    {
     "data": {
      "image/png": "[encoded data removed]",
      "text/plain": [
       "<Figure size 640x480 with 1 Axes>"
      ]
     },
     "metadata": {},
     "output_type": "display_data"
    }
   ],
   "source": [
    "plt.hist(emprical_dists.loc[emprical_dists.sample_size==900,\"sample_means\"],color=\"blue\",bins=15)\n",
    "plt.hist(emprical_dists.loc[emprical_dists.sample_size==1500,\"sample_means\"],color=\"green\",bins=15)\n",
    "plt.hist(emprical_dists.loc[emprical_dists.sample_size==2000,\"sample_means\"],color=\"red\",bins=15)\n",
    "plt.show()"
   ]
  },
  {
   "cell_type": "markdown",
   "id": "124aa72a",
   "metadata": {},
   "source": [
    "- box,hist plot으로부터\n",
    "    - 1. 표본의 크기 n이 클수록 표본평균의 분포가 정규분포로 가까워 지는 것처럼 보이고\n",
    "    - 2. 그때의 분산도 작아지는 것을 확인할 수 있다.\n",
    "- 사실 이 정리는 중심극한정리이다..!"
   ]
  },
  {
   "cell_type": "markdown",
   "id": "33283c3b",
   "metadata": {},
   "source": [
    "# 정리"
   ]
  },
  {
   "cell_type": "markdown",
   "id": "ab59ef09",
   "metadata": {},
   "source": [
    "- 표본통계량의 분포를 구하는 것은 중요하다.\n",
    "    - 모수를 구하는데에 핵심적인 정보이기에 특징,성질을 파악해야하고\n",
    "    - 추후에 나올 방법에 사용되기 때문이다.\n",
    "- 하지만 정확하게 구하는데에는 한계가 있다.\n",
    "    1. 실제 문제에서는 모집단을 정확히 모르며 하나의 표본이 주어지기 떄문이다.(대부분) $\\to$ 따라서 단순임의추출을 통해 가능한 sample(outcome)을 모두 아는 것이 불가능\n",
    "    2. 정확히 안다고 가정해도 모집단의 크기가 너무 크면 불가능하다. $\\to$ 가능한 모든 sample(outcome)의 조합이 너무 많기에 연산복잡도가 너무 크다.\n",
    "- 따라서 이번 포스팅에서는 모집단을 정확히 아는 경우에 한해서 정확한 분포를 근사하는 경험적분포를 통해 표본통계량의 분포를 구했다.\n",
    "- 분포를 구해본 결과 그 과정에서 표본의 크기가 커질수록\n",
    "    - 정규분포에 가까워지고\n",
    "    - 분산이 작아졌다.\n",
    "    - 이는 사실 중심극한정리(CLT)이다.\n",
    "- 여기까지 이번 포스팅의 내용..\n",
    "- 하지만 실제문제상황에서 우리에게 주어지는 것은 단 하나의 표본뿐이다.\n",
    "- 이러한 상황에서는 표본통계량의 분포를 어떻게 구하는가? ... 다음 포스팅에서 ..."
   ]
  },
  {
   "cell_type": "code",
   "execution_count": null,
   "id": "d20fd4d2",
   "metadata": {},
   "outputs": [],
   "source": []
  }
 ],
 "metadata": {
  "kernelspec": {
   "display_name": "Python 3 (ipykernel)",
   "language": "python",
   "name": "python3"
  },
  "language_info": {
   "codemirror_mode": {
    "name": "ipython",
    "version": 3
   },
   "file_extension": ".py",
   "mimetype": "text/x-python",
   "name": "python",
   "nbconvert_exporter": "python",
   "pygments_lexer": "ipython3",
   "version": "3.9.13"
  },
  "toc": {
   "base_numbering": 1,
   "nav_menu": {},
   "number_sections": true,
   "sideBar": true,
   "skip_h1_title": false,
   "title_cell": "Table of Contents",
   "title_sidebar": "Contents",
   "toc_cell": false,
   "toc_position": {
    "height": "calc(100% - 180px)",
    "left": "10px",
    "top": "150px",
    "width": "284.444px"
   },
   "toc_section_display": true,
   "toc_window_display": true
  }
 },
 "nbformat": 4,
 "nbformat_minor": 5
}
