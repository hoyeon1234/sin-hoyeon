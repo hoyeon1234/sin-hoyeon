{
 "cells": [
  {
   "cell_type": "code",
   "execution_count": 1,
   "metadata": {
    "id": "aL7qabWW6xK6"
   },
   "outputs": [],
   "source": [
    "import pandas as pd\n",
    "import numpy as np\n",
    "\n",
    "import matplotlib.pyplot as plt\n",
    "import seaborn as sns"
   ]
  },
  {
   "cell_type": "code",
   "execution_count": 2,
   "metadata": {
    "colab": {
     "base_uri": "https://localhost:8080/"
    },
    "id": "cStjI_TR6x8E",
    "outputId": "3a17c163-4317-4709-8f8d-fc29ab0496c8"
   },
   "outputs": [
    {
     "data": {
      "text/plain": [
       "['철수,영이,둘리',\n",
       " '철수,영이,흥민',\n",
       " '철수,영이,연경',\n",
       " '철수,둘리,흥민',\n",
       " '철수,둘리,연경',\n",
       " '철수,흥민,연경',\n",
       " '영이,둘리,흥민',\n",
       " '영이,둘리,연경',\n",
       " '영이,흥민,연경',\n",
       " '둘리,흥민,연경']"
      ]
     },
     "execution_count": 2,
     "metadata": {},
     "output_type": "execute_result"
    }
   ],
   "source": [
    "from itertools import combinations\n",
    "\n",
    "P = ['철수', '영이', '둘리', '흥민', '연경'] \n",
    "\n",
    "N = len(P)\n",
    "n = 3\n",
    "\n",
    "all_possible_samples = []\n",
    "all_possible_samples_text = []\n",
    "\n",
    "for sample in combinations(P, n):\n",
    "  all_possible_samples.append(sample)\n",
    "  txt = \"\"\n",
    "  for i,name in enumerate(sample):\n",
    "    if i == len(sample) -1:\n",
    "      txt += name\n",
    "    else:\n",
    "      txt+= name + \",\"\n",
    "  all_possible_samples_text.append(txt)\n",
    "all_possible_samples_text"
   ]
  },
  {
   "cell_type": "code",
   "execution_count": null,
   "metadata": {
    "colab": {
     "base_uri": "https://localhost:8080/"
    },
    "id": "R1MsNWV066LT",
    "outputId": "d64e2e26-bc9a-449e-8f7f-97412dba13de"
   },
   "outputs": [
    {
     "data": {
      "text/plain": [
       "10"
      ]
     },
     "execution_count": 3,
     "metadata": {},
     "output_type": "execute_result"
    }
   ],
   "source": [
    "all_possible_num = len(all_possible_samples)\n",
    "all_possible_num"
   ]
  },
  {
   "cell_type": "markdown",
   "metadata": {
    "id": "MTMJrKex9Fvm"
   },
   "source": [
    "## 통계량의 정확한 분포"
   ]
  },
  {
   "cell_type": "markdown",
   "metadata": {
    "id": "mdCYlWU19XGG"
   },
   "source": [
    "- 우리가 궁극적으로 알고자 하는 것은 모집단의 특성값인 모수이다.\n",
    "- 모수를 구하기 위해 우리는 표본으로부터 얻은 표본통계량을 이용한다.\n",
    "- 그러므로 표본통계량에 (확률적)성질,특징에 대하여 이해해야 한다."
   ]
  },
  {
   "cell_type": "markdown",
   "metadata": {
    "id": "eROCyyz3YkTd"
   },
   "source": [
    "- 목적 : 모수를 구하기 위해 표본통계량을 사용하므로 표본통계량을 확률적 성질,특징을 확인해보자."
   ]
  },
  {
   "cell_type": "markdown",
   "metadata": {
    "id": "5PTMzHzMVXT9"
   },
   "source": [
    "- 표본은 모집단으로부터 임의적(random)으로 추출된다.\n",
    "- 따라서 표본으로부터 계산한 표본통계량도 random하며 확률변수이다.\n",
    "- 그렇다면 표본 통계량의 분포는 어떻게 되는가?\n",
    "    1. 가능한 모든 표본통계량의 값과\n",
    "    2. 각각의 값에 대응하는 확률을 알아야 한다."
   ]
  },
  {
   "cell_type": "markdown",
   "metadata": {
    "id": "UCgSsCES_TYJ"
   },
   "source": [
    "**(가능한 모든 표본 통계량의 값 구하기)**"
   ]
  },
  {
   "cell_type": "code",
   "execution_count": null,
   "metadata": {
    "colab": {
     "base_uri": "https://localhost:8080/"
    },
    "id": "pgVosPB7_dnl",
    "outputId": "382d849d-0554-4bf9-dfa4-56c4a9ccad97"
   },
   "outputs": [
    {
     "data": {
      "text/plain": [
       "[Fraction(2, 3),\n",
       " Fraction(2, 3),\n",
       " Fraction(1, 1),\n",
       " Fraction(1, 3),\n",
       " Fraction(2, 3),\n",
       " Fraction(2, 3),\n",
       " Fraction(1, 3),\n",
       " Fraction(2, 3),\n",
       " Fraction(2, 3),\n",
       " Fraction(1, 3)]"
      ]
     },
     "execution_count": 4,
     "metadata": {},
     "output_type": "execute_result"
    }
   ],
   "source": [
    "from fractions import Fraction\n",
    "\n",
    "support = {'철수':1, '영이':1, '둘리':0, '흥민':0, '연경':1}\n",
    "sample_rate = []\n",
    "for i,sample in enumerate(all_possible_samples):\n",
    "  total = 0\n",
    "  for obj in sample:\n",
    "    total += support[obj]\n",
    "  sample_rate.append(Fraction(total,3))\n",
    "\n",
    "sample_rate"
   ]
  },
  {
   "cell_type": "markdown",
   "metadata": {
    "id": "khpTES1tAVfX"
   },
   "source": [
    "**(각각의 표본통계량에 대응하는 확률 구하기)**\n",
    "- 아래의 데이터 프레임은 가능한 모든 표본으로부터 계산한 통계량과 각각의 표본이 뽑힐 수 있는 확률을 나타낸다.\n"
   ]
  },
  {
   "cell_type": "code",
   "execution_count": null,
   "metadata": {
    "colab": {
     "base_uri": "https://localhost:8080/",
     "height": 363
    },
    "id": "3aCxUsUUDAnB",
    "outputId": "ab8efc09-f5a7-4e5c-fa7c-5c4c0dc87e76"
   },
   "outputs": [
    {
     "data": {
      "text/html": [
       "\n",
       "  <div id=\"df-fe9317c1-0b4c-460d-b1f4-a552bae0e350\">\n",
       "    <div class=\"colab-df-container\">\n",
       "      <div>\n",
       "<style scoped>\n",
       "    .dataframe tbody tr th:only-of-type {\n",
       "        vertical-align: middle;\n",
       "    }\n",
       "\n",
       "    .dataframe tbody tr th {\n",
       "        vertical-align: top;\n",
       "    }\n",
       "\n",
       "    .dataframe thead th {\n",
       "        text-align: right;\n",
       "    }\n",
       "</style>\n",
       "<table border=\"1\" class=\"dataframe\">\n",
       "  <thead>\n",
       "    <tr style=\"text-align: right;\">\n",
       "      <th></th>\n",
       "      <th>sample(outcome)</th>\n",
       "      <th>sample_rate</th>\n",
       "      <th>prob</th>\n",
       "    </tr>\n",
       "  </thead>\n",
       "  <tbody>\n",
       "    <tr>\n",
       "      <th>0</th>\n",
       "      <td>철수,영이,둘리</td>\n",
       "      <td>2/3</td>\n",
       "      <td>0.1</td>\n",
       "    </tr>\n",
       "    <tr>\n",
       "      <th>1</th>\n",
       "      <td>철수,영이,흥민</td>\n",
       "      <td>2/3</td>\n",
       "      <td>0.1</td>\n",
       "    </tr>\n",
       "    <tr>\n",
       "      <th>2</th>\n",
       "      <td>철수,영이,연경</td>\n",
       "      <td>1</td>\n",
       "      <td>0.1</td>\n",
       "    </tr>\n",
       "    <tr>\n",
       "      <th>3</th>\n",
       "      <td>철수,둘리,흥민</td>\n",
       "      <td>1/3</td>\n",
       "      <td>0.1</td>\n",
       "    </tr>\n",
       "    <tr>\n",
       "      <th>4</th>\n",
       "      <td>철수,둘리,연경</td>\n",
       "      <td>2/3</td>\n",
       "      <td>0.1</td>\n",
       "    </tr>\n",
       "    <tr>\n",
       "      <th>5</th>\n",
       "      <td>철수,흥민,연경</td>\n",
       "      <td>2/3</td>\n",
       "      <td>0.1</td>\n",
       "    </tr>\n",
       "    <tr>\n",
       "      <th>6</th>\n",
       "      <td>영이,둘리,흥민</td>\n",
       "      <td>1/3</td>\n",
       "      <td>0.1</td>\n",
       "    </tr>\n",
       "    <tr>\n",
       "      <th>7</th>\n",
       "      <td>영이,둘리,연경</td>\n",
       "      <td>2/3</td>\n",
       "      <td>0.1</td>\n",
       "    </tr>\n",
       "    <tr>\n",
       "      <th>8</th>\n",
       "      <td>영이,흥민,연경</td>\n",
       "      <td>2/3</td>\n",
       "      <td>0.1</td>\n",
       "    </tr>\n",
       "    <tr>\n",
       "      <th>9</th>\n",
       "      <td>둘리,흥민,연경</td>\n",
       "      <td>1/3</td>\n",
       "      <td>0.1</td>\n",
       "    </tr>\n",
       "  </tbody>\n",
       "</table>\n",
       "</div>\n",
       "      <button class=\"colab-df-convert\" onclick=\"convertToInteractive('df-fe9317c1-0b4c-460d-b1f4-a552bae0e350')\"\n",
       "              title=\"Convert this dataframe to an interactive table.\"\n",
       "              style=\"display:none;\">\n",
       "        \n",
       "  <svg xmlns=\"http://www.w3.org/2000/svg\" height=\"24px\"viewBox=\"0 0 24 24\"\n",
       "       width=\"24px\">\n",
       "    <path d=\"M0 0h24v24H0V0z\" fill=\"none\"/>\n",
       "    <path d=\"M18.56 5.44l.94 2.06.94-2.06 2.06-.94-2.06-.94-.94-2.06-.94 2.06-2.06.94zm-11 1L8.5 8.5l.94-2.06 2.06-.94-2.06-.94L8.5 2.5l-.94 2.06-2.06.94zm10 10l.94 2.06.94-2.06 2.06-.94-2.06-.94-.94-2.06-.94 2.06-2.06.94z\"/><path d=\"M17.41 7.96l-1.37-1.37c-.4-.4-.92-.59-1.43-.59-.52 0-1.04.2-1.43.59L10.3 9.45l-7.72 7.72c-.78.78-.78 2.05 0 2.83L4 21.41c.39.39.9.59 1.41.59.51 0 1.02-.2 1.41-.59l7.78-7.78 2.81-2.81c.8-.78.8-2.07 0-2.86zM5.41 20L4 18.59l7.72-7.72 1.47 1.35L5.41 20z\"/>\n",
       "  </svg>\n",
       "      </button>\n",
       "      \n",
       "  <style>\n",
       "    .colab-df-container {\n",
       "      display:flex;\n",
       "      flex-wrap:wrap;\n",
       "      gap: 12px;\n",
       "    }\n",
       "\n",
       "    .colab-df-convert {\n",
       "      background-color: #E8F0FE;\n",
       "      border: none;\n",
       "      border-radius: 50%;\n",
       "      cursor: pointer;\n",
       "      display: none;\n",
       "      fill: #1967D2;\n",
       "      height: 32px;\n",
       "      padding: 0 0 0 0;\n",
       "      width: 32px;\n",
       "    }\n",
       "\n",
       "    .colab-df-convert:hover {\n",
       "      background-color: #E2EBFA;\n",
       "      box-shadow: 0px 1px 2px rgba(60, 64, 67, 0.3), 0px 1px 3px 1px rgba(60, 64, 67, 0.15);\n",
       "      fill: #174EA6;\n",
       "    }\n",
       "\n",
       "    [theme=dark] .colab-df-convert {\n",
       "      background-color: #3B4455;\n",
       "      fill: #D2E3FC;\n",
       "    }\n",
       "\n",
       "    [theme=dark] .colab-df-convert:hover {\n",
       "      background-color: #434B5C;\n",
       "      box-shadow: 0px 1px 3px 1px rgba(0, 0, 0, 0.15);\n",
       "      filter: drop-shadow(0px 1px 2px rgba(0, 0, 0, 0.3));\n",
       "      fill: #FFFFFF;\n",
       "    }\n",
       "  </style>\n",
       "\n",
       "      <script>\n",
       "        const buttonEl =\n",
       "          document.querySelector('#df-fe9317c1-0b4c-460d-b1f4-a552bae0e350 button.colab-df-convert');\n",
       "        buttonEl.style.display =\n",
       "          google.colab.kernel.accessAllowed ? 'block' : 'none';\n",
       "\n",
       "        async function convertToInteractive(key) {\n",
       "          const element = document.querySelector('#df-fe9317c1-0b4c-460d-b1f4-a552bae0e350');\n",
       "          const dataTable =\n",
       "            await google.colab.kernel.invokeFunction('convertToInteractive',\n",
       "                                                     [key], {});\n",
       "          if (!dataTable) return;\n",
       "\n",
       "          const docLinkHtml = 'Like what you see? Visit the ' +\n",
       "            '<a target=\"_blank\" href=https://colab.research.google.com/notebooks/data_table.ipynb>data table notebook</a>'\n",
       "            + ' to learn more about interactive tables.';\n",
       "          element.innerHTML = '';\n",
       "          dataTable['output_type'] = 'display_data';\n",
       "          await google.colab.output.renderOutput(dataTable, element);\n",
       "          const docLink = document.createElement('div');\n",
       "          docLink.innerHTML = docLinkHtml;\n",
       "          element.appendChild(docLink);\n",
       "        }\n",
       "      </script>\n",
       "    </div>\n",
       "  </div>\n",
       "  "
      ],
      "text/plain": [
       "  sample(outcome) sample_rate  prob\n",
       "0        철수,영이,둘리         2/3   0.1\n",
       "1        철수,영이,흥민         2/3   0.1\n",
       "2        철수,영이,연경           1   0.1\n",
       "3        철수,둘리,흥민         1/3   0.1\n",
       "4        철수,둘리,연경         2/3   0.1\n",
       "5        철수,흥민,연경         2/3   0.1\n",
       "6        영이,둘리,흥민         1/3   0.1\n",
       "7        영이,둘리,연경         2/3   0.1\n",
       "8        영이,흥민,연경         2/3   0.1\n",
       "9        둘리,흥민,연경         1/3   0.1"
      ]
     },
     "execution_count": 5,
     "metadata": {},
     "output_type": "execute_result"
    }
   ],
   "source": [
    "sample_rate_dist = pd.DataFrame({\"sample(outcome)\" : all_possible_samples_text, \"sample_rate\" : sample_rate,\"prob\" : [0.1 for i in range(len(sample_rate))]})\n",
    "sample_rate_dist"
   ]
  },
  {
   "cell_type": "markdown",
   "metadata": {
    "id": "4Bth-9Xq68tD"
   },
   "source": [
    "- 크기가 5인 모집단에서 크기가 3인표본을 추출할 때, 특정한 하나의 표본이 추출될 확률(단,단순임의추출을 했다고 가정)?\n",
    "  - 1. 가능한 표본이 ${10}\\choose{3}$ = 10이고 \n",
    "  - 2. 단순임의추출 : 각표본을 추출할 확률은\n",
    "  모두 동일하므로 $0.1$\n"
   ]
  },
  {
   "cell_type": "markdown",
   "metadata": {
    "id": "Op37NhHX7M7D"
   },
   "source": [
    "$$\n",
    "\\begin{aligned}\n",
    "&P(철수,영이,둘리) = P(철수,영이,연경) = \\dots = P(둘리,흥민,연경) = 1 \\\\\n",
    "&\\Leftrightarrow10P = 1 \\\\\n",
    "&\\Leftrightarrow P = 0.1\n",
    "\\end{aligned}\n",
    "$$\n",
    "\n"
   ]
  },
  {
   "cell_type": "markdown",
   "metadata": {
    "id": "QmzOTQyEFlC_"
   },
   "source": [
    "- 확률과정론으로부터 얻은 지식...\n",
    "  - $P(\\hat{\\theta} = \\frac{2}{3}) = P(\\{\\omega : \\hat{\\theta}^{-1}(\\omega) = \\frac{2}{3} \\})= 0.6$\n",
    "    - i.e. 표본통계량 = $\\frac{2}{3}$이 가능한 outcome(sample)은 총6가지 경우이며 확률은 각각 1이므로 $6 \\times 0.1 = 0.6$ \n",
    "  - $P(\\hat{\\theta} = 1) = P(\\{\\omega : \\hat\\theta^{-1}(\\omega) =1\\}) = 0.1$\n",
    "    - i.e.(표본통계량 = $1$이 가능한 outcome은 1가지 경우여서 확률은 0.1\n",
    "  - $P(\\hat{\\theta} = \\frac{1}{3}) = P(\\{\\omega : \\hat{\\theta}^{-1}(\\omega) = \\frac{1}{3} \\})= 0.3$\n",
    "    - i.e. 표본통계량 = $\\frac{1}{3}$이 가능한 outcome(sample)은 총3가지 경우이며 확률은 각각 1이므로 $3 \\times 0.1 = 0.3$ \n"
   ]
  },
  {
   "cell_type": "markdown",
   "metadata": {
    "id": "hCoVuaavAYzt"
   },
   "source": [
    "- 따라서 정확한 $\\hat\\theta$의 분포는\n",
    "  "
   ]
  },
  {
   "cell_type": "markdown",
   "metadata": {
    "id": "zc71fB_X_0Yf"
   },
   "source": [
    "|$\\hat\\theta$|$\\frac{1}{3}$|$\\frac{2}{3}$|1|\n",
    "|---|---|---|---|\n",
    "|$P$|0.3|0.6|0.1|"
   ]
  },
  {
   "cell_type": "markdown",
   "metadata": {
    "id": "ZN9RNbfLWbi1"
   },
   "source": [
    "## 통계량의 경험적 분포"
   ]
  },
  {
   "cell_type": "markdown",
   "metadata": {
    "id": "-5IWouep839r"
   },
   "source": [
    "- 사실 통계량의 정확한 분포를 구하는 것은 불가능하다.\n",
    "  - 실제 문제에서는 모집단 자체를 정확히 모를 뿐더러\n",
    "  - 정확히 안다고 할지라도 모집단의 크기가 너무 크면 불가능하다.\n",
    "- 모집단의 크기가 너무 크다.<br>$\\to$ 가능한 모든 표본의 수가 ${N}\\choose{n}$ 개이다. <br>$\\to$ 가능한 모든 표본으로부터 통계량을 구하는 것은 컴퓨터로도 처리하기 어렵다\n",
    "- 정확한 표본통계량의 분포를 구하기 힘드니까 근사적으로라도 구할 수 없을까?"
   ]
  },
  {
   "cell_type": "markdown",
   "metadata": {
    "id": "74bw0UJqXQ3h"
   },
   "source": [
    "- 목적 \n",
    "  - 표본통계량의 정확한 분포는 구할 수 없으므로 표본통계량의 분포를 (근사적으로) 구한다.\n",
    "  - 근사적으로 구한 분포로부터 표본통계량의 확률적 성질,특징을 알아볼 수 있다.\n",
    "- How? : 경험적 분포를 구한다."
   ]
  },
  {
   "cell_type": "markdown",
   "metadata": {
    "id": "rX2-THxCYUTY"
   },
   "source": [
    "**(경험적 분포를 구하는 과정)**<br>\n",
    "- 문제 : 모집단의 크기 N = 10000이고 표본의 크기 n=100으로 할 때, 표본통계량(지지율)의 분포는 어떻게 되는가?\n",
    "  1. 모집단으로 부터 크기가 100인 표본을 `임의추출` 한다.(기억,랜덤샘플링,임의추출)\n",
    "  2. 표본으로부터 표본통계량 $\\hat\\theta$을 계산하고 기록한다.\n",
    "  3. 1,2,를 여러번 반복한다.\n",
    "    - 일반적으로 500이상\n",
    "    - 예를 들어 500번 반복하면 $\\hat\\theta_1,\\hat\\theta_2,\\hat\\theta_3...\\hat\\theta_{500}$을 얻었을 것이다.\n",
    "  4. 위에서 얻은 여러 개의 표본통계량으로 부터 경험적 분포를 구한다.\n",
    "\n",
    "\n"
   ]
  },
  {
   "cell_type": "markdown",
   "metadata": {
    "id": "uan3J1uzZ88V"
   },
   "source": [
    "- 위와 같은 과정을 모의실험이라고 하며 모의실험을 통하여 얻은 분포를 `경험적 분포`라 한다.\n",
    "- 표본통계량의 경험적 분포는 정확한 분포와 매우 유사하다. \n",
    "- 따라서 표본통계량의 정확한 분포를 구할 수 없는 경우 표본통계량의 경험적 분포를 통하여 확률적 성질,특징을 알아볼 수 있다."
   ]
  },
  {
   "cell_type": "markdown",
   "metadata": {
    "id": "LYgQs1pUgjNs"
   },
   "source": [
    "### 구현"
   ]
  },
  {
   "cell_type": "markdown",
   "metadata": {
    "id": "Frj0xv0FgoPv"
   },
   "source": [
    "- 지지율이 60%인 모집단이 있다고 할 때\n",
    "- 모의실험을 통해 크기가 100인 표본지지율의 경험적 분포를 구해보자."
   ]
  },
  {
   "cell_type": "code",
   "execution_count": null,
   "metadata": {
    "colab": {
     "base_uri": "https://localhost:8080/"
    },
    "id": "AMYwu5kQgXZE",
    "outputId": "46abc5a9-478d-4b75-fe6e-f940003dee57"
   },
   "outputs": [
    {
     "data": {
      "text/plain": [
       "0.6"
      ]
     },
     "execution_count": 10,
     "metadata": {},
     "output_type": "execute_result"
    }
   ],
   "source": [
    "# 모집단을 만든다.\n",
    "P = np.concatenate((np.ones(6000), np.zeros(4000)), axis=0)\n",
    "np.mean(P)"
   ]
  },
  {
   "cell_type": "markdown",
   "metadata": {
    "id": "72A3o5lpg7kB"
   },
   "source": [
    "- 모집단 $P$는 np.array이다.\n",
    "- 따라서 단순임의추출하려면 np.random.choice사용"
   ]
  },
  {
   "cell_type": "code",
   "execution_count": null,
   "metadata": {
    "colab": {
     "base_uri": "https://localhost:8080/",
     "height": 423
    },
    "id": "NoRO1yrQgnDT",
    "outputId": "30d5722f-a8b2-439f-ae63-45cf8c952f0e"
   },
   "outputs": [
    {
     "data": {
      "text/html": [
       "\n",
       "  <div id=\"df-b1cde27e-cc95-43f5-abcf-36b0439b761f\">\n",
       "    <div class=\"colab-df-container\">\n",
       "      <div>\n",
       "<style scoped>\n",
       "    .dataframe tbody tr th:only-of-type {\n",
       "        vertical-align: middle;\n",
       "    }\n",
       "\n",
       "    .dataframe tbody tr th {\n",
       "        vertical-align: top;\n",
       "    }\n",
       "\n",
       "    .dataframe thead th {\n",
       "        text-align: right;\n",
       "    }\n",
       "</style>\n",
       "<table border=\"1\" class=\"dataframe\">\n",
       "  <thead>\n",
       "    <tr style=\"text-align: right;\">\n",
       "      <th></th>\n",
       "      <th>sample_rate</th>\n",
       "    </tr>\n",
       "  </thead>\n",
       "  <tbody>\n",
       "    <tr>\n",
       "      <th>0</th>\n",
       "      <td>0.47</td>\n",
       "    </tr>\n",
       "    <tr>\n",
       "      <th>1</th>\n",
       "      <td>0.62</td>\n",
       "    </tr>\n",
       "    <tr>\n",
       "      <th>2</th>\n",
       "      <td>0.55</td>\n",
       "    </tr>\n",
       "    <tr>\n",
       "      <th>3</th>\n",
       "      <td>0.59</td>\n",
       "    </tr>\n",
       "    <tr>\n",
       "      <th>4</th>\n",
       "      <td>0.63</td>\n",
       "    </tr>\n",
       "    <tr>\n",
       "      <th>...</th>\n",
       "      <td>...</td>\n",
       "    </tr>\n",
       "    <tr>\n",
       "      <th>995</th>\n",
       "      <td>0.60</td>\n",
       "    </tr>\n",
       "    <tr>\n",
       "      <th>996</th>\n",
       "      <td>0.61</td>\n",
       "    </tr>\n",
       "    <tr>\n",
       "      <th>997</th>\n",
       "      <td>0.59</td>\n",
       "    </tr>\n",
       "    <tr>\n",
       "      <th>998</th>\n",
       "      <td>0.55</td>\n",
       "    </tr>\n",
       "    <tr>\n",
       "      <th>999</th>\n",
       "      <td>0.60</td>\n",
       "    </tr>\n",
       "  </tbody>\n",
       "</table>\n",
       "<p>1000 rows × 1 columns</p>\n",
       "</div>\n",
       "      <button class=\"colab-df-convert\" onclick=\"convertToInteractive('df-b1cde27e-cc95-43f5-abcf-36b0439b761f')\"\n",
       "              title=\"Convert this dataframe to an interactive table.\"\n",
       "              style=\"display:none;\">\n",
       "        \n",
       "  <svg xmlns=\"http://www.w3.org/2000/svg\" height=\"24px\"viewBox=\"0 0 24 24\"\n",
       "       width=\"24px\">\n",
       "    <path d=\"M0 0h24v24H0V0z\" fill=\"none\"/>\n",
       "    <path d=\"M18.56 5.44l.94 2.06.94-2.06 2.06-.94-2.06-.94-.94-2.06-.94 2.06-2.06.94zm-11 1L8.5 8.5l.94-2.06 2.06-.94-2.06-.94L8.5 2.5l-.94 2.06-2.06.94zm10 10l.94 2.06.94-2.06 2.06-.94-2.06-.94-.94-2.06-.94 2.06-2.06.94z\"/><path d=\"M17.41 7.96l-1.37-1.37c-.4-.4-.92-.59-1.43-.59-.52 0-1.04.2-1.43.59L10.3 9.45l-7.72 7.72c-.78.78-.78 2.05 0 2.83L4 21.41c.39.39.9.59 1.41.59.51 0 1.02-.2 1.41-.59l7.78-7.78 2.81-2.81c.8-.78.8-2.07 0-2.86zM5.41 20L4 18.59l7.72-7.72 1.47 1.35L5.41 20z\"/>\n",
       "  </svg>\n",
       "      </button>\n",
       "      \n",
       "  <style>\n",
       "    .colab-df-container {\n",
       "      display:flex;\n",
       "      flex-wrap:wrap;\n",
       "      gap: 12px;\n",
       "    }\n",
       "\n",
       "    .colab-df-convert {\n",
       "      background-color: #E8F0FE;\n",
       "      border: none;\n",
       "      border-radius: 50%;\n",
       "      cursor: pointer;\n",
       "      display: none;\n",
       "      fill: #1967D2;\n",
       "      height: 32px;\n",
       "      padding: 0 0 0 0;\n",
       "      width: 32px;\n",
       "    }\n",
       "\n",
       "    .colab-df-convert:hover {\n",
       "      background-color: #E2EBFA;\n",
       "      box-shadow: 0px 1px 2px rgba(60, 64, 67, 0.3), 0px 1px 3px 1px rgba(60, 64, 67, 0.15);\n",
       "      fill: #174EA6;\n",
       "    }\n",
       "\n",
       "    [theme=dark] .colab-df-convert {\n",
       "      background-color: #3B4455;\n",
       "      fill: #D2E3FC;\n",
       "    }\n",
       "\n",
       "    [theme=dark] .colab-df-convert:hover {\n",
       "      background-color: #434B5C;\n",
       "      box-shadow: 0px 1px 3px 1px rgba(0, 0, 0, 0.15);\n",
       "      filter: drop-shadow(0px 1px 2px rgba(0, 0, 0, 0.3));\n",
       "      fill: #FFFFFF;\n",
       "    }\n",
       "  </style>\n",
       "\n",
       "      <script>\n",
       "        const buttonEl =\n",
       "          document.querySelector('#df-b1cde27e-cc95-43f5-abcf-36b0439b761f button.colab-df-convert');\n",
       "        buttonEl.style.display =\n",
       "          google.colab.kernel.accessAllowed ? 'block' : 'none';\n",
       "\n",
       "        async function convertToInteractive(key) {\n",
       "          const element = document.querySelector('#df-b1cde27e-cc95-43f5-abcf-36b0439b761f');\n",
       "          const dataTable =\n",
       "            await google.colab.kernel.invokeFunction('convertToInteractive',\n",
       "                                                     [key], {});\n",
       "          if (!dataTable) return;\n",
       "\n",
       "          const docLinkHtml = 'Like what you see? Visit the ' +\n",
       "            '<a target=\"_blank\" href=https://colab.research.google.com/notebooks/data_table.ipynb>data table notebook</a>'\n",
       "            + ' to learn more about interactive tables.';\n",
       "          element.innerHTML = '';\n",
       "          dataTable['output_type'] = 'display_data';\n",
       "          await google.colab.output.renderOutput(dataTable, element);\n",
       "          const docLink = document.createElement('div');\n",
       "          docLink.innerHTML = docLinkHtml;\n",
       "          element.appendChild(docLink);\n",
       "        }\n",
       "      </script>\n",
       "    </div>\n",
       "  </div>\n",
       "  "
      ],
      "text/plain": [
       "     sample_rate\n",
       "0           0.47\n",
       "1           0.62\n",
       "2           0.55\n",
       "3           0.59\n",
       "4           0.63\n",
       "..           ...\n",
       "995         0.60\n",
       "996         0.61\n",
       "997         0.59\n",
       "998         0.55\n",
       "999         0.60\n",
       "\n",
       "[1000 rows x 1 columns]"
      ]
     },
     "execution_count": 25,
     "metadata": {},
     "output_type": "execute_result"
    }
   ],
   "source": [
    "B=1000\n",
    "n=100\n",
    "\n",
    "simulation_sample_rate = pd.DataFrame({\"sample_rate\":np.zeros(B)})\n",
    "for i in np.arange(B):\n",
    "  sample = np.random.choice(P,n,replace=False)\n",
    "  simulation_sample_rate.loc[i,\"sample_rate\"] = np.mean(sample)\n",
    "simulation_sample_rate"
   ]
  },
  {
   "cell_type": "markdown",
   "metadata": {
    "id": "jh1FOV2ejZMz"
   },
   "source": [
    "### 확인"
   ]
  },
  {
   "cell_type": "code",
   "execution_count": null,
   "metadata": {
    "colab": {
     "base_uri": "https://localhost:8080/",
     "height": 450
    },
    "id": "SzQFYruCig06",
    "outputId": "44cfee7d-3c6a-4b74-c890-9bd587e4d637"
   },
   "outputs": [
    {
     "data": {
      "text/plain": [
       "<Axes: ylabel='Frequency'>"
      ]
     },
     "execution_count": 23,
     "metadata": {},
     "output_type": "execute_result"
    },
    {
     "data": {
      "image/png": "[encoded data removed]",
      "text/plain": [
       "<Figure size 640x480 with 1 Axes>"
      ]
     },
     "metadata": {},
     "output_type": "display_data"
    }
   ],
   "source": [
    "simulation_sample_rate.plot.hist()"
   ]
  },
  {
   "cell_type": "code",
   "execution_count": null,
   "metadata": {
    "colab": {
     "base_uri": "https://localhost:8080/",
     "height": 448
    },
    "id": "zbzFKjoCikY6",
    "outputId": "667255bd-3370-4c3b-b5ae-1b26ea36d2b3"
   },
   "outputs": [
    {
     "data": {
      "text/plain": [
       "<Axes: >"
      ]
     },
     "execution_count": 24,
     "metadata": {},
     "output_type": "execute_result"
    },
    {
     "data": {
      "image/png": "[encoded data removed]",
      "text/plain": [
       "<Figure size 640x480 with 1 Axes>"
      ]
     },
     "metadata": {},
     "output_type": "display_data"
    }
   ],
   "source": [
    "simulation_sample_rate.plot.box()"
   ]
  },
  {
   "cell_type": "markdown",
   "metadata": {
    "id": "BDoYG6EjkhTR"
   },
   "source": [
    "## 예제 : 공공자전거 자료에서 표본평균의 분포"
   ]
  },
  {
   "cell_type": "code",
   "execution_count": null,
   "metadata": {
    "id": "NNVWJG6Okf30"
   },
   "outputs": [],
   "source": [
    "url1 = \"https://ilovedata.github.io/teaching/bigdata2/data/seoul_bike_201909_3.csv\"\n",
    "bike = pd.read_csv(url1, encoding=\"CP949\")"
   ]
  },
  {
   "cell_type": "code",
   "execution_count": null,
   "metadata": {
    "id": "MLRmjW4qjVZZ"
   },
   "outputs": [],
   "source": []
  }
 ],
 "metadata": {
  "colab": {
   "provenance": []
  },
  "kernelspec": {
   "display_name": "Python 3 (ipykernel)",
   "language": "python",
   "name": "python3"
  },
  "language_info": {
   "codemirror_mode": {
    "name": "ipython",
    "version": 3
   },
   "file_extension": ".py",
   "mimetype": "text/x-python",
   "name": "python",
   "nbconvert_exporter": "python",
   "pygments_lexer": "ipython3",
   "version": "3.9.13"
  },
  "toc": {
   "base_numbering": 1,
   "nav_menu": {},
   "number_sections": true,
   "sideBar": true,
   "skip_h1_title": false,
   "title_cell": "Table of Contents",
   "title_sidebar": "Contents",
   "toc_cell": false,
   "toc_position": {},
   "toc_section_display": true,
   "toc_window_display": false
  }
 },
 "nbformat": 4,
 "nbformat_minor": 1
}
