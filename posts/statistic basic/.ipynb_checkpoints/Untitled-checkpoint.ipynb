{
 "cells": [
  {
   "cell_type": "code",
   "execution_count": 4,
   "id": "dfc3279a",
   "metadata": {},
   "outputs": [
    {
     "data": {
      "application/javascript": [
       "IPython.notebook.set_autosave_interval(20000)"
      ]
     },
     "metadata": {},
     "output_type": "display_data"
    },
    {
     "name": "stdout",
     "output_type": "stream",
     "text": [
      "Autosaving every 20 seconds\n"
     ]
    }
   ],
   "source": [
    "import numpy as np\n",
    "import pandas as pd\n",
    "import matplotlib.pyplot as plt\n",
    "\n",
    "%autosave 20"
   ]
  },
  {
   "cell_type": "markdown",
   "id": "865bd220",
   "metadata": {},
   "source": [
    "# 부트스트랩"
   ]
  },
  {
   "cell_type": "markdown",
   "id": "d6d5d0f6",
   "metadata": {},
   "source": [
    "- 지난번에 한 구간추정은 이런 과정이였음.\n",
    "    - 모집단으로부터 여러번 임의추출하여 여러개의 표본을 만들고\n",
    "    - 각각의 표본으로부터 추정량의 값인 추정값를 계산하고\n",
    "    - 계산된 추정값들로부터 추정량의 표준편차(또는 분산)을 구하고 + 중심극한정리(CLT)의 이론적 백업을 바탕으로\n",
    "    - 모수 $\\mu$에 대한 95% 신뢰구간을 제시\n",
    "        1. $\\mu$ 는 $\\hat\\theta \\pm 2SD$인 구간에 95%확률로 속할 것이다.\n",
    "        2. $\\mu - \\hat\\theta$의 차이는 95%확률로 $2SD$보다 작을 것이다.\n",
    "- 하지만 실전에서는 모집단에서 표본은 단 한번 추출함(시간과 비용)\n",
    "- 그러면 여러개의 추정값들을 얻을 수 없기에 추정량의 표준편차($SD$)를 못 구하는데 어떻게 해야할까?\n",
    "- 부트스트랩(bootstrap)을 통해 추정량의 표준편차를 구할 수 있음."
   ]
  },
  {
   "cell_type": "markdown",
   "id": "a40dbebb",
   "metadata": {},
   "source": [
    "- 부트스트랩의 목적 : 하나의 샘플만 주어진 상황에서 추정량의 표준편차$SD$를 구하여 구간추정을 할 수 있도록 하자.\n",
    "- 부트스트랩의 idea : 표본을 모집단처럼 이용하자!"
   ]
  },
  {
   "cell_type": "markdown",
   "id": "8cbd3924",
   "metadata": {},
   "source": [
    "그림"
   ]
  },
  {
   "cell_type": "markdown",
   "id": "16d6b2df",
   "metadata": {},
   "source": [
    "**(부트스트랩 과정)**\n",
    "1. 표본으로부터 재추출(resampling)을 통해 재표본(resample)을 만든다.\n",
    "2. (부트스트랩) 추정치를 구하고 기록한다.\n",
    "3. 1.2를 여러번 반복한다.\n",
    "4. 추정량의 분포를 근사하는 경험적 분포와 추정량의 표준편차 $SD$를 여러개의 추정치로부터 계산한다.!"
   ]
  },
  {
   "cell_type": "markdown",
   "id": "4720dc6b",
   "metadata": {},
   "source": [
    "**(유의해야 할 점)**\n",
    "- 재추출(resampling)만 유의하면 된다.\n",
    "    - 재추출은 표본으로부터 복원추출\n",
    "    - 표본과 재표본의 크기는 같아야 함.\n"
   ]
  },
  {
   "cell_type": "markdown",
   "id": "db064dab",
   "metadata": {},
   "source": []
  },
  {
   "cell_type": "markdown",
   "id": "5adfebe2",
   "metadata": {},
   "source": []
  },
  {
   "cell_type": "markdown",
   "id": "eeaab135",
   "metadata": {},
   "source": []
  },
  {
   "cell_type": "markdown",
   "id": "5cc08b55",
   "metadata": {},
   "source": []
  }
 ],
 "metadata": {
  "kernelspec": {
   "display_name": "Python 3 (ipykernel)",
   "language": "python",
   "name": "python3"
  },
  "language_info": {
   "codemirror_mode": {
    "name": "ipython",
    "version": 3
   },
   "file_extension": ".py",
   "mimetype": "text/x-python",
   "name": "python",
   "nbconvert_exporter": "python",
   "pygments_lexer": "ipython3",
   "version": "3.9.13"
  },
  "toc": {
   "base_numbering": 1,
   "nav_menu": {},
   "number_sections": true,
   "sideBar": true,
   "skip_h1_title": false,
   "title_cell": "Table of Contents",
   "title_sidebar": "Contents",
   "toc_cell": false,
   "toc_position": {},
   "toc_section_display": true,
   "toc_window_display": false
  }
 },
 "nbformat": 4,
 "nbformat_minor": 5
}
