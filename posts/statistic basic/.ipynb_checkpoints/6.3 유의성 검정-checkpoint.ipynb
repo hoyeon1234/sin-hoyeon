{
 "cells": [
  {
   "cell_type": "code",
   "execution_count": 1,
   "id": "b5f5e6a5",
   "metadata": {},
   "outputs": [
    {
     "data": {
      "application/javascript": [
       "IPython.notebook.set_autosave_interval(20000)"
      ]
     },
     "metadata": {},
     "output_type": "display_data"
    },
    {
     "name": "stdout",
     "output_type": "stream",
     "text": [
      "Autosaving every 20 seconds\n"
     ]
    }
   ],
   "source": [
    "import numpy as np\n",
    "import pandas as pd\n",
    "import matplotlib.pyplot as plt\n",
    "%autosave 20"
   ]
  },
  {
   "cell_type": "markdown",
   "id": "e1166914",
   "metadata": {},
   "source": [
    "컵 8개 중 차가 먼저 들어간 컵이4 우유가 먼저 들어간 컵이 4라고 하자."
   ]
  },
  {
   "cell_type": "markdown",
   "id": "793b822c",
   "metadata": {},
   "source": [
    "# 예시 - 1 4개중 3개 맞힘"
   ]
  },
  {
   "cell_type": "markdown",
   "id": "961279a3",
   "metadata": {},
   "source": [
    "- A는 차가 먼저 들어갔는지,우유가 먼저 들어갔는지 매우 잘 구분하는 특별한 사람인가?"
   ]
  },
  {
   "cell_type": "markdown",
   "id": "9a109551",
   "metadata": {},
   "source": [
    "## 1. 귀무가설 설정"
   ]
  },
  {
   "cell_type": "markdown",
   "id": "b1d90105",
   "metadata": {},
   "source": [
    "- A는 잘 구분하지 못하는 일반적인 사람이다"
   ]
  },
  {
   "cell_type": "markdown",
   "id": "02da65d5",
   "metadata": {},
   "source": [
    "## 2. 데이터 수집&관측 및 검정통계량 계산"
   ]
  },
  {
   "cell_type": "markdown",
   "id": "782f4359",
   "metadata": {},
   "source": [
    "- 동일하게, 컵 8개 중 차가 먼저 들어간 컵이4 우유가 먼저 들어간 컵이 4라고 하자."
   ]
  },
  {
   "cell_type": "markdown",
   "id": "e10a429e",
   "metadata": {},
   "source": [
    "- 수집한 데이터\n",
    "    - A는 차가 먼저 들어간 컵 4개 중 3개를 맞히고 하나만 틀림!\n",
    "    - 검정통계량을 차가 먼저 들어간 컵의 갯수로 정했을때 $n = 3$이다."
   ]
  },
  {
   "cell_type": "markdown",
   "id": "e8767e6e",
   "metadata": {},
   "source": [
    "## 3. P-value 계산"
   ]
  },
  {
   "cell_type": "markdown",
   "id": "2c492100",
   "metadata": {},
   "source": [
    "$$\n",
    "\\begin{aligned}\n",
    "P-value &= P(\\text{귀무가설 하에서 관측한 검정통계량}) + P(\\text{귀무가설 하에서 더 극단적인 경우가 나올 확률})\\\\\n",
    "&= P(\\text{귀무가설 하에서 n=3}) + P(\\text{귀무가설 하에서 n} > 3) \\\\\n",
    "&= \\frac{{{4}\\choose{3}}{{4}\\choose{1}}}{{8\\choose4}} + \\frac{{{4}\\choose{4}}{4\\choose0}}{{8\\choose4}} \\\\\n",
    "&= \\frac{4 \\times 4}{70} + \\frac{1\\times1}{70}\\\\\n",
    "&= \\frac{17}{70}\n",
    "\\end{aligned}\n",
    "$$\n",
    "  "
   ]
  },
  {
   "cell_type": "markdown",
   "id": "27e46604",
   "metadata": {},
   "source": [
    "- $n>3$보다 극단적인 경우는 4보다 없음."
   ]
  },
  {
   "cell_type": "code",
   "execution_count": 2,
   "id": "ed425f7c",
   "metadata": {},
   "outputs": [
    {
     "data": {
      "text/plain": [
       "0.24285714285714285"
      ]
     },
     "execution_count": 2,
     "metadata": {},
     "output_type": "execute_result"
    }
   ],
   "source": [
    "p_value = 17/70\n",
    "p_value"
   ]
  },
  {
   "cell_type": "markdown",
   "id": "e289bbec",
   "metadata": {},
   "source": [
    "## 4. P-value와 유의수준을 비교"
   ]
  },
  {
   "cell_type": "markdown",
   "id": "39297755",
   "metadata": {},
   "source": [
    "- 헷갈림 포인트\n",
    "- P_value는 관측한 값보다 극단적인 경우들의 확률, 내 data가 얼마나 일반적인지 알려줌\n",
    "- P_value는 부호가 헷갈림"
   ]
  },
  {
   "cell_type": "markdown",
   "id": "60b2dd97",
   "metadata": {},
   "source": [
    "$$\\text{P_value}= 0.2428 > 0.05$$"
   ]
  },
  {
   "cell_type": "markdown",
   "id": "acc3c98e",
   "metadata": {},
   "source": [
    "## 5. 기각여부 결정"
   ]
  },
  {
   "cell_type": "markdown",
   "id": "a1de8235",
   "metadata": {},
   "source": [
    "- 유의수준 0.05일 때 p-value가 0.05보다 크므로 귀무가설을 기각하지 못한다. 즉,A는 보통사람이다!"
   ]
  },
  {
   "cell_type": "markdown",
   "id": "8f574bfa",
   "metadata": {},
   "source": [
    "# 예시 - 1 20개 중 10개 맞힘"
   ]
  },
  {
   "cell_type": "markdown",
   "id": "93c6b23f",
   "metadata": {},
   "source": [
    "- 동일한 문제,A는 차와 우유 중 어느 것이 먼저 들어갔는지 아는 사람인가?"
   ]
  },
  {
   "cell_type": "markdown",
   "id": "5cd0c424",
   "metadata": {},
   "source": [
    "## 1. 귀무가설 설정"
   ]
  },
  {
   "cell_type": "markdown",
   "id": "adb39884",
   "metadata": {},
   "source": [
    "- A는 그냥 일반적인 사람이다. 어느게 먼저 들어갔는지 알지 못한다."
   ]
  },
  {
   "cell_type": "markdown",
   "id": "282ca26f",
   "metadata": {},
   "source": [
    "## 2. 데이터 수집&관측 및 검정통계량 계산"
   ]
  },
  {
   "cell_type": "markdown",
   "id": "dfc0f8de",
   "metadata": {},
   "source": [
    "- 이번에는 20개중 10개는 차를 먼저, 20개중 10개는 우유를 먼저 따랐다고 하자.\n",
    "- 수집한 데이터\n",
    "    - A는 10개 중 8개를 맞히고 2개를 틀림!\n",
    "    - 검정통계량을 차가 먼저 들어간 잔을 맞힌 갯수라 했을때, $n = 8$이다."
   ]
  },
  {
   "cell_type": "markdown",
   "id": "a341d7fb",
   "metadata": {},
   "source": [
    "## 3. P-value 계산"
   ]
  },
  {
   "cell_type": "markdown",
   "id": "a09fbf3f",
   "metadata": {},
   "source": [
    "**(이론적 계산)**"
   ]
  },
  {
   "cell_type": "markdown",
   "id": "0da3d899",
   "metadata": {},
   "source": [
    "$$\n",
    "\\begin{aligned}\n",
    "P-value &= P(\\text{귀무가설 하에서 관측한 검정통계량}) + P(\\text{귀무가설 하에서 더 극단적인 경우가 나올 확률})\\\\\n",
    "&= P(\\text{귀무가설 하에서 n=8}) + P(\\text{귀무가설 하에서 n} > 8) \\\\\n",
    "&= P(\\text{귀무가설 하에서 n=8}) + P(\\text{귀무가설 하에서 n} = 9) + P(\\text{귀무가설 하에서 n} = 10)\\\\\n",
    "&= \\frac{{{10}\\choose{8}}{{10}\\choose{2}}}{{20\\choose10}} + \\frac{{{10}\\choose{9}}{10\\choose1}}{{20\\choose10}} + \\frac{{10\\choose10}{{10\\choose0}}}{{20\\choose10}}\\\\\n",
    "\\end{aligned}\n",
    "$$\n",
    "  "
   ]
  },
  {
   "cell_type": "markdown",
   "id": "1178f8c3",
   "metadata": {},
   "source": [
    "**(경험적 계산)**"
   ]
  },
  {
   "cell_type": "markdown",
   "id": "0f469aa7",
   "metadata": {},
   "source": [
    "- 컵이 20개 10개는 차먼저, 10개는 우유먼저.\n",
    "- 귀무가설 하에서 $n$의 분포는?(i.e. A가 차먼저 우유먼저인지 판단할 수 없을때 $n$의 분포는?)"
   ]
  },
  {
   "cell_type": "code",
   "execution_count": 3,
   "id": "dae7ce0b",
   "metadata": {},
   "outputs": [],
   "source": [
    "n_cups = 20\n",
    "n_cups_milk_first = 10\n",
    "opposite = n_cups - n_cups_milk_first"
   ]
  },
  {
   "cell_type": "code",
   "execution_count": 4,
   "id": "eedb8f87",
   "metadata": {},
   "outputs": [
    {
     "data": {
      "text/plain": [
       "array([1., 1., 1., 1., 1., 1., 1., 1., 1., 1., 0., 0., 0., 0., 0., 0., 0.,\n",
       "       0., 0., 0.])"
      ]
     },
     "execution_count": 4,
     "metadata": {},
     "output_type": "execute_result"
    }
   ],
   "source": [
    "CUPS = np.concatenate((np.ones(n_cups_milk_first),np.zeros(opposite)))\n",
    "CUPS"
   ]
  },
  {
   "cell_type": "code",
   "execution_count": 5,
   "id": "25379576",
   "metadata": {},
   "outputs": [],
   "source": [
    "B = 100000\n",
    "observed_val = 8"
   ]
  },
  {
   "cell_type": "code",
   "execution_count": 6,
   "id": "296bd3b8",
   "metadata": {},
   "outputs": [],
   "source": [
    "milk_estimate = pd.DataFrame({\"milk\":np.zeros(B)})"
   ]
  },
  {
   "cell_type": "code",
   "execution_count": 7,
   "id": "cd2f80f9",
   "metadata": {},
   "outputs": [],
   "source": [
    "for i in np.arange(B):\n",
    "    sample_milk = np.random.choice(CUPS,10,replace=False)\n",
    "    milk_estimate.loc[i,\"milk\"] = np.sum(sample_milk)"
   ]
  },
  {
   "cell_type": "markdown",
   "id": "ce58dea8",
   "metadata": {},
   "source": [
    "## 4. P-value와 유의수준을 비교"
   ]
  },
  {
   "cell_type": "markdown",
   "id": "372e60ae",
   "metadata": {},
   "source": [
    "$$\\text{P_value}= 0.2428 > 0.05$$"
   ]
  },
  {
   "cell_type": "code",
   "execution_count": 8,
   "id": "0861dbed",
   "metadata": {},
   "outputs": [
    {
     "name": "stdout",
     "output_type": "stream",
     "text": [
      "0.01207\n"
     ]
    }
   ],
   "source": [
    "a,b = milk_estimate.loc[milk_estimate[\"milk\"] >= observed_val].shape\n",
    "pvalue = a/B\n",
    "print(pvalue)"
   ]
  },
  {
   "cell_type": "markdown",
   "id": "265be70e",
   "metadata": {},
   "source": [
    "## 5. 기각여부 결정"
   ]
  },
  {
   "cell_type": "markdown",
   "id": "fbed7333",
   "metadata": {},
   "source": [
    "- 유의수준 0.05일 때 p-value가 0.05보다 크므로 귀무가설을 기각하지 못한다. 즉,A는 보통사람이다!"
   ]
  },
  {
   "cell_type": "markdown",
   "id": "24dd6885",
   "metadata": {},
   "source": [
    "# 예시 - 쇼핑몰 알고리즘의 개선"
   ]
  },
  {
   "cell_type": "markdown",
   "id": "c2f0c8d7",
   "metadata": {},
   "source": [
    "온라인 쇼핑몰을 운영하는 회사가 2020년 매달에 임의로 1000명의 고객에 대하여 접속 기록을 분석하여 접속 후 장바구니에 상품을 저장했던 고객이 평균적으로 540명인 것을 알고있다.\n",
    "\n",
    "2021년 1월부터 고객이 장바구니를 선택하는 절차를 개선한 알고리즘을 새롭게 개발하고 온라인 쇼핑몰의 운용에 적용하였다.\n",
    "\n",
    "2021년 1월부터 10월까지 매월 임의로 1000명의 고객에 대하여 접속 기록을 분석하여 접속 후 장바구니에 상품을 저장했던 평균 고객 수가 620 명으로 늘어난 사실을 확인하였다.\n",
    "\n",
    "쇼핑몰의 알고리즘 개선 후 늘어난 장바구니 사용 회수가 유의한 증가(significant increase)인지 아닌지 판단해보자.\n",
    "\n",
    "참고 온라인 쇼핑몰을 이용해 보았다면 장버구니에 상품을 저장했더라고 구매를 하지 않는 경우도 많다는 것에 유의하자. 하지만 관심있는 상품을 장바구니에 담기 쉽고 장바구니 안에서 선택한 상품들의 관리와 선택이 편리하다면 구매로 이어질 가능성이 클 것이다."
   ]
  },
  {
   "cell_type": "markdown",
   "id": "4086765b",
   "metadata": {},
   "source": [
    "## 1. 귀무가설 설정"
   ]
  },
  {
   "cell_type": "markdown",
   "id": "fbbbfd2b",
   "metadata": {},
   "source": [
    "- 기존의 가설 하에서 장바구니의 평균 이용률을 0.54이다.\n",
    "- `평균이용률` $\\to$ `확률`로 생각하여 1명의 고객이 장바구니를 이용할 확률 $p = 0.54$로 하는 귀무가설을 고려하자."
   ]
  },
  {
   "cell_type": "markdown",
   "id": "c7002022",
   "metadata": {},
   "source": [
    "$$ H_0 : p = 0.54$$"
   ]
  },
  {
   "cell_type": "markdown",
   "id": "c075003d",
   "metadata": {},
   "source": [
    "## 데이터 수집&관측 및 검정통계량 계산"
   ]
  },
  {
   "cell_type": "markdown",
   "id": "d81e645f",
   "metadata": {},
   "source": [
    "- 장바구니 평균 이용 횟수가 2020년 1000명 중 540 $\\to$ 2021년 1000명 중 620임을 관찰했다.\n",
    "- 장바구니 평균 고객수 X = 620를 검정통계량으로 하자."
   ]
  },
  {
   "cell_type": "markdown",
   "id": "d5dcc3d3",
   "metadata": {},
   "source": [
    "## 3.3 P-value 계산"
   ]
  },
  {
   "cell_type": "markdown",
   "id": "3a53f645",
   "metadata": {},
   "source": [
    "- 이제 $X=620$이라는 검정통계량을 기준으로 $\\text{p-value}$를 계산해야 한다.\n",
    "- 즉, 귀무가설하에서 데이터로부터 계산한 검정통계량보다 특이한 경우가 발생할 확률을 계산해야 한다."
   ]
  },
  {
   "cell_type": "markdown",
   "id": "afb1cd6d",
   "metadata": {},
   "source": [
    "$$\\text{p-value} = P(X\\geq 620)$$"
   ]
  },
  {
   "cell_type": "markdown",
   "id": "5094f59d",
   "metadata": {},
   "source": [
    "**(이론적 계산)**"
   ]
  },
  {
   "cell_type": "markdown",
   "id": "adff8918",
   "metadata": {},
   "source": [
    "- 위와 같은 확률을 계산하기 위해 $X$의 분포를 이론적으로 구해볼 수 있다.\n",
    "- 먼저, 이때의 $X$는 이항분포를 따른다.\n",
    "    - 이항분포는 $n$번의 독립적인 시행에서 각각의 성공확률이 $p$일때, 성공횟수$X$의 분포이다."
   ]
  },
  {
   "cell_type": "markdown",
   "id": "d2b75f61",
   "metadata": {},
   "source": [
    "$$X \\sim Binomial(n,p)$$"
   ]
  },
  {
   "cell_type": "markdown",
   "id": "f8e1b8df",
   "metadata": {},
   "source": [
    "- 이때 성공횟수 $X$에 대한 확률은 아래와 같이 계산할 수 있다."
   ]
  },
  {
   "cell_type": "markdown",
   "id": "244f749e",
   "metadata": {},
   "source": [
    "$$\n",
    "\\begin{aligned}\n",
    "&P(X = m) = {n\\choose m}p^m(1-p)^{n-m}\\\\\n",
    "&\\text{Where}\\\\\n",
    "& n : \\text{총 시행 횟수}\\\\\n",
    "& m : \\text{성공횟수}\\\\\n",
    "& p : \\text{성공할 확률}\n",
    "\\end{aligned}\n",
    "$$"
   ]
  },
  {
   "cell_type": "markdown",
   "id": "29b6a101",
   "metadata": {},
   "source": [
    "- $P(X\\geq m)$인 경우에 대한 확률은?"
   ]
  },
  {
   "cell_type": "markdown",
   "id": "24dedf94",
   "metadata": {},
   "source": [
    "$$\n",
    "\\begin{aligned}\n",
    "P(X\\geq m) = \\sum_{k=m}^{n}{n \\choose k}p^k(1-p)^{n-k}\n",
    "\\end{aligned}\n",
    "$$"
   ]
  },
  {
   "cell_type": "markdown",
   "id": "4e78eaf9",
   "metadata": {},
   "source": [
    "- 그러면 우리가 구해야 하는 $\\text{p-value}$를 계산해보면?"
   ]
  },
  {
   "cell_type": "markdown",
   "id": "8eb24db4",
   "metadata": {},
   "source": [
    "$$\n",
    "\\begin{aligned}\n",
    "\\text{p-value} &= P(X\\geq 620) = \\sum_{k=620}^{1000}{1000 \\choose m}0.54^m(1-0.54)^{1000-m}\n",
    "\\end{aligned}\n",
    "$$\n"
   ]
  },
  {
   "cell_type": "markdown",
   "id": "5d853f9b",
   "metadata": {},
   "source": [
    "- 하지만... 딱 봐도 이 값을 계산하기엔 만만치 않다."
   ]
  },
  {
   "cell_type": "markdown",
   "id": "7ea4c1fd",
   "metadata": {},
   "source": [
    "**(경험적 계산)**"
   ]
  },
  {
   "cell_type": "markdown",
   "id": "5ee100e9",
   "metadata": {},
   "source": [
    "- 모의실험을 통해서 위의 값을 근사적으로 구해보자."
   ]
  },
  {
   "cell_type": "code",
   "execution_count": 9,
   "id": "5d9a1a69",
   "metadata": {},
   "outputs": [],
   "source": [
    "B = 100000\n",
    "binomial_counts = np.random.binomial(1000,0.54,size=B)"
   ]
  },
  {
   "cell_type": "code",
   "execution_count": 10,
   "id": "2f32c5bd",
   "metadata": {},
   "outputs": [
    {
     "data": {
      "text/plain": [
       "(array([6.3000e+01, 8.3400e+02, 5.1790e+03, 1.9282e+04, 3.0884e+04,\n",
       "        2.7546e+04, 1.3061e+04, 2.7890e+03, 3.4000e+02, 2.2000e+01]),\n",
       " array([476. , 489.3, 502.6, 515.9, 529.2, 542.5, 555.8, 569.1, 582.4,\n",
       "        595.7, 609. ]),\n",
       " <BarContainer object of 10 artists>)"
      ]
     },
     "execution_count": 10,
     "metadata": {},
     "output_type": "execute_result"
    },
    {
     "data": {
      "image/png": "[encoded data removed]",
      "text/plain": [
       "<Figure size 640x480 with 1 Axes>"
      ]
     },
     "metadata": {},
     "output_type": "display_data"
    }
   ],
   "source": [
    "plt.hist(binomial_counts)"
   ]
  },
  {
   "cell_type": "code",
   "execution_count": 11,
   "id": "1f1a0b6f",
   "metadata": {},
   "outputs": [
    {
     "data": {
      "text/plain": [
       "0.0"
      ]
     },
     "execution_count": 11,
     "metadata": {},
     "output_type": "execute_result"
    }
   ],
   "source": [
    "observed_count = 620\n",
    "p_value = np.sum(binomial_counts>=observed_count) / B\n",
    "p_value"
   ]
  },
  {
   "cell_type": "markdown",
   "id": "90e70b74",
   "metadata": {},
   "source": [
    "## P-value와 유의수준을 비교"
   ]
  },
  {
   "cell_type": "markdown",
   "id": "83ef6cec",
   "metadata": {},
   "source": [
    "$$\\text{P_value} = 0.0 < 0.05$$"
   ]
  },
  {
   "cell_type": "markdown",
   "id": "ea19b164",
   "metadata": {},
   "source": [
    "## 기각여부 결정"
   ]
  },
  {
   "cell_type": "markdown",
   "id": "acb2a1f2",
   "metadata": {},
   "source": [
    "- 유의수준을 0.05로 할때, $\\text{P-value} = 0.0 \\leq 0.05$이다.\n",
    "- 귀무가설을 기각하고 이용률이 증가했다!"
   ]
  },
  {
   "cell_type": "markdown",
   "id": "6eaf399d",
   "metadata": {},
   "source": [
    "## Appendix - 정확한 $\\text{P-value}$의 계산"
   ]
  },
  {
   "cell_type": "markdown",
   "id": "78ea3e1e",
   "metadata": {},
   "source": [
    "(생략)"
   ]
  }
 ],
 "metadata": {
  "kernelspec": {
   "display_name": "Python 3 (ipykernel)",
   "language": "python",
   "name": "python3"
  },
  "language_info": {
   "codemirror_mode": {
    "name": "ipython",
    "version": 3
   },
   "file_extension": ".py",
   "mimetype": "text/x-python",
   "name": "python",
   "nbconvert_exporter": "python",
   "pygments_lexer": "ipython3",
   "version": "3.9.13"
  },
  "toc": {
   "base_numbering": 1,
   "nav_menu": {},
   "number_sections": true,
   "sideBar": true,
   "skip_h1_title": false,
   "title_cell": "Table of Contents",
   "title_sidebar": "Contents",
   "toc_cell": false,
   "toc_position": {
    "height": "calc(100% - 180px)",
    "left": "10px",
    "top": "150px",
    "width": "310.294px"
   },
   "toc_section_display": true,
   "toc_window_display": true
  }
 },
 "nbformat": 4,
 "nbformat_minor": 5
}
