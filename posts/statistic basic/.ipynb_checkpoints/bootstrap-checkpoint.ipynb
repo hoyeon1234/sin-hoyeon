{
 "cells": [
  {
   "cell_type": "code",
   "execution_count": 45,
   "id": "dfc3279a",
   "metadata": {},
   "outputs": [
    {
     "data": {
      "application/javascript": [
       "IPython.notebook.set_autosave_interval(20000)"
      ]
     },
     "metadata": {},
     "output_type": "display_data"
    },
    {
     "name": "stdout",
     "output_type": "stream",
     "text": [
      "Autosaving every 20 seconds\n"
     ]
    }
   ],
   "source": [
    "import numpy as np\n",
    "import pandas as pd\n",
    "import matplotlib.pyplot as plt\n",
    "\n",
    "%autosave 20"
   ]
  },
  {
   "cell_type": "markdown",
   "id": "865bd220",
   "metadata": {},
   "source": [
    "# 부트스트랩"
   ]
  },
  {
   "cell_type": "markdown",
   "id": "d6d5d0f6",
   "metadata": {},
   "source": [
    "- 지난번에 한 구간추정은 이런 과정이였음.\n",
    "    - 모집단으로부터 여러번 임의추출하여 여러개의 표본을 만들고\n",
    "    - 각각의 표본으로부터 추정량의 값인 추정값를 계산하고\n",
    "    - 계산된 추정값들로부터 추정량의 표준편차(또는 분산)을 구하고 + 중심극한정리(CLT)의 이론적 백업을 바탕으로\n",
    "    - 모수 $\\mu$에 대한 95% 신뢰구간을 제시\n",
    "        1. $\\mu$ 는 $\\hat\\theta \\pm 2SD$인 구간에 95%확률로 속할 것이다.\n",
    "        2. $\\mu - \\hat\\theta$의 차이는 95%확률로 $2SD$보다 작을 것이다."
   ]
  },
  {
   "cell_type": "markdown",
   "id": "7ef93956",
   "metadata": {},
   "source": [
    "- 하지만 실전에서는 모집단에서 표본은 단 한번 추출함(시간과 비용)\n",
    "- 그러면 여러개의 추정값들을 얻을 수 없기에 추정량의 표준편차($SD$)를 못 구하는데 어떻게 해야할까?\n",
    "- 부트스트랩(bootstrap)을 통해 추정량의 표준편차를 구할 수 있음."
   ]
  },
  {
   "cell_type": "markdown",
   "id": "a40dbebb",
   "metadata": {},
   "source": [
    "- 부트스트랩의 목적 : 하나의 샘플만 주어진 상황에서 추정량의 표준편차$SD$를 구하여 구간추정을 할 수 있도록 하자.\n",
    "- 부트스트랩의 idea : 표본을 모집단처럼 이용하자!"
   ]
  },
  {
   "cell_type": "markdown",
   "id": "8cbd3924",
   "metadata": {},
   "source": [
    "그림"
   ]
  },
  {
   "cell_type": "markdown",
   "id": "16d6b2df",
   "metadata": {},
   "source": [
    "**(부트스트랩 과정)**\n",
    "1. 표본으로부터 재추출(resampling)을 통해 재표본(resample)을 만든다.\n",
    "2. (부트스트랩) 추정치를 구하고 기록한다.\n",
    "3. 1.2를 여러번 반복한다.\n",
    "4. 추정량의 분포를 근사하는 경험적 분포와 추정량의 표준편차 $SD$를 여러개의 추정치로부터 계산한다.!"
   ]
  },
  {
   "cell_type": "markdown",
   "id": "4720dc6b",
   "metadata": {},
   "source": [
    "**(유의해야 할 점)**\n",
    "- 재추출(resampling)만 유의하면 된다.\n",
    "    - 재추출은 표본으로부터 복원추출\n",
    "    - 표본과 재표본의 크기는 같아야 함.\n"
   ]
  },
  {
   "cell_type": "markdown",
   "id": "db064dab",
   "metadata": {},
   "source": []
  },
  {
   "cell_type": "markdown",
   "id": "5adfebe2",
   "metadata": {},
   "source": []
  },
  {
   "cell_type": "markdown",
   "id": "eeaab135",
   "metadata": {},
   "source": [
    "# Bootstrap 실습"
   ]
  },
  {
   "cell_type": "markdown",
   "id": "5cc08b55",
   "metadata": {},
   "source": [
    "## 모집단 생성"
   ]
  },
  {
   "cell_type": "code",
   "execution_count": 72,
   "id": "dd505c5c",
   "metadata": {},
   "outputs": [],
   "source": [
    "N = 100000  #모집단의 크기\n",
    "theta = 0.5 #모비율 (지지율)\n",
    "\n",
    "favor = int(N * theta) # 지지하는 유권자 수\n",
    "opposite = N - favor\n",
    "P = np.concatenate((np.ones(favor),np.zeros(opposite)))"
   ]
  },
  {
   "cell_type": "markdown",
   "id": "da28f44b",
   "metadata": {},
   "source": [
    "## 모집단에서 하나의 확률표본만 있다고 가정"
   ]
  },
  {
   "cell_type": "code",
   "execution_count": 79,
   "id": "cd220542",
   "metadata": {},
   "outputs": [],
   "source": [
    "n = 1000\n",
    "one_sample = np.random.choice(P,n,replace=False)"
   ]
  },
  {
   "cell_type": "markdown",
   "id": "ba4ed027",
   "metadata": {},
   "source": [
    "## 표본지지율은 ?"
   ]
  },
  {
   "cell_type": "code",
   "execution_count": 91,
   "id": "00ae540c",
   "metadata": {},
   "outputs": [
    {
     "data": {
      "text/plain": [
       "0.507"
      ]
     },
     "execution_count": 91,
     "metadata": {},
     "output_type": "execute_result"
    }
   ],
   "source": [
    "hat_theta = one_sample.mean()\n",
    "hat_theta"
   ]
  },
  {
   "cell_type": "markdown",
   "id": "ab4f5c51",
   "metadata": {},
   "source": [
    "## 부트스트랩 ㄱㄱㅆ"
   ]
  },
  {
   "cell_type": "markdown",
   "id": "0bba4015",
   "metadata": {},
   "source": [
    "- 부트스트랩 과정 recap\n",
    "    - 표본으로부터 복원추출하여 크기=n인 재표본을 생성\n",
    "    - 생성된 재표본으로부터 추정량 계산\n",
    "    - 이전 과정2개를 반복하여 여러개의 추정값들 계산\n",
    "    - 추정값들의 분포가 추정량의 분포와 거의 비슷하다!\n",
    "        - 추정량의 분산도 여기서 구하면 되겠지?"
   ]
  },
  {
   "cell_type": "code",
   "execution_count": 81,
   "id": "01b42231",
   "metadata": {},
   "outputs": [
    {
     "data": {
      "text/html": [
       "<div>\n",
       "<style scoped>\n",
       "    .dataframe tbody tr th:only-of-type {\n",
       "        vertical-align: middle;\n",
       "    }\n",
       "\n",
       "    .dataframe tbody tr th {\n",
       "        vertical-align: top;\n",
       "    }\n",
       "\n",
       "    .dataframe thead th {\n",
       "        text-align: right;\n",
       "    }\n",
       "</style>\n",
       "<table border=\"1\" class=\"dataframe\">\n",
       "  <thead>\n",
       "    <tr style=\"text-align: right;\">\n",
       "      <th></th>\n",
       "      <th>resample_estimate</th>\n",
       "    </tr>\n",
       "  </thead>\n",
       "  <tbody>\n",
       "    <tr>\n",
       "      <th>0</th>\n",
       "      <td>0.532</td>\n",
       "    </tr>\n",
       "    <tr>\n",
       "      <th>1</th>\n",
       "      <td>0.504</td>\n",
       "    </tr>\n",
       "    <tr>\n",
       "      <th>2</th>\n",
       "      <td>0.478</td>\n",
       "    </tr>\n",
       "    <tr>\n",
       "      <th>3</th>\n",
       "      <td>0.491</td>\n",
       "    </tr>\n",
       "    <tr>\n",
       "      <th>4</th>\n",
       "      <td>0.497</td>\n",
       "    </tr>\n",
       "    <tr>\n",
       "      <th>5</th>\n",
       "      <td>0.512</td>\n",
       "    </tr>\n",
       "    <tr>\n",
       "      <th>6</th>\n",
       "      <td>0.508</td>\n",
       "    </tr>\n",
       "    <tr>\n",
       "      <th>7</th>\n",
       "      <td>0.523</td>\n",
       "    </tr>\n",
       "    <tr>\n",
       "      <th>8</th>\n",
       "      <td>0.507</td>\n",
       "    </tr>\n",
       "    <tr>\n",
       "      <th>9</th>\n",
       "      <td>0.484</td>\n",
       "    </tr>\n",
       "  </tbody>\n",
       "</table>\n",
       "</div>"
      ],
      "text/plain": [
       "   resample_estimate\n",
       "0              0.532\n",
       "1              0.504\n",
       "2              0.478\n",
       "3              0.491\n",
       "4              0.497\n",
       "5              0.512\n",
       "6              0.508\n",
       "7              0.523\n",
       "8              0.507\n",
       "9              0.484"
      ]
     },
     "execution_count": 81,
     "metadata": {},
     "output_type": "execute_result"
    }
   ],
   "source": [
    "B = 1000 #부트스트랩 모의실험 횟수. 추정값들의 갯수와 동일\n",
    "\n",
    "bootstrap_estimates = pd.DataFrame({\"resample_estimate\":np.zeros(B)}) # B개의 추정치를 저장할 데이터프레임 확보\n",
    "\n",
    "for i in np.arange(B):\n",
    "    resample = np.random.choice(one_sample,n,replace=True)\n",
    "    bootstrap_estimates.loc[i,\"resample_estimate\"] = resample.mean()\n",
    "bootstrap_estimates.head(10)"
   ]
  },
  {
   "cell_type": "markdown",
   "id": "3dc6c675",
   "metadata": {},
   "source": [
    "## 여러번 sampling vs 여러번 resampling(부트스트랩)"
   ]
  },
  {
   "cell_type": "code",
   "execution_count": 82,
   "id": "b417a839",
   "metadata": {},
   "outputs": [
    {
     "data": {
      "text/html": [
       "<div>\n",
       "<style scoped>\n",
       "    .dataframe tbody tr th:only-of-type {\n",
       "        vertical-align: middle;\n",
       "    }\n",
       "\n",
       "    .dataframe tbody tr th {\n",
       "        vertical-align: top;\n",
       "    }\n",
       "\n",
       "    .dataframe thead th {\n",
       "        text-align: right;\n",
       "    }\n",
       "</style>\n",
       "<table border=\"1\" class=\"dataframe\">\n",
       "  <thead>\n",
       "    <tr style=\"text-align: right;\">\n",
       "      <th></th>\n",
       "      <th>sample_rate</th>\n",
       "    </tr>\n",
       "  </thead>\n",
       "  <tbody>\n",
       "    <tr>\n",
       "      <th>0</th>\n",
       "      <td>0.501</td>\n",
       "    </tr>\n",
       "    <tr>\n",
       "      <th>1</th>\n",
       "      <td>0.488</td>\n",
       "    </tr>\n",
       "    <tr>\n",
       "      <th>2</th>\n",
       "      <td>0.503</td>\n",
       "    </tr>\n",
       "    <tr>\n",
       "      <th>3</th>\n",
       "      <td>0.486</td>\n",
       "    </tr>\n",
       "    <tr>\n",
       "      <th>4</th>\n",
       "      <td>0.478</td>\n",
       "    </tr>\n",
       "    <tr>\n",
       "      <th>5</th>\n",
       "      <td>0.484</td>\n",
       "    </tr>\n",
       "    <tr>\n",
       "      <th>6</th>\n",
       "      <td>0.498</td>\n",
       "    </tr>\n",
       "    <tr>\n",
       "      <th>7</th>\n",
       "      <td>0.499</td>\n",
       "    </tr>\n",
       "    <tr>\n",
       "      <th>8</th>\n",
       "      <td>0.496</td>\n",
       "    </tr>\n",
       "    <tr>\n",
       "      <th>9</th>\n",
       "      <td>0.516</td>\n",
       "    </tr>\n",
       "  </tbody>\n",
       "</table>\n",
       "</div>"
      ],
      "text/plain": [
       "   sample_rate\n",
       "0        0.501\n",
       "1        0.488\n",
       "2        0.503\n",
       "3        0.486\n",
       "4        0.478\n",
       "5        0.484\n",
       "6        0.498\n",
       "7        0.499\n",
       "8        0.496\n",
       "9        0.516"
      ]
     },
     "execution_count": 82,
     "metadata": {},
     "output_type": "execute_result"
    }
   ],
   "source": [
    "B = 1000\n",
    "\n",
    "estimates = pd.DataFrame({\"sample_rate\" : np.zeros(B)})\n",
    "\n",
    "for i in np.arange(B):\n",
    "  sample = np.random.choice(P, n, replace=False)\n",
    "  estimates.loc[i,'sample_rate'] = np.mean(sample)\n",
    "\n",
    "estimates.head(10)"
   ]
  },
  {
   "cell_type": "code",
   "execution_count": 84,
   "id": "8a06ce61",
   "metadata": {},
   "outputs": [
    {
     "data": {
      "text/plain": [
       "<AxesSubplot:ylabel='Frequency'>"
      ]
     },
     "execution_count": 84,
     "metadata": {},
     "output_type": "execute_result"
    },
    {
     "data": {
      "image/png": "[encoded data removed]",
      "text/plain": [
       "<Figure size 640x480 with 1 Axes>"
      ]
     },
     "metadata": {},
     "output_type": "display_data"
    }
   ],
   "source": [
    "bootstrap_estimates.resample_estimate.plot.hist(alpha=0.5,color=\"red\")\n",
    "estimates.sample_rate.plot.hist(alpha=0.5,color=\"blue\")"
   ]
  },
  {
   "cell_type": "markdown",
   "id": "517f7f7e",
   "metadata": {},
   "source": [
    "## $SD$구하기"
   ]
  },
  {
   "cell_type": "markdown",
   "id": "21602805",
   "metadata": {},
   "source": [
    "- $SD$는 $Std(\\hat\\theta)$를 근사적으로 구한 값이라 하자.(이전에는 sampling을 여러번해서 구했었음)"
   ]
  },
  {
   "cell_type": "code",
   "execution_count": 85,
   "id": "56c18c62",
   "metadata": {},
   "outputs": [
    {
     "data": {
      "text/plain": [
       "0.016"
      ]
     },
     "execution_count": 85,
     "metadata": {},
     "output_type": "execute_result"
    }
   ],
   "source": [
    "SD = float(bootstrap_estimates.std())\n",
    "round(SD,3)"
   ]
  },
  {
   "cell_type": "markdown",
   "id": "2f721839",
   "metadata": {},
   "source": [
    "참고 - 여러번 sampling한 추정량의 분포로부터 구한 SD는?"
   ]
  },
  {
   "cell_type": "code",
   "execution_count": 88,
   "id": "d8ca2cde",
   "metadata": {},
   "outputs": [
    {
     "data": {
      "text/plain": [
       "0.016"
      ]
     },
     "execution_count": 88,
     "metadata": {},
     "output_type": "execute_result"
    }
   ],
   "source": [
    "SD2 = float(estimates.std())\n",
    "round(SD2,3)"
   ]
  },
  {
   "cell_type": "markdown",
   "id": "47cec093",
   "metadata": {},
   "source": [
    "- 매우매우 유사하다."
   ]
  },
  {
   "cell_type": "markdown",
   "id": "3400ab7a",
   "metadata": {},
   "source": [
    "참고 - 중심극한 정리에 의한 이론적인 추정량의 분산은?"
   ]
  },
  {
   "cell_type": "markdown",
   "id": "ce2568da",
   "metadata": {},
   "source": [
    "$$\n",
    "\\begin{aligned}\n",
    "&Var(\\hat\\theta) = \\frac{\\sigma^2}{n} \\\\\n",
    "&Std(\\hat\\theta) = \\sqrt{\\frac{\\sigma^2}{n}} \\\\\n",
    "\\end{aligned}\n",
    "$$"
   ]
  },
  {
   "cell_type": "code",
   "execution_count": 89,
   "id": "6cada703",
   "metadata": {},
   "outputs": [
    {
     "data": {
      "text/plain": [
       "0.016"
      ]
     },
     "execution_count": 89,
     "metadata": {},
     "output_type": "execute_result"
    }
   ],
   "source": [
    "theta_hat_std = (P.var()/n)**(0.5)\n",
    "theta_hat_std.round(3)"
   ]
  },
  {
   "cell_type": "markdown",
   "id": "d853a762",
   "metadata": {},
   "source": [
    "- 매우매우 유사하다."
   ]
  },
  {
   "cell_type": "markdown",
   "id": "477a3677",
   "metadata": {},
   "source": [
    "# Bootstrap을 사용한 구간추정 "
   ]
  },
  {
   "cell_type": "markdown",
   "id": "c75b7336",
   "metadata": {},
   "source": [
    "## SD활용"
   ]
  },
  {
   "cell_type": "code",
   "execution_count": 97,
   "id": "ff1d1c95",
   "metadata": {},
   "outputs": [
    {
     "data": {
      "text/plain": [
       "(0.4747162808443246, 0.5392837191556754)"
      ]
     },
     "execution_count": 97,
     "metadata": {},
     "output_type": "execute_result"
    }
   ],
   "source": [
    "lower_bound = hat_theta - SD * 2\n",
    "upper_bound = hat_theta + SD * 2\n",
    "lower_bound,upper_bound"
   ]
  },
  {
   "cell_type": "markdown",
   "id": "3c2d8f84",
   "metadata": {},
   "source": [
    "## Percentile 사용"
   ]
  },
  {
   "cell_type": "code",
   "execution_count": 98,
   "id": "bef6068e",
   "metadata": {},
   "outputs": [
    {
     "data": {
      "text/plain": [
       "(0.475, 0.536025)"
      ]
     },
     "execution_count": 98,
     "metadata": {},
     "output_type": "execute_result"
    }
   ],
   "source": [
    "lower_bound = float(bootstrap_estimates.quantile(0.025))\n",
    "upper_bound = float(bootstrap_estimates.quantile(0.975))\n",
    "lower_bound,upper_bound"
   ]
  },
  {
   "cell_type": "markdown",
   "id": "36187661",
   "metadata": {},
   "source": [
    "# 신뢰구간 해석"
   ]
  },
  {
   "cell_type": "markdown",
   "id": "b6817118",
   "metadata": {},
   "source": [
    "1. 95%의 확률로 신뢰구간이 모수를 포함한다. ($\\hat\\theta$가 확률변수, $\\theta$는 고정된 상수,신뢰구간이 바뀐다. 고전적인 통계의 관점)\n",
    "2. 95%의 확률로 모수가 신뢰구간에 포함된다. ($\\theta$가 확률변수, $\\hat\\theta$는 고정된 상수,신뢰구간은 고정.베이지안 관점)\n"
   ]
  },
  {
   "cell_type": "markdown",
   "id": "142c0080",
   "metadata": {},
   "source": [
    "세부적으로 이렇게 적을 수 있지만 사실 차이가 이해하기 어려우므로 95% 신뢰구간에 모수가 포함되었을 가능성이 95%라 생각해도 큰 문제는 없다."
   ]
  },
  {
   "cell_type": "markdown",
   "id": "5386bf0a",
   "metadata": {},
   "source": [
    "# 예제 : 중앙값의 신뢰구간 구하기"
   ]
  },
  {
   "cell_type": "code",
   "execution_count": 101,
   "id": "9d76430b",
   "metadata": {},
   "outputs": [],
   "source": [
    "url1 = \"https://ilovedata.github.io/teaching/bigdata2/data/seoul_bike_201909_3.csv\"\n",
    "bike = pd.read_csv(url1, encoding=\"CP949\")"
   ]
  },
  {
   "cell_type": "code",
   "execution_count": 102,
   "id": "da3ade95",
   "metadata": {},
   "outputs": [
    {
     "data": {
      "text/html": [
       "<div>\n",
       "<style scoped>\n",
       "    .dataframe tbody tr th:only-of-type {\n",
       "        vertical-align: middle;\n",
       "    }\n",
       "\n",
       "    .dataframe tbody tr th {\n",
       "        vertical-align: top;\n",
       "    }\n",
       "\n",
       "    .dataframe thead th {\n",
       "        text-align: right;\n",
       "    }\n",
       "</style>\n",
       "<table border=\"1\" class=\"dataframe\">\n",
       "  <thead>\n",
       "    <tr style=\"text-align: right;\">\n",
       "      <th></th>\n",
       "      <th>자전거번호</th>\n",
       "      <th>대여일시</th>\n",
       "      <th>대여 대여소번호</th>\n",
       "      <th>대여 대여소명</th>\n",
       "      <th>대여거치대</th>\n",
       "      <th>반납일시</th>\n",
       "      <th>반납대여소번호</th>\n",
       "      <th>반납대여소명</th>\n",
       "      <th>반납거치대</th>\n",
       "      <th>이용시간</th>\n",
       "      <th>이용거리</th>\n",
       "    </tr>\n",
       "  </thead>\n",
       "  <tbody>\n",
       "    <tr>\n",
       "      <th>0</th>\n",
       "      <td>SPB-17003</td>\n",
       "      <td>2019-09-28 16:10:55</td>\n",
       "      <td>368</td>\n",
       "      <td>SK 서린빌딩 앞</td>\n",
       "      <td>4</td>\n",
       "      <td>2019-09-28 17:03:32</td>\n",
       "      <td>2002</td>\n",
       "      <td>노들역 1번출구</td>\n",
       "      <td>14</td>\n",
       "      <td>52</td>\n",
       "      <td>8940.0</td>\n",
       "    </tr>\n",
       "    <tr>\n",
       "      <th>1</th>\n",
       "      <td>SPB-14405</td>\n",
       "      <td>2019-09-28 16:48:16</td>\n",
       "      <td>2024</td>\n",
       "      <td>상도역 1번출구</td>\n",
       "      <td>3</td>\n",
       "      <td>2019-09-28 17:03:44</td>\n",
       "      <td>2002</td>\n",
       "      <td>노들역 1번출구</td>\n",
       "      <td>18</td>\n",
       "      <td>15</td>\n",
       "      <td>1910.0</td>\n",
       "    </tr>\n",
       "    <tr>\n",
       "      <th>2</th>\n",
       "      <td>SPB-18431</td>\n",
       "      <td>2019-09-28 16:59:54</td>\n",
       "      <td>2002</td>\n",
       "      <td>노들역 1번출구</td>\n",
       "      <td>10</td>\n",
       "      <td>2019-09-28 17:03:57</td>\n",
       "      <td>2002</td>\n",
       "      <td>노들역 1번출구</td>\n",
       "      <td>10</td>\n",
       "      <td>2</td>\n",
       "      <td>30.0</td>\n",
       "    </tr>\n",
       "    <tr>\n",
       "      <th>3</th>\n",
       "      <td>SPB-04853</td>\n",
       "      <td>2019-09-28 15:31:49</td>\n",
       "      <td>207</td>\n",
       "      <td>여의나루역 1번출구 앞</td>\n",
       "      <td>32</td>\n",
       "      <td>2019-09-28 17:10:12</td>\n",
       "      <td>2002</td>\n",
       "      <td>노들역 1번출구</td>\n",
       "      <td>19</td>\n",
       "      <td>98</td>\n",
       "      <td>9610.0</td>\n",
       "    </tr>\n",
       "    <tr>\n",
       "      <th>4</th>\n",
       "      <td>SPB-11122</td>\n",
       "      <td>2019-09-28 15:35:41</td>\n",
       "      <td>207</td>\n",
       "      <td>여의나루역 1번출구 앞</td>\n",
       "      <td>14</td>\n",
       "      <td>2019-09-28 17:10:37</td>\n",
       "      <td>2002</td>\n",
       "      <td>노들역 1번출구</td>\n",
       "      <td>18</td>\n",
       "      <td>90</td>\n",
       "      <td>9450.0</td>\n",
       "    </tr>\n",
       "    <tr>\n",
       "      <th>...</th>\n",
       "      <td>...</td>\n",
       "      <td>...</td>\n",
       "      <td>...</td>\n",
       "      <td>...</td>\n",
       "      <td>...</td>\n",
       "      <td>...</td>\n",
       "      <td>...</td>\n",
       "      <td>...</td>\n",
       "      <td>...</td>\n",
       "      <td>...</td>\n",
       "      <td>...</td>\n",
       "    </tr>\n",
       "    <tr>\n",
       "      <th>407584</th>\n",
       "      <td>SPB-24072</td>\n",
       "      <td>2019-09-12 08:56:34</td>\n",
       "      <td>240</td>\n",
       "      <td>문래역 4번출구 앞</td>\n",
       "      <td>9</td>\n",
       "      <td>2019-09-12 09:03:37</td>\n",
       "      <td>99999</td>\n",
       "      <td>영남단말기정비</td>\n",
       "      <td>2</td>\n",
       "      <td>6</td>\n",
       "      <td>720.0</td>\n",
       "    </tr>\n",
       "    <tr>\n",
       "      <th>407585</th>\n",
       "      <td>SPB-16130</td>\n",
       "      <td>2019-09-18 10:13:09</td>\n",
       "      <td>99999</td>\n",
       "      <td>영남단말기정비</td>\n",
       "      <td>1</td>\n",
       "      <td>2019-09-18 11:38:30</td>\n",
       "      <td>99999</td>\n",
       "      <td>영남단말기정비</td>\n",
       "      <td>1</td>\n",
       "      <td>85</td>\n",
       "      <td>40.0</td>\n",
       "    </tr>\n",
       "    <tr>\n",
       "      <th>407586</th>\n",
       "      <td>SPB-03728</td>\n",
       "      <td>2019-09-25 08:00:28</td>\n",
       "      <td>2183</td>\n",
       "      <td>동방1교</td>\n",
       "      <td>7</td>\n",
       "      <td>2019-09-25 08:54:02</td>\n",
       "      <td>99999</td>\n",
       "      <td>영남단말기정비</td>\n",
       "      <td>5</td>\n",
       "      <td>53</td>\n",
       "      <td>12910.0</td>\n",
       "    </tr>\n",
       "    <tr>\n",
       "      <th>407587</th>\n",
       "      <td>SPB-08928</td>\n",
       "      <td>2019-09-30 07:49:27</td>\n",
       "      <td>2183</td>\n",
       "      <td>동방1교</td>\n",
       "      <td>10</td>\n",
       "      <td>2019-09-30 09:42:27</td>\n",
       "      <td>99999</td>\n",
       "      <td>영남단말기정비</td>\n",
       "      <td>7</td>\n",
       "      <td>2</td>\n",
       "      <td>0.0</td>\n",
       "    </tr>\n",
       "    <tr>\n",
       "      <th>407588</th>\n",
       "      <td>SPB-06988</td>\n",
       "      <td>2019-09-30 09:58:43</td>\n",
       "      <td>99999</td>\n",
       "      <td>영남단말기정비</td>\n",
       "      <td>5</td>\n",
       "      <td>2019-09-30 13:01:26</td>\n",
       "      <td>99999</td>\n",
       "      <td>영남단말기정비</td>\n",
       "      <td>5</td>\n",
       "      <td>182</td>\n",
       "      <td>10.0</td>\n",
       "    </tr>\n",
       "  </tbody>\n",
       "</table>\n",
       "<p>407589 rows × 11 columns</p>\n",
       "</div>"
      ],
      "text/plain": [
       "            자전거번호                 대여일시  대여 대여소번호       대여 대여소명  대여거치대  \\\n",
       "0       SPB-17003  2019-09-28 16:10:55       368     SK 서린빌딩 앞      4   \n",
       "1       SPB-14405  2019-09-28 16:48:16      2024      상도역 1번출구      3   \n",
       "2       SPB-18431  2019-09-28 16:59:54      2002      노들역 1번출구     10   \n",
       "3       SPB-04853  2019-09-28 15:31:49       207  여의나루역 1번출구 앞     32   \n",
       "4       SPB-11122  2019-09-28 15:35:41       207  여의나루역 1번출구 앞     14   \n",
       "...           ...                  ...       ...           ...    ...   \n",
       "407584  SPB-24072  2019-09-12 08:56:34       240    문래역 4번출구 앞      9   \n",
       "407585  SPB-16130  2019-09-18 10:13:09     99999       영남단말기정비      1   \n",
       "407586  SPB-03728  2019-09-25 08:00:28      2183          동방1교      7   \n",
       "407587  SPB-08928  2019-09-30 07:49:27      2183          동방1교     10   \n",
       "407588  SPB-06988  2019-09-30 09:58:43     99999       영남단말기정비      5   \n",
       "\n",
       "                       반납일시  반납대여소번호    반납대여소명  반납거치대  이용시간     이용거리  \n",
       "0       2019-09-28 17:03:32     2002  노들역 1번출구     14    52   8940.0  \n",
       "1       2019-09-28 17:03:44     2002  노들역 1번출구     18    15   1910.0  \n",
       "2       2019-09-28 17:03:57     2002  노들역 1번출구     10     2     30.0  \n",
       "3       2019-09-28 17:10:12     2002  노들역 1번출구     19    98   9610.0  \n",
       "4       2019-09-28 17:10:37     2002  노들역 1번출구     18    90   9450.0  \n",
       "...                     ...      ...       ...    ...   ...      ...  \n",
       "407584  2019-09-12 09:03:37    99999   영남단말기정비      2     6    720.0  \n",
       "407585  2019-09-18 11:38:30    99999   영남단말기정비      1    85     40.0  \n",
       "407586  2019-09-25 08:54:02    99999   영남단말기정비      5    53  12910.0  \n",
       "407587  2019-09-30 09:42:27    99999   영남단말기정비      7     2      0.0  \n",
       "407588  2019-09-30 13:01:26    99999   영남단말기정비      5   182     10.0  \n",
       "\n",
       "[407589 rows x 11 columns]"
      ]
     },
     "execution_count": 102,
     "metadata": {},
     "output_type": "execute_result"
    }
   ],
   "source": [
    "bike"
   ]
  },
  {
   "cell_type": "code",
   "execution_count": 104,
   "id": "5f8bd5a3",
   "metadata": {},
   "outputs": [
    {
     "data": {
      "text/html": [
       "<div>\n",
       "<style scoped>\n",
       "    .dataframe tbody tr th:only-of-type {\n",
       "        vertical-align: middle;\n",
       "    }\n",
       "\n",
       "    .dataframe tbody tr th {\n",
       "        vertical-align: top;\n",
       "    }\n",
       "\n",
       "    .dataframe thead th {\n",
       "        text-align: right;\n",
       "    }\n",
       "</style>\n",
       "<table border=\"1\" class=\"dataframe\">\n",
       "  <thead>\n",
       "    <tr style=\"text-align: right;\">\n",
       "      <th></th>\n",
       "      <th>이용시간</th>\n",
       "      <th>이용거리</th>\n",
       "    </tr>\n",
       "  </thead>\n",
       "  <tbody>\n",
       "    <tr>\n",
       "      <th>0</th>\n",
       "      <td>52</td>\n",
       "      <td>8940.0</td>\n",
       "    </tr>\n",
       "    <tr>\n",
       "      <th>1</th>\n",
       "      <td>15</td>\n",
       "      <td>1910.0</td>\n",
       "    </tr>\n",
       "    <tr>\n",
       "      <th>2</th>\n",
       "      <td>2</td>\n",
       "      <td>30.0</td>\n",
       "    </tr>\n",
       "    <tr>\n",
       "      <th>3</th>\n",
       "      <td>98</td>\n",
       "      <td>9610.0</td>\n",
       "    </tr>\n",
       "    <tr>\n",
       "      <th>4</th>\n",
       "      <td>90</td>\n",
       "      <td>9450.0</td>\n",
       "    </tr>\n",
       "    <tr>\n",
       "      <th>...</th>\n",
       "      <td>...</td>\n",
       "      <td>...</td>\n",
       "    </tr>\n",
       "    <tr>\n",
       "      <th>407584</th>\n",
       "      <td>6</td>\n",
       "      <td>720.0</td>\n",
       "    </tr>\n",
       "    <tr>\n",
       "      <th>407585</th>\n",
       "      <td>85</td>\n",
       "      <td>40.0</td>\n",
       "    </tr>\n",
       "    <tr>\n",
       "      <th>407586</th>\n",
       "      <td>53</td>\n",
       "      <td>12910.0</td>\n",
       "    </tr>\n",
       "    <tr>\n",
       "      <th>407587</th>\n",
       "      <td>2</td>\n",
       "      <td>0.0</td>\n",
       "    </tr>\n",
       "    <tr>\n",
       "      <th>407588</th>\n",
       "      <td>182</td>\n",
       "      <td>10.0</td>\n",
       "    </tr>\n",
       "  </tbody>\n",
       "</table>\n",
       "<p>407589 rows × 2 columns</p>\n",
       "</div>"
      ],
      "text/plain": [
       "        이용시간     이용거리\n",
       "0         52   8940.0\n",
       "1         15   1910.0\n",
       "2          2     30.0\n",
       "3         98   9610.0\n",
       "4         90   9450.0\n",
       "...      ...      ...\n",
       "407584     6    720.0\n",
       "407585    85     40.0\n",
       "407586    53  12910.0\n",
       "407587     2      0.0\n",
       "407588   182     10.0\n",
       "\n",
       "[407589 rows x 2 columns]"
      ]
     },
     "execution_count": 104,
     "metadata": {},
     "output_type": "execute_result"
    }
   ],
   "source": [
    "bike2 = bike[[\"이용시간\",\"이용거리\"]]\n",
    "bike2"
   ]
  },
  {
   "cell_type": "code",
   "execution_count": 127,
   "id": "af3f5d49",
   "metadata": {},
   "outputs": [
    {
     "data": {
      "text/html": [
       "<div>\n",
       "<style scoped>\n",
       "    .dataframe tbody tr th:only-of-type {\n",
       "        vertical-align: middle;\n",
       "    }\n",
       "\n",
       "    .dataframe tbody tr th {\n",
       "        vertical-align: top;\n",
       "    }\n",
       "\n",
       "    .dataframe thead th {\n",
       "        text-align: right;\n",
       "    }\n",
       "</style>\n",
       "<table border=\"1\" class=\"dataframe\">\n",
       "  <thead>\n",
       "    <tr style=\"text-align: right;\">\n",
       "      <th></th>\n",
       "      <th>이용시간</th>\n",
       "      <th>이용거리</th>\n",
       "    </tr>\n",
       "  </thead>\n",
       "  <tbody>\n",
       "    <tr>\n",
       "      <th>count</th>\n",
       "      <td>407589.000000</td>\n",
       "      <td>407589.000000</td>\n",
       "    </tr>\n",
       "    <tr>\n",
       "      <th>mean</th>\n",
       "      <td>30.156827</td>\n",
       "      <td>4253.336228</td>\n",
       "    </tr>\n",
       "    <tr>\n",
       "      <th>std</th>\n",
       "      <td>32.065934</td>\n",
       "      <td>5782.673901</td>\n",
       "    </tr>\n",
       "    <tr>\n",
       "      <th>min</th>\n",
       "      <td>1.000000</td>\n",
       "      <td>0.000000</td>\n",
       "    </tr>\n",
       "    <tr>\n",
       "      <th>25%</th>\n",
       "      <td>8.000000</td>\n",
       "      <td>1200.000000</td>\n",
       "    </tr>\n",
       "    <tr>\n",
       "      <th>50%</th>\n",
       "      <td>18.000000</td>\n",
       "      <td>2380.000000</td>\n",
       "    </tr>\n",
       "    <tr>\n",
       "      <th>75%</th>\n",
       "      <td>43.000000</td>\n",
       "      <td>5130.000000</td>\n",
       "    </tr>\n",
       "    <tr>\n",
       "      <th>max</th>\n",
       "      <td>2479.000000</td>\n",
       "      <td>153490.000000</td>\n",
       "    </tr>\n",
       "  </tbody>\n",
       "</table>\n",
       "</div>"
      ],
      "text/plain": [
       "                이용시간           이용거리\n",
       "count  407589.000000  407589.000000\n",
       "mean       30.156827    4253.336228\n",
       "std        32.065934    5782.673901\n",
       "min         1.000000       0.000000\n",
       "25%         8.000000    1200.000000\n",
       "50%        18.000000    2380.000000\n",
       "75%        43.000000    5130.000000\n",
       "max      2479.000000  153490.000000"
      ]
     },
     "execution_count": 127,
     "metadata": {},
     "output_type": "execute_result"
    }
   ],
   "source": [
    "bike2.describe()"
   ]
  },
  {
   "cell_type": "code",
   "execution_count": 105,
   "id": "193bfbf4",
   "metadata": {},
   "outputs": [
    {
     "data": {
      "text/html": [
       "<div>\n",
       "<style scoped>\n",
       "    .dataframe tbody tr th:only-of-type {\n",
       "        vertical-align: middle;\n",
       "    }\n",
       "\n",
       "    .dataframe tbody tr th {\n",
       "        vertical-align: top;\n",
       "    }\n",
       "\n",
       "    .dataframe thead th {\n",
       "        text-align: right;\n",
       "    }\n",
       "</style>\n",
       "<table border=\"1\" class=\"dataframe\">\n",
       "  <thead>\n",
       "    <tr style=\"text-align: right;\">\n",
       "      <th></th>\n",
       "      <th>이용시간</th>\n",
       "      <th>이용거리</th>\n",
       "    </tr>\n",
       "  </thead>\n",
       "  <tbody>\n",
       "    <tr>\n",
       "      <th>50771</th>\n",
       "      <td>25</td>\n",
       "      <td>1830.0</td>\n",
       "    </tr>\n",
       "    <tr>\n",
       "      <th>179510</th>\n",
       "      <td>20</td>\n",
       "      <td>3670.0</td>\n",
       "    </tr>\n",
       "    <tr>\n",
       "      <th>167844</th>\n",
       "      <td>8</td>\n",
       "      <td>1180.0</td>\n",
       "    </tr>\n",
       "    <tr>\n",
       "      <th>244482</th>\n",
       "      <td>3</td>\n",
       "      <td>210.0</td>\n",
       "    </tr>\n",
       "    <tr>\n",
       "      <th>102805</th>\n",
       "      <td>9</td>\n",
       "      <td>1330.0</td>\n",
       "    </tr>\n",
       "    <tr>\n",
       "      <th>330458</th>\n",
       "      <td>15</td>\n",
       "      <td>3090.0</td>\n",
       "    </tr>\n",
       "    <tr>\n",
       "      <th>91162</th>\n",
       "      <td>3</td>\n",
       "      <td>730.0</td>\n",
       "    </tr>\n",
       "    <tr>\n",
       "      <th>22447</th>\n",
       "      <td>6</td>\n",
       "      <td>1940.0</td>\n",
       "    </tr>\n",
       "    <tr>\n",
       "      <th>348599</th>\n",
       "      <td>16</td>\n",
       "      <td>1350.0</td>\n",
       "    </tr>\n",
       "    <tr>\n",
       "      <th>387639</th>\n",
       "      <td>15</td>\n",
       "      <td>2270.0</td>\n",
       "    </tr>\n",
       "  </tbody>\n",
       "</table>\n",
       "</div>"
      ],
      "text/plain": [
       "        이용시간    이용거리\n",
       "50771     25  1830.0\n",
       "179510    20  3670.0\n",
       "167844     8  1180.0\n",
       "244482     3   210.0\n",
       "102805     9  1330.0\n",
       "330458    15  3090.0\n",
       "91162      3   730.0\n",
       "22447      6  1940.0\n",
       "348599    16  1350.0\n",
       "387639    15  2270.0"
      ]
     },
     "execution_count": 105,
     "metadata": {},
     "output_type": "execute_result"
    }
   ],
   "source": [
    "n = 1000\n",
    "\n",
    "one_sample = bike2.sample(n=n,replace=False,random_state = 13312)\n",
    "one_sample.head(10)"
   ]
  },
  {
   "cell_type": "code",
   "execution_count": 128,
   "id": "302dcafa",
   "metadata": {},
   "outputs": [
    {
     "data": {
      "text/html": [
       "<div>\n",
       "<style scoped>\n",
       "    .dataframe tbody tr th:only-of-type {\n",
       "        vertical-align: middle;\n",
       "    }\n",
       "\n",
       "    .dataframe tbody tr th {\n",
       "        vertical-align: top;\n",
       "    }\n",
       "\n",
       "    .dataframe thead th {\n",
       "        text-align: right;\n",
       "    }\n",
       "</style>\n",
       "<table border=\"1\" class=\"dataframe\">\n",
       "  <thead>\n",
       "    <tr style=\"text-align: right;\">\n",
       "      <th></th>\n",
       "      <th>이용시간</th>\n",
       "      <th>이용거리</th>\n",
       "    </tr>\n",
       "  </thead>\n",
       "  <tbody>\n",
       "    <tr>\n",
       "      <th>count</th>\n",
       "      <td>1000.000000</td>\n",
       "      <td>1000.000000</td>\n",
       "    </tr>\n",
       "    <tr>\n",
       "      <th>mean</th>\n",
       "      <td>28.150000</td>\n",
       "      <td>3923.110000</td>\n",
       "    </tr>\n",
       "    <tr>\n",
       "      <th>std</th>\n",
       "      <td>28.664598</td>\n",
       "      <td>4723.684348</td>\n",
       "    </tr>\n",
       "    <tr>\n",
       "      <th>min</th>\n",
       "      <td>1.000000</td>\n",
       "      <td>0.000000</td>\n",
       "    </tr>\n",
       "    <tr>\n",
       "      <th>25%</th>\n",
       "      <td>8.000000</td>\n",
       "      <td>1247.500000</td>\n",
       "    </tr>\n",
       "    <tr>\n",
       "      <th>50%</th>\n",
       "      <td>18.000000</td>\n",
       "      <td>2345.000000</td>\n",
       "    </tr>\n",
       "    <tr>\n",
       "      <th>75%</th>\n",
       "      <td>41.000000</td>\n",
       "      <td>5040.000000</td>\n",
       "    </tr>\n",
       "    <tr>\n",
       "      <th>max</th>\n",
       "      <td>321.000000</td>\n",
       "      <td>70890.000000</td>\n",
       "    </tr>\n",
       "  </tbody>\n",
       "</table>\n",
       "</div>"
      ],
      "text/plain": [
       "              이용시간          이용거리\n",
       "count  1000.000000   1000.000000\n",
       "mean     28.150000   3923.110000\n",
       "std      28.664598   4723.684348\n",
       "min       1.000000      0.000000\n",
       "25%       8.000000   1247.500000\n",
       "50%      18.000000   2345.000000\n",
       "75%      41.000000   5040.000000\n",
       "max     321.000000  70890.000000"
      ]
     },
     "execution_count": 128,
     "metadata": {},
     "output_type": "execute_result"
    }
   ],
   "source": [
    "one_sample.describe()"
   ]
  },
  {
   "cell_type": "code",
   "execution_count": 129,
   "id": "67e270a6",
   "metadata": {},
   "outputs": [
    {
     "data": {
      "text/html": [
       "<div>\n",
       "<style scoped>\n",
       "    .dataframe tbody tr th:only-of-type {\n",
       "        vertical-align: middle;\n",
       "    }\n",
       "\n",
       "    .dataframe tbody tr th {\n",
       "        vertical-align: top;\n",
       "    }\n",
       "\n",
       "    .dataframe thead th {\n",
       "        text-align: right;\n",
       "    }\n",
       "</style>\n",
       "<table border=\"1\" class=\"dataframe\">\n",
       "  <thead>\n",
       "    <tr style=\"text-align: right;\">\n",
       "      <th></th>\n",
       "      <th>time_estimate</th>\n",
       "      <th>distance_estimate</th>\n",
       "    </tr>\n",
       "  </thead>\n",
       "  <tbody>\n",
       "    <tr>\n",
       "      <th>0</th>\n",
       "      <td>18.0</td>\n",
       "      <td>2305.0</td>\n",
       "    </tr>\n",
       "    <tr>\n",
       "      <th>1</th>\n",
       "      <td>17.0</td>\n",
       "      <td>2330.0</td>\n",
       "    </tr>\n",
       "    <tr>\n",
       "      <th>2</th>\n",
       "      <td>18.0</td>\n",
       "      <td>2365.0</td>\n",
       "    </tr>\n",
       "    <tr>\n",
       "      <th>3</th>\n",
       "      <td>18.0</td>\n",
       "      <td>2410.0</td>\n",
       "    </tr>\n",
       "    <tr>\n",
       "      <th>4</th>\n",
       "      <td>19.0</td>\n",
       "      <td>2330.0</td>\n",
       "    </tr>\n",
       "    <tr>\n",
       "      <th>5</th>\n",
       "      <td>18.0</td>\n",
       "      <td>2355.0</td>\n",
       "    </tr>\n",
       "    <tr>\n",
       "      <th>6</th>\n",
       "      <td>17.0</td>\n",
       "      <td>2310.0</td>\n",
       "    </tr>\n",
       "    <tr>\n",
       "      <th>7</th>\n",
       "      <td>17.0</td>\n",
       "      <td>2320.0</td>\n",
       "    </tr>\n",
       "    <tr>\n",
       "      <th>8</th>\n",
       "      <td>17.0</td>\n",
       "      <td>2315.0</td>\n",
       "    </tr>\n",
       "    <tr>\n",
       "      <th>9</th>\n",
       "      <td>18.0</td>\n",
       "      <td>2375.0</td>\n",
       "    </tr>\n",
       "  </tbody>\n",
       "</table>\n",
       "</div>"
      ],
      "text/plain": [
       "   time_estimate  distance_estimate\n",
       "0           18.0             2305.0\n",
       "1           17.0             2330.0\n",
       "2           18.0             2365.0\n",
       "3           18.0             2410.0\n",
       "4           19.0             2330.0\n",
       "5           18.0             2355.0\n",
       "6           17.0             2310.0\n",
       "7           17.0             2320.0\n",
       "8           17.0             2315.0\n",
       "9           18.0             2375.0"
      ]
     },
     "execution_count": 129,
     "metadata": {},
     "output_type": "execute_result"
    }
   ],
   "source": [
    "B = 1000\n",
    "n = 1000\n",
    "\n",
    "bootstrap_estimates = pd.DataFrame({\"time_estimate\":np.zeros(B),\"distance_estimate\":np.zeros(B)})\n",
    "for i in np.arange(B):\n",
    "    resample = one_sample.sample(n=n,replace=True,random_state = i)\n",
    "    bootstrap_estimates.loc[i,\"time_estimate\"] = np.median(resample[\"이용시간\"])\n",
    "    bootstrap_estimates.loc[i,\"distance_estimate\"] = np.median(resample[\"이용거리\"])\n",
    "bootstrap_estimates.head(10)"
   ]
  },
  {
   "cell_type": "code",
   "execution_count": 120,
   "id": "b9d009e8",
   "metadata": {},
   "outputs": [
    {
     "data": {
      "text/plain": [
       "(16.5, 20.0)"
      ]
     },
     "execution_count": 120,
     "metadata": {},
     "output_type": "execute_result"
    }
   ],
   "source": [
    "lower_bound = float(np.quantile(bootstrap_estimates[[\"time_estimate\"]],0.025))\n",
    "upper_bound = float(np.quantile(bootstrap_estimates[[\"time_estimate\"]],0.975))\n",
    "lower_bound,upper_bound"
   ]
  },
  {
   "cell_type": "code",
   "execution_count": 125,
   "id": "db0e653d",
   "metadata": {},
   "outputs": [
    {
     "data": {
      "text/plain": [
       "(2180.0, 2530.25)"
      ]
     },
     "execution_count": 125,
     "metadata": {},
     "output_type": "execute_result"
    }
   ],
   "source": [
    "lower_bound = float(np.quantile(bootstrap_estimates[\"distance_estimate\"],0.025))\n",
    "upper_bound = float(np.quantile(bootstrap_estimates[\"distance_estimate\"],0.975))\n",
    "lower_bound,upper_bound"
   ]
  },
  {
   "cell_type": "code",
   "execution_count": 133,
   "id": "8635d52c",
   "metadata": {},
   "outputs": [],
   "source": [
    "bike2 = bike[ [\"이용시간\",\"이용거리\"] ].rename(columns={\"이용시간\":\"time\", \"이용거리\":\"distance\"})"
   ]
  },
  {
   "cell_type": "code",
   "execution_count": 139,
   "id": "251d52a3",
   "metadata": {},
   "outputs": [
    {
     "data": {
      "text/html": [
       "<div>\n",
       "<style scoped>\n",
       "    .dataframe tbody tr th:only-of-type {\n",
       "        vertical-align: middle;\n",
       "    }\n",
       "\n",
       "    .dataframe tbody tr th {\n",
       "        vertical-align: top;\n",
       "    }\n",
       "\n",
       "    .dataframe thead th {\n",
       "        text-align: right;\n",
       "    }\n",
       "</style>\n",
       "<table border=\"1\" class=\"dataframe\">\n",
       "  <thead>\n",
       "    <tr style=\"text-align: right;\">\n",
       "      <th></th>\n",
       "      <th>time_boot</th>\n",
       "      <th>distance_boot</th>\n",
       "    </tr>\n",
       "  </thead>\n",
       "  <tbody>\n",
       "    <tr>\n",
       "      <th>0</th>\n",
       "      <td>18.0</td>\n",
       "      <td>2305.0</td>\n",
       "    </tr>\n",
       "    <tr>\n",
       "      <th>1</th>\n",
       "      <td>17.0</td>\n",
       "      <td>2330.0</td>\n",
       "    </tr>\n",
       "    <tr>\n",
       "      <th>2</th>\n",
       "      <td>18.0</td>\n",
       "      <td>2365.0</td>\n",
       "    </tr>\n",
       "    <tr>\n",
       "      <th>3</th>\n",
       "      <td>18.0</td>\n",
       "      <td>2410.0</td>\n",
       "    </tr>\n",
       "    <tr>\n",
       "      <th>4</th>\n",
       "      <td>19.0</td>\n",
       "      <td>2330.0</td>\n",
       "    </tr>\n",
       "    <tr>\n",
       "      <th>...</th>\n",
       "      <td>...</td>\n",
       "      <td>...</td>\n",
       "    </tr>\n",
       "    <tr>\n",
       "      <th>995</th>\n",
       "      <td>17.5</td>\n",
       "      <td>2305.0</td>\n",
       "    </tr>\n",
       "    <tr>\n",
       "      <th>996</th>\n",
       "      <td>19.0</td>\n",
       "      <td>2360.0</td>\n",
       "    </tr>\n",
       "    <tr>\n",
       "      <th>997</th>\n",
       "      <td>19.0</td>\n",
       "      <td>2315.0</td>\n",
       "    </tr>\n",
       "    <tr>\n",
       "      <th>998</th>\n",
       "      <td>17.0</td>\n",
       "      <td>2320.0</td>\n",
       "    </tr>\n",
       "    <tr>\n",
       "      <th>999</th>\n",
       "      <td>19.0</td>\n",
       "      <td>2375.0</td>\n",
       "    </tr>\n",
       "  </tbody>\n",
       "</table>\n",
       "<p>1000 rows × 2 columns</p>\n",
       "</div>"
      ],
      "text/plain": [
       "     time_boot  distance_boot\n",
       "0         18.0         2305.0\n",
       "1         17.0         2330.0\n",
       "2         18.0         2365.0\n",
       "3         18.0         2410.0\n",
       "4         19.0         2330.0\n",
       "..         ...            ...\n",
       "995       17.5         2305.0\n",
       "996       19.0         2360.0\n",
       "997       19.0         2315.0\n",
       "998       17.0         2320.0\n",
       "999       19.0         2375.0\n",
       "\n",
       "[1000 rows x 2 columns]"
      ]
     },
     "execution_count": 139,
     "metadata": {},
     "output_type": "execute_result"
    }
   ],
   "source": [
    "n = 1000 # 표본의 크기\n",
    "\n",
    "one_sample = bike2.sample(n=n, replace=False, random_state=13312)\n",
    "one_sample\n",
    "\n",
    "\n",
    "\n",
    "B = 1000    # 붓스트랩 모의실험의 횟수\n",
    "\n",
    "bootstrap_estimates = pd.DataFrame({'time_boot':np.zeros(B), 'distance_boot':np.zeros(B)})\n",
    "\n",
    "for i in np.arange(B):\n",
    "  boot_sample = one_sample.sample(n=n, replace=True, random_state=i)\n",
    "  bootstrap_estimates.loc[i,'time_boot'] = np.median(boot_sample.time)\n",
    "  bootstrap_estimates.loc[i,'distance_boot'] = np.median(boot_sample.distance) \n",
    "\n",
    "bootstrap_estimates "
   ]
  },
  {
   "cell_type": "markdown",
   "id": "046beec9",
   "metadata": {},
   "source": [
    "# 뭐야 왜 강의자료랑 다르게 나옴 ..?"
   ]
  }
 ],
 "metadata": {
  "kernelspec": {
   "display_name": "Python 3 (ipykernel)",
   "language": "python",
   "name": "python3"
  },
  "language_info": {
   "codemirror_mode": {
    "name": "ipython",
    "version": 3
   },
   "file_extension": ".py",
   "mimetype": "text/x-python",
   "name": "python",
   "nbconvert_exporter": "python",
   "pygments_lexer": "ipython3",
   "version": "3.9.13"
  },
  "toc": {
   "base_numbering": 1,
   "nav_menu": {},
   "number_sections": true,
   "sideBar": true,
   "skip_h1_title": false,
   "title_cell": "Table of Contents",
   "title_sidebar": "Contents",
   "toc_cell": false,
   "toc_position": {},
   "toc_section_display": true,
   "toc_window_display": true
  }
 },
 "nbformat": 4,
 "nbformat_minor": 5
}
