{
 "cells": [
  {
   "cell_type": "raw",
   "metadata": {},
   "source": [
    "---\n",
    "author: 신호연\n",
    "date: 2022-12-27\n",
    "title: 최대가능도 추정법(MLE)\n",
    "format: html\n",
    "categories: [probability&statistics]\n",
    "---\n",
    "최대가능도 추정법(MLE)에 대한 정리"
   ]
  },
  {
   "attachments": {},
   "cell_type": "markdown",
   "metadata": {},
   "source": [
    "## Likelyhood(가능도)"
   ]
  },
  {
   "attachments": {},
   "cell_type": "markdown",
   "metadata": {},
   "source": [
    "가능도(Likely hood) 샘플이 주어질 때, 임의의 모수(parameter)$\\theta$를 가지는 확률분포가 주어진 샘플을 취할 가능성,확률을 나타내며 그 값은 확률함수의 값과 같습니다.<br>\n",
    "\n",
    "\n",
    "\\begin{align}\n",
    "\\text{Given}\\, (x_1,x_2,...,x_n),\\,L(\\theta|X = (x_1,x_2,\\dots,x_n)) = Pr(X=(x_1,x_2,\\dots,x_n)|\\theta)\n",
    "\\end{align}"
   ]
  },
  {
   "attachments": {},
   "cell_type": "markdown",
   "metadata": {},
   "source": [
    "::: {.callout-note}\n",
    "가능도 함수의 함숫값은 확률함수의 함숫값과 같지만 가능도함수가 확률함수는 아닙니다. 또한 확률분포는 확률변수에 대한 함수로서 **확률변수가** 특정값을 취하거나 또는 특정구간안에 값이 존재할 가능성을 알려주지만 가능도함수는 가정한 확률분포의 모수에 대한 함수로서 **임의의 모수를 가지는 확률분포가** 특정값을 가질 가능성을 알려줍니다.\n",
    ":::"
   ]
  },
  {
   "attachments": {},
   "cell_type": "markdown",
   "metadata": {},
   "source": [
    "## MLE(최대가능도 추정법)"
   ]
  },
  {
   "attachments": {},
   "cell_type": "markdown",
   "metadata": {},
   "source": [
    "최대가능도추정법(MLE)는 확률분포의 모수를 추정하는 점추정방법 중 하나로 가능도함수의 함숫값(가능도)을 가장크게하는 모숫값 즉,주어진 샘플을 취할 가능성,확률이 가장 큰 모숫값을 모수에 대한 추정량으로 하는 방법입니다.<br>\n",
    "$$\\hat{\\theta} = \\underset{\\theta}{\\text{argmax}}\\,L(\\theta|X=x)$$\n",
    "\n",
    "가능도함수의 함숫값(가능도)는 모수가 주어진 상황에서 확률분포의 값과 같으므로 식을 다음과 같이 쓸수도 있습니다.<br>\n",
    "$$\\hat{\\theta} = \\underset{\\theta}{\\text{argmax}}\\,L(\\theta|X=x) = \\underset{\\theta}{\\text{argmax}}\\,Pr(X=x|\\theta)$$"
   ]
  },
  {
   "attachments": {},
   "cell_type": "markdown",
   "metadata": {},
   "source": [
    "## NLL"
   ]
  },
  {
   "attachments": {},
   "cell_type": "markdown",
   "metadata": {},
   "source": [
    "LL은 log likelyhood의 약자로 likelyhood에 log를 취해준 값입니다. 로그함수를 취해도 함수가 최대값을 갖는 모수 $\\theta$위차가 변하지 않고 계산을 곱셈을 더하기로 바꿔서 계산하기에 더 편리하기 때문에 LL을 사용합니다.<br>\n",
    "\n",
    "NLL은 LL에 -를 곱해준 값입니다. 함수가 최대인 지점을 찾는 문제를 최소인 지점을 찾는 문제로 바꿀 수 있으며 따라서 경사하강법을 활용할 수 있습니다."
   ]
  },
  {
   "attachments": {},
   "cell_type": "markdown",
   "metadata": {},
   "source": [
    "최종적으로 $\\hat{\\theta}$는 다음과 같습니다.<br>\n",
    "$$\\hat{\\theta} = \\underset{\\theta}{argmin}\\,\\text{NLL} = \\underset{\\theta}{argmin}\\,-\\text{ln}\\,L(\\theta|X=x)$$"
   ]
  }
 ],
 "metadata": {
  "kernelspec": {
   "display_name": "base",
   "language": "python",
   "name": "python3"
  },
  "language_info": {
   "codemirror_mode": {
    "name": "ipython",
    "version": 3
   },
   "file_extension": ".py",
   "mimetype": "text/x-python",
   "name": "python",
   "nbconvert_exporter": "python",
   "pygments_lexer": "ipython3",
   "version": "3.9.13 (main, Aug 25 2022, 23:51:50) [MSC v.1916 64 bit (AMD64)]"
  },
  "orig_nbformat": 4,
  "vscode": {
   "interpreter": {
    "hash": "0478b8cb1c47bafb71305148a49d30528a4d9c22ca2de336c01aa5a8230a459a"
   }
  }
 },
 "nbformat": 4,
 "nbformat_minor": 2
}
