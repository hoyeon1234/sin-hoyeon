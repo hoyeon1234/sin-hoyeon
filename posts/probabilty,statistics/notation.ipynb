{
 "cells": [
  {
   "cell_type": "raw",
   "metadata": {},
   "source": [
    "---\n",
    "title: \"확률분포에서 `;`와`|`의 사용\"\n",
    "author: 신호연\n",
    "date: 2022-12-27\n",
    "format: html\n",
    "categories: [probability&statistics]\n",
    "---\n",
    "확률분포에서 ;와|에 관한 notation 정리"
   ]
  },
  {
   "attachments": {},
   "cell_type": "markdown",
   "metadata": {},
   "source": [
    "# `;`의 사용"
   ]
  },
  {
   "attachments": {},
   "cell_type": "markdown",
   "metadata": {},
   "source": [
    "## 언제 `;`를 사용하지?"
   ]
  },
  {
   "attachments": {},
   "cell_type": "markdown",
   "metadata": {},
   "source": [
    "`;`의 뒤에는 다변수 함수에서 특정 변수를 시켜놓았다라는 의미로 쓰인다.\n",
    "다음과 같은 이변수함수를 생각해보자<br>\n",
    "$$f(x,y)$$\n",
    "독립변수 x와 y를 갖는 함수이며 두 변수 모두에 대해서 미분가능하다. 여기서 변수 y가 어떤 어떤 값으로 고정된것이 알려지거나 또는 고정된상황을 가정한 후  x에 대해서만 관심이 있다고 해보자(미분,극한등을 아마도?취하고 싶다..아마도...) 이때는 이변수함수로 표기하는것이 아닌 일변수함수로 표기해야한다. 그때는 다음과 같이 표기하면 된다.<br>\n",
    "$$\n",
    "f(x;y)\n",
    "$$<br>\n",
    "\n",
    "이렇게 표기하면 y값은 이제 어떤 값으로 이미 설정(setting)되거나 고정(fixed)되어있음을 의미한다.<br>"
   ]
  },
  {
   "attachments": {},
   "cell_type": "markdown",
   "metadata": {},
   "source": [
    "## 확률함수에서 `;`의 사용"
   ]
  },
  {
   "attachments": {},
   "cell_type": "markdown",
   "metadata": {},
   "source": [
    "베르누이분포의 확률질량함수는 다음과 같다<br>\n",
    "$$\n",
    "f_X(x) = p^x(1-p)^{1-x}\n",
    "$$<br>\n",
    "\n",
    "이식을 해석해보면 다음과 같다.<br>\n",
    "- 좌변 : 확률변수 X에 관한 확률함수이며 실험 또는 시행으로부터 확률변수X가 취할 수 있는 값인 변수x를 입력으로 갖는다.\n",
    "- 우변 : 구체적인 확률질량함수(또는 확률밀도함수)이다.\n",
    "\n",
    "베르누이분포 확률질량함수에서 이미 setting,fixed된 모수(parameter)를 명시적으로 표현하고자 할때에는 다음과 같은 표기를 사용한다.<br>\n",
    "$$f_X(x;p) = p^x(1-p)^{1-x}$$"
   ]
  },
  {
   "attachments": {},
   "cell_type": "markdown",
   "metadata": {},
   "source": [
    "## `|`의 사용<br>"
   ]
  },
  {
   "attachments": {},
   "cell_type": "markdown",
   "metadata": {},
   "source": [
    "`|`는 given that이라는 의미이며 |의 오른쪽에는 조건 또는 주어지는 상황이 나온다. 확률,통계 분야에서만 쓰이며 조건부 확률이나,베이지안에서 많이 쓰이는 기호라고 한다. 여기서 조건은 확률변수의 어떤 값이므로 마찬가지로 미리주어지는 값이다. 변수가 아니라 모수(parameter)로 생각할 수 있으며 결국에는 설정된,고정된 값이다."
   ]
  },
  {
   "attachments": {},
   "cell_type": "markdown",
   "metadata": {},
   "source": [
    "조건부 확률분포(조건부확률밀도함수,조건부 확률함수)는 다음과 같다.<br>\n",
    "$$\n",
    "p_{X|Y}(x|y) = \\frac{p_{XY}(x,y)}{p_Y(y)}\\\\\n",
    "p_{X|Y}(y|x) = \\frac{p_{XY}(x,y)}{p_X(x)}\n",
    "$$ <br>\n",
    "가장 윗식을 해석해보면 다음과 같다.<br>\n",
    "- 좌변 : 확률변수 Y가 주어진(given)상황에서 확률변수X의 확률(또는 확률밀도)를 나타내는 함수이며 시행으로부터 확률변수 X가 취할 수 있는 값 x를 입력으로 받는다. 조건부 확률분포에서 Y의 값은 y로 주어져 있다고 가정하므로 입력하는 변수가 아니다. 따라서 확률변수 Y는 변수가 아니라 모수(parameter)이다.<br>\n",
    "- 우변 : 조건부확률분포 공식.<br>"
   ]
  },
  {
   "attachments": {},
   "cell_type": "markdown",
   "metadata": {},
   "source": [
    "## 결론 `;` 과 `|`\n",
    "$$p_{\\theta}(x) = p(x;\\theta) = p(x|\\theta)$$\n",
    "<br>\n",
    "`;`는 수학의 모든 분야에서 쓰이지만 `|`는 확률통계분야에서만 쓰인다. ;다음에는 이미 설정되거나 고정된 값이 나오며 |다음에는 이미 주어진 조건이 나온다. 확률,통계 분야에서는 |다음에 나오는 조건은 조건부확률분포에서의 주어진 조건이자 설정된,고정된 값인 경우가 많다. 따라서 비공식적으로 혼용해서 쓰며 경험상 ;다음에는 그래도 설정된 값을 의미하는 모수(parameter)가 |는 조건부 확률이나 확률분포를 쓰는 경우가 많은 것 같다.<br>\n",
    "\n",
    "참고링크<br>\n",
    "[링크1(;의 사용법)](https://math.stackexchange.com/questions/3421665/do-the-vertical-bar-and-semicolon-denote-the-same-thing-in-the-context-of-condit)<br>\n",
    "[링크2(조건부확률분포)](https://datascienceschool.net/02%20mathematics/07.04%20%EB%8B%A4%EB%B3%80%EC%88%98%20%ED%99%95%EB%A5%A0%EB%B3%80%EC%88%98.html#id13)<br>\n",
    "[링크3(표기법의 혼용)](https://bubilife.tistory.com/32)"
   ]
  },
  {
   "cell_type": "raw",
   "metadata": {},
   "source": []
  }
 ],
 "metadata": {
  "kernelspec": {
   "display_name": "base",
   "language": "python",
   "name": "python3"
  },
  "language_info": {
   "codemirror_mode": {
    "name": "ipython",
    "version": 3
   },
   "file_extension": ".py",
   "mimetype": "text/x-python",
   "name": "python",
   "nbconvert_exporter": "python",
   "pygments_lexer": "ipython3",
   "version": "3.9.13 (main, Aug 25 2022, 23:51:50) [MSC v.1916 64 bit (AMD64)]"
  },
  "orig_nbformat": 4,
  "vscode": {
   "interpreter": {
    "hash": "0478b8cb1c47bafb71305148a49d30528a4d9c22ca2de336c01aa5a8230a459a"
   }
  }
 },
 "nbformat": 4,
 "nbformat_minor": 2
}
