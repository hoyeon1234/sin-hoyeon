{
 "cells": [
  {
   "cell_type": "raw",
   "metadata": {},
   "source": [
    "---\n",
    "date: 2023-01-13\n",
    "author: 신호연\n",
    "title: \"[PRML 읽기] 1.2 확률론\"\n",
    "format: html\n",
    "categories: [Deep learning]\n",
    "---"
   ]
  },
  {
   "attachments": {},
   "cell_type": "markdown",
   "metadata": {},
   "source": [
    "# <span style = \"color : #00994c\">**Probability Theory**"
   ]
  },
  {
   "attachments": {},
   "cell_type": "markdown",
   "metadata": {},
   "source": [
    "## <span style = \"color : #00994c\">**개요**"
   ]
  },
  {
   "attachments": {},
   "cell_type": "markdown",
   "metadata": {},
   "source": [
    "![Figure1.9](./images/PRML/fig1.9.png)"
   ]
  },
  {
   "attachments": {},
   "cell_type": "markdown",
   "metadata": {},
   "source": [
    "빨강색,파랑색 상자 중 하나를 선택하고 선택한 상자안에서 사과(초록) 또는 오렌지(주황)를 꺼낸다고 합시다. 여러번 반복했을 때, 빨강색 상자와 파랑색 상자가 선택된 비율이 각각 40%,60%라고 알려져 있는 상태입니다. 미래에 선택된 상자를 나타내는 변수를 B라고 하면 실제로 상자를 선택하기 전까지는 각각의 상자를 뽑을 확률(가능성)만이 존재하므로 변수B는 확률변수 입니다. 이 확률변수가 취할 수 있는 값은 r 또는 b로 두 가지 입니다. 마찬가지로 미래에 선택된 과일을 나타내는 확률변수 F를 놓을 수 있고 F가 취할 수 있는 값을 a 또는 o로 놓을 수 있습니다."
   ]
  },
  {
   "attachments": {},
   "cell_type": "markdown",
   "metadata": {},
   "source": [
    "사건이 발생할 확률은 빈도주의 관점에서 시행횟수 N을 무한히 했을 때, 사건이 발생하는 비율로 정의됩니다. 따라서 빨강색 상자가 선택할 확률은 40% 파랑색 상자를 선택할 확률은 60%입니다.<br>"
   ]
  },
  {
   "cell_type": "markdown",
   "metadata": {},
   "source": [
    "\\begin{aligned}\n",
    "p(B = r) = 0.4 \\\\\n",
    "p(B = b) = 0.6\n",
    "\\end{aligned}"
   ]
  },
  {
   "attachments": {},
   "cell_type": "markdown",
   "metadata": {},
   "source": [
    "각각의 상자를 선택하는 사건의 확률은 확률의 정의에 의해서 [0,1]사이의 구간에만 존재합니다. 또한 각각의 상자를 선택하는 사건은 상호베타적이면서 시행으로부터 나올 수 있는 모든 결과들 입니다. 그러므로 확률의 합은 1입니다. 여기서 다른 질문 예를 들면, \"사과(초록)이나 오렌지(주황)가 나올 확률은?\" 또는 \"사과를 뽑았을 때 어떤 상자를 선택할 가능성이 높은지?\"에 대해서 궁금증을 가질 수 있습니다. 이는 sum rule과 product rule을 알아야 합니다."
   ]
  },
  {
   "attachments": {},
   "cell_type": "markdown",
   "metadata": {},
   "source": [
    "## <span style = \"color : #00994c\">**Sum Rule & Product Rule**"
   ]
  },
  {
   "attachments": {},
   "cell_type": "markdown",
   "metadata": {},
   "source": [
    "![Figure1.9](./images/PRML/fig1.10.png)"
   ]
  },
  {
   "attachments": {},
   "cell_type": "markdown",
   "metadata": {},
   "source": [
    "확률변수 X,Y가 존재하고 X가 취할 수 있는 값은 $x_i(i=1,2,\\dots,M)$ Y가 취할 수 있는 값은 $y_j(j=1,2,\\dots,L)$라고 합시다. 총 N번의 시행에서 $X = x_i$이면서 동시에 $Y=y_i$인 사건이 발생한 횟수는 $n_{ij}$이며 $X = x_i$인 사건이 발생한 횟수는 $c_i$이고 확률변수 $Y = y_j$인 사건이 발생한 횟수는 $r_j$입니다."
   ]
  },
  {
   "attachments": {},
   "cell_type": "markdown",
   "metadata": {},
   "source": [
    "확률변수 $X = x_i$이고 $Y=y_j$인 사건이 동시에 발생할 확률을 $X=x_i,Y=y_j$일 때의 결합확률(joint probability)라고 합니다."
   ]
  },
  {
   "attachments": {},
   "cell_type": "markdown",
   "metadata": {},
   "source": [
    "$$p(X = x_i,Y = y_j)$$"
   ]
  },
  {
   "attachments": {},
   "cell_type": "markdown",
   "metadata": {},
   "source": [
    "결합확률은 시행횟수 $N$일때 (암묵적으로 $N \\rightarrow \\infty$라 가정합니다.), $X=x_i,Y=y_j$인 사건이 발생하는 횟수 $n_{ij}$의 비율입니다. (사건이 1개만 발생할때의 확률의 계산방법과 동일합니다.)"
   ]
  },
  {
   "attachments": {},
   "cell_type": "markdown",
   "metadata": {},
   "source": [
    "$$p(X=x_i,Y=y_j) = \\frac{c_{ij}}{N}$$\n"
   ]
  },
  {
   "attachments": {},
   "cell_type": "markdown",
   "metadata": {},
   "source": [
    "확률변수 $X = x_i$인 사건이 발생하는 횟수는 $c_i$는 $X = x_i,Y = y_j(\\text{for } j=1,2,\\dots,L)$인 사건이 발생하는 횟수들의 합입니다. 예를 들자면 시행을 여러번 했다고 가정할 때, 사과를 선택한 사건 $F = a$이 발생한 횟수는 사과를 선택하고  상자가 파랑색 상자인 $F=a,B=r$ 사건이 발생한 횟수 + 사과를 선택하고 상자가 빨강색 상자인$F=a,B=b$ 사건이 발생한 횟수와 같습니다."
   ]
  },
  {
   "attachments": {},
   "cell_type": "markdown",
   "metadata": {},
   "source": [
    "$$c_i = \\sum_{j=1}^{L}n_{ij}$$\n"
   ]
  },
  {
   "attachments": {},
   "cell_type": "markdown",
   "metadata": {},
   "source": [
    "결과적으로 ,$X = x_i$인 사건의 확률은 다음과 같습니다."
   ]
  },
  {
   "attachments": {},
   "cell_type": "markdown",
   "metadata": {},
   "source": [
    "\\begin{aligned}\n",
    "p(X = x_i) &= \\frac{c_{i}}{N} \\\\\n",
    "&=\\frac{\\sum_{j=1}^{L}n_{ij}}{N}\\\\\n",
    "&= p(X=x_i,Y=y_1) + p(X=x_i,Y=y_2) + \\dots + p(X=x_i,Y=y_L) \\\\\n",
    "&= \\sum_{j=1}^{L}p(X=x_i,Y=y_j) \\\\\n",
    "\\end{aligned}"
   ]
  },
  {
   "attachments": {},
   "cell_type": "markdown",
   "metadata": {},
   "source": [
    "위와 같이 임의의 확률변수 $X$가 $x_i$인 사건에 대한 확률을 구할 때, 다른 확률변수와의 모든 결합확률을 더하여 구하는 법칙을 sum rule of probability라고 합니다. 이때 구한 확률은 다른 확률변수와 $Y$와의 결합확률을 marginalizing 또는 summing out하여 구하므로 marginal probability라고 합니다."
   ]
  },
  {
   "attachments": {},
   "cell_type": "markdown",
   "metadata": {},
   "source": [
    "# <span style = \"color : #00994C\">보충설명"
   ]
  },
  {
   "cell_type": "markdown",
   "metadata": {},
   "source": []
  }
 ],
 "metadata": {
  "kernelspec": {
   "display_name": "base",
   "language": "python",
   "name": "python3"
  },
  "language_info": {
   "codemirror_mode": {
    "name": "ipython",
    "version": 3
   },
   "file_extension": ".py",
   "mimetype": "text/x-python",
   "name": "python",
   "nbconvert_exporter": "python",
   "pygments_lexer": "ipython3",
   "version": "3.9.13 (main, Aug 25 2022, 23:51:50) [MSC v.1916 64 bit (AMD64)]"
  },
  "orig_nbformat": 4,
  "vscode": {
   "interpreter": {
    "hash": "0478b8cb1c47bafb71305148a49d30528a4d9c22ca2de336c01aa5a8230a459a"
   }
  }
 },
 "nbformat": 4,
 "nbformat_minor": 2
}
