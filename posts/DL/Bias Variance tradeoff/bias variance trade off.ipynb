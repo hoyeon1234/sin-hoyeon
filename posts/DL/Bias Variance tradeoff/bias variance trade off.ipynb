{
 "cells": [
  {
   "cell_type": "raw",
   "metadata": {},
   "source": [
    "---\n",
    "title: \"[Probability & Statistics] Bias Variance Tradeoff\"\n",
    "format: html\n",
    "---"
   ]
  },
  {
   "attachments": {},
   "cell_type": "markdown",
   "metadata": {},
   "source": [
    "## <span style = \"color:black\"> **Bias Variancce Tradeoff**"
   ]
  },
  {
   "attachments": {},
   "cell_type": "markdown",
   "metadata": {},
   "source": [
    "## <span style = \"color:black\"> **Intuition**"
   ]
  },
  {
   "attachments": {},
   "cell_type": "markdown",
   "metadata": {},
   "source": [
    "- `supervised learning`의 목적 중 하나는 unknown data에 대해서 `generalization`을 잘 하도록 모델을 학습시키는 것입니다.\n",
    "- 이는 `expected generalization error`에 포함하는 `bias`와 `variance`를 줄이도록 학습하는 것과 같습니다..\n",
    "- 그러나 학습과정에서 `bias`와 `variance`는 서로간에 상충합니다. \n",
    "- 풀어쓰자면 `bias`가 작아지면 `variance`는 커지고 `variance`가 작아지면 `bias`가 커지는 `bias variance tradeoff` 현상이 나타납니다.\n",
    "- bias와 variance를 조금 구체적으로 살펴보면 다음과 같습니다."
   ]
  },
  {
   "attachments": {},
   "cell_type": "markdown",
   "metadata": {},
   "source": [
    "**bias**\n",
    "\n",
    "- `bias`는 학습알고리즘에서의 잘못된 가정으로 인해 발생하는 `오류`입니다.<br> \n",
    "- `High bias`는 학습알고리즘이 **feature와 target간의 `regularities` 를 놓치게 합니다.**(`underfitting의 원인`)<br>\n",
    "- 이는 **`unknown data`에 대해서 `generalization error`가 나오게** 합니다.\n",
    "\n",
    "**vairance**\n",
    "\n",
    "- `variance`는 훈련데이터에서의 작은 변동에 학습알고리즘이 민감하게 반응하여 발생하는 `오류`입니다.<br>\n",
    "- `High variance`는 학습알고리즘이 **feature와 target간의 `regularities` 를 너무 과하게 학습해서 발생합니다.**(`overfitting의 결과`)\n",
    "- 마찬가지로 이는 **`unknown data`에 대해서 `generalization error`가 나오게** 합니다."
   ]
  },
  {
   "attachments": {},
   "cell_type": "markdown",
   "metadata": {},
   "source": [
    "![](./bias%20variance%20tdoff%20.png)"
   ]
  },
  {
   "attachments": {},
   "cell_type": "markdown",
   "metadata": {},
   "source": [
    "1번그림\n",
    "\n",
    "- bias가 작아서 알고리즘이 어떤 방향으로 편향되지 않습니다.\n",
    "- variance또한 작아서 데이터의 변화에 의한 학습된 알고리즘의 변동,편차는 거의 없습니다.\n",
    "- 전체적으로 bias,variance가 작기 때문에 학습된 알고리즘은 True값에 가깝습니다.\n",
    "\n",
    "2번그림\n",
    "\n",
    "- bias가 크기 때문에 오른쪽 방향으로 편향되어 있습니다.<br>\n",
    "- variance는 작아서 데이터의 변화에 의한 학습된 알고리즘의 변동,편차는 거의 없습니다.<br>\n",
    "\n",
    "3번그림\n",
    "\n",
    "- bias가 작아서 어떤 방향으로 편향되지 않습니다. \n",
    "- variance는 크기때문에 작은 데이터의 변화에 의한 학습된 알고리즘의 성능변화가 매우 심합니다.<br>"
   ]
  },
  {
   "attachments": {},
   "cell_type": "markdown",
   "metadata": {},
   "source": [
    "## <span style = \"color:black\"> **Derivation**"
   ]
  },
  {
   "attachments": {},
   "cell_type": "markdown",
   "metadata": {},
   "source": [
    "### <span style = \"color:black\"> **Background**"
   ]
  },
  {
   "attachments": {},
   "cell_type": "markdown",
   "metadata": {},
   "source": [
    "- 통계학에서 데이터는 다음과 같은 `additive error model`로부터 sampling됩니다."
   ]
  },
  {
   "cell_type": "code",
   "execution_count": 3,
   "metadata": {},
   "outputs": [
    {
     "name": "stderr",
     "output_type": "stream",
     "text": [
      "warning: in the working copy of 'posts/DL/Bias Variance tradeoff/bias variance trade off.ipynb', LF will be replaced by CRLF the next time Git touches it\n"
     ]
    },
    {
     "name": "stdout",
     "output_type": "stream",
     "text": [
      "[master 5b1231a] .\n",
      " 1 file changed, 96 insertions(+), 12 deletions(-)\n"
     ]
    },
    {
     "name": "stderr",
     "output_type": "stream",
     "text": [
      "To https://github.com/hoyeon1234/sin-hoyeon.git\n",
      "   732162e..5b1231a  master -> master\n",
      "From https://github.com/hoyeon1234/sin-hoyeon\n",
      " * branch            gh-pages   -> FETCH_HEAD\n",
      "Rendering for publish:\n",
      "\n",
      "[ 1/45] about.qmd\n",
      "[ 2/45] index.qmd\n",
      "WARNING: File C:\\Users\\22668\\Desktop\\github\\sin-hoyeon\\posts\\coading test\\programmers시저암호.ipynb in the listing 'listing' contains no metadata.\n",
      "WARNING: File C:\\Users\\22668\\Desktop\\github\\sin-hoyeon\\posts\\coading test\\programmers이상한문자만들기.ipynb in the listing 'listing' contains no metadata.\n",
      "WARNING: File C:\\Users\\22668\\Desktop\\github\\sin-hoyeon\\posts\\coading test\\programmers크기가작은부분문자열.ipynb in the listing 'listing' contains no metadata.\n",
      "WARNING: File C:\\Users\\22668\\Desktop\\github\\sin-hoyeon\\posts\\DL\\Auto Encoder Dimension Reduction.ipynb in the listing 'listing' contains no metadata.\n",
      "WARNING: File C:\\Users\\22668\\Desktop\\github\\sin-hoyeon\\posts\\DL\\Bias Variance tradeoff\\bias variance trade off.ipynb in the listing 'listing' contains no metadata.\n",
      "WARNING: File C:\\Users\\22668\\Desktop\\github\\sin-hoyeon\\posts\\DL\\Linear Regression.ipynb in the listing 'listing' contains no metadata.\n",
      "WARNING: File C:\\Users\\22668\\Desktop\\github\\sin-hoyeon\\posts\\DL\\Logistic Regression.ipynb in the listing 'listing' contains no metadata.\n",
      "WARNING: File C:\\Users\\22668\\Desktop\\github\\sin-hoyeon\\posts\\DL\\Multinomial Logistic Regression,Softmatx Regression.ipynb in the listing 'listing' contains no metadata.\n",
      "WARNING: File C:\\Users\\22668\\Desktop\\github\\sin-hoyeon\\posts\\DL\\Pytorch Rnn 구현.ipynb in the listing 'listing' contains no metadata.\n",
      "WARNING: File C:\\Users\\22668\\Desktop\\github\\sin-hoyeon\\posts\\DL\\[PRML 정독하기] Probability Theory.ipynb in the listing 'listing' contains no metadata.\n",
      "WARNING: File C:\\Users\\22668\\Desktop\\github\\sin-hoyeon\\posts\\DL\\[PRML 정독하기] Probability Theory2.ipynb in the listing 'listing' contains no metadata.\n",
      "WARNING: File C:\\Users\\22668\\Desktop\\github\\sin-hoyeon\\posts\\Linear Algebra\\Ax=b의 해의 갯수 알아내기\\Ax = b의 해석.ipynb in the listing 'listing' contains no metadata.\n",
      "WARNING: File C:\\Users\\22668\\Desktop\\github\\sin-hoyeon\\posts\\Linear Algebra\\eigendecomposition.ipynb in the listing 'listing' contains no metadata.\n",
      "WARNING: File C:\\Users\\22668\\Desktop\\github\\sin-hoyeon\\posts\\Linear Algebra\\eigenvalue eigenvector.ipynb in the listing 'listing' contains no metadata.\n",
      "WARNING: File C:\\Users\\22668\\Desktop\\github\\sin-hoyeon\\posts\\Linear Algebra\\Least Squares\\Least Squares.ipynb in the listing 'listing' contains no metadata.\n",
      "WARNING: File C:\\Users\\22668\\Desktop\\github\\sin-hoyeon\\posts\\Linear Algebra\\orthonormal diagonalizability.ipynb in the listing 'listing' contains no metadata.\n",
      "WARNING: File C:\\Users\\22668\\Desktop\\github\\sin-hoyeon\\posts\\Linear Algebra\\orthonormal matrix.ipynb in the listing 'listing' contains no metadata.\n",
      "WARNING: File C:\\Users\\22668\\Desktop\\github\\sin-hoyeon\\posts\\Linear Algebra\\quadratic form\\quadratic forms.ipynb in the listing 'listing' contains no metadata.\n",
      "WARNING: File C:\\Users\\22668\\Desktop\\github\\sin-hoyeon\\posts\\Linear Algebra\\rank and null space\\rank and null space.ipynb in the listing 'listing' contains no metadata.\n",
      "WARNING: File C:\\Users\\22668\\Desktop\\github\\sin-hoyeon\\posts\\Linear Algebra\\span과 columns space.ipynb in the listing 'listing' contains no metadata.\n",
      "WARNING: File C:\\Users\\22668\\Desktop\\github\\sin-hoyeon\\posts\\Linear Algebra\\행렬곱에 대한 여러가지 시각.ipynb in the listing 'listing' contains no metadata.\n",
      "WARNING: File C:\\Users\\22668\\Desktop\\github\\sin-hoyeon\\posts\\numpy & pandas\\pandas applymap apply map\\pandas apply map applymap.ipynb in the listing 'listing' contains no metadata.\n",
      "WARNING: File C:\\Users\\22668\\Desktop\\github\\sin-hoyeon\\posts\\numpy & pandas\\수치미분 & np.gradient\\수치미분 & np.gradient.ipynb in the listing 'listing' contains no metadata.\n",
      "WARNING: File C:\\Users\\22668\\Desktop\\github\\sin-hoyeon\\posts\\paper study\\auto-encoding variational bayes\\Auto-Encoding Variational Bayes.ipynb in the listing 'listing' contains no metadata.\n",
      "WARNING: File C:\\Users\\22668\\Desktop\\github\\sin-hoyeon\\posts\\paper study\\auto-encoding variational bayes implement\\Auto-Encoding Variational Bayes.ipynb in the listing 'listing' contains no metadata.\n",
      "WARNING: File C:\\Users\\22668\\Desktop\\github\\sin-hoyeon\\posts\\paper study\\batchnormalization\\batchnormalization.ipynb in the listing 'listing' contains no metadata.\n",
      "WARNING: File C:\\Users\\22668\\Desktop\\github\\sin-hoyeon\\posts\\paper study\\dqn\\DQN.ipynb in the listing 'listing' contains no metadata.\n",
      "WARNING: File C:\\Users\\22668\\Desktop\\github\\sin-hoyeon\\posts\\paper study\\gan\\gan.ipynb in the listing 'listing' contains no metadata.\n",
      "WARNING: File C:\\Users\\22668\\Desktop\\github\\sin-hoyeon\\posts\\paper study\\seq2seq\\seq2seq.ipynb in the listing 'listing' contains no metadata.\n",
      "WARNING: File C:\\Users\\22668\\Desktop\\github\\sin-hoyeon\\posts\\Probability&Statistics\\categori distribution.ipynb in the listing 'listing' contains no metadata.\n",
      "WARNING: File C:\\Users\\22668\\Desktop\\github\\sin-hoyeon\\posts\\Probability&Statistics\\Maximum likelyhood estimation\\MLE.ipynb in the listing 'listing' contains no metadata.\n",
      "WARNING: File C:\\Users\\22668\\Desktop\\github\\sin-hoyeon\\posts\\Probability&Statistics\\notation.ipynb in the listing 'listing' contains no metadata.\n",
      "WARNING: File C:\\Users\\22668\\Desktop\\github\\sin-hoyeon\\posts\\Probability&Statistics\\sample space and random variable.ipynb in the listing 'listing' contains no metadata.\n",
      "WARNING: File C:\\Users\\22668\\Desktop\\github\\sin-hoyeon\\posts\\python\\(1) allocation,variable,interning\\python - allocation,variable,interning.ipynb in the listing 'listing' contains no metadata.\n",
      "WARNING: File C:\\Users\\22668\\Desktop\\github\\sin-hoyeon\\posts\\RL\\A simple bandit algorithm.ipynb in the listing 'listing' contains no metadata.\n",
      "WARNING: File C:\\Users\\22668\\Desktop\\github\\sin-hoyeon\\posts\\RL\\Bellman Equation(번외).ipynb in the listing 'listing' contains no metadata.\n",
      "WARNING: File C:\\Users\\22668\\Desktop\\github\\sin-hoyeon\\posts\\RL\\Chatper1 - Introduction\\Introduction.ipynb in the listing 'listing' contains no metadata.\n",
      "WARNING: File C:\\Users\\22668\\Desktop\\github\\sin-hoyeon\\posts\\RL\\RL 1.ipynb in the listing 'listing' contains no metadata.\n",
      "WARNING: File C:\\Users\\22668\\Desktop\\github\\sin-hoyeon\\posts\\RL\\RL 2 - MDP.ipynb in the listing 'listing' contains no metadata.\n",
      "WARNING: File C:\\Users\\22668\\Desktop\\github\\sin-hoyeon\\posts\\RL\\RL2-2 value function.ipynb in the listing 'listing' contains no metadata.\n",
      "WARNING: File C:\\Users\\22668\\Desktop\\github\\sin-hoyeon\\posts\\stochastic process\\SP-2023-03-17\\sp_2023_03_17.ipynb in the listing 'listing' contains no metadata.\n",
      "WARNING: File C:\\Users\\22668\\Desktop\\github\\sin-hoyeon\\posts\\visualization\\plotly_visualization\\ploty 시각화 모음.ipynb in the listing 'listing' contains no metadata.\n",
      "WARNING: File C:\\Users\\22668\\Desktop\\github\\sin-hoyeon\\posts\\visualization\\plotly_visualization\\Untitled-1.ipynb in the listing 'listing' contains no metadata.\n",
      "[ 3/45] posts\\coading test\\programmers시저암호.ipynb\n",
      "[ 4/45] posts\\coading test\\programmers이상한문자만들기.ipynb\n",
      "[ 5/45] posts\\coading test\\programmers크기가작은부분문자열.ipynb\n",
      "[ 6/45] posts\\DL\\Auto Encoder Dimension Reduction.ipynb\n",
      "[ 7/45] posts\\DL\\Bias Variance tradeoff\\bias variance trade off.ipynb\n",
      "[ 8/45] posts\\DL\\Linear Regression.ipynb\n",
      "[ 9/45] posts\\DL\\Logistic Regression.ipynb\n",
      "[10/45] posts\\DL\\Multinomial Logistic Regression,Softmatx Regression.ipynb\n",
      "[11/45] posts\\DL\\Pytorch Rnn 구현.ipynb\n",
      "[12/45] posts\\DL\\[PRML 정독하기] Probability Theory.ipynb\n",
      "[13/45] posts\\DL\\[PRML 정독하기] Probability Theory2.ipynb\n",
      "[14/45] posts\\Linear Algebra\\Ax=b의 해의 갯수 알아내기\\Ax = b의 해석.ipynb\n",
      "[15/45] posts\\Linear Algebra\\eigendecomposition.ipynb\n",
      "[16/45] posts\\Linear Algebra\\eigenvalue eigenvector.ipynb\n",
      "[17/45] posts\\Linear Algebra\\Least Squares\\Least Squares.ipynb\n",
      "[18/45] posts\\Linear Algebra\\orthonormal diagonalizability.ipynb\n",
      "[19/45] posts\\Linear Algebra\\orthonormal matrix.ipynb\n",
      "[20/45] posts\\Linear Algebra\\quadratic form\\quadratic forms.ipynb\n",
      "[21/45] posts\\Linear Algebra\\rank and null space\\rank and null space.ipynb\n",
      "[22/45] posts\\Linear Algebra\\span과 columns space.ipynb\n",
      "[23/45] posts\\Linear Algebra\\행렬곱에 대한 여러가지 시각.ipynb\n",
      "[24/45] posts\\numpy & pandas\\pandas applymap apply map\\pandas apply map applymap.ipynb\n",
      "[25/45] posts\\numpy & pandas\\수치미분 & np.gradient\\수치미분 & np.gradient.ipynb\n",
      "[26/45] posts\\paper study\\auto-encoding variational bayes\\Auto-Encoding Variational Bayes.ipynb\n",
      "[27/45] posts\\paper study\\auto-encoding variational bayes implement\\Auto-Encoding Variational Bayes.ipynb\n",
      "[28/45] posts\\paper study\\batchnormalization\\batchnormalization.ipynb\n",
      "[29/45] posts\\paper study\\dqn\\DQN.ipynb\n",
      "[30/45] posts\\paper study\\gan\\gan.ipynb\n",
      "[31/45] posts\\paper study\\seq2seq\\seq2seq.ipynb\n",
      "[32/45] posts\\Probability&Statistics\\categori distribution.ipynb\n",
      "[33/45] posts\\Probability&Statistics\\Maximum likelyhood estimation\\MLE.ipynb\n",
      "[34/45] posts\\Probability&Statistics\\notation.ipynb\n",
      "[35/45] posts\\Probability&Statistics\\sample space and random variable.ipynb\n",
      "[36/45] posts\\python\\(1) allocation,variable,interning\\python - allocation,variable,interning.ipynb\n",
      "[37/45] posts\\RL\\A simple bandit algorithm.ipynb\n",
      "[38/45] posts\\RL\\Bellman Equation(번외).ipynb\n",
      "[39/45] posts\\RL\\Chatper1 - Introduction\\Introduction.ipynb\n",
      "[40/45] posts\\RL\\RL 1.ipynb\n",
      "[41/45] posts\\RL\\RL 2 - MDP.ipynb\n",
      "[42/45] posts\\RL\\RL2-2 value function.ipynb\n",
      "[43/45] posts\\stochastic process\\SP-2023-03-17\\sp_2023_03_17.ipynb\n",
      "[44/45] posts\\visualization\\plotly_visualization\\ploty 시각화 모음.ipynb\n",
      "[45/45] posts\\visualization\\plotly_visualization\\Untitled-1.ipynb\n",
      "\n",
      "branch 'gh-pages' set up to track 'origin/gh-pages'.\n",
      "HEAD is now at 1120914 Built site for gh-pages\n",
      "Preparing worktree (resetting branch 'gh-pages'; was at 1120914)\n",
      "Updating files:  82% (353/428)\n",
      "Updating files:  83% (356/428)\n",
      "Updating files:  84% (360/428)\n",
      "Updating files:  85% (364/428)\n",
      "Updating files:  86% (369/428)\n",
      "Updating files:  87% (373/428)\n",
      "Updating files:  88% (377/428)\n",
      "Updating files:  89% (381/428)\n",
      "Updating files:  90% (386/428)\n",
      "Updating files:  91% (390/428)\n",
      "Updating files:  92% (394/428)\n",
      "Updating files:  93% (399/428)\n",
      "Updating files:  94% (403/428)\n",
      "Updating files:  95% (407/428)\n",
      "Updating files:  96% (411/428)\n",
      "Updating files:  97% (416/428)\n",
      "Updating files:  98% (420/428)\n",
      "Updating files:  99% (424/428)\n",
      "Updating files: 100% (428/428)\n",
      "Updating files: 100% (428/428), done.\n",
      "warning: in the working copy of 'about.html', LF will be replaced by CRLF the next time Git touches it\n",
      "warning: in the working copy of 'index.html', LF will be replaced by CRLF the next time Git touches it\n",
      "warning: in the working copy of 'listings.json', LF will be replaced by CRLF the next time Git touches it\n",
      "warning: in the working copy of 'posts/DL/Auto Encoder Dimension Reduction.html', LF will be replaced by CRLF the next time Git touches it\n",
      "warning: in the working copy of 'posts/DL/Bias Variance tradeoff/bias variance trade off.html', LF will be replaced by CRLF the next time Git touches it\n",
      "warning: in the working copy of 'posts/DL/Linear Regression.html', LF will be replaced by CRLF the next time Git touches it\n",
      "warning: in the working copy of 'posts/DL/Logistic Regression.html', LF will be replaced by CRLF the next time Git touches it\n",
      "warning: in the working copy of 'posts/DL/Multinomial Logistic Regression,Softmatx Regression.html', LF will be replaced by CRLF the next time Git touches it\n",
      "warning: in the working copy of 'posts/DL/Pytorch Rnn 구현.html', LF will be replaced by CRLF the next time Git touches it\n",
      "warning: in the working copy of 'posts/DL/[PRML 정독하기] Probability Theory.html', LF will be replaced by CRLF the next time Git touches it\n",
      "warning: in the working copy of 'posts/DL/[PRML 정독하기] Probability Theory2.html', LF will be replaced by CRLF the next time Git touches it\n",
      "warning: in the working copy of 'posts/Linear Algebra/Ax=b의 해의 갯수 알아내기/Ax = b의 해석.html', LF will be replaced by CRLF the next time Git touches it\n",
      "warning: in the working copy of 'posts/Linear Algebra/Least Squares/Least Squares.html', LF will be replaced by CRLF the next time Git touches it\n",
      "warning: in the working copy of 'posts/Linear Algebra/eigendecomposition.html', LF will be replaced by CRLF the next time Git touches it\n",
      "warning: in the working copy of 'posts/Linear Algebra/eigenvalue eigenvector.html', LF will be replaced by CRLF the next time Git touches it\n",
      "warning: in the working copy of 'posts/Linear Algebra/orthonormal diagonalizability.html', LF will be replaced by CRLF the next time Git touches it\n",
      "warning: in the working copy of 'posts/Linear Algebra/orthonormal matrix.html', LF will be replaced by CRLF the next time Git touches it\n",
      "warning: in the working copy of 'posts/Linear Algebra/quadratic form/quadratic forms.html', LF will be replaced by CRLF the next time Git touches it\n",
      "warning: in the working copy of 'posts/Linear Algebra/rank and null space/rank and null space.html', LF will be replaced by CRLF the next time Git touches it\n",
      "warning: in the working copy of 'posts/Linear Algebra/span과 columns space.html', LF will be replaced by CRLF the next time Git touches it\n",
      "warning: in the working copy of 'posts/Linear Algebra/행렬곱에 대한 여러가지 시각.html', LF will be replaced by CRLF the next time Git touches it\n",
      "warning: in the working copy of 'posts/Probability&Statistics/Maximum likelyhood estimation/MLE.html', LF will be replaced by CRLF the next time Git touches it\n",
      "warning: in the working copy of 'posts/Probability&Statistics/categori distribution.html', LF will be replaced by CRLF the next time Git touches it\n",
      "warning: in the working copy of 'posts/Probability&Statistics/notation.html', LF will be replaced by CRLF the next time Git touches it\n",
      "warning: in the working copy of 'posts/Probability&Statistics/sample space and random variable.html', LF will be replaced by CRLF the next time Git touches it\n",
      "warning: in the working copy of 'posts/RL/A simple bandit algorithm.html', LF will be replaced by CRLF the next time Git touches it\n",
      "warning: in the working copy of 'posts/RL/Bellman Equation(번외).html', LF will be replaced by CRLF the next time Git touches it\n",
      "warning: in the working copy of 'posts/RL/Chatper1 - Introduction/Introduction.html', LF will be replaced by CRLF the next time Git touches it\n",
      "warning: in the working copy of 'posts/RL/RL 1.html', LF will be replaced by CRLF the next time Git touches it\n",
      "warning: in the working copy of 'posts/RL/RL 2 - MDP.html', LF will be replaced by CRLF the next time Git touches it\n",
      "warning: in the working copy of 'posts/RL/RL2-2 value function.html', LF will be replaced by CRLF the next time Git touches it\n",
      "warning: in the working copy of 'posts/coading test/programmers시저암호.html', LF will be replaced by CRLF the next time Git touches it\n",
      "warning: in the working copy of 'posts/coading test/programmers이상한문자만들기.html', LF will be replaced by CRLF the next time Git touches it\n",
      "warning: in the working copy of 'posts/coading test/programmers크기가작은부분문자열.html', LF will be replaced by CRLF the next time Git touches it\n",
      "warning: in the working copy of 'posts/numpy & pandas/pandas apply map applymap.html', LF will be replaced by CRLF the next time Git touches it\n",
      "warning: in the working copy of 'posts/numpy & pandas/pandas applymap apply map/pandas apply map applymap.html', LF will be replaced by CRLF the next time Git touches it\n",
      "warning: in the working copy of 'posts/numpy & pandas/수치미분 & np.gradient/수치미분 & np.gradient.html', LF will be replaced by CRLF the next time Git touches it\n",
      "warning: in the working copy of 'posts/numpy/np.meshgrid.html', LF will be replaced by CRLF the next time Git touches it\n",
      "warning: in the working copy of 'posts/numpy/수치미분 & np.gradient/수치미분 & np.gradient.html', LF will be replaced by CRLF the next time Git touches it\n",
      "warning: in the working copy of 'posts/open/Dakon competetion chisquare test.html', LF will be replaced by CRLF the next time Git touches it\n",
      "warning: in the working copy of 'posts/open/Dakon competetion.html', LF will be replaced by CRLF the next time Git touches it\n",
      "warning: in the working copy of 'posts/open/Dakon competition modeling.html', LF will be replaced by CRLF the next time Git touches it\n",
      "warning: in the working copy of 'posts/open/Dakon competition torch.html', LF will be replaced by CRLF the next time Git touches it\n",
      "warning: in the working copy of 'posts/paper study/DQN review.html', LF will be replaced by CRLF the next time Git touches it\n",
      "warning: in the working copy of 'posts/paper study/DQN.html', LF will be replaced by CRLF the next time Git touches it\n",
      "warning: in the working copy of 'posts/paper study/auto-encoding variational bayes implement/Auto-Encoding Variational Bayes.html', LF will be replaced by CRLF the next time Git touches it\n",
      "warning: in the working copy of 'posts/paper study/auto-encoding variational bayes/Auto-Encoding Variational Bayes.html', LF will be replaced by CRLF the next time Git touches it\n",
      "warning: in the working copy of 'posts/paper study/batchnormalization/batchnormalization.html', LF will be replaced by CRLF the next time Git touches it\n",
      "warning: in the working copy of 'posts/paper study/dqn/DQN.html', LF will be replaced by CRLF the next time Git touches it\n",
      "warning: in the working copy of 'posts/paper study/gan/gan.html', LF will be replaced by CRLF the next time Git touches it\n",
      "warning: in the working copy of 'posts/paper study/seq2seq/seq2seq.html', LF will be replaced by CRLF the next time Git touches it\n",
      "warning: in the working copy of 'posts/python/(1) allocation,variable,interning/python - allocation,variable,interning.html', LF will be replaced by CRLF the next time Git touches it\n",
      "warning: in the working copy of 'posts/stochastic process/2023-03-09.html', LF will be replaced by CRLF the next time Git touches it\n",
      "warning: in the working copy of 'posts/stochastic process/SP-2023-03-17/sp_2023_03_17.html', LF will be replaced by CRLF the next time Git touches it\n",
      "warning: in the working copy of 'posts/visualization/plotly_visualization/Untitled-1.html', LF will be replaced by CRLF the next time Git touches it\n",
      "warning: in the working copy of 'posts/visualization/plotly_visualization/ploty 시각화 모음.html', LF will be replaced by CRLF the next time Git touches it\n",
      "warning: in the working copy of 'search.json', LF will be replaced by CRLF the next time Git touches it\n",
      "warning: in the working copy of 'site_libs/bootstrap/bootstrap-icons.css', LF will be replaced by CRLF the next time Git touches it\n",
      "warning: in the working copy of 'site_libs/bootstrap/bootstrap.min.css', LF will be replaced by CRLF the next time Git touches it\n",
      "warning: in the working copy of 'site_libs/bootstrap/bootstrap.min.js', LF will be replaced by CRLF the next time Git touches it\n",
      "warning: in the working copy of 'site_libs/clipboard/clipboard.min.js', LF will be replaced by CRLF the next time Git touches it\n",
      "warning: in the working copy of 'site_libs/quarto-html/anchor.min.js', LF will be replaced by CRLF the next time Git touches it\n",
      "warning: in the working copy of 'site_libs/quarto-html/popper.min.js', LF will be replaced by CRLF the next time Git touches it\n",
      "warning: in the working copy of 'site_libs/quarto-html/quarto-syntax-highlighting.css', LF will be replaced by CRLF the next time Git touches it\n",
      "warning: in the working copy of 'site_libs/quarto-html/quarto.js', LF will be replaced by CRLF the next time Git touches it\n",
      "warning: in the working copy of 'site_libs/quarto-html/tippy.umd.min.js', LF will be replaced by CRLF the next time Git touches it\n",
      "warning: in the working copy of 'site_libs/quarto-listing/list.min.js', LF will be replaced by CRLF the next time Git touches it\n",
      "warning: in the working copy of 'site_libs/quarto-listing/quarto-listing.js', LF will be replaced by CRLF the next time Git touches it\n",
      "warning: in the working copy of 'site_libs/quarto-nav/headroom.min.js', LF will be replaced by CRLF the next time Git touches it\n",
      "warning: in the working copy of 'site_libs/quarto-nav/quarto-nav.js', LF will be replaced by CRLF the next time Git touches it\n",
      "warning: in the working copy of 'site_libs/quarto-search/autocomplete.umd.js', LF will be replaced by CRLF the next time Git touches it\n",
      "warning: in the working copy of 'site_libs/quarto-search/fuse.min.js', LF will be replaced by CRLF the next time Git touches it\n",
      "warning: in the working copy of 'site_libs/quarto-search/quarto-search.js', LF will be replaced by CRLF the next time Git touches it\n",
      "warning: in the working copy of 'sitemap.xml', LF will be replaced by CRLF the next time Git touches it\n",
      "[gh-pages c2551df] Built site for gh-pages\n",
      " 6 files changed, 226 insertions(+), 89 deletions(-)\n",
      "orgin\thttps://github.com/hoyeon1234/sin-hoyeon.git (fetch)\n",
      "orgin\thttps://github.com/hoyeon1234/sin-hoyeon.git (push)\n",
      "origin\thttps://github.com/hoyeon1234/sin-hoyeon.git (fetch)\n",
      "origin\thttps://github.com/hoyeon1234/sin-hoyeon.git (push)\n",
      "To https://github.com/hoyeon1234/sin-hoyeon.git\n",
      "   1120914..c2551df  HEAD -> gh-pages\n",
      "\n",
      "NOTE: GitHub Pages sites use caching so you might need to click the refresh\n",
      "button within your web browser to see changes after deployment.\n",
      "\n",
      "\n",
      "[>] Published to https://hoyeon1234.github.io/sin-hoyeon/\n",
      "\n",
      "NOTE: GitHub Pages deployments normally take a few minutes (your site updates\n",
      "will be visible once the deploy completes)\n",
      "\n"
     ]
    }
   ],
   "source": [
    "!git add .\n",
    "!git commit -m .\n",
    "!git push\n",
    "!quarto publish --no-prompt --no-browser "
   ]
  },
  {
   "attachments": {},
   "cell_type": "markdown",
   "metadata": {},
   "source": [
    "\\begin{aligned}\n",
    "&y = f(x) + \\epsilon ,\\,\\, \\epsilon \\overset{\\text{i.i.d}}{\\sim} \\mathcal{N}(0,\\sigma^2)\\\\\n",
    "&\\text{where} \\\\\n",
    "&f(x) : \\text{target function that we are trying to learn,but do not really know} \\\\\n",
    "&\\epsilon : \\text{statistical error}\n",
    "\\end{aligned}"
   ]
  },
  {
   "attachments": {},
   "cell_type": "markdown",
   "metadata": {},
   "source": [
    "- $f(x)$는 모집단에서 두 변수 $x,y$사이의 관계를 대표하는 곡선이며 우리가 학습 알고리즘을 통해 찾고자 하는 target function입니다.\n",
    "- target function을 찾게되면 우리는 unknown data에 대해서도 좋은 결과를 얻을 수 있습니다.(good generalization)"
   ]
  },
  {
   "cell_type": "markdown",
   "metadata": {},
   "source": []
  },
  {
   "cell_type": "markdown",
   "metadata": {},
   "source": [
    "## <span style = \"color:black\"> **Derivation**"
   ]
  },
  {
   "cell_type": "markdown",
   "metadata": {},
   "source": [
    "- `bias-variance decomposition`은 `bias`,`variance`,`irreducible error`로 구성되는 학습알고리즘의 `expected generalization error`를 살펴봄으로서 학습알고리즘을 분석하는 방법입니다."
   ]
  },
  {
   "cell_type": "markdown",
   "metadata": {},
   "source": []
  }
 ],
 "metadata": {
  "kernelspec": {
   "display_name": "base",
   "language": "python",
   "name": "python3"
  },
  "language_info": {
   "codemirror_mode": {
    "name": "ipython",
    "version": 3
   },
   "file_extension": ".py",
   "mimetype": "text/x-python",
   "name": "python",
   "nbconvert_exporter": "python",
   "pygments_lexer": "ipython3",
   "version": "3.9.13"
  },
  "orig_nbformat": 4
 },
 "nbformat": 4,
 "nbformat_minor": 2
}
