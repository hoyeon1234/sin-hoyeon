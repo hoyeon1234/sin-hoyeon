{
 "cells": [
  {
   "cell_type": "raw",
   "metadata": {},
   "source": [
    "---\n",
    "title: \"확률분포에서 `;`와`|`의 사용\"\n",
    "author: 신호연\n",
    "date: 2022-12-27\n",
    "format: html\n",
    "categories: [Probability&Statistics]\n",
    "---\n",
    "확률분포에서 ;와|에 관한 notation 정리"
   ]
  },
  {
   "attachments": {},
   "cell_type": "markdown",
   "metadata": {},
   "source": [
    "# <span style = \"color:black\">**;의 사용**"
   ]
  },
  {
   "attachments": {},
   "cell_type": "markdown",
   "metadata": {},
   "source": [
    "**;** 함수에서 특정 변수를 고정시켜놓을때 사용할 수 있다. 다음과 같은 이변수함수를 생각해보자<br>\n",
    "$$f(x,y)$$\n",
    "독립변수 x와 y를 갖는 함수이며 두 변수 모두에 대해서 미분가능하다. 여기서 변수 y가 어떤 어떤 값으로 고정된것이 알려지거나 또는 고정된상황을 가정한 후  x에 대해서만 관심이 있다고 해보자(미분,극한등을 아마도?취하고 싶다..아마도...) 이때는 이변수함수로 표기하는것이 아닌 일변수함수로 표기해야한다. 그때는 다음과 같이 표기하면 된다."
   ]
  },
  {
   "attachments": {},
   "cell_type": "markdown",
   "metadata": {},
   "source": [
    "$$\n",
    "f(x;y)\n",
    "$$<br>\n"
   ]
  },
  {
   "attachments": {},
   "cell_type": "markdown",
   "metadata": {},
   "source": [
    "이렇게 표기하면 y값은 이제 어떤 값으로 이미 설정(setting)되거나 고정(fixed)되어있음을 의미한다. 비슷하게 그냥 고정된 파라미터가 이 다음에도 올 수 있다.\n",
    "베르누이분포의 확률질량함수는 다음과 같다."
   ]
  },
  {
   "attachments": {},
   "cell_type": "markdown",
   "metadata": {},
   "source": [
    "$$f_X(x;p) = p^x(1-p)^{1-x}$$"
   ]
  },
  {
   "attachments": {},
   "cell_type": "markdown",
   "metadata": {},
   "source": [
    "setting,fixed된 파라미터인 p를 ;다음에 표시했다."
   ]
  },
  {
   "attachments": {},
   "cell_type": "markdown",
   "metadata": {},
   "source": [
    "# <span style = \"color:black\">**|의 사용**"
   ]
  },
  {
   "attachments": {},
   "cell_type": "markdown",
   "metadata": {},
   "source": [
    "**|**는 given that,if이라는 의미이며 |의 다음에는 **보통 먼저 깔고가거나 주어지는  전제,상황,조건,증거 등**이 나온다. 확률,통계 분야에서만 쓰이며 조건부 확률이나,베이지안에서 많이 쓰이는 기호라고 한다. 중요한 점은 특히 |다음에 오는 상황,조건,증거와 같은 것들은 어떤 관점이냐에 따라서 상수나 확률변수의 관점으로 생각될 수 있다는 것이다. 특히 베이지안에서는 확률변수로 생각한다."
   ]
  },
  {
   "attachments": {},
   "cell_type": "markdown",
   "metadata": {},
   "source": [
    "조건부 확률분포(조건부확률밀도함수,조건부 확률함수)는 다음과 같다.<br>\n",
    "$$\n",
    "p_{X|Y}(x|y) = \\frac{p_{XY}(x,y)}{p_Y(y)}\\\\\n",
    "p_{X|Y}(y|x) = \\frac{p_{XY}(x,y)}{p_X(x)}\n",
    "$$ <br>\n",
    "가장 윗식을 해석해보면 다음과 같다.<br>\n",
    "- 좌변 : 확률변수 Y가 주어진(given)상황에서 확률변수X의 확률(또는 확률밀도)를 나타내는 함수이며 시행으로부터 확률변수 X가 취할 수 있는 값 x를 입력으로 받는다. 조건부 확률분포에서 Y의 값은 y로 주어져 있다고 가정하므로 입력하는 변수가 아니다. 따라서 확률변수 Y는 변수가 아니라 모수(parameter)이다.<br>\n",
    "- 우변 : 조건부확률분포 공식.<br>"
   ]
  },
  {
   "attachments": {},
   "cell_type": "markdown",
   "metadata": {},
   "source": [
    " ## <span style = \"color:black\"> **결론 ; vs |**"
   ]
  },
  {
   "attachments": {},
   "cell_type": "markdown",
   "metadata": {},
   "source": [
    "$$p_{\\theta}(x) = p(x;\\theta) = p(x|\\theta)$$\n",
    "<br>\n",
    "`;`는 수학의 모든 분야에서 쓰이지만 `|`는 확률통계분야에서만 쓰인다. ;다음에는 이미 설정되거나 고정된 값이 나오며 |다음에는 먼저 주어지는 조건이 나온다. 근데 ;를 많이 쓰지 않고 |뒤에 그냥 고정된 값을 써버리는 경우가 많다. 이는 지양해야 할 표현이다."
   ]
  },
  {
   "attachments": {},
   "cell_type": "markdown",
   "metadata": {},
   "source": [
    "참고링크<br>\n",
    "[링크1(;의 사용법)](https://math.stackexchange.com/questions/3421665/do-the-vertical-bar-and-semicolon-denote-the-same-thing-in-the-context-of-condit)<br>\n",
    "[링크2(조건부확률분포)](https://datascienceschool.net/02%20mathematics/07.04%20%EB%8B%A4%EB%B3%80%EC%88%98%20%ED%99%95%EB%A5%A0%EB%B3%80%EC%88%98.html#id13)<br>\n",
    "[링크3(표기법의 혼용)](https://bubilife.tistory.com/32)"
   ]
  }
 ],
 "metadata": {
  "kernelspec": {
   "display_name": "base",
   "language": "python",
   "name": "python3"
  },
  "language_info": {
   "codemirror_mode": {
    "name": "ipython",
    "version": 3
   },
   "file_extension": ".py",
   "mimetype": "text/x-python",
   "name": "python",
   "nbconvert_exporter": "python",
   "pygments_lexer": "ipython3",
   "version": "3.9.13 (main, Aug 25 2022, 23:51:50) [MSC v.1916 64 bit (AMD64)]"
  },
  "orig_nbformat": 4,
  "vscode": {
   "interpreter": {
    "hash": "0478b8cb1c47bafb71305148a49d30528a4d9c22ca2de336c01aa5a8230a459a"
   }
  }
 },
 "nbformat": 4,
 "nbformat_minor": 2
}
