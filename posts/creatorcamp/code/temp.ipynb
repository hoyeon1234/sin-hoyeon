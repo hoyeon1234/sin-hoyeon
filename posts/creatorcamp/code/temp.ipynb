{
 "cells": [
  {
   "cell_type": "markdown",
   "metadata": {},
   "source": [
    "**디테일 한 정보**"
   ]
  },
  {
   "cell_type": "markdown",
   "metadata": {},
   "source": [
    "\n",
    "<span style = \"color:black\">**각각의 클래스는 어떤 대략적으로 어떤 이미지?**\n",
    "\n",
    "- l2_3 - 의자, 벤치 (가구)\n",
    "- l2_10 - 전화기, 공유기, 핸드폰 - ( 모바일? )(리얼데이터 x)\n",
    "- l2_12 - 네비게이션, 주차요금정산기, ( 자동차 관련 ) \n",
    "- l2_15 - 카드단말기, 스캐너(편의점), atm기, 카드결제자판기, 이상한 리모컨? ( 카드? 결제관련? ))(리얼데이터 x)\n",
    "- l2_20 - 전등, 트로피, 병풍, 크리스마스양말 (리얼데이터 x)\n",
    "- l2_21 - 가스밸브(뭔가 밸브), 멀티탭, 코드, 사다리, 송곳 ( 공구관련 ), (리얼데이터 x)\n",
    "- l2_24 - 라이터, 빗, 펜, 마스크팩, 헤어롤, 화장품(수분크림통) (생활용품 ) \n",
    "- l2_25 - 주의표지판, 자물쇠, 열쇠, 뭔가 따는것 같은 느낌의 물건, ( 모르겠음 ) (리얼데이터 x)\n",
    "- l2_27- 개껌, 말안장, 새집, 캣타워 (펫관련) ( 리얼데이터 x ) \n",
    "- l2_30 - 돌돌이, 빨래건조대, 다리미판, 바늘, 식기세척기 ( 생활용품 2) (리얼데이터 x)\n",
    "- l2_33 펭귄, 스컹크, 멧돼지, 쥐, 두더지, 햄스터 (동물) (리얼데이터 x)\n",
    "- l2_34 나비, 장수풍뎅이, 사마귀, 전갈, 메뚜기 ( 곤충 ) (리얼데이터 x)\n",
    "- l2_39 햄버거, 쿠키, 통조림통, 마카롱, 도넛, 별모양쿠키,  (리얼데이터 x)\n",
    "- l2_40 커피잔, 유리병콜라, 페트병콜라, 오렌지주스 (리얼데이터 x)\n",
    "- l2_41 치킨다리, 김밥, 치킨너겟, 수프, 크로와상\n",
    "- l2_44 리본타이, 장갑, 모자, 베레모, 크로스백, (리얼데이터 x)\n",
    "- l2_45 옷걸이, 옷핀, 마스크(탈) (리얼데이터 x)\n",
    "- l2_46 귀걸이, 왕관, 시계, 삼각형핀(머리핀), 금반지, (리얼데이터 x)\n",
    "- l2_50 열차, 그 타고다니는거,,, , 마차, 포크레인, 자동차, \n",
    "- l2_52 요트, 범선, 잠수함, 선박 (리얼데이터 x)"
   ]
  },
  {
   "cell_type": "code",
   "execution_count": null,
   "metadata": {},
   "outputs": [
    {
     "data": {
      "text/plain": [
       "\"\\n#1-imageadedup 구글드라이브에 저장\\nmy_path = '/content/notebooks'\\n# Colab Notebooks 안에 my_env 폴더에 패키지 저장\\nos.symlink('/content/drive/MyDrive/Colab Notebooks/my_env', my_path)\\nsys.path.insert(0, my_path)\\n\""
      ]
     },
     "metadata": {},
     "output_type": "display_data"
    }
   ],
   "source": [
    "\"\"\"\n",
    "#1-imageadedup 구글드라이브에 저장\n",
    "my_path = '/content/notebooks'\n",
    "# Colab Notebooks 안에 my_env 폴더에 패키지 저장\n",
    "os.symlink('/content/drive/MyDrive/Colab Notebooks/my_env', my_path)\n",
    "sys.path.insert(0, my_path)\n",
    "\"\"\""
   ]
  },
  {
   "cell_type": "code",
   "execution_count": null,
   "metadata": {},
   "outputs": [
    {
     "data": {
      "application/vnd.google.colaboratory.intrinsic+json": {
       "type": "string"
      },
      "text/plain": [
       "'\\n#2-imageadedup 구글드라이브에 저장\\n!pip install --target=$my_path imagededup\\n'"
      ]
     },
     "metadata": {},
     "output_type": "display_data"
    }
   ],
   "source": [
    "\"\"\"\n",
    "#2-imageadedup 구글드라이브에 저장\n",
    "!pip install --target=$my_path imagededup\n",
    "\"\"\""
   ]
  },
  {
   "cell_type": "code",
   "execution_count": null,
   "metadata": {},
   "outputs": [
    {
     "data": {
      "application/vnd.google.colaboratory.intrinsic+json": {
       "type": "string"
      },
      "text/plain": [
       "\"\\nimport os, sys\\nfrom google.colab import drive\\ndrive.mount('/content/drive')\\n \\nmy_path = '/content/notebooks'\\nos.symlink('/content/drive/MyDrive/Colab Notebooks/my_env', my_path)\\nsys.path.insert(0, my_path)\\n\""
      ]
     },
     "metadata": {},
     "output_type": "display_data"
    }
   ],
   "source": [
    "\"\"\"\n",
    "import os, sys\n",
    "from google.colab import drive\n",
    "drive.mount('/content/drive')\n",
    " \n",
    "my_path = '/content/notebooks'\n",
    "os.symlink('/content/drive/MyDrive/Colab Notebooks/my_env', my_path)\n",
    "sys.path.insert(0, my_path)\n",
    "\"\"\""
   ]
  },
  {
   "cell_type": "code",
   "execution_count": null,
   "metadata": {},
   "outputs": [
    {
     "data": {
      "application/vnd.google.colaboratory.intrinsic+json": {
       "type": "string"
      },
      "text/plain": [
       "'\\nimport imagededup\\n'"
      ]
     },
     "metadata": {},
     "output_type": "display_data"
    }
   ],
   "source": [
    "\"\"\"\n",
    "import imagededup\n",
    "\"\"\""
   ]
  },
  {
   "cell_type": "code",
   "execution_count": null,
   "metadata": {},
   "outputs": [],
   "source": [
    "#chater3 - 중복이미지 제거 할때만 설치\n",
    "#pip install imagededup"
   ]
  },
  {
   "cell_type": "markdown",
   "metadata": {},
   "source": [
    "imagededup이 너무 커서 구글드라이브에 저장 후 불러오는 동작"
   ]
  },
  {
   "cell_type": "markdown",
   "metadata": {},
   "source": [
    "## 함수모음1 - 데이터셋 만들기,시각화\n"
   ]
  },
  {
   "cell_type": "code",
   "execution_count": null,
   "metadata": {},
   "outputs": [],
   "source": [
    "#데이터셋으로부터 인수로 받은 클래스의 이미지를 4-D tensor로 출력\n",
    "def get_class_image(dataset,\n",
    "              class_num, # 어떤 클래스?\n",
    "              sampling = None, # 몇 개?\n",
    "              seed_num=10):\n",
    "  random.seed(seed_num)\n",
    "  _tgts=pd.Series(dataset.targets)\n",
    "  _class_idx=_tgts[_tgts == class_num].index.values.tolist()\n",
    "  if sampling is not None:\n",
    "    _get_idx = random.sample(_class_idx,sampling)\n",
    "  else:\n",
    "    _get_idx = _class_idx\n",
    "  \n",
    "  imgs_list = []\n",
    "  for idx in _get_idx:\n",
    "    imgs,_ = dataset[idx]\n",
    "    imgs_list.append(imgs)\n",
    "  imgs_list = torch.stack(imgs_list)\n",
    "  return imgs_list  "
   ]
  },
  {
   "cell_type": "code",
   "execution_count": null,
   "metadata": {},
   "outputs": [],
   "source": [
    "#텐서로 변환된 하나의 이미지를 보여줌\n",
    "def show_image(img):\n",
    "  tmp_img=img.permute(1,2,0)\n",
    "  plt.grid(False)\n",
    "  plt.imshow(tmp_img.data)\n",
    "  plt.axis('off')\n"
   ]
  },
  {
   "cell_type": "code",
   "execution_count": null,
   "metadata": {},
   "outputs": [],
   "source": [
    "#여러개의 이미지를 보여줌\n",
    "def show_images(imgs #get_class_image의 출력이 매개변수로(즉,텐서들이 각각의 요소인 리스트)\n",
    "                ):\n",
    "  k = len(imgs)\n",
    "  col=5\n",
    "  row=int(k/5)\n",
    "  if row == 0:\n",
    "    row = 1\n",
    "    col = k\n",
    "    plt.subplots(row,col,figsize=(10,10))\n",
    "  else:\n",
    "    plt.subplots(row,col,figsize=(20,20))\n",
    "  for idx,img in enumerate(imgs):\n",
    "    plt.subplot(row,col,idx+1)\n",
    "    show_image(img)\n",
    "    plt.axis('off')"
   ]
  },
  {
   "cell_type": "code",
   "execution_count": null,
   "metadata": {},
   "outputs": [],
   "source": [
    "#여러개의 이미지를 보여줌\n",
    "def show_images2(imgs #get_class_image의 출력이 매개변수로(즉,텐서들이 각각의 요소인 리스트)\n",
    "                ):\n",
    "  k = len(imgs)\n",
    "  col=5\n",
    "  row=int(k/5)\n",
    "  if row == 0:\n",
    "    row = 1\n",
    "    col = k\n",
    "    plt.subplots(row,col,figsize=(10,10))\n",
    "  else:\n",
    "    plt.subplots(row,col,figsize=(40,40))\n",
    "  for idx,img in enumerate(imgs):\n",
    "    plt.subplot(row,col,idx+1)\n",
    "    show_image(img)\n",
    "    plt.axis('off')"
   ]
  },
  {
   "cell_type": "code",
   "execution_count": null,
   "metadata": {},
   "outputs": [],
   "source": [
    "#이미지와 각 R,G,B 각각의 픽셀들의 분포를 보여주는 함수\n",
    "def RGB_dist(image):\n",
    "  plt.subplots(1,4,figsize=(40,10))\n",
    "  plt.subplot(1,4,1)\n",
    "  plt.title('images')\n",
    "  show_image(image)\n",
    "\n",
    "  plt.subplot(1,4,2)\n",
    "  plt.title('R-Channel Distribution')\n",
    "  sns.kdeplot(image[0].reshape(-1), color=\"red\") #stat='density , 확률밀도함수 추정\n",
    "  #plt.hist(image[0].reshape(-1),bins=100,color='red',alpha=0.8,stat='probability')\n",
    "  #sns.kdeplot(image[0].reshape(-1),color=\"red\")\n",
    "\n",
    "  plt.subplot(1,4,3)\n",
    "  plt.title('G-Channel Distribution')\n",
    "  sns.kdeplot(image[1].reshape(-1), color=\"green\") #stat='density , 확률밀도함수 추정\n",
    "\n",
    "\n",
    "\n",
    "  plt.subplot(1,4,4)\n",
    "  plt.title('B-Channel Distribution')\n",
    "  sns.kdeplot(image[2].reshape(-1), color=\"blue\") #stat='density , 확률밀도함수 추정\n",
    "\n",
    "\n",
    "#kde : https://en.wikipedia.org/wiki/Kernel_density_estimation"
   ]
  },
  {
   "cell_type": "code",
   "execution_count": null,
   "metadata": {},
   "outputs": [],
   "source": [
    "def get_imgs(dataset,indices):\n",
    "  imgs=[]\n",
    "  for idx in indices:\n",
    "    imgs.append(dataset[idx][0])\n",
    "  return torch.stack(imgs)"
   ]
  },
  {
   "cell_type": "code",
   "execution_count": null,
   "metadata": {},
   "outputs": [],
   "source": [
    "def out_image(dataset, # 내보낼 데이터\n",
    "              path, # 내보낼 경로\n",
    "              indices # 내보낼 인덱스\n",
    "              ):\n",
    "  folder_stack = []\n",
    "  for idx in indices:\n",
    "    #1 이미지와 클래스 따로 저장\n",
    "    img = dataset[idx][0]\n",
    "    cls_num = str(dataset[idx][1])\n",
    "    str_idx = str(idx)\n",
    "\n",
    "    #2 저장할 폴더가 없으면 폴더 생성\n",
    "    if cls_num not in folder_stack:\n",
    "      folder_stack.append(cls_num)\n",
    "      os.mkdir(path + '/' + cls_num)\n",
    "    \n",
    "    #3 저장할 경로와 파일이름 설정\n",
    "    fold_name=str(folder_stack[-1])\n",
    "    #os.path.join() 쓰면 작대기 자동추가해줌\n",
    "    #다음에 이거 ㄱㄱ\n",
    "    img_path = path + '/'  + fold_name + '/' + str_idx + '.jpg'\n",
    "\n",
    "    #4 저장\n",
    "    torchvision.utils.save_image(img,img_path)\n"
   ]
  },
  {
   "cell_type": "markdown",
   "metadata": {},
   "source": [
    "심사위원이 왜 224,224로 고정했어요?!라고 물어본다면?\n",
    "- 물론 이미지 사이즈 크게키워서 입력하면 더 많은 파라미터써서 더 잘 적합시킬 수 있다.\n",
    "- 근데,단순히 파라미터 늘려서 성능중심으로 가는 것 보다는 적절한 성능과 효율을 낼 수 있는 네트워크를 만드는게 적절하다고 생각한다. 그래서 고정했다."
   ]
  },
  {
   "cell_type": "markdown",
   "metadata": {},
   "source": [
    "링크1  \n",
    "https://dacon.io/competitions/official/235894/codeshare/4946?page=1&dtype=recent  \n",
    "링크2  \n",
    "https://www.researchgate.net/publication/332241609_IMPACT_OF_IMAGE_SIZE_ON_ACCURACY_AND_GENERALIZATION_OF_CONVOLUTIONAL_NEURAL_NETWORKS\n",
    "링크3  \n",
    "https://www.quora.com/Why-many-deep-learning-models-take-224x224-images-as-input  \n",
    "링크4  \n",
    "https://www.quora.com/Does-the-input-image-size-affect-CNNs-performance-For-instance-is-a-CNN-trained-with-512-512-input-perform-better-than-being-trained-with-128-128  \n",
    "링크5  \n",
    "https://www.quora.com/Why-should-we-always-resize-input-images-to-224x224-for-VGG-classification-I-have-tried-building-the-network-with-other-larger-size-input-but-out-of-memory-while-out-convolution-and-come-into-fully-connected-layer"
   ]
  },
  {
   "cell_type": "markdown",
   "metadata": {},
   "source": [
    "## 함수모음2 - 예측,테스트"
   ]
  },
  {
   "cell_type": "code",
   "execution_count": null,
   "metadata": {},
   "outputs": [],
   "source": [
    "#가정 : EDA 결과 입력이미지의 각 채널(R,G,B)의 확률밀도함수의 최댓값이 모두 threshold를 초과하면 추상이미지고. 아니면 실제사진(이상치)라고 가정\n",
    "#threshold와 count가 hyperparameter!\n",
    "def ck_outlier(img,\n",
    "               threshold,          #확률밀도함수의 기준값\n",
    "               sampling_num = 30): #Kde에서 sampling할 갯 수.\n",
    "\n",
    "  #Kde추정하는 객체 만들기\n",
    "  X = torch.linspace(0.5,1.1,sampling_num)\n",
    "  #수정!\n",
    "  #2022-10-08\n",
    "  #검은색 배경을 가진 추상이미지는 별로 없고 실제사진이 검은색이므로 확률분포에서 0.5이상인 부분만 보면 됨!\n",
    "\n",
    "  \n",
    "  estr_0 = stats.gaussian_kde(img[0].reshape(-1), bw_method='silverman')\n",
    "  estr_1 = stats.gaussian_kde(img[1].reshape(-1), bw_method='silverman')\n",
    "  estr_2 = stats.gaussian_kde(img[2].reshape(-1), bw_method='silverman')\n",
    "\n",
    "  #확률밀도함수의 y값 구해보기\n",
    "  r_max = np.max(estr_0(X))\n",
    "  g_max = np.max(estr_1(X))\n",
    "  b_max = np.max(estr_2(X))\n",
    "  #가정,R,G,B값 중 3개 모두 확률밀도의 최댓값이 5이상이면 추상이미지(픽토그램,일러스트레이션...)라고 가정\n",
    "  count=0\n",
    "  if r_max>threshold:\n",
    "    count+=1\n",
    "  if g_max>threshold:\n",
    "    count+=1\n",
    "  if b_max>threshold:\n",
    "    count+=1\n",
    "  if count >=3:\n",
    "    return False #추상이미지는 아웃라이어 아니므로 False\n",
    "  else:\n",
    "    return True "
   ]
  },
  {
   "cell_type": "code",
   "execution_count": null,
   "metadata": {},
   "outputs": [],
   "source": [
    "def predict_outlier(imgs,threshold): #다수의 이미지들이 이상치인지 아닌지 예측해주는 함수!\n",
    "  if type(threshold) is int or type(threshold) is float or type(threshold) is np.float64:\n",
    "    pred_y=[]\n",
    "    for img_idx in range(imgs.shape[0]):\n",
    "      _pdtn = ck_outlier(imgs[img_idx],threshold)\n",
    "      if _pdtn == False: #추상이미지라면 0 (이상치가 아니므로 0)\n",
    "        pred_y.append(0)\n",
    "      else: #실제사진이라면 1(이상치이므로1)\n",
    "        pred_y.append(1)\n",
    "    pred_y=np.array(pred_y).reshape(-1,1)\n",
    "    return pred_y\n",
    "  else:\n",
    "    pred_y_list=[]\n",
    "    for thold in threshold:\n",
    "      pred_y=[]\n",
    "      for img_idx in range(imgs.shape[0]):\n",
    "        _pdtn = ck_outlier(imgs[img_idx],thold)\n",
    "        if _pdtn == False: #추상이미지라면 0 (이상치가 아니므로 0)\n",
    "          pred_y.append(0)\n",
    "        else: #실제사진이라면 1(이상치이므로1)\n",
    "          pred_y.append(1)\n",
    "      pred_y=np.array(pred_y).reshape(-1,1)      \n",
    "      pred_y_list.append(np.array(pred_y))\n",
    "    return pred_y_list\n"
   ]
  },
  {
   "cell_type": "code",
   "execution_count": null,
   "metadata": {},
   "outputs": [],
   "source": [
    "#정확도체크,레이블이 없으므로 3직접 만들어주는 과정이 필요해요.\n",
    "def ac_ck(imgs,labels,miss_idx=False):\n",
    "  ck=[]\n",
    "  tmp=0\n",
    "  #print('start')\n",
    "  for img_idx in range(len(imgs)):\n",
    "    print(tmp)\n",
    "    if ck_outlier(imgs[img_idx]) == True:\n",
    "      ck.append(True)\n",
    "    else:\n",
    "      ck.append(False)\n",
    "    tmp+=1\n",
    "  k = imgs.shape[0]\n",
    "  ck = np.array(ck)\n",
    "  labels = np.array(labels)\n",
    "  tmp=(ck==labels)\n",
    "  accuracy=sum(tmp)/len(tmp)\n",
    "  if miss_idx == False:\n",
    "    return accuracy\n",
    "  else:\n",
    "    miss_list=[]\n",
    "    for idx in range(len(tmp)):\n",
    "      if tmp[idx] == False:\n",
    "        miss_list.append(idx)\n",
    "    return accuracy,miss_list"
   ]
  },
  {
   "attachments": {},
   "cell_type": "markdown",
   "metadata": {},
   "source": [
    "짤라놓은 결과들 모음집"
   ]
  },
  {
   "cell_type": "code",
   "execution_count": null,
   "metadata": {},
   "outputs": [
    {
     "data": {
      "text/html": [
       "\n",
       "  <div id=\"df-1a208fab-03a2-423b-a28f-34746ea056b2\">\n",
       "    <div class=\"colab-df-container\">\n",
       "      <div>\n",
       "<style scoped>\n",
       "    .dataframe tbody tr th:only-of-type {\n",
       "        vertical-align: middle;\n",
       "    }\n",
       "\n",
       "    .dataframe tbody tr th {\n",
       "        vertical-align: top;\n",
       "    }\n",
       "\n",
       "    .dataframe thead th {\n",
       "        text-align: right;\n",
       "    }\n",
       "</style>\n",
       "<table border=\"1\" class=\"dataframe\">\n",
       "  <thead>\n",
       "    <tr style=\"text-align: right;\">\n",
       "      <th></th>\n",
       "      <th>th</th>\n",
       "      <th>f1_sc</th>\n",
       "    </tr>\n",
       "  </thead>\n",
       "  <tbody>\n",
       "    <tr>\n",
       "      <th>8</th>\n",
       "      <td>2.810127</td>\n",
       "      <td>0.912281</td>\n",
       "    </tr>\n",
       "    <tr>\n",
       "      <th>9</th>\n",
       "      <td>2.911392</td>\n",
       "      <td>0.917749</td>\n",
       "    </tr>\n",
       "    <tr>\n",
       "      <th>10</th>\n",
       "      <td>3.012658</td>\n",
       "      <td>0.917749</td>\n",
       "    </tr>\n",
       "    <tr>\n",
       "      <th>11</th>\n",
       "      <td>3.113924</td>\n",
       "      <td>0.917749</td>\n",
       "    </tr>\n",
       "    <tr>\n",
       "      <th>12</th>\n",
       "      <td>3.215190</td>\n",
       "      <td>0.917749</td>\n",
       "    </tr>\n",
       "    <tr>\n",
       "      <th>13</th>\n",
       "      <td>3.316456</td>\n",
       "      <td>0.910638</td>\n",
       "    </tr>\n",
       "    <tr>\n",
       "      <th>14</th>\n",
       "      <td>3.417722</td>\n",
       "      <td>0.915254</td>\n",
       "    </tr>\n",
       "  </tbody>\n",
       "</table>\n",
       "</div>\n",
       "      <button class=\"colab-df-convert\" onclick=\"convertToInteractive('df-1a208fab-03a2-423b-a28f-34746ea056b2')\"\n",
       "              title=\"Convert this dataframe to an interactive table.\"\n",
       "              style=\"display:none;\">\n",
       "        \n",
       "  <svg xmlns=\"http://www.w3.org/2000/svg\" height=\"24px\"viewBox=\"0 0 24 24\"\n",
       "       width=\"24px\">\n",
       "    <path d=\"M0 0h24v24H0V0z\" fill=\"none\"/>\n",
       "    <path d=\"M18.56 5.44l.94 2.06.94-2.06 2.06-.94-2.06-.94-.94-2.06-.94 2.06-2.06.94zm-11 1L8.5 8.5l.94-2.06 2.06-.94-2.06-.94L8.5 2.5l-.94 2.06-2.06.94zm10 10l.94 2.06.94-2.06 2.06-.94-2.06-.94-.94-2.06-.94 2.06-2.06.94z\"/><path d=\"M17.41 7.96l-1.37-1.37c-.4-.4-.92-.59-1.43-.59-.52 0-1.04.2-1.43.59L10.3 9.45l-7.72 7.72c-.78.78-.78 2.05 0 2.83L4 21.41c.39.39.9.59 1.41.59.51 0 1.02-.2 1.41-.59l7.78-7.78 2.81-2.81c.8-.78.8-2.07 0-2.86zM5.41 20L4 18.59l7.72-7.72 1.47 1.35L5.41 20z\"/>\n",
       "  </svg>\n",
       "      </button>\n",
       "      \n",
       "  <style>\n",
       "    .colab-df-container {\n",
       "      display:flex;\n",
       "      flex-wrap:wrap;\n",
       "      gap: 12px;\n",
       "    }\n",
       "\n",
       "    .colab-df-convert {\n",
       "      background-color: #E8F0FE;\n",
       "      border: none;\n",
       "      border-radius: 50%;\n",
       "      cursor: pointer;\n",
       "      display: none;\n",
       "      fill: #1967D2;\n",
       "      height: 32px;\n",
       "      padding: 0 0 0 0;\n",
       "      width: 32px;\n",
       "    }\n",
       "\n",
       "    .colab-df-convert:hover {\n",
       "      background-color: #E2EBFA;\n",
       "      box-shadow: 0px 1px 2px rgba(60, 64, 67, 0.3), 0px 1px 3px 1px rgba(60, 64, 67, 0.15);\n",
       "      fill: #174EA6;\n",
       "    }\n",
       "\n",
       "    [theme=dark] .colab-df-convert {\n",
       "      background-color: #3B4455;\n",
       "      fill: #D2E3FC;\n",
       "    }\n",
       "\n",
       "    [theme=dark] .colab-df-convert:hover {\n",
       "      background-color: #434B5C;\n",
       "      box-shadow: 0px 1px 3px 1px rgba(0, 0, 0, 0.15);\n",
       "      filter: drop-shadow(0px 1px 2px rgba(0, 0, 0, 0.3));\n",
       "      fill: #FFFFFF;\n",
       "    }\n",
       "  </style>\n",
       "\n",
       "      <script>\n",
       "        const buttonEl =\n",
       "          document.querySelector('#df-1a208fab-03a2-423b-a28f-34746ea056b2 button.colab-df-convert');\n",
       "        buttonEl.style.display =\n",
       "          google.colab.kernel.accessAllowed ? 'block' : 'none';\n",
       "\n",
       "        async function convertToInteractive(key) {\n",
       "          const element = document.querySelector('#df-1a208fab-03a2-423b-a28f-34746ea056b2');\n",
       "          const dataTable =\n",
       "            await google.colab.kernel.invokeFunction('convertToInteractive',\n",
       "                                                     [key], {});\n",
       "          if (!dataTable) return;\n",
       "\n",
       "          const docLinkHtml = 'Like what you see? Visit the ' +\n",
       "            '<a target=\"_blank\" href=https://colab.research.google.com/notebooks/data_table.ipynb>data table notebook</a>'\n",
       "            + ' to learn more about interactive tables.';\n",
       "          element.innerHTML = '';\n",
       "          dataTable['output_type'] = 'display_data';\n",
       "          await google.colab.output.renderOutput(dataTable, element);\n",
       "          const docLink = document.createElement('div');\n",
       "          docLink.innerHTML = docLinkHtml;\n",
       "          element.appendChild(docLink);\n",
       "        }\n",
       "      </script>\n",
       "    </div>\n",
       "  </div>\n",
       "  "
      ],
      "text/plain": [
       "          th     f1_sc\n",
       "8   2.810127  0.912281\n",
       "9   2.911392  0.917749\n",
       "10  3.012658  0.917749\n",
       "11  3.113924  0.917749\n",
       "12  3.215190  0.917749\n",
       "13  3.316456  0.910638\n",
       "14  3.417722  0.915254"
      ]
     },
     "metadata": {},
     "output_type": "display_data"
    }
   ],
   "source": [
    "f1_score.iloc[8:15,:]"
   ]
  },
  {
   "cell_type": "code",
   "execution_count": null,
   "metadata": {},
   "outputs": [
    {
     "data": {
      "text/html": [
       "\n",
       "  <div id=\"df-62f8ec7b-571a-40a1-9d3c-3d076f53d018\">\n",
       "    <div class=\"colab-df-container\">\n",
       "      <div>\n",
       "<style scoped>\n",
       "    .dataframe tbody tr th:only-of-type {\n",
       "        vertical-align: middle;\n",
       "    }\n",
       "\n",
       "    .dataframe tbody tr th {\n",
       "        vertical-align: top;\n",
       "    }\n",
       "\n",
       "    .dataframe thead th {\n",
       "        text-align: right;\n",
       "    }\n",
       "</style>\n",
       "<table border=\"1\" class=\"dataframe\">\n",
       "  <thead>\n",
       "    <tr style=\"text-align: right;\">\n",
       "      <th></th>\n",
       "      <th>th</th>\n",
       "      <th>f1_sc</th>\n",
       "    </tr>\n",
       "  </thead>\n",
       "  <tbody>\n",
       "    <tr>\n",
       "      <th>8</th>\n",
       "      <td>2.810127</td>\n",
       "      <td>0.912281</td>\n",
       "    </tr>\n",
       "    <tr>\n",
       "      <th>9</th>\n",
       "      <td>2.911392</td>\n",
       "      <td>0.917749</td>\n",
       "    </tr>\n",
       "    <tr>\n",
       "      <th>10</th>\n",
       "      <td>3.012658</td>\n",
       "      <td>0.917749</td>\n",
       "    </tr>\n",
       "    <tr>\n",
       "      <th>11</th>\n",
       "      <td>3.113924</td>\n",
       "      <td>0.917749</td>\n",
       "    </tr>\n",
       "    <tr>\n",
       "      <th>12</th>\n",
       "      <td>3.215190</td>\n",
       "      <td>0.917749</td>\n",
       "    </tr>\n",
       "    <tr>\n",
       "      <th>14</th>\n",
       "      <td>3.417722</td>\n",
       "      <td>0.915254</td>\n",
       "    </tr>\n",
       "    <tr>\n",
       "      <th>17</th>\n",
       "      <td>3.721519</td>\n",
       "      <td>0.913580</td>\n",
       "    </tr>\n",
       "    <tr>\n",
       "      <th>18</th>\n",
       "      <td>3.822785</td>\n",
       "      <td>0.913580</td>\n",
       "    </tr>\n",
       "  </tbody>\n",
       "</table>\n",
       "</div>\n",
       "      <button class=\"colab-df-convert\" onclick=\"convertToInteractive('df-62f8ec7b-571a-40a1-9d3c-3d076f53d018')\"\n",
       "              title=\"Convert this dataframe to an interactive table.\"\n",
       "              style=\"display:none;\">\n",
       "        \n",
       "  <svg xmlns=\"http://www.w3.org/2000/svg\" height=\"24px\"viewBox=\"0 0 24 24\"\n",
       "       width=\"24px\">\n",
       "    <path d=\"M0 0h24v24H0V0z\" fill=\"none\"/>\n",
       "    <path d=\"M18.56 5.44l.94 2.06.94-2.06 2.06-.94-2.06-.94-.94-2.06-.94 2.06-2.06.94zm-11 1L8.5 8.5l.94-2.06 2.06-.94-2.06-.94L8.5 2.5l-.94 2.06-2.06.94zm10 10l.94 2.06.94-2.06 2.06-.94-2.06-.94-.94-2.06-.94 2.06-2.06.94z\"/><path d=\"M17.41 7.96l-1.37-1.37c-.4-.4-.92-.59-1.43-.59-.52 0-1.04.2-1.43.59L10.3 9.45l-7.72 7.72c-.78.78-.78 2.05 0 2.83L4 21.41c.39.39.9.59 1.41.59.51 0 1.02-.2 1.41-.59l7.78-7.78 2.81-2.81c.8-.78.8-2.07 0-2.86zM5.41 20L4 18.59l7.72-7.72 1.47 1.35L5.41 20z\"/>\n",
       "  </svg>\n",
       "      </button>\n",
       "      \n",
       "  <style>\n",
       "    .colab-df-container {\n",
       "      display:flex;\n",
       "      flex-wrap:wrap;\n",
       "      gap: 12px;\n",
       "    }\n",
       "\n",
       "    .colab-df-convert {\n",
       "      background-color: #E8F0FE;\n",
       "      border: none;\n",
       "      border-radius: 50%;\n",
       "      cursor: pointer;\n",
       "      display: none;\n",
       "      fill: #1967D2;\n",
       "      height: 32px;\n",
       "      padding: 0 0 0 0;\n",
       "      width: 32px;\n",
       "    }\n",
       "\n",
       "    .colab-df-convert:hover {\n",
       "      background-color: #E2EBFA;\n",
       "      box-shadow: 0px 1px 2px rgba(60, 64, 67, 0.3), 0px 1px 3px 1px rgba(60, 64, 67, 0.15);\n",
       "      fill: #174EA6;\n",
       "    }\n",
       "\n",
       "    [theme=dark] .colab-df-convert {\n",
       "      background-color: #3B4455;\n",
       "      fill: #D2E3FC;\n",
       "    }\n",
       "\n",
       "    [theme=dark] .colab-df-convert:hover {\n",
       "      background-color: #434B5C;\n",
       "      box-shadow: 0px 1px 3px 1px rgba(0, 0, 0, 0.15);\n",
       "      filter: drop-shadow(0px 1px 2px rgba(0, 0, 0, 0.3));\n",
       "      fill: #FFFFFF;\n",
       "    }\n",
       "  </style>\n",
       "\n",
       "      <script>\n",
       "        const buttonEl =\n",
       "          document.querySelector('#df-62f8ec7b-571a-40a1-9d3c-3d076f53d018 button.colab-df-convert');\n",
       "        buttonEl.style.display =\n",
       "          google.colab.kernel.accessAllowed ? 'block' : 'none';\n",
       "\n",
       "        async function convertToInteractive(key) {\n",
       "          const element = document.querySelector('#df-62f8ec7b-571a-40a1-9d3c-3d076f53d018');\n",
       "          const dataTable =\n",
       "            await google.colab.kernel.invokeFunction('convertToInteractive',\n",
       "                                                     [key], {});\n",
       "          if (!dataTable) return;\n",
       "\n",
       "          const docLinkHtml = 'Like what you see? Visit the ' +\n",
       "            '<a target=\"_blank\" href=https://colab.research.google.com/notebooks/data_table.ipynb>data table notebook</a>'\n",
       "            + ' to learn more about interactive tables.';\n",
       "          element.innerHTML = '';\n",
       "          dataTable['output_type'] = 'display_data';\n",
       "          await google.colab.output.renderOutput(dataTable, element);\n",
       "          const docLink = document.createElement('div');\n",
       "          docLink.innerHTML = docLinkHtml;\n",
       "          element.appendChild(docLink);\n",
       "        }\n",
       "      </script>\n",
       "    </div>\n",
       "  </div>\n",
       "  "
      ],
      "text/plain": [
       "          th     f1_sc\n",
       "8   2.810127  0.912281\n",
       "9   2.911392  0.917749\n",
       "10  3.012658  0.917749\n",
       "11  3.113924  0.917749\n",
       "12  3.215190  0.917749\n",
       "14  3.417722  0.915254\n",
       "17  3.721519  0.913580\n",
       "18  3.822785  0.913580"
      ]
     },
     "metadata": {},
     "output_type": "display_data"
    }
   ],
   "source": [
    "f1_score[f1_score.rank(method='max',ascending=False)[\"f1_sc\"]<=8]"
   ]
  }
 ],
 "metadata": {
  "kernelspec": {
   "display_name": "base",
   "language": "python",
   "name": "python3"
  },
  "language_info": {
   "name": "python",
   "version": "3.9.13"
  },
  "orig_nbformat": 4
 },
 "nbformat": 4,
 "nbformat_minor": 2
}
