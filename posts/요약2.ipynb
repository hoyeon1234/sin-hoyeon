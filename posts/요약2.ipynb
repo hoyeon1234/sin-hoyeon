{
 "cells": [
  {
   "cell_type": "code",
   "execution_count": 1,
   "id": "4b68a55b",
   "metadata": {},
   "outputs": [],
   "source": [
    "import pandas as pd \n",
    "import numpy as np\n",
    "import matplotlib.pyplot as plt\n",
    "import seaborn as sns"
   ]
  },
  {
   "cell_type": "markdown",
   "id": "628b0c9f",
   "metadata": {},
   "source": [
    "# 6-1 표본과 경험적 분포 요약\n"
   ]
  },
  {
   "cell_type": "code",
   "execution_count": 2,
   "id": "f0454371",
   "metadata": {},
   "outputs": [],
   "source": [
    "url1 = \"https://ilovedata.github.io/teaching/bigdata2/data/seoul_bike_201909_3.csv\"\n",
    "bike = pd.read_csv(url1, encoding=\"CP949\")"
   ]
  },
  {
   "cell_type": "markdown",
   "id": "67706803",
   "metadata": {},
   "source": [
    "## 개념"
   ]
  },
  {
   "cell_type": "markdown",
   "id": "77a74ab7",
   "metadata": {},
   "source": [
    "- 모집단 : 분석에 필요한 전체자료\n",
    "- 표본 : 모집단의 일부분\n",
    "    - 확률표본 : 단순임의추출을 통해 추출된 표본\n",
    "    - 편의표본 : 개체가 표본에 포함되는 가능성을 알 수 없는 표본\n",
    "- 단순임의추출(simple random sampling) : 모집단의 모든 개체가 표본에 속할 가능성이 동일하도록 하는 추출하는 방법.\n",
    "- 경험적 분포 : 표본에 속한 **데이터의 분포**, 경험적이라는 의미는 추출된 **관측값들의 분포**라는 의미.\n",
    "- 대수의 법칙\n",
    "    - **표본의 크기** **증가**할수록 **확률표본에서 얻은 정보**는 **모집단에 대한 정보**와 점점 **가까워진다.**\n",
    "    - **확률표본**의 **경험적 분포**는 **표본의 수가 증가**할수록 **모집단의 분포**와 점점 **유사**해진다.`\n",
    "    - keyword : `확률표본`,`표본의 크기`,`증가`,`모집단의 분포`,`유사`\n",
    "- 확률표본의 정확한 정의 : 모집단에 속한 개체들이 표본에 포함되는 확률이 미리 정해져 있으며 이러한 확률분포로부터 임의로 추출된 표본을 의미한다."
   ]
  },
  {
   "cell_type": "markdown",
   "id": "ba8b0131",
   "metadata": {},
   "source": [
    "## fake 가능성\n",
    "- `확률표본`이라는 키워드가 언급되어야 함. 표본의 크기가 크면 클수록 `확률표본`이어야 함.\n",
    "    - 그냥 `표본은`은 안됨. 편의표본일 수 있기 때문."
   ]
  },
  {
   "cell_type": "markdown",
   "id": "21048e47",
   "metadata": {},
   "source": [
    "## 코드"
   ]
  },
  {
   "cell_type": "markdown",
   "id": "9fa70ff6",
   "metadata": {},
   "source": [
    "- 크키가 $n$인 확률표본 추출 : df.sample(n,replace = False,random_state)\n",
    "    - n : 표본의 크기,replace : 복원추출여부\n",
    "    - ex)bike_sample_100 = bike.sample(n=100,replace=False,random_state = 1)\n"
   ]
  },
  {
   "cell_type": "markdown",
   "id": "3a8518fa",
   "metadata": {},
   "source": [
    "- 표본의 크기가 점점 커지면 확룔표본의 평균이 모집단의 평균에 가까워 지는 것 시각화\n",
    "    - 표본의 크기는 10에서 2010까지 20step단위로 끊어서 확인"
   ]
  },
  {
   "cell_type": "code",
   "execution_count": 4,
   "id": "583be3e3",
   "metadata": {},
   "outputs": [],
   "source": [
    "n = np.arange(10,2021,20)"
   ]
  },
  {
   "cell_type": "code",
   "execution_count": 5,
   "id": "82a824f4",
   "metadata": {},
   "outputs": [],
   "source": [
    "sample_mean = pd.DataFrame({\"n\":n,\"sample_mean\":np.zeros(len(n))})\n",
    "#n : 다양한 표본의 크기들, 표본의 크기들이 담긴 array인 n이 value가 됨\n",
    "#sample_mean : 다양한 크기의 표본에 대한 sample_mean이 담길 column, 일단 다양한 표본조합 n만큼 초기화\n",
    "#n의 길이만큼 초기화, n은 지금 다양한 표본의 크기들이 들어있는 리스트\n",
    "#우리는 다양한 표본의 크기에 대해서 sample mean을 계산해봐야 함.\n",
    "\n",
    "for i,sample_size in enumerate(n):\n",
    "    sample_mean.loc[i,\"sample_mean\"] = bike.sample(n=sample_size,replace=False)[\"이용거리\"].mean() \n",
    "    #dataframe에서 sample하면 모든 컬럼이 전부 포함된 채로 있음\n",
    "    #따라서 mean을 계산할 때, 특정컬럼을 가져와 줘야 함."
   ]
  },
  {
   "cell_type": "code",
   "execution_count": 6,
   "id": "cbc04c1f",
   "metadata": {},
   "outputs": [
    {
     "data": {
      "text/html": [
       "<div>\n",
       "<style scoped>\n",
       "    .dataframe tbody tr th:only-of-type {\n",
       "        vertical-align: middle;\n",
       "    }\n",
       "\n",
       "    .dataframe tbody tr th {\n",
       "        vertical-align: top;\n",
       "    }\n",
       "\n",
       "    .dataframe thead th {\n",
       "        text-align: right;\n",
       "    }\n",
       "</style>\n",
       "<table border=\"1\" class=\"dataframe\">\n",
       "  <thead>\n",
       "    <tr style=\"text-align: right;\">\n",
       "      <th></th>\n",
       "      <th>n</th>\n",
       "      <th>sample_mean</th>\n",
       "    </tr>\n",
       "  </thead>\n",
       "  <tbody>\n",
       "    <tr>\n",
       "      <th>0</th>\n",
       "      <td>10</td>\n",
       "      <td>2763.000000</td>\n",
       "    </tr>\n",
       "    <tr>\n",
       "      <th>1</th>\n",
       "      <td>30</td>\n",
       "      <td>3513.333333</td>\n",
       "    </tr>\n",
       "    <tr>\n",
       "      <th>2</th>\n",
       "      <td>50</td>\n",
       "      <td>6504.400000</td>\n",
       "    </tr>\n",
       "    <tr>\n",
       "      <th>3</th>\n",
       "      <td>70</td>\n",
       "      <td>4424.285714</td>\n",
       "    </tr>\n",
       "    <tr>\n",
       "      <th>4</th>\n",
       "      <td>90</td>\n",
       "      <td>4201.000000</td>\n",
       "    </tr>\n",
       "  </tbody>\n",
       "</table>\n",
       "</div>"
      ],
      "text/plain": [
       "    n  sample_mean\n",
       "0  10  2763.000000\n",
       "1  30  3513.333333\n",
       "2  50  6504.400000\n",
       "3  70  4424.285714\n",
       "4  90  4201.000000"
      ]
     },
     "execution_count": 6,
     "metadata": {},
     "output_type": "execute_result"
    }
   ],
   "source": [
    "sample_mean.head(5)"
   ]
  },
  {
   "cell_type": "code",
   "execution_count": 7,
   "id": "81fb2362",
   "metadata": {
    "scrolled": false
   },
   "outputs": [
    {
     "data": {
      "image/png": "[encoded data removed]",
      "text/plain": [
       "<Figure size 640x480 with 1 Axes>"
      ]
     },
     "metadata": {},
     "output_type": "display_data"
    }
   ],
   "source": [
    "sample_mean.plot.scatter(x=\"n\",y=\"sample_mean\")\n",
    "plt.hlines(y=4253.336228, xmin=0, xmax=2000, colors='r')\n",
    "plt.show()"
   ]
  },
  {
   "cell_type": "markdown",
   "id": "cd95655a",
   "metadata": {},
   "source": [
    "# 6-2 통계량의 분포 요약"
   ]
  },
  {
   "cell_type": "code",
   "execution_count": 8,
   "id": "83462a3d",
   "metadata": {},
   "outputs": [],
   "source": [
    "url1 = \"https://ilovedata.github.io/teaching/bigdata2/data/seoul_bike_201909_3.csv\"\n",
    "bike = pd.read_csv(url1, encoding=\"CP949\")"
   ]
  },
  {
   "cell_type": "markdown",
   "id": "f5deb440",
   "metadata": {},
   "source": [
    "## 개념"
   ]
  },
  {
   "cell_type": "markdown",
   "id": "45c84474",
   "metadata": {},
   "source": [
    "|용어|기호|정의|예|\n",
    "|---|---|---|---|\n",
    "|모집단(population)|P|관심이 있는 전체집단|모든 선거구 주민|\n",
    "|모집단의 수 |N|전체집단에 속한 개체 수|모든 선거구 주민의 수|\n",
    "|모수(parameter) |$\\theta$|모집단의 특성값|모집단의 지지율|\n",
    "|표본(sample) |S|모집단의 부분 집합|표본으로 추출된 주민|\n",
    "|표본의 수|n|표본에 속한 개체의 수|표본으로 추출된 선거구 주민의 수|\n",
    "|표본 통계량(sample statistics)|$\\hat{\\theta}$|표본의 특성값|표본 지지율|"
   ]
  },
  {
   "cell_type": "markdown",
   "id": "da0e30f8",
   "metadata": {},
   "source": [
    "- 자료 분석의 목적 : 모집단에 대한 특성 즉 `모수`를 알기 위함\n",
    "- 일반적으로 자료분석은 표본에서 얻은 정보, 즉 표본통계량(=추정량)을 통해서 모수를 추론(추정)\n",
    "- 왜 자료분석을 모집단에서 안하고 표본을 추출해서 해?\n",
    "    - 모집단은 크기가 너무 커서 모든 자료를 조사할 수 없음"
   ]
  },
  {
   "cell_type": "markdown",
   "id": "28182cd6",
   "metadata": {},
   "source": [
    "- 표본으로부터 계산한 통계량도 임의성을 지니며 분포를 가진다. \n",
    "    - 모집단으로 부터 random하게 표본이 추출되기 때문임.\n",
    "- 통계량의 분포를 아는 것이 또 하나의 중요한 topic\n",
    "    - 왜 구해야해?(시험X)\n",
    "        - 통계량으로부터 모수를 추측하기 때문\n",
    "- 정확한 분포는 어떻게 구함?\n",
    "    - 모집단을 정확히 알고있을때\n",
    "    1. 모집단으로부터 가능한 모든 표본의 조합을 구하여\n",
    "    2. 나올 수 있는 모든 표본통계량과 그에 대응하는 확률을 계산해야 함\n",
    "- 하지만 못 구하는 이유?\n",
    "    - 모집단을 정확히 알아도, 가능한 조합이 경우의 수가 너무 커서 사실상 못구함\n",
    "    - Q.왜 근데 조합을 먼저 취하고 구해버리냐???..?..??\n",
    "- 그렇다면 어떻게 해? $\\to$ 모의실험을 통해 경험적으로 구해볼 수 있음.\n",
    "- 경험적분포는 어떻게 구함?\n",
    "    - 모집단에서 크기가 n인 표본을 뽑고\n",
    "    - 표본통계량 계산하고 기록\n",
    "    - 이 과정을 여러번 반복해서 표본통계량의 분포를 구해보기.\n",
    "- 표본평균의 경험적분포에 대한 매우 중요하고 신기한 특징들\n",
    "    - 모집단의 분포가 정규분포를 따르지 않더라도 표본의 크기가 크면 클수록\n",
    "    - 표본평균의 분포가 모양이 좌우가 대칭인 종모양(정규분포)에 가까워지며\n",
    "    - 분산이 줄어든다.(퍼진정도가 줄어든다.)"
   ]
  },
  {
   "cell_type": "markdown",
   "id": "7fdb971b",
   "metadata": {},
   "source": [
    "## fake 가능성\n",
    "- 표본의 경험적 분포 vs 표본통계량의 경험적 분포\n",
    "    - 표본의 경험적 분포는 표본을 구성하는 관측값들의 분포,표본 한 개만 있어도 가능함.\n",
    "    - 표본통계량의 경험적 분포는 표본에 속한 관측값들로 계산한 하나의 값,분포를 구하려면 여러개의 표본이 있어야 함.$\\to$모의실험을 실행하는 이유\n",
    "- 반드시 확률표본이어야 한다.(비확률표본이면 절대 안된다.)"
   ]
  },
  {
   "cell_type": "markdown",
   "id": "4f3ed741",
   "metadata": {},
   "source": [
    "## 코드"
   ]
  },
  {
   "cell_type": "markdown",
   "id": "a96180e5",
   "metadata": {},
   "source": [
    "**(정확한 분포 구하기)**"
   ]
  },
  {
   "cell_type": "code",
   "execution_count": 9,
   "id": "6e15ec68",
   "metadata": {
    "scrolled": true
   },
   "outputs": [
    {
     "data": {
      "text/html": [
       "<div>\n",
       "<style scoped>\n",
       "    .dataframe tbody tr th:only-of-type {\n",
       "        vertical-align: middle;\n",
       "    }\n",
       "\n",
       "    .dataframe tbody tr th {\n",
       "        vertical-align: top;\n",
       "    }\n",
       "\n",
       "    .dataframe thead th {\n",
       "        text-align: right;\n",
       "    }\n",
       "</style>\n",
       "<table border=\"1\" class=\"dataframe\">\n",
       "  <thead>\n",
       "    <tr style=\"text-align: right;\">\n",
       "      <th></th>\n",
       "      <th>표본지지율</th>\n",
       "      <th>probability</th>\n",
       "    </tr>\n",
       "  </thead>\n",
       "  <tbody>\n",
       "    <tr>\n",
       "      <th>0</th>\n",
       "      <td>1/3</td>\n",
       "      <td>0.3</td>\n",
       "    </tr>\n",
       "    <tr>\n",
       "      <th>1</th>\n",
       "      <td>2/3</td>\n",
       "      <td>0.6</td>\n",
       "    </tr>\n",
       "    <tr>\n",
       "      <th>2</th>\n",
       "      <td>1</td>\n",
       "      <td>0.1</td>\n",
       "    </tr>\n",
       "  </tbody>\n",
       "</table>\n",
       "</div>"
      ],
      "text/plain": [
       "  표본지지율  probability\n",
       "0   1/3          0.3\n",
       "1   2/3          0.6\n",
       "2     1          0.1"
      ]
     },
     "execution_count": 9,
     "metadata": {},
     "output_type": "execute_result"
    }
   ],
   "source": [
    "# 1. 가능한 모든 표본 구하기\n",
    "from itertools import combinations\n",
    "\n",
    "P = np.array([1,1,0,0,1])\n",
    "n = 3\n",
    "\n",
    "all_possible_samples = []\n",
    "for sample in combinations(P,3):\n",
    "    all_possible_samples.append(sample)\n",
    "\n",
    "#2. 모든 표본에 대한 지지율 구하기\n",
    "from fractions import Fraction\n",
    "\n",
    "sample_rate = []\n",
    "for sample in all_possible_samples:\n",
    "    sample_rate.append(Fraction(sum(sample),n)) #주의,분모 분자 헷갈리면 망함\n",
    "    #sample_rate.append(Fraction(len(sample)/sum(sample)))#틀린코드 \n",
    "\n",
    "sample_rate_dist = pd.DataFrame({\"sample_rate\":sample_rate,\"probability\":np.repeat(1/len(all_possible_samples),len(sample_rate))})\n",
    "\n",
    "sample_rate_dist.groupby(\"sample_rate\").sum().reset_index(drop=False).rename(columns = {\"sample_rate\":\"표본지지율\"})"
   ]
  },
  {
   "cell_type": "markdown",
   "id": "90af459f",
   "metadata": {},
   "source": [
    "**(경험적 분포구하기)**"
   ]
  },
  {
   "cell_type": "code",
   "execution_count": 10,
   "id": "44bd9013",
   "metadata": {},
   "outputs": [
    {
     "data": {
      "text/plain": [
       "0.6"
      ]
     },
     "execution_count": 10,
     "metadata": {},
     "output_type": "execute_result"
    }
   ],
   "source": [
    "# 모집단을 만든다.\n",
    "P = np.concatenate((np.ones(6000), np.zeros(4000)), axis=0)\n",
    "np.mean(P)"
   ]
  },
  {
   "cell_type": "code",
   "execution_count": 11,
   "id": "e0caeb53",
   "metadata": {},
   "outputs": [],
   "source": [
    "B = 10000\n",
    "n = 100\n",
    "\n",
    "simul_sample_rates = pd.DataFrame({\"sample_rate\":np.zeros(B)})\n",
    "for i in np.arange(B):\n",
    "    sample = np.random.choice(P,n)\n",
    "    simul_sample_rates.loc[i,\"sample_rate\"] = np.mean(sample)"
   ]
  },
  {
   "cell_type": "code",
   "execution_count": 12,
   "id": "50b622c4",
   "metadata": {},
   "outputs": [
    {
     "data": {
      "text/plain": [
       "<AxesSubplot:ylabel='Frequency'>"
      ]
     },
     "execution_count": 12,
     "metadata": {},
     "output_type": "execute_result"
    },
    {
     "data": {
      "image/png": "[encoded data removed]",
      "text/plain": [
       "<Figure size 640x480 with 1 Axes>"
      ]
     },
     "metadata": {},
     "output_type": "display_data"
    }
   ],
   "source": [
    "simul_sample_rates.plot.hist()"
   ]
  },
  {
   "cell_type": "markdown",
   "id": "0a02d64c",
   "metadata": {},
   "source": [
    "**(경험적 분포 구하기 - 2)** 생략"
   ]
  },
  {
   "cell_type": "markdown",
   "id": "2208b89c",
   "metadata": {},
   "source": [
    "# 6.3 추정량의 성질"
   ]
  },
  {
   "cell_type": "markdown",
   "id": "9905e9b4",
   "metadata": {},
   "source": [
    "## 개념\n",
    "- 통계량 : 표본으로부터 계산된 요약값\n",
    "- 추정량 : 모수를 추정할 수 있는 통계량\n",
    "- 추정값 : 관측한 표본으로부터 계산한 추정량의 값\n",
    "- 추정량의 성질\n",
    "    1. 추정량은 임의성을 가진다.(확률변수다.)\n",
    "        - 추정량은 표본으로 계산되고, 표본이 모집단에서 임의적으로 뽑히기 때문이다.\n",
    "    2. 추정량의 평균\n",
    "        - 추정값들의 평균은 모수와 같다.(추정값이라고 적혀있음(추정량 X),모수는 모집단의 지지율이 였음)\n",
    "        - 강의자료에서는 추정량의 평균 = 추정값들의 (표본)평균으로 설명함.\n",
    "        - $\\text{Bias} = \\theta - \\bar \\theta $, 작을수록 좋은 추정량이다.\n",
    "    3. 추정량의 표준편차\n",
    "        - 추정값들의 표준편차가 이렇게 된다.(공식있음)\n",
    "        - 뭐 특별한건 없고 추정량도 임의성을 지니기에(random variable) 분포를 가지며 표준편차도 가진다는 점!.\n",
    "- 중심극한정리\n",
    "    - 일반적으로 표본의 수가 50보다 크면 추정량의 분포가 정규분포에 꽤 가깝다.\n",
    "- 그래서 .. 중심극한정리 어디에 활용?\n",
    "    - 평균으로부터 +- 2SD에 추정값이 나타날 확률이 95%\n",
    "    - 위와 동일하게 추정값 +- 2SD에 평균이 나타날 확률이 95%\n",
    "    - 위와 동일하게 **표본지지율과 모집단 지지율의 차이가 2SD일 확률이 95%이다.**"
   ]
  },
  {
   "cell_type": "markdown",
   "id": "740ad767",
   "metadata": {},
   "source": [
    "- 표본오차는 95% 신뢰수준에서 $\\pm 3.1%$포인트다.\n",
    "    - 강의교재에서는 표본오차 = $3.1%$로 나왔지만 $\\theta - \\hat\\theta$를 의미하는 것이라 생각함.\n",
    "    - Q. 용어 상당히 헷갈림 일단 pass"
   ]
  },
  {
   "cell_type": "markdown",
   "id": "8e3e6ddc",
   "metadata": {},
   "source": [
    "## 코드"
   ]
  },
  {
   "cell_type": "code",
   "execution_count": 13,
   "id": "1873fefc",
   "metadata": {},
   "outputs": [
    {
     "data": {
      "text/plain": [
       "array([1., 1., 1., ..., 0., 0., 0.])"
      ]
     },
     "execution_count": 13,
     "metadata": {},
     "output_type": "execute_result"
    }
   ],
   "source": [
    "# 모집단의 크기\n",
    "N = 100000\n",
    "\n",
    "# 지지하는 유권자의 수 \n",
    "favor = 60000\n",
    "\n",
    "# 반대하는 유권자의 수 \n",
    "opposite = 40000\n",
    "\n",
    "# 모집단 (1=지지, 0=반대)\n",
    "P = np.concatenate((np.ones(favor), np.zeros(opposite)), axis=0)\n",
    "P"
   ]
  },
  {
   "cell_type": "code",
   "execution_count": 14,
   "id": "b098033c",
   "metadata": {},
   "outputs": [],
   "source": [
    "B = 10000\n",
    "n = 1000\n",
    "\n",
    "estimates = pd.DataFrame({\"sample_rate\":np.zeros(B)})\n",
    "for i in np.arange(B):\n",
    "    sample = np.random.choice(P,n,replace=False)\n",
    "    estimates.loc[i,\"sample_rate\"] = np.mean(sample)"
   ]
  },
  {
   "cell_type": "code",
   "execution_count": 18,
   "id": "863f8fc3",
   "metadata": {},
   "outputs": [
    {
     "data": {
      "text/plain": [
       "0.5999100999999974"
      ]
     },
     "execution_count": 18,
     "metadata": {},
     "output_type": "execute_result"
    }
   ],
   "source": [
    "AVG = float(estimates.mean())\n",
    "AVG"
   ]
  },
  {
   "cell_type": "code",
   "execution_count": 16,
   "id": "186d628c",
   "metadata": {},
   "outputs": [
    {
     "data": {
      "text/plain": [
       "0.015371410020378815"
      ]
     },
     "execution_count": 16,
     "metadata": {},
     "output_type": "execute_result"
    }
   ],
   "source": [
    "SD = float(estimates.std())\n",
    "SD"
   ]
  },
  {
   "cell_type": "code",
   "execution_count": 19,
   "id": "e06cddf5",
   "metadata": {},
   "outputs": [
    {
     "data": {
      "text/plain": [
       "[0.5691672799592398, 0.6306529200407551]"
      ]
     },
     "execution_count": 19,
     "metadata": {},
     "output_type": "execute_result"
    }
   ],
   "source": [
    "[AVG - 2*SD,AVG + 2*SD]"
   ]
  },
  {
   "cell_type": "markdown",
   "id": "bde43df4",
   "metadata": {},
   "source": [
    "# 붓스트랩"
   ]
  },
  {
   "cell_type": "code",
   "execution_count": 8,
   "id": "7db35fac",
   "metadata": {},
   "outputs": [],
   "source": [
    "N = 100000\n",
    "theta = 0.5\n",
    "\n",
    "favor = int(100000 * theta)\n",
    "opposite = N - favor\n",
    "P = np.concatenate((np.ones(favor),np.zeros(opposite)),axis=0)"
   ]
  },
  {
   "cell_type": "code",
   "execution_count": 12,
   "id": "02de9cf1",
   "metadata": {},
   "outputs": [
    {
     "data": {
      "text/plain": [
       "array([1., 0., 0., 0., 0., 1., 0., 1., 1., 1.])"
      ]
     },
     "execution_count": 12,
     "metadata": {},
     "output_type": "execute_result"
    }
   ],
   "source": [
    "n = 1000\n",
    "one_sample = np.random.choice(P,n,replace=False)\n",
    "one_sample[:10]"
   ]
  },
  {
   "cell_type": "code",
   "execution_count": 26,
   "id": "ad6638c9",
   "metadata": {},
   "outputs": [],
   "source": [
    "B = 100000\n",
    "\n",
    "bootstrap_estimates = pd.DataFrame({\"boot_estimate\":np.zeros(B)})\n",
    "for i in np.arange(B):\n",
    "    resample = np.random.choice(one_sample,n,replace=True)\n",
    "    bootstrap_estimates.loc[i,\"boot_estimate\"] = np.mean(resample)"
   ]
  },
  {
   "cell_type": "code",
   "execution_count": 27,
   "id": "5333da11",
   "metadata": {},
   "outputs": [
    {
     "data": {
      "text/plain": [
       "0.03151285719143887"
      ]
     },
     "execution_count": 27,
     "metadata": {},
     "output_type": "execute_result"
    }
   ],
   "source": [
    "SD = float(bootstrap_estimates.std())\n",
    "2 * SD"
   ]
  },
  {
   "cell_type": "code",
   "execution_count": 28,
   "id": "50f56d9d",
   "metadata": {},
   "outputs": [
    {
     "data": {
      "text/plain": [
       "[0.497, 0.519]"
      ]
     },
     "execution_count": 28,
     "metadata": {},
     "output_type": "execute_result"
    }
   ],
   "source": [
    "lower_bound = bootstrap_estimates[\"boot_estimate\"].quantile(0.25)\n",
    "upper_bound = bootstrap_estimates[\"boot_estimate\"].quantile(0.75)\n",
    "[lower_bound,upper_bound]"
   ]
  },
  {
   "cell_type": "code",
   "execution_count": 29,
   "id": "f3d6f147",
   "metadata": {},
   "outputs": [
    {
     "data": {
      "text/plain": [
       "[0.47648714280856114, 0.5395128571914389]"
      ]
     },
     "execution_count": 29,
     "metadata": {},
     "output_type": "execute_result"
    }
   ],
   "source": [
    "hat_theta = np.mean(one_sample)\n",
    "lower_bound = hat_theta - 2 * SD\n",
    "upper_bound = hat_theta + 2 * SD\n",
    "[lower_bound,upper_bound]"
   ]
  },
  {
   "cell_type": "code",
   "execution_count": 30,
   "id": "09a98280",
   "metadata": {},
   "outputs": [
    {
     "data": {
      "text/plain": [
       "0.508"
      ]
     },
     "execution_count": 30,
     "metadata": {},
     "output_type": "execute_result"
    }
   ],
   "source": [
    "hat_theta"
   ]
  },
  {
   "cell_type": "code",
   "execution_count": 34,
   "id": "c80507e3",
   "metadata": {},
   "outputs": [
    {
     "data": {
      "text/plain": [
       "0.5080417199999819"
      ]
     },
     "execution_count": 34,
     "metadata": {},
     "output_type": "execute_result"
    }
   ],
   "source": [
    "bootstrap_estimates[\"boot_estimate\"].mean()"
   ]
  },
  {
   "cell_type": "code",
   "execution_count": 35,
   "id": "ddbe679c",
   "metadata": {},
   "outputs": [
    {
     "data": {
      "text/plain": [
       "<AxesSubplot:ylabel='Frequency'>"
      ]
     },
     "execution_count": 35,
     "metadata": {},
     "output_type": "execute_result"
    },
    {
     "data": {
      "image/png": "[encoded data removed]",
      "text/plain": [
       "<Figure size 640x480 with 1 Axes>"
      ]
     },
     "metadata": {},
     "output_type": "display_data"
    }
   ],
   "source": [
    "bootstrap_estimates.plot.hist(density=True)"
   ]
  },
  {
   "cell_type": "code",
   "execution_count": 69,
   "id": "a3e2f6c5",
   "metadata": {},
   "outputs": [
    {
     "data": {
      "text/html": [
       "<div>\n",
       "<style scoped>\n",
       "    .dataframe tbody tr th:only-of-type {\n",
       "        vertical-align: middle;\n",
       "    }\n",
       "\n",
       "    .dataframe tbody tr th {\n",
       "        vertical-align: top;\n",
       "    }\n",
       "\n",
       "    .dataframe thead th {\n",
       "        text-align: right;\n",
       "    }\n",
       "</style>\n",
       "<table border=\"1\" class=\"dataframe\">\n",
       "  <thead>\n",
       "    <tr style=\"text-align: right;\">\n",
       "      <th></th>\n",
       "      <th>자전거번호</th>\n",
       "      <th>대여일시</th>\n",
       "      <th>대여 대여소번호</th>\n",
       "      <th>대여 대여소명</th>\n",
       "      <th>대여거치대</th>\n",
       "      <th>반납일시</th>\n",
       "      <th>반납대여소번호</th>\n",
       "      <th>반납대여소명</th>\n",
       "      <th>반납거치대</th>\n",
       "      <th>이용시간</th>\n",
       "      <th>이용거리</th>\n",
       "    </tr>\n",
       "  </thead>\n",
       "  <tbody>\n",
       "    <tr>\n",
       "      <th>0</th>\n",
       "      <td>SPB-17003</td>\n",
       "      <td>2019-09-28 16:10:55</td>\n",
       "      <td>368</td>\n",
       "      <td>SK 서린빌딩 앞</td>\n",
       "      <td>4</td>\n",
       "      <td>2019-09-28 17:03:32</td>\n",
       "      <td>2002</td>\n",
       "      <td>노들역 1번출구</td>\n",
       "      <td>14</td>\n",
       "      <td>52</td>\n",
       "      <td>8940.0</td>\n",
       "    </tr>\n",
       "    <tr>\n",
       "      <th>1</th>\n",
       "      <td>SPB-14405</td>\n",
       "      <td>2019-09-28 16:48:16</td>\n",
       "      <td>2024</td>\n",
       "      <td>상도역 1번출구</td>\n",
       "      <td>3</td>\n",
       "      <td>2019-09-28 17:03:44</td>\n",
       "      <td>2002</td>\n",
       "      <td>노들역 1번출구</td>\n",
       "      <td>18</td>\n",
       "      <td>15</td>\n",
       "      <td>1910.0</td>\n",
       "    </tr>\n",
       "    <tr>\n",
       "      <th>2</th>\n",
       "      <td>SPB-18431</td>\n",
       "      <td>2019-09-28 16:59:54</td>\n",
       "      <td>2002</td>\n",
       "      <td>노들역 1번출구</td>\n",
       "      <td>10</td>\n",
       "      <td>2019-09-28 17:03:57</td>\n",
       "      <td>2002</td>\n",
       "      <td>노들역 1번출구</td>\n",
       "      <td>10</td>\n",
       "      <td>2</td>\n",
       "      <td>30.0</td>\n",
       "    </tr>\n",
       "    <tr>\n",
       "      <th>3</th>\n",
       "      <td>SPB-04853</td>\n",
       "      <td>2019-09-28 15:31:49</td>\n",
       "      <td>207</td>\n",
       "      <td>여의나루역 1번출구 앞</td>\n",
       "      <td>32</td>\n",
       "      <td>2019-09-28 17:10:12</td>\n",
       "      <td>2002</td>\n",
       "      <td>노들역 1번출구</td>\n",
       "      <td>19</td>\n",
       "      <td>98</td>\n",
       "      <td>9610.0</td>\n",
       "    </tr>\n",
       "    <tr>\n",
       "      <th>4</th>\n",
       "      <td>SPB-11122</td>\n",
       "      <td>2019-09-28 15:35:41</td>\n",
       "      <td>207</td>\n",
       "      <td>여의나루역 1번출구 앞</td>\n",
       "      <td>14</td>\n",
       "      <td>2019-09-28 17:10:37</td>\n",
       "      <td>2002</td>\n",
       "      <td>노들역 1번출구</td>\n",
       "      <td>18</td>\n",
       "      <td>90</td>\n",
       "      <td>9450.0</td>\n",
       "    </tr>\n",
       "    <tr>\n",
       "      <th>...</th>\n",
       "      <td>...</td>\n",
       "      <td>...</td>\n",
       "      <td>...</td>\n",
       "      <td>...</td>\n",
       "      <td>...</td>\n",
       "      <td>...</td>\n",
       "      <td>...</td>\n",
       "      <td>...</td>\n",
       "      <td>...</td>\n",
       "      <td>...</td>\n",
       "      <td>...</td>\n",
       "    </tr>\n",
       "    <tr>\n",
       "      <th>407584</th>\n",
       "      <td>SPB-24072</td>\n",
       "      <td>2019-09-12 08:56:34</td>\n",
       "      <td>240</td>\n",
       "      <td>문래역 4번출구 앞</td>\n",
       "      <td>9</td>\n",
       "      <td>2019-09-12 09:03:37</td>\n",
       "      <td>99999</td>\n",
       "      <td>영남단말기정비</td>\n",
       "      <td>2</td>\n",
       "      <td>6</td>\n",
       "      <td>720.0</td>\n",
       "    </tr>\n",
       "    <tr>\n",
       "      <th>407585</th>\n",
       "      <td>SPB-16130</td>\n",
       "      <td>2019-09-18 10:13:09</td>\n",
       "      <td>99999</td>\n",
       "      <td>영남단말기정비</td>\n",
       "      <td>1</td>\n",
       "      <td>2019-09-18 11:38:30</td>\n",
       "      <td>99999</td>\n",
       "      <td>영남단말기정비</td>\n",
       "      <td>1</td>\n",
       "      <td>85</td>\n",
       "      <td>40.0</td>\n",
       "    </tr>\n",
       "    <tr>\n",
       "      <th>407586</th>\n",
       "      <td>SPB-03728</td>\n",
       "      <td>2019-09-25 08:00:28</td>\n",
       "      <td>2183</td>\n",
       "      <td>동방1교</td>\n",
       "      <td>7</td>\n",
       "      <td>2019-09-25 08:54:02</td>\n",
       "      <td>99999</td>\n",
       "      <td>영남단말기정비</td>\n",
       "      <td>5</td>\n",
       "      <td>53</td>\n",
       "      <td>12910.0</td>\n",
       "    </tr>\n",
       "    <tr>\n",
       "      <th>407587</th>\n",
       "      <td>SPB-08928</td>\n",
       "      <td>2019-09-30 07:49:27</td>\n",
       "      <td>2183</td>\n",
       "      <td>동방1교</td>\n",
       "      <td>10</td>\n",
       "      <td>2019-09-30 09:42:27</td>\n",
       "      <td>99999</td>\n",
       "      <td>영남단말기정비</td>\n",
       "      <td>7</td>\n",
       "      <td>2</td>\n",
       "      <td>0.0</td>\n",
       "    </tr>\n",
       "    <tr>\n",
       "      <th>407588</th>\n",
       "      <td>SPB-06988</td>\n",
       "      <td>2019-09-30 09:58:43</td>\n",
       "      <td>99999</td>\n",
       "      <td>영남단말기정비</td>\n",
       "      <td>5</td>\n",
       "      <td>2019-09-30 13:01:26</td>\n",
       "      <td>99999</td>\n",
       "      <td>영남단말기정비</td>\n",
       "      <td>5</td>\n",
       "      <td>182</td>\n",
       "      <td>10.0</td>\n",
       "    </tr>\n",
       "  </tbody>\n",
       "</table>\n",
       "<p>407589 rows × 11 columns</p>\n",
       "</div>"
      ],
      "text/plain": [
       "            자전거번호                 대여일시  대여 대여소번호       대여 대여소명  대여거치대  \\\n",
       "0       SPB-17003  2019-09-28 16:10:55       368     SK 서린빌딩 앞      4   \n",
       "1       SPB-14405  2019-09-28 16:48:16      2024      상도역 1번출구      3   \n",
       "2       SPB-18431  2019-09-28 16:59:54      2002      노들역 1번출구     10   \n",
       "3       SPB-04853  2019-09-28 15:31:49       207  여의나루역 1번출구 앞     32   \n",
       "4       SPB-11122  2019-09-28 15:35:41       207  여의나루역 1번출구 앞     14   \n",
       "...           ...                  ...       ...           ...    ...   \n",
       "407584  SPB-24072  2019-09-12 08:56:34       240    문래역 4번출구 앞      9   \n",
       "407585  SPB-16130  2019-09-18 10:13:09     99999       영남단말기정비      1   \n",
       "407586  SPB-03728  2019-09-25 08:00:28      2183          동방1교      7   \n",
       "407587  SPB-08928  2019-09-30 07:49:27      2183          동방1교     10   \n",
       "407588  SPB-06988  2019-09-30 09:58:43     99999       영남단말기정비      5   \n",
       "\n",
       "                       반납일시  반납대여소번호    반납대여소명  반납거치대  이용시간     이용거리  \n",
       "0       2019-09-28 17:03:32     2002  노들역 1번출구     14    52   8940.0  \n",
       "1       2019-09-28 17:03:44     2002  노들역 1번출구     18    15   1910.0  \n",
       "2       2019-09-28 17:03:57     2002  노들역 1번출구     10     2     30.0  \n",
       "3       2019-09-28 17:10:12     2002  노들역 1번출구     19    98   9610.0  \n",
       "4       2019-09-28 17:10:37     2002  노들역 1번출구     18    90   9450.0  \n",
       "...                     ...      ...       ...    ...   ...      ...  \n",
       "407584  2019-09-12 09:03:37    99999   영남단말기정비      2     6    720.0  \n",
       "407585  2019-09-18 11:38:30    99999   영남단말기정비      1    85     40.0  \n",
       "407586  2019-09-25 08:54:02    99999   영남단말기정비      5    53  12910.0  \n",
       "407587  2019-09-30 09:42:27    99999   영남단말기정비      7     2      0.0  \n",
       "407588  2019-09-30 13:01:26    99999   영남단말기정비      5   182     10.0  \n",
       "\n",
       "[407589 rows x 11 columns]"
      ]
     },
     "execution_count": 69,
     "metadata": {},
     "output_type": "execute_result"
    }
   ],
   "source": [
    "url1 = \"https://ilovedata.github.io/teaching/bigdata2/data/seoul_bike_201909_3.csv\"\n",
    "bike = pd.read_csv(url1, encoding=\"CP949\")\n",
    "bike"
   ]
  },
  {
   "cell_type": "code",
   "execution_count": 70,
   "id": "e1954366",
   "metadata": {},
   "outputs": [],
   "source": [
    "bike2 = bike[ [\"이용시간\",\"이용거리\"] ].rename(columns={\"이용시간\":\"time\", \"이용거리\":\"distance\"})"
   ]
  },
  {
   "cell_type": "code",
   "execution_count": 71,
   "id": "6d0da326",
   "metadata": {},
   "outputs": [
    {
     "data": {
      "text/html": [
       "<div>\n",
       "<style scoped>\n",
       "    .dataframe tbody tr th:only-of-type {\n",
       "        vertical-align: middle;\n",
       "    }\n",
       "\n",
       "    .dataframe tbody tr th {\n",
       "        vertical-align: top;\n",
       "    }\n",
       "\n",
       "    .dataframe thead th {\n",
       "        text-align: right;\n",
       "    }\n",
       "</style>\n",
       "<table border=\"1\" class=\"dataframe\">\n",
       "  <thead>\n",
       "    <tr style=\"text-align: right;\">\n",
       "      <th></th>\n",
       "      <th>time</th>\n",
       "      <th>distance</th>\n",
       "    </tr>\n",
       "  </thead>\n",
       "  <tbody>\n",
       "    <tr>\n",
       "      <th>0</th>\n",
       "      <td>52</td>\n",
       "      <td>8940.0</td>\n",
       "    </tr>\n",
       "    <tr>\n",
       "      <th>1</th>\n",
       "      <td>15</td>\n",
       "      <td>1910.0</td>\n",
       "    </tr>\n",
       "    <tr>\n",
       "      <th>2</th>\n",
       "      <td>2</td>\n",
       "      <td>30.0</td>\n",
       "    </tr>\n",
       "    <tr>\n",
       "      <th>3</th>\n",
       "      <td>98</td>\n",
       "      <td>9610.0</td>\n",
       "    </tr>\n",
       "    <tr>\n",
       "      <th>4</th>\n",
       "      <td>90</td>\n",
       "      <td>9450.0</td>\n",
       "    </tr>\n",
       "    <tr>\n",
       "      <th>...</th>\n",
       "      <td>...</td>\n",
       "      <td>...</td>\n",
       "    </tr>\n",
       "    <tr>\n",
       "      <th>407584</th>\n",
       "      <td>6</td>\n",
       "      <td>720.0</td>\n",
       "    </tr>\n",
       "    <tr>\n",
       "      <th>407585</th>\n",
       "      <td>85</td>\n",
       "      <td>40.0</td>\n",
       "    </tr>\n",
       "    <tr>\n",
       "      <th>407586</th>\n",
       "      <td>53</td>\n",
       "      <td>12910.0</td>\n",
       "    </tr>\n",
       "    <tr>\n",
       "      <th>407587</th>\n",
       "      <td>2</td>\n",
       "      <td>0.0</td>\n",
       "    </tr>\n",
       "    <tr>\n",
       "      <th>407588</th>\n",
       "      <td>182</td>\n",
       "      <td>10.0</td>\n",
       "    </tr>\n",
       "  </tbody>\n",
       "</table>\n",
       "<p>407589 rows × 2 columns</p>\n",
       "</div>"
      ],
      "text/plain": [
       "        time  distance\n",
       "0         52    8940.0\n",
       "1         15    1910.0\n",
       "2          2      30.0\n",
       "3         98    9610.0\n",
       "4         90    9450.0\n",
       "...      ...       ...\n",
       "407584     6     720.0\n",
       "407585    85      40.0\n",
       "407586    53   12910.0\n",
       "407587     2       0.0\n",
       "407588   182      10.0\n",
       "\n",
       "[407589 rows x 2 columns]"
      ]
     },
     "execution_count": 71,
     "metadata": {},
     "output_type": "execute_result"
    }
   ],
   "source": [
    "bike2"
   ]
  },
  {
   "cell_type": "code",
   "execution_count": 72,
   "id": "b53fe75e",
   "metadata": {},
   "outputs": [
    {
     "data": {
      "text/html": [
       "<div>\n",
       "<style scoped>\n",
       "    .dataframe tbody tr th:only-of-type {\n",
       "        vertical-align: middle;\n",
       "    }\n",
       "\n",
       "    .dataframe tbody tr th {\n",
       "        vertical-align: top;\n",
       "    }\n",
       "\n",
       "    .dataframe thead th {\n",
       "        text-align: right;\n",
       "    }\n",
       "</style>\n",
       "<table border=\"1\" class=\"dataframe\">\n",
       "  <thead>\n",
       "    <tr style=\"text-align: right;\">\n",
       "      <th></th>\n",
       "      <th>time</th>\n",
       "      <th>distance</th>\n",
       "    </tr>\n",
       "  </thead>\n",
       "  <tbody>\n",
       "    <tr>\n",
       "      <th>count</th>\n",
       "      <td>407589.000000</td>\n",
       "      <td>407589.000000</td>\n",
       "    </tr>\n",
       "    <tr>\n",
       "      <th>mean</th>\n",
       "      <td>30.156827</td>\n",
       "      <td>4253.336228</td>\n",
       "    </tr>\n",
       "    <tr>\n",
       "      <th>std</th>\n",
       "      <td>32.065934</td>\n",
       "      <td>5782.673901</td>\n",
       "    </tr>\n",
       "    <tr>\n",
       "      <th>min</th>\n",
       "      <td>1.000000</td>\n",
       "      <td>0.000000</td>\n",
       "    </tr>\n",
       "    <tr>\n",
       "      <th>25%</th>\n",
       "      <td>8.000000</td>\n",
       "      <td>1200.000000</td>\n",
       "    </tr>\n",
       "    <tr>\n",
       "      <th>50%</th>\n",
       "      <td>18.000000</td>\n",
       "      <td>2380.000000</td>\n",
       "    </tr>\n",
       "    <tr>\n",
       "      <th>75%</th>\n",
       "      <td>43.000000</td>\n",
       "      <td>5130.000000</td>\n",
       "    </tr>\n",
       "    <tr>\n",
       "      <th>max</th>\n",
       "      <td>2479.000000</td>\n",
       "      <td>153490.000000</td>\n",
       "    </tr>\n",
       "  </tbody>\n",
       "</table>\n",
       "</div>"
      ],
      "text/plain": [
       "                time       distance\n",
       "count  407589.000000  407589.000000\n",
       "mean       30.156827    4253.336228\n",
       "std        32.065934    5782.673901\n",
       "min         1.000000       0.000000\n",
       "25%         8.000000    1200.000000\n",
       "50%        18.000000    2380.000000\n",
       "75%        43.000000    5130.000000\n",
       "max      2479.000000  153490.000000"
      ]
     },
     "execution_count": 72,
     "metadata": {},
     "output_type": "execute_result"
    }
   ],
   "source": [
    "bike2.describe()"
   ]
  },
  {
   "cell_type": "code",
   "execution_count": 83,
   "id": "4614bfd3",
   "metadata": {},
   "outputs": [],
   "source": [
    "n=1000\n",
    "one_sample = bike2.sample(n=1000,replace=False)"
   ]
  },
  {
   "cell_type": "code",
   "execution_count": 84,
   "id": "2bdb7fdf",
   "metadata": {},
   "outputs": [
    {
     "data": {
      "text/html": [
       "<div>\n",
       "<style scoped>\n",
       "    .dataframe tbody tr th:only-of-type {\n",
       "        vertical-align: middle;\n",
       "    }\n",
       "\n",
       "    .dataframe tbody tr th {\n",
       "        vertical-align: top;\n",
       "    }\n",
       "\n",
       "    .dataframe thead th {\n",
       "        text-align: right;\n",
       "    }\n",
       "</style>\n",
       "<table border=\"1\" class=\"dataframe\">\n",
       "  <thead>\n",
       "    <tr style=\"text-align: right;\">\n",
       "      <th></th>\n",
       "      <th>time</th>\n",
       "      <th>distance</th>\n",
       "    </tr>\n",
       "  </thead>\n",
       "  <tbody>\n",
       "    <tr>\n",
       "      <th>count</th>\n",
       "      <td>1000.000000</td>\n",
       "      <td>1000.000000</td>\n",
       "    </tr>\n",
       "    <tr>\n",
       "      <th>mean</th>\n",
       "      <td>29.573000</td>\n",
       "      <td>4295.160000</td>\n",
       "    </tr>\n",
       "    <tr>\n",
       "      <th>std</th>\n",
       "      <td>31.391944</td>\n",
       "      <td>6355.280258</td>\n",
       "    </tr>\n",
       "    <tr>\n",
       "      <th>min</th>\n",
       "      <td>1.000000</td>\n",
       "      <td>0.000000</td>\n",
       "    </tr>\n",
       "    <tr>\n",
       "      <th>25%</th>\n",
       "      <td>8.000000</td>\n",
       "      <td>1230.000000</td>\n",
       "    </tr>\n",
       "    <tr>\n",
       "      <th>50%</th>\n",
       "      <td>17.000000</td>\n",
       "      <td>2355.000000</td>\n",
       "    </tr>\n",
       "    <tr>\n",
       "      <th>75%</th>\n",
       "      <td>43.000000</td>\n",
       "      <td>5035.000000</td>\n",
       "    </tr>\n",
       "    <tr>\n",
       "      <th>max</th>\n",
       "      <td>245.000000</td>\n",
       "      <td>86470.000000</td>\n",
       "    </tr>\n",
       "  </tbody>\n",
       "</table>\n",
       "</div>"
      ],
      "text/plain": [
       "              time      distance\n",
       "count  1000.000000   1000.000000\n",
       "mean     29.573000   4295.160000\n",
       "std      31.391944   6355.280258\n",
       "min       1.000000      0.000000\n",
       "25%       8.000000   1230.000000\n",
       "50%      17.000000   2355.000000\n",
       "75%      43.000000   5035.000000\n",
       "max     245.000000  86470.000000"
      ]
     },
     "execution_count": 84,
     "metadata": {},
     "output_type": "execute_result"
    }
   ],
   "source": [
    "one_sample.describe()"
   ]
  },
  {
   "cell_type": "code",
   "execution_count": 91,
   "id": "d0f31183",
   "metadata": {},
   "outputs": [
    {
     "data": {
      "text/html": [
       "<div>\n",
       "<style scoped>\n",
       "    .dataframe tbody tr th:only-of-type {\n",
       "        vertical-align: middle;\n",
       "    }\n",
       "\n",
       "    .dataframe tbody tr th {\n",
       "        vertical-align: top;\n",
       "    }\n",
       "\n",
       "    .dataframe thead th {\n",
       "        text-align: right;\n",
       "    }\n",
       "</style>\n",
       "<table border=\"1\" class=\"dataframe\">\n",
       "  <thead>\n",
       "    <tr style=\"text-align: right;\">\n",
       "      <th></th>\n",
       "      <th>time_estimates</th>\n",
       "      <th>distance_estimates</th>\n",
       "    </tr>\n",
       "  </thead>\n",
       "  <tbody>\n",
       "    <tr>\n",
       "      <th>0</th>\n",
       "      <td>18.0</td>\n",
       "      <td>2430.0</td>\n",
       "    </tr>\n",
       "    <tr>\n",
       "      <th>1</th>\n",
       "      <td>17.0</td>\n",
       "      <td>2300.0</td>\n",
       "    </tr>\n",
       "    <tr>\n",
       "      <th>2</th>\n",
       "      <td>18.0</td>\n",
       "      <td>2340.0</td>\n",
       "    </tr>\n",
       "    <tr>\n",
       "      <th>3</th>\n",
       "      <td>17.0</td>\n",
       "      <td>2305.0</td>\n",
       "    </tr>\n",
       "    <tr>\n",
       "      <th>4</th>\n",
       "      <td>17.0</td>\n",
       "      <td>2290.0</td>\n",
       "    </tr>\n",
       "    <tr>\n",
       "      <th>...</th>\n",
       "      <td>...</td>\n",
       "      <td>...</td>\n",
       "    </tr>\n",
       "    <tr>\n",
       "      <th>995</th>\n",
       "      <td>18.0</td>\n",
       "      <td>2360.0</td>\n",
       "    </tr>\n",
       "    <tr>\n",
       "      <th>996</th>\n",
       "      <td>16.0</td>\n",
       "      <td>2220.0</td>\n",
       "    </tr>\n",
       "    <tr>\n",
       "      <th>997</th>\n",
       "      <td>17.0</td>\n",
       "      <td>2400.0</td>\n",
       "    </tr>\n",
       "    <tr>\n",
       "      <th>998</th>\n",
       "      <td>16.0</td>\n",
       "      <td>2345.0</td>\n",
       "    </tr>\n",
       "    <tr>\n",
       "      <th>999</th>\n",
       "      <td>17.0</td>\n",
       "      <td>2290.0</td>\n",
       "    </tr>\n",
       "  </tbody>\n",
       "</table>\n",
       "<p>1000 rows × 2 columns</p>\n",
       "</div>"
      ],
      "text/plain": [
       "     time_estimates  distance_estimates\n",
       "0              18.0              2430.0\n",
       "1              17.0              2300.0\n",
       "2              18.0              2340.0\n",
       "3              17.0              2305.0\n",
       "4              17.0              2290.0\n",
       "..              ...                 ...\n",
       "995            18.0              2360.0\n",
       "996            16.0              2220.0\n",
       "997            17.0              2400.0\n",
       "998            16.0              2345.0\n",
       "999            17.0              2290.0\n",
       "\n",
       "[1000 rows x 2 columns]"
      ]
     },
     "execution_count": 91,
     "metadata": {},
     "output_type": "execute_result"
    }
   ],
   "source": [
    "B = 1000\n",
    "\n",
    "estimates = pd.DataFrame({\"time_estimates\":np.zeros(B),\"distance_estimates\":np.zeros(B)})\n",
    "for i in np.arange(B):\n",
    "    estimates.loc[i,\"time_estimates\"] = one_sample[\"time\"].sample(n,replace=True,random_state = i).median()\n",
    "    estimates.loc[i,\"distance_estimates\"] = one_sample[\"distance\"].sample(n,replace=True,random_state = i).median()\n",
    "estimates"
   ]
  },
  {
   "cell_type": "code",
   "execution_count": 92,
   "id": "b10f1c66",
   "metadata": {},
   "outputs": [
    {
     "data": {
      "text/plain": [
       "(16.0, 20.0)"
      ]
     },
     "execution_count": 92,
     "metadata": {},
     "output_type": "execute_result"
    }
   ],
   "source": [
    "estimates[\"time_estimates\"].quantile(0.025),estimates[\"time_estimates\"].quantile(0.975)"
   ]
  },
  {
   "cell_type": "code",
   "execution_count": 93,
   "id": "a8388a90",
   "metadata": {},
   "outputs": [
    {
     "data": {
      "text/plain": [
       "(2190.0, 2565.125)"
      ]
     },
     "execution_count": 93,
     "metadata": {},
     "output_type": "execute_result"
    }
   ],
   "source": [
    "float(estimates[\"distance_estimates\"].quantile(0.025)),estimates[\"distance_estimates\"].quantile(0.975)"
   ]
  },
  {
   "cell_type": "code",
   "execution_count": null,
   "id": "c75f84cf",
   "metadata": {},
   "outputs": [],
   "source": []
  }
 ],
 "metadata": {
  "kernelspec": {
   "display_name": "Python 3 (ipykernel)",
   "language": "python",
   "name": "python3"
  },
  "language_info": {
   "codemirror_mode": {
    "name": "ipython",
    "version": 3
   },
   "file_extension": ".py",
   "mimetype": "text/x-python",
   "name": "python",
   "nbconvert_exporter": "python",
   "pygments_lexer": "ipython3",
   "version": "3.9.13"
  },
  "toc": {
   "base_numbering": 1,
   "nav_menu": {},
   "number_sections": true,
   "sideBar": true,
   "skip_h1_title": false,
   "title_cell": "Table of Contents",
   "title_sidebar": "Contents",
   "toc_cell": false,
   "toc_position": {},
   "toc_section_display": true,
   "toc_window_display": false
  }
 },
 "nbformat": 4,
 "nbformat_minor": 5
}
