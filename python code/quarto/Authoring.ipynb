{
 "cells": [
  {
   "attachments": {},
   "cell_type": "markdown",
   "metadata": {},
   "source": [
    "title,author : 모든 문서에 다 들어가는 메타데이타<br>\n",
    "toc,number-sections,highlight-style : 모든 문서에서 부가적으로 사용되는 형식옵션<br>\n",
    "다양한 포맷으로 변형될 수 있도록 함<br>\n",
    "pdf에 마진을 변경함 docx 옵션은 기본값들만 사용<br>\n",
    "quarto preview Authoring.ipynb --to html\n",
    "quarto preview Authoring.ipynb --to pdf\n",
    "quarto preview Authoring.ipynb --to docx"
   ]
  },
  {
   "cell_type": "raw",
   "metadata": {},
   "source": [
    "---\n",
    "title: \"Quarto Document\"\n",
    "author : \"신호연\"\n",
    "format:\n",
    "  html:\n",
    "    code-fold: true\n",
    "    html-math-method: katex\n",
    "  pdf:\n",
    "    geometry:\n",
    "      - top=30mm\n",
    "      - left = 30mm\n",
    "    docx: default\n",
    "---"
   ]
  },
  {
   "cell_type": "raw",
   "metadata": {},
   "source": []
  }
 ],
 "metadata": {
  "kernelspec": {
   "display_name": "base",
   "language": "python",
   "name": "python3"
  },
  "language_info": {
   "codemirror_mode": {
    "name": "ipython",
    "version": 3
   },
   "file_extension": ".py",
   "mimetype": "text/x-python",
   "name": "python",
   "nbconvert_exporter": "python",
   "pygments_lexer": "ipython3",
   "version": "3.9.13"
  },
  "orig_nbformat": 4,
  "vscode": {
   "interpreter": {
    "hash": "0478b8cb1c47bafb71305148a49d30528a4d9c22ca2de336c01aa5a8230a459a"
   }
  }
 },
 "nbformat": 4,
 "nbformat_minor": 2
}
