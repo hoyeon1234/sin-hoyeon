{
 "cells": [
  {
   "attachments": {},
   "cell_type": "markdown",
   "metadata": {},
   "source": [
    "# 똑같은 코드들"
   ]
  },
  {
   "attachments": {},
   "cell_type": "markdown",
   "metadata": {},
   "source": [
    "## data: hi?hello!!"
   ]
  },
  {
   "cell_type": "code",
   "execution_count": 1,
   "metadata": {},
   "outputs": [],
   "source": [
    "def f(txt,mapping):\n",
    "    return [mapping[chr] for chr in txt]"
   ]
  },
  {
   "cell_type": "code",
   "execution_count": 2,
   "metadata": {},
   "outputs": [],
   "source": [
    "import torch\n",
    "txt = list(\"hi?hello!!\") * 100\n",
    "txt_x = txt[:-1]\n",
    "txt_y = txt[1:]"
   ]
  },
  {
   "cell_type": "code",
   "execution_count": 3,
   "metadata": {},
   "outputs": [
    {
     "name": "stdout",
     "output_type": "stream",
     "text": [
      "7\n"
     ]
    }
   ],
   "source": [
    "mapping = {\"!\" : 0 ,\"?\" : 1,\"h\" : 2, \"i\" : 3,\"e\" : 4,\"l\" : 5, \"o\" : 6}\n",
    "x = torch.nn.functional.one_hot(torch.tensor(f(txt_x,mapping))).float().to(\"cuda:0\")\n",
    "y = torch.nn.functional.one_hot(torch.tensor(f(txt_y,mapping))).float().to(\"cuda:0\")\n",
    "print(len(mapping))"
   ]
  },
  {
   "attachments": {},
   "cell_type": "markdown",
   "metadata": {},
   "source": [
    "## 초깃값 h_0,c_0는 생략이 가능하다."
   ]
  },
  {
   "attachments": {},
   "cell_type": "markdown",
   "metadata": {},
   "source": [
    "`-` 코드1 : 정석코드"
   ]
  },
  {
   "cell_type": "code",
   "execution_count": 4,
   "metadata": {},
   "outputs": [],
   "source": [
    "torch.manual_seed(43052)\n",
    "lstm = torch.nn.LSTM(7,4).to(\"cuda:0\")"
   ]
  },
  {
   "cell_type": "code",
   "execution_count": 5,
   "metadata": {},
   "outputs": [
    {
     "data": {
      "text/plain": [
       "(tensor([[-0.1547,  0.0673,  0.0695,  0.1563],\n",
       "         [-0.0786, -0.1430, -0.0250,  0.1189],\n",
       "         [-0.0300, -0.2256, -0.1324,  0.1439],\n",
       "         ...,\n",
       "         [-0.0723,  0.0620,  0.1913,  0.2015],\n",
       "         [-0.1155,  0.0746,  0.1747,  0.2938],\n",
       "         [-0.2350, -0.1559, -0.1093,  0.2682]], device='cuda:0',\n",
       "        grad_fn=<SqueezeBackward1>),\n",
       " (tensor([[-0.2350, -0.1559, -0.1093,  0.2682]], device='cuda:0',\n",
       "         grad_fn=<SqueezeBackward1>),\n",
       "  tensor([[-0.4451, -0.2456, -0.1900,  0.6232]], device='cuda:0',\n",
       "         grad_fn=<SqueezeBackward1>)))"
      ]
     },
     "execution_count": 5,
     "metadata": {},
     "output_type": "execute_result"
    }
   ],
   "source": [
    "_h0 = _c0 = torch.zeros(1,4).to(\"cuda:0\")\n",
    "lstm(x,(_h0,_c0))"
   ]
  },
  {
   "attachments": {},
   "cell_type": "markdown",
   "metadata": {},
   "source": [
    "`-` 코드2 : 초깃값이 없는 코드(c0,h0는 사실 없어도 무방함)\n",
    "`-` 알아서 차원맞춰서 잘 초기화 해줘요."
   ]
  },
  {
   "cell_type": "code",
   "execution_count": 6,
   "metadata": {},
   "outputs": [],
   "source": [
    "torch.manual_seed(43052)\n",
    "lstm = torch.nn.LSTM(7,4).to(\"cuda:0\")"
   ]
  },
  {
   "cell_type": "code",
   "execution_count": 7,
   "metadata": {},
   "outputs": [
    {
     "data": {
      "text/plain": [
       "(tensor([[-0.1547,  0.0673,  0.0695,  0.1563],\n",
       "         [-0.0786, -0.1430, -0.0250,  0.1189],\n",
       "         [-0.0300, -0.2256, -0.1324,  0.1439],\n",
       "         ...,\n",
       "         [-0.0723,  0.0620,  0.1913,  0.2015],\n",
       "         [-0.1155,  0.0746,  0.1747,  0.2938],\n",
       "         [-0.2350, -0.1559, -0.1093,  0.2682]], device='cuda:0',\n",
       "        grad_fn=<SqueezeBackward1>),\n",
       " (tensor([[-0.2350, -0.1559, -0.1093,  0.2682]], device='cuda:0',\n",
       "         grad_fn=<SqueezeBackward1>),\n",
       "  tensor([[-0.4451, -0.2456, -0.1900,  0.6232]], device='cuda:0',\n",
       "         grad_fn=<SqueezeBackward1>)))"
      ]
     },
     "execution_count": 7,
     "metadata": {},
     "output_type": "execute_result"
    }
   ],
   "source": [
    "lstm(x)"
   ]
  },
  {
   "attachments": {},
   "cell_type": "markdown",
   "metadata": {},
   "source": [
    "## 세트2: x.shape = ($L$,$H_{in}$) or ($L$,$N$,$H_{in}$)"
   ]
  },
  {
   "attachments": {},
   "cell_type": "markdown",
   "metadata": {},
   "source": [
    "`-` timeseiries와 RNN<br>\n",
    "timeseries 데이터는 시점(timestep)에 따라서 그 값들이 정렬된 데이터입니다. 각 시점에서의 값들은 서로 연관되어 있습니다. 하나의 timeseries 데이터를 RNN계열의 모형에 입력하면 각 시점에서 값을 재귀적으로 읽어서 $\\hat{y}$를 출력합니다.\n",
    "`-` 파라미터 설명<br>\n",
    "- $L$ : sequnce length = timestep(시점)의 총 갯수 = timestp의 길이 = 시계열 데이터의 길이\n",
    "- $H_{in}$ : each timestep(시점)에 들어오는 입력백터의 길이, 입력시계열이 시점별로 몇개의 변수로 나타내어 지는가?,만약에 원핫인코딩으로 정리하면 단어수를 의미함,시점마다 길이는 모두 같음(전처리 과정에서 길이를 같게해주기 때문)\n",
    "- $N$ : 전체 데이터를 몇개의 시계열(묶음)데이터 인지? = 전체데이터 안에 있는 시계열데이터 묶음의 갯수 = 전체데이터의 미니배치의 갯수, 예를들어 (1000,7)의 shape을 가진 시계열데이터를 2개의 묶음으로 나눈다면 N = batch size = 2,왜 쪼개는지는 나중에 ... 공부"
   ]
  },
  {
   "attachments": {},
   "cell_type": "markdown",
   "metadata": {},
   "source": [
    "`-` 코드3 : x의 차원은 사실 엄밀하게는 ($L$,$N$,$H_{in}$)이다."
   ]
  },
  {
   "cell_type": "code",
   "execution_count": 8,
   "metadata": {},
   "outputs": [],
   "source": [
    "torch.manual_seed(43052)\n",
    "lstm = torch.nn.LSTM(7,4).to(\"cuda\")"
   ]
  },
  {
   "cell_type": "code",
   "execution_count": 9,
   "metadata": {},
   "outputs": [
    {
     "data": {
      "text/plain": [
       "(tensor([[[-0.1547,  0.0673,  0.0695,  0.1563]],\n",
       " \n",
       "         [[-0.0786, -0.1430, -0.0250,  0.1189]],\n",
       " \n",
       "         [[-0.0300, -0.2256, -0.1324,  0.1439]],\n",
       " \n",
       "         ...,\n",
       " \n",
       "         [[-0.0723,  0.0620,  0.1913,  0.2015]],\n",
       " \n",
       "         [[-0.1155,  0.0746,  0.1747,  0.2938]],\n",
       " \n",
       "         [[-0.2350, -0.1559, -0.1093,  0.2682]]], device='cuda:0',\n",
       "        grad_fn=<CudnnRnnBackward0>),\n",
       " (tensor([[[-0.2350, -0.1559, -0.1093,  0.2682]]], device='cuda:0',\n",
       "         grad_fn=<CudnnRnnBackward0>),\n",
       "  tensor([[[-0.4451, -0.2456, -0.1900,  0.6232]]], device='cuda:0',\n",
       "         grad_fn=<CudnnRnnBackward0>)))"
      ]
     },
     "execution_count": 9,
     "metadata": {},
     "output_type": "execute_result"
    }
   ],
   "source": [
    "lstm(x.reshape(999,1,7)) #전체데이터를 쪼개지 않았으므로 즉 묶음은 1개뿐이므로 N = 1"
   ]
  },
  {
   "attachments": {},
   "cell_type": "markdown",
   "metadata": {},
   "source": [
    "`-` 코드4 : `batch_first = True`일 경우 차원은 ($N$,$L$,$H_{in}$)이다."
   ]
  },
  {
   "cell_type": "code",
   "execution_count": 10,
   "metadata": {},
   "outputs": [
    {
     "data": {
      "text/plain": [
       "(tensor([[[-0.1547,  0.0673,  0.0695,  0.1563],\n",
       "          [-0.0786, -0.1430, -0.0250,  0.1189],\n",
       "          [-0.0300, -0.2256, -0.1324,  0.1439],\n",
       "          ...,\n",
       "          [-0.0723,  0.0620,  0.1913,  0.2015],\n",
       "          [-0.1155,  0.0746,  0.1747,  0.2938],\n",
       "          [-0.2350, -0.1559, -0.1093,  0.2682]]], device='cuda:0',\n",
       "        grad_fn=<CudnnRnnBackward0>),\n",
       " (tensor([[[-0.2350, -0.1559, -0.1093,  0.2682]]], device='cuda:0',\n",
       "         grad_fn=<CudnnRnnBackward0>),\n",
       "  tensor([[[-0.4451, -0.2456, -0.1900,  0.6232]]], device='cuda:0',\n",
       "         grad_fn=<CudnnRnnBackward0>)))"
      ]
     },
     "execution_count": 10,
     "metadata": {},
     "output_type": "execute_result"
    }
   ],
   "source": [
    "torch.manual_seed(43052)\n",
    "lstm = torch.nn.LSTM(7,4,batch_first = True).to(\"cuda\")\n",
    "lstm(x.reshape(1,999,7)) #전체데이터를 쪼개지 않았으므로 즉 묶음은 1개뿐이므로 N = 1"
   ]
  },
  {
   "attachments": {},
   "cell_type": "markdown",
   "metadata": {},
   "source": [
    "## 세트3 : hidden.shape = ($D \\times$ `num_layers`,$H_{out}$) or ($D \\times$`num_layers`,$N$,$H_{out}$)\n",
    "네트워크에 우리는 h_0,c_0를 넣었었다.그때 h_0.shape = c_0.shape = (1,$H_{out}$)이었는데 여기서 사실은 1은 $D \\times `num_layers`$입니다. 우리는 1개의 히든레이어를 가진 LSTM이므로 `num_layers`= 1 따라서 1이었습니다.<br>\n",
    "\n",
    "`-`파라미터 설명<br>\n",
    "- $D$ = 2 if bidirectional = True otherwise = 1 (양방향이면2 단방향이면1,우리는 단방향만 써왔으므로 $D$ = 1)\n",
    "- `num_layers` = 히든레이어가 1개 이상인 경우(중첩된 RNN)\n",
    "- $H_{out}$ = 히든노드의 수\n",
    "- $N$ : 전체시계열 데이터안에 있는 묶음의 갯수 = 전체데이터 안에 있는 시계열데이터 묶음의 갯수 = 전체데이터의 미니배치의 갯수, 미니배치안에 있는 원소들의 갯수가 아님 !! 예를들어 (1000,7)의 shape을 가진 시계열데이터를 2개의 묶음으로 나눈다면 N = batch size = 2,왜 쪼개는지는 나중에 ... 공부"
   ]
  },
  {
   "attachments": {},
   "cell_type": "markdown",
   "metadata": {},
   "source": [
    "`-`코드5<br>\n",
    "`-` x.shape = $(1,H_{in}) \\to $ x.shape = $(L,1,H_{in})$<br>\n",
    "`-` h.shape = $(1,H_{out}) \\to $ h.shape = $(1,1,H_{out})$"
   ]
  },
  {
   "cell_type": "code",
   "execution_count": 11,
   "metadata": {},
   "outputs": [],
   "source": [
    "torch.manual_seed(43052)\n",
    "lstm = torch.nn.LSTM(7,4).to(\"cuda:0\")"
   ]
  },
  {
   "cell_type": "code",
   "execution_count": 12,
   "metadata": {},
   "outputs": [
    {
     "data": {
      "text/plain": [
       "(tensor([[[-0.1547,  0.0673,  0.0695,  0.1563]],\n",
       " \n",
       "         [[-0.0786, -0.1430, -0.0250,  0.1189]],\n",
       " \n",
       "         [[-0.0300, -0.2256, -0.1324,  0.1439]],\n",
       " \n",
       "         ...,\n",
       " \n",
       "         [[-0.0723,  0.0620,  0.1913,  0.2015]],\n",
       " \n",
       "         [[-0.1155,  0.0746,  0.1747,  0.2938]],\n",
       " \n",
       "         [[-0.2350, -0.1559, -0.1093,  0.2682]]], device='cuda:0',\n",
       "        grad_fn=<CudnnRnnBackward0>),\n",
       " (tensor([[[-0.2350, -0.1559, -0.1093,  0.2682]]], device='cuda:0',\n",
       "         grad_fn=<CudnnRnnBackward0>),\n",
       "  tensor([[[-0.4451, -0.2456, -0.1900,  0.6232]]], device='cuda:0',\n",
       "         grad_fn=<CudnnRnnBackward0>)))"
      ]
     },
     "execution_count": 12,
     "metadata": {},
     "output_type": "execute_result"
    }
   ],
   "source": [
    "#엄밀한 방식\n",
    "_h0,_c0 = torch.zeros(1,4).to(\"cuda:0\"),torch.zeros(1,4).to(\"cuda:0\")\n",
    "lstm(x.reshape(999,1,7),(_h0.reshape(1,1,4),_c0.reshape(1,1,4)))\n",
    "\n",
    "#엄밀한 방식2\n",
    "_h0 = _c0 = torch.zeros(1,1,4).to(\"cuda:0\")\n",
    "lstm(x.reshape(999,1,7),(_h0,_c0))"
   ]
  },
  {
   "attachments": {},
   "cell_type": "markdown",
   "metadata": {},
   "source": [
    "`-` 사실 _h0.shape= _c0.shape = ($1,H_{out}$)에서 1은 $D \\times$ `numlayers`입니다.<br>\n",
    "- 만약 은닉계층의 수가 1개인 lstm이라면 _h0.shape = _c0.shape = $(1,H_{out})$\n",
    "- 만약 은닉계층의 수는 1개,양방향 lstm이라면 _h0.shape = _c0.shape = $(2,H_{out})$\n",
    "- 만약 은닉계층의 수가 3개인 (단방향)lstm이라면 _h0.shape = _c0.shape = $(3,H_{out})$\n",
    "- 만약 은닉계층의 수가 3개,양방향 lstm이라면 _h0.shape = _c0.shape = $(6,H_{out})$"
   ]
  },
  {
   "attachments": {},
   "cell_type": "markdown",
   "metadata": {},
   "source": [
    "# 똑같은 코드들 torch.nn.lstm_cell"
   ]
  },
  {
   "attachments": {},
   "cell_type": "markdown",
   "metadata": {},
   "source": [
    "`-` 코드1 : 정석코드"
   ]
  },
  {
   "cell_type": "code",
   "execution_count": 13,
   "metadata": {},
   "outputs": [],
   "source": [
    "torch.manual_seed(43052)\n",
    "lstmcell = torch.nn.LSTMCell(7,4).to(\"cuda:0\")"
   ]
  },
  {
   "cell_type": "code",
   "execution_count": 14,
   "metadata": {},
   "outputs": [
    {
     "data": {
      "text/plain": [
       "(torch.Size([1, 7]), torch.Size([1, 4]), torch.Size([1, 4]))"
      ]
     },
     "execution_count": 14,
     "metadata": {},
     "output_type": "execute_result"
    }
   ],
   "source": [
    "xt = x[[1]] #임의의 t시점(여기서는 t=1)에서의 데이터를 받고\n",
    "_h0,_c0 = torch.zeros(1,4).to(\"cuda:0\"),torch.zeros(1,4).to(\"cuda:0\")#초기 h0,c0를 만들고\n",
    "xt.shape,_h0.shape,_c0.shape"
   ]
  },
  {
   "cell_type": "code",
   "execution_count": 15,
   "metadata": {},
   "outputs": [
    {
     "data": {
      "text/plain": [
       "(tensor([[-0.0290, -0.1758, -0.0537,  0.0598]], device='cuda:0',\n",
       "        grad_fn=<ThnnFusedLstmCellBackward0>),\n",
       " tensor([[-0.0582, -0.4566, -0.1256,  0.1922]], device='cuda:0',\n",
       "        grad_fn=<ThnnFusedLstmCellBackward0>))"
      ]
     },
     "execution_count": 15,
     "metadata": {},
     "output_type": "execute_result"
    }
   ],
   "source": [
    "lstmcell(xt,(_h0,_c0)) #임의의 시점에서의 값,초깃값들을 넣어줌"
   ]
  },
  {
   "attachments": {},
   "cell_type": "markdown",
   "metadata": {},
   "source": [
    "`-` 코드2 : 초깃값 생략 코드"
   ]
  },
  {
   "cell_type": "code",
   "execution_count": 16,
   "metadata": {},
   "outputs": [],
   "source": [
    "torch.manual_seed(43052)\n",
    "lstmcell = torch.nn.LSTMCell(7,4).to(\"cuda:0\")"
   ]
  },
  {
   "cell_type": "code",
   "execution_count": 17,
   "metadata": {},
   "outputs": [
    {
     "data": {
      "text/plain": [
       "torch.Size([1, 7])"
      ]
     },
     "execution_count": 17,
     "metadata": {},
     "output_type": "execute_result"
    }
   ],
   "source": [
    "xt = x[[1]] #임의의 t시점(여기서는 t=1)에서의 데이터를 받고\n",
    "#_h0,_c0 = torch.zeros(1,4).to(\"cuda:0\"),torch.zeros(1,4).to(\"cuda:0\")#초기 h0,c0를 만들고\n",
    "xt.shape#,_h0.shape,_c0.shape"
   ]
  },
  {
   "cell_type": "code",
   "execution_count": 18,
   "metadata": {},
   "outputs": [
    {
     "data": {
      "text/plain": [
       "(tensor([[-0.0290, -0.1758, -0.0537,  0.0598]], device='cuda:0',\n",
       "        grad_fn=<ThnnFusedLstmCellBackward0>),\n",
       " tensor([[-0.0582, -0.4566, -0.1256,  0.1922]], device='cuda:0',\n",
       "        grad_fn=<ThnnFusedLstmCellBackward0>))"
      ]
     },
     "execution_count": 18,
     "metadata": {},
     "output_type": "execute_result"
    }
   ],
   "source": [
    "lstmcell(xt) #임의의 시점에서의 값만 넣어줌"
   ]
  },
  {
   "attachments": {},
   "cell_type": "markdown",
   "metadata": {},
   "source": [
    "## 세트2 : xt.shape = $(N,H_{in}) or (H_{in})$"
   ]
  },
  {
   "attachments": {},
   "cell_type": "markdown",
   "metadata": {},
   "source": [
    "`-`코드2:초깃값 생략"
   ]
  },
  {
   "cell_type": "code",
   "execution_count": 19,
   "metadata": {},
   "outputs": [],
   "source": [
    "torch.manual_seed(43052)\n",
    "lstmcell = torch.nn.LSTMCell(7,4).to(\"cuda\")"
   ]
  },
  {
   "cell_type": "code",
   "execution_count": 20,
   "metadata": {},
   "outputs": [
    {
     "data": {
      "text/plain": [
       "torch.Size([1, 7])"
      ]
     },
     "execution_count": 20,
     "metadata": {},
     "output_type": "execute_result"
    }
   ],
   "source": [
    "xt = x[[1]]\n",
    "xt.shape"
   ]
  },
  {
   "cell_type": "code",
   "execution_count": 21,
   "metadata": {},
   "outputs": [
    {
     "data": {
      "text/plain": [
       "(tensor([[-0.0290, -0.1758, -0.0537,  0.0598]], device='cuda:0',\n",
       "        grad_fn=<ThnnFusedLstmCellBackward0>),\n",
       " tensor([[-0.0582, -0.4566, -0.1256,  0.1922]], device='cuda:0',\n",
       "        grad_fn=<ThnnFusedLstmCellBackward0>))"
      ]
     },
     "execution_count": 21,
     "metadata": {},
     "output_type": "execute_result"
    }
   ],
   "source": [
    "lstmcell(xt)"
   ]
  },
  {
   "attachments": {},
   "cell_type": "markdown",
   "metadata": {},
   "source": [
    "-코드3:간단한 shape 사용"
   ]
  },
  {
   "cell_type": "code",
   "execution_count": 22,
   "metadata": {},
   "outputs": [],
   "source": [
    "torch.manual_seed(43052)\n",
    "lstmcell = torch.nn.LSTMCell(7,4).to(\"cuda:0\")"
   ]
  },
  {
   "cell_type": "code",
   "execution_count": 23,
   "metadata": {},
   "outputs": [
    {
     "data": {
      "text/plain": [
       "torch.Size([7])"
      ]
     },
     "execution_count": 23,
     "metadata": {},
     "output_type": "execute_result"
    }
   ],
   "source": [
    "xt = x[1]\n",
    "xt.shape #위의 shape과 다른것을 확인"
   ]
  },
  {
   "cell_type": "code",
   "execution_count": 24,
   "metadata": {},
   "outputs": [
    {
     "data": {
      "text/plain": [
       "(tensor([-0.0290, -0.1758, -0.0537,  0.0598], device='cuda:0',\n",
       "        grad_fn=<SqueezeBackward1>),\n",
       " tensor([-0.0582, -0.4566, -0.1256,  0.1922], device='cuda:0',\n",
       "        grad_fn=<SqueezeBackward1>))"
      ]
     },
     "execution_count": 24,
     "metadata": {},
     "output_type": "execute_result"
    }
   ],
   "source": [
    "lstmcell(xt)"
   ]
  },
  {
   "attachments": {},
   "cell_type": "markdown",
   "metadata": {},
   "source": [
    "##"
   ]
  },
  {
   "attachments": {},
   "cell_type": "markdown",
   "metadata": {},
   "source": [
    "## 세트3 : hidden.shape = $(N,H_{out})$ or $(H_{out})$"
   ]
  },
  {
   "attachments": {},
   "cell_type": "markdown",
   "metadata": {},
   "source": [
    "`-` 코드4<br>\n",
    "xt.shape = $(1,H_{in}) \\to (H_{in})$<br>\n",
    "ht.shape = $(1,H_{out}) \\to (H_{out})$<br>\n",
    "더 간단한 차원을 가진 텐서를 입력으로 해도 무방하다."
   ]
  },
  {
   "cell_type": "code",
   "execution_count": 25,
   "metadata": {},
   "outputs": [],
   "source": [
    "torch.manual_seed(43052)\n",
    "lstmcell = torch.nn.LSTMCell(7,4).to(\"cuda:0\")"
   ]
  },
  {
   "cell_type": "code",
   "execution_count": 26,
   "metadata": {},
   "outputs": [
    {
     "data": {
      "text/plain": [
       "(torch.Size([7]), torch.Size([4]), torch.Size([4]))"
      ]
     },
     "execution_count": 26,
     "metadata": {},
     "output_type": "execute_result"
    }
   ],
   "source": [
    "xt = x[1]\n",
    "_h0,_c0 = torch.zeros(4).to(\"cuda\"),torch.zeros(4).to(\"cuda\")\n",
    "xt.shape,_h0.shape,_c0.shape"
   ]
  },
  {
   "cell_type": "code",
   "execution_count": 27,
   "metadata": {},
   "outputs": [
    {
     "data": {
      "text/plain": [
       "(tensor([-0.0290, -0.1758, -0.0537,  0.0598], device='cuda:0',\n",
       "        grad_fn=<SqueezeBackward1>),\n",
       " tensor([-0.0582, -0.4566, -0.1256,  0.1922], device='cuda:0',\n",
       "        grad_fn=<SqueezeBackward1>))"
      ]
     },
     "execution_count": 27,
     "metadata": {},
     "output_type": "execute_result"
    }
   ],
   "source": [
    "lstmcell(xt,(_h0,_c0))"
   ]
  },
  {
   "attachments": {},
   "cell_type": "markdown",
   "metadata": {},
   "source": [
    "# 요약"
   ]
  },
  {
   "attachments": {},
   "cell_type": "markdown",
   "metadata": {},
   "source": [
    "## 똑같은 코드들 정리\n",
    "`-` 1은 단순한 observation의 차원이 아니다.\n",
    "`-` 네트워크가(1) 단방향 (2)배치가없는(조각이 없는) (3)중첩하지 않은(다계층이 아닌) 순환망에 한해서는 observation 처럼 생각해도 무방하다. --> 엄밀하게는 위험한 생각입니다."
   ]
  },
  {
   "attachments": {},
   "cell_type": "markdown",
   "metadata": {},
   "source": [
    "## 실제구현시\n",
    "`-` 현실적으로 (1)-(3)이 아닌 조건에서는 Cell 단위로 연산을 이용할 일이 없다. (느립니다.단지 이해용)<br>\n",
    "`-` torch.nn.RNN or torch.nn.LSTM으로 네트워크를 구성할 시 _h0,_c0의 dim을 명시할 일도 없다.<br>\n",
    "`-` 입력시계열데이터를 배치로 나누는 경우에 대한 개념만 명확하게 잡으면 된다.배치로 나눌지 말지 나누면 어떻게 되고 안나누면 어떻게 되는지 명확하게 알자."
   ]
  },
  {
   "attachments": {},
   "cell_type": "markdown",
   "metadata": {},
   "source": [
    "# 하나의 긴 시계열데이터를 배치로 나눠서 학습해보기 구현"
   ]
  },
  {
   "attachments": {},
   "cell_type": "markdown",
   "metadata": {},
   "source": [
    "# data"
   ]
  },
  {
   "cell_type": "code",
   "execution_count": 28,
   "metadata": {},
   "outputs": [
    {
     "data": {
      "text/plain": [
       "['h',\n",
       " 'i',\n",
       " '!',\n",
       " 'h',\n",
       " 'i',\n",
       " '!',\n",
       " 'h',\n",
       " 'i',\n",
       " '!',\n",
       " 'h',\n",
       " 'i',\n",
       " '?',\n",
       " 'h',\n",
       " 'i',\n",
       " '?',\n",
       " 'h',\n",
       " 'i',\n",
       " '?']"
      ]
     },
     "execution_count": 28,
     "metadata": {},
     "output_type": "execute_result"
    }
   ],
   "source": [
    "txt = list(\"hi!\")* 3 + list(\"hi?\") * 3\n",
    "txt"
   ]
  },
  {
   "attachments": {},
   "cell_type": "markdown",
   "metadata": {},
   "source": [
    "## 하나의 긴 시계열데이터를 배치로 나누지 않고 학습\n",
    "- 배치로 나눴을 경우와 비교하기 위해 먼저 나누지 않고 학습진행."
   ]
  },
  {
   "cell_type": "code",
   "execution_count": 29,
   "metadata": {},
   "outputs": [
    {
     "name": "stdout",
     "output_type": "stream",
     "text": [
      "torch.Size([17, 4])\n"
     ]
    }
   ],
   "source": [
    "txt_x = txt[:-1]\n",
    "txt_y = txt[1:]\n",
    "mapping = {\"!\": 0 ,\"?\":1 , \"h\":2 ,\"i\" : 3}\n",
    "x = torch.nn.functional.one_hot(torch.tensor(f(txt_x,mapping))).float().to(\"cuda\")\n",
    "y = torch.nn.functional.one_hot(torch.tensor(f(txt_y,mapping))).float().to(\"cuda\")\n",
    "print(x.shape)"
   ]
  },
  {
   "cell_type": "code",
   "execution_count": 30,
   "metadata": {},
   "outputs": [],
   "source": [
    "torch.manual_seed(43052)\n",
    "lstm = torch.nn.LSTM(4,10).to(\"cuda\")\n",
    "linr = torch.nn.Linear(10,4).to(\"cuda\")\n",
    "loss_fn = torch.nn.CrossEntropyLoss()\n",
    "optimizer = torch.optim.Adam(list(lstm.parameters()) + list(linr.parameters()))"
   ]
  },
  {
   "cell_type": "code",
   "execution_count": 31,
   "metadata": {},
   "outputs": [
    {
     "name": "stdout",
     "output_type": "stream",
     "text": [
      "torch.Size([17, 10]) torch.Size([1, 10]) torch.Size([1, 10])\n",
      "torch.Size([17, 10]) torch.Size([1, 10]) torch.Size([1, 10])\n",
      "torch.Size([17, 10]) torch.Size([1, 10]) torch.Size([1, 10])\n",
      "torch.Size([17, 10]) torch.Size([1, 10]) torch.Size([1, 10])\n",
      "torch.Size([17, 10]) torch.Size([1, 10]) torch.Size([1, 10])\n",
      "torch.Size([17, 10]) torch.Size([1, 10]) torch.Size([1, 10])\n",
      "torch.Size([17, 10]) torch.Size([1, 10]) torch.Size([1, 10])\n",
      "torch.Size([17, 10]) torch.Size([1, 10]) torch.Size([1, 10])\n",
      "torch.Size([17, 10]) torch.Size([1, 10]) torch.Size([1, 10])\n",
      "torch.Size([17, 10]) torch.Size([1, 10]) torch.Size([1, 10])\n",
      "torch.Size([17, 10]) torch.Size([1, 10]) torch.Size([1, 10])\n",
      "torch.Size([17, 10]) torch.Size([1, 10]) torch.Size([1, 10])\n",
      "torch.Size([17, 10]) torch.Size([1, 10]) torch.Size([1, 10])\n",
      "torch.Size([17, 10]) torch.Size([1, 10]) torch.Size([1, 10])\n",
      "torch.Size([17, 10]) torch.Size([1, 10]) torch.Size([1, 10])\n",
      "torch.Size([17, 10]) torch.Size([1, 10]) torch.Size([1, 10])\n",
      "torch.Size([17, 10]) torch.Size([1, 10]) torch.Size([1, 10])\n",
      "torch.Size([17, 10]) torch.Size([1, 10]) torch.Size([1, 10])\n",
      "torch.Size([17, 10]) torch.Size([1, 10]) torch.Size([1, 10])\n",
      "torch.Size([17, 10]) torch.Size([1, 10]) torch.Size([1, 10])\n",
      "torch.Size([17, 10]) torch.Size([1, 10]) torch.Size([1, 10])\n",
      "torch.Size([17, 10]) torch.Size([1, 10]) torch.Size([1, 10])\n",
      "torch.Size([17, 10]) torch.Size([1, 10]) torch.Size([1, 10])\n",
      "torch.Size([17, 10]) torch.Size([1, 10]) torch.Size([1, 10])\n",
      "torch.Size([17, 10]) torch.Size([1, 10]) torch.Size([1, 10])\n",
      "torch.Size([17, 10]) torch.Size([1, 10]) torch.Size([1, 10])\n",
      "torch.Size([17, 10]) torch.Size([1, 10]) torch.Size([1, 10])\n",
      "torch.Size([17, 10]) torch.Size([1, 10]) torch.Size([1, 10])\n",
      "torch.Size([17, 10]) torch.Size([1, 10]) torch.Size([1, 10])\n",
      "torch.Size([17, 10]) torch.Size([1, 10]) torch.Size([1, 10])\n",
      "torch.Size([17, 10]) torch.Size([1, 10]) torch.Size([1, 10])\n",
      "torch.Size([17, 10]) torch.Size([1, 10]) torch.Size([1, 10])\n",
      "torch.Size([17, 10]) torch.Size([1, 10]) torch.Size([1, 10])\n",
      "torch.Size([17, 10]) torch.Size([1, 10]) torch.Size([1, 10])\n",
      "torch.Size([17, 10]) torch.Size([1, 10]) torch.Size([1, 10])\n",
      "torch.Size([17, 10]) torch.Size([1, 10]) torch.Size([1, 10])\n",
      "torch.Size([17, 10]) torch.Size([1, 10]) torch.Size([1, 10])\n",
      "torch.Size([17, 10]) torch.Size([1, 10]) torch.Size([1, 10])\n",
      "torch.Size([17, 10]) torch.Size([1, 10]) torch.Size([1, 10])\n",
      "torch.Size([17, 10]) torch.Size([1, 10]) torch.Size([1, 10])\n",
      "torch.Size([17, 10]) torch.Size([1, 10]) torch.Size([1, 10])\n",
      "torch.Size([17, 10]) torch.Size([1, 10]) torch.Size([1, 10])\n",
      "torch.Size([17, 10]) torch.Size([1, 10]) torch.Size([1, 10])\n",
      "torch.Size([17, 10]) torch.Size([1, 10]) torch.Size([1, 10])\n",
      "torch.Size([17, 10]) torch.Size([1, 10]) torch.Size([1, 10])\n",
      "torch.Size([17, 10]) torch.Size([1, 10]) torch.Size([1, 10])\n",
      "torch.Size([17, 10]) torch.Size([1, 10]) torch.Size([1, 10])\n",
      "torch.Size([17, 10]) torch.Size([1, 10]) torch.Size([1, 10])\n",
      "torch.Size([17, 10]) torch.Size([1, 10]) torch.Size([1, 10])\n",
      "torch.Size([17, 10]) torch.Size([1, 10]) torch.Size([1, 10])\n",
      "torch.Size([17, 10]) torch.Size([1, 10]) torch.Size([1, 10])\n",
      "torch.Size([17, 10]) torch.Size([1, 10]) torch.Size([1, 10])\n",
      "torch.Size([17, 10]) torch.Size([1, 10]) torch.Size([1, 10])\n",
      "torch.Size([17, 10]) torch.Size([1, 10]) torch.Size([1, 10])\n",
      "torch.Size([17, 10]) torch.Size([1, 10]) torch.Size([1, 10])\n",
      "torch.Size([17, 10]) torch.Size([1, 10]) torch.Size([1, 10])\n",
      "torch.Size([17, 10]) torch.Size([1, 10]) torch.Size([1, 10])\n",
      "torch.Size([17, 10]) torch.Size([1, 10]) torch.Size([1, 10])\n",
      "torch.Size([17, 10]) torch.Size([1, 10]) torch.Size([1, 10])\n",
      "torch.Size([17, 10]) torch.Size([1, 10]) torch.Size([1, 10])\n",
      "torch.Size([17, 10]) torch.Size([1, 10]) torch.Size([1, 10])\n",
      "torch.Size([17, 10]) torch.Size([1, 10]) torch.Size([1, 10])\n",
      "torch.Size([17, 10]) torch.Size([1, 10]) torch.Size([1, 10])\n",
      "torch.Size([17, 10]) torch.Size([1, 10]) torch.Size([1, 10])\n",
      "torch.Size([17, 10]) torch.Size([1, 10]) torch.Size([1, 10])\n",
      "torch.Size([17, 10]) torch.Size([1, 10]) torch.Size([1, 10])\n",
      "torch.Size([17, 10]) torch.Size([1, 10]) torch.Size([1, 10])\n",
      "torch.Size([17, 10]) torch.Size([1, 10]) torch.Size([1, 10])\n",
      "torch.Size([17, 10]) torch.Size([1, 10]) torch.Size([1, 10])\n",
      "torch.Size([17, 10]) torch.Size([1, 10]) torch.Size([1, 10])\n",
      "torch.Size([17, 10]) torch.Size([1, 10]) torch.Size([1, 10])\n",
      "torch.Size([17, 10]) torch.Size([1, 10]) torch.Size([1, 10])\n",
      "torch.Size([17, 10]) torch.Size([1, 10]) torch.Size([1, 10])\n",
      "torch.Size([17, 10]) torch.Size([1, 10]) torch.Size([1, 10])\n",
      "torch.Size([17, 10]) torch.Size([1, 10]) torch.Size([1, 10])\n",
      "torch.Size([17, 10]) torch.Size([1, 10]) torch.Size([1, 10])\n",
      "torch.Size([17, 10]) torch.Size([1, 10]) torch.Size([1, 10])\n",
      "torch.Size([17, 10]) torch.Size([1, 10]) torch.Size([1, 10])\n",
      "torch.Size([17, 10]) torch.Size([1, 10]) torch.Size([1, 10])\n",
      "torch.Size([17, 10]) torch.Size([1, 10]) torch.Size([1, 10])\n",
      "torch.Size([17, 10]) torch.Size([1, 10]) torch.Size([1, 10])\n",
      "torch.Size([17, 10]) torch.Size([1, 10]) torch.Size([1, 10])\n",
      "torch.Size([17, 10]) torch.Size([1, 10]) torch.Size([1, 10])\n",
      "torch.Size([17, 10]) torch.Size([1, 10]) torch.Size([1, 10])\n",
      "torch.Size([17, 10]) torch.Size([1, 10]) torch.Size([1, 10])\n",
      "torch.Size([17, 10]) torch.Size([1, 10]) torch.Size([1, 10])\n",
      "torch.Size([17, 10]) torch.Size([1, 10]) torch.Size([1, 10])\n",
      "torch.Size([17, 10]) torch.Size([1, 10]) torch.Size([1, 10])\n",
      "torch.Size([17, 10]) torch.Size([1, 10]) torch.Size([1, 10])\n",
      "torch.Size([17, 10]) torch.Size([1, 10]) torch.Size([1, 10])\n",
      "torch.Size([17, 10]) torch.Size([1, 10]) torch.Size([1, 10])\n",
      "torch.Size([17, 10]) torch.Size([1, 10]) torch.Size([1, 10])\n",
      "torch.Size([17, 10]) torch.Size([1, 10]) torch.Size([1, 10])\n",
      "torch.Size([17, 10]) torch.Size([1, 10]) torch.Size([1, 10])\n",
      "torch.Size([17, 10]) torch.Size([1, 10]) torch.Size([1, 10])\n",
      "torch.Size([17, 10]) torch.Size([1, 10]) torch.Size([1, 10])\n",
      "torch.Size([17, 10]) torch.Size([1, 10]) torch.Size([1, 10])\n",
      "torch.Size([17, 10]) torch.Size([1, 10]) torch.Size([1, 10])\n",
      "torch.Size([17, 10]) torch.Size([1, 10]) torch.Size([1, 10])\n",
      "torch.Size([17, 10]) torch.Size([1, 10]) torch.Size([1, 10])\n",
      "torch.Size([17, 10]) torch.Size([1, 10]) torch.Size([1, 10])\n",
      "torch.Size([17, 10]) torch.Size([1, 10]) torch.Size([1, 10])\n",
      "torch.Size([17, 10]) torch.Size([1, 10]) torch.Size([1, 10])\n",
      "torch.Size([17, 10]) torch.Size([1, 10]) torch.Size([1, 10])\n",
      "torch.Size([17, 10]) torch.Size([1, 10]) torch.Size([1, 10])\n",
      "torch.Size([17, 10]) torch.Size([1, 10]) torch.Size([1, 10])\n",
      "torch.Size([17, 10]) torch.Size([1, 10]) torch.Size([1, 10])\n",
      "torch.Size([17, 10]) torch.Size([1, 10]) torch.Size([1, 10])\n",
      "torch.Size([17, 10]) torch.Size([1, 10]) torch.Size([1, 10])\n",
      "torch.Size([17, 10]) torch.Size([1, 10]) torch.Size([1, 10])\n",
      "torch.Size([17, 10]) torch.Size([1, 10]) torch.Size([1, 10])\n",
      "torch.Size([17, 10]) torch.Size([1, 10]) torch.Size([1, 10])\n",
      "torch.Size([17, 10]) torch.Size([1, 10]) torch.Size([1, 10])\n",
      "torch.Size([17, 10]) torch.Size([1, 10]) torch.Size([1, 10])\n",
      "torch.Size([17, 10]) torch.Size([1, 10]) torch.Size([1, 10])\n",
      "torch.Size([17, 10]) torch.Size([1, 10]) torch.Size([1, 10])\n",
      "torch.Size([17, 10]) torch.Size([1, 10]) torch.Size([1, 10])\n",
      "torch.Size([17, 10]) torch.Size([1, 10]) torch.Size([1, 10])\n",
      "torch.Size([17, 10]) torch.Size([1, 10]) torch.Size([1, 10])\n",
      "torch.Size([17, 10]) torch.Size([1, 10]) torch.Size([1, 10])\n",
      "torch.Size([17, 10]) torch.Size([1, 10]) torch.Size([1, 10])\n",
      "torch.Size([17, 10]) torch.Size([1, 10]) torch.Size([1, 10])\n",
      "torch.Size([17, 10]) torch.Size([1, 10]) torch.Size([1, 10])\n",
      "torch.Size([17, 10]) torch.Size([1, 10]) torch.Size([1, 10])\n",
      "torch.Size([17, 10]) torch.Size([1, 10]) torch.Size([1, 10])\n",
      "torch.Size([17, 10]) torch.Size([1, 10]) torch.Size([1, 10])\n",
      "torch.Size([17, 10]) torch.Size([1, 10]) torch.Size([1, 10])\n",
      "torch.Size([17, 10]) torch.Size([1, 10]) torch.Size([1, 10])\n",
      "torch.Size([17, 10]) torch.Size([1, 10]) torch.Size([1, 10])\n",
      "torch.Size([17, 10]) torch.Size([1, 10]) torch.Size([1, 10])\n",
      "torch.Size([17, 10]) torch.Size([1, 10]) torch.Size([1, 10])\n",
      "torch.Size([17, 10]) torch.Size([1, 10]) torch.Size([1, 10])\n",
      "torch.Size([17, 10]) torch.Size([1, 10]) torch.Size([1, 10])\n",
      "torch.Size([17, 10]) torch.Size([1, 10]) torch.Size([1, 10])\n",
      "torch.Size([17, 10]) torch.Size([1, 10]) torch.Size([1, 10])\n",
      "torch.Size([17, 10]) torch.Size([1, 10]) torch.Size([1, 10])\n",
      "torch.Size([17, 10]) torch.Size([1, 10]) torch.Size([1, 10])\n",
      "torch.Size([17, 10]) torch.Size([1, 10]) torch.Size([1, 10])\n",
      "torch.Size([17, 10]) torch.Size([1, 10]) torch.Size([1, 10])\n",
      "torch.Size([17, 10]) torch.Size([1, 10]) torch.Size([1, 10])\n",
      "torch.Size([17, 10]) torch.Size([1, 10]) torch.Size([1, 10])\n",
      "torch.Size([17, 10]) torch.Size([1, 10]) torch.Size([1, 10])\n",
      "torch.Size([17, 10]) torch.Size([1, 10]) torch.Size([1, 10])\n",
      "torch.Size([17, 10]) torch.Size([1, 10]) torch.Size([1, 10])\n",
      "torch.Size([17, 10]) torch.Size([1, 10]) torch.Size([1, 10])\n",
      "torch.Size([17, 10]) torch.Size([1, 10]) torch.Size([1, 10])\n",
      "torch.Size([17, 10]) torch.Size([1, 10]) torch.Size([1, 10])\n",
      "torch.Size([17, 10]) torch.Size([1, 10]) torch.Size([1, 10])\n",
      "torch.Size([17, 10]) torch.Size([1, 10]) torch.Size([1, 10])\n",
      "torch.Size([17, 10]) torch.Size([1, 10]) torch.Size([1, 10])\n",
      "torch.Size([17, 10]) torch.Size([1, 10]) torch.Size([1, 10])\n",
      "torch.Size([17, 10]) torch.Size([1, 10]) torch.Size([1, 10])\n",
      "torch.Size([17, 10]) torch.Size([1, 10]) torch.Size([1, 10])\n",
      "torch.Size([17, 10]) torch.Size([1, 10]) torch.Size([1, 10])\n",
      "torch.Size([17, 10]) torch.Size([1, 10]) torch.Size([1, 10])\n",
      "torch.Size([17, 10]) torch.Size([1, 10]) torch.Size([1, 10])\n",
      "torch.Size([17, 10]) torch.Size([1, 10]) torch.Size([1, 10])\n",
      "torch.Size([17, 10]) torch.Size([1, 10]) torch.Size([1, 10])\n",
      "torch.Size([17, 10]) torch.Size([1, 10]) torch.Size([1, 10])\n",
      "torch.Size([17, 10]) torch.Size([1, 10]) torch.Size([1, 10])\n",
      "torch.Size([17, 10]) torch.Size([1, 10]) torch.Size([1, 10])\n",
      "torch.Size([17, 10]) torch.Size([1, 10]) torch.Size([1, 10])\n",
      "torch.Size([17, 10]) torch.Size([1, 10]) torch.Size([1, 10])\n",
      "torch.Size([17, 10]) torch.Size([1, 10]) torch.Size([1, 10])\n",
      "torch.Size([17, 10]) torch.Size([1, 10]) torch.Size([1, 10])\n",
      "torch.Size([17, 10]) torch.Size([1, 10]) torch.Size([1, 10])\n",
      "torch.Size([17, 10]) torch.Size([1, 10]) torch.Size([1, 10])\n",
      "torch.Size([17, 10]) torch.Size([1, 10]) torch.Size([1, 10])\n",
      "torch.Size([17, 10]) torch.Size([1, 10]) torch.Size([1, 10])\n",
      "torch.Size([17, 10]) torch.Size([1, 10]) torch.Size([1, 10])\n",
      "torch.Size([17, 10]) torch.Size([1, 10]) torch.Size([1, 10])\n",
      "torch.Size([17, 10]) torch.Size([1, 10]) torch.Size([1, 10])\n",
      "torch.Size([17, 10]) torch.Size([1, 10]) torch.Size([1, 10])\n",
      "torch.Size([17, 10]) torch.Size([1, 10]) torch.Size([1, 10])\n",
      "torch.Size([17, 10]) torch.Size([1, 10]) torch.Size([1, 10])\n",
      "torch.Size([17, 10]) torch.Size([1, 10]) torch.Size([1, 10])\n",
      "torch.Size([17, 10]) torch.Size([1, 10]) torch.Size([1, 10])\n",
      "torch.Size([17, 10]) torch.Size([1, 10]) torch.Size([1, 10])\n",
      "torch.Size([17, 10]) torch.Size([1, 10]) torch.Size([1, 10])\n",
      "torch.Size([17, 10]) torch.Size([1, 10]) torch.Size([1, 10])\n",
      "torch.Size([17, 10]) torch.Size([1, 10]) torch.Size([1, 10])\n",
      "torch.Size([17, 10]) torch.Size([1, 10]) torch.Size([1, 10])\n",
      "torch.Size([17, 10]) torch.Size([1, 10]) torch.Size([1, 10])\n",
      "torch.Size([17, 10]) torch.Size([1, 10]) torch.Size([1, 10])\n",
      "torch.Size([17, 10]) torch.Size([1, 10]) torch.Size([1, 10])\n",
      "torch.Size([17, 10]) torch.Size([1, 10]) torch.Size([1, 10])\n",
      "torch.Size([17, 10]) torch.Size([1, 10]) torch.Size([1, 10])\n",
      "torch.Size([17, 10]) torch.Size([1, 10]) torch.Size([1, 10])\n",
      "torch.Size([17, 10]) torch.Size([1, 10]) torch.Size([1, 10])\n",
      "torch.Size([17, 10]) torch.Size([1, 10]) torch.Size([1, 10])\n",
      "torch.Size([17, 10]) torch.Size([1, 10]) torch.Size([1, 10])\n",
      "torch.Size([17, 10]) torch.Size([1, 10]) torch.Size([1, 10])\n",
      "torch.Size([17, 10]) torch.Size([1, 10]) torch.Size([1, 10])\n",
      "torch.Size([17, 10]) torch.Size([1, 10]) torch.Size([1, 10])\n",
      "torch.Size([17, 10]) torch.Size([1, 10]) torch.Size([1, 10])\n",
      "torch.Size([17, 10]) torch.Size([1, 10]) torch.Size([1, 10])\n",
      "torch.Size([17, 10]) torch.Size([1, 10]) torch.Size([1, 10])\n",
      "torch.Size([17, 10]) torch.Size([1, 10]) torch.Size([1, 10])\n",
      "torch.Size([17, 10]) torch.Size([1, 10]) torch.Size([1, 10])\n",
      "torch.Size([17, 10]) torch.Size([1, 10]) torch.Size([1, 10])\n",
      "torch.Size([17, 10]) torch.Size([1, 10]) torch.Size([1, 10])\n",
      "torch.Size([17, 10]) torch.Size([1, 10]) torch.Size([1, 10])\n",
      "torch.Size([17, 10]) torch.Size([1, 10]) torch.Size([1, 10])\n",
      "torch.Size([17, 10]) torch.Size([1, 10]) torch.Size([1, 10])\n",
      "torch.Size([17, 10]) torch.Size([1, 10]) torch.Size([1, 10])\n",
      "torch.Size([17, 10]) torch.Size([1, 10]) torch.Size([1, 10])\n",
      "torch.Size([17, 10]) torch.Size([1, 10]) torch.Size([1, 10])\n",
      "torch.Size([17, 10]) torch.Size([1, 10]) torch.Size([1, 10])\n",
      "torch.Size([17, 10]) torch.Size([1, 10]) torch.Size([1, 10])\n",
      "torch.Size([17, 10]) torch.Size([1, 10]) torch.Size([1, 10])\n",
      "torch.Size([17, 10]) torch.Size([1, 10]) torch.Size([1, 10])\n",
      "torch.Size([17, 10]) torch.Size([1, 10]) torch.Size([1, 10])\n",
      "torch.Size([17, 10]) torch.Size([1, 10]) torch.Size([1, 10])\n",
      "torch.Size([17, 10]) torch.Size([1, 10]) torch.Size([1, 10])\n",
      "torch.Size([17, 10]) torch.Size([1, 10]) torch.Size([1, 10])\n",
      "torch.Size([17, 10]) torch.Size([1, 10]) torch.Size([1, 10])\n",
      "torch.Size([17, 10]) torch.Size([1, 10]) torch.Size([1, 10])\n",
      "torch.Size([17, 10]) torch.Size([1, 10]) torch.Size([1, 10])\n",
      "torch.Size([17, 10]) torch.Size([1, 10]) torch.Size([1, 10])\n",
      "torch.Size([17, 10]) torch.Size([1, 10]) torch.Size([1, 10])\n",
      "torch.Size([17, 10]) torch.Size([1, 10]) torch.Size([1, 10])\n",
      "torch.Size([17, 10]) torch.Size([1, 10]) torch.Size([1, 10])\n",
      "torch.Size([17, 10]) torch.Size([1, 10]) torch.Size([1, 10])\n",
      "torch.Size([17, 10]) torch.Size([1, 10]) torch.Size([1, 10])\n",
      "torch.Size([17, 10]) torch.Size([1, 10]) torch.Size([1, 10])\n",
      "torch.Size([17, 10]) torch.Size([1, 10]) torch.Size([1, 10])\n",
      "torch.Size([17, 10]) torch.Size([1, 10]) torch.Size([1, 10])\n",
      "torch.Size([17, 10]) torch.Size([1, 10]) torch.Size([1, 10])\n",
      "torch.Size([17, 10]) torch.Size([1, 10]) torch.Size([1, 10])\n",
      "torch.Size([17, 10]) torch.Size([1, 10]) torch.Size([1, 10])\n",
      "torch.Size([17, 10]) torch.Size([1, 10]) torch.Size([1, 10])\n",
      "torch.Size([17, 10]) torch.Size([1, 10]) torch.Size([1, 10])\n",
      "torch.Size([17, 10]) torch.Size([1, 10]) torch.Size([1, 10])\n",
      "torch.Size([17, 10]) torch.Size([1, 10]) torch.Size([1, 10])\n",
      "torch.Size([17, 10]) torch.Size([1, 10]) torch.Size([1, 10])\n",
      "torch.Size([17, 10]) torch.Size([1, 10]) torch.Size([1, 10])\n",
      "torch.Size([17, 10]) torch.Size([1, 10]) torch.Size([1, 10])\n",
      "torch.Size([17, 10]) torch.Size([1, 10]) torch.Size([1, 10])\n",
      "torch.Size([17, 10]) torch.Size([1, 10]) torch.Size([1, 10])\n",
      "torch.Size([17, 10]) torch.Size([1, 10]) torch.Size([1, 10])\n",
      "torch.Size([17, 10]) torch.Size([1, 10]) torch.Size([1, 10])\n",
      "torch.Size([17, 10]) torch.Size([1, 10]) torch.Size([1, 10])\n",
      "torch.Size([17, 10]) torch.Size([1, 10]) torch.Size([1, 10])\n",
      "torch.Size([17, 10]) torch.Size([1, 10]) torch.Size([1, 10])\n",
      "torch.Size([17, 10]) torch.Size([1, 10]) torch.Size([1, 10])\n",
      "torch.Size([17, 10]) torch.Size([1, 10]) torch.Size([1, 10])\n",
      "torch.Size([17, 10]) torch.Size([1, 10]) torch.Size([1, 10])\n",
      "torch.Size([17, 10]) torch.Size([1, 10]) torch.Size([1, 10])\n",
      "torch.Size([17, 10]) torch.Size([1, 10]) torch.Size([1, 10])\n",
      "torch.Size([17, 10]) torch.Size([1, 10]) torch.Size([1, 10])\n",
      "torch.Size([17, 10]) torch.Size([1, 10]) torch.Size([1, 10])\n",
      "torch.Size([17, 10]) torch.Size([1, 10]) torch.Size([1, 10])\n",
      "torch.Size([17, 10]) torch.Size([1, 10]) torch.Size([1, 10])\n",
      "torch.Size([17, 10]) torch.Size([1, 10]) torch.Size([1, 10])\n",
      "torch.Size([17, 10]) torch.Size([1, 10]) torch.Size([1, 10])\n",
      "torch.Size([17, 10]) torch.Size([1, 10]) torch.Size([1, 10])\n",
      "torch.Size([17, 10]) torch.Size([1, 10]) torch.Size([1, 10])\n",
      "torch.Size([17, 10]) torch.Size([1, 10]) torch.Size([1, 10])\n",
      "torch.Size([17, 10]) torch.Size([1, 10]) torch.Size([1, 10])\n",
      "torch.Size([17, 10]) torch.Size([1, 10]) torch.Size([1, 10])\n",
      "torch.Size([17, 10]) torch.Size([1, 10]) torch.Size([1, 10])\n",
      "torch.Size([17, 10]) torch.Size([1, 10]) torch.Size([1, 10])\n",
      "torch.Size([17, 10]) torch.Size([1, 10]) torch.Size([1, 10])\n",
      "torch.Size([17, 10]) torch.Size([1, 10]) torch.Size([1, 10])\n",
      "torch.Size([17, 10]) torch.Size([1, 10]) torch.Size([1, 10])\n",
      "torch.Size([17, 10]) torch.Size([1, 10]) torch.Size([1, 10])\n",
      "torch.Size([17, 10]) torch.Size([1, 10]) torch.Size([1, 10])\n",
      "torch.Size([17, 10]) torch.Size([1, 10]) torch.Size([1, 10])\n",
      "torch.Size([17, 10]) torch.Size([1, 10]) torch.Size([1, 10])\n",
      "torch.Size([17, 10]) torch.Size([1, 10]) torch.Size([1, 10])\n",
      "torch.Size([17, 10]) torch.Size([1, 10]) torch.Size([1, 10])\n",
      "torch.Size([17, 10]) torch.Size([1, 10]) torch.Size([1, 10])\n",
      "torch.Size([17, 10]) torch.Size([1, 10]) torch.Size([1, 10])\n",
      "torch.Size([17, 10]) torch.Size([1, 10]) torch.Size([1, 10])\n",
      "torch.Size([17, 10]) torch.Size([1, 10]) torch.Size([1, 10])\n",
      "torch.Size([17, 10]) torch.Size([1, 10]) torch.Size([1, 10])\n",
      "torch.Size([17, 10]) torch.Size([1, 10]) torch.Size([1, 10])\n",
      "torch.Size([17, 10]) torch.Size([1, 10]) torch.Size([1, 10])\n",
      "torch.Size([17, 10]) torch.Size([1, 10]) torch.Size([1, 10])\n",
      "torch.Size([17, 10]) torch.Size([1, 10]) torch.Size([1, 10])\n",
      "torch.Size([17, 10]) torch.Size([1, 10]) torch.Size([1, 10])\n",
      "torch.Size([17, 10]) torch.Size([1, 10]) torch.Size([1, 10])\n",
      "torch.Size([17, 10]) torch.Size([1, 10]) torch.Size([1, 10])\n",
      "torch.Size([17, 10]) torch.Size([1, 10]) torch.Size([1, 10])\n",
      "torch.Size([17, 10]) torch.Size([1, 10]) torch.Size([1, 10])\n",
      "torch.Size([17, 10]) torch.Size([1, 10]) torch.Size([1, 10])\n",
      "torch.Size([17, 10]) torch.Size([1, 10]) torch.Size([1, 10])\n",
      "torch.Size([17, 10]) torch.Size([1, 10]) torch.Size([1, 10])\n",
      "torch.Size([17, 10]) torch.Size([1, 10]) torch.Size([1, 10])\n",
      "torch.Size([17, 10]) torch.Size([1, 10]) torch.Size([1, 10])\n",
      "torch.Size([17, 10]) torch.Size([1, 10]) torch.Size([1, 10])\n",
      "torch.Size([17, 10]) torch.Size([1, 10]) torch.Size([1, 10])\n",
      "torch.Size([17, 10]) torch.Size([1, 10]) torch.Size([1, 10])\n",
      "torch.Size([17, 10]) torch.Size([1, 10]) torch.Size([1, 10])\n",
      "torch.Size([17, 10]) torch.Size([1, 10]) torch.Size([1, 10])\n",
      "torch.Size([17, 10]) torch.Size([1, 10]) torch.Size([1, 10])\n",
      "torch.Size([17, 10]) torch.Size([1, 10]) torch.Size([1, 10])\n",
      "torch.Size([17, 10]) torch.Size([1, 10]) torch.Size([1, 10])\n",
      "torch.Size([17, 10]) torch.Size([1, 10]) torch.Size([1, 10])\n",
      "torch.Size([17, 10]) torch.Size([1, 10]) torch.Size([1, 10])\n",
      "torch.Size([17, 10]) torch.Size([1, 10]) torch.Size([1, 10])\n",
      "torch.Size([17, 10]) torch.Size([1, 10]) torch.Size([1, 10])\n",
      "torch.Size([17, 10]) torch.Size([1, 10]) torch.Size([1, 10])\n",
      "torch.Size([17, 10]) torch.Size([1, 10]) torch.Size([1, 10])\n",
      "torch.Size([17, 10]) torch.Size([1, 10]) torch.Size([1, 10])\n",
      "torch.Size([17, 10]) torch.Size([1, 10]) torch.Size([1, 10])\n",
      "torch.Size([17, 10]) torch.Size([1, 10]) torch.Size([1, 10])\n",
      "torch.Size([17, 10]) torch.Size([1, 10]) torch.Size([1, 10])\n",
      "torch.Size([17, 10]) torch.Size([1, 10]) torch.Size([1, 10])\n",
      "torch.Size([17, 10]) torch.Size([1, 10]) torch.Size([1, 10])\n",
      "torch.Size([17, 10]) torch.Size([1, 10]) torch.Size([1, 10])\n",
      "torch.Size([17, 10]) torch.Size([1, 10]) torch.Size([1, 10])\n",
      "torch.Size([17, 10]) torch.Size([1, 10]) torch.Size([1, 10])\n",
      "torch.Size([17, 10]) torch.Size([1, 10]) torch.Size([1, 10])\n",
      "torch.Size([17, 10]) torch.Size([1, 10]) torch.Size([1, 10])\n",
      "torch.Size([17, 10]) torch.Size([1, 10]) torch.Size([1, 10])\n",
      "torch.Size([17, 10]) torch.Size([1, 10]) torch.Size([1, 10])\n",
      "torch.Size([17, 10]) torch.Size([1, 10]) torch.Size([1, 10])\n",
      "torch.Size([17, 10]) torch.Size([1, 10]) torch.Size([1, 10])\n",
      "torch.Size([17, 10]) torch.Size([1, 10]) torch.Size([1, 10])\n",
      "torch.Size([17, 10]) torch.Size([1, 10]) torch.Size([1, 10])\n",
      "torch.Size([17, 10]) torch.Size([1, 10]) torch.Size([1, 10])\n",
      "torch.Size([17, 10]) torch.Size([1, 10]) torch.Size([1, 10])\n",
      "torch.Size([17, 10]) torch.Size([1, 10]) torch.Size([1, 10])\n",
      "torch.Size([17, 10]) torch.Size([1, 10]) torch.Size([1, 10])\n",
      "torch.Size([17, 10]) torch.Size([1, 10]) torch.Size([1, 10])\n",
      "torch.Size([17, 10]) torch.Size([1, 10]) torch.Size([1, 10])\n",
      "torch.Size([17, 10]) torch.Size([1, 10]) torch.Size([1, 10])\n",
      "torch.Size([17, 10]) torch.Size([1, 10]) torch.Size([1, 10])\n",
      "torch.Size([17, 10]) torch.Size([1, 10]) torch.Size([1, 10])\n",
      "torch.Size([17, 10]) torch.Size([1, 10]) torch.Size([1, 10])\n",
      "torch.Size([17, 10]) torch.Size([1, 10]) torch.Size([1, 10])\n",
      "torch.Size([17, 10]) torch.Size([1, 10]) torch.Size([1, 10])\n",
      "torch.Size([17, 10]) torch.Size([1, 10]) torch.Size([1, 10])\n",
      "torch.Size([17, 10]) torch.Size([1, 10]) torch.Size([1, 10])\n",
      "torch.Size([17, 10]) torch.Size([1, 10]) torch.Size([1, 10])\n",
      "torch.Size([17, 10]) torch.Size([1, 10]) torch.Size([1, 10])\n",
      "torch.Size([17, 10]) torch.Size([1, 10]) torch.Size([1, 10])\n",
      "torch.Size([17, 10]) torch.Size([1, 10]) torch.Size([1, 10])\n",
      "torch.Size([17, 10]) torch.Size([1, 10]) torch.Size([1, 10])\n",
      "torch.Size([17, 10]) torch.Size([1, 10]) torch.Size([1, 10])\n",
      "torch.Size([17, 10]) torch.Size([1, 10]) torch.Size([1, 10])\n",
      "torch.Size([17, 10]) torch.Size([1, 10]) torch.Size([1, 10])\n",
      "torch.Size([17, 10]) torch.Size([1, 10]) torch.Size([1, 10])\n",
      "torch.Size([17, 10]) torch.Size([1, 10]) torch.Size([1, 10])\n",
      "torch.Size([17, 10]) torch.Size([1, 10]) torch.Size([1, 10])\n",
      "torch.Size([17, 10]) torch.Size([1, 10]) torch.Size([1, 10])\n",
      "torch.Size([17, 10]) torch.Size([1, 10]) torch.Size([1, 10])\n",
      "torch.Size([17, 10]) torch.Size([1, 10]) torch.Size([1, 10])\n",
      "torch.Size([17, 10]) torch.Size([1, 10]) torch.Size([1, 10])\n",
      "torch.Size([17, 10]) torch.Size([1, 10]) torch.Size([1, 10])\n",
      "torch.Size([17, 10]) torch.Size([1, 10]) torch.Size([1, 10])\n",
      "torch.Size([17, 10]) torch.Size([1, 10]) torch.Size([1, 10])\n",
      "torch.Size([17, 10]) torch.Size([1, 10]) torch.Size([1, 10])\n",
      "torch.Size([17, 10]) torch.Size([1, 10]) torch.Size([1, 10])\n",
      "torch.Size([17, 10]) torch.Size([1, 10]) torch.Size([1, 10])\n",
      "torch.Size([17, 10]) torch.Size([1, 10]) torch.Size([1, 10])\n",
      "torch.Size([17, 10]) torch.Size([1, 10]) torch.Size([1, 10])\n",
      "torch.Size([17, 10]) torch.Size([1, 10]) torch.Size([1, 10])\n",
      "torch.Size([17, 10]) torch.Size([1, 10]) torch.Size([1, 10])\n",
      "torch.Size([17, 10]) torch.Size([1, 10]) torch.Size([1, 10])\n",
      "torch.Size([17, 10]) torch.Size([1, 10]) torch.Size([1, 10])\n",
      "torch.Size([17, 10]) torch.Size([1, 10]) torch.Size([1, 10])\n",
      "torch.Size([17, 10]) torch.Size([1, 10]) torch.Size([1, 10])\n",
      "torch.Size([17, 10]) torch.Size([1, 10]) torch.Size([1, 10])\n",
      "torch.Size([17, 10]) torch.Size([1, 10]) torch.Size([1, 10])\n",
      "torch.Size([17, 10]) torch.Size([1, 10]) torch.Size([1, 10])\n",
      "torch.Size([17, 10]) torch.Size([1, 10]) torch.Size([1, 10])\n",
      "torch.Size([17, 10]) torch.Size([1, 10]) torch.Size([1, 10])\n",
      "torch.Size([17, 10]) torch.Size([1, 10]) torch.Size([1, 10])\n",
      "torch.Size([17, 10]) torch.Size([1, 10]) torch.Size([1, 10])\n",
      "torch.Size([17, 10]) torch.Size([1, 10]) torch.Size([1, 10])\n",
      "torch.Size([17, 10]) torch.Size([1, 10]) torch.Size([1, 10])\n",
      "torch.Size([17, 10]) torch.Size([1, 10]) torch.Size([1, 10])\n",
      "torch.Size([17, 10]) torch.Size([1, 10]) torch.Size([1, 10])\n",
      "torch.Size([17, 10]) torch.Size([1, 10]) torch.Size([1, 10])\n",
      "torch.Size([17, 10]) torch.Size([1, 10]) torch.Size([1, 10])\n",
      "torch.Size([17, 10]) torch.Size([1, 10]) torch.Size([1, 10])\n",
      "torch.Size([17, 10]) torch.Size([1, 10]) torch.Size([1, 10])\n",
      "torch.Size([17, 10]) torch.Size([1, 10]) torch.Size([1, 10])\n",
      "torch.Size([17, 10]) torch.Size([1, 10]) torch.Size([1, 10])\n",
      "torch.Size([17, 10]) torch.Size([1, 10]) torch.Size([1, 10])\n",
      "torch.Size([17, 10]) torch.Size([1, 10]) torch.Size([1, 10])\n",
      "torch.Size([17, 10]) torch.Size([1, 10]) torch.Size([1, 10])\n",
      "torch.Size([17, 10]) torch.Size([1, 10]) torch.Size([1, 10])\n",
      "torch.Size([17, 10]) torch.Size([1, 10]) torch.Size([1, 10])\n",
      "torch.Size([17, 10]) torch.Size([1, 10]) torch.Size([1, 10])\n",
      "torch.Size([17, 10]) torch.Size([1, 10]) torch.Size([1, 10])\n",
      "torch.Size([17, 10]) torch.Size([1, 10]) torch.Size([1, 10])\n",
      "torch.Size([17, 10]) torch.Size([1, 10]) torch.Size([1, 10])\n",
      "torch.Size([17, 10]) torch.Size([1, 10]) torch.Size([1, 10])\n",
      "torch.Size([17, 10]) torch.Size([1, 10]) torch.Size([1, 10])\n",
      "torch.Size([17, 10]) torch.Size([1, 10]) torch.Size([1, 10])\n",
      "torch.Size([17, 10]) torch.Size([1, 10]) torch.Size([1, 10])\n",
      "torch.Size([17, 10]) torch.Size([1, 10]) torch.Size([1, 10])\n",
      "torch.Size([17, 10]) torch.Size([1, 10]) torch.Size([1, 10])\n",
      "torch.Size([17, 10]) torch.Size([1, 10]) torch.Size([1, 10])\n",
      "torch.Size([17, 10]) torch.Size([1, 10]) torch.Size([1, 10])\n",
      "torch.Size([17, 10]) torch.Size([1, 10]) torch.Size([1, 10])\n",
      "torch.Size([17, 10]) torch.Size([1, 10]) torch.Size([1, 10])\n",
      "torch.Size([17, 10]) torch.Size([1, 10]) torch.Size([1, 10])\n",
      "torch.Size([17, 10]) torch.Size([1, 10]) torch.Size([1, 10])\n",
      "torch.Size([17, 10]) torch.Size([1, 10]) torch.Size([1, 10])\n",
      "torch.Size([17, 10]) torch.Size([1, 10]) torch.Size([1, 10])\n",
      "torch.Size([17, 10]) torch.Size([1, 10]) torch.Size([1, 10])\n",
      "torch.Size([17, 10]) torch.Size([1, 10]) torch.Size([1, 10])\n",
      "torch.Size([17, 10]) torch.Size([1, 10]) torch.Size([1, 10])\n",
      "torch.Size([17, 10]) torch.Size([1, 10]) torch.Size([1, 10])\n",
      "torch.Size([17, 10]) torch.Size([1, 10]) torch.Size([1, 10])\n",
      "torch.Size([17, 10]) torch.Size([1, 10]) torch.Size([1, 10])\n",
      "torch.Size([17, 10]) torch.Size([1, 10]) torch.Size([1, 10])\n",
      "torch.Size([17, 10]) torch.Size([1, 10]) torch.Size([1, 10])\n",
      "torch.Size([17, 10]) torch.Size([1, 10]) torch.Size([1, 10])\n",
      "torch.Size([17, 10]) torch.Size([1, 10]) torch.Size([1, 10])\n",
      "torch.Size([17, 10]) torch.Size([1, 10]) torch.Size([1, 10])\n",
      "torch.Size([17, 10]) torch.Size([1, 10]) torch.Size([1, 10])\n",
      "torch.Size([17, 10]) torch.Size([1, 10]) torch.Size([1, 10])\n",
      "torch.Size([17, 10]) torch.Size([1, 10]) torch.Size([1, 10])\n",
      "torch.Size([17, 10]) torch.Size([1, 10]) torch.Size([1, 10])\n",
      "torch.Size([17, 10]) torch.Size([1, 10]) torch.Size([1, 10])\n",
      "torch.Size([17, 10]) torch.Size([1, 10]) torch.Size([1, 10])\n",
      "torch.Size([17, 10]) torch.Size([1, 10]) torch.Size([1, 10])\n",
      "torch.Size([17, 10]) torch.Size([1, 10]) torch.Size([1, 10])\n",
      "torch.Size([17, 10]) torch.Size([1, 10]) torch.Size([1, 10])\n",
      "torch.Size([17, 10]) torch.Size([1, 10]) torch.Size([1, 10])\n",
      "torch.Size([17, 10]) torch.Size([1, 10]) torch.Size([1, 10])\n",
      "torch.Size([17, 10]) torch.Size([1, 10]) torch.Size([1, 10])\n",
      "torch.Size([17, 10]) torch.Size([1, 10]) torch.Size([1, 10])\n",
      "torch.Size([17, 10]) torch.Size([1, 10]) torch.Size([1, 10])\n",
      "torch.Size([17, 10]) torch.Size([1, 10]) torch.Size([1, 10])\n",
      "torch.Size([17, 10]) torch.Size([1, 10]) torch.Size([1, 10])\n",
      "torch.Size([17, 10]) torch.Size([1, 10]) torch.Size([1, 10])\n",
      "torch.Size([17, 10]) torch.Size([1, 10]) torch.Size([1, 10])\n",
      "torch.Size([17, 10]) torch.Size([1, 10]) torch.Size([1, 10])\n",
      "torch.Size([17, 10]) torch.Size([1, 10]) torch.Size([1, 10])\n",
      "torch.Size([17, 10]) torch.Size([1, 10]) torch.Size([1, 10])\n",
      "torch.Size([17, 10]) torch.Size([1, 10]) torch.Size([1, 10])\n",
      "torch.Size([17, 10]) torch.Size([1, 10]) torch.Size([1, 10])\n",
      "torch.Size([17, 10]) torch.Size([1, 10]) torch.Size([1, 10])\n",
      "torch.Size([17, 10]) torch.Size([1, 10]) torch.Size([1, 10])\n",
      "torch.Size([17, 10]) torch.Size([1, 10]) torch.Size([1, 10])\n",
      "torch.Size([17, 10]) torch.Size([1, 10]) torch.Size([1, 10])\n",
      "torch.Size([17, 10]) torch.Size([1, 10]) torch.Size([1, 10])\n",
      "torch.Size([17, 10]) torch.Size([1, 10]) torch.Size([1, 10])\n",
      "torch.Size([17, 10]) torch.Size([1, 10]) torch.Size([1, 10])\n",
      "torch.Size([17, 10]) torch.Size([1, 10]) torch.Size([1, 10])\n",
      "torch.Size([17, 10]) torch.Size([1, 10]) torch.Size([1, 10])\n",
      "torch.Size([17, 10]) torch.Size([1, 10]) torch.Size([1, 10])\n",
      "torch.Size([17, 10]) torch.Size([1, 10]) torch.Size([1, 10])\n",
      "torch.Size([17, 10]) torch.Size([1, 10]) torch.Size([1, 10])\n",
      "torch.Size([17, 10]) torch.Size([1, 10]) torch.Size([1, 10])\n",
      "torch.Size([17, 10]) torch.Size([1, 10]) torch.Size([1, 10])\n",
      "torch.Size([17, 10]) torch.Size([1, 10]) torch.Size([1, 10])\n",
      "torch.Size([17, 10]) torch.Size([1, 10]) torch.Size([1, 10])\n",
      "torch.Size([17, 10]) torch.Size([1, 10]) torch.Size([1, 10])\n",
      "torch.Size([17, 10]) torch.Size([1, 10]) torch.Size([1, 10])\n",
      "torch.Size([17, 10]) torch.Size([1, 10]) torch.Size([1, 10])\n",
      "torch.Size([17, 10]) torch.Size([1, 10]) torch.Size([1, 10])\n",
      "torch.Size([17, 10]) torch.Size([1, 10]) torch.Size([1, 10])\n",
      "torch.Size([17, 10]) torch.Size([1, 10]) torch.Size([1, 10])\n",
      "torch.Size([17, 10]) torch.Size([1, 10]) torch.Size([1, 10])\n",
      "torch.Size([17, 10]) torch.Size([1, 10]) torch.Size([1, 10])\n",
      "torch.Size([17, 10]) torch.Size([1, 10]) torch.Size([1, 10])\n",
      "torch.Size([17, 10]) torch.Size([1, 10]) torch.Size([1, 10])\n",
      "torch.Size([17, 10]) torch.Size([1, 10]) torch.Size([1, 10])\n",
      "torch.Size([17, 10]) torch.Size([1, 10]) torch.Size([1, 10])\n",
      "torch.Size([17, 10]) torch.Size([1, 10]) torch.Size([1, 10])\n",
      "torch.Size([17, 10]) torch.Size([1, 10]) torch.Size([1, 10])\n",
      "torch.Size([17, 10]) torch.Size([1, 10]) torch.Size([1, 10])\n",
      "torch.Size([17, 10]) torch.Size([1, 10]) torch.Size([1, 10])\n",
      "torch.Size([17, 10]) torch.Size([1, 10]) torch.Size([1, 10])\n",
      "torch.Size([17, 10]) torch.Size([1, 10]) torch.Size([1, 10])\n",
      "torch.Size([17, 10]) torch.Size([1, 10]) torch.Size([1, 10])\n",
      "torch.Size([17, 10]) torch.Size([1, 10]) torch.Size([1, 10])\n",
      "torch.Size([17, 10]) torch.Size([1, 10]) torch.Size([1, 10])\n",
      "torch.Size([17, 10]) torch.Size([1, 10]) torch.Size([1, 10])\n",
      "torch.Size([17, 10]) torch.Size([1, 10]) torch.Size([1, 10])\n",
      "torch.Size([17, 10]) torch.Size([1, 10]) torch.Size([1, 10])\n",
      "torch.Size([17, 10]) torch.Size([1, 10]) torch.Size([1, 10])\n",
      "torch.Size([17, 10]) torch.Size([1, 10]) torch.Size([1, 10])\n",
      "torch.Size([17, 10]) torch.Size([1, 10]) torch.Size([1, 10])\n",
      "torch.Size([17, 10]) torch.Size([1, 10]) torch.Size([1, 10])\n",
      "torch.Size([17, 10]) torch.Size([1, 10]) torch.Size([1, 10])\n",
      "torch.Size([17, 10]) torch.Size([1, 10]) torch.Size([1, 10])\n",
      "torch.Size([17, 10]) torch.Size([1, 10]) torch.Size([1, 10])\n",
      "torch.Size([17, 10]) torch.Size([1, 10]) torch.Size([1, 10])\n",
      "torch.Size([17, 10]) torch.Size([1, 10]) torch.Size([1, 10])\n",
      "torch.Size([17, 10]) torch.Size([1, 10]) torch.Size([1, 10])\n",
      "torch.Size([17, 10]) torch.Size([1, 10]) torch.Size([1, 10])\n",
      "torch.Size([17, 10]) torch.Size([1, 10]) torch.Size([1, 10])\n",
      "torch.Size([17, 10]) torch.Size([1, 10]) torch.Size([1, 10])\n",
      "torch.Size([17, 10]) torch.Size([1, 10]) torch.Size([1, 10])\n",
      "torch.Size([17, 10]) torch.Size([1, 10]) torch.Size([1, 10])\n",
      "torch.Size([17, 10]) torch.Size([1, 10]) torch.Size([1, 10])\n",
      "torch.Size([17, 10]) torch.Size([1, 10]) torch.Size([1, 10])\n",
      "torch.Size([17, 10]) torch.Size([1, 10]) torch.Size([1, 10])\n",
      "torch.Size([17, 10]) torch.Size([1, 10]) torch.Size([1, 10])\n",
      "torch.Size([17, 10]) torch.Size([1, 10]) torch.Size([1, 10])\n",
      "torch.Size([17, 10]) torch.Size([1, 10]) torch.Size([1, 10])\n",
      "torch.Size([17, 10]) torch.Size([1, 10]) torch.Size([1, 10])\n",
      "torch.Size([17, 10]) torch.Size([1, 10]) torch.Size([1, 10])\n",
      "torch.Size([17, 10]) torch.Size([1, 10]) torch.Size([1, 10])\n",
      "torch.Size([17, 10]) torch.Size([1, 10]) torch.Size([1, 10])\n",
      "torch.Size([17, 10]) torch.Size([1, 10]) torch.Size([1, 10])\n",
      "torch.Size([17, 10]) torch.Size([1, 10]) torch.Size([1, 10])\n",
      "torch.Size([17, 10]) torch.Size([1, 10]) torch.Size([1, 10])\n",
      "torch.Size([17, 10]) torch.Size([1, 10]) torch.Size([1, 10])\n",
      "torch.Size([17, 10]) torch.Size([1, 10]) torch.Size([1, 10])\n",
      "torch.Size([17, 10]) torch.Size([1, 10]) torch.Size([1, 10])\n",
      "torch.Size([17, 10]) torch.Size([1, 10]) torch.Size([1, 10])\n",
      "torch.Size([17, 10]) torch.Size([1, 10]) torch.Size([1, 10])\n",
      "torch.Size([17, 10]) torch.Size([1, 10]) torch.Size([1, 10])\n",
      "torch.Size([17, 10]) torch.Size([1, 10]) torch.Size([1, 10])\n",
      "torch.Size([17, 10]) torch.Size([1, 10]) torch.Size([1, 10])\n",
      "torch.Size([17, 10]) torch.Size([1, 10]) torch.Size([1, 10])\n",
      "torch.Size([17, 10]) torch.Size([1, 10]) torch.Size([1, 10])\n",
      "torch.Size([17, 10]) torch.Size([1, 10]) torch.Size([1, 10])\n",
      "torch.Size([17, 10]) torch.Size([1, 10]) torch.Size([1, 10])\n",
      "torch.Size([17, 10]) torch.Size([1, 10]) torch.Size([1, 10])\n",
      "torch.Size([17, 10]) torch.Size([1, 10]) torch.Size([1, 10])\n",
      "torch.Size([17, 10]) torch.Size([1, 10]) torch.Size([1, 10])\n",
      "torch.Size([17, 10]) torch.Size([1, 10]) torch.Size([1, 10])\n",
      "torch.Size([17, 10]) torch.Size([1, 10]) torch.Size([1, 10])\n",
      "torch.Size([17, 10]) torch.Size([1, 10]) torch.Size([1, 10])\n",
      "torch.Size([17, 10]) torch.Size([1, 10]) torch.Size([1, 10])\n",
      "torch.Size([17, 10]) torch.Size([1, 10]) torch.Size([1, 10])\n",
      "torch.Size([17, 10]) torch.Size([1, 10]) torch.Size([1, 10])\n",
      "torch.Size([17, 10]) torch.Size([1, 10]) torch.Size([1, 10])\n",
      "torch.Size([17, 10]) torch.Size([1, 10]) torch.Size([1, 10])\n",
      "torch.Size([17, 10]) torch.Size([1, 10]) torch.Size([1, 10])\n",
      "torch.Size([17, 10]) torch.Size([1, 10]) torch.Size([1, 10])\n",
      "torch.Size([17, 10]) torch.Size([1, 10]) torch.Size([1, 10])\n",
      "torch.Size([17, 10]) torch.Size([1, 10]) torch.Size([1, 10])\n",
      "torch.Size([17, 10]) torch.Size([1, 10]) torch.Size([1, 10])\n",
      "torch.Size([17, 10]) torch.Size([1, 10]) torch.Size([1, 10])\n",
      "torch.Size([17, 10]) torch.Size([1, 10]) torch.Size([1, 10])\n",
      "torch.Size([17, 10]) torch.Size([1, 10]) torch.Size([1, 10])\n",
      "torch.Size([17, 10]) torch.Size([1, 10]) torch.Size([1, 10])\n",
      "torch.Size([17, 10]) torch.Size([1, 10]) torch.Size([1, 10])\n",
      "torch.Size([17, 10]) torch.Size([1, 10]) torch.Size([1, 10])\n",
      "torch.Size([17, 10]) torch.Size([1, 10]) torch.Size([1, 10])\n",
      "torch.Size([17, 10]) torch.Size([1, 10]) torch.Size([1, 10])\n",
      "torch.Size([17, 10]) torch.Size([1, 10]) torch.Size([1, 10])\n",
      "torch.Size([17, 10]) torch.Size([1, 10]) torch.Size([1, 10])\n",
      "torch.Size([17, 10]) torch.Size([1, 10]) torch.Size([1, 10])\n",
      "torch.Size([17, 10]) torch.Size([1, 10]) torch.Size([1, 10])\n",
      "torch.Size([17, 10]) torch.Size([1, 10]) torch.Size([1, 10])\n",
      "torch.Size([17, 10]) torch.Size([1, 10]) torch.Size([1, 10])\n",
      "torch.Size([17, 10]) torch.Size([1, 10]) torch.Size([1, 10])\n",
      "torch.Size([17, 10]) torch.Size([1, 10]) torch.Size([1, 10])\n",
      "torch.Size([17, 10]) torch.Size([1, 10]) torch.Size([1, 10])\n",
      "torch.Size([17, 10]) torch.Size([1, 10]) torch.Size([1, 10])\n",
      "torch.Size([17, 10]) torch.Size([1, 10]) torch.Size([1, 10])\n",
      "torch.Size([17, 10]) torch.Size([1, 10]) torch.Size([1, 10])\n",
      "torch.Size([17, 10]) torch.Size([1, 10]) torch.Size([1, 10])\n",
      "torch.Size([17, 10]) torch.Size([1, 10]) torch.Size([1, 10])\n",
      "torch.Size([17, 10]) torch.Size([1, 10]) torch.Size([1, 10])\n",
      "torch.Size([17, 10]) torch.Size([1, 10]) torch.Size([1, 10])\n",
      "torch.Size([17, 10]) torch.Size([1, 10]) torch.Size([1, 10])\n",
      "torch.Size([17, 10]) torch.Size([1, 10]) torch.Size([1, 10])\n",
      "torch.Size([17, 10]) torch.Size([1, 10]) torch.Size([1, 10])\n",
      "torch.Size([17, 10]) torch.Size([1, 10]) torch.Size([1, 10])\n",
      "torch.Size([17, 10]) torch.Size([1, 10]) torch.Size([1, 10])\n",
      "torch.Size([17, 10]) torch.Size([1, 10]) torch.Size([1, 10])\n",
      "torch.Size([17, 10]) torch.Size([1, 10]) torch.Size([1, 10])\n",
      "torch.Size([17, 10]) torch.Size([1, 10]) torch.Size([1, 10])\n",
      "torch.Size([17, 10]) torch.Size([1, 10]) torch.Size([1, 10])\n",
      "torch.Size([17, 10]) torch.Size([1, 10]) torch.Size([1, 10])\n",
      "torch.Size([17, 10]) torch.Size([1, 10]) torch.Size([1, 10])\n",
      "torch.Size([17, 10]) torch.Size([1, 10]) torch.Size([1, 10])\n",
      "torch.Size([17, 10]) torch.Size([1, 10]) torch.Size([1, 10])\n",
      "torch.Size([17, 10]) torch.Size([1, 10]) torch.Size([1, 10])\n",
      "torch.Size([17, 10]) torch.Size([1, 10]) torch.Size([1, 10])\n",
      "torch.Size([17, 10]) torch.Size([1, 10]) torch.Size([1, 10])\n",
      "torch.Size([17, 10]) torch.Size([1, 10]) torch.Size([1, 10])\n",
      "torch.Size([17, 10]) torch.Size([1, 10]) torch.Size([1, 10])\n",
      "torch.Size([17, 10]) torch.Size([1, 10]) torch.Size([1, 10])\n",
      "torch.Size([17, 10]) torch.Size([1, 10]) torch.Size([1, 10])\n",
      "torch.Size([17, 10]) torch.Size([1, 10]) torch.Size([1, 10])\n",
      "torch.Size([17, 10]) torch.Size([1, 10]) torch.Size([1, 10])\n",
      "torch.Size([17, 10]) torch.Size([1, 10]) torch.Size([1, 10])\n",
      "torch.Size([17, 10]) torch.Size([1, 10]) torch.Size([1, 10])\n",
      "torch.Size([17, 10]) torch.Size([1, 10]) torch.Size([1, 10])\n",
      "torch.Size([17, 10]) torch.Size([1, 10]) torch.Size([1, 10])\n",
      "torch.Size([17, 10]) torch.Size([1, 10]) torch.Size([1, 10])\n",
      "torch.Size([17, 10]) torch.Size([1, 10]) torch.Size([1, 10])\n",
      "torch.Size([17, 10]) torch.Size([1, 10]) torch.Size([1, 10])\n",
      "torch.Size([17, 10]) torch.Size([1, 10]) torch.Size([1, 10])\n",
      "torch.Size([17, 10]) torch.Size([1, 10]) torch.Size([1, 10])\n",
      "torch.Size([17, 10]) torch.Size([1, 10]) torch.Size([1, 10])\n",
      "torch.Size([17, 10]) torch.Size([1, 10]) torch.Size([1, 10])\n",
      "torch.Size([17, 10]) torch.Size([1, 10]) torch.Size([1, 10])\n",
      "torch.Size([17, 10]) torch.Size([1, 10]) torch.Size([1, 10])\n",
      "torch.Size([17, 10]) torch.Size([1, 10]) torch.Size([1, 10])\n",
      "torch.Size([17, 10]) torch.Size([1, 10]) torch.Size([1, 10])\n",
      "torch.Size([17, 10]) torch.Size([1, 10]) torch.Size([1, 10])\n",
      "torch.Size([17, 10]) torch.Size([1, 10]) torch.Size([1, 10])\n",
      "torch.Size([17, 10]) torch.Size([1, 10]) torch.Size([1, 10])\n",
      "torch.Size([17, 10]) torch.Size([1, 10]) torch.Size([1, 10])\n",
      "torch.Size([17, 10]) torch.Size([1, 10]) torch.Size([1, 10])\n",
      "torch.Size([17, 10]) torch.Size([1, 10]) torch.Size([1, 10])\n",
      "torch.Size([17, 10]) torch.Size([1, 10]) torch.Size([1, 10])\n",
      "torch.Size([17, 10]) torch.Size([1, 10]) torch.Size([1, 10])\n",
      "torch.Size([17, 10]) torch.Size([1, 10]) torch.Size([1, 10])\n",
      "torch.Size([17, 10]) torch.Size([1, 10]) torch.Size([1, 10])\n",
      "torch.Size([17, 10]) torch.Size([1, 10]) torch.Size([1, 10])\n",
      "torch.Size([17, 10]) torch.Size([1, 10]) torch.Size([1, 10])\n",
      "torch.Size([17, 10]) torch.Size([1, 10]) torch.Size([1, 10])\n",
      "torch.Size([17, 10]) torch.Size([1, 10]) torch.Size([1, 10])\n",
      "torch.Size([17, 10]) torch.Size([1, 10]) torch.Size([1, 10])\n",
      "torch.Size([17, 10]) torch.Size([1, 10]) torch.Size([1, 10])\n",
      "torch.Size([17, 10]) torch.Size([1, 10]) torch.Size([1, 10])\n",
      "torch.Size([17, 10]) torch.Size([1, 10]) torch.Size([1, 10])\n",
      "torch.Size([17, 10]) torch.Size([1, 10]) torch.Size([1, 10])\n",
      "torch.Size([17, 10]) torch.Size([1, 10]) torch.Size([1, 10])\n",
      "torch.Size([17, 10]) torch.Size([1, 10]) torch.Size([1, 10])\n",
      "torch.Size([17, 10]) torch.Size([1, 10]) torch.Size([1, 10])\n",
      "torch.Size([17, 10]) torch.Size([1, 10]) torch.Size([1, 10])\n",
      "torch.Size([17, 10]) torch.Size([1, 10]) torch.Size([1, 10])\n",
      "torch.Size([17, 10]) torch.Size([1, 10]) torch.Size([1, 10])\n",
      "torch.Size([17, 10]) torch.Size([1, 10]) torch.Size([1, 10])\n",
      "torch.Size([17, 10]) torch.Size([1, 10]) torch.Size([1, 10])\n",
      "torch.Size([17, 10]) torch.Size([1, 10]) torch.Size([1, 10])\n",
      "torch.Size([17, 10]) torch.Size([1, 10]) torch.Size([1, 10])\n",
      "torch.Size([17, 10]) torch.Size([1, 10]) torch.Size([1, 10])\n",
      "torch.Size([17, 10]) torch.Size([1, 10]) torch.Size([1, 10])\n",
      "torch.Size([17, 10]) torch.Size([1, 10]) torch.Size([1, 10])\n",
      "torch.Size([17, 10]) torch.Size([1, 10]) torch.Size([1, 10])\n",
      "torch.Size([17, 10]) torch.Size([1, 10]) torch.Size([1, 10])\n",
      "torch.Size([17, 10]) torch.Size([1, 10]) torch.Size([1, 10])\n",
      "torch.Size([17, 10]) torch.Size([1, 10]) torch.Size([1, 10])\n",
      "torch.Size([17, 10]) torch.Size([1, 10]) torch.Size([1, 10])\n",
      "torch.Size([17, 10]) torch.Size([1, 10]) torch.Size([1, 10])\n",
      "torch.Size([17, 10]) torch.Size([1, 10]) torch.Size([1, 10])\n",
      "torch.Size([17, 10]) torch.Size([1, 10]) torch.Size([1, 10])\n",
      "torch.Size([17, 10]) torch.Size([1, 10]) torch.Size([1, 10])\n",
      "torch.Size([17, 10]) torch.Size([1, 10]) torch.Size([1, 10])\n",
      "torch.Size([17, 10]) torch.Size([1, 10]) torch.Size([1, 10])\n",
      "torch.Size([17, 10]) torch.Size([1, 10]) torch.Size([1, 10])\n",
      "torch.Size([17, 10]) torch.Size([1, 10]) torch.Size([1, 10])\n",
      "torch.Size([17, 10]) torch.Size([1, 10]) torch.Size([1, 10])\n",
      "torch.Size([17, 10]) torch.Size([1, 10]) torch.Size([1, 10])\n",
      "torch.Size([17, 10]) torch.Size([1, 10]) torch.Size([1, 10])\n",
      "torch.Size([17, 10]) torch.Size([1, 10]) torch.Size([1, 10])\n",
      "torch.Size([17, 10]) torch.Size([1, 10]) torch.Size([1, 10])\n",
      "torch.Size([17, 10]) torch.Size([1, 10]) torch.Size([1, 10])\n",
      "torch.Size([17, 10]) torch.Size([1, 10]) torch.Size([1, 10])\n",
      "torch.Size([17, 10]) torch.Size([1, 10]) torch.Size([1, 10])\n",
      "torch.Size([17, 10]) torch.Size([1, 10]) torch.Size([1, 10])\n",
      "torch.Size([17, 10]) torch.Size([1, 10]) torch.Size([1, 10])\n",
      "torch.Size([17, 10]) torch.Size([1, 10]) torch.Size([1, 10])\n",
      "torch.Size([17, 10]) torch.Size([1, 10]) torch.Size([1, 10])\n",
      "torch.Size([17, 10]) torch.Size([1, 10]) torch.Size([1, 10])\n",
      "torch.Size([17, 10]) torch.Size([1, 10]) torch.Size([1, 10])\n",
      "torch.Size([17, 10]) torch.Size([1, 10]) torch.Size([1, 10])\n",
      "torch.Size([17, 10]) torch.Size([1, 10]) torch.Size([1, 10])\n",
      "torch.Size([17, 10]) torch.Size([1, 10]) torch.Size([1, 10])\n",
      "torch.Size([17, 10]) torch.Size([1, 10]) torch.Size([1, 10])\n",
      "torch.Size([17, 10]) torch.Size([1, 10]) torch.Size([1, 10])\n",
      "torch.Size([17, 10]) torch.Size([1, 10]) torch.Size([1, 10])\n",
      "torch.Size([17, 10]) torch.Size([1, 10]) torch.Size([1, 10])\n",
      "torch.Size([17, 10]) torch.Size([1, 10]) torch.Size([1, 10])\n",
      "torch.Size([17, 10]) torch.Size([1, 10]) torch.Size([1, 10])\n",
      "torch.Size([17, 10]) torch.Size([1, 10]) torch.Size([1, 10])\n",
      "torch.Size([17, 10]) torch.Size([1, 10]) torch.Size([1, 10])\n",
      "torch.Size([17, 10]) torch.Size([1, 10]) torch.Size([1, 10])\n",
      "torch.Size([17, 10]) torch.Size([1, 10]) torch.Size([1, 10])\n",
      "torch.Size([17, 10]) torch.Size([1, 10]) torch.Size([1, 10])\n",
      "torch.Size([17, 10]) torch.Size([1, 10]) torch.Size([1, 10])\n",
      "torch.Size([17, 10]) torch.Size([1, 10]) torch.Size([1, 10])\n",
      "torch.Size([17, 10]) torch.Size([1, 10]) torch.Size([1, 10])\n",
      "torch.Size([17, 10]) torch.Size([1, 10]) torch.Size([1, 10])\n",
      "torch.Size([17, 10]) torch.Size([1, 10]) torch.Size([1, 10])\n",
      "torch.Size([17, 10]) torch.Size([1, 10]) torch.Size([1, 10])\n",
      "torch.Size([17, 10]) torch.Size([1, 10]) torch.Size([1, 10])\n",
      "torch.Size([17, 10]) torch.Size([1, 10]) torch.Size([1, 10])\n",
      "torch.Size([17, 10]) torch.Size([1, 10]) torch.Size([1, 10])\n",
      "torch.Size([17, 10]) torch.Size([1, 10]) torch.Size([1, 10])\n",
      "torch.Size([17, 10]) torch.Size([1, 10]) torch.Size([1, 10])\n",
      "torch.Size([17, 10]) torch.Size([1, 10]) torch.Size([1, 10])\n",
      "torch.Size([17, 10]) torch.Size([1, 10]) torch.Size([1, 10])\n",
      "torch.Size([17, 10]) torch.Size([1, 10]) torch.Size([1, 10])\n",
      "torch.Size([17, 10]) torch.Size([1, 10]) torch.Size([1, 10])\n",
      "torch.Size([17, 10]) torch.Size([1, 10]) torch.Size([1, 10])\n",
      "torch.Size([17, 10]) torch.Size([1, 10]) torch.Size([1, 10])\n",
      "torch.Size([17, 10]) torch.Size([1, 10]) torch.Size([1, 10])\n",
      "torch.Size([17, 10]) torch.Size([1, 10]) torch.Size([1, 10])\n",
      "torch.Size([17, 10]) torch.Size([1, 10]) torch.Size([1, 10])\n",
      "torch.Size([17, 10]) torch.Size([1, 10]) torch.Size([1, 10])\n",
      "torch.Size([17, 10]) torch.Size([1, 10]) torch.Size([1, 10])\n",
      "torch.Size([17, 10]) torch.Size([1, 10]) torch.Size([1, 10])\n",
      "torch.Size([17, 10]) torch.Size([1, 10]) torch.Size([1, 10])\n",
      "torch.Size([17, 10]) torch.Size([1, 10]) torch.Size([1, 10])\n",
      "torch.Size([17, 10]) torch.Size([1, 10]) torch.Size([1, 10])\n",
      "torch.Size([17, 10]) torch.Size([1, 10]) torch.Size([1, 10])\n",
      "torch.Size([17, 10]) torch.Size([1, 10]) torch.Size([1, 10])\n",
      "torch.Size([17, 10]) torch.Size([1, 10]) torch.Size([1, 10])\n",
      "torch.Size([17, 10]) torch.Size([1, 10]) torch.Size([1, 10])\n",
      "torch.Size([17, 10]) torch.Size([1, 10]) torch.Size([1, 10])\n",
      "torch.Size([17, 10]) torch.Size([1, 10]) torch.Size([1, 10])\n",
      "torch.Size([17, 10]) torch.Size([1, 10]) torch.Size([1, 10])\n",
      "torch.Size([17, 10]) torch.Size([1, 10]) torch.Size([1, 10])\n",
      "torch.Size([17, 10]) torch.Size([1, 10]) torch.Size([1, 10])\n",
      "torch.Size([17, 10]) torch.Size([1, 10]) torch.Size([1, 10])\n",
      "torch.Size([17, 10]) torch.Size([1, 10]) torch.Size([1, 10])\n",
      "torch.Size([17, 10]) torch.Size([1, 10]) torch.Size([1, 10])\n",
      "torch.Size([17, 10]) torch.Size([1, 10]) torch.Size([1, 10])\n",
      "torch.Size([17, 10]) torch.Size([1, 10]) torch.Size([1, 10])\n",
      "torch.Size([17, 10]) torch.Size([1, 10]) torch.Size([1, 10])\n",
      "torch.Size([17, 10]) torch.Size([1, 10]) torch.Size([1, 10])\n",
      "torch.Size([17, 10]) torch.Size([1, 10]) torch.Size([1, 10])\n",
      "torch.Size([17, 10]) torch.Size([1, 10]) torch.Size([1, 10])\n",
      "torch.Size([17, 10]) torch.Size([1, 10]) torch.Size([1, 10])\n",
      "torch.Size([17, 10]) torch.Size([1, 10]) torch.Size([1, 10])\n",
      "torch.Size([17, 10]) torch.Size([1, 10]) torch.Size([1, 10])\n",
      "torch.Size([17, 10]) torch.Size([1, 10]) torch.Size([1, 10])\n",
      "torch.Size([17, 10]) torch.Size([1, 10]) torch.Size([1, 10])\n",
      "torch.Size([17, 10]) torch.Size([1, 10]) torch.Size([1, 10])\n",
      "torch.Size([17, 10]) torch.Size([1, 10]) torch.Size([1, 10])\n",
      "torch.Size([17, 10]) torch.Size([1, 10]) torch.Size([1, 10])\n",
      "torch.Size([17, 10]) torch.Size([1, 10]) torch.Size([1, 10])\n",
      "torch.Size([17, 10]) torch.Size([1, 10]) torch.Size([1, 10])\n",
      "torch.Size([17, 10]) torch.Size([1, 10]) torch.Size([1, 10])\n",
      "torch.Size([17, 10]) torch.Size([1, 10]) torch.Size([1, 10])\n",
      "torch.Size([17, 10]) torch.Size([1, 10]) torch.Size([1, 10])\n",
      "torch.Size([17, 10]) torch.Size([1, 10]) torch.Size([1, 10])\n",
      "torch.Size([17, 10]) torch.Size([1, 10]) torch.Size([1, 10])\n",
      "torch.Size([17, 10]) torch.Size([1, 10]) torch.Size([1, 10])\n",
      "torch.Size([17, 10]) torch.Size([1, 10]) torch.Size([1, 10])\n",
      "torch.Size([17, 10]) torch.Size([1, 10]) torch.Size([1, 10])\n",
      "torch.Size([17, 10]) torch.Size([1, 10]) torch.Size([1, 10])\n",
      "torch.Size([17, 10]) torch.Size([1, 10]) torch.Size([1, 10])\n",
      "torch.Size([17, 10]) torch.Size([1, 10]) torch.Size([1, 10])\n",
      "torch.Size([17, 10]) torch.Size([1, 10]) torch.Size([1, 10])\n",
      "torch.Size([17, 10]) torch.Size([1, 10]) torch.Size([1, 10])\n",
      "torch.Size([17, 10]) torch.Size([1, 10]) torch.Size([1, 10])\n",
      "torch.Size([17, 10]) torch.Size([1, 10]) torch.Size([1, 10])\n",
      "torch.Size([17, 10]) torch.Size([1, 10]) torch.Size([1, 10])\n",
      "torch.Size([17, 10]) torch.Size([1, 10]) torch.Size([1, 10])\n",
      "torch.Size([17, 10]) torch.Size([1, 10]) torch.Size([1, 10])\n",
      "torch.Size([17, 10]) torch.Size([1, 10]) torch.Size([1, 10])\n",
      "torch.Size([17, 10]) torch.Size([1, 10]) torch.Size([1, 10])\n",
      "torch.Size([17, 10]) torch.Size([1, 10]) torch.Size([1, 10])\n",
      "torch.Size([17, 10]) torch.Size([1, 10]) torch.Size([1, 10])\n",
      "torch.Size([17, 10]) torch.Size([1, 10]) torch.Size([1, 10])\n",
      "torch.Size([17, 10]) torch.Size([1, 10]) torch.Size([1, 10])\n",
      "torch.Size([17, 10]) torch.Size([1, 10]) torch.Size([1, 10])\n",
      "torch.Size([17, 10]) torch.Size([1, 10]) torch.Size([1, 10])\n",
      "torch.Size([17, 10]) torch.Size([1, 10]) torch.Size([1, 10])\n",
      "torch.Size([17, 10]) torch.Size([1, 10]) torch.Size([1, 10])\n",
      "torch.Size([17, 10]) torch.Size([1, 10]) torch.Size([1, 10])\n",
      "torch.Size([17, 10]) torch.Size([1, 10]) torch.Size([1, 10])\n",
      "torch.Size([17, 10]) torch.Size([1, 10]) torch.Size([1, 10])\n",
      "torch.Size([17, 10]) torch.Size([1, 10]) torch.Size([1, 10])\n",
      "torch.Size([17, 10]) torch.Size([1, 10]) torch.Size([1, 10])\n",
      "torch.Size([17, 10]) torch.Size([1, 10]) torch.Size([1, 10])\n",
      "torch.Size([17, 10]) torch.Size([1, 10]) torch.Size([1, 10])\n",
      "torch.Size([17, 10]) torch.Size([1, 10]) torch.Size([1, 10])\n",
      "torch.Size([17, 10]) torch.Size([1, 10]) torch.Size([1, 10])\n",
      "torch.Size([17, 10]) torch.Size([1, 10]) torch.Size([1, 10])\n",
      "torch.Size([17, 10]) torch.Size([1, 10]) torch.Size([1, 10])\n",
      "torch.Size([17, 10]) torch.Size([1, 10]) torch.Size([1, 10])\n",
      "torch.Size([17, 10]) torch.Size([1, 10]) torch.Size([1, 10])\n",
      "torch.Size([17, 10]) torch.Size([1, 10]) torch.Size([1, 10])\n",
      "torch.Size([17, 10]) torch.Size([1, 10]) torch.Size([1, 10])\n",
      "torch.Size([17, 10]) torch.Size([1, 10]) torch.Size([1, 10])\n",
      "torch.Size([17, 10]) torch.Size([1, 10]) torch.Size([1, 10])\n",
      "torch.Size([17, 10]) torch.Size([1, 10]) torch.Size([1, 10])\n",
      "torch.Size([17, 10]) torch.Size([1, 10]) torch.Size([1, 10])\n",
      "torch.Size([17, 10]) torch.Size([1, 10]) torch.Size([1, 10])\n",
      "torch.Size([17, 10]) torch.Size([1, 10]) torch.Size([1, 10])\n",
      "torch.Size([17, 10]) torch.Size([1, 10]) torch.Size([1, 10])\n",
      "torch.Size([17, 10]) torch.Size([1, 10]) torch.Size([1, 10])\n",
      "torch.Size([17, 10]) torch.Size([1, 10]) torch.Size([1, 10])\n",
      "torch.Size([17, 10]) torch.Size([1, 10]) torch.Size([1, 10])\n",
      "torch.Size([17, 10]) torch.Size([1, 10]) torch.Size([1, 10])\n",
      "torch.Size([17, 10]) torch.Size([1, 10]) torch.Size([1, 10])\n",
      "torch.Size([17, 10]) torch.Size([1, 10]) torch.Size([1, 10])\n",
      "torch.Size([17, 10]) torch.Size([1, 10]) torch.Size([1, 10])\n",
      "torch.Size([17, 10]) torch.Size([1, 10]) torch.Size([1, 10])\n",
      "torch.Size([17, 10]) torch.Size([1, 10]) torch.Size([1, 10])\n",
      "torch.Size([17, 10]) torch.Size([1, 10]) torch.Size([1, 10])\n",
      "torch.Size([17, 10]) torch.Size([1, 10]) torch.Size([1, 10])\n",
      "torch.Size([17, 10]) torch.Size([1, 10]) torch.Size([1, 10])\n",
      "torch.Size([17, 10]) torch.Size([1, 10]) torch.Size([1, 10])\n",
      "torch.Size([17, 10]) torch.Size([1, 10]) torch.Size([1, 10])\n",
      "torch.Size([17, 10]) torch.Size([1, 10]) torch.Size([1, 10])\n",
      "torch.Size([17, 10]) torch.Size([1, 10]) torch.Size([1, 10])\n",
      "torch.Size([17, 10]) torch.Size([1, 10]) torch.Size([1, 10])\n",
      "torch.Size([17, 10]) torch.Size([1, 10]) torch.Size([1, 10])\n",
      "torch.Size([17, 10]) torch.Size([1, 10]) torch.Size([1, 10])\n",
      "torch.Size([17, 10]) torch.Size([1, 10]) torch.Size([1, 10])\n",
      "torch.Size([17, 10]) torch.Size([1, 10]) torch.Size([1, 10])\n",
      "torch.Size([17, 10]) torch.Size([1, 10]) torch.Size([1, 10])\n",
      "torch.Size([17, 10]) torch.Size([1, 10]) torch.Size([1, 10])\n",
      "torch.Size([17, 10]) torch.Size([1, 10]) torch.Size([1, 10])\n",
      "torch.Size([17, 10]) torch.Size([1, 10]) torch.Size([1, 10])\n",
      "torch.Size([17, 10]) torch.Size([1, 10]) torch.Size([1, 10])\n",
      "torch.Size([17, 10]) torch.Size([1, 10]) torch.Size([1, 10])\n",
      "torch.Size([17, 10]) torch.Size([1, 10]) torch.Size([1, 10])\n",
      "torch.Size([17, 10]) torch.Size([1, 10]) torch.Size([1, 10])\n",
      "torch.Size([17, 10]) torch.Size([1, 10]) torch.Size([1, 10])\n",
      "torch.Size([17, 10]) torch.Size([1, 10]) torch.Size([1, 10])\n",
      "torch.Size([17, 10]) torch.Size([1, 10]) torch.Size([1, 10])\n",
      "torch.Size([17, 10]) torch.Size([1, 10]) torch.Size([1, 10])\n",
      "torch.Size([17, 10]) torch.Size([1, 10]) torch.Size([1, 10])\n",
      "torch.Size([17, 10]) torch.Size([1, 10]) torch.Size([1, 10])\n",
      "torch.Size([17, 10]) torch.Size([1, 10]) torch.Size([1, 10])\n",
      "torch.Size([17, 10]) torch.Size([1, 10]) torch.Size([1, 10])\n",
      "torch.Size([17, 10]) torch.Size([1, 10]) torch.Size([1, 10])\n",
      "torch.Size([17, 10]) torch.Size([1, 10]) torch.Size([1, 10])\n",
      "torch.Size([17, 10]) torch.Size([1, 10]) torch.Size([1, 10])\n",
      "torch.Size([17, 10]) torch.Size([1, 10]) torch.Size([1, 10])\n",
      "torch.Size([17, 10]) torch.Size([1, 10]) torch.Size([1, 10])\n",
      "torch.Size([17, 10]) torch.Size([1, 10]) torch.Size([1, 10])\n",
      "torch.Size([17, 10]) torch.Size([1, 10]) torch.Size([1, 10])\n",
      "torch.Size([17, 10]) torch.Size([1, 10]) torch.Size([1, 10])\n",
      "torch.Size([17, 10]) torch.Size([1, 10]) torch.Size([1, 10])\n",
      "torch.Size([17, 10]) torch.Size([1, 10]) torch.Size([1, 10])\n",
      "torch.Size([17, 10]) torch.Size([1, 10]) torch.Size([1, 10])\n",
      "torch.Size([17, 10]) torch.Size([1, 10]) torch.Size([1, 10])\n",
      "torch.Size([17, 10]) torch.Size([1, 10]) torch.Size([1, 10])\n",
      "torch.Size([17, 10]) torch.Size([1, 10]) torch.Size([1, 10])\n",
      "torch.Size([17, 10]) torch.Size([1, 10]) torch.Size([1, 10])\n",
      "torch.Size([17, 10]) torch.Size([1, 10]) torch.Size([1, 10])\n",
      "torch.Size([17, 10]) torch.Size([1, 10]) torch.Size([1, 10])\n",
      "torch.Size([17, 10]) torch.Size([1, 10]) torch.Size([1, 10])\n",
      "torch.Size([17, 10]) torch.Size([1, 10]) torch.Size([1, 10])\n",
      "torch.Size([17, 10]) torch.Size([1, 10]) torch.Size([1, 10])\n",
      "torch.Size([17, 10]) torch.Size([1, 10]) torch.Size([1, 10])\n",
      "torch.Size([17, 10]) torch.Size([1, 10]) torch.Size([1, 10])\n",
      "torch.Size([17, 10]) torch.Size([1, 10]) torch.Size([1, 10])\n",
      "torch.Size([17, 10]) torch.Size([1, 10]) torch.Size([1, 10])\n",
      "torch.Size([17, 10]) torch.Size([1, 10]) torch.Size([1, 10])\n",
      "torch.Size([17, 10]) torch.Size([1, 10]) torch.Size([1, 10])\n",
      "torch.Size([17, 10]) torch.Size([1, 10]) torch.Size([1, 10])\n",
      "torch.Size([17, 10]) torch.Size([1, 10]) torch.Size([1, 10])\n",
      "torch.Size([17, 10]) torch.Size([1, 10]) torch.Size([1, 10])\n",
      "torch.Size([17, 10]) torch.Size([1, 10]) torch.Size([1, 10])\n",
      "torch.Size([17, 10]) torch.Size([1, 10]) torch.Size([1, 10])\n",
      "torch.Size([17, 10]) torch.Size([1, 10]) torch.Size([1, 10])\n",
      "torch.Size([17, 10]) torch.Size([1, 10]) torch.Size([1, 10])\n",
      "torch.Size([17, 10]) torch.Size([1, 10]) torch.Size([1, 10])\n",
      "torch.Size([17, 10]) torch.Size([1, 10]) torch.Size([1, 10])\n",
      "torch.Size([17, 10]) torch.Size([1, 10]) torch.Size([1, 10])\n",
      "torch.Size([17, 10]) torch.Size([1, 10]) torch.Size([1, 10])\n",
      "torch.Size([17, 10]) torch.Size([1, 10]) torch.Size([1, 10])\n",
      "torch.Size([17, 10]) torch.Size([1, 10]) torch.Size([1, 10])\n",
      "torch.Size([17, 10]) torch.Size([1, 10]) torch.Size([1, 10])\n",
      "torch.Size([17, 10]) torch.Size([1, 10]) torch.Size([1, 10])\n",
      "torch.Size([17, 10]) torch.Size([1, 10]) torch.Size([1, 10])\n",
      "torch.Size([17, 10]) torch.Size([1, 10]) torch.Size([1, 10])\n",
      "torch.Size([17, 10]) torch.Size([1, 10]) torch.Size([1, 10])\n",
      "torch.Size([17, 10]) torch.Size([1, 10]) torch.Size([1, 10])\n",
      "torch.Size([17, 10]) torch.Size([1, 10]) torch.Size([1, 10])\n",
      "torch.Size([17, 10]) torch.Size([1, 10]) torch.Size([1, 10])\n",
      "torch.Size([17, 10]) torch.Size([1, 10]) torch.Size([1, 10])\n",
      "torch.Size([17, 10]) torch.Size([1, 10]) torch.Size([1, 10])\n",
      "torch.Size([17, 10]) torch.Size([1, 10]) torch.Size([1, 10])\n",
      "torch.Size([17, 10]) torch.Size([1, 10]) torch.Size([1, 10])\n",
      "torch.Size([17, 10]) torch.Size([1, 10]) torch.Size([1, 10])\n",
      "torch.Size([17, 10]) torch.Size([1, 10]) torch.Size([1, 10])\n",
      "torch.Size([17, 10]) torch.Size([1, 10]) torch.Size([1, 10])\n",
      "torch.Size([17, 10]) torch.Size([1, 10]) torch.Size([1, 10])\n",
      "torch.Size([17, 10]) torch.Size([1, 10]) torch.Size([1, 10])\n",
      "torch.Size([17, 10]) torch.Size([1, 10]) torch.Size([1, 10])\n",
      "torch.Size([17, 10]) torch.Size([1, 10]) torch.Size([1, 10])\n",
      "torch.Size([17, 10]) torch.Size([1, 10]) torch.Size([1, 10])\n",
      "torch.Size([17, 10]) torch.Size([1, 10]) torch.Size([1, 10])\n",
      "torch.Size([17, 10]) torch.Size([1, 10]) torch.Size([1, 10])\n",
      "torch.Size([17, 10]) torch.Size([1, 10]) torch.Size([1, 10])\n",
      "torch.Size([17, 10]) torch.Size([1, 10]) torch.Size([1, 10])\n",
      "torch.Size([17, 10]) torch.Size([1, 10]) torch.Size([1, 10])\n",
      "torch.Size([17, 10]) torch.Size([1, 10]) torch.Size([1, 10])\n",
      "torch.Size([17, 10]) torch.Size([1, 10]) torch.Size([1, 10])\n",
      "torch.Size([17, 10]) torch.Size([1, 10]) torch.Size([1, 10])\n",
      "torch.Size([17, 10]) torch.Size([1, 10]) torch.Size([1, 10])\n",
      "torch.Size([17, 10]) torch.Size([1, 10]) torch.Size([1, 10])\n",
      "torch.Size([17, 10]) torch.Size([1, 10]) torch.Size([1, 10])\n",
      "torch.Size([17, 10]) torch.Size([1, 10]) torch.Size([1, 10])\n",
      "torch.Size([17, 10]) torch.Size([1, 10]) torch.Size([1, 10])\n",
      "torch.Size([17, 10]) torch.Size([1, 10]) torch.Size([1, 10])\n",
      "torch.Size([17, 10]) torch.Size([1, 10]) torch.Size([1, 10])\n",
      "torch.Size([17, 10]) torch.Size([1, 10]) torch.Size([1, 10])\n",
      "torch.Size([17, 10]) torch.Size([1, 10]) torch.Size([1, 10])\n",
      "torch.Size([17, 10]) torch.Size([1, 10]) torch.Size([1, 10])\n",
      "torch.Size([17, 10]) torch.Size([1, 10]) torch.Size([1, 10])\n",
      "torch.Size([17, 10]) torch.Size([1, 10]) torch.Size([1, 10])\n",
      "torch.Size([17, 10]) torch.Size([1, 10]) torch.Size([1, 10])\n",
      "torch.Size([17, 10]) torch.Size([1, 10]) torch.Size([1, 10])\n",
      "torch.Size([17, 10]) torch.Size([1, 10]) torch.Size([1, 10])\n",
      "torch.Size([17, 10]) torch.Size([1, 10]) torch.Size([1, 10])\n",
      "torch.Size([17, 10]) torch.Size([1, 10]) torch.Size([1, 10])\n",
      "torch.Size([17, 10]) torch.Size([1, 10]) torch.Size([1, 10])\n",
      "torch.Size([17, 10]) torch.Size([1, 10]) torch.Size([1, 10])\n",
      "torch.Size([17, 10]) torch.Size([1, 10]) torch.Size([1, 10])\n",
      "torch.Size([17, 10]) torch.Size([1, 10]) torch.Size([1, 10])\n",
      "torch.Size([17, 10]) torch.Size([1, 10]) torch.Size([1, 10])\n",
      "torch.Size([17, 10]) torch.Size([1, 10]) torch.Size([1, 10])\n",
      "torch.Size([17, 10]) torch.Size([1, 10]) torch.Size([1, 10])\n",
      "torch.Size([17, 10]) torch.Size([1, 10]) torch.Size([1, 10])\n",
      "torch.Size([17, 10]) torch.Size([1, 10]) torch.Size([1, 10])\n",
      "torch.Size([17, 10]) torch.Size([1, 10]) torch.Size([1, 10])\n",
      "torch.Size([17, 10]) torch.Size([1, 10]) torch.Size([1, 10])\n",
      "torch.Size([17, 10]) torch.Size([1, 10]) torch.Size([1, 10])\n",
      "torch.Size([17, 10]) torch.Size([1, 10]) torch.Size([1, 10])\n",
      "torch.Size([17, 10]) torch.Size([1, 10]) torch.Size([1, 10])\n",
      "torch.Size([17, 10]) torch.Size([1, 10]) torch.Size([1, 10])\n",
      "torch.Size([17, 10]) torch.Size([1, 10]) torch.Size([1, 10])\n",
      "torch.Size([17, 10]) torch.Size([1, 10]) torch.Size([1, 10])\n",
      "torch.Size([17, 10]) torch.Size([1, 10]) torch.Size([1, 10])\n",
      "torch.Size([17, 10]) torch.Size([1, 10]) torch.Size([1, 10])\n",
      "torch.Size([17, 10]) torch.Size([1, 10]) torch.Size([1, 10])\n",
      "torch.Size([17, 10]) torch.Size([1, 10]) torch.Size([1, 10])\n",
      "torch.Size([17, 10]) torch.Size([1, 10]) torch.Size([1, 10])\n",
      "torch.Size([17, 10]) torch.Size([1, 10]) torch.Size([1, 10])\n",
      "torch.Size([17, 10]) torch.Size([1, 10]) torch.Size([1, 10])\n",
      "torch.Size([17, 10]) torch.Size([1, 10]) torch.Size([1, 10])\n",
      "torch.Size([17, 10]) torch.Size([1, 10]) torch.Size([1, 10])\n",
      "torch.Size([17, 10]) torch.Size([1, 10]) torch.Size([1, 10])\n",
      "torch.Size([17, 10]) torch.Size([1, 10]) torch.Size([1, 10])\n",
      "torch.Size([17, 10]) torch.Size([1, 10]) torch.Size([1, 10])\n",
      "torch.Size([17, 10]) torch.Size([1, 10]) torch.Size([1, 10])\n",
      "torch.Size([17, 10]) torch.Size([1, 10]) torch.Size([1, 10])\n",
      "torch.Size([17, 10]) torch.Size([1, 10]) torch.Size([1, 10])\n",
      "torch.Size([17, 10]) torch.Size([1, 10]) torch.Size([1, 10])\n",
      "torch.Size([17, 10]) torch.Size([1, 10]) torch.Size([1, 10])\n",
      "torch.Size([17, 10]) torch.Size([1, 10]) torch.Size([1, 10])\n",
      "torch.Size([17, 10]) torch.Size([1, 10]) torch.Size([1, 10])\n",
      "torch.Size([17, 10]) torch.Size([1, 10]) torch.Size([1, 10])\n",
      "torch.Size([17, 10]) torch.Size([1, 10]) torch.Size([1, 10])\n",
      "torch.Size([17, 10]) torch.Size([1, 10]) torch.Size([1, 10])\n",
      "torch.Size([17, 10]) torch.Size([1, 10]) torch.Size([1, 10])\n",
      "torch.Size([17, 10]) torch.Size([1, 10]) torch.Size([1, 10])\n",
      "torch.Size([17, 10]) torch.Size([1, 10]) torch.Size([1, 10])\n",
      "torch.Size([17, 10]) torch.Size([1, 10]) torch.Size([1, 10])\n",
      "torch.Size([17, 10]) torch.Size([1, 10]) torch.Size([1, 10])\n",
      "torch.Size([17, 10]) torch.Size([1, 10]) torch.Size([1, 10])\n",
      "torch.Size([17, 10]) torch.Size([1, 10]) torch.Size([1, 10])\n",
      "torch.Size([17, 10]) torch.Size([1, 10]) torch.Size([1, 10])\n",
      "torch.Size([17, 10]) torch.Size([1, 10]) torch.Size([1, 10])\n",
      "torch.Size([17, 10]) torch.Size([1, 10]) torch.Size([1, 10])\n",
      "torch.Size([17, 10]) torch.Size([1, 10]) torch.Size([1, 10])\n",
      "torch.Size([17, 10]) torch.Size([1, 10]) torch.Size([1, 10])\n",
      "torch.Size([17, 10]) torch.Size([1, 10]) torch.Size([1, 10])\n",
      "torch.Size([17, 10]) torch.Size([1, 10]) torch.Size([1, 10])\n",
      "torch.Size([17, 10]) torch.Size([1, 10]) torch.Size([1, 10])\n",
      "torch.Size([17, 10]) torch.Size([1, 10]) torch.Size([1, 10])\n",
      "torch.Size([17, 10]) torch.Size([1, 10]) torch.Size([1, 10])\n",
      "torch.Size([17, 10]) torch.Size([1, 10]) torch.Size([1, 10])\n",
      "torch.Size([17, 10]) torch.Size([1, 10]) torch.Size([1, 10])\n",
      "torch.Size([17, 10]) torch.Size([1, 10]) torch.Size([1, 10])\n",
      "torch.Size([17, 10]) torch.Size([1, 10]) torch.Size([1, 10])\n",
      "torch.Size([17, 10]) torch.Size([1, 10]) torch.Size([1, 10])\n",
      "torch.Size([17, 10]) torch.Size([1, 10]) torch.Size([1, 10])\n",
      "torch.Size([17, 10]) torch.Size([1, 10]) torch.Size([1, 10])\n",
      "torch.Size([17, 10]) torch.Size([1, 10]) torch.Size([1, 10])\n",
      "torch.Size([17, 10]) torch.Size([1, 10]) torch.Size([1, 10])\n",
      "torch.Size([17, 10]) torch.Size([1, 10]) torch.Size([1, 10])\n",
      "torch.Size([17, 10]) torch.Size([1, 10]) torch.Size([1, 10])\n",
      "torch.Size([17, 10]) torch.Size([1, 10]) torch.Size([1, 10])\n",
      "torch.Size([17, 10]) torch.Size([1, 10]) torch.Size([1, 10])\n",
      "torch.Size([17, 10]) torch.Size([1, 10]) torch.Size([1, 10])\n",
      "torch.Size([17, 10]) torch.Size([1, 10]) torch.Size([1, 10])\n",
      "torch.Size([17, 10]) torch.Size([1, 10]) torch.Size([1, 10])\n",
      "torch.Size([17, 10]) torch.Size([1, 10]) torch.Size([1, 10])\n",
      "torch.Size([17, 10]) torch.Size([1, 10]) torch.Size([1, 10])\n",
      "torch.Size([17, 10]) torch.Size([1, 10]) torch.Size([1, 10])\n",
      "torch.Size([17, 10]) torch.Size([1, 10]) torch.Size([1, 10])\n",
      "torch.Size([17, 10]) torch.Size([1, 10]) torch.Size([1, 10])\n",
      "torch.Size([17, 10]) torch.Size([1, 10]) torch.Size([1, 10])\n",
      "torch.Size([17, 10]) torch.Size([1, 10]) torch.Size([1, 10])\n",
      "torch.Size([17, 10]) torch.Size([1, 10]) torch.Size([1, 10])\n",
      "torch.Size([17, 10]) torch.Size([1, 10]) torch.Size([1, 10])\n",
      "torch.Size([17, 10]) torch.Size([1, 10]) torch.Size([1, 10])\n",
      "torch.Size([17, 10]) torch.Size([1, 10]) torch.Size([1, 10])\n",
      "torch.Size([17, 10]) torch.Size([1, 10]) torch.Size([1, 10])\n",
      "torch.Size([17, 10]) torch.Size([1, 10]) torch.Size([1, 10])\n",
      "torch.Size([17, 10]) torch.Size([1, 10]) torch.Size([1, 10])\n",
      "torch.Size([17, 10]) torch.Size([1, 10]) torch.Size([1, 10])\n",
      "torch.Size([17, 10]) torch.Size([1, 10]) torch.Size([1, 10])\n",
      "torch.Size([17, 10]) torch.Size([1, 10]) torch.Size([1, 10])\n",
      "torch.Size([17, 10]) torch.Size([1, 10]) torch.Size([1, 10])\n",
      "torch.Size([17, 10]) torch.Size([1, 10]) torch.Size([1, 10])\n",
      "torch.Size([17, 10]) torch.Size([1, 10]) torch.Size([1, 10])\n",
      "torch.Size([17, 10]) torch.Size([1, 10]) torch.Size([1, 10])\n",
      "torch.Size([17, 10]) torch.Size([1, 10]) torch.Size([1, 10])\n",
      "torch.Size([17, 10]) torch.Size([1, 10]) torch.Size([1, 10])\n",
      "torch.Size([17, 10]) torch.Size([1, 10]) torch.Size([1, 10])\n",
      "torch.Size([17, 10]) torch.Size([1, 10]) torch.Size([1, 10])\n",
      "torch.Size([17, 10]) torch.Size([1, 10]) torch.Size([1, 10])\n",
      "torch.Size([17, 10]) torch.Size([1, 10]) torch.Size([1, 10])\n",
      "torch.Size([17, 10]) torch.Size([1, 10]) torch.Size([1, 10])\n",
      "torch.Size([17, 10]) torch.Size([1, 10]) torch.Size([1, 10])\n",
      "torch.Size([17, 10]) torch.Size([1, 10]) torch.Size([1, 10])\n",
      "torch.Size([17, 10]) torch.Size([1, 10]) torch.Size([1, 10])\n",
      "torch.Size([17, 10]) torch.Size([1, 10]) torch.Size([1, 10])\n",
      "torch.Size([17, 10]) torch.Size([1, 10]) torch.Size([1, 10])\n",
      "torch.Size([17, 10]) torch.Size([1, 10]) torch.Size([1, 10])\n",
      "torch.Size([17, 10]) torch.Size([1, 10]) torch.Size([1, 10])\n"
     ]
    }
   ],
   "source": [
    "for epoch in range(1000):\n",
    "    ## 1\n",
    "    hidden,(h_T,c_T) = lstm(x)\n",
    "    #hidden은 가장 깊이 있는 은닉계층의 모든 시점에서 output이므로 hidden.shape = (17,10)\n",
    "    #h_T,c_T는 모든 은닉계층에서 마지막 시점에서 output이므로 h_T(c_T).shape = c_T.shape = (1,10)\n",
    "    print(hidden.shape,h_T.shape,c_T.shape)\n",
    "    output = linr(hidden)\n",
    "    ## 2\n",
    "    loss = loss_fn(output,y)\n",
    "    ## 3\n",
    "    loss.backward()\n",
    "    ## 4\n",
    "    optimizer.step()\n",
    "    optimizer.zero_grad()"
   ]
  },
  {
   "cell_type": "code",
   "execution_count": 32,
   "metadata": {},
   "outputs": [
    {
     "data": {
      "text/plain": [
       "<matplotlib.image.AxesImage at 0x165602a6d30>"
      ]
     },
     "execution_count": 32,
     "metadata": {},
     "output_type": "execute_result"
    },
    {
     "data": {
      "image/png": "[encoded data removed]",
      "text/plain": [
       "<Figure size 400x1600 with 1 Axes>"
      ]
     },
     "metadata": {},
     "output_type": "display_data"
    }
   ],
   "source": [
    "import matplotlib.pyplot as plt\n",
    "soft = torch.nn.Softmax(dim=1)\n",
    "plt.matshow(soft(output).to(\"cpu\").data,cmap='bwr',vmin=-1,vmax=1)"
   ]
  },
  {
   "attachments": {},
   "cell_type": "markdown",
   "metadata": {},
   "source": [
    "## 하나의 긴 시계열 데이터를 배치로 나눠서 학습"
   ]
  },
  {
   "attachments": {},
   "cell_type": "markdown",
   "metadata": {},
   "source": [
    "시계열 데이터셋이 배치로 나뉘어져 있을 경우,파이토치에서는 $(L,N,H_{in})$의 shape을 요구한다. 다음의 과정은 shape을 맞추기 위해 진행하는 과정이다."
   ]
  },
  {
   "cell_type": "code",
   "execution_count": 33,
   "metadata": {},
   "outputs": [],
   "source": [
    "txt1 = txt[:9]\n",
    "txt2 = txt[9:]"
   ]
  },
  {
   "cell_type": "code",
   "execution_count": 34,
   "metadata": {},
   "outputs": [],
   "source": [
    "txt1_x = txt1[:-1]\n",
    "txt1_y = txt1[1:]\n",
    "txt2_x = txt2[:-1]\n",
    "txt2_y = txt2[1:]"
   ]
  },
  {
   "cell_type": "code",
   "execution_count": 35,
   "metadata": {},
   "outputs": [],
   "source": [
    "mapping = {\"!\":0,\"?\":1,\"h\":2,\"i\":3}\n",
    "x1 = torch.nn.functional.one_hot(torch.tensor(f(txt1_x,mapping))).float().to(\"cuda\")\n",
    "y1 = torch.nn.functional.one_hot(torch.tensor(f(txt1_y,mapping))).float().to(\"cuda\")\n",
    "x2 = torch.nn.functional.one_hot(torch.tensor(f(txt2_x,mapping))).float().to(\"cuda\")\n",
    "y2 = torch.nn.functional.one_hot(torch.tensor(f(txt2_y,mapping))).float().to(\"cuda\")"
   ]
  },
  {
   "cell_type": "code",
   "execution_count": 36,
   "metadata": {},
   "outputs": [
    {
     "data": {
      "text/plain": [
       "(torch.Size([8, 4]),\n",
       " torch.Size([8, 4]),\n",
       " torch.Size([8, 4]),\n",
       " torch.Size([8, 4]))"
      ]
     },
     "execution_count": 36,
     "metadata": {},
     "output_type": "execute_result"
    }
   ],
   "source": [
    "x1.shape,y1.shape,x2.shape,y2.shape"
   ]
  },
  {
   "cell_type": "code",
   "execution_count": 37,
   "metadata": {},
   "outputs": [
    {
     "data": {
      "text/plain": [
       "(torch.Size([8, 2, 4]), torch.Size([8, 2, 4]))"
      ]
     },
     "execution_count": 37,
     "metadata": {},
     "output_type": "execute_result"
    }
   ],
   "source": [
    "xx = torch.stack([x1,x2],axis=1)\n",
    "yy = torch.stack([y1,y2],axis=1)\n",
    "xx.shape,yy.shape"
   ]
  },
  {
   "cell_type": "code",
   "execution_count": 38,
   "metadata": {},
   "outputs": [
    {
     "data": {
      "text/plain": [
       "(tensor([[[0., 0., 1., 0.],\n",
       "          [0., 0., 1., 0.]],\n",
       " \n",
       "         [[0., 0., 0., 1.],\n",
       "          [0., 0., 0., 1.]],\n",
       " \n",
       "         [[1., 0., 0., 0.],\n",
       "          [0., 1., 0., 0.]],\n",
       " \n",
       "         [[0., 0., 1., 0.],\n",
       "          [0., 0., 1., 0.]],\n",
       " \n",
       "         [[0., 0., 0., 1.],\n",
       "          [0., 0., 0., 1.]],\n",
       " \n",
       "         [[1., 0., 0., 0.],\n",
       "          [0., 1., 0., 0.]],\n",
       " \n",
       "         [[0., 0., 1., 0.],\n",
       "          [0., 0., 1., 0.]],\n",
       " \n",
       "         [[0., 0., 0., 1.],\n",
       "          [0., 0., 0., 1.]]], device='cuda:0'),\n",
       " tensor([[[0., 0., 0., 1.],\n",
       "          [0., 0., 0., 1.]],\n",
       " \n",
       "         [[1., 0., 0., 0.],\n",
       "          [0., 1., 0., 0.]],\n",
       " \n",
       "         [[0., 0., 1., 0.],\n",
       "          [0., 0., 1., 0.]],\n",
       " \n",
       "         [[0., 0., 0., 1.],\n",
       "          [0., 0., 0., 1.]],\n",
       " \n",
       "         [[1., 0., 0., 0.],\n",
       "          [0., 1., 0., 0.]],\n",
       " \n",
       "         [[0., 0., 1., 0.],\n",
       "          [0., 0., 1., 0.]],\n",
       " \n",
       "         [[0., 0., 0., 1.],\n",
       "          [0., 0., 0., 1.]],\n",
       " \n",
       "         [[1., 0., 0., 0.],\n",
       "          [0., 1., 0., 0.]]], device='cuda:0'))"
      ]
     },
     "execution_count": 38,
     "metadata": {},
     "output_type": "execute_result"
    }
   ],
   "source": [
    "xx,yy"
   ]
  },
  {
   "attachments": {},
   "cell_type": "markdown",
   "metadata": {},
   "source": [
    "torch.stack에서 axis의 인자로 1을 넣어 $batch size = 2$인 $(8,2,4)$의 shape을 가지는 텐서를 만듦"
   ]
  },
  {
   "attachments": {},
   "cell_type": "markdown",
   "metadata": {},
   "source": [
    "준비단계"
   ]
  },
  {
   "cell_type": "code",
   "execution_count": 39,
   "metadata": {},
   "outputs": [],
   "source": [
    "torch.manual_seed(43052)\n",
    "lstm = torch.nn.LSTM(4,10).to(\"cuda\")\n",
    "linr = torch.nn.Linear(10,4).to(\"cuda\")\n",
    "loss_fn = torch.nn.CrossEntropyLoss()\n",
    "optimizer = torch.optim.Adam(list(lstm.parameters())+list(linr.parameters()),lr = 0.1)"
   ]
  },
  {
   "attachments": {},
   "cell_type": "markdown",
   "metadata": {},
   "source": [
    "학습단계\n",
    "- 먼저 관찰하기위해서 'hi!'가 3번반복되는 배치와 hi?가 3번반복되는 배치를 따로 분리하고 네트워크에 입력하여 학습."
   ]
  },
  {
   "cell_type": "code",
   "execution_count": 40,
   "metadata": {},
   "outputs": [
    {
     "name": "stdout",
     "output_type": "stream",
     "text": [
      "0 tensor(2.7541, device='cuda:0', grad_fn=<AddBackward0>)\n",
      "20 tensor(0.1803, device='cuda:0', grad_fn=<AddBackward0>)\n",
      "40 tensor(0.1739, device='cuda:0', grad_fn=<AddBackward0>)\n",
      "60 tensor(0.1735, device='cuda:0', grad_fn=<AddBackward0>)\n",
      "80 tensor(0.1735, device='cuda:0', grad_fn=<AddBackward0>)\n"
     ]
    }
   ],
   "source": [
    "for epoch in range(100):\n",
    "    ## 1\n",
    "    hidden,(h_T,c_T) = lstm(xx)\n",
    "    #hidden은 가장 깊이 있는 은닉계층의 모든 시점에서 output이므로 hidden.shape = (17,10)\n",
    "    #h_T,c_T는 모든 은닉계층에서 마지막 시점에서 output이므로 h_T(c_T).shape = c_T.shape = (1,10)\n",
    "    #print(hidden.shape,h_T.shape,c_T.shape)\n",
    "    output = linr(hidden)\n",
    "    ## 2\n",
    "    loss = loss_fn(output[:,0,:],yy[:,0,:]) + loss_fn(output[:,1,:],yy[:,1,:])\n",
    "    if epoch % 20 == 0:\n",
    "        print(epoch,loss)\n",
    "    ## 3\n",
    "    loss.backward()\n",
    "    ## 4\n",
    "    optimizer.step()\n",
    "    optimizer.zero_grad()"
   ]
  },
  {
   "cell_type": "code",
   "execution_count": 41,
   "metadata": {},
   "outputs": [
    {
     "data": {
      "text/plain": [
       "<matplotlib.image.AxesImage at 0x16563cda370>"
      ]
     },
     "execution_count": 41,
     "metadata": {},
     "output_type": "execute_result"
    },
    {
     "data": {
      "image/png": "[encoded data removed]",
      "text/plain": [
       "<Figure size 640x480 with 2 Axes>"
      ]
     },
     "metadata": {},
     "output_type": "display_data"
    }
   ],
   "source": [
    "fig,ax = plt.subplots(1,2)\n",
    "ax[0].matshow(soft(output[:,0,:]).to(\"cpu\").data,cmap=\"bwr\",vmin=-1,vmax=1)\n",
    "ax[1].matshow(soft(output[:,1,:]).to(\"cpu\").data,cmap=\"bwr\",vmin=-1,vmax=1)\n"
   ]
  },
  {
   "cell_type": "code",
   "execution_count": 42,
   "metadata": {},
   "outputs": [
    {
     "data": {
      "text/plain": [
       "<matplotlib.image.AxesImage at 0x165645e1df0>"
      ]
     },
     "execution_count": 42,
     "metadata": {},
     "output_type": "execute_result"
    },
    {
     "data": {
      "image/png": "[encoded data removed]",
      "text/plain": [
       "<Figure size 400x1600 with 1 Axes>"
      ]
     },
     "metadata": {},
     "output_type": "display_data"
    }
   ],
   "source": [
    "hidden,_ = lstm(x)\n",
    "plt.matshow(soft(linr(hidden)).to(\"cpu\").data,cmap=\"bwr\",vmin=-1,vmax=1)"
   ]
  },
  {
   "attachments": {},
   "cell_type": "markdown",
   "metadata": {},
   "source": [
    "hi?와 hi!인 경우를 분리하여 각각 네트워크를 학습시킬 경우, 분리된 데이터에 대해 잘 예측함<br>\n",
    "\n",
    "그런데 hi!와 hi?가 분리되어 있지 않은 전체데이터를 입력으로 줬을때는 전혀 예측을 하지 못하는 모습... 이는 hi!와 hi?를 따로따로 분리하여 학습해서 !가 나오면 hi!만 반복되고 ?가 나오면 hi?만 반복되는 것으로 학습했기 때문이다. 이렇게 학습을 시키면 hi!가 3번나온 뒤 hi?가 3번나오는 데이터를 모델링하지 못한다.연결,흐름,경향은 학습하지 못했기 때문이다."
   ]
  },
  {
   "cell_type": "code",
   "execution_count": 43,
   "metadata": {},
   "outputs": [
    {
     "data": {
      "text/plain": [
       "(torch.Size([8, 2, 4]),\n",
       " torch.Size([17, 4]),\n",
       " torch.Size([8, 2, 4]),\n",
       " torch.Size([17, 4]))"
      ]
     },
     "execution_count": 43,
     "metadata": {},
     "output_type": "execute_result"
    }
   ],
   "source": [
    "yy.shape,y.shape,xx.shape,x.shape"
   ]
  },
  {
   "attachments": {},
   "cell_type": "markdown",
   "metadata": {},
   "source": [
    "## 재미있는 실험\n",
    "`-` x1만 배운네트워크에 x2를 넣는다면?<br>\n",
    "`-` 즉, hi!만 배운 네트워크에 hi?데이터에 대해서 예측하라 하면?"
   ]
  },
  {
   "attachments": {},
   "cell_type": "markdown",
   "metadata": {},
   "source": [
    "준비단계"
   ]
  },
  {
   "cell_type": "code",
   "execution_count": 44,
   "metadata": {},
   "outputs": [],
   "source": [
    "torch.manual_seed(43052)\n",
    "lstm = torch.nn.LSTM(4,10).to(\"cuda\")\n",
    "linr = torch.nn.Linear(10,4).to(\"cuda\")\n",
    "\n",
    "loss_fn = torch.nn.CrossEntropyLoss()\n",
    "optimizer= torch.optim.Adam(list(lstm.parameters())+list(linr.parameters()),lr=0.1)"
   ]
  },
  {
   "cell_type": "code",
   "execution_count": 45,
   "metadata": {},
   "outputs": [],
   "source": [
    "for epoch in range(100):\n",
    "    ##1 output\n",
    "    hidden,(h_T,c_T) = lstm(x1)\n",
    "    output = linr(hidden)\n",
    "    ##2 loss\n",
    "    loss = loss_fn(output,y1)\n",
    "    ##3 derivative\n",
    "    loss.backward()\n",
    "    ##4 update & clean\n",
    "    optimizer.step()\n",
    "    optimizer.zero_grad()"
   ]
  },
  {
   "cell_type": "code",
   "execution_count": 46,
   "metadata": {},
   "outputs": [
    {
     "data": {
      "text/plain": [
       "<matplotlib.image.AxesImage at 0x16566df0760>"
      ]
     },
     "execution_count": 46,
     "metadata": {},
     "output_type": "execute_result"
    },
    {
     "data": {
      "image/png": "[encoded data removed]",
      "text/plain": [
       "<Figure size 400x800 with 1 Axes>"
      ]
     },
     "metadata": {},
     "output_type": "display_data"
    }
   ],
   "source": [
    "hidden,(h_T,c_T) = lstm(x2)\n",
    "plt.matshow(soft(linr(hidden)).data.to(\"cpu\"),cmap=\"bwr\",vmin=-1,vmax=1)"
   ]
  },
  {
   "attachments": {},
   "cell_type": "markdown",
   "metadata": {},
   "source": [
    "hi?를 넣어도 hi!로 예측함!<br>\n",
    "만약 x2만 넣은 경우도 마찬가지 결과가 나온다(생략)"
   ]
  },
  {
   "attachments": {},
   "cell_type": "markdown",
   "metadata": {},
   "source": [
    "정리 : 하나의 긴 시계열 데이터를 n개의 배치들로 나누어서 학습할 수 있다. 다만 이러한 경우에 전체시계열데이터의를 네트워크에 학습시키는 것이 아니기 때문에 전체적인 패턴,흐름,연결은 학습하지 못한다."
   ]
  },
  {
   "attachments": {},
   "cell_type": "markdown",
   "metadata": {},
   "source": [
    "## 왜 배치로 나눠서 시계열 데이터를 학습해야 하는가?\n",
    "1. 속도가 빠르다.\n",
    "2. 연결,흐름을 파악하지 않아도 되는 독립적인 시계열 데이터셋이 있는 경우도 있다.(예를들어,독립적인 여러개의 댓글이 있는 시계열 데이터셋의 경우)\n",
    "3. 이해하지 못했다 ... ㅜㅜ"
   ]
  },
  {
   "attachments": {},
   "cell_type": "markdown",
   "metadata": {},
   "source": [
    "참고<br>\n",
    "배치사이즈는 배치가 몇개인가? or 배치안에 있는 원소가 몇개인가? 두가지 서로다른 의미가 있다. document별로 알아서 해석해야 한다."
   ]
  },
  {
   "attachments": {},
   "cell_type": "markdown",
   "metadata": {},
   "source": [
    "## 똑같은 코드들 fastai,pytorch"
   ]
  },
  {
   "cell_type": "code",
   "execution_count": 47,
   "metadata": {},
   "outputs": [],
   "source": [
    "txt = (['one',',','two',',','three',',','four',',','five',',']*100)[:-1]"
   ]
  },
  {
   "cell_type": "code",
   "execution_count": 48,
   "metadata": {},
   "outputs": [
    {
     "data": {
      "text/plain": [
       "{',': 0, 'one': 1, 'two': 2, 'three': 3, 'four': 4, 'five': 5}"
      ]
     },
     "execution_count": 48,
     "metadata": {},
     "output_type": "execute_result"
    }
   ],
   "source": [
    "mapping = {',':0, 'one':1, 'two':2, 'three':3, 'four':4, 'five':5} \n",
    "mapping"
   ]
  },
  {
   "cell_type": "code",
   "execution_count": 49,
   "metadata": {},
   "outputs": [],
   "source": [
    "txt_x = txt[:-1]\n",
    "txt_y = txt[1:]"
   ]
  },
  {
   "cell_type": "code",
   "execution_count": 50,
   "metadata": {},
   "outputs": [
    {
     "data": {
      "text/plain": [
       "(['one', ',', 'two', ',', 'three'], [',', 'two', ',', 'three', ','])"
      ]
     },
     "execution_count": 50,
     "metadata": {},
     "output_type": "execute_result"
    }
   ],
   "source": [
    "txt_x[0:5], txt_y[0:5]"
   ]
  },
  {
   "cell_type": "code",
   "execution_count": 51,
   "metadata": {},
   "outputs": [],
   "source": [
    "x = torch.nn.functional.one_hot(torch.tensor(f(txt_x,mapping))).float().to(\"cuda\")\n",
    "y = torch.nn.functional.one_hot(torch.tensor(f(txt_y,mapping))).float().to(\"cuda\")"
   ]
  },
  {
   "attachments": {},
   "cell_type": "markdown",
   "metadata": {},
   "source": [
    "## fastai 사용"
   ]
  },
  {
   "cell_type": "code",
   "execution_count": 52,
   "metadata": {},
   "outputs": [],
   "source": [
    "from fastai.text.all import *\n",
    "#import pytorch_lightning as pl \n",
    "tr_ds = torch.utils.data.TensorDataset(x,y) \n",
    "val_ds = torch.utils.data.TensorDataset(x,y) #dummy,validation이 있다고 가정\n",
    "tr_ldr = torch.utils.data.DataLoader(tr_ds,batch_size=998) #한개의 배치안에 998개의 원소가 있도록\n",
    "val_ldr = torch.utils.data.DataLoader(val_ds,batch_size=998)\n",
    "dls = DataLoaders(tr_ldr,val_ldr)"
   ]
  },
  {
   "cell_type": "code",
   "execution_count": 53,
   "metadata": {},
   "outputs": [],
   "source": [
    "class MyLSTM(torch.nn.Module):\n",
    "    def __init__(self):\n",
    "        super().__init__()\n",
    "        torch.manual_seed(43052)\n",
    "        self.lstm = torch.nn.LSTM(6,20)\n",
    "        self.linr = torch.nn.Linear(20,6) \n",
    "    def forward(self,x):\n",
    "        _water = torch.zeros(1,20).to(\"cuda:0\")\n",
    "        hidden, (hT,cT) =self.lstm(x,(_water,_water))\n",
    "        output = self.linr(hidden)\n",
    "        return output         "
   ]
  },
  {
   "cell_type": "code",
   "execution_count": 54,
   "metadata": {},
   "outputs": [],
   "source": [
    "net = MyLSTM().to(\"cuda\")\n",
    "loss_fn = torch.nn.CrossEntropyLoss()\n",
    "#optimizer 생략(fastai 구현시)\n",
    "lrnr = Learner(dls,net,loss_fn,lr = 0.1)"
   ]
  },
  {
   "cell_type": "code",
   "execution_count": 55,
   "metadata": {},
   "outputs": [
    {
     "data": {
      "text/html": [
       "\n",
       "<style>\n",
       "    /* Turns off some styling */\n",
       "    progress {\n",
       "        /* gets rid of default border in Firefox and Opera. */\n",
       "        border: none;\n",
       "        /* Needs to be in here for Safari polyfill so background images work as expected. */\n",
       "        background-size: auto;\n",
       "    }\n",
       "    progress:not([value]), progress:not([value])::-webkit-progress-bar {\n",
       "        background: repeating-linear-gradient(45deg, #7e7e7e, #7e7e7e 10px, #5c5c5c 10px, #5c5c5c 20px);\n",
       "    }\n",
       "    .progress-bar-interrupted, .progress-bar-interrupted::-webkit-progress-bar {\n",
       "        background: #F44336;\n",
       "    }\n",
       "</style>\n"
      ],
      "text/plain": [
       "<IPython.core.display.HTML object>"
      ]
     },
     "metadata": {},
     "output_type": "display_data"
    },
    {
     "data": {
      "text/html": [
       "<table border=\"1\" class=\"dataframe\">\n",
       "  <thead>\n",
       "    <tr style=\"text-align: left;\">\n",
       "      <th>epoch</th>\n",
       "      <th>train_loss</th>\n",
       "      <th>valid_loss</th>\n",
       "      <th>time</th>\n",
       "    </tr>\n",
       "  </thead>\n",
       "  <tbody>\n",
       "    <tr>\n",
       "      <td>0</td>\n",
       "      <td>1.762846</td>\n",
       "      <td>1.502211</td>\n",
       "      <td>00:00</td>\n",
       "    </tr>\n",
       "    <tr>\n",
       "      <td>1</td>\n",
       "      <td>1.631212</td>\n",
       "      <td>1.620583</td>\n",
       "      <td>00:00</td>\n",
       "    </tr>\n",
       "    <tr>\n",
       "      <td>2</td>\n",
       "      <td>1.627597</td>\n",
       "      <td>1.443686</td>\n",
       "      <td>00:00</td>\n",
       "    </tr>\n",
       "    <tr>\n",
       "      <td>3</td>\n",
       "      <td>1.580216</td>\n",
       "      <td>1.368762</td>\n",
       "      <td>00:00</td>\n",
       "    </tr>\n",
       "    <tr>\n",
       "      <td>4</td>\n",
       "      <td>1.536200</td>\n",
       "      <td>1.307310</td>\n",
       "      <td>00:00</td>\n",
       "    </tr>\n",
       "    <tr>\n",
       "      <td>5</td>\n",
       "      <td>1.496099</td>\n",
       "      <td>1.216339</td>\n",
       "      <td>00:00</td>\n",
       "    </tr>\n",
       "    <tr>\n",
       "      <td>6</td>\n",
       "      <td>1.453670</td>\n",
       "      <td>1.113821</td>\n",
       "      <td>00:00</td>\n",
       "    </tr>\n",
       "    <tr>\n",
       "      <td>7</td>\n",
       "      <td>1.408125</td>\n",
       "      <td>1.019931</td>\n",
       "      <td>00:00</td>\n",
       "    </tr>\n",
       "    <tr>\n",
       "      <td>8</td>\n",
       "      <td>1.361426</td>\n",
       "      <td>0.941434</td>\n",
       "      <td>00:00</td>\n",
       "    </tr>\n",
       "    <tr>\n",
       "      <td>9</td>\n",
       "      <td>1.315507</td>\n",
       "      <td>0.884033</td>\n",
       "      <td>00:00</td>\n",
       "    </tr>\n",
       "    <tr>\n",
       "      <td>10</td>\n",
       "      <td>1.272201</td>\n",
       "      <td>0.848489</td>\n",
       "      <td>00:00</td>\n",
       "    </tr>\n",
       "    <tr>\n",
       "      <td>11</td>\n",
       "      <td>1.232838</td>\n",
       "      <td>0.826641</td>\n",
       "      <td>00:00</td>\n",
       "    </tr>\n",
       "    <tr>\n",
       "      <td>12</td>\n",
       "      <td>1.197666</td>\n",
       "      <td>0.814630</td>\n",
       "      <td>00:00</td>\n",
       "    </tr>\n",
       "    <tr>\n",
       "      <td>13</td>\n",
       "      <td>1.166570</td>\n",
       "      <td>0.809186</td>\n",
       "      <td>00:00</td>\n",
       "    </tr>\n",
       "    <tr>\n",
       "      <td>14</td>\n",
       "      <td>1.139229</td>\n",
       "      <td>0.805969</td>\n",
       "      <td>00:00</td>\n",
       "    </tr>\n",
       "    <tr>\n",
       "      <td>15</td>\n",
       "      <td>1.115098</td>\n",
       "      <td>0.798611</td>\n",
       "      <td>00:00</td>\n",
       "    </tr>\n",
       "    <tr>\n",
       "      <td>16</td>\n",
       "      <td>1.093322</td>\n",
       "      <td>0.779956</td>\n",
       "      <td>00:00</td>\n",
       "    </tr>\n",
       "    <tr>\n",
       "      <td>17</td>\n",
       "      <td>1.072764</td>\n",
       "      <td>0.746476</td>\n",
       "      <td>00:00</td>\n",
       "    </tr>\n",
       "    <tr>\n",
       "      <td>18</td>\n",
       "      <td>1.052292</td>\n",
       "      <td>0.703937</td>\n",
       "      <td>00:00</td>\n",
       "    </tr>\n",
       "    <tr>\n",
       "      <td>19</td>\n",
       "      <td>1.031332</td>\n",
       "      <td>0.643301</td>\n",
       "      <td>00:00</td>\n",
       "    </tr>\n",
       "    <tr>\n",
       "      <td>20</td>\n",
       "      <td>1.008886</td>\n",
       "      <td>0.574666</td>\n",
       "      <td>00:00</td>\n",
       "    </tr>\n",
       "    <tr>\n",
       "      <td>21</td>\n",
       "      <td>0.984684</td>\n",
       "      <td>0.496858</td>\n",
       "      <td>00:00</td>\n",
       "    </tr>\n",
       "    <tr>\n",
       "      <td>22</td>\n",
       "      <td>0.958432</td>\n",
       "      <td>0.423367</td>\n",
       "      <td>00:00</td>\n",
       "    </tr>\n",
       "    <tr>\n",
       "      <td>23</td>\n",
       "      <td>0.930580</td>\n",
       "      <td>0.360229</td>\n",
       "      <td>00:00</td>\n",
       "    </tr>\n",
       "    <tr>\n",
       "      <td>24</td>\n",
       "      <td>0.901813</td>\n",
       "      <td>0.301070</td>\n",
       "      <td>00:00</td>\n",
       "    </tr>\n",
       "    <tr>\n",
       "      <td>25</td>\n",
       "      <td>0.872408</td>\n",
       "      <td>0.251317</td>\n",
       "      <td>00:00</td>\n",
       "    </tr>\n",
       "    <tr>\n",
       "      <td>26</td>\n",
       "      <td>0.842863</td>\n",
       "      <td>0.199397</td>\n",
       "      <td>00:00</td>\n",
       "    </tr>\n",
       "    <tr>\n",
       "      <td>27</td>\n",
       "      <td>0.813075</td>\n",
       "      <td>0.151757</td>\n",
       "      <td>00:00</td>\n",
       "    </tr>\n",
       "    <tr>\n",
       "      <td>28</td>\n",
       "      <td>0.783244</td>\n",
       "      <td>0.109921</td>\n",
       "      <td>00:00</td>\n",
       "    </tr>\n",
       "    <tr>\n",
       "      <td>29</td>\n",
       "      <td>0.753616</td>\n",
       "      <td>0.079872</td>\n",
       "      <td>00:00</td>\n",
       "    </tr>\n",
       "  </tbody>\n",
       "</table>"
      ],
      "text/plain": [
       "<IPython.core.display.HTML object>"
      ]
     },
     "metadata": {},
     "output_type": "display_data"
    }
   ],
   "source": [
    "lrnr.fit(30)"
   ]
  },
  {
   "cell_type": "code",
   "execution_count": 56,
   "metadata": {},
   "outputs": [
    {
     "data": {
      "text/plain": [
       "array([[0.998, 0.   , 0.002, 0.   , 0.   , 0.   ],\n",
       "       [0.   , 0.018, 0.514, 0.097, 0.096, 0.275],\n",
       "       [1.   , 0.   , 0.   , 0.   , 0.   , 0.   ],\n",
       "       ...,\n",
       "       [0.001, 0.002, 0.025, 0.001, 0.938, 0.033],\n",
       "       [1.   , 0.   , 0.   , 0.   , 0.   , 0.   ],\n",
       "       [0.   , 0.066, 0.049, 0.005, 0.079, 0.8  ]], dtype=float32)"
      ]
     },
     "execution_count": 56,
     "metadata": {},
     "output_type": "execute_result"
    }
   ],
   "source": [
    "soft(lrnr.model(x)).data.to(\"cpu\").numpy().round(3)"
   ]
  },
  {
   "attachments": {},
   "cell_type": "markdown",
   "metadata": {},
   "source": [
    "## torch사용"
   ]
  },
  {
   "cell_type": "code",
   "execution_count": 58,
   "metadata": {},
   "outputs": [],
   "source": [
    "torch.manual_seed(43052) \n",
    "lstm = torch.nn.LSTM(6,20).to(\"cuda:0\") \n",
    "linr = torch.nn.Linear(20,6).to(\"cuda:0\") \n",
    "loss_fn = torch.nn.CrossEntropyLoss()\n",
    "optimizr = Adam(list(lstm.parameters())+list(linr.parameters()),lr=0.1)\n",
    "#동일함을 보이기 위해 fastai의 Adam사용"
   ]
  },
  {
   "cell_type": "code",
   "execution_count": 59,
   "metadata": {},
   "outputs": [],
   "source": [
    "for epoc in range(10):\n",
    "    ## 1 \n",
    "    hidden, _ = lstm(x)\n",
    "    output = linr(hidden) \n",
    "    ## 2 \n",
    "    loss = loss_fn(output,y) \n",
    "    ## 3 \n",
    "    loss.backward()\n",
    "    ## 4 \n",
    "    optimizr.step()\n",
    "    optimizr.zero_grad()     "
   ]
  },
  {
   "cell_type": "code",
   "execution_count": 60,
   "metadata": {},
   "outputs": [
    {
     "data": {
      "text/plain": [
       "array([[0.935, 0.009, 0.015, 0.011, 0.016, 0.014],\n",
       "       [0.133, 0.164, 0.242, 0.172, 0.141, 0.147],\n",
       "       [0.982, 0.003, 0.004, 0.003, 0.004, 0.003],\n",
       "       ...,\n",
       "       [0.122, 0.171, 0.242, 0.174, 0.146, 0.144],\n",
       "       [0.984, 0.003, 0.004, 0.002, 0.004, 0.003],\n",
       "       [0.119, 0.172, 0.244, 0.175, 0.145, 0.145]], dtype=float32)"
      ]
     },
     "execution_count": 60,
     "metadata": {},
     "output_type": "execute_result"
    }
   ],
   "source": [
    "hidden, _ = lstm(x)\n",
    "output = linr(hidden) \n",
    "soft(output).data.to(\"cpu\").numpy().round(3)"
   ]
  },
  {
   "attachments": {},
   "cell_type": "markdown",
   "metadata": {},
   "source": [
    "## human numbers 100"
   ]
  },
  {
   "cell_type": "code",
   "execution_count": 61,
   "metadata": {},
   "outputs": [
    {
     "data": {
      "text/html": [
       "<div>\n",
       "<style scoped>\n",
       "    .dataframe tbody tr th:only-of-type {\n",
       "        vertical-align: middle;\n",
       "    }\n",
       "\n",
       "    .dataframe tbody tr th {\n",
       "        vertical-align: top;\n",
       "    }\n",
       "\n",
       "    .dataframe thead th {\n",
       "        text-align: right;\n",
       "    }\n",
       "</style>\n",
       "<table border=\"1\" class=\"dataframe\">\n",
       "  <thead>\n",
       "    <tr style=\"text-align: right;\">\n",
       "      <th></th>\n",
       "      <th>text</th>\n",
       "    </tr>\n",
       "  </thead>\n",
       "  <tbody>\n",
       "    <tr>\n",
       "      <th>0</th>\n",
       "      <td>one, two, three, four, five, six, seven, eight, nine, ten, eleven, twelve, thirteen, fourteen, fifteen, sixteen, seventeen, eighteen, nineteen, twenty, twenty one, twenty two, twenty three, twenty four, twenty five, twenty six, twenty seven, twenty eight, twenty nine, thirty, thirty one, thirty two, thirty three, thirty four, thirty five, thirty six, thirty seven, thirty eight, thirty nine, forty, forty one, forty two, forty three, forty four, forty five, forty six, forty seven, forty eight, forty nine, fifty, fifty one, fifty two, fifty three, fifty four, fifty five, fifty six, fifty seve...</td>\n",
       "    </tr>\n",
       "    <tr>\n",
       "      <th>1</th>\n",
       "      <td>one, two, three, four, five, six, seven, eight, nine, ten, eleven, twelve, thirteen, fourteen, fifteen, sixteen, seventeen, eighteen, nineteen, twenty, twenty one, twenty two, twenty three, twenty four, twenty five, twenty six, twenty seven, twenty eight, twenty nine, thirty, thirty one, thirty two, thirty three, thirty four, thirty five, thirty six, thirty seven, thirty eight, thirty nine, forty, forty one, forty two, forty three, forty four, forty five, forty six, forty seven, forty eight, forty nine, fifty, fifty one, fifty two, fifty three, fifty four, fifty five, fifty six, fifty seve...</td>\n",
       "    </tr>\n",
       "    <tr>\n",
       "      <th>2</th>\n",
       "      <td>one, two, three, four, five, six, seven, eight, nine, ten, eleven, twelve, thirteen, fourteen, fifteen, sixteen, seventeen, eighteen, nineteen, twenty, twenty one, twenty two, twenty three, twenty four, twenty five, twenty six, twenty seven, twenty eight, twenty nine, thirty, thirty one, thirty two, thirty three, thirty four, thirty five, thirty six, thirty seven, thirty eight, thirty nine, forty, forty one, forty two, forty three, forty four, forty five, forty six, forty seven, forty eight, forty nine, fifty, fifty one, fifty two, fifty three, fifty four, fifty five, fifty six, fifty seve...</td>\n",
       "    </tr>\n",
       "    <tr>\n",
       "      <th>3</th>\n",
       "      <td>one, two, three, four, five, six, seven, eight, nine, ten, eleven, twelve, thirteen, fourteen, fifteen, sixteen, seventeen, eighteen, nineteen, twenty, twenty one, twenty two, twenty three, twenty four, twenty five, twenty six, twenty seven, twenty eight, twenty nine, thirty, thirty one, thirty two, thirty three, thirty four, thirty five, thirty six, thirty seven, thirty eight, thirty nine, forty, forty one, forty two, forty three, forty four, forty five, forty six, forty seven, forty eight, forty nine, fifty, fifty one, fifty two, fifty three, fifty four, fifty five, fifty six, fifty seve...</td>\n",
       "    </tr>\n",
       "    <tr>\n",
       "      <th>4</th>\n",
       "      <td>one, two, three, four, five, six, seven, eight, nine, ten, eleven, twelve, thirteen, fourteen, fifteen, sixteen, seventeen, eighteen, nineteen, twenty, twenty one, twenty two, twenty three, twenty four, twenty five, twenty six, twenty seven, twenty eight, twenty nine, thirty, thirty one, thirty two, thirty three, thirty four, thirty five, thirty six, thirty seven, thirty eight, thirty nine, forty, forty one, forty two, forty three, forty four, forty five, forty six, forty seven, forty eight, forty nine, fifty, fifty one, fifty two, fifty three, fifty four, fifty five, fifty six, fifty seve...</td>\n",
       "    </tr>\n",
       "    <tr>\n",
       "      <th>...</th>\n",
       "      <td>...</td>\n",
       "    </tr>\n",
       "    <tr>\n",
       "      <th>1995</th>\n",
       "      <td>one, two, three, four, five, six, seven, eight, nine, ten, eleven, twelve, thirteen, fourteen, fifteen, sixteen, seventeen, eighteen, nineteen, twenty, twenty one, twenty two, twenty three, twenty four, twenty five, twenty six, twenty seven, twenty eight, twenty nine, thirty, thirty one, thirty two, thirty three, thirty four, thirty five, thirty six, thirty seven, thirty eight, thirty nine, forty, forty one, forty two, forty three, forty four, forty five, forty six, forty seven, forty eight, forty nine, fifty, fifty one, fifty two, fifty three, fifty four, fifty five, fifty six, fifty seve...</td>\n",
       "    </tr>\n",
       "    <tr>\n",
       "      <th>1996</th>\n",
       "      <td>one, two, three, four, five, six, seven, eight, nine, ten, eleven, twelve, thirteen, fourteen, fifteen, sixteen, seventeen, eighteen, nineteen, twenty, twenty one, twenty two, twenty three, twenty four, twenty five, twenty six, twenty seven, twenty eight, twenty nine, thirty, thirty one, thirty two, thirty three, thirty four, thirty five, thirty six, thirty seven, thirty eight, thirty nine, forty, forty one, forty two, forty three, forty four, forty five, forty six, forty seven, forty eight, forty nine, fifty, fifty one, fifty two, fifty three, fifty four, fifty five, fifty six, fifty seve...</td>\n",
       "    </tr>\n",
       "    <tr>\n",
       "      <th>1997</th>\n",
       "      <td>one, two, three, four, five, six, seven, eight, nine, ten, eleven, twelve, thirteen, fourteen, fifteen, sixteen, seventeen, eighteen, nineteen, twenty, twenty one, twenty two, twenty three, twenty four, twenty five, twenty six, twenty seven, twenty eight, twenty nine, thirty, thirty one, thirty two, thirty three, thirty four, thirty five, thirty six, thirty seven, thirty eight, thirty nine, forty, forty one, forty two, forty three, forty four, forty five, forty six, forty seven, forty eight, forty nine, fifty, fifty one, fifty two, fifty three, fifty four, fifty five, fifty six, fifty seve...</td>\n",
       "    </tr>\n",
       "    <tr>\n",
       "      <th>1998</th>\n",
       "      <td>one, two, three, four, five, six, seven, eight, nine, ten, eleven, twelve, thirteen, fourteen, fifteen, sixteen, seventeen, eighteen, nineteen, twenty, twenty one, twenty two, twenty three, twenty four, twenty five, twenty six, twenty seven, twenty eight, twenty nine, thirty, thirty one, thirty two, thirty three, thirty four, thirty five, thirty six, thirty seven, thirty eight, thirty nine, forty, forty one, forty two, forty three, forty four, forty five, forty six, forty seven, forty eight, forty nine, fifty, fifty one, fifty two, fifty three, fifty four, fifty five, fifty six, fifty seve...</td>\n",
       "    </tr>\n",
       "    <tr>\n",
       "      <th>1999</th>\n",
       "      <td>one, two, three, four, five, six, seven, eight, nine, ten, eleven, twelve, thirteen, fourteen, fifteen, sixteen, seventeen, eighteen, nineteen, twenty, twenty one, twenty two, twenty three, twenty four, twenty five, twenty six, twenty seven, twenty eight, twenty nine, thirty, thirty one, thirty two, thirty three, thirty four, thirty five, thirty six, thirty seven, thirty eight, thirty nine, forty, forty one, forty two, forty three, forty four, forty five, forty six, forty seven, forty eight, forty nine, fifty, fifty one, fifty two, fifty three, fifty four, fifty five, fifty six, fifty seve...</td>\n",
       "    </tr>\n",
       "  </tbody>\n",
       "</table>\n",
       "<p>2000 rows × 1 columns</p>\n",
       "</div>"
      ],
      "text/plain": [
       "                                                                                                                                                                                                                                                                                                                                                                                                                                                                                                                                                                                                                         text\n",
       "0     one, two, three, four, five, six, seven, eight, nine, ten, eleven, twelve, thirteen, fourteen, fifteen, sixteen, seventeen, eighteen, nineteen, twenty, twenty one, twenty two, twenty three, twenty four, twenty five, twenty six, twenty seven, twenty eight, twenty nine, thirty, thirty one, thirty two, thirty three, thirty four, thirty five, thirty six, thirty seven, thirty eight, thirty nine, forty, forty one, forty two, forty three, forty four, forty five, forty six, forty seven, forty eight, forty nine, fifty, fifty one, fifty two, fifty three, fifty four, fifty five, fifty six, fifty seve...\n",
       "1     one, two, three, four, five, six, seven, eight, nine, ten, eleven, twelve, thirteen, fourteen, fifteen, sixteen, seventeen, eighteen, nineteen, twenty, twenty one, twenty two, twenty three, twenty four, twenty five, twenty six, twenty seven, twenty eight, twenty nine, thirty, thirty one, thirty two, thirty three, thirty four, thirty five, thirty six, thirty seven, thirty eight, thirty nine, forty, forty one, forty two, forty three, forty four, forty five, forty six, forty seven, forty eight, forty nine, fifty, fifty one, fifty two, fifty three, fifty four, fifty five, fifty six, fifty seve...\n",
       "2     one, two, three, four, five, six, seven, eight, nine, ten, eleven, twelve, thirteen, fourteen, fifteen, sixteen, seventeen, eighteen, nineteen, twenty, twenty one, twenty two, twenty three, twenty four, twenty five, twenty six, twenty seven, twenty eight, twenty nine, thirty, thirty one, thirty two, thirty three, thirty four, thirty five, thirty six, thirty seven, thirty eight, thirty nine, forty, forty one, forty two, forty three, forty four, forty five, forty six, forty seven, forty eight, forty nine, fifty, fifty one, fifty two, fifty three, fifty four, fifty five, fifty six, fifty seve...\n",
       "3     one, two, three, four, five, six, seven, eight, nine, ten, eleven, twelve, thirteen, fourteen, fifteen, sixteen, seventeen, eighteen, nineteen, twenty, twenty one, twenty two, twenty three, twenty four, twenty five, twenty six, twenty seven, twenty eight, twenty nine, thirty, thirty one, thirty two, thirty three, thirty four, thirty five, thirty six, thirty seven, thirty eight, thirty nine, forty, forty one, forty two, forty three, forty four, forty five, forty six, forty seven, forty eight, forty nine, fifty, fifty one, fifty two, fifty three, fifty four, fifty five, fifty six, fifty seve...\n",
       "4     one, two, three, four, five, six, seven, eight, nine, ten, eleven, twelve, thirteen, fourteen, fifteen, sixteen, seventeen, eighteen, nineteen, twenty, twenty one, twenty two, twenty three, twenty four, twenty five, twenty six, twenty seven, twenty eight, twenty nine, thirty, thirty one, thirty two, thirty three, thirty four, thirty five, thirty six, thirty seven, thirty eight, thirty nine, forty, forty one, forty two, forty three, forty four, forty five, forty six, forty seven, forty eight, forty nine, fifty, fifty one, fifty two, fifty three, fifty four, fifty five, fifty six, fifty seve...\n",
       "...                                                                                                                                                                                                                                                                                                                                                                                                                                                                                                                                                                                                                       ...\n",
       "1995  one, two, three, four, five, six, seven, eight, nine, ten, eleven, twelve, thirteen, fourteen, fifteen, sixteen, seventeen, eighteen, nineteen, twenty, twenty one, twenty two, twenty three, twenty four, twenty five, twenty six, twenty seven, twenty eight, twenty nine, thirty, thirty one, thirty two, thirty three, thirty four, thirty five, thirty six, thirty seven, thirty eight, thirty nine, forty, forty one, forty two, forty three, forty four, forty five, forty six, forty seven, forty eight, forty nine, fifty, fifty one, fifty two, fifty three, fifty four, fifty five, fifty six, fifty seve...\n",
       "1996  one, two, three, four, five, six, seven, eight, nine, ten, eleven, twelve, thirteen, fourteen, fifteen, sixteen, seventeen, eighteen, nineteen, twenty, twenty one, twenty two, twenty three, twenty four, twenty five, twenty six, twenty seven, twenty eight, twenty nine, thirty, thirty one, thirty two, thirty three, thirty four, thirty five, thirty six, thirty seven, thirty eight, thirty nine, forty, forty one, forty two, forty three, forty four, forty five, forty six, forty seven, forty eight, forty nine, fifty, fifty one, fifty two, fifty three, fifty four, fifty five, fifty six, fifty seve...\n",
       "1997  one, two, three, four, five, six, seven, eight, nine, ten, eleven, twelve, thirteen, fourteen, fifteen, sixteen, seventeen, eighteen, nineteen, twenty, twenty one, twenty two, twenty three, twenty four, twenty five, twenty six, twenty seven, twenty eight, twenty nine, thirty, thirty one, thirty two, thirty three, thirty four, thirty five, thirty six, thirty seven, thirty eight, thirty nine, forty, forty one, forty two, forty three, forty four, forty five, forty six, forty seven, forty eight, forty nine, fifty, fifty one, fifty two, fifty three, fifty four, fifty five, fifty six, fifty seve...\n",
       "1998  one, two, three, four, five, six, seven, eight, nine, ten, eleven, twelve, thirteen, fourteen, fifteen, sixteen, seventeen, eighteen, nineteen, twenty, twenty one, twenty two, twenty three, twenty four, twenty five, twenty six, twenty seven, twenty eight, twenty nine, thirty, thirty one, thirty two, thirty three, thirty four, thirty five, thirty six, thirty seven, thirty eight, thirty nine, forty, forty one, forty two, forty three, forty four, forty five, forty six, forty seven, forty eight, forty nine, fifty, fifty one, fifty two, fifty three, fifty four, fifty five, fifty six, fifty seve...\n",
       "1999  one, two, three, four, five, six, seven, eight, nine, ten, eleven, twelve, thirteen, fourteen, fifteen, sixteen, seventeen, eighteen, nineteen, twenty, twenty one, twenty two, twenty three, twenty four, twenty five, twenty six, twenty seven, twenty eight, twenty nine, thirty, thirty one, thirty two, thirty three, thirty four, thirty five, thirty six, thirty seven, thirty eight, thirty nine, forty, forty one, forty two, forty three, forty four, forty five, forty six, forty seven, forty eight, forty nine, fifty, fifty one, fifty two, fifty three, fifty four, fifty five, fifty six, fifty seve...\n",
       "\n",
       "[2000 rows x 1 columns]"
      ]
     },
     "execution_count": 61,
     "metadata": {},
     "output_type": "execute_result"
    }
   ],
   "source": [
    "df = pd.read_csv('https://raw.githubusercontent.com/guebin/DL2022/main/posts/IV.%20RNN/2022-11-25-human_numbers_100.csv')\n",
    "df"
   ]
  },
  {
   "attachments": {},
   "cell_type": "markdown",
   "metadata": {},
   "source": [
    "### 생략 .. 귀찮음"
   ]
  },
  {
   "cell_type": "code",
   "execution_count": 62,
   "metadata": {},
   "outputs": [
    {
     "name": "stdout",
     "output_type": "stream",
     "text": [
      "Due to IPython and Windows limitation, python multiprocessing isn't available now.\n",
      "So `n_workers` has to be changed to 0 to avoid getting stuck\n"
     ]
    },
    {
     "data": {
      "text/html": [
       "<table border=\"1\" class=\"dataframe\">\n",
       "  <thead>\n",
       "    <tr style=\"text-align: right;\">\n",
       "      <th></th>\n",
       "      <th>text</th>\n",
       "      <th>text_</th>\n",
       "    </tr>\n",
       "  </thead>\n",
       "  <tbody>\n",
       "    <tr>\n",
       "      <th>0</th>\n",
       "      <td>xxbos one , two ,</td>\n",
       "      <td>one , two , three</td>\n",
       "    </tr>\n",
       "    <tr>\n",
       "      <th>1</th>\n",
       "      <td>hundred xxbos one , two</td>\n",
       "      <td>xxbos one , two ,</td>\n",
       "    </tr>\n",
       "    <tr>\n",
       "      <th>2</th>\n",
       "      <td>one hundred xxbos one ,</td>\n",
       "      <td>hundred xxbos one , two</td>\n",
       "    </tr>\n",
       "    <tr>\n",
       "      <th>3</th>\n",
       "      <td>, one hundred xxbos one</td>\n",
       "      <td>one hundred xxbos one ,</td>\n",
       "    </tr>\n",
       "    <tr>\n",
       "      <th>4</th>\n",
       "      <td>nine , one hundred xxbos</td>\n",
       "      <td>, one hundred xxbos one</td>\n",
       "    </tr>\n",
       "    <tr>\n",
       "      <th>5</th>\n",
       "      <td>ninety nine , one hundred</td>\n",
       "      <td>nine , one hundred xxbos</td>\n",
       "    </tr>\n",
       "    <tr>\n",
       "      <th>6</th>\n",
       "      <td>, ninety nine , one</td>\n",
       "      <td>ninety nine , one hundred</td>\n",
       "    </tr>\n",
       "    <tr>\n",
       "      <th>7</th>\n",
       "      <td>eight , ninety nine ,</td>\n",
       "      <td>, ninety nine , one</td>\n",
       "    </tr>\n",
       "    <tr>\n",
       "      <th>8</th>\n",
       "      <td>ninety eight , ninety nine</td>\n",
       "      <td>eight , ninety nine ,</td>\n",
       "    </tr>\n",
       "  </tbody>\n",
       "</table>"
      ],
      "text/plain": [
       "<IPython.core.display.HTML object>"
      ]
     },
     "metadata": {},
     "output_type": "display_data"
    }
   ],
   "source": [
    "dls = TextDataLoaders.from_df(df,is_lm=True,seq_len=5,text_col='text')\n",
    "dls.show_batch()"
   ]
  }
 ],
 "metadata": {
  "kernelspec": {
   "display_name": "base",
   "language": "python",
   "name": "python3"
  },
  "language_info": {
   "codemirror_mode": {
    "name": "ipython",
    "version": 3
   },
   "file_extension": ".py",
   "mimetype": "text/x-python",
   "name": "python",
   "nbconvert_exporter": "python",
   "pygments_lexer": "ipython3",
   "version": "3.9.13"
  },
  "orig_nbformat": 4,
  "vscode": {
   "interpreter": {
    "hash": "0478b8cb1c47bafb71305148a49d30528a4d9c22ca2de336c01aa5a8230a459a"
   }
  }
 },
 "nbformat": 4,
 "nbformat_minor": 2
}
