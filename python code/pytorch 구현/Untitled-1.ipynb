{
 "cells": [
  {
   "cell_type": "raw",
   "metadata": {},
   "source": [
    "---\n",
    "title: \"Untitled\"\n",
    "format: html\n",
    "---"
   ]
  },
  {
   "attachments": {},
   "cell_type": "markdown",
   "metadata": {},
   "source": [
    "## setting"
   ]
  },
  {
   "cell_type": "code",
   "execution_count": 70,
   "metadata": {},
   "outputs": [],
   "source": [
    "import torch"
   ]
  },
  {
   "cell_type": "code",
   "execution_count": 71,
   "metadata": {},
   "outputs": [],
   "source": [
    "def f(txt,mapping):\n",
    "    return [mapping[chr] for chr in txt]"
   ]
  },
  {
   "attachments": {},
   "cell_type": "markdown",
   "metadata": {},
   "source": [
    "## data"
   ]
  },
  {
   "cell_type": "code",
   "execution_count": 72,
   "metadata": {},
   "outputs": [],
   "source": [
    "txt = list('hi!')*3 + list('hi?')*3 \n",
    "txt_x = txt[:-1] \n",
    "txt_y = txt[1:] "
   ]
  },
  {
   "cell_type": "code",
   "execution_count": 73,
   "metadata": {},
   "outputs": [],
   "source": [
    "mapping = {'!':0, '?':1, 'h':2, 'i':3} \n",
    "x = torch.nn.functional.one_hot(torch.tensor(f(txt_x,mapping))).float().to(\"cuda:0\")\n",
    "y = torch.nn.functional.one_hot(torch.tensor(f(txt_y,mapping))).float().to(\"cuda:0\")"
   ]
  },
  {
   "cell_type": "code",
   "execution_count": 74,
   "metadata": {},
   "outputs": [],
   "source": [
    "txt1= txt[:9]\n",
    "txt2= txt[9:]"
   ]
  },
  {
   "cell_type": "code",
   "execution_count": 75,
   "metadata": {},
   "outputs": [],
   "source": [
    "txt1_x = txt1[:-1] \n",
    "txt1_y = txt1[1:] \n",
    "txt2_x = txt2[:-1] \n",
    "txt2_y = txt2[1:] "
   ]
  },
  {
   "cell_type": "code",
   "execution_count": 76,
   "metadata": {},
   "outputs": [
    {
     "data": {
      "text/plain": [
       "(torch.Size([8, 4]),\n",
       " torch.Size([8, 4]),\n",
       " torch.Size([8, 4]),\n",
       " torch.Size([8, 4]))"
      ]
     },
     "execution_count": 76,
     "metadata": {},
     "output_type": "execute_result"
    }
   ],
   "source": [
    "mapping = {'!':0, '?':1, 'h':2, 'i':3} \n",
    "x1 = torch.nn.functional.one_hot(torch.tensor(f(txt1_x,mapping))).float().to(\"cuda:0\")\n",
    "y1 = torch.nn.functional.one_hot(torch.tensor(f(txt1_y,mapping))).float().to(\"cuda:0\")\n",
    "x2 = torch.nn.functional.one_hot(torch.tensor(f(txt2_x,mapping))).float().to(\"cuda:0\")\n",
    "y2 = torch.nn.functional.one_hot(torch.tensor(f(txt2_y,mapping))).float().to(\"cuda:0\")\n",
    "x1.shape,y1.shape,x2.shape,y2.shape"
   ]
  },
  {
   "cell_type": "code",
   "execution_count": 77,
   "metadata": {},
   "outputs": [],
   "source": [
    "torch.manual_seed(43052)\n",
    "lstm = torch.nn.LSTM(4,10).to(\"cuda\")\n",
    "linr = torch.nn.Linear(10,4).to(\"cuda\")\n",
    "\n",
    "loss_fn = torch.nn.CrossEntropyLoss()\n",
    "optimizer = torch.optim.Adam(list(lstm.parameters()) + list(linr.parameters()),lr = 0.1)"
   ]
  },
  {
   "cell_type": "code",
   "execution_count": 78,
   "metadata": {},
   "outputs": [
    {
     "data": {
      "text/plain": [
       "(torch.Size([8, 2, 4]), torch.Size([8, 2, 4]))"
      ]
     },
     "execution_count": 78,
     "metadata": {},
     "output_type": "execute_result"
    }
   ],
   "source": [
    "xx = torch.stack([x1,x2],axis=1)\n",
    "yy = torch.stack([y1,y2],axis=1)\n",
    "xx.shape, yy.shape"
   ]
  },
  {
   "cell_type": "code",
   "execution_count": 89,
   "metadata": {},
   "outputs": [
    {
     "name": "stdout",
     "output_type": "stream",
     "text": [
      "torch.Size([8, 2, 4]) torch.Size([8, 2, 4])\n",
      "tensor(0.2599, device='cuda:0', grad_fn=<DivBackward1>)\n",
      "torch.Size([8, 2, 4]) torch.Size([8, 2, 4])\n",
      "torch.Size([8, 2, 4]) torch.Size([8, 2, 4])\n",
      "torch.Size([8, 2, 4]) torch.Size([8, 2, 4])\n",
      "torch.Size([8, 2, 4]) torch.Size([8, 2, 4])\n",
      "torch.Size([8, 2, 4]) torch.Size([8, 2, 4])\n",
      "torch.Size([8, 2, 4]) torch.Size([8, 2, 4])\n",
      "torch.Size([8, 2, 4]) torch.Size([8, 2, 4])\n",
      "torch.Size([8, 2, 4]) torch.Size([8, 2, 4])\n",
      "torch.Size([8, 2, 4]) torch.Size([8, 2, 4])\n",
      "torch.Size([8, 2, 4]) torch.Size([8, 2, 4])\n",
      "tensor(0.2599, device='cuda:0', grad_fn=<DivBackward1>)\n",
      "torch.Size([8, 2, 4]) torch.Size([8, 2, 4])\n",
      "torch.Size([8, 2, 4]) torch.Size([8, 2, 4])\n",
      "torch.Size([8, 2, 4]) torch.Size([8, 2, 4])\n",
      "torch.Size([8, 2, 4]) torch.Size([8, 2, 4])\n",
      "torch.Size([8, 2, 4]) torch.Size([8, 2, 4])\n",
      "torch.Size([8, 2, 4]) torch.Size([8, 2, 4])\n",
      "torch.Size([8, 2, 4]) torch.Size([8, 2, 4])\n",
      "torch.Size([8, 2, 4]) torch.Size([8, 2, 4])\n",
      "torch.Size([8, 2, 4]) torch.Size([8, 2, 4])\n",
      "torch.Size([8, 2, 4]) torch.Size([8, 2, 4])\n",
      "tensor(0.2599, device='cuda:0', grad_fn=<DivBackward1>)\n",
      "torch.Size([8, 2, 4]) torch.Size([8, 2, 4])\n",
      "torch.Size([8, 2, 4]) torch.Size([8, 2, 4])\n",
      "torch.Size([8, 2, 4]) torch.Size([8, 2, 4])\n",
      "torch.Size([8, 2, 4]) torch.Size([8, 2, 4])\n",
      "torch.Size([8, 2, 4]) torch.Size([8, 2, 4])\n",
      "torch.Size([8, 2, 4]) torch.Size([8, 2, 4])\n",
      "torch.Size([8, 2, 4]) torch.Size([8, 2, 4])\n",
      "torch.Size([8, 2, 4]) torch.Size([8, 2, 4])\n",
      "torch.Size([8, 2, 4]) torch.Size([8, 2, 4])\n",
      "torch.Size([8, 2, 4]) torch.Size([8, 2, 4])\n",
      "tensor(0.2599, device='cuda:0', grad_fn=<DivBackward1>)\n",
      "torch.Size([8, 2, 4]) torch.Size([8, 2, 4])\n",
      "torch.Size([8, 2, 4]) torch.Size([8, 2, 4])\n",
      "torch.Size([8, 2, 4]) torch.Size([8, 2, 4])\n",
      "torch.Size([8, 2, 4]) torch.Size([8, 2, 4])\n",
      "torch.Size([8, 2, 4]) torch.Size([8, 2, 4])\n",
      "torch.Size([8, 2, 4]) torch.Size([8, 2, 4])\n",
      "torch.Size([8, 2, 4]) torch.Size([8, 2, 4])\n",
      "torch.Size([8, 2, 4]) torch.Size([8, 2, 4])\n",
      "torch.Size([8, 2, 4]) torch.Size([8, 2, 4])\n",
      "torch.Size([8, 2, 4]) torch.Size([8, 2, 4])\n",
      "tensor(0.2599, device='cuda:0', grad_fn=<DivBackward1>)\n",
      "torch.Size([8, 2, 4]) torch.Size([8, 2, 4])\n",
      "torch.Size([8, 2, 4]) torch.Size([8, 2, 4])\n",
      "torch.Size([8, 2, 4]) torch.Size([8, 2, 4])\n",
      "torch.Size([8, 2, 4]) torch.Size([8, 2, 4])\n",
      "torch.Size([8, 2, 4]) torch.Size([8, 2, 4])\n",
      "torch.Size([8, 2, 4]) torch.Size([8, 2, 4])\n",
      "torch.Size([8, 2, 4]) torch.Size([8, 2, 4])\n",
      "torch.Size([8, 2, 4]) torch.Size([8, 2, 4])\n",
      "torch.Size([8, 2, 4]) torch.Size([8, 2, 4])\n",
      "torch.Size([8, 2, 4]) torch.Size([8, 2, 4])\n",
      "tensor(0.2599, device='cuda:0', grad_fn=<DivBackward1>)\n",
      "torch.Size([8, 2, 4]) torch.Size([8, 2, 4])\n",
      "torch.Size([8, 2, 4]) torch.Size([8, 2, 4])\n",
      "torch.Size([8, 2, 4]) torch.Size([8, 2, 4])\n",
      "torch.Size([8, 2, 4]) torch.Size([8, 2, 4])\n",
      "torch.Size([8, 2, 4]) torch.Size([8, 2, 4])\n",
      "torch.Size([8, 2, 4]) torch.Size([8, 2, 4])\n",
      "torch.Size([8, 2, 4]) torch.Size([8, 2, 4])\n",
      "torch.Size([8, 2, 4]) torch.Size([8, 2, 4])\n",
      "torch.Size([8, 2, 4]) torch.Size([8, 2, 4])\n",
      "torch.Size([8, 2, 4]) torch.Size([8, 2, 4])\n",
      "tensor(0.2599, device='cuda:0', grad_fn=<DivBackward1>)\n",
      "torch.Size([8, 2, 4]) torch.Size([8, 2, 4])\n",
      "torch.Size([8, 2, 4]) torch.Size([8, 2, 4])\n",
      "torch.Size([8, 2, 4]) torch.Size([8, 2, 4])\n",
      "torch.Size([8, 2, 4]) torch.Size([8, 2, 4])\n",
      "torch.Size([8, 2, 4]) torch.Size([8, 2, 4])\n",
      "torch.Size([8, 2, 4]) torch.Size([8, 2, 4])\n",
      "torch.Size([8, 2, 4]) torch.Size([8, 2, 4])\n",
      "torch.Size([8, 2, 4]) torch.Size([8, 2, 4])\n",
      "torch.Size([8, 2, 4]) torch.Size([8, 2, 4])\n",
      "torch.Size([8, 2, 4]) torch.Size([8, 2, 4])\n",
      "tensor(0.2599, device='cuda:0', grad_fn=<DivBackward1>)\n",
      "torch.Size([8, 2, 4]) torch.Size([8, 2, 4])\n",
      "torch.Size([8, 2, 4]) torch.Size([8, 2, 4])\n",
      "torch.Size([8, 2, 4]) torch.Size([8, 2, 4])\n",
      "torch.Size([8, 2, 4]) torch.Size([8, 2, 4])\n",
      "torch.Size([8, 2, 4]) torch.Size([8, 2, 4])\n",
      "torch.Size([8, 2, 4]) torch.Size([8, 2, 4])\n",
      "torch.Size([8, 2, 4]) torch.Size([8, 2, 4])\n",
      "torch.Size([8, 2, 4]) torch.Size([8, 2, 4])\n",
      "torch.Size([8, 2, 4]) torch.Size([8, 2, 4])\n",
      "torch.Size([8, 2, 4]) torch.Size([8, 2, 4])\n",
      "tensor(0.2599, device='cuda:0', grad_fn=<DivBackward1>)\n",
      "torch.Size([8, 2, 4]) torch.Size([8, 2, 4])\n",
      "torch.Size([8, 2, 4]) torch.Size([8, 2, 4])\n",
      "torch.Size([8, 2, 4]) torch.Size([8, 2, 4])\n",
      "torch.Size([8, 2, 4]) torch.Size([8, 2, 4])\n",
      "torch.Size([8, 2, 4]) torch.Size([8, 2, 4])\n",
      "torch.Size([8, 2, 4]) torch.Size([8, 2, 4])\n",
      "torch.Size([8, 2, 4]) torch.Size([8, 2, 4])\n",
      "torch.Size([8, 2, 4]) torch.Size([8, 2, 4])\n",
      "torch.Size([8, 2, 4]) torch.Size([8, 2, 4])\n",
      "torch.Size([8, 2, 4]) torch.Size([8, 2, 4])\n",
      "tensor(0.2599, device='cuda:0', grad_fn=<DivBackward1>)\n",
      "torch.Size([8, 2, 4]) torch.Size([8, 2, 4])\n",
      "torch.Size([8, 2, 4]) torch.Size([8, 2, 4])\n",
      "torch.Size([8, 2, 4]) torch.Size([8, 2, 4])\n",
      "torch.Size([8, 2, 4]) torch.Size([8, 2, 4])\n",
      "torch.Size([8, 2, 4]) torch.Size([8, 2, 4])\n",
      "torch.Size([8, 2, 4]) torch.Size([8, 2, 4])\n",
      "torch.Size([8, 2, 4]) torch.Size([8, 2, 4])\n",
      "torch.Size([8, 2, 4]) torch.Size([8, 2, 4])\n",
      "torch.Size([8, 2, 4]) torch.Size([8, 2, 4])\n",
      "torch.Size([8, 2, 4]) torch.Size([8, 2, 4])\n",
      "tensor(0.2599, device='cuda:0', grad_fn=<DivBackward1>)\n",
      "torch.Size([8, 2, 4]) torch.Size([8, 2, 4])\n",
      "torch.Size([8, 2, 4]) torch.Size([8, 2, 4])\n",
      "torch.Size([8, 2, 4]) torch.Size([8, 2, 4])\n",
      "torch.Size([8, 2, 4]) torch.Size([8, 2, 4])\n",
      "torch.Size([8, 2, 4]) torch.Size([8, 2, 4])\n",
      "torch.Size([8, 2, 4]) torch.Size([8, 2, 4])\n",
      "torch.Size([8, 2, 4]) torch.Size([8, 2, 4])\n",
      "torch.Size([8, 2, 4]) torch.Size([8, 2, 4])\n",
      "torch.Size([8, 2, 4]) torch.Size([8, 2, 4])\n",
      "torch.Size([8, 2, 4]) torch.Size([8, 2, 4])\n",
      "tensor(0.2599, device='cuda:0', grad_fn=<DivBackward1>)\n",
      "torch.Size([8, 2, 4]) torch.Size([8, 2, 4])\n",
      "torch.Size([8, 2, 4]) torch.Size([8, 2, 4])\n",
      "torch.Size([8, 2, 4]) torch.Size([8, 2, 4])\n",
      "torch.Size([8, 2, 4]) torch.Size([8, 2, 4])\n",
      "torch.Size([8, 2, 4]) torch.Size([8, 2, 4])\n",
      "torch.Size([8, 2, 4]) torch.Size([8, 2, 4])\n",
      "torch.Size([8, 2, 4]) torch.Size([8, 2, 4])\n",
      "torch.Size([8, 2, 4]) torch.Size([8, 2, 4])\n",
      "torch.Size([8, 2, 4]) torch.Size([8, 2, 4])\n",
      "torch.Size([8, 2, 4]) torch.Size([8, 2, 4])\n",
      "tensor(0.2599, device='cuda:0', grad_fn=<DivBackward1>)\n",
      "torch.Size([8, 2, 4]) torch.Size([8, 2, 4])\n",
      "torch.Size([8, 2, 4]) torch.Size([8, 2, 4])\n",
      "torch.Size([8, 2, 4]) torch.Size([8, 2, 4])\n",
      "torch.Size([8, 2, 4]) torch.Size([8, 2, 4])\n",
      "torch.Size([8, 2, 4]) torch.Size([8, 2, 4])\n",
      "torch.Size([8, 2, 4]) torch.Size([8, 2, 4])\n",
      "torch.Size([8, 2, 4]) torch.Size([8, 2, 4])\n",
      "torch.Size([8, 2, 4]) torch.Size([8, 2, 4])\n",
      "torch.Size([8, 2, 4]) torch.Size([8, 2, 4])\n",
      "torch.Size([8, 2, 4]) torch.Size([8, 2, 4])\n",
      "tensor(0.2599, device='cuda:0', grad_fn=<DivBackward1>)\n",
      "torch.Size([8, 2, 4]) torch.Size([8, 2, 4])\n",
      "torch.Size([8, 2, 4]) torch.Size([8, 2, 4])\n",
      "torch.Size([8, 2, 4]) torch.Size([8, 2, 4])\n",
      "torch.Size([8, 2, 4]) torch.Size([8, 2, 4])\n",
      "torch.Size([8, 2, 4]) torch.Size([8, 2, 4])\n",
      "torch.Size([8, 2, 4]) torch.Size([8, 2, 4])\n",
      "torch.Size([8, 2, 4]) torch.Size([8, 2, 4])\n",
      "torch.Size([8, 2, 4]) torch.Size([8, 2, 4])\n",
      "torch.Size([8, 2, 4]) torch.Size([8, 2, 4])\n",
      "torch.Size([8, 2, 4]) torch.Size([8, 2, 4])\n",
      "tensor(0.2599, device='cuda:0', grad_fn=<DivBackward1>)\n",
      "torch.Size([8, 2, 4]) torch.Size([8, 2, 4])\n",
      "torch.Size([8, 2, 4]) torch.Size([8, 2, 4])\n",
      "torch.Size([8, 2, 4]) torch.Size([8, 2, 4])\n",
      "torch.Size([8, 2, 4]) torch.Size([8, 2, 4])\n",
      "torch.Size([8, 2, 4]) torch.Size([8, 2, 4])\n",
      "torch.Size([8, 2, 4]) torch.Size([8, 2, 4])\n",
      "torch.Size([8, 2, 4]) torch.Size([8, 2, 4])\n",
      "torch.Size([8, 2, 4]) torch.Size([8, 2, 4])\n",
      "torch.Size([8, 2, 4]) torch.Size([8, 2, 4])\n",
      "torch.Size([8, 2, 4]) torch.Size([8, 2, 4])\n",
      "tensor(0.2599, device='cuda:0', grad_fn=<DivBackward1>)\n",
      "torch.Size([8, 2, 4]) torch.Size([8, 2, 4])\n",
      "torch.Size([8, 2, 4]) torch.Size([8, 2, 4])\n",
      "torch.Size([8, 2, 4]) torch.Size([8, 2, 4])\n",
      "torch.Size([8, 2, 4]) torch.Size([8, 2, 4])\n",
      "torch.Size([8, 2, 4]) torch.Size([8, 2, 4])\n",
      "torch.Size([8, 2, 4]) torch.Size([8, 2, 4])\n",
      "torch.Size([8, 2, 4]) torch.Size([8, 2, 4])\n",
      "torch.Size([8, 2, 4]) torch.Size([8, 2, 4])\n",
      "torch.Size([8, 2, 4]) torch.Size([8, 2, 4])\n",
      "torch.Size([8, 2, 4]) torch.Size([8, 2, 4])\n",
      "tensor(0.2599, device='cuda:0', grad_fn=<DivBackward1>)\n",
      "torch.Size([8, 2, 4]) torch.Size([8, 2, 4])\n",
      "torch.Size([8, 2, 4]) torch.Size([8, 2, 4])\n",
      "torch.Size([8, 2, 4]) torch.Size([8, 2, 4])\n",
      "torch.Size([8, 2, 4]) torch.Size([8, 2, 4])\n",
      "torch.Size([8, 2, 4]) torch.Size([8, 2, 4])\n",
      "torch.Size([8, 2, 4]) torch.Size([8, 2, 4])\n",
      "torch.Size([8, 2, 4]) torch.Size([8, 2, 4])\n",
      "torch.Size([8, 2, 4]) torch.Size([8, 2, 4])\n",
      "torch.Size([8, 2, 4]) torch.Size([8, 2, 4])\n",
      "torch.Size([8, 2, 4]) torch.Size([8, 2, 4])\n",
      "tensor(0.2599, device='cuda:0', grad_fn=<DivBackward1>)\n",
      "torch.Size([8, 2, 4]) torch.Size([8, 2, 4])\n",
      "torch.Size([8, 2, 4]) torch.Size([8, 2, 4])\n",
      "torch.Size([8, 2, 4]) torch.Size([8, 2, 4])\n",
      "torch.Size([8, 2, 4]) torch.Size([8, 2, 4])\n",
      "torch.Size([8, 2, 4]) torch.Size([8, 2, 4])\n",
      "torch.Size([8, 2, 4]) torch.Size([8, 2, 4])\n",
      "torch.Size([8, 2, 4]) torch.Size([8, 2, 4])\n",
      "torch.Size([8, 2, 4]) torch.Size([8, 2, 4])\n",
      "torch.Size([8, 2, 4]) torch.Size([8, 2, 4])\n",
      "torch.Size([8, 2, 4]) torch.Size([8, 2, 4])\n",
      "tensor(0.2599, device='cuda:0', grad_fn=<DivBackward1>)\n",
      "torch.Size([8, 2, 4]) torch.Size([8, 2, 4])\n",
      "torch.Size([8, 2, 4]) torch.Size([8, 2, 4])\n",
      "torch.Size([8, 2, 4]) torch.Size([8, 2, 4])\n",
      "torch.Size([8, 2, 4]) torch.Size([8, 2, 4])\n",
      "torch.Size([8, 2, 4]) torch.Size([8, 2, 4])\n",
      "torch.Size([8, 2, 4]) torch.Size([8, 2, 4])\n",
      "torch.Size([8, 2, 4]) torch.Size([8, 2, 4])\n",
      "torch.Size([8, 2, 4]) torch.Size([8, 2, 4])\n",
      "torch.Size([8, 2, 4]) torch.Size([8, 2, 4])\n",
      "torch.Size([8, 2, 4]) torch.Size([8, 2, 4])\n",
      "tensor(0.2599, device='cuda:0', grad_fn=<DivBackward1>)\n",
      "torch.Size([8, 2, 4]) torch.Size([8, 2, 4])\n",
      "torch.Size([8, 2, 4]) torch.Size([8, 2, 4])\n",
      "torch.Size([8, 2, 4]) torch.Size([8, 2, 4])\n",
      "torch.Size([8, 2, 4]) torch.Size([8, 2, 4])\n",
      "torch.Size([8, 2, 4]) torch.Size([8, 2, 4])\n",
      "torch.Size([8, 2, 4]) torch.Size([8, 2, 4])\n",
      "torch.Size([8, 2, 4]) torch.Size([8, 2, 4])\n",
      "torch.Size([8, 2, 4]) torch.Size([8, 2, 4])\n",
      "torch.Size([8, 2, 4]) torch.Size([8, 2, 4])\n"
     ]
    }
   ],
   "source": [
    "for epoc in range(200):\n",
    "    ##1 output\n",
    "    hidden,_ = lstm(xx)\n",
    "    output = linr(hidden)\n",
    "    print(output.shape,yy.shape)\n",
    "    ##2 loss\n",
    "    loss = loss_fn(output,yy)\n",
    "    ##3\n",
    "    loss.backward()\n",
    "    if epoc % 10 == 0:\n",
    "        print(loss)\n",
    "    ##4\n",
    "    optimizer.step()\n",
    "    optimizer.zero_grad()"
   ]
  },
  {
   "cell_type": "code",
   "execution_count": 85,
   "metadata": {},
   "outputs": [
    {
     "data": {
      "text/plain": [
       "<matplotlib.image.AxesImage at 0x2591e692370>"
      ]
     },
     "execution_count": 85,
     "metadata": {},
     "output_type": "execute_result"
    },
    {
     "data": {
      "image/png": "[encoded data removed]",
      "text/plain": [
       "<Figure size 640x480 with 2 Axes>"
      ]
     },
     "metadata": {},
     "output_type": "display_data"
    }
   ],
   "source": [
    "import matplotlib.pyplot as plt\n",
    "soft = torch.nn.Softmax(dim=1)\n",
    "\n",
    "fig , ax = plt.subplots(1,2) \n",
    "ax[0].matshow(soft(output[:,0,:]).to(\"cpu\").data,cmap='bwr',vmin=-1,vmax=1)\n",
    "ax[1].matshow(soft(output[:,1,:]).to(\"cpu\").data,cmap='bwr',vmin=-1,vmax=1)"
   ]
  },
  {
   "cell_type": "code",
   "execution_count": 88,
   "metadata": {},
   "outputs": [
    {
     "data": {
      "text/plain": [
       "tensor([0, 0, 0, 0, 0, 0, 0, 0], device='cuda:0')"
      ]
     },
     "execution_count": 88,
     "metadata": {},
     "output_type": "execute_result"
    }
   ],
   "source": [
    "torch.argmax(soft(output[:,0,:]),dim=1)"
   ]
  }
 ],
 "metadata": {
  "kernelspec": {
   "display_name": "base",
   "language": "python",
   "name": "python3"
  },
  "language_info": {
   "codemirror_mode": {
    "name": "ipython",
    "version": 3
   },
   "file_extension": ".py",
   "mimetype": "text/x-python",
   "name": "python",
   "nbconvert_exporter": "python",
   "pygments_lexer": "ipython3",
   "version": "3.9.13"
  },
  "orig_nbformat": 4,
  "vscode": {
   "interpreter": {
    "hash": "0478b8cb1c47bafb71305148a49d30528a4d9c22ca2de336c01aa5a8230a459a"
   }
  }
 },
 "nbformat": 4,
 "nbformat_minor": 2
}
