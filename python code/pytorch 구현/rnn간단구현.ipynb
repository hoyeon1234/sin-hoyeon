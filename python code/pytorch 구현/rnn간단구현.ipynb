{
 "cells": [
  {
   "cell_type": "code",
   "execution_count": 167,
   "metadata": {},
   "outputs": [],
   "source": [
    "import pandas as pd \n",
    "import numpy as np\n",
    "import torch\n"
   ]
  },
  {
   "cell_type": "code",
   "execution_count": 168,
   "metadata": {},
   "outputs": [
    {
     "data": {
      "text/plain": [
       "torch.Size([600, 4])"
      ]
     },
     "execution_count": 168,
     "metadata": {},
     "output_type": "execute_result"
    }
   ],
   "source": [
    "txt = list(\"hi!hi?\")*100\n",
    "map_dict = {'!':0, '?':1, 'h':2, 'i':3} \n",
    "\n",
    "def mapping(txt,map_dict):\n",
    "    return [map_dict[chr]for chr in txt]\n",
    "txt_mapped = mapping(txt,map_dict)\n",
    "txt_mapped\n",
    "\n",
    "def onehot_encoding(txt_mapped):\n",
    "    seq_encoded = torch.nn.functional.one_hot(torch.tensor(txt_mapped))\n",
    "    return seq_encoded.float()\n",
    "sequence_data = onehot_encoding(txt_mapped)\n",
    "sequence_data.shape"
   ]
  },
  {
   "cell_type": "code",
   "execution_count": 169,
   "metadata": {},
   "outputs": [
    {
     "data": {
      "text/plain": [
       "600"
      ]
     },
     "execution_count": 169,
     "metadata": {},
     "output_type": "execute_result"
    }
   ],
   "source": [
    "len(sequence_data)"
   ]
  },
  {
   "cell_type": "code",
   "execution_count": 170,
   "metadata": {},
   "outputs": [],
   "source": [
    "def create_seqdataset(seq_data,seq_length):\n",
    "    #x = seq_data[:-1]\n",
    "    #y = seq_data[1:]\n",
    "    seqs_x = []\n",
    "    seqs_y = []\n",
    "    for idx in range(0,len(seq_data)-seq_length):\n",
    "        seqs_x.append(seq_data[idx:idx+seq_length])\n",
    "        seqs_y.append(seq_data[idx+seq_length])\n",
    "    return torch.stack(seqs_x),torch.stack(seqs_y)\n",
    "    #return seq_x,seq_y\n",
    "\n",
    "x_data,y_data = create_seqdataset(sequence_data,12)"
   ]
  },
  {
   "attachments": {},
   "cell_type": "markdown",
   "metadata": {},
   "source": [
    "hi!hi i!hi! !hi!h hi!"
   ]
  },
  {
   "cell_type": "code",
   "execution_count": 171,
   "metadata": {},
   "outputs": [
    {
     "data": {
      "text/plain": [
       "(torch.Size([588, 12, 4]), torch.Size([588, 4]))"
      ]
     },
     "execution_count": 171,
     "metadata": {},
     "output_type": "execute_result"
    }
   ],
   "source": [
    "x_data.shape,y_data.shape"
   ]
  },
  {
   "cell_type": "code",
   "execution_count": 172,
   "metadata": {},
   "outputs": [
    {
     "data": {
      "text/plain": [
       "tensor([2, 3, 0, 2, 3, 1, 2, 3, 0, 2, 3, 1, 2, 3, 0, 2, 3, 1, 2, 3, 0, 2, 3, 1,\n",
       "        2, 3, 0, 2, 3, 1, 2, 3, 0, 2, 3, 1, 2, 3, 0, 2, 3, 1, 2, 3, 0, 2, 3, 1,\n",
       "        2, 3, 0, 2, 3, 1, 2, 3, 0, 2, 3, 1, 2, 3, 0, 2, 3, 1, 2, 3, 0, 2, 3, 1,\n",
       "        2, 3, 0, 2, 3, 1, 2, 3, 0, 2, 3, 1, 2, 3, 0, 2, 3, 1, 2, 3, 0, 2, 3, 1,\n",
       "        2, 3, 0, 2, 3, 1, 2, 3, 0, 2, 3, 1, 2, 3, 0, 2, 3, 1, 2, 3, 0, 2, 3, 1,\n",
       "        2, 3, 0, 2, 3, 1, 2, 3, 0, 2, 3, 1, 2, 3, 0, 2, 3, 1, 2, 3, 0, 2, 3, 1,\n",
       "        2, 3, 0, 2, 3, 1, 2, 3, 0, 2, 3, 1, 2, 3, 0, 2, 3, 1, 2, 3, 0, 2, 3, 1,\n",
       "        2, 3, 0, 2, 3, 1, 2, 3, 0, 2, 3, 1, 2, 3, 0, 2, 3, 1, 2, 3, 0, 2, 3, 1,\n",
       "        2, 3, 0, 2, 3, 1, 2, 3, 0, 2, 3, 1, 2, 3, 0, 2, 3, 1, 2, 3, 0, 2, 3, 1,\n",
       "        2, 3, 0, 2, 3, 1, 2, 3, 0, 2, 3, 1, 2, 3, 0, 2, 3, 1, 2, 3, 0, 2, 3, 1,\n",
       "        2, 3, 0, 2, 3, 1, 2, 3, 0, 2, 3, 1, 2, 3, 0, 2, 3, 1, 2, 3, 0, 2, 3, 1,\n",
       "        2, 3, 0, 2, 3, 1, 2, 3, 0, 2, 3, 1, 2, 3, 0, 2, 3, 1, 2, 3, 0, 2, 3, 1,\n",
       "        2, 3, 0, 2, 3, 1, 2, 3, 0, 2, 3, 1, 2, 3, 0, 2, 3, 1, 2, 3, 0, 2, 3, 1,\n",
       "        2, 3, 0, 2, 3, 1, 2, 3, 0, 2, 3, 1, 2, 3, 0, 2, 3, 1, 2, 3, 0, 2, 3, 1,\n",
       "        2, 3, 0, 2, 3, 1, 2, 3, 0, 2, 3, 1, 2, 3, 0, 2, 3, 1, 2, 3, 0, 2, 3, 1,\n",
       "        2, 3, 0, 2, 3, 1, 2, 3, 0, 2, 3, 1, 2, 3, 0, 2, 3, 1, 2, 3, 0, 2, 3, 1,\n",
       "        2, 3, 0, 2, 3, 1, 2, 3, 0, 2, 3, 1, 2, 3, 0, 2, 3, 1, 2, 3, 0, 2, 3, 1,\n",
       "        2, 3, 0, 2, 3, 1, 2, 3, 0, 2, 3, 1, 2, 3, 0, 2, 3, 1, 2, 3, 0, 2, 3, 1,\n",
       "        2, 3, 0, 2, 3, 1, 2, 3, 0, 2, 3, 1, 2, 3, 0, 2, 3, 1, 2, 3, 0, 2, 3, 1,\n",
       "        2, 3, 0, 2, 3, 1, 2, 3, 0, 2, 3, 1, 2, 3, 0, 2, 3, 1, 2, 3, 0, 2, 3, 1,\n",
       "        2, 3, 0, 2, 3, 1, 2, 3, 0, 2, 3, 1, 2, 3, 0, 2, 3, 1, 2, 3, 0, 2, 3, 1,\n",
       "        2, 3, 0, 2, 3, 1, 2, 3, 0, 2, 3, 1, 2, 3, 0, 2, 3, 1, 2, 3, 0, 2, 3, 1,\n",
       "        2, 3, 0, 2, 3, 1, 2, 3, 0, 2, 3, 1, 2, 3, 0, 2, 3, 1, 2, 3, 0, 2, 3, 1,\n",
       "        2, 3, 0, 2, 3, 1, 2, 3, 0, 2, 3, 1, 2, 3, 0, 2, 3, 1, 2, 3, 0, 2, 3, 1,\n",
       "        2, 3, 0, 2, 3, 1, 2, 3, 0, 2, 3, 1])"
      ]
     },
     "execution_count": 172,
     "metadata": {},
     "output_type": "execute_result"
    }
   ],
   "source": [
    "torch.argmax(y_data,dim=1)"
   ]
  },
  {
   "cell_type": "code",
   "execution_count": 173,
   "metadata": {},
   "outputs": [],
   "source": [
    "ds = torch.utils.data.TensorDataset(x_data,y_data)\n",
    "dl = torch.utils.data.DataLoader(ds,batch_size=3,drop_last=True)"
   ]
  },
  {
   "cell_type": "code",
   "execution_count": 174,
   "metadata": {},
   "outputs": [
    {
     "data": {
      "text/plain": [
       "torch.Size([588, 4])"
      ]
     },
     "execution_count": 174,
     "metadata": {},
     "output_type": "execute_result"
    }
   ],
   "source": [
    "y_data.shape"
   ]
  },
  {
   "attachments": {},
   "cell_type": "markdown",
   "metadata": {},
   "source": [
    "우리가 원하는 input.shape = $(L,N,H_{in}) = (3,3,4)$ or input.shape = $(N,L,H_{in}) = (3,3,4)$"
   ]
  },
  {
   "cell_type": "code",
   "execution_count": 175,
   "metadata": {},
   "outputs": [],
   "source": [
    "torch.manual_seed(2017)\n",
    "rnn = torch.nn.RNN(4,20,batch_first = True)\n",
    "linr = torch.nn.Linear(20,4)\n",
    "loss_fn = torch.nn.CrossEntropyLoss()\n",
    "optimizer = torch.optim.Adam(list(rnn.parameters())+list(linr.parameters()),lr=1e-3)"
   ]
  },
  {
   "cell_type": "code",
   "execution_count": 176,
   "metadata": {},
   "outputs": [
    {
     "name": "stdout",
     "output_type": "stream",
     "text": [
      "0 tensor(0.2825, grad_fn=<DivBackward1>)\n",
      "10 tensor(0.0023, grad_fn=<DivBackward1>)\n",
      "20 tensor(0.0005, grad_fn=<DivBackward1>)\n",
      "30 tensor(0.0001, grad_fn=<DivBackward1>)\n",
      "40 tensor(4.5616e-05, grad_fn=<DivBackward1>)\n"
     ]
    }
   ],
   "source": [
    "for epoch in range(50):\n",
    "    for tr_x,tr_y in dl:\n",
    "        #1 output\n",
    "        hidden,hT = rnn(tr_x)\n",
    "        output = linr(hT[-1])\n",
    "        #print(output.shape,tr_y.shape)\n",
    "        #print(tr_x,tr_y)\n",
    "        #2 loss\n",
    "        loss = loss_fn(output,tr_y)\n",
    "        #3 derivative\n",
    "        loss.backward()\n",
    "        #4 update & clean\n",
    "        optimizer.step()\n",
    "        optimizer.zero_grad()\n",
    "    if epoch % 10 == 0:\n",
    "        print(epoch,loss)"
   ]
  },
  {
   "attachments": {},
   "cell_type": "markdown",
   "metadata": {},
   "source": [
    "```Python\n",
    "0 tensor(0.2452, grad_fn=<DivBackward1>)\n",
    "10 tensor(0.0008, grad_fn=<DivBackward1>)\n",
    "20 tensor(0.0002, grad_fn=<DivBackward1>)\n",
    "30 tensor(6.0834e-05, grad_fn=<DivBackward1>)\n",
    "40 tensor(2.1735e-05, grad_fn=<DivBackward1>)\n",
    "50 tensor(8.0267e-06, grad_fn=<DivBackward1>)\n",
    "60 tensor(2.9405e-06, grad_fn=<DivBackward1>)\n",
    "70 tensor(1.1126e-06, grad_fn=<DivBackward1>)\n",
    "80 tensor(4.3710e-07, grad_fn=<DivBackward1>)\n",
    "90 tensor(1.5895e-07, grad_fn=<DivBackward1>)\n",
    "```"
   ]
  },
  {
   "cell_type": "code",
   "execution_count": 177,
   "metadata": {},
   "outputs": [
    {
     "data": {
      "text/plain": [
       "<matplotlib.image.AxesImage at 0x1f48e7ecb80>"
      ]
     },
     "execution_count": 177,
     "metadata": {},
     "output_type": "execute_result"
    },
    {
     "data": {
      "image/png": "[encoded data removed]",
      "text/plain": [
       "<Figure size 400x1600 with 1 Axes>"
      ]
     },
     "metadata": {},
     "output_type": "display_data"
    }
   ],
   "source": [
    "import matplotlib.pyplot as plt\n",
    "soft = torch.nn.Softmax(dim=1)\n",
    "hidden,hT = rnn(x_data)\n",
    "torch.argmax(linr(hT[:,:,:])[0],dim=1)\n",
    "plt.matshow(linr(hT[:,:,:])[0].data[-50:],cmap=\"bwr\",vmin=-1,vmax=1)"
   ]
  }
 ],
 "metadata": {
  "kernelspec": {
   "display_name": "base",
   "language": "python",
   "name": "python3"
  },
  "language_info": {
   "codemirror_mode": {
    "name": "ipython",
    "version": 3
   },
   "file_extension": ".py",
   "mimetype": "text/x-python",
   "name": "python",
   "nbconvert_exporter": "python",
   "pygments_lexer": "ipython3",
   "version": "3.9.13 (main, Aug 25 2022, 23:51:50) [MSC v.1916 64 bit (AMD64)]"
  },
  "orig_nbformat": 4,
  "vscode": {
   "interpreter": {
    "hash": "0478b8cb1c47bafb71305148a49d30528a4d9c22ca2de336c01aa5a8230a459a"
   }
  }
 },
 "nbformat": 4,
 "nbformat_minor": 2
}
